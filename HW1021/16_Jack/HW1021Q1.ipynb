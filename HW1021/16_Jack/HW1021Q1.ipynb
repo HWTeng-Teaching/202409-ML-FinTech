{
 "cells": [
  {
   "cell_type": "markdown",
   "id": "e40b3637-f10f-49ad-960d-c93226059bfa",
   "metadata": {},
   "source": [
    "# HW1021Q1 CH04Q01"
   ]
  },
  {
   "cell_type": "markdown",
   "id": "b8cbee90-722c-4c51-a507-55be0d70668c",
   "metadata": {},
   "source": [
    "### 1. Using a little bit of algebra, prove that (4.2) is equivalent to (4.3). In other words, the logistic function representation and logit represen\u0002tation for the logistic regression model are equivalent."
   ]
  },
  {
   "cell_type": "markdown",
   "id": "a23e8f1e-57c9-4939-809b-b08ae786d8f0",
   "metadata": {},
   "source": [
    "$ 1 - p(X) = 1 - \\frac{e^{\\beta_0 + \\beta_1 X}}{1 + e^{\\beta_0 + \\beta_1 X}} = \\frac{1 + e^{\\beta_0 + \\beta_1 X} - e^{\\beta_0 + \\beta_1 X}}{1 + e^{\\beta_0 + \\beta_1 X}} = \\frac{1}{1 + e^{\\beta_0 + \\beta_1 X}}$ "
   ]
  },
  {
   "cell_type": "markdown",
   "id": "bb3b88c8-4057-4fc0-9134-41b1d2c911ae",
   "metadata": {},
   "source": [
    "$ \\frac{p(X)}{1 - p(X)} = \\frac{\\frac{e^{\\beta_0 + \\beta_1 X}}{1 + e^{\\beta_0 + \\beta_1 X}}}{\\frac{1}{1 + e^{\\beta_0 + \\beta_1 X}}} = \\frac{e^{\\beta_0 + \\beta_1 X}}{1} = e^{\\beta_0 + \\beta_1 X} $"
   ]
  },
  {
   "cell_type": "code",
   "execution_count": null,
   "id": "324094ed-ad77-456e-ab67-b4a416a32aa0",
   "metadata": {},
   "outputs": [],
   "source": []
  }
 ],
 "metadata": {
  "kernelspec": {
   "display_name": "Python 3 (ipykernel)",
   "language": "python",
   "name": "python3"
  },
  "language_info": {
   "codemirror_mode": {
    "name": "ipython",
    "version": 3
   },
   "file_extension": ".py",
   "mimetype": "text/x-python",
   "name": "python",
   "nbconvert_exporter": "python",
   "pygments_lexer": "ipython3",
   "version": "3.12.4"
  }
 },
 "nbformat": 4,
 "nbformat_minor": 5
}
