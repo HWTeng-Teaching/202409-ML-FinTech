{
 "cells": [
  {
   "cell_type": "markdown",
   "id": "e40b3637-f10f-49ad-960d-c93226059bfa",
   "metadata": {},
   "source": [
    "# HW1021Q2 CH04Q09"
   ]
  },
  {
   "cell_type": "markdown",
   "id": "b8cbee90-722c-4c51-a507-55be0d70668c",
   "metadata": {},
   "source": [
    "### 9. This problem has to do with odds."
   ]
  },
  {
   "cell_type": "markdown",
   "id": "a23e8f1e-57c9-4939-809b-b08ae786d8f0",
   "metadata": {},
   "source": [
    "##### (a) On average, what fraction of people with an odds of 0.37 of defaulting on their credit card payment will in fact default?"
   ]
  },
  {
   "cell_type": "markdown",
   "id": "bb3b88c8-4057-4fc0-9134-41b1d2c911ae",
   "metadata": {},
   "source": [
    "$ 0.37 = \\frac {p}{1-p} $"
   ]
  },
  {
   "cell_type": "markdown",
   "id": "b662e777-b302-49f0-b59f-b545f4dcd621",
   "metadata": {},
   "source": [
    "$ 0.37(1-p) = p $"
   ]
  },
  {
   "cell_type": "markdown",
   "id": "9ef56ce5-f26f-46c4-8ac0-6ab5f2fb420d",
   "metadata": {},
   "source": [
    "$ 0.37 - 0.37p = p $"
   ]
  },
  {
   "cell_type": "markdown",
   "id": "d0c0e5ff-05a5-4002-879d-efb66dfd9c8c",
   "metadata": {},
   "source": [
    "$ 0.37 = 1.37p $"
   ]
  },
  {
   "cell_type": "markdown",
   "id": "80cab053-dfc0-4829-b7de-be257835f75d",
   "metadata": {},
   "source": [
    "$ p = \\frac{0.37}{1.37} = 0.270... \\approx 0.27 $"
   ]
  },
  {
   "cell_type": "markdown",
   "id": "2c8bb949-c84f-442e-bb1a-a0c5723931f1",
   "metadata": {},
   "source": [
    "##### (b) Suppose that an individual has a 16 % chance of defaulting on her credit card payment. What are the odds that she will default?"
   ]
  },
  {
   "cell_type": "markdown",
   "id": "d9606e85-487f-4dc4-98cb-a652f42b78f6",
   "metadata": {},
   "source": [
    "$ odds = \\frac{0.16}{1-0.16} = \\frac{0.16}{0.84} = 0.190... \\approx 0.19 $"
   ]
  },
  {
   "cell_type": "code",
   "execution_count": null,
   "id": "ad8438c3-622d-4f53-958b-74f9e127a333",
   "metadata": {},
   "outputs": [],
   "source": []
  }
 ],
 "metadata": {
  "kernelspec": {
   "display_name": "Python 3 (ipykernel)",
   "language": "python",
   "name": "python3"
  },
  "language_info": {
   "codemirror_mode": {
    "name": "ipython",
    "version": 3
   },
   "file_extension": ".py",
   "mimetype": "text/x-python",
   "name": "python",
   "nbconvert_exporter": "python",
   "pygments_lexer": "ipython3",
   "version": "3.12.4"
  }
 },
 "nbformat": 4,
 "nbformat_minor": 5
}
