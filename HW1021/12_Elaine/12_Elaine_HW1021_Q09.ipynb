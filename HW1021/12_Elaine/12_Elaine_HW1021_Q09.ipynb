{
 "cells": [
  {
   "cell_type": "markdown",
   "id": "fd2729bb-5556-4bfe-a15d-93323ea5175e",
   "metadata": {},
   "source": [
    "## CH04 Q09"
   ]
  },
  {
   "cell_type": "markdown",
   "id": "2a2cd77f-75fb-4148-a8ae-cafe87dc9ae4",
   "metadata": {},
   "source": [
    "## This problem has to do with odds.\n",
    "## (a) On average, what fraction of people with an odds of 0.37 of defaulting on their credit card payment will in fact default?\n",
    "- default=1；non-default=0"
   ]
  },
  {
   "cell_type": "code",
   "execution_count": 15,
   "id": "8cb30871-d829-423d-a861-143d751bae19",
   "metadata": {},
   "outputs": [
    {
     "name": "stdout",
     "output_type": "stream",
     "text": [
      "p(default) = 0.2701\n"
     ]
    }
   ],
   "source": [
    "# odds=p(default)/(1-p(default))\n",
    "#Let p(default)=x \n",
    "from sympy import symbols, Eq, solve\n",
    "import numpy as np\n",
    "x = symbols('x')\n",
    "odds=0.37\n",
    "equation = Eq(x/(1-x), odds)\n",
    "\n",
    "solution = solve(equation, x)\n",
    "\n",
    "print(f\"p(default) = {round(solution[0],4)}\")"
   ]
  },
  {
   "cell_type": "markdown",
   "id": "a42e0f73-bf10-4b63-a99a-08e0744953e7",
   "metadata": {},
   "source": [
    "## (b) Suppose that an individual has a 16 % chance of defaulting on her credit card payment. What are the odds that she will de\u0002fault?\n"
   ]
  },
  {
   "cell_type": "code",
   "execution_count": 17,
   "id": "4ef364f6-8bc1-4350-975a-46d8d6e889f5",
   "metadata": {},
   "outputs": [
    {
     "name": "stdout",
     "output_type": "stream",
     "text": [
      "odds = 0.1905\n"
     ]
    }
   ],
   "source": [
    "default=0.16\n",
    "# odds=p(default)/(1-p(default))\n",
    "odds_2=default/(1-default)\n",
    "print(f\"odds = {round(odds_2,4)}\")"
   ]
  },
  {
   "cell_type": "code",
   "execution_count": null,
   "id": "4e57bfc0-2aa6-46a9-a805-f0f11315186f",
   "metadata": {},
   "outputs": [],
   "source": []
  }
 ],
 "metadata": {
  "kernelspec": {
   "display_name": "Python 3 (ipykernel)",
   "language": "python",
   "name": "python3"
  },
  "language_info": {
   "codemirror_mode": {
    "name": "ipython",
    "version": 3
   },
   "file_extension": ".py",
   "mimetype": "text/x-python",
   "name": "python",
   "nbconvert_exporter": "python",
   "pygments_lexer": "ipython3",
   "version": "3.12.4"
  }
 },
 "nbformat": 4,
 "nbformat_minor": 5
}
