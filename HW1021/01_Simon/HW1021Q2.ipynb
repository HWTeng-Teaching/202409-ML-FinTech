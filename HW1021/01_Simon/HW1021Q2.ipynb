{
  "nbformat": 4,
  "nbformat_minor": 0,
  "metadata": {
    "colab": {
      "provenance": []
    },
    "kernelspec": {
      "name": "python3",
      "display_name": "Python 3"
    },
    "language_info": {
      "name": "python"
    }
  },
  "cells": [
    {
      "cell_type": "markdown",
      "source": [
        "9. This problem has to do with odds.\n",
        "\n",
        "  (a) On average, what fraction of people with an odds of 0.37 of defaulting on their credit card payment will in fact default?\n",
        "\n",
        "  (b) Suppose that an individual has a 16 % chance of defaulting on her credit card payment. What are the odds that she will default?"
      ],
      "metadata": {
        "id": "zgyUfEsRlvVc"
      }
    },
    {
      "cell_type": "markdown",
      "source": [
        "(a)\n",
        "\n",
        "$odds = {p(default) \\over p(not\\ default)} = 0.37$\n",
        "\n",
        "$let\\ p(default) = x:$\n",
        "\n",
        "${x \\over 1-x} = 0.37$\n",
        "\n",
        "$ x = 0.37 - 0.37x$\n",
        "\n",
        "$1.37x = 0.37$\n",
        "\n",
        "$p(default)\\ =\\ x\\ =\\ 0.27$\n",
        "\n",
        "On average, 27% people with an odds of 0.37 of defaulting on their credit card payment will in fact default."
      ],
      "metadata": {
        "id": "9bbMvAmxmoVI"
      }
    },
    {
      "cell_type": "markdown",
      "source": [
        "(b)\n",
        "\n",
        "${p(default) \\over (p(not\\ default) + p(default))} = p(default) / 1 = 0.16$\n",
        "\n",
        "$p(not\\ default) = 1 - 0.16 = 0.84$\n",
        "\n",
        "$odds_{default} = {p(default) \\over p(not\\ default)} = {0.16 \\over 0.84} = 0.190$\n",
        "\n"
      ],
      "metadata": {
        "id": "GrrQSKNCmqyD"
      }
    }
  ]
}