{
  "nbformat": 4,
  "nbformat_minor": 0,
  "metadata": {
    "colab": {
      "provenance": []
    },
    "kernelspec": {
      "name": "python3",
      "display_name": "Python 3"
    },
    "language_info": {
      "name": "python"
    }
  },
  "cells": [
    {
      "cell_type": "markdown",
      "source": [
        "1. Using a little bit of algebra, prove that (4.2) is equivalent to (4.3). In\n",
        "other words, the logistic function representation and logit representation\n",
        "for the logistic regression model are equivalent."
      ],
      "metadata": {
        "id": "BWx-73461PLg"
      }
    },
    {
      "cell_type": "markdown",
      "source": [
        "Proof:\n",
        "\n",
        "$p(X) = {e^{\\ \\beta_0+\\beta_1X} \\over 1\\ +\\ e^{\\ \\beta_0+\\beta_1X}}$\n",
        "\n",
        "$1 - p(X) = {1\\ +\\ e^{\\ \\beta_0+\\beta_1X} \\over 1+\\ e^{\\ \\beta_0+\\beta_1X}} - {e^{\\ \\beta_0+\\beta_1X} \\over 1\\ +\\ e^{\\ \\beta_0+\\beta_1X}}\\ = {1 \\over 1+\\ e^{\\ \\beta_0+\\beta_1X}}$\n",
        "\n",
        "\n",
        "\n",
        "${p(X) \\over 1-p(X)}\\ =\\ {e^{\\ \\beta_0+\\beta_1X} \\over 1\\ +\\ e^{\\ \\beta_0+\\beta_1X}} ×\\ {(1+\\ e^{\\ \\beta_0+\\beta_1X})}\\ =\\ {e^{\\ \\beta_0+\\beta_1X}}$\n",
        "\n",
        "$\\therefore\\ {p(X) \\over 1-p(X)}\\ =\\ {e^{\\ \\beta_0+\\beta_1X}}$\n"
      ],
      "metadata": {
        "id": "SKLJGemh1ZVO"
      }
    }
  ]
}