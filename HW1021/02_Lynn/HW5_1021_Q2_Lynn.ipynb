{
  "nbformat": 4,
  "nbformat_minor": 0,
  "metadata": {
    "colab": {
      "provenance": []
    },
    "kernelspec": {
      "name": "python3",
      "display_name": "Python 3"
    },
    "language_info": {
      "name": "python"
    }
  },
  "cells": [
    {
      "cell_type": "markdown",
      "source": [
        "## Chapter 4, Question 9"
      ],
      "metadata": {
        "id": "C3P-SJIRmq_3"
      }
    },
    {
      "cell_type": "markdown",
      "source": [
        "### This problem has to do with odds."
      ],
      "metadata": {
        "id": "BrJ6P8U8mump"
      }
    },
    {
      "cell_type": "markdown",
      "source": [
        "### (a) On average, what fraction of people with an odds of 0.37 of defaulting on their credit card payment will in fact default?"
      ],
      "metadata": {
        "id": "P2afGqmKmybG"
      }
    },
    {
      "cell_type": "code",
      "execution_count": 3,
      "metadata": {
        "colab": {
          "base_uri": "https://localhost:8080/"
        },
        "id": "xG0dTfpMZOaf",
        "outputId": "ad8fa14d-62d3-4837-c294-01383828ab9f"
      },
      "outputs": [
        {
          "output_type": "stream",
          "name": "stdout",
          "text": [
            "The fraction of people who will default is: 0.2701\n"
          ]
        }
      ],
      "source": [
        "def fraction_default(odds):\n",
        "  \"\"\"Calculates the fraction of people who will default given the odds of defaulting.\n",
        "  Args:\n",
        "    odds: The odds of defaulting.\n",
        "\n",
        "  Returns:\n",
        "    The fraction of people who will default.\n",
        "  \"\"\"\n",
        "  probability = odds / (1 + odds)\n",
        "  return probability\n",
        "\n",
        "odds_of_default = 0.37\n",
        "fraction = round(fraction_default(odds_of_default), 4)\n",
        "print(f\"The fraction of people who will default is: {fraction}\")"
      ]
    },
    {
      "cell_type": "markdown",
      "source": [
        "### (b) Suppose that an individual has a 16 % chance of defaulting on her credit card payment. What are the odds that she will default?"
      ],
      "metadata": {
        "id": "5m8hp1IknFl_"
      }
    },
    {
      "cell_type": "code",
      "source": [
        "def odds_from_probability(probability):\n",
        "  \"\"\"Calculates the odds of an event given its probability.\n",
        "  Args:\n",
        "    probability: The probability of the event.\n",
        "\n",
        "  Returns:\n",
        "    The odds of the event.\n",
        "  \"\"\"\n",
        "  odds = probability / (1 - probability)\n",
        "  return odds\n",
        "\n",
        "probability_of_default = 0.16\n",
        "odds = round(odds_from_probability(probability_of_default), 4)\n",
        "print(f\"The odds that she will default are: {odds}\")"
      ],
      "metadata": {
        "colab": {
          "base_uri": "https://localhost:8080/"
        },
        "id": "02mkOsgKnc35",
        "outputId": "0338b676-1d3d-4125-ecc6-dc1456714652"
      },
      "execution_count": 4,
      "outputs": [
        {
          "output_type": "stream",
          "name": "stdout",
          "text": [
            "The odds that she will default are: 0.1905\n"
          ]
        }
      ]
    }
  ]
}