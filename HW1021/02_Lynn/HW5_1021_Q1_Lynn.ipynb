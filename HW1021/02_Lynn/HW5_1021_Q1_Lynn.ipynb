{
  "nbformat": 4,
  "nbformat_minor": 0,
  "metadata": {
    "colab": {
      "provenance": []
    },
    "kernelspec": {
      "name": "python3",
      "display_name": "Python 3"
    },
    "language_info": {
      "name": "python"
    }
  },
  "cells": [
    {
      "cell_type": "markdown",
      "source": [
        "## Chapter 4, Question 1"
      ],
      "metadata": {
        "id": "M2sKygrBZb3d"
      }
    },
    {
      "cell_type": "markdown",
      "source": [
        "### Using a little bit of algebra, prove that (4.2) is equivalent to (4.3). In other words, the logistic function representation and logit representation for the logistic regression model are equivalent."
      ],
      "metadata": {
        "id": "OduCLXEYZhX5"
      }
    },
    {
      "cell_type": "markdown",
      "source": [
        "### Formula 4.2:\n",
        "$$\n",
        "p(X) = \\frac{e^{\\beta_0 + \\beta_1 X}}{1 + e^{\\beta_0 + \\beta_1 X}}     \n",
        "$$"
      ],
      "metadata": {
        "id": "W9JpU0OkZmSR"
      }
    },
    {
      "cell_type": "markdown",
      "source": [
        "### Formula 4.3:\n",
        "$$\n",
        "\\frac{p(X)}{1 - p(X)} = e^{\\beta_0 + \\beta_1 X}\n",
        "$$"
      ],
      "metadata": {
        "id": "b9HUNcnfcnpY"
      }
    },
    {
      "cell_type": "markdown",
      "source": [
        "###Proof:\n",
        "Step 1: start from equation 4.2\n",
        "$$\n",
        "p(X) = \\frac{\\exp(\\beta_0 + \\beta_1 X)}{1 + \\exp(\\beta_0 + \\beta_1 X)}\n",
        "$$\n",
        "\n",
        "Step 2: Divide both the numerator and denominator by **exp(𝛽0+𝛽1𝑋)**\n",
        "$$\n",
        "p(X) = \\frac{1}{\\exp(-(\\beta_0 + \\beta_1 X)) + 1}\n",
        "$$\n",
        "\n",
        "Step 3: Subtract 𝑝(𝑋) from both sides and rearrange\n",
        "$$\n",
        "1 - p(X) = \\frac{\\exp(-(\\beta_0 + \\beta_1 X))}{\\exp(-(\\beta_0 + \\beta_1 X)) + 1}\n",
        "$$\n",
        "\n",
        "Step 4: Now divide 𝑝(𝑋) by 1−𝑝(𝑋)\n",
        "$$\n",
        "\\frac{p(X)}{1 - p(X)} = \\frac{\\frac{1}{\\exp(-(\\beta_0 + \\beta_1 X)) + 1}}{\\frac{\\exp(-(\\beta_0 + \\beta_1 X))}{\\exp(-(\\beta_0 + \\beta_1 X)) + 1}}\n",
        "$$\n",
        "\n",
        "Step 5:Simplify\n",
        "$$\n",
        "\\frac{p(X)}{1 - p(X)} = \\frac{1}{\\exp(-(\\beta_0 + \\beta_1 X))} = \\exp(\\beta_0 + \\beta_1 X)\n",
        "$$\n",
        "\n",
        "\n",
        "This final step is equation 4.3, thus proving the equivalence.\n"
      ],
      "metadata": {
        "id": "pVQJtguhdDVO"
      }
    }
  ]
}