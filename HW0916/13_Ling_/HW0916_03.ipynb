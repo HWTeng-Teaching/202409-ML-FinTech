{
 "cells": [
  {
   "cell_type": "markdown",
   "id": "7c2eae29",
   "metadata": {},
   "source": [
    "# HW0916_03"
   ]
  },
  {
   "cell_type": "markdown",
   "id": "598ae055",
   "metadata": {},
   "source": [
    "## (a) Find the mean and standard deviation of returns of these five stocks."
   ]
  },
  {
   "cell_type": "code",
   "execution_count": 27,
   "id": "7027a9f8",
   "metadata": {},
   "outputs": [
    {
     "data": {
      "text/html": [
       "<div>\n",
       "<style scoped>\n",
       "    .dataframe tbody tr th:only-of-type {\n",
       "        vertical-align: middle;\n",
       "    }\n",
       "\n",
       "    .dataframe tbody tr th {\n",
       "        vertical-align: top;\n",
       "    }\n",
       "\n",
       "    .dataframe thead th {\n",
       "        text-align: right;\n",
       "    }\n",
       "</style>\n",
       "<table border=\"1\" class=\"dataframe\">\n",
       "  <thead>\n",
       "    <tr style=\"text-align: right;\">\n",
       "      <th></th>\n",
       "      <th>Date</th>\n",
       "      <th>FB</th>\n",
       "      <th>GOOG</th>\n",
       "      <th>NFLX</th>\n",
       "      <th>AMZN</th>\n",
       "      <th>AAPL</th>\n",
       "      <th>FB.1</th>\n",
       "      <th>GOOG.1</th>\n",
       "      <th>NFLX.1</th>\n",
       "      <th>AMZN.1</th>\n",
       "      <th>AAPL.1</th>\n",
       "    </tr>\n",
       "  </thead>\n",
       "  <tbody>\n",
       "    <tr>\n",
       "      <th>0</th>\n",
       "      <td>2018/9/24</td>\n",
       "      <td>165.410004</td>\n",
       "      <td>1173.369995</td>\n",
       "      <td>369.609985</td>\n",
       "      <td>1934.359985</td>\n",
       "      <td>220.789993</td>\n",
       "      <td>NaN</td>\n",
       "      <td>NaN</td>\n",
       "      <td>NaN</td>\n",
       "      <td>NaN</td>\n",
       "      <td>NaN</td>\n",
       "    </tr>\n",
       "    <tr>\n",
       "      <th>1</th>\n",
       "      <td>2018/9/25</td>\n",
       "      <td>164.910004</td>\n",
       "      <td>1184.650024</td>\n",
       "      <td>369.429993</td>\n",
       "      <td>1974.550049</td>\n",
       "      <td>222.190002</td>\n",
       "      <td>-0.003027</td>\n",
       "      <td>0.009567</td>\n",
       "      <td>-0.000487</td>\n",
       "      <td>0.020564</td>\n",
       "      <td>0.006321</td>\n",
       "    </tr>\n",
       "    <tr>\n",
       "      <th>2</th>\n",
       "      <td>2018/9/26</td>\n",
       "      <td>166.949997</td>\n",
       "      <td>1180.489990</td>\n",
       "      <td>377.880005</td>\n",
       "      <td>1974.849976</td>\n",
       "      <td>220.419998</td>\n",
       "      <td>0.012294</td>\n",
       "      <td>-0.003518</td>\n",
       "      <td>0.022615</td>\n",
       "      <td>0.000152</td>\n",
       "      <td>-0.007998</td>\n",
       "    </tr>\n",
       "    <tr>\n",
       "      <th>3</th>\n",
       "      <td>2018/9/27</td>\n",
       "      <td>168.839996</td>\n",
       "      <td>1194.640015</td>\n",
       "      <td>380.709991</td>\n",
       "      <td>2012.979980</td>\n",
       "      <td>224.949997</td>\n",
       "      <td>0.011257</td>\n",
       "      <td>0.011915</td>\n",
       "      <td>0.007461</td>\n",
       "      <td>0.019124</td>\n",
       "      <td>0.020343</td>\n",
       "    </tr>\n",
       "    <tr>\n",
       "      <th>4</th>\n",
       "      <td>2018/9/28</td>\n",
       "      <td>164.460007</td>\n",
       "      <td>1193.469971</td>\n",
       "      <td>374.130005</td>\n",
       "      <td>2003.000000</td>\n",
       "      <td>225.740005</td>\n",
       "      <td>-0.026284</td>\n",
       "      <td>-0.000980</td>\n",
       "      <td>-0.017435</td>\n",
       "      <td>-0.004970</td>\n",
       "      <td>0.003506</td>\n",
       "    </tr>\n",
       "    <tr>\n",
       "      <th>...</th>\n",
       "      <td>...</td>\n",
       "      <td>...</td>\n",
       "      <td>...</td>\n",
       "      <td>...</td>\n",
       "      <td>...</td>\n",
       "      <td>...</td>\n",
       "      <td>...</td>\n",
       "      <td>...</td>\n",
       "      <td>...</td>\n",
       "      <td>...</td>\n",
       "      <td>...</td>\n",
       "    </tr>\n",
       "    <tr>\n",
       "      <th>245</th>\n",
       "      <td>2019/9/16</td>\n",
       "      <td>186.220001</td>\n",
       "      <td>1231.300049</td>\n",
       "      <td>294.290009</td>\n",
       "      <td>1807.839966</td>\n",
       "      <td>219.899994</td>\n",
       "      <td>-0.005195</td>\n",
       "      <td>-0.006686</td>\n",
       "      <td>0.000476</td>\n",
       "      <td>-0.017274</td>\n",
       "      <td>0.005243</td>\n",
       "    </tr>\n",
       "    <tr>\n",
       "      <th>246</th>\n",
       "      <td>2019/9/17</td>\n",
       "      <td>188.080002</td>\n",
       "      <td>1229.150024</td>\n",
       "      <td>298.600006</td>\n",
       "      <td>1822.550049</td>\n",
       "      <td>220.699997</td>\n",
       "      <td>0.009939</td>\n",
       "      <td>-0.001748</td>\n",
       "      <td>0.014539</td>\n",
       "      <td>0.008104</td>\n",
       "      <td>0.003631</td>\n",
       "    </tr>\n",
       "    <tr>\n",
       "      <th>247</th>\n",
       "      <td>2019/9/18</td>\n",
       "      <td>188.139999</td>\n",
       "      <td>1232.410034</td>\n",
       "      <td>291.559998</td>\n",
       "      <td>1817.459961</td>\n",
       "      <td>222.770004</td>\n",
       "      <td>0.000319</td>\n",
       "      <td>0.002649</td>\n",
       "      <td>-0.023859</td>\n",
       "      <td>-0.002797</td>\n",
       "      <td>0.009336</td>\n",
       "    </tr>\n",
       "    <tr>\n",
       "      <th>248</th>\n",
       "      <td>2019/9/19</td>\n",
       "      <td>190.139999</td>\n",
       "      <td>1238.709961</td>\n",
       "      <td>286.600006</td>\n",
       "      <td>1821.500000</td>\n",
       "      <td>220.960007</td>\n",
       "      <td>0.010574</td>\n",
       "      <td>0.005099</td>\n",
       "      <td>-0.017158</td>\n",
       "      <td>0.002220</td>\n",
       "      <td>-0.008158</td>\n",
       "    </tr>\n",
       "    <tr>\n",
       "      <th>249</th>\n",
       "      <td>2019/9/20</td>\n",
       "      <td>189.929993</td>\n",
       "      <td>1229.930054</td>\n",
       "      <td>270.750000</td>\n",
       "      <td>1794.160034</td>\n",
       "      <td>217.729996</td>\n",
       "      <td>-0.001105</td>\n",
       "      <td>-0.007113</td>\n",
       "      <td>-0.056892</td>\n",
       "      <td>-0.015123</td>\n",
       "      <td>-0.014726</td>\n",
       "    </tr>\n",
       "  </tbody>\n",
       "</table>\n",
       "<p>250 rows × 11 columns</p>\n",
       "</div>"
      ],
      "text/plain": [
       "          Date          FB         GOOG        NFLX         AMZN        AAPL  \\\n",
       "0    2018/9/24  165.410004  1173.369995  369.609985  1934.359985  220.789993   \n",
       "1    2018/9/25  164.910004  1184.650024  369.429993  1974.550049  222.190002   \n",
       "2    2018/9/26  166.949997  1180.489990  377.880005  1974.849976  220.419998   \n",
       "3    2018/9/27  168.839996  1194.640015  380.709991  2012.979980  224.949997   \n",
       "4    2018/9/28  164.460007  1193.469971  374.130005  2003.000000  225.740005   \n",
       "..         ...         ...          ...         ...          ...         ...   \n",
       "245  2019/9/16  186.220001  1231.300049  294.290009  1807.839966  219.899994   \n",
       "246  2019/9/17  188.080002  1229.150024  298.600006  1822.550049  220.699997   \n",
       "247  2019/9/18  188.139999  1232.410034  291.559998  1817.459961  222.770004   \n",
       "248  2019/9/19  190.139999  1238.709961  286.600006  1821.500000  220.960007   \n",
       "249  2019/9/20  189.929993  1229.930054  270.750000  1794.160034  217.729996   \n",
       "\n",
       "         FB.1    GOOG.1    NFLX.1    AMZN.1    AAPL.1  \n",
       "0         NaN       NaN       NaN       NaN       NaN  \n",
       "1   -0.003027  0.009567 -0.000487  0.020564  0.006321  \n",
       "2    0.012294 -0.003518  0.022615  0.000152 -0.007998  \n",
       "3    0.011257  0.011915  0.007461  0.019124  0.020343  \n",
       "4   -0.026284 -0.000980 -0.017435 -0.004970  0.003506  \n",
       "..        ...       ...       ...       ...       ...  \n",
       "245 -0.005195 -0.006686  0.000476 -0.017274  0.005243  \n",
       "246  0.009939 -0.001748  0.014539  0.008104  0.003631  \n",
       "247  0.000319  0.002649 -0.023859 -0.002797  0.009336  \n",
       "248  0.010574  0.005099 -0.017158  0.002220 -0.008158  \n",
       "249 -0.001105 -0.007113 -0.056892 -0.015123 -0.014726  \n",
       "\n",
       "[250 rows x 11 columns]"
      ]
     },
     "execution_count": 27,
     "metadata": {},
     "output_type": "execute_result"
    }
   ],
   "source": [
    "import pandas as pd\n",
    "import numpy as np\n",
    "import seaborn as sns\n",
    "import matplotlib.pyplot as plt\n",
    "\n",
    "file = r\"C:\\Users\\88693\\Downloads\\Stocks_ClosePrice.csv\"\n",
    "stock = pd.read_csv(file)\n",
    "stock"
   ]
  },
  {
   "cell_type": "code",
   "execution_count": 28,
   "id": "69c685cf",
   "metadata": {},
   "outputs": [
    {
     "data": {
      "text/plain": [
       "FB.1      0.000555\n",
       "GOOG.1    0.000189\n",
       "NFLX.1   -0.001250\n",
       "AMZN.1   -0.000302\n",
       "AAPL.1   -0.000056\n",
       "dtype: float64"
      ]
     },
     "execution_count": 28,
     "metadata": {},
     "output_type": "execute_result"
    }
   ],
   "source": [
    "mean = stock[[\"FB.1\",\"GOOG.1\",\"NFLX.1\",\"AMZN.1\",\"AAPL.1\"]].mean()\n",
    "mean"
   ]
  },
  {
   "cell_type": "code",
   "execution_count": 29,
   "id": "24592207",
   "metadata": {},
   "outputs": [
    {
     "data": {
      "text/plain": [
       "FB.1      0.020943\n",
       "GOOG.1    0.018474\n",
       "NFLX.1    0.027119\n",
       "AMZN.1    0.022313\n",
       "AAPL.1    0.020421\n",
       "dtype: float64"
      ]
     },
     "execution_count": 29,
     "metadata": {},
     "output_type": "execute_result"
    }
   ],
   "source": [
    "std = stock[[\"FB.1\",\"GOOG.1\",\"NFLX.1\",\"AMZN.1\",\"AAPL.1\"]].std()\n",
    "std"
   ]
  },
  {
   "cell_type": "markdown",
   "id": "e7b6e2fa",
   "metadata": {},
   "source": [
    "## (b) Plot the mean and risk(std) for these five returns using red stars in the 2-dimensional plane."
   ]
  },
  {
   "cell_type": "code",
   "execution_count": 30,
   "id": "8e4f22ef",
   "metadata": {},
   "outputs": [
    {
     "data": {
      "image/png": "[encoded data removed]",
      "text/plain": [
       "<Figure size 720x432 with 1 Axes>"
      ]
     },
     "metadata": {
      "needs_background": "light"
     },
     "output_type": "display_data"
    }
   ],
   "source": [
    "return_col = ['FB.1','GOOG.1','NFLX.1','AMZN.1','AAPL.1']\n",
    "plt.figure(figsize=(10, 6))\n",
    "plt.scatter(std, mean, color='red', marker='*', s=200)\n",
    "for i, stock in enumerate(mean.index):\n",
    "    plt.text(std.iloc[i], mean.iloc[i], stock.split('.1')[0], fontsize = 12)\n",
    "    \n",
    "plt.xlabel('Risk std')\n",
    "plt.ylabel('mean return')\n",
    "plt.show()"
   ]
  },
  {
   "cell_type": "markdown",
   "id": "f15cada8",
   "metadata": {},
   "source": [
    "## (c)Randomly selected weights so that each weight is nonnegative and sums up to one. Print the random weight, the mean and std of the portfolio."
   ]
  },
  {
   "cell_type": "code",
   "execution_count": 31,
   "id": "1009e4c5",
   "metadata": {},
   "outputs": [
    {
     "name": "stdout",
     "output_type": "stream",
     "text": [
      "random weights: [0.03655116 0.10053506 0.07475953 0.47090959 0.31724466]\n",
      "portfolio mean return: -0.00021422623146967113\n",
      "portfolio std(risk): 0.012669494941175544\n"
     ]
    }
   ],
   "source": [
    "num_stocks = len(mean)\n",
    "random_weights = np.random.rand(num_stocks)\n",
    "random_weights /= np.sum(random_weights)\n",
    "\n",
    "portfolio_mean = np.dot(random_weights, mean)\n",
    "portfolio_std = np.sqrt(np.dot(random_weights**2, std**2))\n",
    "\n",
    "print(\"random weights:\",random_weights)\n",
    "print(\"portfolio mean return:\",portfolio_mean)\n",
    "print(\"portfolio std(risk):\",portfolio_std)"
   ]
  },
  {
   "cell_type": "markdown",
   "id": "5af74298",
   "metadata": {},
   "source": [
    "## (d) Repeat(c) for 1000 times, and plot the mean and std for these artificial portfolios using blue points in the 2-dimensional plane in (b)."
   ]
  },
  {
   "cell_type": "code",
   "execution_count": 39,
   "id": "e7b6580d",
   "metadata": {
    "scrolled": true
   },
   "outputs": [
    {
     "data": {
      "image/png": "[encoded data removed]",
      "text/plain": [
       "<Figure size 720x432 with 1 Axes>"
      ]
     },
     "metadata": {
      "needs_background": "light"
     },
     "output_type": "display_data"
    }
   ],
   "source": [
    "portfolio_means = []  # 用來存放所有投資組合的均值\n",
    "portfolio_stds = []  # 用來存放所有投資組合的標準差\n",
    "\n",
    "for _ in range(1000):\n",
    "    random_weights = np.random.rand(len(mean))\n",
    "    random_weights /= random_weights.sum()  # 確保權重總和為1\n",
    "    \n",
    "    # 計算投資組合的均值和標準差\n",
    "    portfolio_mean = np.dot(random_weights, mean)\n",
    "    portfolio_std = np.sqrt(np.dot(random_weights**2, std**2))\n",
    "    \n",
    "    # 將結果追加到列表中\n",
    "    portfolio_means.append(portfolio_mean)\n",
    "    portfolio_stds.append(portfolio_std)\n",
    "\n",
    "# 繪製散點圖\n",
    "plt.figure(figsize=(10,6))\n",
    "plt.scatter(portfolio_stds, portfolio_means, color='blue', marker='o', s=10)\n",
    "\n",
    "# 標註每個股票的風險和回報\n",
    "for i, stock in enumerate(mean.index):\n",
    "    plt.text(std.iloc[i], mean.iloc[i], stock.split('.1')[0], fontsize=12)\n",
    "\n",
    "plt.scatter(std, mean, color='red', marker='*', s=200)\n",
    "plt.xlabel('Risk std')\n",
    "plt.ylabel('Mean return')\n",
    "plt.title('Mean and std for these artificial portfolios')\n",
    "plt.show()\n"
   ]
  },
  {
   "cell_type": "markdown",
   "id": "03a7c9c8",
   "metadata": {},
   "source": [
    "## (e) Draw the efficiency frontier in the figure of (b), assuming that no short sales are allowed."
   ]
  },
  {
   "cell_type": "code",
   "execution_count": 41,
   "id": "91285d64",
   "metadata": {},
   "outputs": [
    {
     "data": {
      "image/png": "[encoded data removed]",
      "text/plain": [
       "<Figure size 576x432 with 1 Axes>"
      ]
     },
     "metadata": {
      "needs_background": "light"
     },
     "output_type": "display_data"
    }
   ],
   "source": [
    "portfolio_means = np.array(portfolio_means)\n",
    "portfolio_stds = np.array(portfolio_stds)\n",
    "sorted_indices = np.argsort(portfolio_means)\n",
    "sorted_means = portfolio_means[sorted_indices]\n",
    "sorted_stds = portfolio_stds[sorted_indices]\n",
    "\n",
    "efficient_frontier_means = []\n",
    "efficient_frontier_stds = []\n",
    "\n",
    "for i in range(len(sorted_means)):\n",
    "    if i == 0 or sorted_stds[i] < min(efficient_frontier_stds):\n",
    "        efficient_frontier_means.append(sorted_means[i])\n",
    "        efficient_frontier_stds.append(sorted_stds[i])\n",
    "        \n",
    "plt.figure(figsize=(8, 6))\n",
    "plt.scatter(mean, std, color = 'red', marker = '*', s=200)\n",
    "plt.scatter(portfolio_stds, portfolio_means, color='blue', marker='o', s=10, label = 'random portfolio')\n",
    "plt.plot(efficient_frontier_stds, efficient_frontier_means, color = 'red', linewidth = 2, label = 'efficient frontier')\n",
    "\n",
    "plt.legend()\n",
    "plt.grid(True)\n",
    "plt.show()"
   ]
  },
  {
   "cell_type": "markdown",
   "id": "57636f3d",
   "metadata": {},
   "source": [
    "## (f) Check if the efficency frontier in (e) is the envelop line of the blue points in (d).\n",
    "Yes"
   ]
  }
 ],
 "metadata": {
  "kernelspec": {
   "display_name": "Python 3",
   "language": "python",
   "name": "python3"
  },
  "language_info": {
   "codemirror_mode": {
    "name": "ipython",
    "version": 3
   },
   "file_extension": ".py",
   "mimetype": "text/x-python",
   "name": "python",
   "nbconvert_exporter": "python",
   "pygments_lexer": "ipython3",
   "version": "3.8.8"
  }
 },
 "nbformat": 4,
 "nbformat_minor": 5
}
