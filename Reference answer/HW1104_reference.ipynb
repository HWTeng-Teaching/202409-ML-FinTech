{
  "nbformat": 4,
  "nbformat_minor": 0,
  "metadata": {
    "colab": {
      "provenance": [],
      "collapsed_sections": [
        "gNg6B4P2UVp7"
      ]
    },
    "kernelspec": {
      "name": "python3",
      "display_name": "Python 3"
    },
    "language_info": {
      "name": "python"
    }
  },
  "cells": [
    {
      "cell_type": "markdown",
      "source": [
        "#Machine Learning and FinTech 2024/25\n",
        "##Homework 1104 reference answer\n",
        "By TA, Chan Nok Hang"
      ],
      "metadata": {
        "id": "vwgWYcgAdNmr"
      }
    },
    {
      "cell_type": "markdown",
      "source": [
        "| Name  | HW CODE  | Question                                            |\n",
        "|-------|----------|-----------------------------------------------------|\n",
        "| Scottie  | HW1104Q1  | Ch05_Q01 on p224 (math)                         |\n",
        "| Alice    | HW1104Q2  | Ch05_Q08 on p227                                |\n",
        "| Kevin    | HW1104Q3  | Ch05_Q09 on p227                                |"
      ],
      "metadata": {
        "id": "sFZTIbW6RVO-"
      }
    },
    {
      "cell_type": "markdown",
      "source": [
        "# Ch5_Q1\n",
        "1.Using basic statistical properties of the variance, as well as single variable calculus, derive(5.6). In other words,prove that $α$ given by (5.6) does indeed minimize $Var(αX+(1-α)Y)$.\n",
        "$$ α=\\frac{σ_Y^2-σ_{XY}}{σ_X^2+σ_Y^2-2σ_{XY}} \\tag{5.6}$$"
      ],
      "metadata": {
        "id": "gNg6B4P2UVp7"
      }
    },
    {
      "cell_type": "markdown",
      "source": [
        "To prove that $\\alpha$ given by Equation (5.6) minimizes $\\operatorname{Var}(\\alpha X + (1 - \\alpha) Y) $, we can go through the following steps:\n",
        "\n",
        "1. **Set up the variance of the linear combination**:\n",
        "   $$Z = \\alpha X + (1 - \\alpha) Y.$$\n",
        "   We want to find $\\alpha$ that minimizes $\\operatorname{Var}(Z)$.\n",
        "\n",
        "2. **Compute $\\operatorname{Var}(Z)$**:\n",
        "   Using the properties of variance, we can expand $\\operatorname{Var}(Z)$ as follows:\n",
        "   $$\n",
        "   \\operatorname{Var}(Z) = \\operatorname{Var}(\\alpha X + (1 - \\alpha) Y).\n",
        "   $$\n",
        "   Since $\\operatorname{Var}(aX + bY) = a^2 \\operatorname{Var}(X) + b^2 \\operatorname{Var}(Y) + 2ab \\operatorname{Cov}(X, Y)$, we have\n",
        "   $$\n",
        "   \\operatorname{Var}(Z) = \\alpha^2 \\sigma_X^2 + (1 - \\alpha)^2 \\sigma_Y^2 + 2 \\alpha (1 - \\alpha) \\sigma_{XY},\n",
        "   $$\n",
        "   where $\\sigma_X^2 = \\operatorname{Var}(X)$, $\\sigma_Y^2 = \\operatorname{Var}(Y)$, and $\\sigma_{XY} = \\operatorname{Cov}(X, Y)$.\n",
        "\n",
        "3. **Expand the expression**:\n",
        "   Expanding $(1 - \\alpha)^2 \\sigma_Y^2$ and $2 \\alpha (1 - \\alpha) \\sigma_{XY} $, we get:\n",
        "   $$\n",
        "   \\operatorname{Var}(Z) = \\alpha^2 \\sigma_X^2 + (1 - 2\\alpha + \\alpha^2) \\sigma_Y^2 + 2 \\alpha (1 - \\alpha) \\sigma_{XY}.\n",
        "   $$\n",
        "   Simplifying this expression gives:\n",
        "   $$\n",
        "   \\operatorname{Var}(Z) = \\alpha^2 \\sigma_X^2 + \\sigma_Y^2 - 2 \\alpha \\sigma_Y^2 + \\alpha^2 \\sigma_Y^2 + 2 \\alpha \\sigma_{XY} - 2 \\alpha^2 \\sigma_{XY}.\n",
        "   $$\n",
        "   Collecting terms involving $\\alpha^2$, $\\alpha$, and constants:\n",
        "   $$\n",
        "   \\operatorname{Var}(Z) = \\alpha^2 (\\sigma_X^2 + \\sigma_Y^2 - 2 \\sigma_{XY}) + \\alpha (-2 \\sigma_Y^2 + 2 \\sigma_{XY}) + \\sigma_Y^2.\n",
        "   $$\n",
        "\n",
        "4. **Differentiate with respect to $\\alpha$**:\n",
        "   To minimize $\\operatorname{Var}(Z)$, take the derivative with respect to $\\alpha$ and set it to zero:\n",
        "   $$\n",
        "   \\frac{d}{d\\alpha} \\operatorname{Var}(Z) = 2 \\alpha (\\sigma_X^2 + \\sigma_Y^2 - 2 \\sigma_{XY}) + (-2 \\sigma_Y^2 + 2 \\sigma_{XY}) = 0.\n",
        "   $$\n",
        "   Solving for $\\alpha$, we get:\n",
        "   $$\n",
        "   \\alpha = \\frac{\\sigma_Y^2 - \\sigma_{XY}}{\\sigma_X^2 + \\sigma_Y^2 - 2 \\sigma_{XY}}.\n",
        "   $$\n",
        "   This is precisely Equation (5.6), as required.\n",
        "\n",
        "5. **Confirm that this is a minimum**:\n",
        "   To verify that this value of $\\alpha$ minimizes $\\operatorname{Var}(Z)$, we can examine the second derivative:\n",
        "   $$\n",
        "   \\frac{d^2}{d\\alpha^2} \\operatorname{Var}(Z) = 2 (\\sigma_X^2 + \\sigma_Y^2 - 2 \\sigma_{XY}),\n",
        "   $$\n",
        "   which is positive if $\\sigma_X^2 + \\sigma_Y^2 - 2 \\sigma_{XY} > 0$. Therefore, the solution for $\\alpha$ is indeed a minimum, completing the proof.\n",
        "  "
      ],
      "metadata": {
        "id": "m503JAykVJgB"
      }
    },
    {
      "cell_type": "markdown",
      "source": [
        "#Ch5_Q8\n",
        "8.We will now perform cross-validation on a simulated data set."
      ],
      "metadata": {
        "id": "1h6GYYA2V0C1"
      }
    },
    {
      "cell_type": "markdown",
      "source": [
        "##(a)\n",
        "Generate a simulated data set as follows:\n",
        "```\n",
        "rng = np.random.default_rng(1)\n",
        "x = rng.normal(size=100)\n",
        "y = x- 2 * x**2 + rng.normal(size=100)\n",
        "```\n",
        "\n",
        "In this data set, what is $n$ and what is $p$? Write out the model used to generate the data in equation form.\n"
      ],
      "metadata": {
        "id": "5DD1EYKjV4Ya"
      }
    },
    {
      "cell_type": "code",
      "execution_count": null,
      "metadata": {
        "id": "567aa956-e2c0-4e6a-9983-47c7aa22b039"
      },
      "outputs": [],
      "source": [
        "rng = np.random.default_rng(1)\n",
        "x = rng.normal(size=100)\n",
        "y = x - 2 * x**2 + rng.normal(size=100)"
      ]
    },
    {
      "cell_type": "markdown",
      "metadata": {
        "id": "5LBvFZGmpDe_"
      },
      "source": [
        "n = 100, p = 1<br>\n",
        "The model used to generate the data can be written as: $ Y = X − 2X^2 + 𝜖 $, where\n",
        "$𝜖$ is a random noise that following normal distribution."
      ]
    },
    {
      "cell_type": "markdown",
      "source": [
        "##(b)\n",
        "Create a scatterplot of X against Y . Comment on what you find."
      ],
      "metadata": {
        "id": "WVe9sGAOiUVN"
      }
    },
    {
      "cell_type": "code",
      "execution_count": null,
      "metadata": {
        "id": "720c2b85-5bb5-4aea-a22f-3979fd6c4709",
        "outputId": "a7773514-b4b3-482f-803a-ccc473b8efac"
      },
      "outputs": [
        {
          "data": {
            "image/png": "[encoded data removed]",
            "text/plain": [
              "<Figure size 800x600 with 1 Axes>"
            ]
          },
          "metadata": {},
          "output_type": "display_data"
        }
      ],
      "source": [
        "# Scatter plot of X against Y\n",
        "plt.figure(figsize=(8, 6))\n",
        "plt.scatter(x, y, alpha=0.8)\n",
        "plt.xlabel(\"X\")\n",
        "plt.ylabel(\"Y\")\n",
        "plt.title(\"Scatterplot of X vs Y\")\n",
        "plt.grid(True)\n",
        "plt.show()"
      ]
    },
    {
      "cell_type": "markdown",
      "metadata": {
        "id": "7fe17dff-8619-456f-ab28-6892511f3c89"
      },
      "source": [
        "The scatterplot seems like a *parabolic trend* due to the quadratic term $-2X$ in the model. <br>\n",
        "\n",
        "**Symmetry Around the Origin:** Since $y=x−2x^2+𝜖$ and without the noise $𝜖$, $y$ would be symmetric around the origin. We might see data points scattered around this parabolic curve due to the added noise, giving a somewhat \"fuzzy\" appearance around the curve.<br>\n",
        "\n",
        "**Spread Due to Noise:** The noise term $𝜖$ adds variability, so individual points will deviate from the smooth curve, creating a spread in the data. This scatter indicates the randomness and noise inherent in real-world data.\n",
        "\n"
      ]
    },
    {
      "cell_type": "markdown",
      "source": [
        "##(c)\n",
        "Set a random seed, and then compute the LOOCV errors that result from fitting the following four models using least squares:\n",
        "  \n",
        "i. $Y = \\beta_0 + \\beta_1X + \\epsilon$\n",
        "\n",
        "ii. $Y = \\beta_0 + \\beta_1X + \\beta_2X^2 + \\epsilon$\n",
        "\n",
        "iii. $Y = \\beta_0 + \\beta_1X + \\beta_2X^2 + \\beta_3X^3 + \\epsilon$\n",
        "\n",
        "iv. $Y = \\beta_0 + \\beta_1X + \\beta_2X^2 + \\beta_3X^3 + \\beta_4X^4 + \\epsilon$  \n",
        "  \n",
        "Note you may find it helpful to use the `data.frame()` function to create a single data set containing both X and Y ."
      ],
      "metadata": {
        "id": "NLPhSRYdwI8n"
      }
    },
    {
      "cell_type": "code",
      "execution_count": null,
      "metadata": {
        "id": "5216KuBcEqJE",
        "outputId": "ddb35158-0bd9-408f-d880-067aeee9ea38"
      },
      "outputs": [
        {
          "data": {
            "text/plain": [
              "{'Degree 1': 6.633029839181981,\n",
              " 'Degree 2': 1.1229368563419688,\n",
              " 'Degree 3': 1.3017965489358838,\n",
              " 'Degree 4': 1.332394269417932}"
            ]
          },
          "execution_count": 3,
          "metadata": {},
          "output_type": "execute_result"
        }
      ],
      "source": [
        "import numpy as np\n",
        "import pandas as pd\n",
        "from sklearn.linear_model import LinearRegression\n",
        "from sklearn.model_selection import LeaveOneOut\n",
        "from sklearn.metrics import mean_squared_error\n",
        "\n",
        "# Set random seed for reproducibility\n",
        "np.random.seed(1)\n",
        "\n",
        "# Create a DataFrame containing both X and Y\n",
        "data = pd.DataFrame({'X': x, 'Y': y})\n",
        "\n",
        "# Define a function to compute LOOCV error for a given polynomial degree\n",
        "def loocv_error(degree):\n",
        "    # Prepare features with polynomial terms up to the specified degree\n",
        "    X_poly = np.vander(data['X'], degree + 1, increasing=True)  # increasing=True gives [X^0, X^1, ..., X^degree]\n",
        "    loo = LeaveOneOut()\n",
        "    errors = []\n",
        "\n",
        "    # Perform LOOCV\n",
        "    for train_index, test_index in loo.split(X_poly):\n",
        "        X_train, X_test = X_poly[train_index], X_poly[test_index]\n",
        "        y_train, y_test = data['Y'].values[train_index], data['Y'].values[test_index]\n",
        "\n",
        "        # Fit the model using least squares\n",
        "        model = LinearRegression().fit(X_train, y_train)\n",
        "\n",
        "        # Predict and calculate the error for this test point\n",
        "        y_pred = model.predict(X_test)\n",
        "        errors.append((y_test - y_pred) ** 2)\n",
        "\n",
        "    # Return the average LOOCV error\n",
        "    return np.mean(errors)\n",
        "\n",
        "# Compute LOOCV errors for each model (degree 1 to 4)\n",
        "degrees = [1, 2, 3, 4]\n",
        "loocv_errors = {f'Degree {d}': loocv_error(d) for d in degrees}\n",
        "\n",
        "\n",
        "# Display the LOOCV errors for each model\n",
        "loocv_errors"
      ]
    },
    {
      "cell_type": "markdown",
      "metadata": {
        "id": "Jkf9gfaZEqJF"
      },
      "source": [
        "##(d)\n",
        "Repeat (c) using another random seed, and report your results. Are your results the same as what you got in (c)? Why?"
      ]
    },
    {
      "cell_type": "code",
      "execution_count": null,
      "metadata": {
        "id": "v3FlwUPWEqJF",
        "outputId": "7354beb6-640a-4595-dd6b-c1ded24674ad"
      },
      "outputs": [
        {
          "data": {
            "text/plain": [
              "{'Degree 1': 6.633029839181981,\n",
              " 'Degree 2': 1.1229368563419688,\n",
              " 'Degree 3': 1.3017965489358838,\n",
              " 'Degree 4': 1.332394269417932}"
            ]
          },
          "execution_count": 4,
          "metadata": {},
          "output_type": "execute_result"
        }
      ],
      "source": [
        "# Repeat Part (c) with a new random seed\n",
        "np.random.seed(42)  # Set a different random seed\n",
        "\n",
        "# Re-compute LOOCV errors for each model (degree 1 to 4) using the new seed\n",
        "new_loocv_errors = {f'Degree {d}': loocv_error(d) for d in degrees}\n",
        "\n",
        "# Display the LOOCV errors with the new seed for comparison\n",
        "new_loocv_errors"
      ]
    },
    {
      "cell_type": "markdown",
      "metadata": {
        "id": "XTzJdbTpEqJF"
      },
      "source": [
        "### Answer:\n",
        "- **Yes, the results are the same as in (c).**\n",
        "  \n",
        "- **Why?**\n",
        "  - We only changed the random seed without regenerating the data, so the dataset remained unchanged.\n",
        "  - LOOCV errors are based on the specific data; if the data stays the same, the results will also stay the same.\n",
        "  \n",
        "- **To see different results**, we would need to regenerate the data after changing the seed."
      ]
    },
    {
      "cell_type": "markdown",
      "metadata": {
        "id": "rsf_xTtFEqJF"
      },
      "source": [
        "##(e)\n",
        "Which of the models in (c) had the smallest LOOCV error? Is this what you expected? Explain your answer."
      ]
    },
    {
      "cell_type": "markdown",
      "metadata": {
        "id": "49nWgOA7EqJF"
      },
      "source": [
        "### Answer:\n",
        "- The model with **Degree 2** (quadratic model) had the smallest LOOCV error of **1.1229**.\n",
        "\n",
        "### Is this expected?\n",
        "Yes, this result aligns with our expectations. The data generation model was defined as  $y = x-2x^2+\\epsilon$ , which is a quadratic relationship. Therefore, a quadratic model should provide the best fit, as it directly matches the underlying structure of the data. Higher-degree models (Degrees 3 and 4) introduce unnecessary complexity, which may slightly increase the error due to overfitting, while the linear model (Degree 1) is too simple to capture the curvature in the data."
      ]
    },
    {
      "cell_type": "markdown",
      "metadata": {
        "id": "8PbQK3VUEqJF"
      },
      "source": [
        "##(f)\n",
        "Comment on the statistical significance of the coefficient estimates that results from fitting each of the models in (c) using least squares. Do these results agree with the conclusions drawn based on the cross-validation results?"
      ]
    },
    {
      "cell_type": "code",
      "execution_count": null,
      "metadata": {
        "id": "00gXWknsEqJF",
        "outputId": "5fb73d7a-26d3-4e0a-fe3e-d402aa02f7de"
      },
      "outputs": [
        {
          "name": "stdout",
          "output_type": "stream",
          "text": [
            "P-values for each model:\n",
            "\n",
            "Degree 1 Model:\n",
            "  const: 4.40962e-08\n",
            "  x1: 1.03651e-09\n",
            "\n",
            "\n",
            "Degree 2 Model:\n",
            "  const: 5.42824e-01\n",
            "  x1: 1.49491e-11\n",
            "  x2: 1.34007e-39\n",
            "\n",
            "\n",
            "Degree 3 Model:\n",
            "  const: 6.34502e-01\n",
            "  x1: 4.44852e-08\n",
            "  x2: 3.96891e-37\n",
            "  x3: 2.87202e-01\n",
            "\n",
            "\n",
            "Degree 4 Model:\n",
            "  const: 4.59605e-01\n",
            "  x1: 2.59130e-05\n",
            "  x2: 2.39603e-19\n",
            "  x3: 6.42491e-01\n",
            "  x4: 2.31066e-02\n",
            "\n",
            "\n"
          ]
        }
      ],
      "source": [
        "import statsmodels.api as sm\n",
        "# Define a function to retrieve p-values for a given polynomial degree\n",
        "def get_pvalues(data, degree):\n",
        "    # Add polynomial terms to the data up to the specified degree\n",
        "    X_poly = np.vander(data['X'], degree + 1, increasing=True)\n",
        "    X_poly = sm.add_constant(X_poly)  # Add intercept term\n",
        "    y = data['Y']\n",
        "\n",
        "    # Fit the model using statsmodels OLS\n",
        "    model = sm.OLS(y, X_poly).fit()\n",
        "\n",
        "    # Retrieve p-values for coefficients\n",
        "    return model.pvalues\n",
        "\n",
        "pvalues_dict = {f'Degree {d}': get_pvalues(data, d) for d in degrees}\n",
        "print(\"P-values for each model:\\n\")\n",
        "for degree, pvalues in pvalues_dict.items():\n",
        "    print(f\"{degree} Model:\")\n",
        "    for term, pvalue in pvalues.items():\n",
        "        print(f\"  {term}: {pvalue:.5e}\")  # Display p-value in scientific notation with 5 decimal places\n",
        "    print(\"\\n\")"
      ]
    },
    {
      "cell_type": "markdown",
      "metadata": {
        "id": "P3EZaLF5EqJF"
      },
      "source": [
        "### Answer:\n",
        "Yes, the p-values confirm the cross-validation results:\n",
        "\n",
        "1. **Degree 1 Model**: Both terms are significant, but the model is too simple, leading to a higher LOOCV error.\n",
        "\n",
        "2. **Degree 2 Model**: \\( X \\) and \\( $X^2$ \\) are highly significant, matching the lowest LOOCV error and best fit for the data’s quadratic relationship.\n",
        "\n",
        "3. **Degree 3 Model**: \\( $X^3$ \\) is not significant, indicating overfitting, which aligns with the slightly higher LOOCV error.\n",
        "\n",
        "4. **Degree 4 Model**: \\( $X^3$ \\) and \\( $X^4$ \\) are mostly insignificant, supporting that added terms don’t improve fit and may overfit.\n",
        "\n",
        "In summary, both p-values and LOOCV agree: the Degree 2 model is optimal."
      ]
    },
    {
      "cell_type": "markdown",
      "source": [
        "#Ch_Q9\n",
        "9.We will now consider the Boston housing data set, from the ISLP library."
      ],
      "metadata": {
        "id": "uJ_SZ09rXFLq"
      }
    },
    {
      "cell_type": "markdown",
      "source": [
        "##(a)\n",
        "Based on this data set, provide an estimate for the population mean of medv. Call this estimate $\\hat\\mu$.\n"
      ],
      "metadata": {
        "id": "xAkE4ICtXLAX"
      }
    },
    {
      "cell_type": "code",
      "execution_count": null,
      "metadata": {
        "id": "7-sGsVrxM_pH",
        "outputId": "185edcc3-7e56-4c19-f50a-70a0a2c8e626"
      },
      "outputs": [
        {
          "name": "stdout",
          "output_type": "stream",
          "text": [
            "Estimate of the population mean (μ̂): 22.532806324110677\n"
          ]
        }
      ],
      "source": [
        "from ISLP import load_data\n",
        "import pandas as pd\n",
        "import numpy as np\n",
        "\n",
        "#Download the data\n",
        "boston_data = load_data('Boston')\n",
        "medv = boston_data['medv']\n",
        "\n",
        "mean_medv = np.mean(medv)\n",
        "print(\"Estimate of the population mean (μ̂):\", mean_medv)"
      ]
    },
    {
      "cell_type": "markdown",
      "metadata": {
        "id": "H96ejljZM_pI"
      },
      "source": [
        "##(b)\n",
        "Provide an estimate of the standard error of $\\hat\\mu$. Interpret this result."
      ]
    },
    {
      "cell_type": "code",
      "execution_count": null,
      "metadata": {
        "id": "P6L88VvfM_pI",
        "outputId": "9073dd69-4c20-4998-f53d-79b94e4186d2"
      },
      "outputs": [
        {
          "name": "stdout",
          "output_type": "stream",
          "text": [
            "Standard error of the mean (SE(μ̂)): 0.40886114749753505\n"
          ]
        }
      ],
      "source": [
        "std_error_mean = np.std(medv, ddof=1) / np.sqrt(len(medv))\n",
        "print(\"Standard error of the mean (SE(μ̂ )):\", std_error_mean)"
      ]
    },
    {
      "cell_type": "markdown",
      "metadata": {
        "id": "GAgvVXbEM_pJ"
      },
      "source": [
        "The standard error of the sample mean is 0.408. Specifically, this means that the sample mean, as an estimate of the population mean, will vary due to random sampling, and the range of variation is about 0.408."
      ]
    },
    {
      "cell_type": "markdown",
      "metadata": {
        "id": "HxIFUTmkM_pJ"
      },
      "source": [
        "## (c)\n",
        "Now estimate the standard error of $\\hat\\mu$ using the bootstrap. How does this compare to your answer from (b)?"
      ]
    },
    {
      "cell_type": "code",
      "execution_count": null,
      "metadata": {
        "id": "uFzY2gFEM_pJ",
        "outputId": "dc94094e-3db7-4c30-a845-a3b102bae905"
      },
      "outputs": [
        {
          "name": "stdout",
          "output_type": "stream",
          "text": [
            "Bootstrap estimate of the standard error of the mean: 0.404131170683672\n"
          ]
        }
      ],
      "source": [
        "from sklearn.utils import resample\n",
        "\n",
        "bootstrap_means = [np.mean(resample(medv)) for _ in range(1000)]\n",
        "bootstrap_std_error_mean = np.std(bootstrap_means)\n",
        "print(\"Bootstrap estimate of the standard error of the mean:\", bootstrap_std_error_mean)"
      ]
    },
    {
      "cell_type": "markdown",
      "metadata": {
        "id": "2od2YRHMM_pJ"
      },
      "source": [
        "This result strengthens our confidence in the standard error of the sample mean because both have produced similar standard errors. This shows that our sample mean estimate is stable and the calculated standard error is reliable."
      ]
    },
    {
      "cell_type": "markdown",
      "metadata": {
        "id": "ad5WvEwtM_pJ"
      },
      "source": [
        "##(d)\n",
        "Based on your bootstrap estimate from (c), provide a 95% confidence interval for the mean of medv. Compare it to the results obtained by using Boston['medv'].std() and the two standard error rule (3.9)."
      ]
    },
    {
      "cell_type": "code",
      "execution_count": null,
      "metadata": {
        "id": "LVa7GRR4M_pJ",
        "outputId": "a3be2af6-2ed0-4d71-cf7e-bbfabd550837"
      },
      "outputs": [
        {
          "name": "stdout",
          "output_type": "stream",
          "text": [
            "95% confidence interval for the mean_1: (21.724543982743334, 23.34106866547802)\n",
            "95% confidence interval for the mean_2: (21.715084029115605, 23.35052861910575)\n"
          ]
        }
      ],
      "source": [
        "#C.I. of (c)\n",
        "ci_lower_1 = mean_medv - 2 * bootstrap_std_error_mean\n",
        "ci_upper_1 = mean_medv + 2 * bootstrap_std_error_mean\n",
        "print(\"95% confidence interval for the mean_1:\", (ci_lower_1, ci_upper_1))\n",
        "\n",
        "#C.I. of (b)\n",
        "ci_lower_2 = mean_medv - 2 * std_error_mean\n",
        "ci_upper_2 = mean_medv + 2 * std_error_mean\n",
        "print(\"95% confidence interval for the mean_2:\", (ci_lower_2, ci_upper_2))\n"
      ]
    },
    {
      "cell_type": "markdown",
      "metadata": {
        "id": "Go9WEhHGM_pJ"
      },
      "source": [
        "Both coincidence interval are exactly same.They are give us more reliable estimate of std error for mean."
      ]
    },
    {
      "cell_type": "markdown",
      "metadata": {
        "id": "Y7hJqMGRM_pJ"
      },
      "source": [
        "##(e)\n",
        "Based on this data set, provide an estimate, $\\hat\\mu_{med}$, for the median value of medv in the population."
      ]
    },
    {
      "cell_type": "code",
      "execution_count": null,
      "metadata": {
        "id": "CBUSU1qrM_pK",
        "outputId": "146d0e03-aad3-4674-d75c-c3e875ee3f46"
      },
      "outputs": [
        {
          "name": "stdout",
          "output_type": "stream",
          "text": [
            "Estimate of the population median (μ̂_med): 21.2\n"
          ]
        }
      ],
      "source": [
        "median_medv = np.median(medv)\n",
        "print(\"Estimate of the population median (μ̂_med):\", median_medv)"
      ]
    },
    {
      "cell_type": "markdown",
      "metadata": {
        "id": "mwlgBJ1pM_pK"
      },
      "source": [
        "##(f)\n",
        "We now would like to estimate the standard error of $\\hat\\mu_{med}$. Unfortunately, there is no simple formula for computing the standard error of the median. Instead, estimate the standard error of the median using the bootstrap. Comment on your findings."
      ]
    },
    {
      "cell_type": "code",
      "execution_count": null,
      "metadata": {
        "id": "82fTeY5cM_pK",
        "outputId": "1e8379bb-775c-41cd-9375-6df9f1315b1b"
      },
      "outputs": [
        {
          "name": "stdout",
          "output_type": "stream",
          "text": [
            "Bootstrap estimate of the standard error of the median: 0.3776990733374915\n"
          ]
        }
      ],
      "source": [
        "bootstrap_medians = [np.median(resample(medv)) for _ in range(1000)]\n",
        "bootstrap_std_error_median = np.std(bootstrap_medians)\n",
        "print(\"Bootstrap estimate of the standard error of the median:\", bootstrap_std_error_median)"
      ]
    },
    {
      "cell_type": "markdown",
      "metadata": {
        "id": "O4AaIXv1M_pK"
      },
      "source": [
        "The standard error median is very small.It means that median is a stable estimate of population median."
      ]
    },
    {
      "cell_type": "markdown",
      "metadata": {
        "id": "Gazk3XYkM_pK"
      },
      "source": [
        "### NOTE:why no simple formula for computing std error of median?"
      ]
    },
    {
      "cell_type": "markdown",
      "metadata": {
        "id": "-qHaoW7LM_pK"
      },
      "source": [
        "1.The distribution of the median is more complex"
      ]
    },
    {
      "cell_type": "markdown",
      "metadata": {
        "id": "Jlisoo4FM_pK"
      },
      "source": [
        "2.The median has little impact on outliers, and the variability of the median depends mainly on the location of the value in the data set, rather than the characteristics of the overall distribution"
      ]
    },
    {
      "cell_type": "markdown",
      "metadata": {
        "id": "So6mnndnM_pK"
      },
      "source": [
        "##(g)\n",
        "Based on this data set, provide an estimate for the tenth percentile of medv in Boston census tracts. Call this quantity $\\hat\\mu_{0.1}$.(You can use the np.percentile() function.)"
      ]
    },
    {
      "cell_type": "code",
      "execution_count": null,
      "metadata": {
        "id": "S5sB6iAvM_pK",
        "outputId": "e821edbf-520c-447b-8d7a-c31b0a81c248"
      },
      "outputs": [
        {
          "name": "stdout",
          "output_type": "stream",
          "text": [
            "Estimate of the 10th percentile (μ̂_0.1): 12.75\n"
          ]
        }
      ],
      "source": [
        "percentile_10 = np.percentile(medv, 10)\n",
        "print(\"Estimate of the 10th percentile (μ̂_0.1):\", percentile_10)"
      ]
    },
    {
      "cell_type": "markdown",
      "metadata": {
        "id": "nyNe_1z0M_pK"
      },
      "source": [
        "## (h)\n",
        "Use the bootstrap to estimate the standard error of $\\hat\\mu_{0.1}$. Comment on your findings."
      ]
    },
    {
      "cell_type": "code",
      "execution_count": null,
      "metadata": {
        "id": "oJtJLOmrM_pK",
        "outputId": "aba5f8bb-bf07-490b-82a4-c22d200aed2e"
      },
      "outputs": [
        {
          "name": "stdout",
          "output_type": "stream",
          "text": [
            "Bootstrap estimate of the standard error of the 10th percentile: 0.48855386345826796\n"
          ]
        }
      ],
      "source": [
        "bootstrap_percentiles_10 = [np.percentile(resample(medv), 10) for _ in range(1000)]\n",
        "bootstrap_std_error_percentile_10 = np.std(bootstrap_percentiles_10)\n",
        "print(\"Bootstrap estimate of the standard error of the 10th percentile:\", bootstrap_std_error_percentile_10)"
      ]
    },
    {
      "cell_type": "markdown",
      "metadata": {
        "id": "0vZPPYrYM_pK"
      },
      "source": [
        "It means that there has small alteration on 10th percentile data,the range of variation is 0.48,but it still a stable estimate of 10th percentile data of population."
      ]
    }
  ]
}