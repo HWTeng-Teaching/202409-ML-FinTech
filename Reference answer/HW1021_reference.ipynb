{
  "nbformat": 4,
  "nbformat_minor": 0,
  "metadata": {
    "colab": {
      "provenance": [],
      "collapsed_sections": [
        "y_GvgPMkO1YL",
        "k7OUnoRXn9sd",
        "Cjn1vUKhMmC1"
      ]
    },
    "kernelspec": {
      "name": "python3",
      "display_name": "Python 3"
    },
    "language_info": {
      "name": "python"
    }
  },
  "cells": [
    {
      "cell_type": "markdown",
      "source": [
        "#Machine Learning and FinTech 2024/25\n",
        "##Homework 1021 reference answer\n",
        "By TA, Chan Nok Hang"
      ],
      "metadata": {
        "id": "Sy77UnZ0n2TR"
      }
    },
    {
      "cell_type": "markdown",
      "source": [
        "| **Name** | **INDEX**  | **Question**                                             |\n",
        "|----------|------------|----------------------------------------------------------|\n",
        "| Apple    | HW1021Q1   | Ch04_Q1 in page 193 (logistic Regression)                 |\n",
        "| Elaine   | HW1021Q2   | Ch04_Q9 in page 195 (logistic Regression)                 |\n",
        "| Ling     | HW1021Q3   | Ch04_Q13(a,b,c,d) in page 197 (logistic Regression)       |"
      ],
      "metadata": {
        "id": "K7X8noyqs8NI"
      }
    },
    {
      "cell_type": "markdown",
      "source": [
        "#Ch4_Q1\n",
        "1.Using a little bit of algebra, prove that (4.2) is equivalent to (4.3). In other words, the logistic function representation and logit representation for the logistic regression model are equivalent.\n",
        "$$p(X)= \\frac{e^{\\beta_0+\\beta_1X}}{1+e^{\\beta_0+\\beta_1X}} \\tag{4.2}$$\n",
        "$$\\frac{p(X)}{1-p(X)}= e^{\\beta_0+\\beta_1X} \\tag{4.3}$$\n"
      ],
      "metadata": {
        "id": "y_GvgPMkO1YL"
      }
    },
    {
      "cell_type": "markdown",
      "source": [
        "##Answer:\n",
        "## Step 1: Rewrite $p(X)$\n",
        "$$1-p(X)= 1-\\frac{e^{\\beta_0+\\beta_1X}}{1+e^{\\beta_0+\\beta_1X}}$$\n",
        "This can be simplified by finding a common denominator:\n",
        "$$1-p(X)= \\frac{1+e^{\\beta_0+\\beta_1X}-e^{\\beta_0+\\beta_1X}}{1+e^{\\beta_0+\\beta_1X}}=\\frac{1}{1+e^{\\beta_0+\\beta_1X}}$$\n",
        "\n",
        "## Step 2: Set up the left side of (4.3)\n",
        "$$\\frac{p(X)}{1-p(X)}= \\frac{\\frac{e^{\\beta_0+\\beta_1X}}{1+e^{\\beta_0+\\beta_1X}}}{\\frac{1}{1+e^{\\beta_0+\\beta_1X}}}$$\n",
        "Since the denominators are the same, we can simplify by canceling them:\n",
        "$$\\frac{p(X)}{1-p(X)}= e^{\\beta_0+\\beta_1X}$$\n",
        "\n",
        "##Conclusion\n",
        "We have shown that:\n",
        "$$\\frac{p(X)}{1-p(X)}= e^{\\beta_0+\\beta_1X}$$\n",
        "Thus, equation (4.2) is equivalent to equation (4.3).\n",
        "\n",
        "\n",
        "\n",
        "\n",
        "\n",
        "\n"
      ],
      "metadata": {
        "id": "gaCYL8dS-bcF"
      }
    },
    {
      "cell_type": "markdown",
      "source": [
        "#Ch4_Q9.\n",
        "This problem has to do with odds.\n"
      ],
      "metadata": {
        "id": "k7OUnoRXn9sd"
      }
    },
    {
      "cell_type": "markdown",
      "source": [
        "##(a)\n",
        "On average, what fraction of people with an odds of 0.37 of\n",
        "defaulting on their credit card payment will in fact default?\n"
      ],
      "metadata": {
        "id": "X-t4-DByoHdJ"
      }
    },
    {
      "cell_type": "markdown",
      "source": [
        "The odds of an event are defined as the ratio of the probability of the event occurring to the probability of the event not occurring. If \"p\" is the probability of an event, then the odds of the event happening are given by \"p/(1-p)\"\n",
        "\n",
        "Probability (p) = Odds / (1 + Odds)\n",
        "\n",
        "Probability (p) = 0.37 / (1 + 0.37)\n",
        "\n",
        "p ≈ 0.2701\n",
        "\n",
        "So, on average, approximately 27% of people with odds of 0.37 will default on their credit card payment."
      ],
      "metadata": {
        "id": "Q9k8zAmUtUSp"
      }
    },
    {
      "cell_type": "markdown",
      "source": [
        "##(b)\n",
        "Suppose that an individual has a 16 % chance of defaulting on\n",
        "her credit card payment. What are the odds that she will default?"
      ],
      "metadata": {
        "id": "fbcYX7rjoRC8"
      }
    },
    {
      "cell_type": "markdown",
      "source": [
        "Odds = Probability / (1 - Probability)\n",
        "\n",
        "So, in this case:\n",
        "\n",
        "Probability (p) = 16% = 0.16\n",
        "\n",
        "Odds = 0.16 / (1 - 0.16)\n",
        "\n",
        "Odds = 0.16 / 0.84\n",
        "\n",
        "Odds ≈ 0.1905 (rounded to four decimal places).\n",
        "\n",
        "So, the odds that this individual will default on her credit card payment are approximately 0.1905."
      ],
      "metadata": {
        "id": "BqoTRlIdLDM1"
      }
    },
    {
      "cell_type": "markdown",
      "source": [
        "#Ch4_Q13.\n",
        "This question should be answered using the Weekly data set, which\n",
        "is part of the ISLP package. This data is similar in nature to the\n",
        "Smarket data from this chapter’s lab, except that it contains 1, 089\n",
        "weekly returns for 21 years, from the beginning of 1990 to the end of\n",
        "2010."
      ],
      "metadata": {
        "id": "Cjn1vUKhMmC1"
      }
    },
    {
      "cell_type": "markdown",
      "source": [
        "##(a)\n",
        "Produce some numerical and graphical summaries of the Weekly\n",
        "data. Do there appear to be any patterns?\n"
      ],
      "metadata": {
        "id": "x7JJCE-oMotl"
      }
    },
    {
      "cell_type": "code",
      "source": [
        "pip install ISLP"
      ],
      "metadata": {
        "id": "ps66bDdwNZ3R",
        "colab": {
          "base_uri": "https://localhost:8080/"
        },
        "outputId": "ce3ba65c-6e2d-4b86-d80c-a637784a577c"
      },
      "execution_count": 1,
      "outputs": [
        {
          "output_type": "stream",
          "name": "stdout",
          "text": [
            "Collecting ISLP\n",
            "  Downloading ISLP-0.4.0-py3-none-any.whl.metadata (7.0 kB)\n",
            "Requirement already satisfied: numpy>=1.7.1 in /usr/local/lib/python3.10/dist-packages (from ISLP) (1.26.4)\n",
            "Requirement already satisfied: scipy>=0.9 in /usr/local/lib/python3.10/dist-packages (from ISLP) (1.13.1)\n",
            "Requirement already satisfied: pandas>=0.20 in /usr/local/lib/python3.10/dist-packages (from ISLP) (2.2.2)\n",
            "Requirement already satisfied: lxml in /usr/local/lib/python3.10/dist-packages (from ISLP) (5.3.0)\n",
            "Requirement already satisfied: scikit-learn>=1.2 in /usr/local/lib/python3.10/dist-packages (from ISLP) (1.5.2)\n",
            "Requirement already satisfied: joblib in /usr/local/lib/python3.10/dist-packages (from ISLP) (1.4.2)\n",
            "Requirement already satisfied: statsmodels>=0.13 in /usr/local/lib/python3.10/dist-packages (from ISLP) (0.14.4)\n",
            "Collecting lifelines (from ISLP)\n",
            "  Downloading lifelines-0.30.0-py3-none-any.whl.metadata (3.2 kB)\n",
            "Collecting pygam (from ISLP)\n",
            "  Downloading pygam-0.9.1-py3-none-any.whl.metadata (7.1 kB)\n",
            "Requirement already satisfied: torch in /usr/local/lib/python3.10/dist-packages (from ISLP) (2.5.0+cu121)\n",
            "Collecting pytorch-lightning (from ISLP)\n",
            "  Downloading pytorch_lightning-2.4.0-py3-none-any.whl.metadata (21 kB)\n",
            "Collecting torchmetrics (from ISLP)\n",
            "  Downloading torchmetrics-1.5.1-py3-none-any.whl.metadata (20 kB)\n",
            "Requirement already satisfied: python-dateutil>=2.8.2 in /usr/local/lib/python3.10/dist-packages (from pandas>=0.20->ISLP) (2.8.2)\n",
            "Requirement already satisfied: pytz>=2020.1 in /usr/local/lib/python3.10/dist-packages (from pandas>=0.20->ISLP) (2024.2)\n",
            "Requirement already satisfied: tzdata>=2022.7 in /usr/local/lib/python3.10/dist-packages (from pandas>=0.20->ISLP) (2024.2)\n",
            "Requirement already satisfied: threadpoolctl>=3.1.0 in /usr/local/lib/python3.10/dist-packages (from scikit-learn>=1.2->ISLP) (3.5.0)\n",
            "Requirement already satisfied: patsy>=0.5.6 in /usr/local/lib/python3.10/dist-packages (from statsmodels>=0.13->ISLP) (0.5.6)\n",
            "Requirement already satisfied: packaging>=21.3 in /usr/local/lib/python3.10/dist-packages (from statsmodels>=0.13->ISLP) (24.1)\n",
            "Requirement already satisfied: matplotlib>=3.0 in /usr/local/lib/python3.10/dist-packages (from lifelines->ISLP) (3.8.0)\n",
            "Requirement already satisfied: autograd>=1.5 in /usr/local/lib/python3.10/dist-packages (from lifelines->ISLP) (1.7.0)\n",
            "Collecting autograd-gamma>=0.3 (from lifelines->ISLP)\n",
            "  Downloading autograd-gamma-0.5.0.tar.gz (4.0 kB)\n",
            "  Preparing metadata (setup.py) ... \u001b[?25l\u001b[?25hdone\n",
            "Collecting formulaic>=0.2.2 (from lifelines->ISLP)\n",
            "  Downloading formulaic-1.0.2-py3-none-any.whl.metadata (6.8 kB)\n",
            "Requirement already satisfied: progressbar2<5.0.0,>=4.2.0 in /usr/local/lib/python3.10/dist-packages (from pygam->ISLP) (4.5.0)\n",
            "Collecting scipy>=0.9 (from ISLP)\n",
            "  Downloading scipy-1.11.4-cp310-cp310-manylinux_2_17_x86_64.manylinux2014_x86_64.whl.metadata (60 kB)\n",
            "\u001b[2K     \u001b[90m━━━━━━━━━━━━━━━━━━━━━━━━━━━━━━━━━━━━━━━━\u001b[0m \u001b[32m60.4/60.4 kB\u001b[0m \u001b[31m1.5 MB/s\u001b[0m eta \u001b[36m0:00:00\u001b[0m\n",
            "\u001b[?25hRequirement already satisfied: tqdm>=4.57.0 in /usr/local/lib/python3.10/dist-packages (from pytorch-lightning->ISLP) (4.66.6)\n",
            "Requirement already satisfied: PyYAML>=5.4 in /usr/local/lib/python3.10/dist-packages (from pytorch-lightning->ISLP) (6.0.2)\n",
            "Requirement already satisfied: fsspec>=2022.5.0 in /usr/local/lib/python3.10/dist-packages (from fsspec[http]>=2022.5.0->pytorch-lightning->ISLP) (2024.10.0)\n",
            "Requirement already satisfied: typing-extensions>=4.4.0 in /usr/local/lib/python3.10/dist-packages (from pytorch-lightning->ISLP) (4.12.2)\n",
            "Collecting lightning-utilities>=0.10.0 (from pytorch-lightning->ISLP)\n",
            "  Downloading lightning_utilities-0.11.8-py3-none-any.whl.metadata (5.2 kB)\n",
            "Requirement already satisfied: filelock in /usr/local/lib/python3.10/dist-packages (from torch->ISLP) (3.16.1)\n",
            "Requirement already satisfied: networkx in /usr/local/lib/python3.10/dist-packages (from torch->ISLP) (3.4.2)\n",
            "Requirement already satisfied: jinja2 in /usr/local/lib/python3.10/dist-packages (from torch->ISLP) (3.1.4)\n",
            "Requirement already satisfied: sympy==1.13.1 in /usr/local/lib/python3.10/dist-packages (from torch->ISLP) (1.13.1)\n",
            "Requirement already satisfied: mpmath<1.4,>=1.1.0 in /usr/local/lib/python3.10/dist-packages (from sympy==1.13.1->torch->ISLP) (1.3.0)\n",
            "Collecting interface-meta>=1.2.0 (from formulaic>=0.2.2->lifelines->ISLP)\n",
            "  Downloading interface_meta-1.3.0-py3-none-any.whl.metadata (6.7 kB)\n",
            "Requirement already satisfied: wrapt>=1.0 in /usr/local/lib/python3.10/dist-packages (from formulaic>=0.2.2->lifelines->ISLP) (1.16.0)\n",
            "Requirement already satisfied: aiohttp!=4.0.0a0,!=4.0.0a1 in /usr/local/lib/python3.10/dist-packages (from fsspec[http]>=2022.5.0->pytorch-lightning->ISLP) (3.10.10)\n",
            "Requirement already satisfied: setuptools in /usr/local/lib/python3.10/dist-packages (from lightning-utilities>=0.10.0->pytorch-lightning->ISLP) (75.1.0)\n",
            "Requirement already satisfied: contourpy>=1.0.1 in /usr/local/lib/python3.10/dist-packages (from matplotlib>=3.0->lifelines->ISLP) (1.3.0)\n",
            "Requirement already satisfied: cycler>=0.10 in /usr/local/lib/python3.10/dist-packages (from matplotlib>=3.0->lifelines->ISLP) (0.12.1)\n",
            "Requirement already satisfied: fonttools>=4.22.0 in /usr/local/lib/python3.10/dist-packages (from matplotlib>=3.0->lifelines->ISLP) (4.54.1)\n",
            "Requirement already satisfied: kiwisolver>=1.0.1 in /usr/local/lib/python3.10/dist-packages (from matplotlib>=3.0->lifelines->ISLP) (1.4.7)\n",
            "Requirement already satisfied: pillow>=6.2.0 in /usr/local/lib/python3.10/dist-packages (from matplotlib>=3.0->lifelines->ISLP) (10.4.0)\n",
            "Requirement already satisfied: pyparsing>=2.3.1 in /usr/local/lib/python3.10/dist-packages (from matplotlib>=3.0->lifelines->ISLP) (3.2.0)\n",
            "Requirement already satisfied: six in /usr/local/lib/python3.10/dist-packages (from patsy>=0.5.6->statsmodels>=0.13->ISLP) (1.16.0)\n",
            "Requirement already satisfied: python-utils>=3.8.1 in /usr/local/lib/python3.10/dist-packages (from progressbar2<5.0.0,>=4.2.0->pygam->ISLP) (3.9.0)\n",
            "Requirement already satisfied: MarkupSafe>=2.0 in /usr/local/lib/python3.10/dist-packages (from jinja2->torch->ISLP) (3.0.2)\n",
            "Requirement already satisfied: aiohappyeyeballs>=2.3.0 in /usr/local/lib/python3.10/dist-packages (from aiohttp!=4.0.0a0,!=4.0.0a1->fsspec[http]>=2022.5.0->pytorch-lightning->ISLP) (2.4.3)\n",
            "Requirement already satisfied: aiosignal>=1.1.2 in /usr/local/lib/python3.10/dist-packages (from aiohttp!=4.0.0a0,!=4.0.0a1->fsspec[http]>=2022.5.0->pytorch-lightning->ISLP) (1.3.1)\n",
            "Requirement already satisfied: attrs>=17.3.0 in /usr/local/lib/python3.10/dist-packages (from aiohttp!=4.0.0a0,!=4.0.0a1->fsspec[http]>=2022.5.0->pytorch-lightning->ISLP) (24.2.0)\n",
            "Requirement already satisfied: frozenlist>=1.1.1 in /usr/local/lib/python3.10/dist-packages (from aiohttp!=4.0.0a0,!=4.0.0a1->fsspec[http]>=2022.5.0->pytorch-lightning->ISLP) (1.5.0)\n",
            "Requirement already satisfied: multidict<7.0,>=4.5 in /usr/local/lib/python3.10/dist-packages (from aiohttp!=4.0.0a0,!=4.0.0a1->fsspec[http]>=2022.5.0->pytorch-lightning->ISLP) (6.1.0)\n",
            "Requirement already satisfied: yarl<2.0,>=1.12.0 in /usr/local/lib/python3.10/dist-packages (from aiohttp!=4.0.0a0,!=4.0.0a1->fsspec[http]>=2022.5.0->pytorch-lightning->ISLP) (1.17.0)\n",
            "Requirement already satisfied: async-timeout<5.0,>=4.0 in /usr/local/lib/python3.10/dist-packages (from aiohttp!=4.0.0a0,!=4.0.0a1->fsspec[http]>=2022.5.0->pytorch-lightning->ISLP) (4.0.3)\n",
            "Requirement already satisfied: idna>=2.0 in /usr/local/lib/python3.10/dist-packages (from yarl<2.0,>=1.12.0->aiohttp!=4.0.0a0,!=4.0.0a1->fsspec[http]>=2022.5.0->pytorch-lightning->ISLP) (3.10)\n",
            "Requirement already satisfied: propcache>=0.2.0 in /usr/local/lib/python3.10/dist-packages (from yarl<2.0,>=1.12.0->aiohttp!=4.0.0a0,!=4.0.0a1->fsspec[http]>=2022.5.0->pytorch-lightning->ISLP) (0.2.0)\n",
            "Downloading ISLP-0.4.0-py3-none-any.whl (3.6 MB)\n",
            "\u001b[2K   \u001b[90m━━━━━━━━━━━━━━━━━━━━━━━━━━━━━━━━━━━━━━━━\u001b[0m \u001b[32m3.6/3.6 MB\u001b[0m \u001b[31m22.1 MB/s\u001b[0m eta \u001b[36m0:00:00\u001b[0m\n",
            "\u001b[?25hDownloading lifelines-0.30.0-py3-none-any.whl (349 kB)\n",
            "\u001b[2K   \u001b[90m━━━━━━━━━━━━━━━━━━━━━━━━━━━━━━━━━━━━━━━━\u001b[0m \u001b[32m349.3/349.3 kB\u001b[0m \u001b[31m8.1 MB/s\u001b[0m eta \u001b[36m0:00:00\u001b[0m\n",
            "\u001b[?25hDownloading pygam-0.9.1-py3-none-any.whl (522 kB)\n",
            "\u001b[2K   \u001b[90m━━━━━━━━━━━━━━━━━━━━━━━━━━━━━━━━━━━━━━━━\u001b[0m \u001b[32m522.0/522.0 kB\u001b[0m \u001b[31m16.1 MB/s\u001b[0m eta \u001b[36m0:00:00\u001b[0m\n",
            "\u001b[?25hDownloading scipy-1.11.4-cp310-cp310-manylinux_2_17_x86_64.manylinux2014_x86_64.whl (36.4 MB)\n",
            "\u001b[2K   \u001b[90m━━━━━━━━━━━━━━━━━━━━━━━━━━━━━━━━━━━━━━━━\u001b[0m \u001b[32m36.4/36.4 MB\u001b[0m \u001b[31m14.7 MB/s\u001b[0m eta \u001b[36m0:00:00\u001b[0m\n",
            "\u001b[?25hDownloading pytorch_lightning-2.4.0-py3-none-any.whl (815 kB)\n",
            "\u001b[2K   \u001b[90m━━━━━━━━━━━━━━━━━━━━━━━━━━━━━━━━━━━━━━━━\u001b[0m \u001b[32m815.2/815.2 kB\u001b[0m \u001b[31m15.5 MB/s\u001b[0m eta \u001b[36m0:00:00\u001b[0m\n",
            "\u001b[?25hDownloading torchmetrics-1.5.1-py3-none-any.whl (890 kB)\n",
            "\u001b[2K   \u001b[90m━━━━━━━━━━━━━━━━━━━━━━━━━━━━━━━━━━━━━━━━\u001b[0m \u001b[32m890.6/890.6 kB\u001b[0m \u001b[31m23.4 MB/s\u001b[0m eta \u001b[36m0:00:00\u001b[0m\n",
            "\u001b[?25hDownloading formulaic-1.0.2-py3-none-any.whl (94 kB)\n",
            "\u001b[2K   \u001b[90m━━━━━━━━━━━━━━━━━━━━━━━━━━━━━━━━━━━━━━━━\u001b[0m \u001b[32m94.5/94.5 kB\u001b[0m \u001b[31m5.4 MB/s\u001b[0m eta \u001b[36m0:00:00\u001b[0m\n",
            "\u001b[?25hDownloading lightning_utilities-0.11.8-py3-none-any.whl (26 kB)\n",
            "Downloading interface_meta-1.3.0-py3-none-any.whl (14 kB)\n",
            "Building wheels for collected packages: autograd-gamma\n",
            "  Building wheel for autograd-gamma (setup.py) ... \u001b[?25l\u001b[?25hdone\n",
            "  Created wheel for autograd-gamma: filename=autograd_gamma-0.5.0-py3-none-any.whl size=4031 sha256=454a5c80259f8a4d28841820f82f0d482f4a13f09036bdac0dc9916bf7323cf6\n",
            "  Stored in directory: /root/.cache/pip/wheels/25/cc/e0/ef2969164144c899fedb22b338f6703e2b9cf46eeebf254991\n",
            "Successfully built autograd-gamma\n",
            "Installing collected packages: scipy, lightning-utilities, interface-meta, autograd-gamma, torchmetrics, pygam, formulaic, lifelines, pytorch-lightning, ISLP\n",
            "  Attempting uninstall: scipy\n",
            "    Found existing installation: scipy 1.13.1\n",
            "    Uninstalling scipy-1.13.1:\n",
            "      Successfully uninstalled scipy-1.13.1\n",
            "Successfully installed ISLP-0.4.0 autograd-gamma-0.5.0 formulaic-1.0.2 interface-meta-1.3.0 lifelines-0.30.0 lightning-utilities-0.11.8 pygam-0.9.1 pytorch-lightning-2.4.0 scipy-1.11.4 torchmetrics-1.5.1\n"
          ]
        }
      ]
    },
    {
      "cell_type": "code",
      "source": [
        "from ISLP import load_data\n",
        "weekly = load_data('Weekly')\n",
        "weekly.columns"
      ],
      "metadata": {
        "id": "FNWEus13NaoM",
        "colab": {
          "base_uri": "https://localhost:8080/"
        },
        "outputId": "97636ff6-3d61-4caf-bf5a-0cb7e5307f05"
      },
      "execution_count": 2,
      "outputs": [
        {
          "output_type": "execute_result",
          "data": {
            "text/plain": [
              "Index(['Year', 'Lag1', 'Lag2', 'Lag3', 'Lag4', 'Lag5', 'Volume', 'Today',\n",
              "       'Direction'],\n",
              "      dtype='object')"
            ]
          },
          "metadata": {},
          "execution_count": 2
        }
      ]
    },
    {
      "cell_type": "code",
      "source": [
        "# Create a binary response variable (1 for \"Up,\" 0 for \"Down\")\n",
        "weekly['Direction_binary'] = (weekly['Direction'] == 'Up').astype(int)\n",
        "\n",
        "#Summary statistics\n",
        "print(weekly.describe())"
      ],
      "metadata": {
        "colab": {
          "base_uri": "https://localhost:8080/"
        },
        "id": "RPVviYwuVa7q",
        "outputId": "b29d2a0a-55b9-4374-8dd5-27c12a43d983"
      },
      "execution_count": null,
      "outputs": [
        {
          "output_type": "stream",
          "name": "stdout",
          "text": [
            "              Year         Lag1         Lag2         Lag3         Lag4  \\\n",
            "count  1089.000000  1089.000000  1089.000000  1089.000000  1089.000000   \n",
            "mean   2000.048669     0.150585     0.151079     0.147205     0.145818   \n",
            "std       6.033182     2.357013     2.357254     2.360502     2.360279   \n",
            "min    1990.000000   -18.195000   -18.195000   -18.195000   -18.195000   \n",
            "25%    1995.000000    -1.154000    -1.154000    -1.158000    -1.158000   \n",
            "50%    2000.000000     0.241000     0.241000     0.241000     0.238000   \n",
            "75%    2005.000000     1.405000     1.409000     1.409000     1.409000   \n",
            "max    2010.000000    12.026000    12.026000    12.026000    12.026000   \n",
            "\n",
            "              Lag5       Volume        Today  Direction_binary  \n",
            "count  1089.000000  1089.000000  1089.000000       1089.000000  \n",
            "mean      0.139893     1.574618     0.149899          0.555556  \n",
            "std       2.361285     1.686636     2.356927          0.497132  \n",
            "min     -18.195000     0.087465   -18.195000          0.000000  \n",
            "25%      -1.166000     0.332022    -1.154000          0.000000  \n",
            "50%       0.234000     1.002680     0.241000          1.000000  \n",
            "75%       1.405000     2.053727     1.405000          1.000000  \n",
            "max      12.026000     9.328214    12.026000          1.000000  \n"
          ]
        }
      ]
    },
    {
      "cell_type": "markdown",
      "source": [
        "Range of Lag 1-5 and Today are the same, litter different on the inter quartile range. The mean of Lag 1-5 and Today are similar.Also, the standard deviation of approximately 2.36 for both Lag Variables and \"Today\" indicates that, on average, the data points for these variables tend to be within a similar range of values from their respective means, and their minimum and maximum prove that.\n",
        "\n",
        "The similarity in standard deviations might suggest that these variables have comparable levels of dispersion"
      ],
      "metadata": {
        "id": "Anf1u4uhSUif"
      }
    },
    {
      "cell_type": "code",
      "source": [
        "#Correlation Matrix\n",
        "correlation_matrix = weekly.corr()\n",
        "print(correlation_matrix)"
      ],
      "metadata": {
        "colab": {
          "base_uri": "https://localhost:8080/"
        },
        "id": "wleOpsOrVtTJ",
        "outputId": "6aa6b559-2b55-4a98-cc7c-c9a42a7133bb"
      },
      "execution_count": null,
      "outputs": [
        {
          "output_type": "stream",
          "name": "stdout",
          "text": [
            "                      Year      Lag1      Lag2      Lag3      Lag4      Lag5  \\\n",
            "Year              1.000000 -0.032289 -0.033390 -0.030006 -0.031128 -0.030519   \n",
            "Lag1             -0.032289  1.000000 -0.074853  0.058636 -0.071274 -0.008183   \n",
            "Lag2             -0.033390 -0.074853  1.000000 -0.075721  0.058382 -0.072499   \n",
            "Lag3             -0.030006  0.058636 -0.075721  1.000000 -0.075396  0.060657   \n",
            "Lag4             -0.031128 -0.071274  0.058382 -0.075396  1.000000 -0.075675   \n",
            "Lag5             -0.030519 -0.008183 -0.072499  0.060657 -0.075675  1.000000   \n",
            "Volume            0.841942 -0.064951 -0.085513 -0.069288 -0.061075 -0.058517   \n",
            "Today            -0.032460 -0.075032  0.059167 -0.071244 -0.007826  0.011013   \n",
            "Direction_binary -0.022200 -0.050004  0.072696 -0.022913 -0.020549 -0.018168   \n",
            "\n",
            "                    Volume     Today  Direction_binary  \n",
            "Year              0.841942 -0.032460         -0.022200  \n",
            "Lag1             -0.064951 -0.075032         -0.050004  \n",
            "Lag2             -0.085513  0.059167          0.072696  \n",
            "Lag3             -0.069288 -0.071244         -0.022913  \n",
            "Lag4             -0.061075 -0.007826         -0.020549  \n",
            "Lag5             -0.058517  0.011013         -0.018168  \n",
            "Volume            1.000000 -0.033078         -0.017995  \n",
            "Today            -0.033078  1.000000          0.720025  \n",
            "Direction_binary -0.017995  0.720025          1.000000  \n"
          ]
        },
        {
          "output_type": "stream",
          "name": "stderr",
          "text": [
            "<ipython-input-13-ae4628085c0c>:2: FutureWarning: The default value of numeric_only in DataFrame.corr is deprecated. In a future version, it will default to False. Select only valid columns or specify the value of numeric_only to silence this warning.\n",
            "  correlation_matrix = weekly.corr()\n"
          ]
        }
      ]
    },
    {
      "cell_type": "code",
      "source": [
        "#Boxplot\n",
        "import matplotlib.pyplot as plt\n",
        "import seaborn as sns\n",
        "\n",
        "plt.figure(figsize=(10, 5))\n",
        "sns.boxplot(data=weekly[['Today' , 'Lag1', 'Lag2', 'Lag3', 'Lag4', 'Lag5']])\n",
        "plt.show()\n"
      ],
      "metadata": {
        "colab": {
          "base_uri": "https://localhost:8080/",
          "height": 445
        },
        "id": "fnCtBi5QkhGh",
        "outputId": "6b87889e-f5fb-46b5-8816-3465c21f3ee9"
      },
      "execution_count": null,
      "outputs": [
        {
          "output_type": "display_data",
          "data": {
            "text/plain": [
              "<Figure size 1000x500 with 1 Axes>"
            ],
            "image/png": "[encoded data removed]"
          },
          "metadata": {}
        }
      ]
    },
    {
      "cell_type": "markdown",
      "source": [
        "As mentioned, the similarity in standard deviations might suggest that these variables have comparable levels of dispersion. The above box plot showed that data of Today and Lag 1-5 these variables look basically identical after visualization, which is the same as the summary statistics suggested."
      ],
      "metadata": {
        "id": "_Ydz4u33S1xL"
      }
    },
    {
      "cell_type": "code",
      "source": [
        "plt.figure(figsize=(12, 6))\n",
        "plt.plot(weekly['Year'], weekly['Today'], linestyle='-', marker='o')\n",
        "plt.xlabel('Year')\n",
        "plt.ylabel('Weekly Returns')\n",
        "plt.title('Weekly Returns Over Time')\n",
        "plt.show()\n"
      ],
      "metadata": {
        "colab": {
          "base_uri": "https://localhost:8080/",
          "height": 564
        },
        "id": "tuC6ulbAGCNf",
        "outputId": "dec08598-d668-44b4-a07a-ccacc95b44b6"
      },
      "execution_count": null,
      "outputs": [
        {
          "output_type": "display_data",
          "data": {
            "text/plain": [
              "<Figure size 1200x600 with 1 Axes>"
            ],
            "image/png": "[encoded data removed]"
          },
          "metadata": {}
        }
      ]
    },
    {
      "cell_type": "markdown",
      "source": [
        "As the time series plot showed, I think the weekly return are fluctuate at a stable range, it seems that only have a few outlier after year 2007.5"
      ],
      "metadata": {
        "id": "nvbLj0LJX2KH"
      }
    },
    {
      "cell_type": "markdown",
      "source": [
        "##(b)\n",
        "Use the full data set to perform a logistic regression with\n",
        "Direction as the response and the five lag variables plus Volume\n",
        "as predictors. Use the summary function to print the results. Do\n",
        "any of the predictors appear to be statistically signifcant? If so,\n",
        "which ones?"
      ],
      "metadata": {
        "id": "qw8MMSOJMw_6"
      }
    },
    {
      "cell_type": "code",
      "source": [
        "import statsmodels.api as sm\n",
        "\n",
        "# Create a binary response variable (1 for \"Up,\" 0 for \"Down\")\n",
        "weekly['Direction_binary'] = (weekly['Direction'] == 'Up').astype(int)\n",
        "\n",
        "# Define predictors and response\n",
        "X = weekly[['Lag1', 'Lag2', 'Lag3', 'Lag4', 'Lag5', 'Volume']]\n",
        "y = weekly['Direction_binary']\n",
        "\n",
        "# Add a constant to the predictors (intercept)\n",
        "X = sm.add_constant(X)\n",
        "\n",
        "# Fit the logistic regression model\n",
        "model = sm.Logit(y, X)\n",
        "result = model.fit()\n",
        "\n",
        "# Print the summary of the logistic regression results\n",
        "print(result.summary())\n"
      ],
      "metadata": {
        "colab": {
          "base_uri": "https://localhost:8080/"
        },
        "id": "--SEBomsF1Tf",
        "outputId": "a4bbd0bd-ebca-445a-9c28-b90664a6d486"
      },
      "execution_count": 3,
      "outputs": [
        {
          "output_type": "stream",
          "name": "stdout",
          "text": [
            "Optimization terminated successfully.\n",
            "         Current function value: 0.682441\n",
            "         Iterations 4\n",
            "                           Logit Regression Results                           \n",
            "==============================================================================\n",
            "Dep. Variable:       Direction_binary   No. Observations:                 1089\n",
            "Model:                          Logit   Df Residuals:                     1082\n",
            "Method:                           MLE   Df Model:                            6\n",
            "Date:                Sun, 03 Nov 2024   Pseudo R-squ.:                0.006580\n",
            "Time:                        13:37:43   Log-Likelihood:                -743.18\n",
            "converged:                       True   LL-Null:                       -748.10\n",
            "Covariance Type:            nonrobust   LLR p-value:                    0.1313\n",
            "==============================================================================\n",
            "                 coef    std err          z      P>|z|      [0.025      0.975]\n",
            "------------------------------------------------------------------------------\n",
            "const          0.2669      0.086      3.106      0.002       0.098       0.435\n",
            "Lag1          -0.0413      0.026     -1.563      0.118      -0.093       0.010\n",
            "Lag2           0.0584      0.027      2.175      0.030       0.006       0.111\n",
            "Lag3          -0.0161      0.027     -0.602      0.547      -0.068       0.036\n",
            "Lag4          -0.0278      0.026     -1.050      0.294      -0.080       0.024\n",
            "Lag5          -0.0145      0.026     -0.549      0.583      -0.066       0.037\n",
            "Volume        -0.0227      0.037     -0.616      0.538      -0.095       0.050\n",
            "==============================================================================\n"
          ]
        }
      ]
    },
    {
      "cell_type": "markdown",
      "source": [
        "For the p-values associated with each coefficient. A low p-value (typically less than 0.05) suggests that the predictor is statistically significant in predicting the response variable.\n",
        "\n",
        "The p-value (0.030) suggests that \"Lag2\" is statistically significant in predicting the response.\n",
        "\n",
        "For other predictors, like \"Lag1,\" \"Lag3,\" \"Lag4,\" \"Lag5,\" and \"Volume,\" their coefficients may not be statistically significant, as indicated by their p-values, which are relatively high (greater than 0.05)."
      ],
      "metadata": {
        "id": "-ZtDGPeqiqtO"
      }
    },
    {
      "cell_type": "markdown",
      "source": [
        "##(c)\n",
        "Compute the confusion matrix and overall fraction of correct\n",
        "predictions. Explain what the confusion matrix is telling you\n",
        "about the types of mistakes made by logistic regression."
      ],
      "metadata": {
        "id": "I8TsH3asMxgu"
      }
    },
    {
      "cell_type": "code",
      "source": [
        "from sklearn.metrics import confusion_matrix, accuracy_score\n",
        "\n",
        "# Predict the binary response using the logistic regression model\n",
        "predicted = result.predict(X) > 0.5  # Set a threshold of 0.5 for binary classification\n",
        "\n",
        "# Compute the confusion matrix\n",
        "confusion = confusion_matrix(y, predicted)\n",
        "\n",
        "# Compute the overall fraction of correct predictions\n",
        "accuracy = accuracy_score(y, predicted)\n",
        "\n",
        "print(\"Confusion Matrix:\")\n",
        "print(confusion)\n",
        "print(f\"Overall Fraction of Correct Predictions: {accuracy:.4f}\")\n"
      ],
      "metadata": {
        "id": "DlE20e3dNCGg",
        "colab": {
          "base_uri": "https://localhost:8080/"
        },
        "outputId": "1cf9d458-36b0-4090-cbb4-7de36fef8f30"
      },
      "execution_count": null,
      "outputs": [
        {
          "output_type": "stream",
          "name": "stdout",
          "text": [
            "Confusion Matrix:\n",
            "[[ 54 430]\n",
            " [ 48 557]]\n",
            "Overall Fraction of Correct Predictions: 0.5611\n"
          ]
        }
      ]
    },
    {
      "cell_type": "markdown",
      "source": [
        "The confusion matrix will be a 2x2 matrix with the following elements:\n",
        "\n",
        "True Positives (TP): The number of actual \"Up\" cases correctly predicted as \"Up.\"\\\n",
        "True Negatives (TN): The number of actual \"Down\" cases correctly predicted as \"Down.\"\\\n",
        "False Positives (FP): The number of actual \"Down\" cases incorrectly predicted as \"Up.\"\\\n",
        "False Negatives (FN): The number of actual \"Up\" cases incorrectly predicted as \"Down.\"\\\n",
        "The overall fraction of correct predictions is the accuracy of the model, indicating the proportion of correctly classified instances.\n",
        "\n",
        "Interpreting the confusion matrix:\n",
        "\n",
        "If the model's predictions are perfect, you would have all counts in the main diagonal (TP and TN) and zeros in the off-diagonal elements (FP and FN).\\\n",
        "The number of false positives (FP) represents the cases where the model incorrectly predicted \"Up\" when the actual direction was \"Down.\"\\\n",
        "The number of false negatives (FN) represents the cases where the model incorrectly predicted \"Down\" when the actual direction was \"Up.\""
      ],
      "metadata": {
        "id": "mPnrQiPKerMX"
      }
    },
    {
      "cell_type": "markdown",
      "source": [
        "##(d)\n",
        "Now fit the logistic regression model using a training data period\n",
        "from 1990 to 2008, with Lag2 as the only predictor. Compute the\n",
        "confusion matrix and the overall fraction of correct predictions\n",
        "for the held out data (that is, the data from 2009 and 2010)."
      ],
      "metadata": {
        "id": "tG7JcMquMxtV"
      }
    },
    {
      "cell_type": "code",
      "source": [
        "from sklearn.metrics import confusion_matrix, accuracy_score\n",
        "# Define the training and testing data periods\n",
        "train_data = weekly[weekly['Year'] <= 2008]\n",
        "test_data = weekly[weekly['Year'] >= 2009]\n",
        "\n",
        "# Select the \"Lag2\" variable as the predictor for the model\n",
        "X_train = sm.add_constant(train_data[['Lag2']])  # Add intercept\n",
        "y_train = train_data['Direction_binary']\n",
        "\n",
        "X_test = sm.add_constant(test_data[['Lag2']])  # Add intercept\n",
        "y_test = test_data['Direction_binary']\n",
        "\n",
        "# Add a constant to the predictors (intercept)\n",
        "x_train = sm.add_constant(X_train)\n",
        "\n",
        "# Fit the logistic regression model\n",
        "model = sm.Logit(y_train, X_train)\n",
        "result = model.fit()\n",
        "\n",
        "# Print the summary of the logistic regression results\n",
        "print(result.summary())\n",
        "\n",
        "# Predict using the test data\n",
        "y_pred = result.predict(X_test)>0.5 # Set a threshold of 0.5 for binary classification\n",
        "\n",
        "# Compute the confusion matrix and the overall fraction of correct predictions (accuracy)\n",
        "confusion = confusion_matrix(y_test, y_pred)\n",
        "accuracy = accuracy_score(y_test, y_pred)\n",
        "\n",
        "print(\"Confusion Matrix:\\n\", confusion)\n",
        "print(f\"Overall Fraction of Correct Predictions: {accuracy:.4f}\")"
      ],
      "metadata": {
        "colab": {
          "base_uri": "https://localhost:8080/"
        },
        "id": "0rKvkOFUahJH",
        "outputId": "f505cf0b-d5a8-4d34-bee7-ad3661d51ae4"
      },
      "execution_count": 5,
      "outputs": [
        {
          "output_type": "stream",
          "name": "stdout",
          "text": [
            "Optimization terminated successfully.\n",
            "         Current function value: 0.685555\n",
            "         Iterations 4\n",
            "                           Logit Regression Results                           \n",
            "==============================================================================\n",
            "Dep. Variable:       Direction_binary   No. Observations:                  985\n",
            "Model:                          Logit   Df Residuals:                      983\n",
            "Method:                           MLE   Df Model:                            1\n",
            "Date:                Sun, 03 Nov 2024   Pseudo R-squ.:                0.003076\n",
            "Time:                        13:38:48   Log-Likelihood:                -675.27\n",
            "converged:                       True   LL-Null:                       -677.35\n",
            "Covariance Type:            nonrobust   LLR p-value:                   0.04123\n",
            "==============================================================================\n",
            "                 coef    std err          z      P>|z|      [0.025      0.975]\n",
            "------------------------------------------------------------------------------\n",
            "const          0.2033      0.064      3.162      0.002       0.077       0.329\n",
            "Lag2           0.0581      0.029      2.024      0.043       0.002       0.114\n",
            "==============================================================================\n",
            "Confusion Matrix:\n",
            " [[ 9 34]\n",
            " [ 5 56]]\n",
            "Overall Fraction of Correct Predictions: 0.6250\n"
          ]
        }
      ]
    }
  ]
}