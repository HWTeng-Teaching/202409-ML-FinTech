{
  "nbformat": 4,
  "nbformat_minor": 0,
  "metadata": {
    "colab": {
      "provenance": [],
      "collapsed_sections": [
        "Vo-eOCKhzsDo",
        "FR9b1CUaIclC",
        "KWn8cJ0FmTsS",
        "j_GKmXNCMv90",
        "hHHk_phHP1-o",
        "7uaagrrXP4o6"
      ]
    },
    "kernelspec": {
      "name": "python3",
      "display_name": "Python 3"
    },
    "language_info": {
      "name": "python"
    }
  },
  "cells": [
    {
      "cell_type": "markdown",
      "source": [
        "#Machine Learning and FinTech 2024/25\n",
        "##Homework 1028 reference answer\n",
        "By TA, Chan Nok Hang"
      ],
      "metadata": {
        "id": "vwgWYcgAdNmr"
      }
    },
    {
      "cell_type": "markdown",
      "source": [
        "| Name  | HW CODE  | Question                                            |\n",
        "|-------|----------|-----------------------------------------------------|\n",
        "| Roy   | HW1029Q1 | Ch04_Q13(e,f,g,h,i,j) in page 197 (Logistic Regression) |\n",
        "| Ethan | HW1029Q2 | Ch04_Q2 in page 193 (LDA)                           |\n",
        "| Jack  | HW1029Q3 | Ch04_Q6 in page 195 (Logistic Regression)           |\n",
        "| Simon | HW1029Q4 | Ch04_Q14 in page 197 (ALL)                          |\n",
        "| Lynn  | HW1029Q5 | Ch04_Q15 in page 198 (ALL)                          |"
      ],
      "metadata": {
        "id": "sFZTIbW6RVO-"
      }
    },
    {
      "cell_type": "markdown",
      "source": [
        "#Ch4_Q13 part e-j:\n",
        "13. This question should be answered using the Weekly data set, which\n",
        " is part of the ISLP package. This data is similar in nature to the\n",
        " Smarket data from this chapter’s lab, except that it contains 1,089\n",
        " weekly returns for 21 years, from the beginning of 1990 to the end of\n",
        " 2010."
      ],
      "metadata": {
        "id": "Vo-eOCKhzsDo"
      }
    },
    {
      "cell_type": "markdown",
      "source": [
        "##(e)\n",
        "Repeat (d) using LDA.\n"
      ],
      "metadata": {
        "id": "FR9b1CUaIclC"
      }
    },
    {
      "cell_type": "code",
      "source": [
        "pip install ISLP"
      ],
      "metadata": {
        "colab": {
          "base_uri": "https://localhost:8080/",
          "height": 1000
        },
        "id": "_EIYZV31All-",
        "outputId": "2a53c307-4b8b-4cd2-ffc5-fabfd7bd67a9"
      },
      "execution_count": null,
      "outputs": [
        {
          "output_type": "stream",
          "name": "stdout",
          "text": [
            "Collecting ISLP\n",
            "  Downloading ISLP-0.3.21-py3-none-any.whl (3.6 MB)\n",
            "\u001b[?25l     \u001b[90m━━━━━━━━━━━━━━━━━━━━━━━━━━━━━━━━━━━━━━━━\u001b[0m \u001b[32m0.0/3.6 MB\u001b[0m \u001b[31m?\u001b[0m eta \u001b[36m-:--:--\u001b[0m\r\u001b[2K     \u001b[91m╸\u001b[0m\u001b[90m━━━━━━━━━━━━━━━━━━━━━━━━━━━━━━━━━━━━━━━\u001b[0m \u001b[32m0.1/3.6 MB\u001b[0m \u001b[31m2.3 MB/s\u001b[0m eta \u001b[36m0:00:02\u001b[0m\r\u001b[2K     \u001b[91m━━━━━━━━━━━━━━━━━━\u001b[0m\u001b[90m╺\u001b[0m\u001b[90m━━━━━━━━━━━━━━━━━━━━━\u001b[0m \u001b[32m1.6/3.6 MB\u001b[0m \u001b[31m24.0 MB/s\u001b[0m eta \u001b[36m0:00:01\u001b[0m\r\u001b[2K     \u001b[91m━━━━━━━━━━━━━━━━━━━━━━━━━━━━━━━━━━━━━━━\u001b[0m\u001b[91m╸\u001b[0m \u001b[32m3.6/3.6 MB\u001b[0m \u001b[31m40.0 MB/s\u001b[0m eta \u001b[36m0:00:01\u001b[0m\r\u001b[2K     \u001b[90m━━━━━━━━━━━━━━━━━━━━━━━━━━━━━━━━━━━━━━━━\u001b[0m \u001b[32m3.6/3.6 MB\u001b[0m \u001b[31m31.9 MB/s\u001b[0m eta \u001b[36m0:00:00\u001b[0m\n",
            "\u001b[?25hRequirement already satisfied: numpy<1.25,>=1.7.1 in /usr/local/lib/python3.10/dist-packages (from ISLP) (1.23.5)\n",
            "Requirement already satisfied: scipy>=0.9 in /usr/local/lib/python3.10/dist-packages (from ISLP) (1.11.3)\n",
            "Requirement already satisfied: pandas<=1.9,>=0.20 in /usr/local/lib/python3.10/dist-packages (from ISLP) (1.5.3)\n",
            "Requirement already satisfied: lxml in /usr/local/lib/python3.10/dist-packages (from ISLP) (4.9.3)\n",
            "Requirement already satisfied: scikit-learn>=1.2 in /usr/local/lib/python3.10/dist-packages (from ISLP) (1.2.2)\n",
            "Requirement already satisfied: joblib in /usr/local/lib/python3.10/dist-packages (from ISLP) (1.3.2)\n",
            "Requirement already satisfied: statsmodels>=0.13 in /usr/local/lib/python3.10/dist-packages (from ISLP) (0.14.0)\n",
            "Collecting lifelines (from ISLP)\n",
            "  Downloading lifelines-0.27.8-py3-none-any.whl (350 kB)\n",
            "\u001b[2K     \u001b[90m━━━━━━━━━━━━━━━━━━━━━━━━━━━━━━━━━━━━━━━━\u001b[0m \u001b[32m350.7/350.7 kB\u001b[0m \u001b[31m30.4 MB/s\u001b[0m eta \u001b[36m0:00:00\u001b[0m\n",
            "\u001b[?25hCollecting pygam (from ISLP)\n",
            "  Downloading pygam-0.9.0-py3-none-any.whl (522 kB)\n",
            "\u001b[2K     \u001b[90m━━━━━━━━━━━━━━━━━━━━━━━━━━━━━━━━━━━━━━━━\u001b[0m \u001b[32m522.2/522.2 kB\u001b[0m \u001b[31m36.2 MB/s\u001b[0m eta \u001b[36m0:00:00\u001b[0m\n",
            "\u001b[?25hRequirement already satisfied: torch in /usr/local/lib/python3.10/dist-packages (from ISLP) (2.1.0+cu118)\n",
            "Collecting pytorch-lightning (from ISLP)\n",
            "  Downloading pytorch_lightning-2.1.2-py3-none-any.whl (776 kB)\n",
            "\u001b[2K     \u001b[90m━━━━━━━━━━━━━━━━━━━━━━━━━━━━━━━━━━━━━━━━\u001b[0m \u001b[32m776.9/776.9 kB\u001b[0m \u001b[31m55.6 MB/s\u001b[0m eta \u001b[36m0:00:00\u001b[0m\n",
            "\u001b[?25hCollecting torchmetrics (from ISLP)\n",
            "  Downloading torchmetrics-1.2.0-py3-none-any.whl (805 kB)\n",
            "\u001b[2K     \u001b[90m━━━━━━━━━━━━━━━━━━━━━━━━━━━━━━━━━━━━━━━━\u001b[0m \u001b[32m805.2/805.2 kB\u001b[0m \u001b[31m43.9 MB/s\u001b[0m eta \u001b[36m0:00:00\u001b[0m\n",
            "\u001b[?25hRequirement already satisfied: python-dateutil>=2.8.1 in /usr/local/lib/python3.10/dist-packages (from pandas<=1.9,>=0.20->ISLP) (2.8.2)\n",
            "Requirement already satisfied: pytz>=2020.1 in /usr/local/lib/python3.10/dist-packages (from pandas<=1.9,>=0.20->ISLP) (2023.3.post1)\n",
            "Requirement already satisfied: threadpoolctl>=2.0.0 in /usr/local/lib/python3.10/dist-packages (from scikit-learn>=1.2->ISLP) (3.2.0)\n",
            "Requirement already satisfied: patsy>=0.5.2 in /usr/local/lib/python3.10/dist-packages (from statsmodels>=0.13->ISLP) (0.5.3)\n",
            "Requirement already satisfied: packaging>=21.3 in /usr/local/lib/python3.10/dist-packages (from statsmodels>=0.13->ISLP) (23.2)\n",
            "Requirement already satisfied: matplotlib>=3.0 in /usr/local/lib/python3.10/dist-packages (from lifelines->ISLP) (3.7.1)\n",
            "Requirement already satisfied: autograd>=1.5 in /usr/local/lib/python3.10/dist-packages (from lifelines->ISLP) (1.6.2)\n",
            "Collecting autograd-gamma>=0.3 (from lifelines->ISLP)\n",
            "  Downloading autograd-gamma-0.5.0.tar.gz (4.0 kB)\n",
            "  Preparing metadata (setup.py) ... \u001b[?25l\u001b[?25hdone\n",
            "Collecting formulaic>=0.2.2 (from lifelines->ISLP)\n",
            "  Downloading formulaic-0.6.6-py3-none-any.whl (91 kB)\n",
            "\u001b[2K     \u001b[90m━━━━━━━━━━━━━━━━━━━━━━━━━━━━━━━━━━━━━━━━\u001b[0m \u001b[32m91.0/91.0 kB\u001b[0m \u001b[31m10.2 MB/s\u001b[0m eta \u001b[36m0:00:00\u001b[0m\n",
            "\u001b[?25hCollecting numpy<1.25,>=1.7.1 (from ISLP)\n",
            "  Downloading numpy-1.24.4-cp310-cp310-manylinux_2_17_x86_64.manylinux2014_x86_64.whl (17.3 MB)\n",
            "\u001b[2K     \u001b[90m━━━━━━━━━━━━━━━━━━━━━━━━━━━━━━━━━━━━━━━━\u001b[0m \u001b[32m17.3/17.3 MB\u001b[0m \u001b[31m73.3 MB/s\u001b[0m eta \u001b[36m0:00:00\u001b[0m\n",
            "\u001b[?25hRequirement already satisfied: progressbar2<5.0.0,>=4.2.0 in /usr/local/lib/python3.10/dist-packages (from pygam->ISLP) (4.2.0)\n",
            "Requirement already satisfied: tqdm>=4.57.0 in /usr/local/lib/python3.10/dist-packages (from pytorch-lightning->ISLP) (4.66.1)\n",
            "Requirement already satisfied: PyYAML>=5.4 in /usr/local/lib/python3.10/dist-packages (from pytorch-lightning->ISLP) (6.0.1)\n",
            "Requirement already satisfied: fsspec[http]>2021.06.0 in /usr/local/lib/python3.10/dist-packages (from pytorch-lightning->ISLP) (2023.6.0)\n",
            "Requirement already satisfied: typing-extensions>=4.0.0 in /usr/local/lib/python3.10/dist-packages (from pytorch-lightning->ISLP) (4.5.0)\n",
            "Collecting lightning-utilities>=0.8.0 (from pytorch-lightning->ISLP)\n",
            "  Downloading lightning_utilities-0.10.0-py3-none-any.whl (24 kB)\n",
            "Requirement already satisfied: filelock in /usr/local/lib/python3.10/dist-packages (from torch->ISLP) (3.13.1)\n",
            "Requirement already satisfied: sympy in /usr/local/lib/python3.10/dist-packages (from torch->ISLP) (1.12)\n",
            "Requirement already satisfied: networkx in /usr/local/lib/python3.10/dist-packages (from torch->ISLP) (3.2.1)\n",
            "Requirement already satisfied: jinja2 in /usr/local/lib/python3.10/dist-packages (from torch->ISLP) (3.1.2)\n",
            "Requirement already satisfied: triton==2.1.0 in /usr/local/lib/python3.10/dist-packages (from torch->ISLP) (2.1.0)\n",
            "Requirement already satisfied: future>=0.15.2 in /usr/local/lib/python3.10/dist-packages (from autograd>=1.5->lifelines->ISLP) (0.18.3)\n",
            "Collecting astor>=0.8 (from formulaic>=0.2.2->lifelines->ISLP)\n",
            "  Downloading astor-0.8.1-py2.py3-none-any.whl (27 kB)\n",
            "Collecting interface-meta>=1.2.0 (from formulaic>=0.2.2->lifelines->ISLP)\n",
            "  Downloading interface_meta-1.3.0-py3-none-any.whl (14 kB)\n",
            "Requirement already satisfied: wrapt>=1.0 in /usr/local/lib/python3.10/dist-packages (from formulaic>=0.2.2->lifelines->ISLP) (1.14.1)\n",
            "Requirement already satisfied: requests in /usr/local/lib/python3.10/dist-packages (from fsspec[http]>2021.06.0->pytorch-lightning->ISLP) (2.31.0)\n",
            "Requirement already satisfied: aiohttp!=4.0.0a0,!=4.0.0a1 in /usr/local/lib/python3.10/dist-packages (from fsspec[http]>2021.06.0->pytorch-lightning->ISLP) (3.8.6)\n",
            "Requirement already satisfied: setuptools in /usr/local/lib/python3.10/dist-packages (from lightning-utilities>=0.8.0->pytorch-lightning->ISLP) (67.7.2)\n",
            "Requirement already satisfied: contourpy>=1.0.1 in /usr/local/lib/python3.10/dist-packages (from matplotlib>=3.0->lifelines->ISLP) (1.2.0)\n",
            "Requirement already satisfied: cycler>=0.10 in /usr/local/lib/python3.10/dist-packages (from matplotlib>=3.0->lifelines->ISLP) (0.12.1)\n",
            "Requirement already satisfied: fonttools>=4.22.0 in /usr/local/lib/python3.10/dist-packages (from matplotlib>=3.0->lifelines->ISLP) (4.44.3)\n",
            "Requirement already satisfied: kiwisolver>=1.0.1 in /usr/local/lib/python3.10/dist-packages (from matplotlib>=3.0->lifelines->ISLP) (1.4.5)\n",
            "Requirement already satisfied: pillow>=6.2.0 in /usr/local/lib/python3.10/dist-packages (from matplotlib>=3.0->lifelines->ISLP) (9.4.0)\n",
            "Requirement already satisfied: pyparsing>=2.3.1 in /usr/local/lib/python3.10/dist-packages (from matplotlib>=3.0->lifelines->ISLP) (3.1.1)\n",
            "Requirement already satisfied: six in /usr/local/lib/python3.10/dist-packages (from patsy>=0.5.2->statsmodels>=0.13->ISLP) (1.16.0)\n",
            "Requirement already satisfied: python-utils>=3.0.0 in /usr/local/lib/python3.10/dist-packages (from progressbar2<5.0.0,>=4.2.0->pygam->ISLP) (3.8.1)\n",
            "Requirement already satisfied: MarkupSafe>=2.0 in /usr/local/lib/python3.10/dist-packages (from jinja2->torch->ISLP) (2.1.3)\n",
            "Requirement already satisfied: mpmath>=0.19 in /usr/local/lib/python3.10/dist-packages (from sympy->torch->ISLP) (1.3.0)\n",
            "Requirement already satisfied: attrs>=17.3.0 in /usr/local/lib/python3.10/dist-packages (from aiohttp!=4.0.0a0,!=4.0.0a1->fsspec[http]>2021.06.0->pytorch-lightning->ISLP) (23.1.0)\n",
            "Requirement already satisfied: charset-normalizer<4.0,>=2.0 in /usr/local/lib/python3.10/dist-packages (from aiohttp!=4.0.0a0,!=4.0.0a1->fsspec[http]>2021.06.0->pytorch-lightning->ISLP) (3.3.2)\n",
            "Requirement already satisfied: multidict<7.0,>=4.5 in /usr/local/lib/python3.10/dist-packages (from aiohttp!=4.0.0a0,!=4.0.0a1->fsspec[http]>2021.06.0->pytorch-lightning->ISLP) (6.0.4)\n",
            "Requirement already satisfied: async-timeout<5.0,>=4.0.0a3 in /usr/local/lib/python3.10/dist-packages (from aiohttp!=4.0.0a0,!=4.0.0a1->fsspec[http]>2021.06.0->pytorch-lightning->ISLP) (4.0.3)\n",
            "Requirement already satisfied: yarl<2.0,>=1.0 in /usr/local/lib/python3.10/dist-packages (from aiohttp!=4.0.0a0,!=4.0.0a1->fsspec[http]>2021.06.0->pytorch-lightning->ISLP) (1.9.2)\n",
            "Requirement already satisfied: frozenlist>=1.1.1 in /usr/local/lib/python3.10/dist-packages (from aiohttp!=4.0.0a0,!=4.0.0a1->fsspec[http]>2021.06.0->pytorch-lightning->ISLP) (1.4.0)\n",
            "Requirement already satisfied: aiosignal>=1.1.2 in /usr/local/lib/python3.10/dist-packages (from aiohttp!=4.0.0a0,!=4.0.0a1->fsspec[http]>2021.06.0->pytorch-lightning->ISLP) (1.3.1)\n",
            "Requirement already satisfied: idna<4,>=2.5 in /usr/local/lib/python3.10/dist-packages (from requests->fsspec[http]>2021.06.0->pytorch-lightning->ISLP) (3.4)\n",
            "Requirement already satisfied: urllib3<3,>=1.21.1 in /usr/local/lib/python3.10/dist-packages (from requests->fsspec[http]>2021.06.0->pytorch-lightning->ISLP) (2.0.7)\n",
            "Requirement already satisfied: certifi>=2017.4.17 in /usr/local/lib/python3.10/dist-packages (from requests->fsspec[http]>2021.06.0->pytorch-lightning->ISLP) (2023.7.22)\n",
            "Building wheels for collected packages: autograd-gamma\n",
            "  Building wheel for autograd-gamma (setup.py) ... \u001b[?25l\u001b[?25hdone\n",
            "  Created wheel for autograd-gamma: filename=autograd_gamma-0.5.0-py3-none-any.whl size=4030 sha256=ef0b7d40df530fa5a79c322beeebf9f70251badc9ea0ba33c4ced62c02798f90\n",
            "  Stored in directory: /root/.cache/pip/wheels/25/cc/e0/ef2969164144c899fedb22b338f6703e2b9cf46eeebf254991\n",
            "Successfully built autograd-gamma\n",
            "Installing collected packages: numpy, lightning-utilities, interface-meta, astor, torchmetrics, pygam, formulaic, autograd-gamma, pytorch-lightning, lifelines, ISLP\n",
            "  Attempting uninstall: numpy\n",
            "    Found existing installation: numpy 1.23.5\n",
            "    Uninstalling numpy-1.23.5:\n",
            "      Successfully uninstalled numpy-1.23.5\n",
            "\u001b[31mERROR: pip's dependency resolver does not currently take into account all the packages that are installed. This behaviour is the source of the following dependency conflicts.\n",
            "lida 0.0.10 requires fastapi, which is not installed.\n",
            "lida 0.0.10 requires kaleido, which is not installed.\n",
            "lida 0.0.10 requires python-multipart, which is not installed.\n",
            "lida 0.0.10 requires uvicorn, which is not installed.\u001b[0m\u001b[31m\n",
            "\u001b[0mSuccessfully installed ISLP-0.3.21 astor-0.8.1 autograd-gamma-0.5.0 formulaic-0.6.6 interface-meta-1.3.0 lifelines-0.27.8 lightning-utilities-0.10.0 numpy-1.24.4 pygam-0.9.0 pytorch-lightning-2.1.2 torchmetrics-1.2.0\n"
          ]
        },
        {
          "output_type": "display_data",
          "data": {
            "application/vnd.colab-display-data+json": {
              "pip_warning": {
                "packages": [
                  "numpy"
                ]
              }
            }
          },
          "metadata": {}
        }
      ]
    },
    {
      "cell_type": "code",
      "source": [
        "import pandas as pd\n",
        "from ISLP import load_data\n",
        "from ISLP import confusion_table\n",
        "from sklearn.discriminant_analysis import LinearDiscriminantAnalysis\n",
        "from sklearn.metrics import accuracy_score\n",
        "\n",
        "# Load the \"Weekly\" dataset\n",
        "weekly = load_data('Weekly')\n",
        "\n",
        "# Create a binary response variable (1 for \"Up,\" 0 for \"Down\")\n",
        "weekly['Direction_binary'] = (weekly['Direction'] == 'Up').astype(int)\n",
        "\n",
        "# Define the training and testing data periods\n",
        "train_data = weekly[weekly['Year'] <= 2008]\n",
        "test_data = weekly[weekly['Year'] >= 2009]\n",
        "\n",
        "# Select the \"Lag2\" variable as the predictor for LDA\n",
        "X_train = train_data[['Lag2']]\n",
        "y_train = train_data['Direction_binary']\n",
        "\n",
        "X_test = test_data[['Lag2']]\n",
        "y_test = test_data['Direction_binary']\n",
        "\n",
        "# Fit the LDA model using only \"Lag2\" as the predictor\n",
        "model = LinearDiscriminantAnalysis()\n",
        "model.fit(X_train, y_train)\n",
        "\n",
        "# Predict using the test data\n",
        "lda_pred = model.predict(X_test)\n",
        "\n",
        "# Compute the confusion matrix\n",
        "confusion = confusion_table(lda_pred, y_test)\n",
        "\n",
        "# Compute the overall fraction of correct predictions (accuracy)\n",
        "accuracy = accuracy_score(y_test, lda_pred)\n",
        "\n",
        "print(\"Confusion Matrix:\")\n",
        "print(confusion)\n",
        "print(f\"Overall Fraction of Correct Predictions: {accuracy:.4f}\")\n"
      ],
      "metadata": {
        "colab": {
          "base_uri": "https://localhost:8080/"
        },
        "id": "ARv7sBIDIpM9",
        "outputId": "74b72e1d-ee1f-427f-b6a5-6c4345a493e2"
      },
      "execution_count": null,
      "outputs": [
        {
          "output_type": "stream",
          "name": "stdout",
          "text": [
            "Confusion Matrix:\n",
            "Truth       0   1\n",
            "Predicted        \n",
            "0           9   5\n",
            "1          34  56\n",
            "Overall Fraction of Correct Predictions: 0.6250\n"
          ]
        }
      ]
    },
    {
      "cell_type": "markdown",
      "source": [
        "##(f)\n",
        "Repeat (d) using QDA.\n"
      ],
      "metadata": {
        "id": "5C_ulEOxIdPE"
      }
    },
    {
      "cell_type": "code",
      "source": [
        "from sklearn.discriminant_analysis import QuadraticDiscriminantAnalysis\n",
        "\n",
        "# Fit the QDA model using only \"Lag2\" as the predictor\n",
        "model = QuadraticDiscriminantAnalysis()\n",
        "model.fit(X_train, y_train)\n",
        "\n",
        "# Predict using the test data\n",
        "qda_pred = model.predict(X_test)\n",
        "\n",
        "# Compute the confusion matrix\n",
        "confusion = confusion_table(qda_pred, y_test)\n",
        "\n",
        "# Compute the overall fraction of correct predictions (accuracy)\n",
        "accuracy = accuracy_score(y_test, qda_pred)\n",
        "\n",
        "print(\"Confusion Matrix:\")\n",
        "print(confusion)\n",
        "print(f\"Overall Fraction of Correct Predictions: {accuracy:.4f}\")"
      ],
      "metadata": {
        "colab": {
          "base_uri": "https://localhost:8080/"
        },
        "id": "t4eGT_IGIpgT",
        "outputId": "fd39fc4f-f9fe-4bc9-c427-8657d8fc48d3"
      },
      "execution_count": null,
      "outputs": [
        {
          "output_type": "stream",
          "name": "stdout",
          "text": [
            "Confusion Matrix:\n",
            "Truth       0   1\n",
            "Predicted        \n",
            "0           0   0\n",
            "1          43  61\n",
            "Overall Fraction of Correct Predictions: 0.5865\n"
          ]
        }
      ]
    },
    {
      "cell_type": "markdown",
      "source": [
        "##(g)\n",
        "Repeat (d) using KNN with K = 1.\n"
      ],
      "metadata": {
        "id": "7yhFvXdvIdga"
      }
    },
    {
      "cell_type": "code",
      "source": [
        "from sklearn.neighbors import KNeighborsClassifier\n",
        "\n",
        "# Fit the KNN model with K=1 using only \"Lag2\" as the predictor\n",
        "model = KNeighborsClassifier(n_neighbors=1)\n",
        "model.fit(X_train, y_train)\n",
        "\n",
        "# Predict using the test data\n",
        "knn_pred = model.predict(X_test)\n",
        "\n",
        "# Compute the confusion matrix\n",
        "confusion = confusion_table(knn_pred, y_test)\n",
        "\n",
        "# Compute the overall fraction of correct predictions (accuracy)\n",
        "accuracy = accuracy_score(y_test, knn_pred)\n",
        "\n",
        "print(\"Confusion Matrix:\")\n",
        "print(confusion)\n",
        "print(f\"Overall Fraction of Correct Predictions: {accuracy:.4f}\")"
      ],
      "metadata": {
        "colab": {
          "base_uri": "https://localhost:8080/"
        },
        "id": "-VlB5cVGIqE3",
        "outputId": "a15e97bc-62e4-4a18-c064-cadead2b37e0"
      },
      "execution_count": null,
      "outputs": [
        {
          "output_type": "stream",
          "name": "stdout",
          "text": [
            "Confusion Matrix:\n",
            "Truth       0   1\n",
            "Predicted        \n",
            "0          22  32\n",
            "1          21  29\n",
            "Overall Fraction of Correct Predictions: 0.4904\n"
          ]
        }
      ]
    },
    {
      "cell_type": "markdown",
      "source": [
        "##(h)\n",
        "Repeat (d) using naive Bayes.\n"
      ],
      "metadata": {
        "id": "hki4KTAQIdq3"
      }
    },
    {
      "cell_type": "code",
      "source": [
        "from sklearn.naive_bayes import GaussianNB\n",
        "\n",
        "# Fit the Naive Bayes model using Gaussian Naive Bayes with only \"Lag2\" as the predictor\n",
        "model = GaussianNB()\n",
        "model.fit(X_train, y_train)\n",
        "\n",
        "# Predict using the test data\n",
        "gnb_pred = model.predict(X_test)\n",
        "\n",
        "# Compute the confusion matrix\n",
        "confusion = confusion_table(gnb_pred, y_test)\n",
        "\n",
        "# Compute the overall fraction of correct predictions (accuracy)\n",
        "accuracy = accuracy_score(y_test, gnb_pred)\n",
        "\n",
        "print(\"Confusion Matrix:\")\n",
        "print(confusion)\n",
        "print(f\"Overall Fraction of Correct Predictions: {accuracy:.4f}\")"
      ],
      "metadata": {
        "colab": {
          "base_uri": "https://localhost:8080/"
        },
        "id": "1e067WodIqiB",
        "outputId": "da79e2a3-0645-4389-87c3-aff0732e308f"
      },
      "execution_count": null,
      "outputs": [
        {
          "output_type": "stream",
          "name": "stdout",
          "text": [
            "Confusion Matrix:\n",
            "Truth       0   1\n",
            "Predicted        \n",
            "0           0   0\n",
            "1          43  61\n",
            "Overall Fraction of Correct Predictions: 0.5865\n"
          ]
        }
      ]
    },
    {
      "cell_type": "markdown",
      "source": [
        "##(i)\n",
        "Which of these methods appears to provide the best results on\n",
        "this data?\n"
      ],
      "metadata": {
        "id": "qHfbeLOtId_2"
      }
    },
    {
      "cell_type": "markdown",
      "source": [
        "To answer the question of which method provide the best results on the data, we can use the accuracy as a standard. According to the calculated accuracy on each method, we can said that the **Linear Discriminant Analysis** method is providing the best results on the data, as it have a highest **0.6250** accuracy."
      ],
      "metadata": {
        "id": "Tj2ggdHQLSx7"
      }
    },
    {
      "cell_type": "markdown",
      "source": [
        "##(j)\n",
        "Experiment with diferent combinations of predictors, including possible transformations and interactions, for each of the methods. Report the variables, method, and associated confusion matrix that appears to provide the best results on the held out data. Note that you should also experiment with values for K in the KNN classifer."
      ],
      "metadata": {
        "id": "XXLG4C5-IeQE"
      }
    },
    {
      "cell_type": "markdown",
      "source": [
        "###Load data and do train-test split"
      ],
      "metadata": {
        "id": "4eZiidCQSt4k"
      }
    },
    {
      "cell_type": "code",
      "source": [
        "import pandas as pd\n",
        "from ISLP import load_data\n",
        "from ISLP import confusion_table\n",
        "from sklearn.metrics import accuracy_score\n",
        "\n",
        "# Load the \"Weekly\" dataset\n",
        "weekly = load_data('Weekly')\n",
        "\n",
        "# Create a binary response variable (1 for \"Up,\" 0 for \"Down\")\n",
        "weekly['Direction_binary'] = (weekly['Direction'] == 'Up').astype(int)\n",
        "\n",
        "# Define the training and testing data periods\n",
        "train_data = weekly[weekly['Year'] <= 2008]\n",
        "test_data = weekly[weekly['Year'] >= 2009]\n",
        "\n",
        "# Select the \"Lag2\" variable as the predictor for LDA\n",
        "X_train = train_data[['Lag2']]\n",
        "y_train = train_data['Direction_binary']\n",
        "\n",
        "X_test = test_data[['Lag2']]\n",
        "y_test = test_data['Direction_binary']"
      ],
      "metadata": {
        "id": "bMsumPs0StlH"
      },
      "execution_count": null,
      "outputs": []
    },
    {
      "cell_type": "markdown",
      "source": [
        "###Logistic Regression:"
      ],
      "metadata": {
        "id": "vM4t4cgnRAgc"
      }
    },
    {
      "cell_type": "markdown",
      "source": [
        "Origin accuracy 0.5481"
      ],
      "metadata": {
        "id": "g2m2ovDi1x1O"
      }
    },
    {
      "cell_type": "code",
      "source": [
        "# Define the training and testing data periods\n",
        "train_data = weekly[weekly['Year'] <= 2008]\n",
        "test_data = weekly[weekly['Year'] >= 2009]\n",
        "\n",
        "# Select the \"Lag2\" variable as the predictor for the model\n",
        "X_train = train_data[['Lag2']]\n",
        "y_train = train_data['Direction_binary']\n",
        "\n",
        "X_test = test_data[['Lag2']]\n",
        "y_test = test_data['Direction_binary']\n",
        "\n",
        "# Add a constant to the predictors (intercept)\n",
        "x_train = sm.add_constant(X_train)\n",
        "\n",
        "# Fit the logistic regression model\n",
        "model = sm.Logit(y_train, X_train)\n",
        "result = model.fit()\n",
        "\n",
        "# Print the summary of the logistic regression results\n",
        "print(result.summary())\n",
        "\n",
        "# Predict using the test data\n",
        "y_pred = result.predict(X_test)>0.5 # Set a threshold of 0.5 for binary classification\n",
        "\n",
        "# Compute the confusion matrix\n",
        "confusion = confusion_table(y_pred, y_test)\n",
        "\n",
        "# Compute the overall fraction of correct predictions (accuracy)\n",
        "accuracy = accuracy_score(y_test, y_pred)\n",
        "\n",
        "print(\"Confusion Matrix:\")\n",
        "print(confusion)\n",
        "print(f\"Overall Fraction of Correct Predictions: {accuracy:.4f}\")"
      ],
      "metadata": {
        "colab": {
          "base_uri": "https://localhost:8080/"
        },
        "id": "soBnk1xjXj7V",
        "outputId": "5ff9b098-e901-4d06-8fb6-f92d6657bb76"
      },
      "execution_count": null,
      "outputs": [
        {
          "output_type": "stream",
          "name": "stdout",
          "text": [
            "Optimization terminated successfully.\n",
            "         Current function value: 0.690654\n",
            "         Iterations 4\n",
            "                           Logit Regression Results                           \n",
            "==============================================================================\n",
            "Dep. Variable:       Direction_binary   No. Observations:                  985\n",
            "Model:                          Logit   Df Residuals:                      984\n",
            "Method:                           MLE   Df Model:                            0\n",
            "Date:                Mon, 20 Nov 2023   Pseudo R-squ.:               -0.004340\n",
            "Time:                        08:29:47   Log-Likelihood:                -680.29\n",
            "converged:                       True   LL-Null:                       -677.35\n",
            "Covariance Type:            nonrobust   LLR p-value:                       nan\n",
            "==============================================================================\n",
            "                 coef    std err          z      P>|z|      [0.025      0.975]\n",
            "------------------------------------------------------------------------------\n",
            "Lag2           0.0629      0.029      2.192      0.028       0.007       0.119\n",
            "==============================================================================\n",
            "Confusion Matrix:\n",
            "Truth       0   1\n",
            "Predicted        \n",
            "0          20  24\n",
            "1          23  37\n",
            "Overall Fraction of Correct Predictions: 0.5481\n"
          ]
        }
      ]
    },
    {
      "cell_type": "markdown",
      "source": [
        "Add Today as predictors: New accuracy 1.0000"
      ],
      "metadata": {
        "id": "D3pog7KScUgb"
      }
    },
    {
      "cell_type": "code",
      "source": [
        "from sklearn.linear_model import LogisticRegression\n",
        "\n",
        "# Add Today as predictors\n",
        "X_train = train_data[['Today', 'Lag2']]\n",
        "X_test = test_data[['Today', 'Lag2']]\n",
        "\n",
        "# Fit the logistic regression model with the new predictors\n",
        "model = LogisticRegression()\n",
        "model.fit(X_train, y_train)\n",
        "\n",
        "# Predict using the test data\n",
        "y_pred = model.predict(X_test)\n",
        "\n",
        "# Compute the confusion matrix\n",
        "confusion = confusion_table(y_pred, y_test)\n",
        "\n",
        "# Compute the overall fraction of correct predictions (accuracy)\n",
        "accuracy = accuracy_score(y_test, y_pred)\n",
        "\n",
        "# Print results\n",
        "print(\"Logistic Regression with Interaction Term - Results:\")\n",
        "print(\"Confusion Matrix:\")\n",
        "print(confusion)\n",
        "print(f\"Overall Fraction of Correct Predictions: {accuracy:.4f}\")"
      ],
      "metadata": {
        "colab": {
          "base_uri": "https://localhost:8080/"
        },
        "id": "6Caclj6ScS23",
        "outputId": "4e53eaa5-77e9-404f-c0b9-3aabc0d8e761"
      },
      "execution_count": null,
      "outputs": [
        {
          "output_type": "stream",
          "name": "stdout",
          "text": [
            "Logistic Regression with Interaction Term - Results:\n",
            "Confusion Matrix:\n",
            "Truth       0   1\n",
            "Predicted        \n",
            "0          43   0\n",
            "1           0  61\n",
            "Overall Fraction of Correct Predictions: 1.0000\n"
          ]
        }
      ]
    },
    {
      "cell_type": "markdown",
      "source": [
        "Add Today and the interaction term (Lag1 * Lag2) as predictors: New accuracy 1.0000"
      ],
      "metadata": {
        "id": "pEnG1L7x11ji"
      }
    },
    {
      "cell_type": "code",
      "source": [
        "from sklearn.linear_model import LogisticRegression\n",
        "\n",
        "# Add Today and the interaction term (Lag1 * Lag2) as predictors\n",
        "X_train = train_data[['Today', 'Lag2']]\n",
        "X_train['Lag1_Lag2_interaction'] = train_data['Lag1'] * train_data['Lag2']\n",
        "\n",
        "X_test = test_data[['Today', 'Lag2']]\n",
        "X_test['Lag1_Lag2_interaction'] = test_data['Lag1'] * test_data['Lag2']\n",
        "\n",
        "# Fit the logistic regression model with the new predictors\n",
        "model = LogisticRegression()\n",
        "model.fit(X_train, y_train)\n",
        "\n",
        "# Predict using the test data\n",
        "y_pred = model.predict(X_test)\n",
        "\n",
        "# Compute the confusion matrix\n",
        "confusion = confusion_table(y_pred, y_test)\n",
        "\n",
        "# Compute the overall fraction of correct predictions (accuracy)\n",
        "accuracy = accuracy_score(y_test, y_pred)\n",
        "\n",
        "# Print results\n",
        "print(\"Logistic Regression with Interaction Term - Results:\")\n",
        "print(\"Confusion Matrix:\")\n",
        "print(confusion)\n",
        "print(f\"Overall Fraction of Correct Predictions: {accuracy:.4f}\")"
      ],
      "metadata": {
        "colab": {
          "base_uri": "https://localhost:8080/"
        },
        "id": "P1_zzcIgZbkY",
        "outputId": "d1275c7b-9073-41c2-fd72-ed7584900bc4"
      },
      "execution_count": null,
      "outputs": [
        {
          "output_type": "stream",
          "name": "stdout",
          "text": [
            "Logistic Regression with Interaction Term - Results:\n",
            "Confusion Matrix:\n",
            "Truth       0   1\n",
            "Predicted        \n",
            "0          43   0\n",
            "1           0  61\n",
            "Overall Fraction of Correct Predictions: 1.0000\n"
          ]
        },
        {
          "output_type": "stream",
          "name": "stderr",
          "text": [
            "<ipython-input-15-558c2532963e>:6: SettingWithCopyWarning: \n",
            "A value is trying to be set on a copy of a slice from a DataFrame.\n",
            "Try using .loc[row_indexer,col_indexer] = value instead\n",
            "\n",
            "See the caveats in the documentation: https://pandas.pydata.org/pandas-docs/stable/user_guide/indexing.html#returning-a-view-versus-a-copy\n",
            "  X_train['Lag2_Lag3_interaction'] = train_data['Lag1'] * train_data['Lag2']\n",
            "<ipython-input-15-558c2532963e>:9: SettingWithCopyWarning: \n",
            "A value is trying to be set on a copy of a slice from a DataFrame.\n",
            "Try using .loc[row_indexer,col_indexer] = value instead\n",
            "\n",
            "See the caveats in the documentation: https://pandas.pydata.org/pandas-docs/stable/user_guide/indexing.html#returning-a-view-versus-a-copy\n",
            "  X_test['Lag2_Lag3_interaction'] = test_data['Lag1'] * test_data['Lag2']\n"
          ]
        }
      ]
    },
    {
      "cell_type": "markdown",
      "source": [
        "###Linear Discriminant Analysis (LDA):"
      ],
      "metadata": {
        "id": "DLCmwOLKRAd_"
      }
    },
    {
      "cell_type": "markdown",
      "source": [
        "Original LDA(part e) accuracy: 0.6250"
      ],
      "metadata": {
        "id": "Gt2k-CKi-Vcj"
      }
    },
    {
      "cell_type": "markdown",
      "source": [
        "Add Today as predictors: 0.9615"
      ],
      "metadata": {
        "id": "VTdA5cxq9Vfs"
      }
    },
    {
      "cell_type": "code",
      "source": [
        "from sklearn.discriminant_analysis import LinearDiscriminantAnalysis\n",
        "\n",
        "# Add Today as predictors\n",
        "X_train_lda = train_data[['Today', 'Lag2']]\n",
        "X_test_lda = test_data[['Today', 'Lag2']]\n",
        "\n",
        "# Fit the LDA model with the new predictors\n",
        "model = LinearDiscriminantAnalysis()\n",
        "model.fit(X_train_lda, y_train)\n",
        "\n",
        "# Predict using the test data\n",
        "lda_pred = model.predict(X_test_lda)\n",
        "\n",
        "# Compute the confusion matrix\n",
        "confusion = confusion_table(lda_pred, y_test)\n",
        "\n",
        "# Compute the overall fraction of correct predictions (accuracy)\n",
        "accuracy = accuracy_score(y_test, lda_pred)\n",
        "\n",
        "print(\"Confusion Matrix:\")\n",
        "print(confusion)\n",
        "print(f\"Overall Fraction of Correct Predictions: {accuracy:.4f}\")"
      ],
      "metadata": {
        "colab": {
          "base_uri": "https://localhost:8080/"
        },
        "id": "ptSZa3qb9V4y",
        "outputId": "4ebc7fda-82ca-4754-c74e-d6efaecfd5c2"
      },
      "execution_count": null,
      "outputs": [
        {
          "output_type": "stream",
          "name": "stdout",
          "text": [
            "Confusion Matrix:\n",
            "Truth       0   1\n",
            "Predicted        \n",
            "0          39   0\n",
            "1           4  61\n",
            "Overall Fraction of Correct Predictions: 0.9615\n"
          ]
        }
      ]
    },
    {
      "cell_type": "markdown",
      "source": [
        "Add Today and the interaction term (Lag1 * Lag2) as predictors: 0.9615"
      ],
      "metadata": {
        "id": "A2n9crJfUfq6"
      }
    },
    {
      "cell_type": "code",
      "source": [
        "from sklearn.discriminant_analysis import LinearDiscriminantAnalysis\n",
        "\n",
        "# Add Today and the interaction term (Lag1 * Lag2) as predictors\n",
        "X_train_lda = train_data[['Today', 'Lag2']]\n",
        "X_train_lda['Lag1_Lag2_interaction'] = train_data['Lag1'] * train_data['Lag2']\n",
        "\n",
        "X_test_lda = test_data[['Today', 'Lag2']]\n",
        "X_test_lda['Lag1_Lag2_interaction'] = test_data['Lag1'] * test_data['Lag2']\n",
        "\n",
        "\n",
        "# Fit the LDA model with the new predictors\n",
        "model = LinearDiscriminantAnalysis()\n",
        "model.fit(X_train_lda, y_train)\n",
        "\n",
        "# Predict using the test data\n",
        "lda_pred = model.predict(X_test_lda)\n",
        "\n",
        "# Compute the confusion matrix\n",
        "confusion = confusion_table(lda_pred, y_test)\n",
        "\n",
        "# Compute the overall fraction of correct predictions (accuracy)\n",
        "accuracy = accuracy_score(y_test, lda_pred)\n",
        "\n",
        "print(\"Confusion Matrix:\")\n",
        "print(confusion)\n",
        "print(f\"Overall Fraction of Correct Predictions: {accuracy:.4f}\")"
      ],
      "metadata": {
        "colab": {
          "base_uri": "https://localhost:8080/"
        },
        "id": "pT1MTljLSl5E",
        "outputId": "5720816d-9fa1-4a26-fd71-a0be38792d9d"
      },
      "execution_count": null,
      "outputs": [
        {
          "output_type": "stream",
          "name": "stdout",
          "text": [
            "Confusion Matrix:\n",
            "Truth       0   1\n",
            "Predicted        \n",
            "0          39   0\n",
            "1           4  61\n",
            "Overall Fraction of Correct Predictions: 0.9615\n"
          ]
        },
        {
          "output_type": "stream",
          "name": "stderr",
          "text": [
            "<ipython-input-13-d947f9604bd3>:8: SettingWithCopyWarning: \n",
            "A value is trying to be set on a copy of a slice from a DataFrame.\n",
            "Try using .loc[row_indexer,col_indexer] = value instead\n",
            "\n",
            "See the caveats in the documentation: https://pandas.pydata.org/pandas-docs/stable/user_guide/indexing.html#returning-a-view-versus-a-copy\n",
            "  X_train_lda['Lag2_Lag3_interaction'] = train_data['Lag1'] * train_data['Lag2']\n",
            "<ipython-input-13-d947f9604bd3>:11: SettingWithCopyWarning: \n",
            "A value is trying to be set on a copy of a slice from a DataFrame.\n",
            "Try using .loc[row_indexer,col_indexer] = value instead\n",
            "\n",
            "See the caveats in the documentation: https://pandas.pydata.org/pandas-docs/stable/user_guide/indexing.html#returning-a-view-versus-a-copy\n",
            "  X_test_lda['Lag2_Lag3_interaction'] = test_data['Lag1'] * test_data['Lag2']\n"
          ]
        }
      ]
    },
    {
      "cell_type": "markdown",
      "source": [
        "###Quadratic Discriminant Analysis (QDA):"
      ],
      "metadata": {
        "id": "aEZ3jO-hRAbs"
      }
    },
    {
      "cell_type": "markdown",
      "source": [
        "The Original QDA(part f) accuracy is 0.5865, after trying to add Today or both Today and the interaction term (Lag1 * Lag2) as predictors, both of their accuracy increases. Adding Today improve the accuracy to 0.9808, and if also adding the lag1_lag2 interaction term, the accuracy decrease to 0.9615."
      ],
      "metadata": {
        "id": "FmVbeXo8_uXK"
      }
    },
    {
      "cell_type": "markdown",
      "source": [
        "After add Today as predictors, accuracy change to: 0.9808"
      ],
      "metadata": {
        "id": "Y8PDKJHJ_72z"
      }
    },
    {
      "cell_type": "code",
      "source": [
        "from sklearn.discriminant_analysis import QuadraticDiscriminantAnalysis\n",
        "\n",
        "# Try using Today and Lag2 as predictors\n",
        "X_train_qda = train_data[['Today', 'Lag2']]\n",
        "X_test_qda = test_data[['Today', 'Lag2']]\n",
        "\n",
        "# Fit the LDA model with the new predictors\n",
        "model = QuadraticDiscriminantAnalysis()\n",
        "model.fit(X_train_qda, y_train)\n",
        "\n",
        "# Predict using the test data\n",
        "qda_pred = model.predict(X_test_qda)\n",
        "\n",
        "# Compute the confusion matrix\n",
        "confusion = confusion_table(qda_pred, y_test)\n",
        "\n",
        "# Compute the overall fraction of correct predictions (accuracy)\n",
        "accuracy = accuracy_score(y_test, qda_pred)\n",
        "\n",
        "print(\"Confusion Matrix:\")\n",
        "print(confusion)\n",
        "print(f\"Overall Fraction of Correct Predictions: {accuracy:.4f}\")"
      ],
      "metadata": {
        "colab": {
          "base_uri": "https://localhost:8080/"
        },
        "id": "CVZkPlGIWIT2",
        "outputId": "f3cf3184-8eb3-4c68-b991-2131a0c85007"
      },
      "execution_count": null,
      "outputs": [
        {
          "output_type": "stream",
          "name": "stdout",
          "text": [
            "Confusion Matrix:\n",
            "Truth       0   1\n",
            "Predicted        \n",
            "0          41   0\n",
            "1           2  61\n",
            "Overall Fraction of Correct Predictions: 0.9808\n"
          ]
        }
      ]
    },
    {
      "cell_type": "markdown",
      "source": [
        "Add Today and the interaction term (Lag1 * Lag2) as predictors: 0.9615"
      ],
      "metadata": {
        "id": "ze7LD_OIWIk8"
      }
    },
    {
      "cell_type": "code",
      "source": [
        "from sklearn.discriminant_analysis import QuadraticDiscriminantAnalysis\n",
        "\n",
        "# Add Today and the interaction term (Lag1 * Lag2) as predictors\n",
        "X_train_qda = train_data[['Today', 'Lag2']]\n",
        "X_train_qda['Lag1_Lag2_interaction'] = train_data['Lag1'] * train_data['Lag2']\n",
        "\n",
        "X_test_qda = test_data[['Today', 'Lag2']]\n",
        "X_test_qda['Lag1_Lag2_interaction'] = test_data['Lag1'] * test_data['Lag2']\n",
        "\n",
        "# Fit the LDA model with the new predictors\n",
        "model = QuadraticDiscriminantAnalysis()\n",
        "model.fit(X_train_qda, y_train)\n",
        "\n",
        "# Predict using the test data\n",
        "qda_pred = model.predict(X_test_qda)\n",
        "\n",
        "# Compute the confusion matrix\n",
        "confusion = confusion_table(qda_pred, y_test)\n",
        "\n",
        "# Compute the overall fraction of correct predictions (accuracy)\n",
        "accuracy = accuracy_score(y_test, qda_pred)\n",
        "\n",
        "print(\"Confusion Matrix:\")\n",
        "print(confusion)\n",
        "print(f\"Overall Fraction of Correct Predictions: {accuracy:.4f}\")"
      ],
      "metadata": {
        "colab": {
          "base_uri": "https://localhost:8080/"
        },
        "id": "fKv7EEvu_8R0",
        "outputId": "793d64a3-6458-4866-bdd8-a4708fe1cf06"
      },
      "execution_count": null,
      "outputs": [
        {
          "output_type": "stream",
          "name": "stdout",
          "text": [
            "Confusion Matrix:\n",
            "Truth       0   1\n",
            "Predicted        \n",
            "0          41   2\n",
            "1           2  59\n",
            "Overall Fraction of Correct Predictions: 0.9615\n"
          ]
        },
        {
          "output_type": "stream",
          "name": "stderr",
          "text": [
            "<ipython-input-10-4e35179b9cf3>:5: SettingWithCopyWarning: \n",
            "A value is trying to be set on a copy of a slice from a DataFrame.\n",
            "Try using .loc[row_indexer,col_indexer] = value instead\n",
            "\n",
            "See the caveats in the documentation: https://pandas.pydata.org/pandas-docs/stable/user_guide/indexing.html#returning-a-view-versus-a-copy\n",
            "  X_train_qda['Lag2_Lag3_interaction'] = train_data['Lag1'] * train_data['Lag2']\n",
            "<ipython-input-10-4e35179b9cf3>:8: SettingWithCopyWarning: \n",
            "A value is trying to be set on a copy of a slice from a DataFrame.\n",
            "Try using .loc[row_indexer,col_indexer] = value instead\n",
            "\n",
            "See the caveats in the documentation: https://pandas.pydata.org/pandas-docs/stable/user_guide/indexing.html#returning-a-view-versus-a-copy\n",
            "  X_test_qda['Lag2_Lag3_interaction'] = test_data['Lag1'] * test_data['Lag2']\n"
          ]
        }
      ]
    },
    {
      "cell_type": "markdown",
      "source": [
        "###K-Nearest Neighbors (KNN):"
      ],
      "metadata": {
        "id": "Y8qKUMrmRAZO"
      }
    },
    {
      "cell_type": "markdown",
      "source": [
        "The accuracy of k=1 is 0.4904 according to part g. After testing for k=3,5,7, when k=3 it provide highest accuracy of 0.5577."
      ],
      "metadata": {
        "id": "igpGelkETcte"
      }
    },
    {
      "cell_type": "code",
      "source": [
        "from sklearn.neighbors import KNeighborsClassifier\n",
        "\n",
        "# Fit the KNN model with K=3 using only \"Lag2\" as the predictor\n",
        "model = KNeighborsClassifier(n_neighbors=3)\n",
        "model.fit(X_train, y_train)\n",
        "\n",
        "# Predict using the test data\n",
        "knn_pred = model.predict(X_test)\n",
        "\n",
        "# Compute the confusion matrix\n",
        "confusion = confusion_table(knn_pred, y_test)\n",
        "\n",
        "# Compute the overall fraction of correct predictions (accuracy)\n",
        "accuracy = accuracy_score(y_test, knn_pred)\n",
        "\n",
        "print(\"Confusion Matrix:\")\n",
        "print(confusion)\n",
        "print(f\"Overall Fraction of Correct Predictions: {accuracy:.4f}\")"
      ],
      "metadata": {
        "colab": {
          "base_uri": "https://localhost:8080/"
        },
        "id": "YwWZkanVRFIC",
        "outputId": "4c564c9d-0377-477c-8bdc-72f901e78ffc"
      },
      "execution_count": null,
      "outputs": [
        {
          "output_type": "stream",
          "name": "stdout",
          "text": [
            "Confusion Matrix:\n",
            "Truth       0   1\n",
            "Predicted        \n",
            "0          16  19\n",
            "1          27  42\n",
            "Overall Fraction of Correct Predictions: 0.5577\n"
          ]
        }
      ]
    },
    {
      "cell_type": "code",
      "source": [
        "from sklearn.neighbors import KNeighborsClassifier\n",
        "\n",
        "# Fit the KNN model with K=5 using only \"Lag2\" as the predictor\n",
        "model = KNeighborsClassifier(n_neighbors=5)\n",
        "model.fit(X_train, y_train)\n",
        "\n",
        "# Predict using the test data\n",
        "knn_pred = model.predict(X_test)\n",
        "\n",
        "# Compute the confusion matrix\n",
        "confusion = confusion_table(knn_pred, y_test)\n",
        "\n",
        "# Compute the overall fraction of correct predictions (accuracy)\n",
        "accuracy = accuracy_score(y_test, knn_pred)\n",
        "\n",
        "print(\"Confusion Matrix:\")\n",
        "print(confusion)\n",
        "print(f\"Overall Fraction of Correct Predictions: {accuracy:.4f}\")"
      ],
      "metadata": {
        "colab": {
          "base_uri": "https://localhost:8080/"
        },
        "id": "TrIjd3qcRLsr",
        "outputId": "e6786dd3-dda4-4d7c-e21b-11958127922a"
      },
      "execution_count": null,
      "outputs": [
        {
          "output_type": "stream",
          "name": "stdout",
          "text": [
            "Confusion Matrix:\n",
            "Truth       0   1\n",
            "Predicted        \n",
            "0          16  21\n",
            "1          27  40\n",
            "Overall Fraction of Correct Predictions: 0.5385\n"
          ]
        }
      ]
    },
    {
      "cell_type": "code",
      "source": [
        "from sklearn.neighbors import KNeighborsClassifier\n",
        "\n",
        "# Fit the KNN model with K=7 using only \"Lag2\" as the predictor\n",
        "model = KNeighborsClassifier(n_neighbors=7)\n",
        "model.fit(X_train, y_train)\n",
        "\n",
        "# Predict using the test data\n",
        "knn_pred = model.predict(X_test)\n",
        "\n",
        "# Compute the confusion matrix\n",
        "confusion = confusion_table(knn_pred, y_test)\n",
        "\n",
        "# Compute the overall fraction of correct predictions (accuracy)\n",
        "accuracy = accuracy_score(y_test, knn_pred)\n",
        "\n",
        "print(\"Confusion Matrix:\")\n",
        "print(confusion)\n",
        "print(f\"Overall Fraction of Correct Predictions: {accuracy:.4f}\")"
      ],
      "metadata": {
        "colab": {
          "base_uri": "https://localhost:8080/"
        },
        "id": "d2Pd5k3JUIvP",
        "outputId": "dd786b10-3668-4a8b-d3e5-c5c6c276ff65"
      },
      "execution_count": null,
      "outputs": [
        {
          "output_type": "stream",
          "name": "stdout",
          "text": [
            "Confusion Matrix:\n",
            "Truth       0   1\n",
            "Predicted        \n",
            "0          16  20\n",
            "1          27  41\n",
            "Overall Fraction of Correct Predictions: 0.5481\n"
          ]
        }
      ]
    },
    {
      "cell_type": "markdown",
      "source": [
        "###Naive Bayes:"
      ],
      "metadata": {
        "id": "EeoD3cg_RAXB"
      }
    },
    {
      "cell_type": "markdown",
      "source": [
        "The original accuracy in part h is 0.5865, after trying to add Today or both Today and the interaction term (Lag1 * Lag2) as predictors, both of their accuracy increases. Adding Today as predictors, the accuracy change to 0.9615, and if also adding the lag1_lag2 interaction term, the accracy further improve to 0.9904."
      ],
      "metadata": {
        "id": "kkY3dmGfWfS2"
      }
    },
    {
      "cell_type": "code",
      "source": [
        "from sklearn.naive_bayes import GaussianNB\n",
        "\n",
        "# Try using Today and Lag2 as predictors\n",
        "X_train_gnb = train_data[['Today', 'Lag2']]\n",
        "X_test_gnb = test_data[['Today', 'Lag2']]\n",
        "\n",
        "# Fit the Naive Bayes model using Gaussian Naive Bayes with only \"Lag2\" as the predictor\n",
        "model = GaussianNB()\n",
        "model.fit(X_train_gnb, y_train)\n",
        "\n",
        "# Predict using the test data\n",
        "gnb_pred = model.predict(X_test_gnb)\n",
        "\n",
        "# Compute the confusion matrix\n",
        "confusion = confusion_table(gnb_pred, y_test)\n",
        "\n",
        "# Compute the overall fraction of correct predictions (accuracy)\n",
        "accuracy = accuracy_score(y_test, gnb_pred)\n",
        "\n",
        "print(\"Confusion Matrix:\")\n",
        "print(confusion)\n",
        "print(f\"Overall Fraction of Correct Predictions: {accuracy:.4f}\")"
      ],
      "metadata": {
        "colab": {
          "base_uri": "https://localhost:8080/"
        },
        "id": "yHbSSe2WRbBa",
        "outputId": "e8ece068-af05-4567-ea61-64de05f1728f"
      },
      "execution_count": null,
      "outputs": [
        {
          "output_type": "stream",
          "name": "stdout",
          "text": [
            "Confusion Matrix:\n",
            "Truth       0   1\n",
            "Predicted        \n",
            "0          39   0\n",
            "1           4  61\n",
            "Overall Fraction of Correct Predictions: 0.9615\n"
          ]
        }
      ]
    },
    {
      "cell_type": "code",
      "source": [
        "from sklearn.naive_bayes import GaussianNB\n",
        "\n",
        "# Add Today and the interaction term (Lag1 * Lag2) as predictors\n",
        "X_train_gnb = train_data[['Today', 'Lag2']]\n",
        "X_train_gnb['Lag1_Lag2_interaction'] = train_data['Lag1'] * train_data['Lag2']\n",
        "\n",
        "X_test_gnb = test_data[['Today', 'Lag2']]\n",
        "X_test_gnb['Lag1_Lag2_interaction'] = test_data['Lag1'] * test_data['Lag2']\n",
        "# Fit the Naive Bayes model using Gaussian Naive Bayes with only \"Lag2\" as the predictor\n",
        "model = GaussianNB()\n",
        "model.fit(X_train_gnb, y_train)\n",
        "\n",
        "# Predict using the test data\n",
        "gnb_pred = model.predict(X_test_gnb)\n",
        "\n",
        "# Compute the confusion matrix\n",
        "confusion = confusion_table(gnb_pred, y_test)\n",
        "\n",
        "# Compute the overall fraction of correct predictions (accuracy)\n",
        "accuracy = accuracy_score(y_test, gnb_pred)\n",
        "\n",
        "print(\"Confusion Matrix:\")\n",
        "print(confusion)\n",
        "print(f\"Overall Fraction of Correct Predictions: {accuracy:.4f}\")"
      ],
      "metadata": {
        "colab": {
          "base_uri": "https://localhost:8080/"
        },
        "id": "fWL5WIoXWzMC",
        "outputId": "6221fa67-a0be-4917-9301-7b7d02142a8a"
      },
      "execution_count": null,
      "outputs": [
        {
          "output_type": "stream",
          "name": "stdout",
          "text": [
            "Confusion Matrix:\n",
            "Truth       0   1\n",
            "Predicted        \n",
            "0          42   0\n",
            "1           1  61\n",
            "Overall Fraction of Correct Predictions: 0.9904\n"
          ]
        },
        {
          "output_type": "stream",
          "name": "stderr",
          "text": [
            "<ipython-input-13-d3afedc95ba4>:5: SettingWithCopyWarning: \n",
            "A value is trying to be set on a copy of a slice from a DataFrame.\n",
            "Try using .loc[row_indexer,col_indexer] = value instead\n",
            "\n",
            "See the caveats in the documentation: https://pandas.pydata.org/pandas-docs/stable/user_guide/indexing.html#returning-a-view-versus-a-copy\n",
            "  X_train_gnb['Lag1_Lag2_interaction'] = train_data['Lag1'] * train_data['Lag2']\n",
            "<ipython-input-13-d3afedc95ba4>:8: SettingWithCopyWarning: \n",
            "A value is trying to be set on a copy of a slice from a DataFrame.\n",
            "Try using .loc[row_indexer,col_indexer] = value instead\n",
            "\n",
            "See the caveats in the documentation: https://pandas.pydata.org/pandas-docs/stable/user_guide/indexing.html#returning-a-view-versus-a-copy\n",
            "  X_test_gnb['Lag1_Lag2_interaction'] = test_data['Lag1'] * test_data['Lag2']\n"
          ]
        }
      ]
    },
    {
      "cell_type": "markdown",
      "source": [
        "### Conclusion:\n",
        "After experimenting with different methods and according to the result, whether add Today or both today and the interaction term (Lag1 * Lag2) as predictors, it increases the accuracy of the model to 1.0000. In this case, as both combinations of predictors can max out the accuracy, to judge which appears to provide the best results on the held out data, we can consider the model's simplicity. A more simple but more accurate model is better, therefore the logistic regression model with predictors Today and lag2 appear to provide the best results on the held out data under the overall consideration."
      ],
      "metadata": {
        "id": "F0HiqFo5cnBT"
      }
    },
    {
      "cell_type": "markdown",
      "source": [
        "#Ch4_Q2:\n",
        "2.It was stated in the text that classifying an observation to the class for which (4.17) is largest is equivalent to classifying an observation to the class for which (4.18) is largest. Prove that this is the case. In other words, under the assumption that the observations in the $k$th class are drawn from a $N(µ_k, \\sigma^2)$ distribution, the Bayes classifier assigns an observation to the class for which the discriminant function is maximized.\n",
        "$$p_k(x)=\\frac{\\pi_k \\frac{1}{\\sqrt{2\\pi\\sigma}}exp(-\\frac{1}{2\\sigma^2}(x-\\mu_k)^2)}{\\sum_{l=1}^K\\pi_l \\frac{1}{\\sqrt{2\\pi\\sigma}}exp(-\\frac{1}{2\\sigma^2}(x-\\mu_l)^2)} \\tag{4.17}$$\n",
        "\n",
        "$$\\delta_k(x)=x \\cdot \\frac{\\mu_k}{\\sigma^2}-\\frac{\\mu_k^2}{2\\sigma^2}+\\log(\\pi_k) \\tag{4.18}$$"
      ],
      "metadata": {
        "id": "KWn8cJ0FmTsS"
      }
    },
    {
      "cell_type": "markdown",
      "source": [
        "##Answer\n",
        "1.Start with Equation (4.17):\n",
        "\n",
        "The posterior probability of class $k$ given an observation $x$, $p_k(x)$, is given by:\n",
        "$$p_k(x)=\\frac{\\pi_k \\frac{1}{\\sqrt{2\\pi\\sigma}}exp(-\\frac{1}{2\\sigma^2}(x-\\mu_k)^2)}{\\sum_{l=1}^K\\pi_l \\frac{1}{\\sqrt{2\\pi\\sigma}}exp(-\\frac{1}{2\\sigma^2}(x-\\mu_l)^2)} \\tag{4.17}$$\n",
        "\n",
        "The Bayes classifier assigns an observation to the class $k$ that maximizes $p_k(x)$. Since the denominator in $p_k(x)$ is the same for all classes, maximizing $p_k(x)$ is equivalent to maximizing the numerator alone:\n",
        "$$\\pi_k \\frac{1}{\\sqrt{2\\pi\\sigma}}exp(-\\frac{1}{2\\sigma^2}(x-\\mu_k)^2)$$\n",
        "\n",
        "2.Maximizing the Numerator (Class Posterior Likelihood):\n",
        "\n",
        "For convenience, take the natural logarithm of the numerator, as maximizing the log of a function is equivalent to maximizing the function itself. We then focus on:\n",
        "$$\\log(\\pi_k \\frac{1}{\\sqrt{2\\pi\\sigma}}exp(-\\frac{1}{2\\sigma^2}(x-\\mu_k)^2))$$\n",
        "Then, we get:\n",
        "$$\\log{\\pi_k}-\\frac{1}{2\\sigma^2}(x-\\mu_k)^2 $$\n",
        "\n",
        "3.Expand and Simplify the Quadratic Term:\n",
        "\n",
        "Now, expand the quadratic term $-\\frac{1}{2\\sigma^2}(x-\\mu_k)^2$:\n",
        "$$-\\frac{1}{2\\sigma^2}(x^2-2x\\mu_k+\\mu_k^2)=-\\frac{x^2}{2\\sigma^2}+\\frac{x\\mu_k}{\\sigma^2}-\\frac{\\mu_k^2}{2\\sigma^2}$$\n",
        "Since $-\\frac{x^2}{2\\sigma^2}$ is independent of $k$, it can also be ignored in the maximization. Thus, we focus on:\n",
        "$$\\frac{x\\mu_k}{\\sigma^2}-\\frac{\\mu_k^2}{2\\sigma^2}+\\log{\\pi_k}$$\n",
        "\n",
        "4.Compare with Equation (4.18):\n",
        "\n",
        "The expression we obtained,\n",
        "$$\\delta_k(x)=\\frac{x\\mu_k}{\\sigma^2}-\\frac{\\mu_k^2}{2\\sigma^2}+\\log{\\pi_k}$$\n",
        "is exactly Equation (4.18). Therefore, maximizing $p_k(x)$ is equivalent to maximizing $\\delta_k(x)$, as required."
      ],
      "metadata": {
        "id": "6cHX6y4xmv51"
      }
    },
    {
      "cell_type": "markdown",
      "source": [
        "#Ch4_Q6:\n",
        "\n",
        "6.Suppose we collect data for a group of students in a statistics class with variables $X_1$ =hours studied, $X_2$=undergrad GPA, and $Y$ = receive an A. We fit a logistic regression and produce estimated coefficient, $\\hat\\beta_0 = -6, \\hat\\beta_1 =0.05, \\hat\\beta_2 =1$.\n",
        "\n",
        "(a) Estimate the probability that a student who studies for 40h and has an undergrad GPA of 3.5 gets an A in the class.\n",
        "\n",
        "(b) How many hours would the student in part (a) need to study to have a 50% chance of getting an A in the class?"
      ],
      "metadata": {
        "id": "j_GKmXNCMv90"
      }
    },
    {
      "cell_type": "markdown",
      "source": [
        "Given the logistic regression model with estimated coefficients $\\hat\\beta_0 = -6, \\hat\\beta_1 =0.05, \\hat\\beta_2 =1$, we can use the logistic regression formula:\n",
        "$$P(Y=1|X_1,X_2)= \\frac{1}{1+e^{-(\\hat\\beta_0+\\hat\\beta_1X_1+\\hat\\beta_2X_2)}}$$\n",
        "where:\n",
        "$X_1$ is the hours studied, $X_2$ is the undergrad GPA, $Y=1$ means the student receives an A in the class.\n",
        "\n"
      ],
      "metadata": {
        "id": "vMx-j8sLT0zN"
      }
    },
    {
      "cell_type": "markdown",
      "source": [
        "##(a) Estimate the probability that a student who studies for 40 hours and has an undergrad GPA of 3.5 gets an A in the class.\n",
        "Substitute $X_1=40$ and $X_2=3.5$ into the model:\n",
        "$$P(Y=1|X_1=40,X_2=3.5)= \\frac{1}{1+e^{-(\\hat\\beta_0+\\hat\\beta_1\\cdot40+\\hat\\beta_2\\cdot3.5)}}$$\n",
        "Substitute the coefficient values:\n",
        "$$= \\frac{1}{1+e^{-(-6+ 40 \\cdot 0.05 + 1 \\cdot 3.5)}}$$\n",
        "Calculate the exponent:\n",
        "$$= \\frac{1}{1+e^{-(-6+2+3.5)}}\n",
        "=\\frac{1}{1+e^{-(-0.5)}}\n",
        "=\\frac{1}{1+e^{(0.5)}}\n",
        "≈0.3775\n",
        "$$\n",
        "So, the estimated probability is approximately 0.3775.\n"
      ],
      "metadata": {
        "id": "VQRpWvLxqAec"
      }
    },
    {
      "cell_type": "markdown",
      "source": [
        "##(b) How many hours would the student in part (a) need to study to have a 50% chance of getting an A in the class?\n",
        "To find the required hours of study ($X_1$) for a 50% chance of getting an A, set $P(Y=1)=0.5$ and solve for $X_1$ with $X_2=3.5$\n",
        "\n",
        "Since $P(Y=1)=0.5$:\n",
        "$$0.5=\\frac{1}{1+e^{-(\\hat\\beta_0+\\hat\\beta_1X_1+\\hat\\beta_2X_2)}}$$\n",
        "\n",
        "This implies:\n",
        "$$1+e^{-(\\hat\\beta_0+\\hat\\beta_1X_1+\\hat\\beta_2X_2)}=2$$\n",
        "$$e^{-(\\hat\\beta_0+\\hat\\beta_1X_1+\\hat\\beta_2X_2)}=1$$\n",
        "\n",
        "Take the natural logarithm of both sides:\n",
        "$$-(\\hat\\beta_0+\\hat\\beta_1X_1+\\hat\\beta_2X_2)=0$$\n",
        "\n",
        "Substitute the values:\n",
        "$$-(-6+0.05X_1+1\\cdot3.5)=0$$\n",
        "$$-6+0.05X_1+1\\cdot3.5=0$$\n",
        "$$0.05X_1=2.5$$\n",
        "$$X_1=50$$\n",
        "Therefore, the student would need to study 50 hours to have a 50% chance of getting an A in the class."
      ],
      "metadata": {
        "id": "nhQFwgEve3JV"
      }
    },
    {
      "cell_type": "markdown",
      "source": [
        "#Ch4_Q14:\n",
        " 14. In this problem, you will develop a model to predict whether a given\n",
        " car gets high or low gas mileage based on the Auto data set."
      ],
      "metadata": {
        "id": "hHHk_phHP1-o"
      }
    },
    {
      "cell_type": "markdown",
      "source": [
        "##(a) Create a binary variable, mpg01, that contains a 1 if mpg contains a value above its median, and a 0 if mpg contains a value below its median. You can compute the median using the median() method of the data frame. Note you may find it helpful to add a column mpg01 to the data frame by assignment. Assuming you have stored the data frame as Auto, this can be done as follows: Auto['mpg01'] = mpg01"
      ],
      "metadata": {
        "id": "se5Do3y3SNmA"
      }
    },
    {
      "cell_type": "code",
      "source": [
        "pip install ISLP"
      ],
      "metadata": {
        "colab": {
          "base_uri": "https://localhost:8080/"
        },
        "id": "0jSxL9HFuYah",
        "outputId": "50ddefa2-69db-41f4-8c48-bd490ce321a6"
      },
      "execution_count": null,
      "outputs": [
        {
          "output_type": "stream",
          "name": "stdout",
          "text": [
            "Collecting ISLP\n",
            "  Downloading ISLP-0.4.0-py3-none-any.whl.metadata (7.0 kB)\n",
            "Requirement already satisfied: numpy>=1.7.1 in /usr/local/lib/python3.10/dist-packages (from ISLP) (1.26.4)\n",
            "Requirement already satisfied: scipy>=0.9 in /usr/local/lib/python3.10/dist-packages (from ISLP) (1.13.1)\n",
            "Requirement already satisfied: pandas>=0.20 in /usr/local/lib/python3.10/dist-packages (from ISLP) (2.2.2)\n",
            "Requirement already satisfied: lxml in /usr/local/lib/python3.10/dist-packages (from ISLP) (5.3.0)\n",
            "Requirement already satisfied: scikit-learn>=1.2 in /usr/local/lib/python3.10/dist-packages (from ISLP) (1.5.2)\n",
            "Requirement already satisfied: joblib in /usr/local/lib/python3.10/dist-packages (from ISLP) (1.4.2)\n",
            "Requirement already satisfied: statsmodels>=0.13 in /usr/local/lib/python3.10/dist-packages (from ISLP) (0.14.4)\n",
            "Collecting lifelines (from ISLP)\n",
            "  Downloading lifelines-0.30.0-py3-none-any.whl.metadata (3.2 kB)\n",
            "Collecting pygam (from ISLP)\n",
            "  Downloading pygam-0.9.1-py3-none-any.whl.metadata (7.1 kB)\n",
            "Requirement already satisfied: torch in /usr/local/lib/python3.10/dist-packages (from ISLP) (2.5.0+cu121)\n",
            "Collecting pytorch-lightning (from ISLP)\n",
            "  Downloading pytorch_lightning-2.4.0-py3-none-any.whl.metadata (21 kB)\n",
            "Collecting torchmetrics (from ISLP)\n",
            "  Downloading torchmetrics-1.5.1-py3-none-any.whl.metadata (20 kB)\n",
            "Requirement already satisfied: python-dateutil>=2.8.2 in /usr/local/lib/python3.10/dist-packages (from pandas>=0.20->ISLP) (2.8.2)\n",
            "Requirement already satisfied: pytz>=2020.1 in /usr/local/lib/python3.10/dist-packages (from pandas>=0.20->ISLP) (2024.2)\n",
            "Requirement already satisfied: tzdata>=2022.7 in /usr/local/lib/python3.10/dist-packages (from pandas>=0.20->ISLP) (2024.2)\n",
            "Requirement already satisfied: threadpoolctl>=3.1.0 in /usr/local/lib/python3.10/dist-packages (from scikit-learn>=1.2->ISLP) (3.5.0)\n",
            "Requirement already satisfied: patsy>=0.5.6 in /usr/local/lib/python3.10/dist-packages (from statsmodels>=0.13->ISLP) (0.5.6)\n",
            "Requirement already satisfied: packaging>=21.3 in /usr/local/lib/python3.10/dist-packages (from statsmodels>=0.13->ISLP) (24.1)\n",
            "Requirement already satisfied: matplotlib>=3.0 in /usr/local/lib/python3.10/dist-packages (from lifelines->ISLP) (3.8.0)\n",
            "Requirement already satisfied: autograd>=1.5 in /usr/local/lib/python3.10/dist-packages (from lifelines->ISLP) (1.7.0)\n",
            "Collecting autograd-gamma>=0.3 (from lifelines->ISLP)\n",
            "  Downloading autograd-gamma-0.5.0.tar.gz (4.0 kB)\n",
            "  Preparing metadata (setup.py) ... \u001b[?25l\u001b[?25hdone\n",
            "Collecting formulaic>=0.2.2 (from lifelines->ISLP)\n",
            "  Downloading formulaic-1.0.2-py3-none-any.whl.metadata (6.8 kB)\n",
            "Requirement already satisfied: progressbar2<5.0.0,>=4.2.0 in /usr/local/lib/python3.10/dist-packages (from pygam->ISLP) (4.5.0)\n",
            "Collecting scipy>=0.9 (from ISLP)\n",
            "  Downloading scipy-1.11.4-cp310-cp310-manylinux_2_17_x86_64.manylinux2014_x86_64.whl.metadata (60 kB)\n",
            "\u001b[2K     \u001b[90m━━━━━━━━━━━━━━━━━━━━━━━━━━━━━━━━━━━━━━━━\u001b[0m \u001b[32m60.4/60.4 kB\u001b[0m \u001b[31m1.7 MB/s\u001b[0m eta \u001b[36m0:00:00\u001b[0m\n",
            "\u001b[?25hRequirement already satisfied: tqdm>=4.57.0 in /usr/local/lib/python3.10/dist-packages (from pytorch-lightning->ISLP) (4.66.6)\n",
            "Requirement already satisfied: PyYAML>=5.4 in /usr/local/lib/python3.10/dist-packages (from pytorch-lightning->ISLP) (6.0.2)\n",
            "Requirement already satisfied: fsspec>=2022.5.0 in /usr/local/lib/python3.10/dist-packages (from fsspec[http]>=2022.5.0->pytorch-lightning->ISLP) (2024.10.0)\n",
            "Requirement already satisfied: typing-extensions>=4.4.0 in /usr/local/lib/python3.10/dist-packages (from pytorch-lightning->ISLP) (4.12.2)\n",
            "Collecting lightning-utilities>=0.10.0 (from pytorch-lightning->ISLP)\n",
            "  Downloading lightning_utilities-0.11.8-py3-none-any.whl.metadata (5.2 kB)\n",
            "Requirement already satisfied: filelock in /usr/local/lib/python3.10/dist-packages (from torch->ISLP) (3.16.1)\n",
            "Requirement already satisfied: networkx in /usr/local/lib/python3.10/dist-packages (from torch->ISLP) (3.4.2)\n",
            "Requirement already satisfied: jinja2 in /usr/local/lib/python3.10/dist-packages (from torch->ISLP) (3.1.4)\n",
            "Requirement already satisfied: sympy==1.13.1 in /usr/local/lib/python3.10/dist-packages (from torch->ISLP) (1.13.1)\n",
            "Requirement already satisfied: mpmath<1.4,>=1.1.0 in /usr/local/lib/python3.10/dist-packages (from sympy==1.13.1->torch->ISLP) (1.3.0)\n",
            "Collecting interface-meta>=1.2.0 (from formulaic>=0.2.2->lifelines->ISLP)\n",
            "  Downloading interface_meta-1.3.0-py3-none-any.whl.metadata (6.7 kB)\n",
            "Requirement already satisfied: wrapt>=1.0 in /usr/local/lib/python3.10/dist-packages (from formulaic>=0.2.2->lifelines->ISLP) (1.16.0)\n",
            "Requirement already satisfied: aiohttp!=4.0.0a0,!=4.0.0a1 in /usr/local/lib/python3.10/dist-packages (from fsspec[http]>=2022.5.0->pytorch-lightning->ISLP) (3.10.10)\n",
            "Requirement already satisfied: setuptools in /usr/local/lib/python3.10/dist-packages (from lightning-utilities>=0.10.0->pytorch-lightning->ISLP) (75.1.0)\n",
            "Requirement already satisfied: contourpy>=1.0.1 in /usr/local/lib/python3.10/dist-packages (from matplotlib>=3.0->lifelines->ISLP) (1.3.0)\n",
            "Requirement already satisfied: cycler>=0.10 in /usr/local/lib/python3.10/dist-packages (from matplotlib>=3.0->lifelines->ISLP) (0.12.1)\n",
            "Requirement already satisfied: fonttools>=4.22.0 in /usr/local/lib/python3.10/dist-packages (from matplotlib>=3.0->lifelines->ISLP) (4.54.1)\n",
            "Requirement already satisfied: kiwisolver>=1.0.1 in /usr/local/lib/python3.10/dist-packages (from matplotlib>=3.0->lifelines->ISLP) (1.4.7)\n",
            "Requirement already satisfied: pillow>=6.2.0 in /usr/local/lib/python3.10/dist-packages (from matplotlib>=3.0->lifelines->ISLP) (10.4.0)\n",
            "Requirement already satisfied: pyparsing>=2.3.1 in /usr/local/lib/python3.10/dist-packages (from matplotlib>=3.0->lifelines->ISLP) (3.2.0)\n",
            "Requirement already satisfied: six in /usr/local/lib/python3.10/dist-packages (from patsy>=0.5.6->statsmodels>=0.13->ISLP) (1.16.0)\n",
            "Requirement already satisfied: python-utils>=3.8.1 in /usr/local/lib/python3.10/dist-packages (from progressbar2<5.0.0,>=4.2.0->pygam->ISLP) (3.9.0)\n",
            "Requirement already satisfied: MarkupSafe>=2.0 in /usr/local/lib/python3.10/dist-packages (from jinja2->torch->ISLP) (3.0.2)\n",
            "Requirement already satisfied: aiohappyeyeballs>=2.3.0 in /usr/local/lib/python3.10/dist-packages (from aiohttp!=4.0.0a0,!=4.0.0a1->fsspec[http]>=2022.5.0->pytorch-lightning->ISLP) (2.4.3)\n",
            "Requirement already satisfied: aiosignal>=1.1.2 in /usr/local/lib/python3.10/dist-packages (from aiohttp!=4.0.0a0,!=4.0.0a1->fsspec[http]>=2022.5.0->pytorch-lightning->ISLP) (1.3.1)\n",
            "Requirement already satisfied: attrs>=17.3.0 in /usr/local/lib/python3.10/dist-packages (from aiohttp!=4.0.0a0,!=4.0.0a1->fsspec[http]>=2022.5.0->pytorch-lightning->ISLP) (24.2.0)\n",
            "Requirement already satisfied: frozenlist>=1.1.1 in /usr/local/lib/python3.10/dist-packages (from aiohttp!=4.0.0a0,!=4.0.0a1->fsspec[http]>=2022.5.0->pytorch-lightning->ISLP) (1.5.0)\n",
            "Requirement already satisfied: multidict<7.0,>=4.5 in /usr/local/lib/python3.10/dist-packages (from aiohttp!=4.0.0a0,!=4.0.0a1->fsspec[http]>=2022.5.0->pytorch-lightning->ISLP) (6.1.0)\n",
            "Requirement already satisfied: yarl<2.0,>=1.12.0 in /usr/local/lib/python3.10/dist-packages (from aiohttp!=4.0.0a0,!=4.0.0a1->fsspec[http]>=2022.5.0->pytorch-lightning->ISLP) (1.17.0)\n",
            "Requirement already satisfied: async-timeout<5.0,>=4.0 in /usr/local/lib/python3.10/dist-packages (from aiohttp!=4.0.0a0,!=4.0.0a1->fsspec[http]>=2022.5.0->pytorch-lightning->ISLP) (4.0.3)\n",
            "Requirement already satisfied: idna>=2.0 in /usr/local/lib/python3.10/dist-packages (from yarl<2.0,>=1.12.0->aiohttp!=4.0.0a0,!=4.0.0a1->fsspec[http]>=2022.5.0->pytorch-lightning->ISLP) (3.10)\n",
            "Requirement already satisfied: propcache>=0.2.0 in /usr/local/lib/python3.10/dist-packages (from yarl<2.0,>=1.12.0->aiohttp!=4.0.0a0,!=4.0.0a1->fsspec[http]>=2022.5.0->pytorch-lightning->ISLP) (0.2.0)\n",
            "Downloading ISLP-0.4.0-py3-none-any.whl (3.6 MB)\n",
            "\u001b[2K   \u001b[90m━━━━━━━━━━━━━━━━━━━━━━━━━━━━━━━━━━━━━━━━\u001b[0m \u001b[32m3.6/3.6 MB\u001b[0m \u001b[31m30.0 MB/s\u001b[0m eta \u001b[36m0:00:00\u001b[0m\n",
            "\u001b[?25hDownloading lifelines-0.30.0-py3-none-any.whl (349 kB)\n",
            "\u001b[2K   \u001b[90m━━━━━━━━━━━━━━━━━━━━━━━━━━━━━━━━━━━━━━━━\u001b[0m \u001b[32m349.3/349.3 kB\u001b[0m \u001b[31m15.3 MB/s\u001b[0m eta \u001b[36m0:00:00\u001b[0m\n",
            "\u001b[?25hDownloading pygam-0.9.1-py3-none-any.whl (522 kB)\n",
            "\u001b[2K   \u001b[90m━━━━━━━━━━━━━━━━━━━━━━━━━━━━━━━━━━━━━━━━\u001b[0m \u001b[32m522.0/522.0 kB\u001b[0m \u001b[31m22.9 MB/s\u001b[0m eta \u001b[36m0:00:00\u001b[0m\n",
            "\u001b[?25hDownloading scipy-1.11.4-cp310-cp310-manylinux_2_17_x86_64.manylinux2014_x86_64.whl (36.4 MB)\n",
            "\u001b[2K   \u001b[90m━━━━━━━━━━━━━━━━━━━━━━━━━━━━━━━━━━━━━━━━\u001b[0m \u001b[32m36.4/36.4 MB\u001b[0m \u001b[31m15.0 MB/s\u001b[0m eta \u001b[36m0:00:00\u001b[0m\n",
            "\u001b[?25hDownloading pytorch_lightning-2.4.0-py3-none-any.whl (815 kB)\n",
            "\u001b[2K   \u001b[90m━━━━━━━━━━━━━━━━━━━━━━━━━━━━━━━━━━━━━━━━\u001b[0m \u001b[32m815.2/815.2 kB\u001b[0m \u001b[31m24.8 MB/s\u001b[0m eta \u001b[36m0:00:00\u001b[0m\n",
            "\u001b[?25hDownloading torchmetrics-1.5.1-py3-none-any.whl (890 kB)\n",
            "\u001b[2K   \u001b[90m━━━━━━━━━━━━━━━━━━━━━━━━━━━━━━━━━━━━━━━━\u001b[0m \u001b[32m890.6/890.6 kB\u001b[0m \u001b[31m24.8 MB/s\u001b[0m eta \u001b[36m0:00:00\u001b[0m\n",
            "\u001b[?25hDownloading formulaic-1.0.2-py3-none-any.whl (94 kB)\n",
            "\u001b[2K   \u001b[90m━━━━━━━━━━━━━━━━━━━━━━━━━━━━━━━━━━━━━━━━\u001b[0m \u001b[32m94.5/94.5 kB\u001b[0m \u001b[31m5.5 MB/s\u001b[0m eta \u001b[36m0:00:00\u001b[0m\n",
            "\u001b[?25hDownloading lightning_utilities-0.11.8-py3-none-any.whl (26 kB)\n",
            "Downloading interface_meta-1.3.0-py3-none-any.whl (14 kB)\n",
            "Building wheels for collected packages: autograd-gamma\n",
            "  Building wheel for autograd-gamma (setup.py) ... \u001b[?25l\u001b[?25hdone\n",
            "  Created wheel for autograd-gamma: filename=autograd_gamma-0.5.0-py3-none-any.whl size=4031 sha256=e37a783c823d457f8e924360b8bcdf8d7ba86d1f46fda2c94c4a47ddbc88fcef\n",
            "  Stored in directory: /root/.cache/pip/wheels/25/cc/e0/ef2969164144c899fedb22b338f6703e2b9cf46eeebf254991\n",
            "Successfully built autograd-gamma\n",
            "Installing collected packages: scipy, lightning-utilities, interface-meta, autograd-gamma, torchmetrics, pygam, formulaic, lifelines, pytorch-lightning, ISLP\n",
            "  Attempting uninstall: scipy\n",
            "    Found existing installation: scipy 1.13.1\n",
            "    Uninstalling scipy-1.13.1:\n",
            "      Successfully uninstalled scipy-1.13.1\n",
            "Successfully installed ISLP-0.4.0 autograd-gamma-0.5.0 formulaic-1.0.2 interface-meta-1.3.0 lifelines-0.30.0 lightning-utilities-0.11.8 pygam-0.9.1 pytorch-lightning-2.4.0 scipy-1.11.4 torchmetrics-1.5.1\n"
          ]
        }
      ]
    },
    {
      "cell_type": "code",
      "source": [
        "from ISLP import load_data\n",
        "Auto = load_data('Auto')\n",
        "Auto.columns"
      ],
      "metadata": {
        "id": "hk0pqXzMP4OV",
        "colab": {
          "base_uri": "https://localhost:8080/"
        },
        "outputId": "782695d9-3032-493c-a00d-626712df5863"
      },
      "execution_count": null,
      "outputs": [
        {
          "output_type": "execute_result",
          "data": {
            "text/plain": [
              "Index(['mpg', 'cylinders', 'displacement', 'horsepower', 'weight',\n",
              "       'acceleration', 'year', 'origin'],\n",
              "      dtype='object')"
            ]
          },
          "metadata": {},
          "execution_count": 2
        }
      ]
    },
    {
      "cell_type": "code",
      "source": [
        "med = Auto['mpg'].median()\n",
        "mpg01 = [1 if x > med else 0 for x in Auto['mpg']]\n",
        "Auto['mpg01'] = mpg01\n",
        "print(Auto.head())"
      ],
      "metadata": {
        "colab": {
          "base_uri": "https://localhost:8080/"
        },
        "id": "KZiBLJ7lO2aZ",
        "outputId": "f482f946-f253-4687-c271-5e6ec6050290"
      },
      "execution_count": null,
      "outputs": [
        {
          "output_type": "stream",
          "name": "stdout",
          "text": [
            "                            mpg  cylinders  displacement  horsepower  weight  \\\n",
            "name                                                                           \n",
            "chevrolet chevelle malibu  18.0          8         307.0         130    3504   \n",
            "buick skylark 320          15.0          8         350.0         165    3693   \n",
            "plymouth satellite         18.0          8         318.0         150    3436   \n",
            "amc rebel sst              16.0          8         304.0         150    3433   \n",
            "ford torino                17.0          8         302.0         140    3449   \n",
            "\n",
            "                           acceleration  year  origin  mpg01  \n",
            "name                                                          \n",
            "chevrolet chevelle malibu          12.0    70       1      0  \n",
            "buick skylark 320                  11.5    70       1      0  \n",
            "plymouth satellite                 11.0    70       1      0  \n",
            "amc rebel sst                      12.0    70       1      0  \n",
            "ford torino                        10.5    70       1      0  \n"
          ]
        }
      ]
    },
    {
      "cell_type": "markdown",
      "source": [
        "##(b) Explore the data graphically in order to investigate the association between mpg01 and the other features. Which of the other features seem most likely to be useful in predicting mpg01? Scatterplots and boxplots may be useful tools to answer this question. Describe your findings."
      ],
      "metadata": {
        "id": "-DSl4cwIO8Cf"
      }
    },
    {
      "cell_type": "code",
      "source": [
        "import seaborn as sns\n",
        "import matplotlib.pyplot as plt\n",
        "\n",
        "# Select the columns you want to include in the scatterplot matrix\n",
        "# excluding 'mpg', 'mpg01', and 'name'.\n",
        "cols = [col for col in Auto.columns if col not in ['mpg', 'mpg01','name']]\n",
        "\n",
        "# Create a scatterplot matrix\n",
        "sns.pairplot(Auto, x_vars=cols, y_vars=['mpg01'], hue='mpg01')\n",
        "plt.show()\n"
      ],
      "metadata": {
        "colab": {
          "base_uri": "https://localhost:8080/",
          "height": 143
        },
        "id": "RmOyDJUA0iSx",
        "outputId": "19e937b0-1a33-4505-a40b-6e05f6238250"
      },
      "execution_count": null,
      "outputs": [
        {
          "output_type": "display_data",
          "data": {
            "text/plain": [
              "<Figure size 1809.99x250 with 7 Axes>"
            ],
            "image/png": "[encoded data removed]"
          },
          "metadata": {}
        }
      ]
    },
    {
      "cell_type": "markdown",
      "source": [
        "From the scatterplot matrix, we see that weight seems to have a negative correlation with mpg01, while accelaration seems to have a postive correlation. Other variables are not as conclusive."
      ],
      "metadata": {
        "id": "UIyjrIUs350f"
      }
    },
    {
      "cell_type": "code",
      "source": [
        "# Create boxplots for each variable against mpg01\n",
        "for col in Auto.columns:\n",
        "  if col not in ['mpg', 'mpg01', 'name']:\n",
        "    plt.figure(figsize=(8, 6))\n",
        "    sns.boxplot(x='mpg01', y=col, data=Auto)\n",
        "    plt.title(f'Boxplot of {col} vs mpg01')\n",
        "    plt.show()"
      ],
      "metadata": {
        "colab": {
          "base_uri": "https://localhost:8080/",
          "height": 1000
        },
        "id": "8dEEtsw64uZh",
        "outputId": "faa4b4fd-9d4d-4eb4-cfd8-8b29f8880afc"
      },
      "execution_count": null,
      "outputs": [
        {
          "output_type": "display_data",
          "data": {
            "text/plain": [
              "<Figure size 800x600 with 1 Axes>"
            ],
            "image/png": "[encoded data removed]"
          },
          "metadata": {}
        },
        {
          "output_type": "display_data",
          "data": {
            "text/plain": [
              "<Figure size 800x600 with 1 Axes>"
            ],
            "image/png": "[encoded data removed]"
          },
          "metadata": {}
        },
        {
          "output_type": "display_data",
          "data": {
            "text/plain": [
              "<Figure size 800x600 with 1 Axes>"
            ],
            "image/png": "[encoded data removed]"
          },
          "metadata": {}
        },
        {
          "output_type": "display_data",
          "data": {
            "text/plain": [
              "<Figure size 800x600 with 1 Axes>"
            ],
            "image/png": "[encoded data removed]"
          },
          "metadata": {}
        },
        {
          "output_type": "display_data",
          "data": {
            "text/plain": [
              "<Figure size 800x600 with 1 Axes>"
            ],
            "image/png": "[encoded data removed]"
          },
          "metadata": {}
        },
        {
          "output_type": "display_data",
          "data": {
            "text/plain": [
              "<Figure size 800x600 with 1 Axes>"
            ],
            "image/png": "[encoded data removed]"
          },
          "metadata": {}
        },
        {
          "output_type": "display_data",
          "data": {
            "text/plain": [
              "<Figure size 800x600 with 1 Axes>"
            ],
            "image/png": "[encoded data removed]"
          },
          "metadata": {}
        }
      ]
    },
    {
      "cell_type": "markdown",
      "source": [
        "From the boxplots, we also see that there is also considerable difference in the distribution of year and displacement in terms of mpg01.\n",
        "\n",
        "We select 'acceleration', 'weight', 'displacement',and 'year' as our feature."
      ],
      "metadata": {
        "id": "3PeQkiSf6LhJ"
      }
    },
    {
      "cell_type": "markdown",
      "source": [
        "##(c) Split the data into a training set and a test set."
      ],
      "metadata": {
        "id": "IxEL6VcyTX0d"
      }
    },
    {
      "cell_type": "code",
      "source": [
        "from sklearn.model_selection import train_test_split\n",
        "\n",
        "# Define features (X) and target variable (y)\n",
        "X = Auto[['acceleration','weight','displacement','year']]  # Use the features identified in part (b)\n",
        "y = Auto['mpg01']\n",
        "\n",
        "# Split data into training and testing sets (e.g., 70% training, 30% testing)\n",
        "X_train, X_test, y_train, y_test = train_test_split(X, y, test_size=0.3, random_state=42)\n",
        "\n",
        "# Print the shapes of the resulting sets\n",
        "print(f\"Training data shape: {X_train.shape}\")\n",
        "print(f\"Testing data shape: {X_test.shape}\")"
      ],
      "metadata": {
        "colab": {
          "base_uri": "https://localhost:8080/"
        },
        "id": "WjpDA_-y0VB2",
        "outputId": "044e68c9-83b4-4c06-f297-c2141aab2bf9"
      },
      "execution_count": null,
      "outputs": [
        {
          "output_type": "stream",
          "name": "stdout",
          "text": [
            "Training data shape: (277, 4)\n",
            "Testing data shape: (120, 4)\n"
          ]
        }
      ]
    },
    {
      "cell_type": "markdown",
      "source": [
        "##(d) Perform LDA on the training data in order to predict mpg01 using the variables that seemed most associated with mpg01 in (b). What is the test error of the model obtained?"
      ],
      "metadata": {
        "id": "_Z03uMWYT49J"
      }
    },
    {
      "cell_type": "code",
      "source": [
        "from sklearn.discriminant_analysis import LinearDiscriminantAnalysis\n",
        "from sklearn.metrics import accuracy_score\n",
        "\n",
        "# Define features (X) and target variable (y) using 'acceleration','weight','displacement','year'\n",
        "X = Auto[['acceleration','weight','displacement','year']]\n",
        "y = Auto['mpg01']\n",
        "\n",
        "# Create and train the LDA model\n",
        "lda_model = LinearDiscriminantAnalysis()\n",
        "lda_model.fit(X_train, y_train)\n",
        "\n",
        "# Make predictions on the test set\n",
        "y_pred = lda_model.predict(X_test)\n",
        "\n",
        "# Calculate the test error (1 - accuracy)\n",
        "test_error = 1 - accuracy_score(y_test, y_pred)\n",
        "\n",
        "print(f\"Test error of the LDA model: {test_error}\")"
      ],
      "metadata": {
        "colab": {
          "base_uri": "https://localhost:8080/"
        },
        "id": "cIaGOA8E0eES",
        "outputId": "8bcd6e57-e57e-4c75-fddf-e1ba3a659522"
      },
      "execution_count": null,
      "outputs": [
        {
          "output_type": "stream",
          "name": "stdout",
          "text": [
            "Test error of the LDA model: 0.09999999999999998\n"
          ]
        }
      ]
    },
    {
      "cell_type": "markdown",
      "source": [
        "##(e) Perform QDA on the training data in order to predict mpg01 using the variables that seemed most associated with mpg01 in (b). What is the test error of the model obtained?"
      ],
      "metadata": {
        "id": "53Qaqq1f2sA3"
      }
    },
    {
      "cell_type": "code",
      "source": [
        "from sklearn.discriminant_analysis import QuadraticDiscriminantAnalysis\n",
        "\n",
        "# Define features (X) and target variable (y)\n",
        "X = Auto[['acceleration','weight','displacement','year']]\n",
        "y = Auto['mpg01']\n",
        "\n",
        "# Create and train the QDA model\n",
        "qda_model = QuadraticDiscriminantAnalysis()\n",
        "qda_model.fit(X_train, y_train)\n",
        "\n",
        "# Make predictions on the test set\n",
        "y_pred = qda_model.predict(X_test)\n",
        "\n",
        "# Calculate the test error (1 - accuracy)\n",
        "test_error = 1 - accuracy_score(y_test, y_pred)\n",
        "\n",
        "print(f\"Test error of the QDA model: {test_error}\")"
      ],
      "metadata": {
        "colab": {
          "base_uri": "https://localhost:8080/"
        },
        "id": "COBCU1cz2sg5",
        "outputId": "bed7e012-74b2-4fb0-eab6-282157ae0079"
      },
      "execution_count": null,
      "outputs": [
        {
          "output_type": "stream",
          "name": "stdout",
          "text": [
            "Test error of the QDA model: 0.125\n"
          ]
        }
      ]
    },
    {
      "cell_type": "markdown",
      "source": [
        "##(f) Perform logistic regression on the training data in order to predict mpg01 using the variables that seemed most associated with mpg01 in (b). What is the test error of the model obtained?"
      ],
      "metadata": {
        "id": "VyQyosil209X"
      }
    },
    {
      "cell_type": "code",
      "source": [
        "from sklearn.linear_model import LogisticRegression\n",
        "\n",
        "# Define features (X) and target variable (y)\n",
        "X = Auto[['acceleration','weight','displacement','year']]\n",
        "y = Auto['mpg01']\n",
        "\n",
        "# Create and train the logistic regression model\n",
        "logreg_model = LogisticRegression()\n",
        "logreg_model.fit(X_train, y_train)\n",
        "\n",
        "# Make predictions on the test set\n",
        "y_pred = logreg_model.predict(X_test)\n",
        "\n",
        "# Calculate the test error (1 - accuracy)\n",
        "test_error = 1 - accuracy_score(y_test, y_pred)\n",
        "\n",
        "print(f\"Test error of the logistic regression model: {test_error}\")"
      ],
      "metadata": {
        "colab": {
          "base_uri": "https://localhost:8080/"
        },
        "id": "uhmI7tn121Wq",
        "outputId": "e7362a7a-f373-42ec-b352-4ede9c670266"
      },
      "execution_count": null,
      "outputs": [
        {
          "output_type": "stream",
          "name": "stdout",
          "text": [
            "Test error of the logistic regression model: 0.09166666666666667\n"
          ]
        }
      ]
    },
    {
      "cell_type": "markdown",
      "source": [
        "##(g) Perform naive Bayes on the training data in order to predict mpg01 using the variables that seemed most associated with mpg01 in (b). What is the test error of the model obtained?"
      ],
      "metadata": {
        "id": "kE0ApOBq3Iuz"
      }
    },
    {
      "cell_type": "code",
      "source": [
        "from sklearn.naive_bayes import GaussianNB\n",
        "from sklearn.metrics import accuracy_score\n",
        "\n",
        "# Define features (X) and target variable (y)\n",
        "X = Auto[['acceleration','weight','displacement','year']]\n",
        "y = Auto['mpg01']\n",
        "\n",
        "# Create and train the Naive Bayes model\n",
        "nb_model = GaussianNB()\n",
        "nb_model.fit(X_train, y_train)\n",
        "\n",
        "# Make predictions on the test set\n",
        "y_pred = nb_model.predict(X_test)\n",
        "\n",
        "# Calculate the test error (1 - accuracy)\n",
        "test_error = 1 - accuracy_score(y_test, y_pred)\n",
        "\n",
        "print(f\"Test error of the Naive Bayes model: {test_error}\")"
      ],
      "metadata": {
        "colab": {
          "base_uri": "https://localhost:8080/"
        },
        "id": "5hYHHU1a3JZr",
        "outputId": "ca1e81da-7c38-466d-d28c-0211110c52dd"
      },
      "execution_count": null,
      "outputs": [
        {
          "output_type": "stream",
          "name": "stdout",
          "text": [
            "Test error of the Naive Bayes model: 0.125\n"
          ]
        }
      ]
    },
    {
      "cell_type": "markdown",
      "source": [
        "##(h) Perform KNN on the training data, with several values of K, in order to predict mpg01. Use only the variables that seemed most associated with mpg01 in (b). What test errors do you obtain? Which value of K seems to perform the best on this data set?"
      ],
      "metadata": {
        "id": "0h9gIRQQ3QoH"
      }
    },
    {
      "cell_type": "code",
      "source": [
        "from sklearn.neighbors import KNeighborsClassifier\n",
        "\n",
        "# Define features (X) and target variable (y)\n",
        "X = Auto[['acceleration','weight','displacement','year']]\n",
        "y = Auto['mpg01']\n",
        "\n",
        "# Define a list of K values to test\n",
        "k_values = [1, 3, 5, 7, 9, 11]\n",
        "\n",
        "# Loop through K values and calculate test errors\n",
        "for k in k_values:\n",
        "    # Create and train the KNN model\n",
        "    knn_model = KNeighborsClassifier(n_neighbors=k)\n",
        "    knn_model.fit(X_train, y_train)\n",
        "\n",
        "    # Make predictions on the test set\n",
        "    y_pred = knn_model.predict(X_test)\n",
        "\n",
        "    # Calculate the test error (1 - accuracy)\n",
        "    test_error = 1 - accuracy_score(y_test, y_pred)\n",
        "\n",
        "    print(f\"Test error for KNN with K={k}: {test_error}\")\n"
      ],
      "metadata": {
        "colab": {
          "base_uri": "https://localhost:8080/"
        },
        "id": "QYZSa-Aj3RRJ",
        "outputId": "ee2e2038-292c-4e9e-db3b-809a2e573cfc"
      },
      "execution_count": null,
      "outputs": [
        {
          "output_type": "stream",
          "name": "stdout",
          "text": [
            "Test error for KNN with K=1: 0.125\n",
            "Test error for KNN with K=3: 0.14166666666666672\n",
            "Test error for KNN with K=5: 0.15833333333333333\n",
            "Test error for KNN with K=7: 0.15833333333333333\n",
            "Test error for KNN with K=9: 0.16666666666666663\n",
            "Test error for KNN with K=11: 0.17500000000000004\n"
          ]
        }
      ]
    },
    {
      "cell_type": "markdown",
      "source": [
        "K=1 yields the best results"
      ],
      "metadata": {
        "id": "KgXI-KRZ3rUM"
      }
    },
    {
      "cell_type": "markdown",
      "source": [
        "#Ch4_Q15:\n",
        "15. This problem involves writing functions."
      ],
      "metadata": {
        "id": "7uaagrrXP4o6"
      }
    },
    {
      "cell_type": "markdown",
      "source": [
        "##(a)\n",
        "Write a function, Power(), that prints out the result of raising 2 to the 3rd power. In other words, your function should compute $2^3$ and print out the results. *Hint: Recall that x**a raises x to the power a. Use the print() function to display the result.*"
      ],
      "metadata": {
        "id": "Grx0ORenVSL7"
      }
    },
    {
      "cell_type": "code",
      "source": [
        "def Power():\n",
        "  print(2**3)\n",
        "\n",
        "Power()"
      ],
      "metadata": {
        "colab": {
          "base_uri": "https://localhost:8080/"
        },
        "id": "YCYvT2e2VudX",
        "outputId": "5e7ee4e5-a570-4875-fa62-4771db6a9a24"
      },
      "execution_count": null,
      "outputs": [
        {
          "output_type": "stream",
          "name": "stdout",
          "text": [
            "8\n"
          ]
        }
      ]
    },
    {
      "cell_type": "markdown",
      "source": [
        "##(b)\n",
        "Create a new function, Power2(), that allows you to pass any two numbers, x and a, and prints out the value of x**a. You can do this by beginning your function with the line def Power2(x, a): You should be able to call your function by entering, for instance, Power2(3, 8) on the command line. This should output the value of 38, namely, 6, 561."
      ],
      "metadata": {
        "id": "ubmWfuZHYhXn"
      }
    },
    {
      "cell_type": "code",
      "source": [
        "def Power2(x, a):\n",
        "  print(x**a, end='\\n\\n')\n",
        "\n",
        "Power2(3, 8)"
      ],
      "metadata": {
        "id": "VFZqmJtyP8Rl",
        "colab": {
          "base_uri": "https://localhost:8080/"
        },
        "outputId": "33b4d32a-f6d7-4b37-ac5e-e30ef7c01bdf"
      },
      "execution_count": null,
      "outputs": [
        {
          "output_type": "stream",
          "name": "stdout",
          "text": [
            "6561\n",
            "\n"
          ]
        }
      ]
    },
    {
      "cell_type": "markdown",
      "source": [
        "##(c)\n",
        "Using the Power2() function that you just wrote, compute $10^3$, $8^17$, and $131^3$."
      ],
      "metadata": {
        "id": "tGmM3d4fY0cX"
      }
    },
    {
      "cell_type": "code",
      "source": [
        "print('The answer to 10^3 is: ')\n",
        "Power2(10, 3)\n",
        "print('The answer to 8^17 is: ')\n",
        "Power2(8, 17)\n",
        "print('The answer to 131^3 is: ')\n",
        "Power2(131, 3)"
      ],
      "metadata": {
        "colab": {
          "base_uri": "https://localhost:8080/"
        },
        "id": "0EnBur3VYwpP",
        "outputId": "7c2cf2de-de77-4031-ac6b-37c2a07e7948"
      },
      "execution_count": null,
      "outputs": [
        {
          "output_type": "stream",
          "name": "stdout",
          "text": [
            "The answer to 10^3 is: \n",
            "1000\n",
            "\n",
            "The answer to 8^17 is: \n",
            "2251799813685248\n",
            "\n",
            "The answer to 131^3 is: \n",
            "2248091\n",
            "\n"
          ]
        }
      ]
    },
    {
      "cell_type": "markdown",
      "source": [
        "##(d)\n",
        "Now create a new function, Power3(), that actually returns the result x^a as a Python object, rather than simply printing it to the screen. That is, if you store the value x**a in an object called result within your function, then you can simply return return this result, using the following line: return result\n",
        "Note that the line above should be the last line in your function, and it should be indented 4 spaces."
      ],
      "metadata": {
        "id": "RXnx70QSZsAu"
      }
    },
    {
      "cell_type": "code",
      "source": [
        "def Power3(x, a):\n",
        "  result = x**a\n",
        "  return result\n",
        "\n",
        "print('The answer to 10^3 is: ', Power3(10, 3))\n",
        "print('The answer to 8^17 is: ', Power3(8, 17))\n",
        "print('The answer to 131^3 is: ', Power3(131, 3))"
      ],
      "metadata": {
        "colab": {
          "base_uri": "https://localhost:8080/"
        },
        "id": "4hNIbwLaZ4dn",
        "outputId": "75f254c6-4e82-470d-dce2-018f0481e8f1"
      },
      "execution_count": null,
      "outputs": [
        {
          "output_type": "stream",
          "name": "stdout",
          "text": [
            "The answer to 10^3 is:  1000\n",
            "The answer to 8^17 is:  2251799813685248\n",
            "The answer to 131^3 is:  2248091\n"
          ]
        }
      ]
    },
    {
      "cell_type": "markdown",
      "source": [
        "##(e)\n",
        "Now using the Power3() function, create a plot of $f(x) = x^2$. The x-axis should display a range of integers from 1 to 10, and the y-axis should display $x^2$. Label the axes appropriately, and use an appropriate title for the fgure. Consider displaying either the x-axis, the y-axis, or both on the log-scale. You can do this by using the ax.set_xscale() and ax.set_yscale() methods of the axes you are plotting to."
      ],
      "metadata": {
        "id": "6lsfcG6palkN"
      }
    },
    {
      "cell_type": "code",
      "source": [
        "import matplotlib.pyplot as plt\n",
        "\n",
        "def Power3(x, a):\n",
        "  result = x**a\n",
        "  return result\n",
        "\n",
        "# Generate x and y values\n",
        "x_values = range(1, 11)\n",
        "y_values = [Power3(x, 2) for x in x_values]\n",
        "\n",
        "# Create the plot\n",
        "fig, ax = plt.subplots()\n",
        "ax.plot(x_values, y_values, marker='o', label=f'x^2')\n",
        "\n",
        "# Customize the plot\n",
        "ax.set_xlabel(\"x\")\n",
        "ax.set_ylabel(\"f(x) = x^2\")\n",
        "ax.set_title(\"Plot of f(x) = x^2\")\n",
        "\n",
        "# Set x-axis to log scale\n",
        "ax.set_xscale('log')\n",
        "plt.show()"
      ],
      "metadata": {
        "colab": {
          "base_uri": "https://localhost:8080/",
          "height": 476
        },
        "id": "H2VnAnTiapDp",
        "outputId": "647f3558-d5dd-4ec8-9c18-1e142e23c0a9"
      },
      "execution_count": null,
      "outputs": [
        {
          "output_type": "display_data",
          "data": {
            "text/plain": [
              "<Figure size 640x480 with 1 Axes>"
            ],
            "image/png": "[encoded data removed]"
          },
          "metadata": {}
        }
      ]
    },
    {
      "cell_type": "markdown",
      "source": [
        "##(f)\n",
        "Create a function, PlotPower(), that allows you to create a plot of x against x**a for a fixed a and a sequence of values of x. For instance, if you call PlotPower(np.arange(1, 11), 3) then a plot should be created with an x-axis taking on values 1, 2,..., 10, and a y-axis taking on values $1^3, 2^3,..., 10^3$."
      ],
      "metadata": {
        "id": "W47EMschbbmV"
      }
    },
    {
      "cell_type": "code",
      "source": [
        "import matplotlib.pyplot as plt\n",
        "import numpy as np\n",
        "\n",
        "def PlotPower(x_values, a):\n",
        "    y_values = [Power3(x, a) for x in x_values]\n",
        "    fig, ax = plt.subplots()\n",
        "    ax.plot(x_values, y_values, marker='o', label=f'x^{a}')\n",
        "    ax.set_xlabel(\"x\")\n",
        "    ax.set_ylabel(f\"f(x) = x^{a}\")\n",
        "    ax.set_title(f\"Plot of f(x) = x^{a}\")\n",
        "    ax.legend()\n",
        "    plt.show()\n",
        "\n",
        "PlotPower(np.arange(1, 11), 3)"
      ],
      "metadata": {
        "colab": {
          "base_uri": "https://localhost:8080/",
          "height": 472
        },
        "id": "6n9HNMVEbmTD",
        "outputId": "8df7c2d1-6f92-4497-bb7b-358ce12db17a"
      },
      "execution_count": null,
      "outputs": [
        {
          "output_type": "display_data",
          "data": {
            "text/plain": [
              "<Figure size 640x480 with 1 Axes>"
            ],
            "image/png": "[encoded data removed]"
          },
          "metadata": {}
        }
      ]
    }
  ]
}