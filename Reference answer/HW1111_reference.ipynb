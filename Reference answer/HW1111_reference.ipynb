{
  "nbformat": 4,
  "nbformat_minor": 0,
  "metadata": {
    "colab": {
      "provenance": [],
      "collapsed_sections": [
        "gNg6B4P2UVp7",
        "1h6GYYA2V0C1",
        "uJ_SZ09rXFLq",
        "qtthX6aOQT3_"
      ]
    },
    "kernelspec": {
      "name": "python3",
      "display_name": "Python 3"
    },
    "language_info": {
      "name": "python"
    }
  },
  "cells": [
    {
      "cell_type": "markdown",
      "source": [
        "#Machine Learning and FinTech 2024/25\n",
        "##Homework 1111 reference answer\n",
        "By TA, Chan Nok Hang"
      ],
      "metadata": {
        "id": "vwgWYcgAdNmr"
      }
    },
    {
      "cell_type": "markdown",
      "source": [
        "| Name    | HWCODE    | Assignment |\n",
        "|---------|-----------|------------|\n",
        "| Sabrina | HW1111Q1  | Ch06_Q3    |\n",
        "| Rebecca | HW1111Q2  | Ch06_Q4    |\n",
        "| Pinyo   | HW1111Q3  | Ch06_Q8    |\n",
        "| Hampus  | HW1111Q4  | Ch06_Q9    |"
      ],
      "metadata": {
        "id": "sFZTIbW6RVO-"
      }
    },
    {
      "cell_type": "markdown",
      "source": [
        "# Ch6_Q3\n",
        "3. Suppose we estimate the regression coefficients in a linear regression model by minimizing\n",
        "$$\\sum_{i=1}^n(y_i-\\beta_0-\\sum_{j=1}^p\\beta_jx_{ij})^2 \\text{subject to} \\sum_{j=1}^p |\\beta_j|\\le S$$\n",
        "for a particular value of s. For parts (a) through (e), indicate which\n",
        " of i. through v. is correct. Justify your answer."
      ],
      "metadata": {
        "id": "gNg6B4P2UVp7"
      }
    },
    {
      "cell_type": "markdown",
      "source": [
        "##(a)\n",
        "As we increase s from 0, the training RSS will:\\\n",
        " i. Increase initially, and then eventually start decreasing in an\n",
        " inverted U shape.\\\n",
        " ii. Decrease initially, and then eventually start increasing in a\n",
        " U shape.\\\n",
        " iii. Steadily increase.\\\n",
        " iv. Steadily decrease.\\\n",
        " v. Remain constant."
      ],
      "metadata": {
        "id": "jtWjf8GTfaKu"
      }
    },
    {
      "cell_type": "markdown",
      "source": [
        "Answer: iv. Steadily decrease. When s=0, all coefficients $β_j$ are forced to be zero, so the model predicts only the intercept $β_0$ (model can’t fit the data well without features), yielding high training RSS.\n",
        "\n",
        "As s increases, more flexibility is allowed in the coefficients, reducing\n",
        "the training RSS because the model can fit the data better."
      ],
      "metadata": {
        "id": "T4Fgyp7nfsqR"
      }
    },
    {
      "cell_type": "markdown",
      "source": [
        "##(b)\n",
        "Repeat (a) for test RSS."
      ],
      "metadata": {
        "id": "dfZfq6iMfmWm"
      }
    },
    {
      "cell_type": "markdown",
      "source": [
        "Answer: ii. Decrease initially, and then eventually start increasing in a U\n",
        "shape.\n",
        "Explanation:\n",
        "With very low s, the model is too constrained, resulting in underfitting\n",
        "and high test RSS. As s increases, the model can fit the data better, reducing\n",
        "test RSS. However, after a certain point, further increasing s leads to\n",
        "overfitting, causing test RSS to rise again."
      ],
      "metadata": {
        "id": "qUyx9spcftfw"
      }
    },
    {
      "cell_type": "markdown",
      "source": [
        "##(c)\n",
        "Repeat (a) for variance."
      ],
      "metadata": {
        "id": "MdIolX66fqp4"
      }
    },
    {
      "cell_type": "markdown",
      "source": [
        "Answer: iv. Steadily increase.\n",
        "Explanation:\n",
        "With a small s, the coefficients (βj) are heavily constrained, leading to\n",
        "low variance. As s increases, the model has more flexibility, causing higher\n",
        "variance in the estimated coefficients (may lead to overfitting)."
      ],
      "metadata": {
        "id": "Lp82qtwwIno4"
      }
    },
    {
      "cell_type": "markdown",
      "source": [
        "##(d)\n",
        "Repeat (a) for (squared) bias."
      ],
      "metadata": {
        "id": "e4lQk8DKIkdZ"
      }
    },
    {
      "cell_type": "markdown",
      "source": [
        "Answer: ii. Decrease initially, and then eventually start increasing in a U shape. Explanation:\n",
        "At very low s, the model is overly simplistic (highly biased). Increasing s reduces bias as the model becomes more flexible. However, too large s may cause the model to capture noise, which could indirectly affect the model's ability to generalize, potentially increasing bias slightly due to overfitting."
      ],
      "metadata": {
        "id": "pXmep4aaIppZ"
      }
    },
    {
      "cell_type": "markdown",
      "source": [
        "##(e)\n",
        "Repeat (a) for the irreducible error."
      ],
      "metadata": {
        "id": "ISZDwgwlIpbX"
      }
    },
    {
      "cell_type": "markdown",
      "source": [
        "Answer: v. Remain constant. Explanation:\n",
        "The irreducible error is due to inherent noise in the data and cannot be affected by the model or the choice of s. Therefore, it remains constant regardless of s."
      ],
      "metadata": {
        "id": "2fmDW257IuWF"
      }
    },
    {
      "cell_type": "markdown",
      "source": [
        "#Ch6_Q4\n",
        "4. Suppose we estimate the regression coefficients in a linear regression model by minimizing\n",
        "$$\\sum_{i=1}^n(y_i-\\beta_0-\\sum_{j=1}^p\\beta_jx_{ij})^2 + \\lambda \\sum_{j=1}^p \\beta_j^2$$\n",
        "for a particular value of s. For parts (a) through (e), indicate which of i. through v. is correct. Justify your answer."
      ],
      "metadata": {
        "id": "1h6GYYA2V0C1"
      }
    },
    {
      "cell_type": "markdown",
      "source": [
        "##(a)\n",
        "As we increase $\\lambda$ from 0, the training RSS will:\\\n",
        " i. Increase initially, and then eventually start decreasing in an\n",
        " inverted U shape.\\\n",
        " ii. Decrease initially, and then eventually start increasing in a\n",
        " U shape.\\\n",
        " iii. Steadily increase.\\\n",
        " iv. Steadily decrease.\\\n",
        " v. Remain constant."
      ],
      "metadata": {
        "id": "PwrTP99nqexv"
      }
    },
    {
      "cell_type": "markdown",
      "source": [
        "Answer: iii. Steadily increase.\n",
        "\n",
        "Higher $\\lambda$ leads to simpler models that may underfit, increasing training error. As $\\lambda$ increases, regularization shrinks $\\beta_j$, reducing the model's flexibility.\n"
      ],
      "metadata": {
        "id": "emA-x3syqex_"
      }
    },
    {
      "cell_type": "markdown",
      "source": [
        "##(b)\n",
        "Repeat (a) for test RSS."
      ],
      "metadata": {
        "id": "8OwprWNVqeyA"
      }
    },
    {
      "cell_type": "markdown",
      "source": [
        "Answer: ii. Decrease initially, and then eventually start increasing in a U shape.\n",
        "\n",
        "Test RSS typically decreases initially (reduced overfitting) but increases later (underfitting) as $\\lambda$ grows.\n"
      ],
      "metadata": {
        "id": "I4DWplNTqeyA"
      }
    },
    {
      "cell_type": "markdown",
      "source": [
        "##(c)\n",
        "Repeat (a) for variance."
      ],
      "metadata": {
        "id": "jrmUTxvoqeyA"
      }
    },
    {
      "cell_type": "markdown",
      "source": [
        "Answer: iv. Steadily decrease\n",
        "\n",
        "Variance decreases as $\\lambda$ grows because the model becomes less sensitive to small changes in the data.\n"
      ],
      "metadata": {
        "id": "HIn7jhD6qeyB"
      }
    },
    {
      "cell_type": "markdown",
      "source": [
        "##(d)\n",
        "Repeat (a) for (squared) bias."
      ],
      "metadata": {
        "id": "PCmkvDeHqeyB"
      }
    },
    {
      "cell_type": "markdown",
      "source": [
        "Answer: iv. Steadily increase.\n",
        "\n",
        "Bias increases with larger $\\lambda$ since the model becomes too simple and underfits."
      ],
      "metadata": {
        "id": "Yvo7y8jHqeyB"
      }
    },
    {
      "cell_type": "markdown",
      "source": [
        "##(e)\n",
        "Repeat (a) for the irreducible error."
      ],
      "metadata": {
        "id": "K4S8fUjRqeyC"
      }
    },
    {
      "cell_type": "markdown",
      "source": [
        "Answer: v. Remain constant\n",
        "\n",
        "Irreducible error is inherent in the data and does not depend on $\\lambda$."
      ],
      "metadata": {
        "id": "bO5OnbVTqeyC"
      }
    },
    {
      "cell_type": "markdown",
      "source": [
        "#Ch6_Q8\n",
        "8. In this exercise, we will generate simulated data, and will then use this data to perform forward and backward stepwise selection."
      ],
      "metadata": {
        "id": "uJ_SZ09rXFLq"
      }
    },
    {
      "cell_type": "markdown",
      "source": [
        "##(a)\n",
        "Create a random number generator and use its normal() method to generate a predictor X of length n = 100, as well as a noise vector ε of length n = 100."
      ],
      "metadata": {
        "id": "1Ojvz9cmQknk"
      }
    },
    {
      "cell_type": "code",
      "execution_count": null,
      "metadata": {
        "id": "f4c73351-5721-4e7a-874f-96ac7b9c9b72",
        "outputId": "07fbb069-310c-4ceb-e193-e3761b8da7f6"
      },
      "outputs": [
        {
          "data": {
            "text/plain": [
              "array([ 0.49671415, -0.1382643 ,  0.64768854,  1.52302986, -0.23415337,\n",
              "       -0.23413696,  1.57921282,  0.76743473, -0.46947439,  0.54256004,\n",
              "       -0.46341769, -0.46572975,  0.24196227, -1.91328024, -1.72491783,\n",
              "       -0.56228753, -1.01283112,  0.31424733, -0.90802408, -1.4123037 ,\n",
              "        1.46564877, -0.2257763 ,  0.0675282 , -1.42474819, -0.54438272,\n",
              "        0.11092259, -1.15099358,  0.37569802, -0.60063869, -0.29169375,\n",
              "       -0.60170661,  1.85227818, -0.01349722, -1.05771093,  0.82254491,\n",
              "       -1.22084365,  0.2088636 , -1.95967012, -1.32818605,  0.19686124,\n",
              "        0.73846658,  0.17136828, -0.11564828, -0.3011037 , -1.47852199,\n",
              "       -0.71984421, -0.46063877,  1.05712223,  0.34361829, -1.76304016,\n",
              "        0.32408397, -0.38508228, -0.676922  ,  0.61167629,  1.03099952,\n",
              "        0.93128012, -0.83921752, -0.30921238,  0.33126343,  0.97554513,\n",
              "       -0.47917424, -0.18565898, -1.10633497, -1.19620662,  0.81252582,\n",
              "        1.35624003, -0.07201012,  1.0035329 ,  0.36163603, -0.64511975,\n",
              "        0.36139561,  1.53803657, -0.03582604,  1.56464366, -2.6197451 ,\n",
              "        0.8219025 ,  0.08704707, -0.29900735,  0.09176078, -1.98756891,\n",
              "       -0.21967189,  0.35711257,  1.47789404, -0.51827022, -0.8084936 ,\n",
              "       -0.50175704,  0.91540212,  0.32875111, -0.5297602 ,  0.51326743,\n",
              "        0.09707755,  0.96864499, -0.70205309, -0.32766215, -0.39210815,\n",
              "       -1.46351495,  0.29612028,  0.26105527,  0.00511346, -0.23458713])"
            ]
          },
          "execution_count": 14,
          "metadata": {},
          "output_type": "execute_result"
        }
      ],
      "source": [
        "import numpy as np\n",
        "np.random.seed(42)\n",
        "X = np.random.normal(0, 1, 100)\n",
        "epsilon = np.random.normal(0, 1, 100)\n",
        "X"
      ]
    },
    {
      "cell_type": "markdown",
      "source": [
        "##(b)\n",
        "Generate a response vector Y of length n = 100 according to the model\n",
        "$$Y = \\beta_0+ \\beta_1X+ \\beta_2X^2+ \\beta_3X^3+\\epsilon,$$\n",
        " where $\\beta_0$, $\\beta_1$, $\\beta_2$, and $\\beta_3$ are constants of your choice."
      ],
      "metadata": {
        "id": "cIvtM9RrQrAe"
      }
    },
    {
      "cell_type": "code",
      "execution_count": null,
      "metadata": {
        "id": "a0bc985c-27a7-4b73-b20d-6639ba827de6"
      },
      "outputs": [],
      "source": [
        "# Set the number of observations (n)\n",
        "n = 100\n",
        "\n",
        "# Set the coefficients (β0, β1, β2, β3)\n",
        "beta0 = 2\n",
        "beta1 = 3\n",
        "beta2 = -0.5\n",
        "beta3 = 0.2\n",
        "\n",
        "# Generate the response vector Y\n",
        "Y = beta0 + beta1*X + beta2*X**2 + beta3*X**3 + np.random.normal(size=n)\n"
      ]
    },
    {
      "cell_type": "markdown",
      "source": [
        "##(c)\n",
        "Use forward stepwise selection in order to select a model containing the predictors $X,X^2,...,X^{10}$. What is the model obtained according to $C_p$? Report the coefficients of the model obtained."
      ],
      "metadata": {
        "id": "EPwMjr5oRk8l"
      }
    },
    {
      "cell_type": "code",
      "execution_count": null,
      "metadata": {
        "id": "74f034f3-e38b-4d2b-aabf-85a71886aad2",
        "outputId": "614131d2-54e1-4e7e-9bd9-3d466dff721b"
      },
      "outputs": [
        {
          "name": "stdout",
          "output_type": "stream",
          "text": [
            "                            OLS Regression Results                            \n",
            "==============================================================================\n",
            "Dep. Variable:                      y   R-squared:                       0.929\n",
            "Model:                            OLS   Adj. R-squared:                  0.921\n",
            "Method:                 Least Squares   F-statistic:                     116.0\n",
            "Date:                Mon, 18 Nov 2024   Prob (F-statistic):           1.35e-46\n",
            "Time:                        00:58:25   Log-Likelihood:                -142.36\n",
            "No. Observations:                 100   AIC:                             306.7\n",
            "Df Residuals:                      89   BIC:                             335.4\n",
            "Df Model:                          10                                         \n",
            "Covariance Type:            nonrobust                                         \n",
            "==============================================================================\n",
            "                 coef    std err          t      P>|t|      [0.025      0.975]\n",
            "------------------------------------------------------------------------------\n",
            "X              4.1893      0.764      5.484      0.000       2.671       5.707\n",
            "X^2            1.8565      1.681      1.105      0.272      -1.483       5.196\n",
            "X^5            2.5870      3.639      0.711      0.479      -4.644       9.818\n",
            "X^4           -5.5487      2.805     -1.978      0.051     -11.122       0.025\n",
            "X^8           -0.8690      0.580     -1.498      0.138      -2.021       0.283\n",
            "X^7           -0.7925      1.584     -0.500      0.618      -3.939       2.354\n",
            "X^6            3.5792      1.798      1.991      0.050       0.007       7.152\n",
            "X^9            0.0782      0.222      0.352      0.726      -0.363       0.519\n",
            "X^3           -2.8703      3.037     -0.945      0.347      -8.905       3.164\n",
            "X^10           0.0700      0.077      0.905      0.368      -0.084       0.224\n",
            "const          2.0788      0.223      9.314      0.000       1.635       2.522\n",
            "==============================================================================\n",
            "Omnibus:                        2.296   Durbin-Watson:                   2.288\n",
            "Prob(Omnibus):                  0.317   Jarque-Bera (JB):                1.927\n",
            "Skew:                           0.074   Prob(JB):                        0.382\n",
            "Kurtosis:                       3.664   Cond. No.                     8.10e+04\n",
            "==============================================================================\n",
            "\n",
            "Notes:\n",
            "[1] Standard Errors assume that the covariance matrix of the errors is correctly specified.\n",
            "[2] The condition number is large, 8.1e+04. This might indicate that there are\n",
            "strong multicollinearity or other numerical problems.\n"
          ]
        }
      ],
      "source": [
        "import pandas as pd\n",
        "import statsmodels.api as sm\n",
        "from itertools import combinations\n",
        "\n",
        "# Prepare dataset with polynomial features\n",
        "data = pd.DataFrame({'X': X})\n",
        "for i in range(2, 11):\n",
        "    data[f'X^{i}'] = X**i\n",
        "\n",
        "# Add intercept\n",
        "data = sm.add_constant(data)\n",
        "\n",
        "# Forward stepwise selection\n",
        "def forward_selection(data, response):\n",
        "    initial_features = []\n",
        "    remaining_features = list(data.columns)\n",
        "    remaining_features.remove('const')\n",
        "    selected_features = []\n",
        "    best_models = []\n",
        "\n",
        "    while remaining_features:\n",
        "        best_model = None\n",
        "        best_cp = np.inf\n",
        "\n",
        "        for feature in remaining_features:\n",
        "            model = sm.OLS(response, data[selected_features + [feature] + ['const']]).fit()\n",
        "            cp = model.aic  # Using AIC as a proxy for Cp\n",
        "\n",
        "            if cp < best_cp:\n",
        "                best_cp = cp\n",
        "                best_model = model\n",
        "                best_feature = feature\n",
        "\n",
        "        selected_features.append(best_feature)\n",
        "        remaining_features.remove(best_feature)\n",
        "        best_models.append(best_model)\n",
        "\n",
        "    return best_models[-1]\n",
        "\n",
        "# Get best model by forward selection\n",
        "best_model_forward = forward_selection(data, Y)\n",
        "print(best_model_forward.summary())"
      ]
    },
    {
      "cell_type": "markdown",
      "source": [
        "##(d)\n",
        "Repeat (c), using backwards stepwise selection. How does your answer compare to the results in (c)?"
      ],
      "metadata": {
        "id": "dWYCw4sQRmZP"
      }
    },
    {
      "cell_type": "code",
      "execution_count": null,
      "metadata": {
        "id": "f4060180-5e68-4c1b-afc3-1b20f4fe736c",
        "outputId": "b0d3741b-b07d-4b72-f6fe-8ffdf3b6c36c"
      },
      "outputs": [
        {
          "name": "stdout",
          "output_type": "stream",
          "text": [
            "                            OLS Regression Results                            \n",
            "==============================================================================\n",
            "Dep. Variable:                      y   R-squared:                      -0.000\n",
            "Model:                            OLS   Adj. R-squared:                 -0.000\n",
            "Method:                 Least Squares   F-statistic:                       nan\n",
            "Date:                Mon, 18 Nov 2024   Prob (F-statistic):                nan\n",
            "Time:                        00:58:47   Log-Likelihood:                -274.44\n",
            "No. Observations:                 100   AIC:                             550.9\n",
            "Df Residuals:                      99   BIC:                             553.5\n",
            "Df Model:                           0                                         \n",
            "Covariance Type:            nonrobust                                         \n",
            "==============================================================================\n",
            "                 coef    std err          t      P>|t|      [0.025      0.975]\n",
            "------------------------------------------------------------------------------\n",
            "const          1.2627      0.378      3.338      0.001       0.512       2.013\n",
            "==============================================================================\n",
            "Omnibus:                       21.467   Durbin-Watson:                   2.100\n",
            "Prob(Omnibus):                  0.000   Jarque-Bera (JB):               30.002\n",
            "Skew:                          -1.020   Prob(JB):                     3.06e-07\n",
            "Kurtosis:                       4.744   Cond. No.                         1.00\n",
            "==============================================================================\n",
            "\n",
            "Notes:\n",
            "[1] Standard Errors assume that the covariance matrix of the errors is correctly specified.\n"
          ]
        }
      ],
      "source": [
        "def backward_selection(data, response):\n",
        "    remaining_features = list(data.columns)\n",
        "    remaining_features.remove('const')\n",
        "    selected_features = remaining_features[:]\n",
        "    best_models = []\n",
        "\n",
        "    while selected_features:\n",
        "        best_model = None\n",
        "        best_cp = np.inf\n",
        "\n",
        "        for feature in selected_features:\n",
        "            temp_features = selected_features[:]\n",
        "            temp_features.remove(feature)\n",
        "            model = sm.OLS(response, data[temp_features + ['const']]).fit()\n",
        "            cp = model.aic  # Using AIC as a proxy for Cp\n",
        "\n",
        "            if cp < best_cp:\n",
        "                best_cp = cp\n",
        "                best_model = model\n",
        "                removed_feature = feature\n",
        "\n",
        "        if best_model is None:\n",
        "            break\n",
        "\n",
        "        selected_features.remove(removed_feature)\n",
        "        best_models.append(best_model)\n",
        "\n",
        "    return best_models[-1]\n",
        "\n",
        "# Get best model by backward selection\n",
        "best_model_backward = backward_selection(data, Y)\n",
        "print(best_model_backward.summary())"
      ]
    },
    {
      "cell_type": "markdown",
      "source": [
        "##(e)\n",
        "Now fit a lasso model to the simulated data, again using $X,X2, ...,X10$ as predictors. Use cross-validation to select the optimal value of $\\lambda$. Create plots of the cross-validation error as a function of $\\lambda$. Report the resulting coefficient estimates, and discuss the results obtained."
      ],
      "metadata": {
        "id": "JlSNJLtXRmqy"
      }
    },
    {
      "cell_type": "code",
      "execution_count": null,
      "metadata": {
        "id": "da887f55-8427-46b2-a06c-707f4a1f0966",
        "outputId": "a0eccc0c-67e9-4c9e-aedd-66d878ff2be0"
      },
      "outputs": [
        {
          "name": "stderr",
          "output_type": "stream",
          "text": [
            "C:\\Users\\PINYKEWD\\AppData\\Local\\Programs\\Python\\Python312\\Lib\\site-packages\\sklearn\\linear_model\\_coordinate_descent.py:683: ConvergenceWarning: Objective did not converge. You might want to increase the number of iterations. Duality gap: 1.5707570272126077, tolerance: 0.12729885460774923\n",
            "  model = cd_fast.enet_coordinate_descent_gram(\n",
            "C:\\Users\\PINYKEWD\\AppData\\Local\\Programs\\Python\\Python312\\Lib\\site-packages\\sklearn\\linear_model\\_coordinate_descent.py:683: ConvergenceWarning: Objective did not converge. You might want to increase the number of iterations. Duality gap: 0.269147055378653, tolerance: 0.12729885460774923\n",
            "  model = cd_fast.enet_coordinate_descent_gram(\n",
            "C:\\Users\\PINYKEWD\\AppData\\Local\\Programs\\Python\\Python312\\Lib\\site-packages\\sklearn\\linear_model\\_coordinate_descent.py:683: ConvergenceWarning: Objective did not converge. You might want to increase the number of iterations. Duality gap: 1.1421900562125984, tolerance: 0.12729885460774923\n",
            "  model = cd_fast.enet_coordinate_descent_gram(\n",
            "C:\\Users\\PINYKEWD\\AppData\\Local\\Programs\\Python\\Python312\\Lib\\site-packages\\sklearn\\linear_model\\_coordinate_descent.py:683: ConvergenceWarning: Objective did not converge. You might want to increase the number of iterations. Duality gap: 1.521497838140931, tolerance: 0.12729885460774923\n",
            "  model = cd_fast.enet_coordinate_descent_gram(\n",
            "C:\\Users\\PINYKEWD\\AppData\\Local\\Programs\\Python\\Python312\\Lib\\site-packages\\sklearn\\linear_model\\_coordinate_descent.py:683: ConvergenceWarning: Objective did not converge. You might want to increase the number of iterations. Duality gap: 1.4203012855807629, tolerance: 0.12729885460774923\n",
            "  model = cd_fast.enet_coordinate_descent_gram(\n",
            "C:\\Users\\PINYKEWD\\AppData\\Local\\Programs\\Python\\Python312\\Lib\\site-packages\\sklearn\\linear_model\\_coordinate_descent.py:683: ConvergenceWarning: Objective did not converge. You might want to increase the number of iterations. Duality gap: 0.8921655976400871, tolerance: 0.12729885460774923\n",
            "  model = cd_fast.enet_coordinate_descent_gram(\n",
            "C:\\Users\\PINYKEWD\\AppData\\Local\\Programs\\Python\\Python312\\Lib\\site-packages\\sklearn\\linear_model\\_coordinate_descent.py:683: ConvergenceWarning: Objective did not converge. You might want to increase the number of iterations. Duality gap: 1.773792197265152, tolerance: 0.12729885460774923\n",
            "  model = cd_fast.enet_coordinate_descent_gram(\n",
            "C:\\Users\\PINYKEWD\\AppData\\Local\\Programs\\Python\\Python312\\Lib\\site-packages\\sklearn\\linear_model\\_coordinate_descent.py:683: ConvergenceWarning: Objective did not converge. You might want to increase the number of iterations. Duality gap: 11.858544570287222, tolerance: 0.12729885460774923\n",
            "  model = cd_fast.enet_coordinate_descent_gram(\n",
            "C:\\Users\\PINYKEWD\\AppData\\Local\\Programs\\Python\\Python312\\Lib\\site-packages\\sklearn\\linear_model\\_coordinate_descent.py:683: ConvergenceWarning: Objective did not converge. You might want to increase the number of iterations. Duality gap: 24.044602785062295, tolerance: 0.12729885460774923\n",
            "  model = cd_fast.enet_coordinate_descent_gram(\n",
            "C:\\Users\\PINYKEWD\\AppData\\Local\\Programs\\Python\\Python312\\Lib\\site-packages\\sklearn\\linear_model\\_coordinate_descent.py:683: ConvergenceWarning: Objective did not converge. You might want to increase the number of iterations. Duality gap: 36.148285128775285, tolerance: 0.12729885460774923\n",
            "  model = cd_fast.enet_coordinate_descent_gram(\n",
            "C:\\Users\\PINYKEWD\\AppData\\Local\\Programs\\Python\\Python312\\Lib\\site-packages\\sklearn\\linear_model\\_coordinate_descent.py:683: ConvergenceWarning: Objective did not converge. You might want to increase the number of iterations. Duality gap: 44.53423094982924, tolerance: 0.12729885460774923\n",
            "  model = cd_fast.enet_coordinate_descent_gram(\n",
            "C:\\Users\\PINYKEWD\\AppData\\Local\\Programs\\Python\\Python312\\Lib\\site-packages\\sklearn\\linear_model\\_coordinate_descent.py:683: ConvergenceWarning: Objective did not converge. You might want to increase the number of iterations. Duality gap: 0.16503750777621917, tolerance: 0.12442036909436252\n",
            "  model = cd_fast.enet_coordinate_descent_gram(\n",
            "C:\\Users\\PINYKEWD\\AppData\\Local\\Programs\\Python\\Python312\\Lib\\site-packages\\sklearn\\linear_model\\_coordinate_descent.py:683: ConvergenceWarning: Objective did not converge. You might want to increase the number of iterations. Duality gap: 0.886527236954862, tolerance: 0.12442036909436252\n",
            "  model = cd_fast.enet_coordinate_descent_gram(\n",
            "C:\\Users\\PINYKEWD\\AppData\\Local\\Programs\\Python\\Python312\\Lib\\site-packages\\sklearn\\linear_model\\_coordinate_descent.py:683: ConvergenceWarning: Objective did not converge. You might want to increase the number of iterations. Duality gap: 0.5132366048979975, tolerance: 0.12442036909436252\n",
            "  model = cd_fast.enet_coordinate_descent_gram(\n",
            "C:\\Users\\PINYKEWD\\AppData\\Local\\Programs\\Python\\Python312\\Lib\\site-packages\\sklearn\\linear_model\\_coordinate_descent.py:683: ConvergenceWarning: Objective did not converge. You might want to increase the number of iterations. Duality gap: 0.3028610896897135, tolerance: 0.12442036909436252\n",
            "  model = cd_fast.enet_coordinate_descent_gram(\n",
            "C:\\Users\\PINYKEWD\\AppData\\Local\\Programs\\Python\\Python312\\Lib\\site-packages\\sklearn\\linear_model\\_coordinate_descent.py:683: ConvergenceWarning: Objective did not converge. You might want to increase the number of iterations. Duality gap: 0.16854099447209592, tolerance: 0.12442036909436252\n",
            "  model = cd_fast.enet_coordinate_descent_gram(\n",
            "C:\\Users\\PINYKEWD\\AppData\\Local\\Programs\\Python\\Python312\\Lib\\site-packages\\sklearn\\linear_model\\_coordinate_descent.py:683: ConvergenceWarning: Objective did not converge. You might want to increase the number of iterations. Duality gap: 1.250367002406847, tolerance: 0.12442036909436252\n",
            "  model = cd_fast.enet_coordinate_descent_gram(\n",
            "C:\\Users\\PINYKEWD\\AppData\\Local\\Programs\\Python\\Python312\\Lib\\site-packages\\sklearn\\linear_model\\_coordinate_descent.py:683: ConvergenceWarning: Objective did not converge. You might want to increase the number of iterations. Duality gap: 10.90041729756473, tolerance: 0.12442036909436252\n",
            "  model = cd_fast.enet_coordinate_descent_gram(\n",
            "C:\\Users\\PINYKEWD\\AppData\\Local\\Programs\\Python\\Python312\\Lib\\site-packages\\sklearn\\linear_model\\_coordinate_descent.py:683: ConvergenceWarning: Objective did not converge. You might want to increase the number of iterations. Duality gap: 22.53057305294311, tolerance: 0.12442036909436252\n",
            "  model = cd_fast.enet_coordinate_descent_gram(\n",
            "C:\\Users\\PINYKEWD\\AppData\\Local\\Programs\\Python\\Python312\\Lib\\site-packages\\sklearn\\linear_model\\_coordinate_descent.py:683: ConvergenceWarning: Objective did not converge. You might want to increase the number of iterations. Duality gap: 33.88422766830655, tolerance: 0.12442036909436252\n",
            "  model = cd_fast.enet_coordinate_descent_gram(\n",
            "C:\\Users\\PINYKEWD\\AppData\\Local\\Programs\\Python\\Python312\\Lib\\site-packages\\sklearn\\linear_model\\_coordinate_descent.py:683: ConvergenceWarning: Objective did not converge. You might want to increase the number of iterations. Duality gap: 28.333208106412144, tolerance: 0.12442036909436252\n",
            "  model = cd_fast.enet_coordinate_descent_gram(\n",
            "C:\\Users\\PINYKEWD\\AppData\\Local\\Programs\\Python\\Python312\\Lib\\site-packages\\sklearn\\linear_model\\_coordinate_descent.py:683: ConvergenceWarning: Objective did not converge. You might want to increase the number of iterations. Duality gap: 8.062374576645993, tolerance: 0.12442036909436252\n",
            "  model = cd_fast.enet_coordinate_descent_gram(\n",
            "C:\\Users\\PINYKEWD\\AppData\\Local\\Programs\\Python\\Python312\\Lib\\site-packages\\sklearn\\linear_model\\_coordinate_descent.py:683: ConvergenceWarning: Objective did not converge. You might want to increase the number of iterations. Duality gap: 1.6554595648967734, tolerance: 0.12912084613690333\n",
            "  model = cd_fast.enet_coordinate_descent_gram(\n",
            "C:\\Users\\PINYKEWD\\AppData\\Local\\Programs\\Python\\Python312\\Lib\\site-packages\\sklearn\\linear_model\\_coordinate_descent.py:683: ConvergenceWarning: Objective did not converge. You might want to increase the number of iterations. Duality gap: 0.20642000865473165, tolerance: 0.12912084613690333\n",
            "  model = cd_fast.enet_coordinate_descent_gram(\n",
            "C:\\Users\\PINYKEWD\\AppData\\Local\\Programs\\Python\\Python312\\Lib\\site-packages\\sklearn\\linear_model\\_coordinate_descent.py:683: ConvergenceWarning: Objective did not converge. You might want to increase the number of iterations. Duality gap: 1.092638993083483, tolerance: 0.12912084613690333\n",
            "  model = cd_fast.enet_coordinate_descent_gram(\n",
            "C:\\Users\\PINYKEWD\\AppData\\Local\\Programs\\Python\\Python312\\Lib\\site-packages\\sklearn\\linear_model\\_coordinate_descent.py:683: ConvergenceWarning: Objective did not converge. You might want to increase the number of iterations. Duality gap: 1.5022606048313492, tolerance: 0.12912084613690333\n",
            "  model = cd_fast.enet_coordinate_descent_gram(\n",
            "C:\\Users\\PINYKEWD\\AppData\\Local\\Programs\\Python\\Python312\\Lib\\site-packages\\sklearn\\linear_model\\_coordinate_descent.py:683: ConvergenceWarning: Objective did not converge. You might want to increase the number of iterations. Duality gap: 1.4653012848821163, tolerance: 0.12912084613690333\n",
            "  model = cd_fast.enet_coordinate_descent_gram(\n",
            "C:\\Users\\PINYKEWD\\AppData\\Local\\Programs\\Python\\Python312\\Lib\\site-packages\\sklearn\\linear_model\\_coordinate_descent.py:683: ConvergenceWarning: Objective did not converge. You might want to increase the number of iterations. Duality gap: 1.046631911632744, tolerance: 0.12912084613690333\n",
            "  model = cd_fast.enet_coordinate_descent_gram(\n",
            "C:\\Users\\PINYKEWD\\AppData\\Local\\Programs\\Python\\Python312\\Lib\\site-packages\\sklearn\\linear_model\\_coordinate_descent.py:683: ConvergenceWarning: Objective did not converge. You might want to increase the number of iterations. Duality gap: 0.32587255586236097, tolerance: 0.12912084613690333\n",
            "  model = cd_fast.enet_coordinate_descent_gram(\n",
            "C:\\Users\\PINYKEWD\\AppData\\Local\\Programs\\Python\\Python312\\Lib\\site-packages\\sklearn\\linear_model\\_coordinate_descent.py:683: ConvergenceWarning: Objective did not converge. You might want to increase the number of iterations. Duality gap: 5.254217701150424, tolerance: 0.12912084613690333\n",
            "  model = cd_fast.enet_coordinate_descent_gram(\n",
            "C:\\Users\\PINYKEWD\\AppData\\Local\\Programs\\Python\\Python312\\Lib\\site-packages\\sklearn\\linear_model\\_coordinate_descent.py:683: ConvergenceWarning: Objective did not converge. You might want to increase the number of iterations. Duality gap: 15.906553432426222, tolerance: 0.12912084613690333\n",
            "  model = cd_fast.enet_coordinate_descent_gram(\n",
            "C:\\Users\\PINYKEWD\\AppData\\Local\\Programs\\Python\\Python312\\Lib\\site-packages\\sklearn\\linear_model\\_coordinate_descent.py:683: ConvergenceWarning: Objective did not converge. You might want to increase the number of iterations. Duality gap: 27.240492402611153, tolerance: 0.12912084613690333\n",
            "  model = cd_fast.enet_coordinate_descent_gram(\n",
            "C:\\Users\\PINYKEWD\\AppData\\Local\\Programs\\Python\\Python312\\Lib\\site-packages\\sklearn\\linear_model\\_coordinate_descent.py:683: ConvergenceWarning: Objective did not converge. You might want to increase the number of iterations. Duality gap: 37.92641853270089, tolerance: 0.12912084613690333\n",
            "  model = cd_fast.enet_coordinate_descent_gram(\n",
            "C:\\Users\\PINYKEWD\\AppData\\Local\\Programs\\Python\\Python312\\Lib\\site-packages\\sklearn\\linear_model\\_coordinate_descent.py:683: ConvergenceWarning: Objective did not converge. You might want to increase the number of iterations. Duality gap: 0.24577230834324837, tolerance: 0.12184481801503648\n",
            "  model = cd_fast.enet_coordinate_descent_gram(\n",
            "C:\\Users\\PINYKEWD\\AppData\\Local\\Programs\\Python\\Python312\\Lib\\site-packages\\sklearn\\linear_model\\_coordinate_descent.py:683: ConvergenceWarning: Objective did not converge. You might want to increase the number of iterations. Duality gap: 0.3740458013312491, tolerance: 0.12184481801503648\n",
            "  model = cd_fast.enet_coordinate_descent_gram(\n",
            "C:\\Users\\PINYKEWD\\AppData\\Local\\Programs\\Python\\Python312\\Lib\\site-packages\\sklearn\\linear_model\\_coordinate_descent.py:683: ConvergenceWarning: Objective did not converge. You might want to increase the number of iterations. Duality gap: 0.4521294243027114, tolerance: 0.12184481801503648\n",
            "  model = cd_fast.enet_coordinate_descent_gram(\n",
            "C:\\Users\\PINYKEWD\\AppData\\Local\\Programs\\Python\\Python312\\Lib\\site-packages\\sklearn\\linear_model\\_coordinate_descent.py:683: ConvergenceWarning: Objective did not converge. You might want to increase the number of iterations. Duality gap: 0.5070805756823802, tolerance: 0.12184481801503648\n",
            "  model = cd_fast.enet_coordinate_descent_gram(\n",
            "C:\\Users\\PINYKEWD\\AppData\\Local\\Programs\\Python\\Python312\\Lib\\site-packages\\sklearn\\linear_model\\_coordinate_descent.py:683: ConvergenceWarning: Objective did not converge. You might want to increase the number of iterations. Duality gap: 0.5470029240063923, tolerance: 0.12184481801503648\n",
            "  model = cd_fast.enet_coordinate_descent_gram(\n",
            "C:\\Users\\PINYKEWD\\AppData\\Local\\Programs\\Python\\Python312\\Lib\\site-packages\\sklearn\\linear_model\\_coordinate_descent.py:683: ConvergenceWarning: Objective did not converge. You might want to increase the number of iterations. Duality gap: 0.5752330120471925, tolerance: 0.12184481801503648\n",
            "  model = cd_fast.enet_coordinate_descent_gram(\n",
            "C:\\Users\\PINYKEWD\\AppData\\Local\\Programs\\Python\\Python312\\Lib\\site-packages\\sklearn\\linear_model\\_coordinate_descent.py:683: ConvergenceWarning: Objective did not converge. You might want to increase the number of iterations. Duality gap: 0.5938928582669405, tolerance: 0.12184481801503648\n",
            "  model = cd_fast.enet_coordinate_descent_gram(\n",
            "C:\\Users\\PINYKEWD\\AppData\\Local\\Programs\\Python\\Python312\\Lib\\site-packages\\sklearn\\linear_model\\_coordinate_descent.py:683: ConvergenceWarning: Objective did not converge. You might want to increase the number of iterations. Duality gap: 0.604655928919783, tolerance: 0.12184481801503648\n",
            "  model = cd_fast.enet_coordinate_descent_gram(\n",
            "C:\\Users\\PINYKEWD\\AppData\\Local\\Programs\\Python\\Python312\\Lib\\site-packages\\sklearn\\linear_model\\_coordinate_descent.py:683: ConvergenceWarning: Objective did not converge. You might want to increase the number of iterations. Duality gap: 0.6089245524071885, tolerance: 0.12184481801503648\n",
            "  model = cd_fast.enet_coordinate_descent_gram(\n",
            "C:\\Users\\PINYKEWD\\AppData\\Local\\Programs\\Python\\Python312\\Lib\\site-packages\\sklearn\\linear_model\\_coordinate_descent.py:683: ConvergenceWarning: Objective did not converge. You might want to increase the number of iterations. Duality gap: 0.6078888053752962, tolerance: 0.12184481801503648\n",
            "  model = cd_fast.enet_coordinate_descent_gram(\n",
            "C:\\Users\\PINYKEWD\\AppData\\Local\\Programs\\Python\\Python312\\Lib\\site-packages\\sklearn\\linear_model\\_coordinate_descent.py:683: ConvergenceWarning: Objective did not converge. You might want to increase the number of iterations. Duality gap: 0.6025597777440908, tolerance: 0.12184481801503648\n",
            "  model = cd_fast.enet_coordinate_descent_gram(\n",
            "C:\\Users\\PINYKEWD\\AppData\\Local\\Programs\\Python\\Python312\\Lib\\site-packages\\sklearn\\linear_model\\_coordinate_descent.py:683: ConvergenceWarning: Objective did not converge. You might want to increase the number of iterations. Duality gap: 0.5937951472312761, tolerance: 0.12184481801503648\n",
            "  model = cd_fast.enet_coordinate_descent_gram(\n",
            "C:\\Users\\PINYKEWD\\AppData\\Local\\Programs\\Python\\Python312\\Lib\\site-packages\\sklearn\\linear_model\\_coordinate_descent.py:683: ConvergenceWarning: Objective did not converge. You might want to increase the number of iterations. Duality gap: 0.5823207385514024, tolerance: 0.12184481801503648\n",
            "  model = cd_fast.enet_coordinate_descent_gram(\n",
            "C:\\Users\\PINYKEWD\\AppData\\Local\\Programs\\Python\\Python312\\Lib\\site-packages\\sklearn\\linear_model\\_coordinate_descent.py:683: ConvergenceWarning: Objective did not converge. You might want to increase the number of iterations. Duality gap: 0.5687490735904248, tolerance: 0.12184481801503648\n",
            "  model = cd_fast.enet_coordinate_descent_gram(\n",
            "C:\\Users\\PINYKEWD\\AppData\\Local\\Programs\\Python\\Python312\\Lib\\site-packages\\sklearn\\linear_model\\_coordinate_descent.py:683: ConvergenceWarning: Objective did not converge. You might want to increase the number of iterations. Duality gap: 0.5535953984802973, tolerance: 0.12184481801503648\n",
            "  model = cd_fast.enet_coordinate_descent_gram(\n",
            "C:\\Users\\PINYKEWD\\AppData\\Local\\Programs\\Python\\Python312\\Lib\\site-packages\\sklearn\\linear_model\\_coordinate_descent.py:683: ConvergenceWarning: Objective did not converge. You might want to increase the number of iterations. Duality gap: 0.5372915321860319, tolerance: 0.12184481801503648\n",
            "  model = cd_fast.enet_coordinate_descent_gram(\n",
            "C:\\Users\\PINYKEWD\\AppData\\Local\\Programs\\Python\\Python312\\Lib\\site-packages\\sklearn\\linear_model\\_coordinate_descent.py:683: ConvergenceWarning: Objective did not converge. You might want to increase the number of iterations. Duality gap: 0.5201978338246818, tolerance: 0.12184481801503648\n",
            "  model = cd_fast.enet_coordinate_descent_gram(\n",
            "C:\\Users\\PINYKEWD\\AppData\\Local\\Programs\\Python\\Python312\\Lib\\site-packages\\sklearn\\linear_model\\_coordinate_descent.py:683: ConvergenceWarning: Objective did not converge. You might want to increase the number of iterations. Duality gap: 0.502613534926013, tolerance: 0.12184481801503648\n",
            "  model = cd_fast.enet_coordinate_descent_gram(\n",
            "C:\\Users\\PINYKEWD\\AppData\\Local\\Programs\\Python\\Python312\\Lib\\site-packages\\sklearn\\linear_model\\_coordinate_descent.py:683: ConvergenceWarning: Objective did not converge. You might want to increase the number of iterations. Duality gap: 0.48478565808181884, tolerance: 0.12184481801503648\n",
            "  model = cd_fast.enet_coordinate_descent_gram(\n",
            "C:\\Users\\PINYKEWD\\AppData\\Local\\Programs\\Python\\Python312\\Lib\\site-packages\\sklearn\\linear_model\\_coordinate_descent.py:683: ConvergenceWarning: Objective did not converge. You might want to increase the number of iterations. Duality gap: 0.46691670952748154, tolerance: 0.12184481801503648\n",
            "  model = cd_fast.enet_coordinate_descent_gram(\n",
            "C:\\Users\\PINYKEWD\\AppData\\Local\\Programs\\Python\\Python312\\Lib\\site-packages\\sklearn\\linear_model\\_coordinate_descent.py:683: ConvergenceWarning: Objective did not converge. You might want to increase the number of iterations. Duality gap: 0.4491713086739537, tolerance: 0.12184481801503648\n",
            "  model = cd_fast.enet_coordinate_descent_gram(\n",
            "C:\\Users\\PINYKEWD\\AppData\\Local\\Programs\\Python\\Python312\\Lib\\site-packages\\sklearn\\linear_model\\_coordinate_descent.py:683: ConvergenceWarning: Objective did not converge. You might want to increase the number of iterations. Duality gap: 0.43168189898290166, tolerance: 0.12184481801503648\n",
            "  model = cd_fast.enet_coordinate_descent_gram(\n",
            "C:\\Users\\PINYKEWD\\AppData\\Local\\Programs\\Python\\Python312\\Lib\\site-packages\\sklearn\\linear_model\\_coordinate_descent.py:683: ConvergenceWarning: Objective did not converge. You might want to increase the number of iterations. Duality gap: 0.4633182751435925, tolerance: 0.12184481801503648\n",
            "  model = cd_fast.enet_coordinate_descent_gram(\n",
            "C:\\Users\\PINYKEWD\\AppData\\Local\\Programs\\Python\\Python312\\Lib\\site-packages\\sklearn\\linear_model\\_coordinate_descent.py:683: ConvergenceWarning: Objective did not converge. You might want to increase the number of iterations. Duality gap: 1.1049343397769462, tolerance: 0.12184481801503648\n",
            "  model = cd_fast.enet_coordinate_descent_gram(\n",
            "C:\\Users\\PINYKEWD\\AppData\\Local\\Programs\\Python\\Python312\\Lib\\site-packages\\sklearn\\linear_model\\_coordinate_descent.py:683: ConvergenceWarning: Objective did not converge. You might want to increase the number of iterations. Duality gap: 1.0941252428863208, tolerance: 0.12184481801503648\n",
            "  model = cd_fast.enet_coordinate_descent_gram(\n",
            "C:\\Users\\PINYKEWD\\AppData\\Local\\Programs\\Python\\Python312\\Lib\\site-packages\\sklearn\\linear_model\\_coordinate_descent.py:683: ConvergenceWarning: Objective did not converge. You might want to increase the number of iterations. Duality gap: 2.236549405868004, tolerance: 0.12184481801503648\n",
            "  model = cd_fast.enet_coordinate_descent_gram(\n",
            "C:\\Users\\PINYKEWD\\AppData\\Local\\Programs\\Python\\Python312\\Lib\\site-packages\\sklearn\\linear_model\\_coordinate_descent.py:683: ConvergenceWarning: Objective did not converge. You might want to increase the number of iterations. Duality gap: 3.2024007944781943, tolerance: 0.12184481801503648\n",
            "  model = cd_fast.enet_coordinate_descent_gram(\n",
            "C:\\Users\\PINYKEWD\\AppData\\Local\\Programs\\Python\\Python312\\Lib\\site-packages\\sklearn\\linear_model\\_coordinate_descent.py:683: ConvergenceWarning: Objective did not converge. You might want to increase the number of iterations. Duality gap: 3.971419345696745, tolerance: 0.12184481801503648\n",
            "  model = cd_fast.enet_coordinate_descent_gram(\n",
            "C:\\Users\\PINYKEWD\\AppData\\Local\\Programs\\Python\\Python312\\Lib\\site-packages\\sklearn\\linear_model\\_coordinate_descent.py:683: ConvergenceWarning: Objective did not converge. You might want to increase the number of iterations. Duality gap: 3.937998349059626, tolerance: 0.12184481801503648\n",
            "  model = cd_fast.enet_coordinate_descent_gram(\n",
            "C:\\Users\\PINYKEWD\\AppData\\Local\\Programs\\Python\\Python312\\Lib\\site-packages\\sklearn\\linear_model\\_coordinate_descent.py:683: ConvergenceWarning: Objective did not converge. You might want to increase the number of iterations. Duality gap: 3.7303700897080034, tolerance: 0.12184481801503648\n",
            "  model = cd_fast.enet_coordinate_descent_gram(\n",
            "C:\\Users\\PINYKEWD\\AppData\\Local\\Programs\\Python\\Python312\\Lib\\site-packages\\sklearn\\linear_model\\_coordinate_descent.py:683: ConvergenceWarning: Objective did not converge. You might want to increase the number of iterations. Duality gap: 3.46785785403398, tolerance: 0.12184481801503648\n",
            "  model = cd_fast.enet_coordinate_descent_gram(\n",
            "C:\\Users\\PINYKEWD\\AppData\\Local\\Programs\\Python\\Python312\\Lib\\site-packages\\sklearn\\linear_model\\_coordinate_descent.py:683: ConvergenceWarning: Objective did not converge. You might want to increase the number of iterations. Duality gap: 3.176328032423669, tolerance: 0.12184481801503648\n",
            "  model = cd_fast.enet_coordinate_descent_gram(\n",
            "C:\\Users\\PINYKEWD\\AppData\\Local\\Programs\\Python\\Python312\\Lib\\site-packages\\sklearn\\linear_model\\_coordinate_descent.py:683: ConvergenceWarning: Objective did not converge. You might want to increase the number of iterations. Duality gap: 2.8744903539032975, tolerance: 0.12184481801503648\n",
            "  model = cd_fast.enet_coordinate_descent_gram(\n",
            "C:\\Users\\PINYKEWD\\AppData\\Local\\Programs\\Python\\Python312\\Lib\\site-packages\\sklearn\\linear_model\\_coordinate_descent.py:683: ConvergenceWarning: Objective did not converge. You might want to increase the number of iterations. Duality gap: 2.575454470532918, tolerance: 0.12184481801503648\n",
            "  model = cd_fast.enet_coordinate_descent_gram(\n",
            "C:\\Users\\PINYKEWD\\AppData\\Local\\Programs\\Python\\Python312\\Lib\\site-packages\\sklearn\\linear_model\\_coordinate_descent.py:683: ConvergenceWarning: Objective did not converge. You might want to increase the number of iterations. Duality gap: 2.2880387132201463, tolerance: 0.12184481801503648\n",
            "  model = cd_fast.enet_coordinate_descent_gram(\n",
            "C:\\Users\\PINYKEWD\\AppData\\Local\\Programs\\Python\\Python312\\Lib\\site-packages\\sklearn\\linear_model\\_coordinate_descent.py:683: ConvergenceWarning: Objective did not converge. You might want to increase the number of iterations. Duality gap: 2.0178365475395594, tolerance: 0.12184481801503648\n",
            "  model = cd_fast.enet_coordinate_descent_gram(\n",
            "C:\\Users\\PINYKEWD\\AppData\\Local\\Programs\\Python\\Python312\\Lib\\site-packages\\sklearn\\linear_model\\_coordinate_descent.py:683: ConvergenceWarning: Objective did not converge. You might want to increase the number of iterations. Duality gap: 1.768065304076913, tolerance: 0.12184481801503648\n",
            "  model = cd_fast.enet_coordinate_descent_gram(\n",
            "C:\\Users\\PINYKEWD\\AppData\\Local\\Programs\\Python\\Python312\\Lib\\site-packages\\sklearn\\linear_model\\_coordinate_descent.py:683: ConvergenceWarning: Objective did not converge. You might want to increase the number of iterations. Duality gap: 1.5402288344467934, tolerance: 0.12184481801503648\n",
            "  model = cd_fast.enet_coordinate_descent_gram(\n",
            "C:\\Users\\PINYKEWD\\AppData\\Local\\Programs\\Python\\Python312\\Lib\\site-packages\\sklearn\\linear_model\\_coordinate_descent.py:683: ConvergenceWarning: Objective did not converge. You might want to increase the number of iterations. Duality gap: 0.13820959084102924, tolerance: 0.12931936549059042\n",
            "  model = cd_fast.enet_coordinate_descent_gram(\n",
            "C:\\Users\\PINYKEWD\\AppData\\Local\\Programs\\Python\\Python312\\Lib\\site-packages\\sklearn\\linear_model\\_coordinate_descent.py:683: ConvergenceWarning: Objective did not converge. You might want to increase the number of iterations. Duality gap: 0.8304983788522122, tolerance: 0.12931936549059042\n",
            "  model = cd_fast.enet_coordinate_descent_gram(\n",
            "C:\\Users\\PINYKEWD\\AppData\\Local\\Programs\\Python\\Python312\\Lib\\site-packages\\sklearn\\linear_model\\_coordinate_descent.py:683: ConvergenceWarning: Objective did not converge. You might want to increase the number of iterations. Duality gap: 0.43179501198733306, tolerance: 0.12931936549059042\n",
            "  model = cd_fast.enet_coordinate_descent_gram(\n",
            "C:\\Users\\PINYKEWD\\AppData\\Local\\Programs\\Python\\Python312\\Lib\\site-packages\\sklearn\\linear_model\\_coordinate_descent.py:683: ConvergenceWarning: Objective did not converge. You might want to increase the number of iterations. Duality gap: 1.165788400381416, tolerance: 0.12931936549059042\n",
            "  model = cd_fast.enet_coordinate_descent_gram(\n",
            "C:\\Users\\PINYKEWD\\AppData\\Local\\Programs\\Python\\Python312\\Lib\\site-packages\\sklearn\\linear_model\\_coordinate_descent.py:683: ConvergenceWarning: Objective did not converge. You might want to increase the number of iterations. Duality gap: 1.3637388280405958, tolerance: 0.12931936549059042\n",
            "  model = cd_fast.enet_coordinate_descent_gram(\n",
            "C:\\Users\\PINYKEWD\\AppData\\Local\\Programs\\Python\\Python312\\Lib\\site-packages\\sklearn\\linear_model\\_coordinate_descent.py:683: ConvergenceWarning: Objective did not converge. You might want to increase the number of iterations. Duality gap: 1.0799718270950507, tolerance: 0.12931936549059042\n",
            "  model = cd_fast.enet_coordinate_descent_gram(\n",
            "C:\\Users\\PINYKEWD\\AppData\\Local\\Programs\\Python\\Python312\\Lib\\site-packages\\sklearn\\linear_model\\_coordinate_descent.py:683: ConvergenceWarning: Objective did not converge. You might want to increase the number of iterations. Duality gap: 0.1586839881533706, tolerance: 0.12931936549059042\n",
            "  model = cd_fast.enet_coordinate_descent_gram(\n",
            "C:\\Users\\PINYKEWD\\AppData\\Local\\Programs\\Python\\Python312\\Lib\\site-packages\\sklearn\\linear_model\\_coordinate_descent.py:683: ConvergenceWarning: Objective did not converge. You might want to increase the number of iterations. Duality gap: 2.0378166407142544, tolerance: 0.12931936549059042\n",
            "  model = cd_fast.enet_coordinate_descent_gram(\n",
            "C:\\Users\\PINYKEWD\\AppData\\Local\\Programs\\Python\\Python312\\Lib\\site-packages\\sklearn\\linear_model\\_coordinate_descent.py:683: ConvergenceWarning: Objective did not converge. You might want to increase the number of iterations. Duality gap: 12.167399390952767, tolerance: 0.12931936549059042\n",
            "  model = cd_fast.enet_coordinate_descent_gram(\n",
            "C:\\Users\\PINYKEWD\\AppData\\Local\\Programs\\Python\\Python312\\Lib\\site-packages\\sklearn\\linear_model\\_coordinate_descent.py:683: ConvergenceWarning: Objective did not converge. You might want to increase the number of iterations. Duality gap: 23.95704382972133, tolerance: 0.12931936549059042\n",
            "  model = cd_fast.enet_coordinate_descent_gram(\n",
            "C:\\Users\\PINYKEWD\\AppData\\Local\\Programs\\Python\\Python312\\Lib\\site-packages\\sklearn\\linear_model\\_coordinate_descent.py:683: ConvergenceWarning: Objective did not converge. You might want to increase the number of iterations. Duality gap: 35.343185400954894, tolerance: 0.12931936549059042\n",
            "  model = cd_fast.enet_coordinate_descent_gram(\n",
            "C:\\Users\\PINYKEWD\\AppData\\Local\\Programs\\Python\\Python312\\Lib\\site-packages\\sklearn\\linear_model\\_coordinate_descent.py:683: ConvergenceWarning: Objective did not converge. You might want to increase the number of iterations. Duality gap: 10.7252550286712, tolerance: 0.12931936549059042\n",
            "  model = cd_fast.enet_coordinate_descent_gram(\n",
            "C:\\Users\\PINYKEWD\\AppData\\Local\\Programs\\Python\\Python312\\Lib\\site-packages\\sklearn\\linear_model\\_coordinate_descent.py:683: ConvergenceWarning: Objective did not converge. You might want to increase the number of iterations. Duality gap: 3.7349465227313203, tolerance: 0.12931936549059042\n",
            "  model = cd_fast.enet_coordinate_descent_gram(\n",
            "C:\\Users\\PINYKEWD\\AppData\\Local\\Programs\\Python\\Python312\\Lib\\site-packages\\sklearn\\linear_model\\_coordinate_descent.py:683: ConvergenceWarning: Objective did not converge. You might want to increase the number of iterations. Duality gap: 1.1978980717808554, tolerance: 0.13667400075329303\n",
            "  model = cd_fast.enet_coordinate_descent_gram(\n",
            "C:\\Users\\PINYKEWD\\AppData\\Local\\Programs\\Python\\Python312\\Lib\\site-packages\\sklearn\\linear_model\\_coordinate_descent.py:683: ConvergenceWarning: Objective did not converge. You might want to increase the number of iterations. Duality gap: 0.916223644298384, tolerance: 0.13667400075329303\n",
            "  model = cd_fast.enet_coordinate_descent_gram(\n",
            "C:\\Users\\PINYKEWD\\AppData\\Local\\Programs\\Python\\Python312\\Lib\\site-packages\\sklearn\\linear_model\\_coordinate_descent.py:683: ConvergenceWarning: Objective did not converge. You might want to increase the number of iterations. Duality gap: 1.461667047409378, tolerance: 0.13667400075329303\n",
            "  model = cd_fast.enet_coordinate_descent_gram(\n",
            "C:\\Users\\PINYKEWD\\AppData\\Local\\Programs\\Python\\Python312\\Lib\\site-packages\\sklearn\\linear_model\\_coordinate_descent.py:683: ConvergenceWarning: Objective did not converge. You might want to increase the number of iterations. Duality gap: 1.4273071720243706, tolerance: 0.13667400075329303\n",
            "  model = cd_fast.enet_coordinate_descent_gram(\n",
            "C:\\Users\\PINYKEWD\\AppData\\Local\\Programs\\Python\\Python312\\Lib\\site-packages\\sklearn\\linear_model\\_coordinate_descent.py:683: ConvergenceWarning: Objective did not converge. You might want to increase the number of iterations. Duality gap: 0.738162841852045, tolerance: 0.13667400075329303\n",
            "  model = cd_fast.enet_coordinate_descent_gram(\n",
            "C:\\Users\\PINYKEWD\\AppData\\Local\\Programs\\Python\\Python312\\Lib\\site-packages\\sklearn\\linear_model\\_coordinate_descent.py:683: ConvergenceWarning: Objective did not converge. You might want to increase the number of iterations. Duality gap: 2.87063967025108, tolerance: 0.13667400075329303\n",
            "  model = cd_fast.enet_coordinate_descent_gram(\n",
            "C:\\Users\\PINYKEWD\\AppData\\Local\\Programs\\Python\\Python312\\Lib\\site-packages\\sklearn\\linear_model\\_coordinate_descent.py:683: ConvergenceWarning: Objective did not converge. You might want to increase the number of iterations. Duality gap: 13.733155322618813, tolerance: 0.13667400075329303\n",
            "  model = cd_fast.enet_coordinate_descent_gram(\n",
            "C:\\Users\\PINYKEWD\\AppData\\Local\\Programs\\Python\\Python312\\Lib\\site-packages\\sklearn\\linear_model\\_coordinate_descent.py:683: ConvergenceWarning: Objective did not converge. You might want to increase the number of iterations. Duality gap: 25.881086812394585, tolerance: 0.13667400075329303\n",
            "  model = cd_fast.enet_coordinate_descent_gram(\n",
            "C:\\Users\\PINYKEWD\\AppData\\Local\\Programs\\Python\\Python312\\Lib\\site-packages\\sklearn\\linear_model\\_coordinate_descent.py:683: ConvergenceWarning: Objective did not converge. You might want to increase the number of iterations. Duality gap: 37.424050046263346, tolerance: 0.13667400075329303\n",
            "  model = cd_fast.enet_coordinate_descent_gram(\n",
            "C:\\Users\\PINYKEWD\\AppData\\Local\\Programs\\Python\\Python312\\Lib\\site-packages\\sklearn\\linear_model\\_coordinate_descent.py:683: ConvergenceWarning: Objective did not converge. You might want to increase the number of iterations. Duality gap: 11.185007300977986, tolerance: 0.13667400075329303\n",
            "  model = cd_fast.enet_coordinate_descent_gram(\n",
            "C:\\Users\\PINYKEWD\\AppData\\Local\\Programs\\Python\\Python312\\Lib\\site-packages\\sklearn\\linear_model\\_coordinate_descent.py:683: ConvergenceWarning: Objective did not converge. You might want to increase the number of iterations. Duality gap: 3.640412410528711, tolerance: 0.13667400075329303\n",
            "  model = cd_fast.enet_coordinate_descent_gram(\n",
            "C:\\Users\\PINYKEWD\\AppData\\Local\\Programs\\Python\\Python312\\Lib\\site-packages\\sklearn\\linear_model\\_coordinate_descent.py:683: ConvergenceWarning: Objective did not converge. You might want to increase the number of iterations. Duality gap: 2.6219856880612724, tolerance: 0.13667400075329303\n",
            "  model = cd_fast.enet_coordinate_descent_gram(\n",
            "C:\\Users\\PINYKEWD\\AppData\\Local\\Programs\\Python\\Python312\\Lib\\site-packages\\sklearn\\linear_model\\_coordinate_descent.py:683: ConvergenceWarning: Objective did not converge. You might want to increase the number of iterations. Duality gap: 0.9790762217037354, tolerance: 0.13149174675631747\n",
            "  model = cd_fast.enet_coordinate_descent_gram(\n",
            "C:\\Users\\PINYKEWD\\AppData\\Local\\Programs\\Python\\Python312\\Lib\\site-packages\\sklearn\\linear_model\\_coordinate_descent.py:683: ConvergenceWarning: Objective did not converge. You might want to increase the number of iterations. Duality gap: 0.8603407759235324, tolerance: 0.13149174675631747\n",
            "  model = cd_fast.enet_coordinate_descent_gram(\n",
            "C:\\Users\\PINYKEWD\\AppData\\Local\\Programs\\Python\\Python312\\Lib\\site-packages\\sklearn\\linear_model\\_coordinate_descent.py:683: ConvergenceWarning: Objective did not converge. You might want to increase the number of iterations. Duality gap: 1.4507447163442748, tolerance: 0.13149174675631747\n",
            "  model = cd_fast.enet_coordinate_descent_gram(\n",
            "C:\\Users\\PINYKEWD\\AppData\\Local\\Programs\\Python\\Python312\\Lib\\site-packages\\sklearn\\linear_model\\_coordinate_descent.py:683: ConvergenceWarning: Objective did not converge. You might want to increase the number of iterations. Duality gap: 1.504849215406125, tolerance: 0.13149174675631747\n",
            "  model = cd_fast.enet_coordinate_descent_gram(\n",
            "C:\\Users\\PINYKEWD\\AppData\\Local\\Programs\\Python\\Python312\\Lib\\site-packages\\sklearn\\linear_model\\_coordinate_descent.py:683: ConvergenceWarning: Objective did not converge. You might want to increase the number of iterations. Duality gap: 1.0918779512417132, tolerance: 0.13149174675631747\n",
            "  model = cd_fast.enet_coordinate_descent_gram(\n",
            "C:\\Users\\PINYKEWD\\AppData\\Local\\Programs\\Python\\Python312\\Lib\\site-packages\\sklearn\\linear_model\\_coordinate_descent.py:683: ConvergenceWarning: Objective did not converge. You might want to increase the number of iterations. Duality gap: 0.3053968616173961, tolerance: 0.13149174675631747\n",
            "  model = cd_fast.enet_coordinate_descent_gram(\n",
            "C:\\Users\\PINYKEWD\\AppData\\Local\\Programs\\Python\\Python312\\Lib\\site-packages\\sklearn\\linear_model\\_coordinate_descent.py:683: ConvergenceWarning: Objective did not converge. You might want to increase the number of iterations. Duality gap: 2.3784132482385303, tolerance: 0.13149174675631747\n",
            "  model = cd_fast.enet_coordinate_descent_gram(\n",
            "C:\\Users\\PINYKEWD\\AppData\\Local\\Programs\\Python\\Python312\\Lib\\site-packages\\sklearn\\linear_model\\_coordinate_descent.py:683: ConvergenceWarning: Objective did not converge. You might want to increase the number of iterations. Duality gap: 12.432651741013956, tolerance: 0.13149174675631747\n",
            "  model = cd_fast.enet_coordinate_descent_gram(\n",
            "C:\\Users\\PINYKEWD\\AppData\\Local\\Programs\\Python\\Python312\\Lib\\site-packages\\sklearn\\linear_model\\_coordinate_descent.py:683: ConvergenceWarning: Objective did not converge. You might want to increase the number of iterations. Duality gap: 23.784032094944905, tolerance: 0.13149174675631747\n",
            "  model = cd_fast.enet_coordinate_descent_gram(\n",
            "C:\\Users\\PINYKEWD\\AppData\\Local\\Programs\\Python\\Python312\\Lib\\site-packages\\sklearn\\linear_model\\_coordinate_descent.py:683: ConvergenceWarning: Objective did not converge. You might want to increase the number of iterations. Duality gap: 34.63378969967164, tolerance: 0.13149174675631747\n",
            "  model = cd_fast.enet_coordinate_descent_gram(\n",
            "C:\\Users\\PINYKEWD\\AppData\\Local\\Programs\\Python\\Python312\\Lib\\site-packages\\sklearn\\linear_model\\_coordinate_descent.py:683: ConvergenceWarning: Objective did not converge. You might want to increase the number of iterations. Duality gap: 44.357168222143855, tolerance: 0.13149174675631747\n",
            "  model = cd_fast.enet_coordinate_descent_gram(\n",
            "C:\\Users\\PINYKEWD\\AppData\\Local\\Programs\\Python\\Python312\\Lib\\site-packages\\sklearn\\linear_model\\_coordinate_descent.py:683: ConvergenceWarning: Objective did not converge. You might want to increase the number of iterations. Duality gap: 15.422922504499184, tolerance: 0.13149174675631747\n",
            "  model = cd_fast.enet_coordinate_descent_gram(\n",
            "C:\\Users\\PINYKEWD\\AppData\\Local\\Programs\\Python\\Python312\\Lib\\site-packages\\sklearn\\linear_model\\_coordinate_descent.py:683: ConvergenceWarning: Objective did not converge. You might want to increase the number of iterations. Duality gap: 0.15770644240342335, tolerance: 0.13393855702133275\n",
            "  model = cd_fast.enet_coordinate_descent_gram(\n",
            "C:\\Users\\PINYKEWD\\AppData\\Local\\Programs\\Python\\Python312\\Lib\\site-packages\\sklearn\\linear_model\\_coordinate_descent.py:683: ConvergenceWarning: Objective did not converge. You might want to increase the number of iterations. Duality gap: 1.137584150266548, tolerance: 0.13393855702133275\n",
            "  model = cd_fast.enet_coordinate_descent_gram(\n",
            "C:\\Users\\PINYKEWD\\AppData\\Local\\Programs\\Python\\Python312\\Lib\\site-packages\\sklearn\\linear_model\\_coordinate_descent.py:683: ConvergenceWarning: Objective did not converge. You might want to increase the number of iterations. Duality gap: 0.4702291821928384, tolerance: 0.13393855702133275\n",
            "  model = cd_fast.enet_coordinate_descent_gram(\n",
            "C:\\Users\\PINYKEWD\\AppData\\Local\\Programs\\Python\\Python312\\Lib\\site-packages\\sklearn\\linear_model\\_coordinate_descent.py:683: ConvergenceWarning: Objective did not converge. You might want to increase the number of iterations. Duality gap: 1.2728587792486223, tolerance: 0.13393855702133275\n",
            "  model = cd_fast.enet_coordinate_descent_gram(\n",
            "C:\\Users\\PINYKEWD\\AppData\\Local\\Programs\\Python\\Python312\\Lib\\site-packages\\sklearn\\linear_model\\_coordinate_descent.py:683: ConvergenceWarning: Objective did not converge. You might want to increase the number of iterations. Duality gap: 1.5409520312981613, tolerance: 0.13393855702133275\n",
            "  model = cd_fast.enet_coordinate_descent_gram(\n",
            "C:\\Users\\PINYKEWD\\AppData\\Local\\Programs\\Python\\Python312\\Lib\\site-packages\\sklearn\\linear_model\\_coordinate_descent.py:683: ConvergenceWarning: Objective did not converge. You might want to increase the number of iterations. Duality gap: 1.3198449423176726, tolerance: 0.13393855702133275\n",
            "  model = cd_fast.enet_coordinate_descent_gram(\n",
            "C:\\Users\\PINYKEWD\\AppData\\Local\\Programs\\Python\\Python312\\Lib\\site-packages\\sklearn\\linear_model\\_coordinate_descent.py:683: ConvergenceWarning: Objective did not converge. You might want to increase the number of iterations. Duality gap: 0.6895223473418355, tolerance: 0.13393855702133275\n",
            "  model = cd_fast.enet_coordinate_descent_gram(\n",
            "C:\\Users\\PINYKEWD\\AppData\\Local\\Programs\\Python\\Python312\\Lib\\site-packages\\sklearn\\linear_model\\_coordinate_descent.py:683: ConvergenceWarning: Objective did not converge. You might want to increase the number of iterations. Duality gap: 0.17713807362281386, tolerance: 0.13393855702133275\n",
            "  model = cd_fast.enet_coordinate_descent_gram(\n",
            "C:\\Users\\PINYKEWD\\AppData\\Local\\Programs\\Python\\Python312\\Lib\\site-packages\\sklearn\\linear_model\\_coordinate_descent.py:683: ConvergenceWarning: Objective did not converge. You might want to increase the number of iterations. Duality gap: 9.373478084061844, tolerance: 0.13393855702133275\n",
            "  model = cd_fast.enet_coordinate_descent_gram(\n",
            "C:\\Users\\PINYKEWD\\AppData\\Local\\Programs\\Python\\Python312\\Lib\\site-packages\\sklearn\\linear_model\\_coordinate_descent.py:683: ConvergenceWarning: Objective did not converge. You might want to increase the number of iterations. Duality gap: 21.32196055541465, tolerance: 0.13393855702133275\n",
            "  model = cd_fast.enet_coordinate_descent_gram(\n",
            "C:\\Users\\PINYKEWD\\AppData\\Local\\Programs\\Python\\Python312\\Lib\\site-packages\\sklearn\\linear_model\\_coordinate_descent.py:683: ConvergenceWarning: Objective did not converge. You might want to increase the number of iterations. Duality gap: 33.30436405256313, tolerance: 0.13393855702133275\n",
            "  model = cd_fast.enet_coordinate_descent_gram(\n",
            "C:\\Users\\PINYKEWD\\AppData\\Local\\Programs\\Python\\Python312\\Lib\\site-packages\\sklearn\\linear_model\\_coordinate_descent.py:683: ConvergenceWarning: Objective did not converge. You might want to increase the number of iterations. Duality gap: 44.32663317389819, tolerance: 0.13393855702133275\n",
            "  model = cd_fast.enet_coordinate_descent_gram(\n",
            "C:\\Users\\PINYKEWD\\AppData\\Local\\Programs\\Python\\Python312\\Lib\\site-packages\\sklearn\\linear_model\\_coordinate_descent.py:683: ConvergenceWarning: Objective did not converge. You might want to increase the number of iterations. Duality gap: 42.49316358605074, tolerance: 0.13393855702133275\n",
            "  model = cd_fast.enet_coordinate_descent_gram(\n",
            "C:\\Users\\PINYKEWD\\AppData\\Local\\Programs\\Python\\Python312\\Lib\\site-packages\\sklearn\\linear_model\\_coordinate_descent.py:683: ConvergenceWarning: Objective did not converge. You might want to increase the number of iterations. Duality gap: 1.2132301115104838, tolerance: 0.1353610741629405\n",
            "  model = cd_fast.enet_coordinate_descent_gram(\n",
            "C:\\Users\\PINYKEWD\\AppData\\Local\\Programs\\Python\\Python312\\Lib\\site-packages\\sklearn\\linear_model\\_coordinate_descent.py:683: ConvergenceWarning: Objective did not converge. You might want to increase the number of iterations. Duality gap: 0.3213144140544273, tolerance: 0.1353610741629405\n",
            "  model = cd_fast.enet_coordinate_descent_gram(\n",
            "C:\\Users\\PINYKEWD\\AppData\\Local\\Programs\\Python\\Python312\\Lib\\site-packages\\sklearn\\linear_model\\_coordinate_descent.py:683: ConvergenceWarning: Objective did not converge. You might want to increase the number of iterations. Duality gap: 1.2001385305489976, tolerance: 0.1353610741629405\n",
            "  model = cd_fast.enet_coordinate_descent_gram(\n",
            "C:\\Users\\PINYKEWD\\AppData\\Local\\Programs\\Python\\Python312\\Lib\\site-packages\\sklearn\\linear_model\\_coordinate_descent.py:683: ConvergenceWarning: Objective did not converge. You might want to increase the number of iterations. Duality gap: 1.5043298151240379, tolerance: 0.1353610741629405\n",
            "  model = cd_fast.enet_coordinate_descent_gram(\n",
            "C:\\Users\\PINYKEWD\\AppData\\Local\\Programs\\Python\\Python312\\Lib\\site-packages\\sklearn\\linear_model\\_coordinate_descent.py:683: ConvergenceWarning: Objective did not converge. You might want to increase the number of iterations. Duality gap: 1.285243316051151, tolerance: 0.1353610741629405\n",
            "  model = cd_fast.enet_coordinate_descent_gram(\n",
            "C:\\Users\\PINYKEWD\\AppData\\Local\\Programs\\Python\\Python312\\Lib\\site-packages\\sklearn\\linear_model\\_coordinate_descent.py:683: ConvergenceWarning: Objective did not converge. You might want to increase the number of iterations. Duality gap: 0.5509154076638652, tolerance: 0.1353610741629405\n",
            "  model = cd_fast.enet_coordinate_descent_gram(\n",
            "C:\\Users\\PINYKEWD\\AppData\\Local\\Programs\\Python\\Python312\\Lib\\site-packages\\sklearn\\linear_model\\_coordinate_descent.py:683: ConvergenceWarning: Objective did not converge. You might want to increase the number of iterations. Duality gap: 7.19536746475228, tolerance: 0.1353610741629405\n",
            "  model = cd_fast.enet_coordinate_descent_gram(\n",
            "C:\\Users\\PINYKEWD\\AppData\\Local\\Programs\\Python\\Python312\\Lib\\site-packages\\sklearn\\linear_model\\_coordinate_descent.py:683: ConvergenceWarning: Objective did not converge. You might want to increase the number of iterations. Duality gap: 18.854548245796707, tolerance: 0.1353610741629405\n",
            "  model = cd_fast.enet_coordinate_descent_gram(\n",
            "C:\\Users\\PINYKEWD\\AppData\\Local\\Programs\\Python\\Python312\\Lib\\site-packages\\sklearn\\linear_model\\_coordinate_descent.py:683: ConvergenceWarning: Objective did not converge. You might want to increase the number of iterations. Duality gap: 30.774022745800607, tolerance: 0.1353610741629405\n",
            "  model = cd_fast.enet_coordinate_descent_gram(\n",
            "C:\\Users\\PINYKEWD\\AppData\\Local\\Programs\\Python\\Python312\\Lib\\site-packages\\sklearn\\linear_model\\_coordinate_descent.py:683: ConvergenceWarning: Objective did not converge. You might want to increase the number of iterations. Duality gap: 41.7586755965209, tolerance: 0.1353610741629405\n",
            "  model = cd_fast.enet_coordinate_descent_gram(\n",
            "C:\\Users\\PINYKEWD\\AppData\\Local\\Programs\\Python\\Python312\\Lib\\site-packages\\sklearn\\linear_model\\_coordinate_descent.py:683: ConvergenceWarning: Objective did not converge. You might want to increase the number of iterations. Duality gap: 8.894390122131995, tolerance: 0.1353610741629405\n",
            "  model = cd_fast.enet_coordinate_descent_gram(\n",
            "C:\\Users\\PINYKEWD\\AppData\\Local\\Programs\\Python\\Python312\\Lib\\site-packages\\sklearn\\linear_model\\_coordinate_descent.py:683: ConvergenceWarning: Objective did not converge. You might want to increase the number of iterations. Duality gap: 3.2086470116279315, tolerance: 0.1353610741629405\n",
            "  model = cd_fast.enet_coordinate_descent_gram(\n",
            "C:\\Users\\PINYKEWD\\AppData\\Local\\Programs\\Python\\Python312\\Lib\\site-packages\\sklearn\\linear_model\\_coordinate_descent.py:697: ConvergenceWarning: Objective did not converge. You might want to increase the number of iterations, check the scale of the features or consider increasing regularisation. Duality gap: 1.018e+01, tolerance: 1.417e-01\n",
            "  model = cd_fast.enet_coordinate_descent(\n"
          ]
        },
        {
          "data": {
            "image/png": "[encoded data removed]",
            "text/plain": [
              "<Figure size 640x480 with 1 Axes>"
            ]
          },
          "metadata": {},
          "output_type": "display_data"
        }
      ],
      "source": [
        "from sklearn.linear_model import LassoCV\n",
        "import matplotlib.pyplot as plt\n",
        "\n",
        "lasso = LassoCV(cv=10).fit(X_poly, Y)\n",
        "\n",
        "plt.plot(lasso.alphas_, lasso.mse_path_.mean(axis=1), marker='o')\n",
        "plt.xlabel('Lambda')\n",
        "plt.ylabel('Cross-Validation Error')\n",
        "plt.title('Lasso Cross-Validation Error vs Lambda')\n",
        "plt.xscale('log')\n",
        "plt.show()"
      ]
    },
    {
      "cell_type": "markdown",
      "source": [
        "##(f)\n",
        "Now generate a response vector Y according to the model\n",
        "$$Y = \\beta0+ \\beta_7X^7+\\epsilon,$$\n",
        " and perform forward stepwise selection and the lasso. Discuss\n",
        " the results obtained."
      ],
      "metadata": {
        "id": "gTN9HTO2RnNX"
      }
    },
    {
      "cell_type": "code",
      "execution_count": null,
      "metadata": {
        "id": "7ed3d68a-b998-4339-a23d-2f817a0c2f9c",
        "outputId": "4a92cda2-4fa9-4da2-d52d-c69fdbcdccb1"
      },
      "outputs": [
        {
          "name": "stdout",
          "output_type": "stream",
          "text": [
            "Forward Stepwise Selection Coefficients for New Model:\n",
            "[-266.40965923   -3.55208569  -80.63428406   17.4039447   109.94526299\n",
            "   -5.33417907]\n",
            "Lasso Coefficients for New Model:\n",
            "[  0.         104.58588979  -0.          -0.           0.\n",
            " -42.80020607   0.         605.88148804  -0.         131.70834981]\n"
          ]
        }
      ],
      "source": [
        "from sklearn.feature_selection import SequentialFeatureSelector\n",
        "from sklearn.linear_model import LinearRegression, LassoCV\n",
        "import statsmodels.api as sm\n",
        "import numpy as np\n",
        "\n",
        "# Assuming X_poly is defined and epsilon is created\n",
        "# Example of how X_poly might look like (X raised to polynomial degrees):\n",
        "X_poly = np.random.randn(100, 10)  # Example feature set\n",
        "beta_0 = 0  # Example intercept\n",
        "beta_7 = 7\n",
        "epsilon = np.random.randn(100)  # Noise term\n",
        "Y_new = beta_0 + beta_7 * X_poly[:, 7]**7 + epsilon  # Adjusted model\n",
        "\n",
        "# Forward stepwise selection for the new model\n",
        "linear_model = LinearRegression()  # Use LinearRegression as the base model for feature selection\n",
        "forward_sfs_new = SequentialFeatureSelector(linear_model, n_features_to_select='auto', direction='forward')\n",
        "forward_sfs_new.fit(X_poly, Y_new)\n",
        "selected_features_forward_new = forward_sfs_new.get_support(indices=True)\n",
        "\n",
        "# Fit the model with selected features\n",
        "X_forward_selected_new = X_poly[:, selected_features_forward_new]\n",
        "model_forward_new = sm.OLS(Y_new, sm.add_constant(X_forward_selected_new)).fit()\n",
        "\n",
        "print(\"Forward Stepwise Selection Coefficients for New Model:\")\n",
        "print(model_forward_new.params)\n",
        "\n",
        "# Lasso for the new model\n",
        "lasso_new = LassoCV(cv=10).fit(X_poly, Y_new)\n",
        "print(\"Lasso Coefficients for New Model:\")\n",
        "print(lasso_new.coef_)\n"
      ]
    },
    {
      "cell_type": "markdown",
      "metadata": {
        "id": "5a471e72-ee27-4b8d-a7bc-ed552ab742d6"
      },
      "source": [
        "1.Forward Stepwise Selection starts with no variables and adds the most significant variable at each step, so the final model generally includes more non-zero coefficients (as seen here), which may have both positive and negative values.However, it lacks strong regularization, so even small coefficients remain in the model.\n",
        "\n",
        "2.Lasso Regression applies L1 regularization (an absolute value penalty) to perform variable selection by shrinking the coefficients of unimportant variables to zero, resulting in a sparse model that contains only a few significant variables.In this result, only two variables have non-zero coefficients, specifically 1.18509122 and 0.04362939, which means that Lasso identified these as the only variables with substantial predictive value, and it set the other coefficients to zero as they contributed minimally to the model.\n"
      ]
    },
    {
      "cell_type": "markdown",
      "source": [
        "#Ch6_Q9\n",
        "9. In this exercise, we will predict the number of applications received using the other variables in the College data set."
      ],
      "metadata": {
        "id": "qtthX6aOQT3_"
      }
    },
    {
      "cell_type": "markdown",
      "source": [
        "##(a)\n",
        "Split the data set into a training set and a test set."
      ],
      "metadata": {
        "id": "Xx21G8n3Qw8H"
      }
    },
    {
      "cell_type": "code",
      "source": [
        "pip install ISLP"
      ],
      "metadata": {
        "colab": {
          "base_uri": "https://localhost:8080/"
        },
        "id": "DcA7HuSvQvPJ",
        "outputId": "803cd67f-1e0f-4891-9537-4e7f52a21c31"
      },
      "execution_count": null,
      "outputs": [
        {
          "output_type": "stream",
          "name": "stdout",
          "text": [
            "Collecting ISLP\n",
            "  Downloading ISLP-0.4.0-py3-none-any.whl.metadata (7.0 kB)\n",
            "Requirement already satisfied: numpy>=1.7.1 in /usr/local/lib/python3.10/dist-packages (from ISLP) (1.26.4)\n",
            "Requirement already satisfied: scipy>=0.9 in /usr/local/lib/python3.10/dist-packages (from ISLP) (1.13.1)\n",
            "Requirement already satisfied: pandas>=0.20 in /usr/local/lib/python3.10/dist-packages (from ISLP) (2.2.2)\n",
            "Requirement already satisfied: lxml in /usr/local/lib/python3.10/dist-packages (from ISLP) (5.3.0)\n",
            "Requirement already satisfied: scikit-learn>=1.2 in /usr/local/lib/python3.10/dist-packages (from ISLP) (1.5.2)\n",
            "Requirement already satisfied: joblib in /usr/local/lib/python3.10/dist-packages (from ISLP) (1.4.2)\n",
            "Requirement already satisfied: statsmodels>=0.13 in /usr/local/lib/python3.10/dist-packages (from ISLP) (0.14.4)\n",
            "Collecting lifelines (from ISLP)\n",
            "  Downloading lifelines-0.30.0-py3-none-any.whl.metadata (3.2 kB)\n",
            "Collecting pygam (from ISLP)\n",
            "  Downloading pygam-0.9.1-py3-none-any.whl.metadata (7.1 kB)\n",
            "Requirement already satisfied: torch in /usr/local/lib/python3.10/dist-packages (from ISLP) (2.5.1+cu121)\n",
            "Collecting pytorch-lightning (from ISLP)\n",
            "  Downloading pytorch_lightning-2.4.0-py3-none-any.whl.metadata (21 kB)\n",
            "Collecting torchmetrics (from ISLP)\n",
            "  Downloading torchmetrics-1.6.0-py3-none-any.whl.metadata (20 kB)\n",
            "Requirement already satisfied: python-dateutil>=2.8.2 in /usr/local/lib/python3.10/dist-packages (from pandas>=0.20->ISLP) (2.8.2)\n",
            "Requirement already satisfied: pytz>=2020.1 in /usr/local/lib/python3.10/dist-packages (from pandas>=0.20->ISLP) (2024.2)\n",
            "Requirement already satisfied: tzdata>=2022.7 in /usr/local/lib/python3.10/dist-packages (from pandas>=0.20->ISLP) (2024.2)\n",
            "Requirement already satisfied: threadpoolctl>=3.1.0 in /usr/local/lib/python3.10/dist-packages (from scikit-learn>=1.2->ISLP) (3.5.0)\n",
            "Requirement already satisfied: patsy>=0.5.6 in /usr/local/lib/python3.10/dist-packages (from statsmodels>=0.13->ISLP) (1.0.1)\n",
            "Requirement already satisfied: packaging>=21.3 in /usr/local/lib/python3.10/dist-packages (from statsmodels>=0.13->ISLP) (24.2)\n",
            "Requirement already satisfied: matplotlib>=3.0 in /usr/local/lib/python3.10/dist-packages (from lifelines->ISLP) (3.8.0)\n",
            "Requirement already satisfied: autograd>=1.5 in /usr/local/lib/python3.10/dist-packages (from lifelines->ISLP) (1.7.0)\n",
            "Collecting autograd-gamma>=0.3 (from lifelines->ISLP)\n",
            "  Downloading autograd-gamma-0.5.0.tar.gz (4.0 kB)\n",
            "  Preparing metadata (setup.py) ... \u001b[?25l\u001b[?25hdone\n",
            "Collecting formulaic>=0.2.2 (from lifelines->ISLP)\n",
            "  Downloading formulaic-1.0.2-py3-none-any.whl.metadata (6.8 kB)\n",
            "Requirement already satisfied: progressbar2<5.0.0,>=4.2.0 in /usr/local/lib/python3.10/dist-packages (from pygam->ISLP) (4.5.0)\n",
            "Collecting scipy>=0.9 (from ISLP)\n",
            "  Downloading scipy-1.11.4-cp310-cp310-manylinux_2_17_x86_64.manylinux2014_x86_64.whl.metadata (60 kB)\n",
            "\u001b[2K     \u001b[90m━━━━━━━━━━━━━━━━━━━━━━━━━━━━━━━━━━━━━━━━\u001b[0m \u001b[32m60.4/60.4 kB\u001b[0m \u001b[31m2.4 MB/s\u001b[0m eta \u001b[36m0:00:00\u001b[0m\n",
            "\u001b[?25hRequirement already satisfied: tqdm>=4.57.0 in /usr/local/lib/python3.10/dist-packages (from pytorch-lightning->ISLP) (4.66.6)\n",
            "Requirement already satisfied: PyYAML>=5.4 in /usr/local/lib/python3.10/dist-packages (from pytorch-lightning->ISLP) (6.0.2)\n",
            "Requirement already satisfied: fsspec>=2022.5.0 in /usr/local/lib/python3.10/dist-packages (from fsspec[http]>=2022.5.0->pytorch-lightning->ISLP) (2024.10.0)\n",
            "Requirement already satisfied: typing-extensions>=4.4.0 in /usr/local/lib/python3.10/dist-packages (from pytorch-lightning->ISLP) (4.12.2)\n",
            "Collecting lightning-utilities>=0.10.0 (from pytorch-lightning->ISLP)\n",
            "  Downloading lightning_utilities-0.11.9-py3-none-any.whl.metadata (5.2 kB)\n",
            "Requirement already satisfied: filelock in /usr/local/lib/python3.10/dist-packages (from torch->ISLP) (3.16.1)\n",
            "Requirement already satisfied: networkx in /usr/local/lib/python3.10/dist-packages (from torch->ISLP) (3.4.2)\n",
            "Requirement already satisfied: jinja2 in /usr/local/lib/python3.10/dist-packages (from torch->ISLP) (3.1.4)\n",
            "Requirement already satisfied: sympy==1.13.1 in /usr/local/lib/python3.10/dist-packages (from torch->ISLP) (1.13.1)\n",
            "Requirement already satisfied: mpmath<1.4,>=1.1.0 in /usr/local/lib/python3.10/dist-packages (from sympy==1.13.1->torch->ISLP) (1.3.0)\n",
            "Collecting interface-meta>=1.2.0 (from formulaic>=0.2.2->lifelines->ISLP)\n",
            "  Downloading interface_meta-1.3.0-py3-none-any.whl.metadata (6.7 kB)\n",
            "Requirement already satisfied: wrapt>=1.0 in /usr/local/lib/python3.10/dist-packages (from formulaic>=0.2.2->lifelines->ISLP) (1.16.0)\n",
            "Requirement already satisfied: aiohttp!=4.0.0a0,!=4.0.0a1 in /usr/local/lib/python3.10/dist-packages (from fsspec[http]>=2022.5.0->pytorch-lightning->ISLP) (3.11.2)\n",
            "Requirement already satisfied: setuptools in /usr/local/lib/python3.10/dist-packages (from lightning-utilities>=0.10.0->pytorch-lightning->ISLP) (75.1.0)\n",
            "Requirement already satisfied: contourpy>=1.0.1 in /usr/local/lib/python3.10/dist-packages (from matplotlib>=3.0->lifelines->ISLP) (1.3.1)\n",
            "Requirement already satisfied: cycler>=0.10 in /usr/local/lib/python3.10/dist-packages (from matplotlib>=3.0->lifelines->ISLP) (0.12.1)\n",
            "Requirement already satisfied: fonttools>=4.22.0 in /usr/local/lib/python3.10/dist-packages (from matplotlib>=3.0->lifelines->ISLP) (4.55.0)\n",
            "Requirement already satisfied: kiwisolver>=1.0.1 in /usr/local/lib/python3.10/dist-packages (from matplotlib>=3.0->lifelines->ISLP) (1.4.7)\n",
            "Requirement already satisfied: pillow>=6.2.0 in /usr/local/lib/python3.10/dist-packages (from matplotlib>=3.0->lifelines->ISLP) (11.0.0)\n",
            "Requirement already satisfied: pyparsing>=2.3.1 in /usr/local/lib/python3.10/dist-packages (from matplotlib>=3.0->lifelines->ISLP) (3.2.0)\n",
            "Requirement already satisfied: python-utils>=3.8.1 in /usr/local/lib/python3.10/dist-packages (from progressbar2<5.0.0,>=4.2.0->pygam->ISLP) (3.9.0)\n",
            "Requirement already satisfied: six>=1.5 in /usr/local/lib/python3.10/dist-packages (from python-dateutil>=2.8.2->pandas>=0.20->ISLP) (1.16.0)\n",
            "Requirement already satisfied: MarkupSafe>=2.0 in /usr/local/lib/python3.10/dist-packages (from jinja2->torch->ISLP) (3.0.2)\n",
            "Requirement already satisfied: aiohappyeyeballs>=2.3.0 in /usr/local/lib/python3.10/dist-packages (from aiohttp!=4.0.0a0,!=4.0.0a1->fsspec[http]>=2022.5.0->pytorch-lightning->ISLP) (2.4.3)\n",
            "Requirement already satisfied: aiosignal>=1.1.2 in /usr/local/lib/python3.10/dist-packages (from aiohttp!=4.0.0a0,!=4.0.0a1->fsspec[http]>=2022.5.0->pytorch-lightning->ISLP) (1.3.1)\n",
            "Requirement already satisfied: attrs>=17.3.0 in /usr/local/lib/python3.10/dist-packages (from aiohttp!=4.0.0a0,!=4.0.0a1->fsspec[http]>=2022.5.0->pytorch-lightning->ISLP) (24.2.0)\n",
            "Requirement already satisfied: frozenlist>=1.1.1 in /usr/local/lib/python3.10/dist-packages (from aiohttp!=4.0.0a0,!=4.0.0a1->fsspec[http]>=2022.5.0->pytorch-lightning->ISLP) (1.5.0)\n",
            "Requirement already satisfied: multidict<7.0,>=4.5 in /usr/local/lib/python3.10/dist-packages (from aiohttp!=4.0.0a0,!=4.0.0a1->fsspec[http]>=2022.5.0->pytorch-lightning->ISLP) (6.1.0)\n",
            "Requirement already satisfied: propcache>=0.2.0 in /usr/local/lib/python3.10/dist-packages (from aiohttp!=4.0.0a0,!=4.0.0a1->fsspec[http]>=2022.5.0->pytorch-lightning->ISLP) (0.2.0)\n",
            "Requirement already satisfied: yarl<2.0,>=1.17.0 in /usr/local/lib/python3.10/dist-packages (from aiohttp!=4.0.0a0,!=4.0.0a1->fsspec[http]>=2022.5.0->pytorch-lightning->ISLP) (1.17.2)\n",
            "Requirement already satisfied: async-timeout<6.0,>=4.0 in /usr/local/lib/python3.10/dist-packages (from aiohttp!=4.0.0a0,!=4.0.0a1->fsspec[http]>=2022.5.0->pytorch-lightning->ISLP) (4.0.3)\n",
            "Requirement already satisfied: idna>=2.0 in /usr/local/lib/python3.10/dist-packages (from yarl<2.0,>=1.17.0->aiohttp!=4.0.0a0,!=4.0.0a1->fsspec[http]>=2022.5.0->pytorch-lightning->ISLP) (3.10)\n",
            "Downloading ISLP-0.4.0-py3-none-any.whl (3.6 MB)\n",
            "\u001b[2K   \u001b[90m━━━━━━━━━━━━━━━━━━━━━━━━━━━━━━━━━━━━━━━━\u001b[0m \u001b[32m3.6/3.6 MB\u001b[0m \u001b[31m37.8 MB/s\u001b[0m eta \u001b[36m0:00:00\u001b[0m\n",
            "\u001b[?25hDownloading lifelines-0.30.0-py3-none-any.whl (349 kB)\n",
            "\u001b[2K   \u001b[90m━━━━━━━━━━━━━━━━━━━━━━━━━━━━━━━━━━━━━━━━\u001b[0m \u001b[32m349.3/349.3 kB\u001b[0m \u001b[31m20.0 MB/s\u001b[0m eta \u001b[36m0:00:00\u001b[0m\n",
            "\u001b[?25hDownloading pygam-0.9.1-py3-none-any.whl (522 kB)\n",
            "\u001b[2K   \u001b[90m━━━━━━━━━━━━━━━━━━━━━━━━━━━━━━━━━━━━━━━━\u001b[0m \u001b[32m522.0/522.0 kB\u001b[0m \u001b[31m23.0 MB/s\u001b[0m eta \u001b[36m0:00:00\u001b[0m\n",
            "\u001b[?25hDownloading scipy-1.11.4-cp310-cp310-manylinux_2_17_x86_64.manylinux2014_x86_64.whl (36.4 MB)\n",
            "\u001b[2K   \u001b[90m━━━━━━━━━━━━━━━━━━━━━━━━━━━━━━━━━━━━━━━━\u001b[0m \u001b[32m36.4/36.4 MB\u001b[0m \u001b[31m37.9 MB/s\u001b[0m eta \u001b[36m0:00:00\u001b[0m\n",
            "\u001b[?25hDownloading pytorch_lightning-2.4.0-py3-none-any.whl (815 kB)\n",
            "\u001b[2K   \u001b[90m━━━━━━━━━━━━━━━━━━━━━━━━━━━━━━━━━━━━━━━━\u001b[0m \u001b[32m815.2/815.2 kB\u001b[0m \u001b[31m38.9 MB/s\u001b[0m eta \u001b[36m0:00:00\u001b[0m\n",
            "\u001b[?25hDownloading torchmetrics-1.6.0-py3-none-any.whl (926 kB)\n",
            "\u001b[2K   \u001b[90m━━━━━━━━━━━━━━━━━━━━━━━━━━━━━━━━━━━━━━━━\u001b[0m \u001b[32m926.4/926.4 kB\u001b[0m \u001b[31m42.1 MB/s\u001b[0m eta \u001b[36m0:00:00\u001b[0m\n",
            "\u001b[?25hDownloading formulaic-1.0.2-py3-none-any.whl (94 kB)\n",
            "\u001b[2K   \u001b[90m━━━━━━━━━━━━━━━━━━━━━━━━━━━━━━━━━━━━━━━━\u001b[0m \u001b[32m94.5/94.5 kB\u001b[0m \u001b[31m5.4 MB/s\u001b[0m eta \u001b[36m0:00:00\u001b[0m\n",
            "\u001b[?25hDownloading lightning_utilities-0.11.9-py3-none-any.whl (28 kB)\n",
            "Downloading interface_meta-1.3.0-py3-none-any.whl (14 kB)\n",
            "Building wheels for collected packages: autograd-gamma\n",
            "  Building wheel for autograd-gamma (setup.py) ... \u001b[?25l\u001b[?25hdone\n",
            "  Created wheel for autograd-gamma: filename=autograd_gamma-0.5.0-py3-none-any.whl size=4031 sha256=147d901d8bb5a349cf98939940058a4897d9713ea83ee3823475a3d0b6554ce3\n",
            "  Stored in directory: /root/.cache/pip/wheels/25/cc/e0/ef2969164144c899fedb22b338f6703e2b9cf46eeebf254991\n",
            "Successfully built autograd-gamma\n",
            "Installing collected packages: scipy, lightning-utilities, interface-meta, autograd-gamma, torchmetrics, pygam, formulaic, lifelines, pytorch-lightning, ISLP\n",
            "  Attempting uninstall: scipy\n",
            "    Found existing installation: scipy 1.13.1\n",
            "    Uninstalling scipy-1.13.1:\n",
            "      Successfully uninstalled scipy-1.13.1\n",
            "Successfully installed ISLP-0.4.0 autograd-gamma-0.5.0 formulaic-1.0.2 interface-meta-1.3.0 lifelines-0.30.0 lightning-utilities-0.11.9 pygam-0.9.1 pytorch-lightning-2.4.0 scipy-1.11.4 torchmetrics-1.6.0\n"
          ]
        }
      ]
    },
    {
      "cell_type": "code",
      "source": [
        "import pandas as pd\n",
        "from ISLP import load_data\n",
        "from sklearn.model_selection import train_test_split\n",
        "\n",
        "# Load the College dataset\n",
        "college = load_data('College')\n",
        "\n",
        "# Define the features (X) and target variable (y)\n",
        "X = college.drop(\"Apps\", axis=1)\n",
        "y = college[\"Apps\"]\n",
        "X = pd.get_dummies(X, drop_first=True)\n",
        "# Split the dataset into a training set and a test set (80% training, 20% test)\n",
        "X_train, X_test, y_train, y_test = train_test_split(X, y, test_size=0.2, random_state=42)"
      ],
      "metadata": {
        "id": "PRO6Kbv_T1gv"
      },
      "execution_count": null,
      "outputs": []
    },
    {
      "cell_type": "code",
      "source": [
        "print(\"Training set shape:\", X_train.shape)\n",
        "print(\"Test set shape:\", X_test.shape)"
      ],
      "metadata": {
        "colab": {
          "base_uri": "https://localhost:8080/"
        },
        "id": "Djd9fLr3UH1G",
        "outputId": "59abc485-6022-4395-a04d-64075feac197"
      },
      "execution_count": null,
      "outputs": [
        {
          "output_type": "stream",
          "name": "stdout",
          "text": [
            "Training set shape: (621, 17)\n",
            "Test set shape: (156, 17)\n"
          ]
        }
      ]
    },
    {
      "cell_type": "markdown",
      "source": [
        "##(b)\n",
        "Fit a linear model using least squares on the training set, and report the test error obtained."
      ],
      "metadata": {
        "id": "Idb5Y7oDQyLA"
      }
    },
    {
      "cell_type": "code",
      "source": [
        "from sklearn.linear_model import LinearRegression\n",
        "from sklearn.metrics import mean_squared_error\n",
        "\n",
        "# Initialize and fit the linear regression model\n",
        "model = LinearRegression()\n",
        "model.fit(X_train, y_train)\n",
        "\n",
        "# Make predictions on the test set\n",
        "y_pred = model.predict(X_test)\n",
        "\n",
        "# Calculate the test error (mean squared error)\n",
        "test_error = mean_squared_error(y_test, y_pred)\n",
        "print(f\"Test Error (MSE): {test_error}\")"
      ],
      "metadata": {
        "id": "uYMZ9pMGQ1DH",
        "colab": {
          "base_uri": "https://localhost:8080/"
        },
        "outputId": "17c4bd43-76a1-4bb9-babd-f44bc164f8d6"
      },
      "execution_count": null,
      "outputs": [
        {
          "output_type": "stream",
          "name": "stdout",
          "text": [
            "Test Error (MSE): 1492443.379039042\n"
          ]
        }
      ]
    },
    {
      "cell_type": "markdown",
      "source": [
        "##(c)\n",
        "Fit a ridge regression model on the training set, with λ chosen by cross-validation. Report the test error obtained."
      ],
      "metadata": {
        "id": "iOMWXyUmQ373"
      }
    },
    {
      "cell_type": "code",
      "source": [
        "from sklearn.linear_model import RidgeCV\n",
        "\n",
        "# Initialize and fit the ridge regression model with cross-validation\n",
        "alphas = [0.1, 1, 10, 100, 1000]  # Example alpha values for cross-validation\n",
        "ridge_cv_model = RidgeCV(alphas=alphas, cv=5) # Use 5-fold cross-validation\n",
        "ridge_cv_model.fit(X_train, y_train)\n",
        "\n",
        "# Make predictions on the test set using the best lambda\n",
        "y_pred_ridge_cv = ridge_cv_model.predict(X_test)\n",
        "\n",
        "# Calculate the test error (mean squared error) for the ridge regression model\n",
        "test_error_ridge_cv = mean_squared_error(y_test, y_pred_ridge_cv)\n",
        "print(f\"Test Error (Ridge CV, MSE): {test_error_ridge_cv}\")\n",
        "print(f\"Best alpha (lambda): {ridge_cv_model.alpha_}\")"
      ],
      "metadata": {
        "id": "jhXL1Q9sQ375",
        "colab": {
          "base_uri": "https://localhost:8080/"
        },
        "outputId": "4fe95944-800a-4e43-84f9-41e0da66953f"
      },
      "execution_count": null,
      "outputs": [
        {
          "output_type": "stream",
          "name": "stdout",
          "text": [
            "Test Error (Ridge CV, MSE): 1478572.8112797008\n",
            "Best alpha (lambda): 10.0\n"
          ]
        }
      ]
    },
    {
      "cell_type": "markdown",
      "source": [
        "##(d)\n",
        "Fit a lasso model on the training set, with λ chosen by cross- validation. Report the test error obtained, along with the num- ber of non-zero coefficient estimates."
      ],
      "metadata": {
        "id": "4zEDLbmXQ4DL"
      }
    },
    {
      "cell_type": "code",
      "source": [
        "from sklearn.linear_model import LassoCV\n",
        "\n",
        "# Initialize and fit the lasso model with cross-validation\n",
        "lasso_cv_model = LassoCV(alphas=alphas, cv=5)  # Use 5-fold cross-validation\n",
        "lasso_cv_model.fit(X_train, y_train)\n",
        "\n",
        "# Make predictions on the test set using the best lambda\n",
        "y_pred_lasso_cv = lasso_cv_model.predict(X_test)\n",
        "\n",
        "# Calculate the test error (mean squared error) for the lasso model\n",
        "test_error_lasso_cv = mean_squared_error(y_test, y_pred_lasso_cv)\n",
        "print(f\"Test Error (Lasso CV, MSE): {test_error_lasso_cv}\")\n",
        "print(f\"Best alpha (lambda): {lasso_cv_model.alpha_}\")\n",
        "\n",
        "# Count the number of non-zero coefficients\n",
        "non_zero_coefs = sum(lasso_cv_model.coef_ != 0)\n",
        "print(f\"Number of non-zero coefficients: {non_zero_coefs}\")"
      ],
      "metadata": {
        "id": "KySCXWPuQ4DM",
        "colab": {
          "base_uri": "https://localhost:8080/"
        },
        "outputId": "f5ff9e3f-42ce-4dac-d84e-29c336038501"
      },
      "execution_count": null,
      "outputs": [
        {
          "output_type": "stream",
          "name": "stdout",
          "text": [
            "Test Error (Lasso CV, MSE): 1477248.9589983297\n",
            "Best alpha (lambda): 10.0\n",
            "Number of non-zero coefficients: 17\n"
          ]
        }
      ]
    },
    {
      "cell_type": "markdown",
      "source": [
        "##(e)\n",
        "Fit a PCR model on the training set, with M chosen by cross- validation. Report the test error obtained, along with the value of M selected by cross-validation."
      ],
      "metadata": {
        "id": "FyCleYvRQ4GN"
      }
    },
    {
      "cell_type": "code",
      "source": [
        "from sklearn.preprocessing import StandardScaler\n",
        "from sklearn.decomposition import PCA\n",
        "from sklearn.pipeline import Pipeline\n",
        "\n",
        "# Scale the data\n",
        "scaler = StandardScaler()\n",
        "X_train_scaled = scaler.fit_transform(X_train)\n",
        "X_test_scaled = scaler.transform(X_test)\n",
        "\n",
        "# PCR model with cross-validation\n",
        "best_test_error = float('inf')\n",
        "best_M = 0\n",
        "\n",
        "for M in range(1, X_train.shape[1] + 1):\n",
        "    pca = PCA(n_components=M)\n",
        "    X_train_pca = pca.fit_transform(X_train_scaled)\n",
        "    X_test_pca = pca.transform(X_test_scaled)\n",
        "\n",
        "    pcr_model = LinearRegression()\n",
        "    pcr_model.fit(X_train_pca, y_train)\n",
        "\n",
        "    y_pred_pcr = pcr_model.predict(X_test_pca)\n",
        "    test_error_pcr = mean_squared_error(y_test, y_pred_pcr)\n",
        "\n",
        "    if test_error_pcr < best_test_error:\n",
        "        best_test_error = test_error_pcr\n",
        "        best_M = M\n",
        "\n",
        "print(f\"Test Error (PCR CV, MSE): {best_test_error}\")\n",
        "print(f\"Best M (Number of Principal Components): {best_M}\")\n"
      ],
      "metadata": {
        "id": "mW0MIaUZQ4GO",
        "colab": {
          "base_uri": "https://localhost:8080/"
        },
        "outputId": "6ab7e2fd-7912-43b2-cd67-07a7994e8e41"
      },
      "execution_count": null,
      "outputs": [
        {
          "output_type": "stream",
          "name": "stdout",
          "text": [
            "Test Error (PCR CV, MSE): 1492443.3790390224\n",
            "Best M (Number of Principal Components): 17\n"
          ]
        }
      ]
    },
    {
      "cell_type": "markdown",
      "source": [
        "##(f)\n",
        "Fit a PLS model on the training set, with M chosen by cross- validation. Report the test error obtained, along with the value of M selected by cross-validation."
      ],
      "metadata": {
        "id": "pvMSlTiMQ4I0"
      }
    },
    {
      "cell_type": "code",
      "source": [
        "from sklearn.cross_decomposition import PLSRegression\n",
        "\n",
        "# PLS model with cross-validation\n",
        "best_test_error_pls = float('inf')\n",
        "best_M_pls = 0\n",
        "\n",
        "for M in range(1, min(X_train.shape[1], X_train.shape[0]) + 1):\n",
        "    pls_model = PLSRegression(n_components=M)\n",
        "    pls_model.fit(X_train_scaled, y_train)\n",
        "\n",
        "    y_pred_pls = pls_model.predict(X_test_scaled)\n",
        "    test_error_pls = mean_squared_error(y_test, y_pred_pls)\n",
        "\n",
        "    if test_error_pls < best_test_error_pls:\n",
        "        best_test_error_pls = test_error_pls\n",
        "        best_M_pls = M\n",
        "\n",
        "print(f\"Test Error (PLS CV, MSE): {best_test_error_pls}\")\n",
        "print(f\"Best M (Number of PLS components): {best_M_pls}\")"
      ],
      "metadata": {
        "id": "MQMxa0ETQ4I1",
        "colab": {
          "base_uri": "https://localhost:8080/"
        },
        "outputId": "9a88dcb0-b4dc-47a9-81d4-4c9f679e5355"
      },
      "execution_count": null,
      "outputs": [
        {
          "output_type": "stream",
          "name": "stdout",
          "text": [
            "Test Error (PLS CV, MSE): 1448566.3424517359\n",
            "Best M (Number of PLS components): 7\n"
          ]
        }
      ]
    },
    {
      "cell_type": "markdown",
      "source": [
        "##(g)\n",
        "Comment on the results obtained. How accurately can we pre- dict the number of college applications received? Is there much difference among the test errors resulting from these five ap- proaches?"
      ],
      "metadata": {
        "id": "3Kgc7_ZgRaVG"
      }
    },
    {
      "cell_type": "markdown",
      "source": [
        "Analysis of College Applications Prediction:\n",
        "\n",
        "Based on the results, the prediction accuracy of college applications varies among the models tested.  The MSE values provide a measure of the error, with lower values indicating better performance.\n",
        "While the test errors are relatively close for several of these methods, there's no single 'best' approach.\n",
        "\n",
        "Further considerations:\n",
        "1. Magnitude of Error:\n",
        "Evaluate the absolute values of the MSEs in relation to the range of applications received.  A small MSE might still represent a substantial error if applications vary greatly.\n",
        "\n",
        "2. Model Interpretability:\n",
        "The simple linear regression provides easy-to-understand coefficients. Ridge and Lasso introduce regularization which can improve predictions but might reduce interpretability. PCR and PLS offer dimensionality reduction and could reveal underlying factors driving applications, but the resulting models can be more difficult to interpret.\n",
        "\n",
        "3. Feature Importance:\n",
        "The non-zero coefficients in the Lasso model highlight important features affecting applications.\n",
        "\n",
        "4. Cross-Validation Tuning:\n",
        "The choice of optimal hyperparameters (alpha for ridge/lasso, M for PCR/PLS) through cross-validation is crucial. Different hyperparameter ranges could lead to different optimal values and potentially better performance.  It's important to note that the provided code only tries a few alphas.\n",
        "\n",
        "5. Model Comparison:\n",
        "The differences observed in test errors might not be statistically significant. Consider using statistical tests (e.g. F-tests or paired t-tests) to ascertain if differences are meaningful.\n",
        "\n",
        "Overall:\n",
        "It's likely that no single model is definitively superior.  The choice of model depends on the desired balance between prediction accuracy and interpretability."
      ],
      "metadata": {
        "id": "9Ok4SpahncjU"
      }
    }
  ]
}