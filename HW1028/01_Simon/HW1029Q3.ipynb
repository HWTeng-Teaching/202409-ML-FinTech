{
  "nbformat": 4,
  "nbformat_minor": 0,
  "metadata": {
    "colab": {
      "provenance": []
    },
    "kernelspec": {
      "name": "python3",
      "display_name": "Python 3"
    },
    "language_info": {
      "name": "python"
    }
  },
  "cells": [
    {
      "cell_type": "markdown",
      "source": [
        "Suppose we collect data for a group of students in a statistics class\n",
        "with variables $X_1$ = hours studied, $X_2$ = undergrad GPA, and $Y$ =\n",
        "receive an A. We fit a logistic regression and produce estimated\n",
        "coefficient, $\\hat{\\beta_0}$ = −6, $\\hat{\\beta_1}$ = 0.05, $\\hat{\\beta_2}$ = 1."
      ],
      "metadata": {
        "id": "rjX9b6krrDxi"
      }
    },
    {
      "cell_type": "markdown",
      "source": [
        "(a) Estimate the probability that a student who studies for 40 h and\n",
        "has an undergrad GPA of 3.5 gets an A in the class."
      ],
      "metadata": {
        "id": "2kses9d-reIK"
      }
    },
    {
      "cell_type": "markdown",
      "source": [
        "$$\n",
        "P(Y=1| x_1, x_2) = \\frac{e^{(\\hat{\\beta}_0 + \\hat{\\beta}_1 x_1 + \\hat{\\beta}_2 x_2)}}{1 + e^{(\\hat{\\beta}_0 + \\hat{\\beta}_1 x_1 + \\hat{\\beta}_2 x_2)}}\n",
        "$$\n",
        "\n",
        "$\\hat{\\beta}_0 = -6,\\ \\hat{\\beta}_1 =0.05,\\ \\hat{\\beta}_2=1$\n",
        "\n",
        "$x_1$ = 40\n",
        "\n",
        "$x_2$ = 3.5\n",
        "\n",
        "$\n",
        "P(Y=1| 40,\\ 3.5) = \\frac{e^{(-6 + 0.05\\times40 + 3.5)}}{1 + e^{(-6 + 0.05\\times40 + 3.5)}} = 0.3775\n",
        "$"
      ],
      "metadata": {
        "id": "_NtXC9XZoJUP"
      }
    },
    {
      "cell_type": "markdown",
      "source": [
        "(b) How many hours would the student in part (a) need to study to\n",
        "have a 50 % chance of getting an A in the class?"
      ],
      "metadata": {
        "id": "Vgc5snbktVXw"
      }
    },
    {
      "cell_type": "markdown",
      "source": [
        "$\n",
        "P(Y=1|\\ x_1,\\ 3.5) = \\frac{e^{(-6 + 0.05\\times x_1 + 3.5)}}{1 + e^{(-6 + 0.05\\times x_1 + 3.5)}} >= 0.5\n",
        "$\n",
        "\n",
        "$\n",
        "{e^{(-6 + 0.05\\times x_1 + 3.5)}} >= 0.5 \\times [{1 + e^{(-6 + 0.05\\times x_1 + 3.5)}}]\n",
        "$\n",
        "\n",
        "$\n",
        "{e^{(-6 + 0.05\\times x_1 + 3.5)}} >= 0.5 + 0.5 \\times [{e^{(-6 + 0.05\\times x_1 + 3.5)}}]\n",
        "$\n",
        "\n",
        "$\n",
        "0.5 \\times [{e^{(-6 + 0.05\\times x_1 + 3.5)}}] >= 0.5\n",
        "$\n",
        "\n",
        "$\n",
        "{e^{(-6 + 0.05\\times x_1 + 3.5)}}>= 1\n",
        "$\n",
        "\n",
        "$ln({e^{(-2.5 + 0.05\\times x_1)}}) >= ln(1)$\n",
        "\n",
        "$\\because \\ ln(e^x) = x,\\ ln(1) = 0$\n",
        "\n",
        "$\\therefore(-2.5 + 0.05\\times x_1) >= 0$\n",
        "\n",
        "$x_1 >=50$"
      ],
      "metadata": {
        "id": "_jMb9MvVti7V"
      }
    },
    {
      "cell_type": "markdown",
      "source": [
        "At least 50 hours"
      ],
      "metadata": {
        "id": "wLmTMhjyxByl"
      }
    }
  ]
}