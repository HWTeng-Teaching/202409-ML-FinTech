{
 "cells": [
  {
   "cell_type": "markdown",
   "id": "e40b3637-f10f-49ad-960d-c93226059bfa",
   "metadata": {},
   "source": [
    "# HW1029Q2 CH04Q02"
   ]
  },
  {
   "cell_type": "markdown",
   "id": "b8cbee90-722c-4c51-a507-55be0d70668c",
   "metadata": {},
   "source": [
    "### 2. It was stated in the text that classifying an observation to the class for which (4.17) is largest is equivalent to classifying an observation to the class for which (4.18) is largest. Prove that this is the case. In other words, under the assumption that the observations in the kth class are drawn from a N(µk, σ2) distribution, the Bayes classifer assigns an observation to the class for which the discriminant function is maximized."
   ]
  },
  {
   "cell_type": "markdown",
   "id": "27554658-a7c1-43c2-a4c1-cb5433c51471",
   "metadata": {},
   "source": [
    "Find k to Maximum  \n",
    "$p_k(x) = \\frac{\\pi_k \\cdot \\frac{1}{\\sqrt{2 \\pi \\sigma^2}} \\exp\\left(-\\frac{1}{2 \\sigma^2} (x - \\mu_k)^2\\right)}{\\sum_{l=1}^K \\pi_l \\cdot \\frac{1}{\\sqrt{2 \\pi \\sigma^2}} \\exp\\left(-\\frac{1}{2 \\sigma^2} (x - \\mu_l)^2\\right)} $"
   ]
  },
  {
   "cell_type": "markdown",
   "id": "c6e527ef-3d30-4732-9da3-775f68bd566f",
   "metadata": {},
   "source": [
    "Find k to Maximum  \n",
    "$ \\pi_k \\cdot \\frac{1}{\\sqrt{2 \\pi \\sigma^2}} \\exp\\left(-\\frac{1}{2 \\sigma^2} (x - \\mu_k)^2\\right) $"
   ]
  },
  {
   "cell_type": "markdown",
   "id": "203643f9-e2dd-4fdb-837e-3ec920c675e5",
   "metadata": {},
   "source": [
    "Taking the Logarithm    \n",
    "$ \\ln\\left(\\pi_k \\cdot \\frac{1}{\\sqrt{2 \\pi \\sigma^2}} \\exp\\left(-\\frac{1}{2 \\sigma^2} (x - \\mu_k)^2\\right)\\right)\n",
    "   = \\ln(\\pi_k) - \\frac{1}{2 \\sigma^2} (x - \\mu_k)^2 - \\ln(\\sqrt{2 \\pi \\sigma^2}) $"
   ]
  },
  {
   "cell_type": "markdown",
   "id": "98548a06-0656-48e7-b999-ced84a28d098",
   "metadata": {},
   "source": [
    "Ignoring Constant Terms, find k to Maximum  \n",
    "$ \\ln(\\pi_k) - \\frac{1}{2 \\sigma^2} (x - \\mu_k)^2 $"
   ]
  },
  {
   "cell_type": "markdown",
   "id": "4b1230e9-0bf8-40d4-b7ec-88a218367e47",
   "metadata": {},
   "source": [
    "Expanding the Squared Term  \n",
    "$ \\ln(\\pi_k) - \\frac{1}{2 \\sigma^2} (x^2 - 2x\\mu_k + \\mu_k^2)\n",
    "   = -\\frac{x^2}{2 \\sigma^2} + \\frac{x \\mu_k}{\\sigma^2} - \\frac{\\mu_k^2}{2 \\sigma^2} + \\ln(\\pi_k) $"
   ]
  },
  {
   "cell_type": "markdown",
   "id": "e58225d5-5cbd-4dbd-adb8-a26bf238e2aa",
   "metadata": {},
   "source": [
    "Obtaining the Discriminant Function  \n",
    "$ \\delta_k(x) = x \\cdot \\frac{\\mu_k}{\\sigma^2} - \\frac{\\mu_k^2}{2 \\sigma^2} + \\ln(\\pi_k) $"
   ]
  },
  {
   "cell_type": "code",
   "execution_count": null,
   "id": "10683f74-d650-470a-a463-2ee79312a770",
   "metadata": {},
   "outputs": [],
   "source": []
  }
 ],
 "metadata": {
  "kernelspec": {
   "display_name": "Python 3 (ipykernel)",
   "language": "python",
   "name": "python3"
  },
  "language_info": {
   "codemirror_mode": {
    "name": "ipython",
    "version": 3
   },
   "file_extension": ".py",
   "mimetype": "text/x-python",
   "name": "python",
   "nbconvert_exporter": "python",
   "pygments_lexer": "ipython3",
   "version": "3.12.4"
  }
 },
 "nbformat": 4,
 "nbformat_minor": 5
}
