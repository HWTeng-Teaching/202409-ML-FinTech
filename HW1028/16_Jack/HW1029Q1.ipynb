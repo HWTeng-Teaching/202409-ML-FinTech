{
 "cells": [
  {
   "cell_type": "markdown",
   "id": "e40b3637-f10f-49ad-960d-c93226059bfa",
   "metadata": {},
   "source": [
    "# HW1029Q1 CH04Q13(e)(f)(g)(h)(i)(j)"
   ]
  },
  {
   "cell_type": "markdown",
   "id": "b8cbee90-722c-4c51-a507-55be0d70668c",
   "metadata": {},
   "source": [
    "### 13. This question should be answered using the Weekly data set, which is part of the ISLP package. This data is similar in nature to the Smarket data from this chapter’s lab, except that it contains 1, 089 weekly returns for 21 years, from the beginning of 1990 to the end of 2010."
   ]
  },
  {
   "cell_type": "code",
   "execution_count": 1,
   "id": "c343445f-b85e-4dec-b245-39d371700b6c",
   "metadata": {},
   "outputs": [],
   "source": [
    "import pandas as pd\n",
    "from sklearn.model_selection import train_test_split\n",
    "from sklearn.metrics import confusion_matrix, accuracy_score\n",
    "from sklearn.linear_model import LogisticRegression\n",
    "from sklearn.discriminant_analysis import LinearDiscriminantAnalysis as LDA\n",
    "from sklearn.discriminant_analysis import QuadraticDiscriminantAnalysis as QDA\n",
    "from sklearn.neighbors import KNeighborsClassifier\n",
    "from sklearn.naive_bayes import GaussianNB\n",
    "\n",
    "from ISLP import load_data\n",
    "weekly_data = load_data('Weekly')\n",
    "\n",
    "weekly_data['Direction'] = (weekly_data['Direction'] == 'Up').astype(int)\n",
    "\n",
    "train_data = weekly_data[weekly_data['Year'] <= 2008]\n",
    "test_data = weekly_data[weekly_data['Year'] > 2008]\n",
    "\n",
    "X_train, y_train = train_data[['Lag2']], train_data['Direction']\n",
    "X_test, y_test = test_data[['Lag2']], test_data['Direction']"
   ]
  },
  {
   "cell_type": "markdown",
   "id": "2ebe9572-b568-4bf5-8b04-730422510065",
   "metadata": {},
   "source": [
    "##### (e) Repeat (d) using LDA"
   ]
  },
  {
   "cell_type": "code",
   "execution_count": 2,
   "id": "3faa7a30-b049-46ad-8ea1-c09723509923",
   "metadata": {},
   "outputs": [
    {
     "name": "stdout",
     "output_type": "stream",
     "text": [
      "\n",
      "LDA\n",
      "Confusion Matrix:\n",
      " [[ 9 34]\n",
      " [ 5 56]]\n",
      "Accuracy: 0.625\n"
     ]
    }
   ],
   "source": [
    "lda = LDA()\n",
    "lda.fit(X_train, y_train)\n",
    "\n",
    "y_pred_lda = lda.predict(X_test)\n",
    "cm_lda = confusion_matrix(y_test, y_pred_lda)\n",
    "acc_lda = accuracy_score(y_test, y_pred_lda)\n",
    "\n",
    "print(\"\\nLDA\")\n",
    "print(\"Confusion Matrix:\\n\", cm_lda)\n",
    "print(\"Accuracy:\", acc_lda)"
   ]
  },
  {
   "cell_type": "markdown",
   "id": "2fe08429-ce41-4aef-8951-5deb3f42f61b",
   "metadata": {},
   "source": [
    "##### (f) Repeat (d) using QDA."
   ]
  },
  {
   "cell_type": "code",
   "execution_count": 3,
   "id": "2ad0a646-2b5c-4784-8310-758dd2ecd43e",
   "metadata": {},
   "outputs": [
    {
     "name": "stdout",
     "output_type": "stream",
     "text": [
      "\n",
      "QDA\n",
      "Confusion Matrix:\n",
      " [[ 0 43]\n",
      " [ 0 61]]\n",
      "Accuracy: 0.5865384615384616\n"
     ]
    }
   ],
   "source": [
    "qda = QDA()\n",
    "qda.fit(X_train, y_train)\n",
    "\n",
    "y_pred_qda = qda.predict(X_test)\n",
    "cm_qda = confusion_matrix(y_test, y_pred_qda)\n",
    "acc_qda = accuracy_score(y_test, y_pred_qda)\n",
    "\n",
    "print(\"\\nQDA\")\n",
    "print(\"Confusion Matrix:\\n\", cm_qda)\n",
    "print(\"Accuracy:\", acc_qda)"
   ]
  },
  {
   "cell_type": "markdown",
   "id": "0542be48-b24a-4068-9e4e-d6c728e01255",
   "metadata": {},
   "source": [
    "##### (g) Repeat (d) using KNN with K = 1."
   ]
  },
  {
   "cell_type": "code",
   "execution_count": 4,
   "id": "e20a684a-29cf-409c-a480-392b4e64519a",
   "metadata": {},
   "outputs": [
    {
     "name": "stdout",
     "output_type": "stream",
     "text": [
      "\n",
      "KNN (K=1)\n",
      "Confusion Matrix:\n",
      " [[22 21]\n",
      " [31 30]]\n",
      "Accuracy: 0.5\n"
     ]
    }
   ],
   "source": [
    "knn = KNeighborsClassifier(n_neighbors=1)\n",
    "knn.fit(X_train, y_train)\n",
    "\n",
    "y_pred_knn = knn.predict(X_test)\n",
    "cm_knn = confusion_matrix(y_test, y_pred_knn)\n",
    "acc_knn = accuracy_score(y_test, y_pred_knn)\n",
    "\n",
    "print(\"\\nKNN (K=1)\")\n",
    "print(\"Confusion Matrix:\\n\", cm_knn)\n",
    "print(\"Accuracy:\", acc_knn)"
   ]
  },
  {
   "cell_type": "markdown",
   "id": "bc56888e-777f-4a29-a42c-2115a2377ddb",
   "metadata": {},
   "source": [
    "##### (h) Repeat (d) using naive Bayes."
   ]
  },
  {
   "cell_type": "code",
   "execution_count": 5,
   "id": "2c80e9e1-dd7b-4160-ad2d-c5b6e07b739b",
   "metadata": {},
   "outputs": [
    {
     "name": "stdout",
     "output_type": "stream",
     "text": [
      "\n",
      "Naive Bayes\n",
      "Confusion Matrix:\n",
      " [[ 0 43]\n",
      " [ 0 61]]\n",
      "Accuracy: 0.5865384615384616\n"
     ]
    }
   ],
   "source": [
    "nb = GaussianNB()\n",
    "nb.fit(X_train, y_train)\n",
    "\n",
    "y_pred_nb = nb.predict(X_test)\n",
    "cm_nb = confusion_matrix(y_test, y_pred_nb)\n",
    "acc_nb = accuracy_score(y_test, y_pred_nb)\n",
    "\n",
    "print(\"\\nNaive Bayes\")\n",
    "print(\"Confusion Matrix:\\n\", cm_nb)\n",
    "print(\"Accuracy:\", acc_nb)"
   ]
  },
  {
   "cell_type": "markdown",
   "id": "c477d3b4-62b8-477e-8aff-0bdc31fc2657",
   "metadata": {},
   "source": [
    "##### (i) Which of these methods appears to provide the best results on this data?"
   ]
  },
  {
   "cell_type": "code",
   "execution_count": 6,
   "id": "b0bcd74a-e505-4c89-9957-5875d4972533",
   "metadata": {},
   "outputs": [
    {
     "name": "stdout",
     "output_type": "stream",
     "text": [
      "Logistic Regression and LDA provide the best results on this data. Their accuracy are the same is 0.625.\n"
     ]
    }
   ],
   "source": [
    "print(\"Logistic Regression and LDA provide the best results on this data. Their accuracy are the same is 0.625.\")"
   ]
  },
  {
   "cell_type": "markdown",
   "id": "a296ab66-78f2-4a10-9fef-bc058d344b9b",
   "metadata": {},
   "source": [
    "##### (j) Experiment with diferent combinations of predictors, includ\u0002ing possible transformations and interactions, for each of the methods. Report the variables, method, and associated confu\u0002sion matrix that appears to provide the best results on the held out data. Note that you should also experiment with values for K in the KNN classifer."
   ]
  },
  {
   "cell_type": "code",
   "execution_count": 7,
   "id": "aacb7dc3-b24b-420e-9db9-f8c0f7af8af1",
   "metadata": {},
   "outputs": [
    {
     "name": "stdout",
     "output_type": "stream",
     "text": [
      "\n",
      "KNN with K=1\n",
      "Accuracy: 0.5192307692307693\n",
      "\n",
      "KNN with K=3\n",
      "Accuracy: 0.5576923076923077\n",
      "\n",
      "KNN with K=5\n",
      "Accuracy: 0.5480769230769231\n",
      "\n",
      "KNN with K=7\n",
      "Accuracy: 0.5673076923076923\n"
     ]
    }
   ],
   "source": [
    "X_train_multi = train_data[['Lag1', 'Lag2', 'Lag3', 'Lag4', 'Lag5']]\n",
    "X_test_multi = test_data[['Lag1', 'Lag2', 'Lag3', 'Lag4', 'Lag5']]\n",
    "\n",
    "for k in [1, 3, 5, 7]:\n",
    "    knn = KNeighborsClassifier(n_neighbors=k)\n",
    "    knn.fit(X_train_multi, y_train)\n",
    "    y_pred_knn_multi = knn.predict(X_test_multi)\n",
    "    acc_knn_multi = accuracy_score(y_test, y_pred_knn_multi)\n",
    "    print(f\"\\nKNN with K={k}\")\n",
    "    print(\"Accuracy:\", acc_knn_multi)"
   ]
  }
 ],
 "metadata": {
  "kernelspec": {
   "display_name": "Python 3 (ipykernel)",
   "language": "python",
   "name": "python3"
  },
  "language_info": {
   "codemirror_mode": {
    "name": "ipython",
    "version": 3
   },
   "file_extension": ".py",
   "mimetype": "text/x-python",
   "name": "python",
   "nbconvert_exporter": "python",
   "pygments_lexer": "ipython3",
   "version": "3.12.4"
  }
 },
 "nbformat": 4,
 "nbformat_minor": 5
}
