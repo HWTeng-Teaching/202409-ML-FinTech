{
 "cells": [
  {
   "cell_type": "markdown",
   "id": "e40b3637-f10f-49ad-960d-c93226059bfa",
   "metadata": {},
   "source": [
    "# HW1029Q3 CH04Q06"
   ]
  },
  {
   "cell_type": "markdown",
   "id": "b8cbee90-722c-4c51-a507-55be0d70668c",
   "metadata": {},
   "source": [
    "### 6. Suppose we collect data for a group of students in a statistics class with variables X1 = hours studied, X2 = undergrad GPA, and Y = receive an A. We fit a logistic regression and produce estimated coefcient, βˆ0 = −6, βˆ1 = 0.05, βˆ2 = 1."
   ]
  },
  {
   "cell_type": "markdown",
   "id": "da2d69ea-9bc7-4683-bc4d-ff96564b851a",
   "metadata": {},
   "source": [
    "##### (a) Estimate the probability that a student who studies for 40 h and has an undergrad GPA of 3.5 gets an A in the class."
   ]
  },
  {
   "cell_type": "markdown",
   "id": "9e5d24a6-9783-4a93-a482-d83e195db8f5",
   "metadata": {},
   "source": [
    "$ \\text{p}(X) = \\beta_0 + \\beta_1 X_1 + \\beta_2 X_2 $  \n",
    "\n",
    "$ p = \\frac{1}{1 + e^{-(\\beta_0 + \\beta_1 X_1 + \\beta_2 X_2)}} $  \n",
    "\n",
    "$ p = \\frac{1}{1 + e^{-(-6 + 0.05 X_1 + X_2)}} = \\frac{1}{1 + e^{6 - 0.05 X_1 - X_2}} $  \n",
    "\n",
    "$ X_1 = 40 $  \n",
    "$ X_2 = 3.5 $  \n",
    "\n",
    "$ p = \\frac{1}{1 + e^{6 - 0.05 (40) - (3.5)}} = 0.37754... \\approx 0.3775 $"
   ]
  },
  {
   "cell_type": "markdown",
   "id": "3a534661-ed18-4565-ae12-fe40906730fc",
   "metadata": {},
   "source": [
    "##### (b) How many hours would the student in part (a) need to study to have a 50 % chance of getting an A in the class?"
   ]
  },
  {
   "cell_type": "markdown",
   "id": "83378713-03fb-4f1c-98ff-6325c4f84dc8",
   "metadata": {},
   "source": [
    "$ p = \\frac{1}{1 + e^{6 - 0.05 X_1 - X_2}} $  \n",
    "\n",
    "$ p = 0.5 $  \n",
    "$ X_2 = 3.5 $  \n",
    "\n",
    "$ 0.5 = \\frac{1}{1 + e^{6 - 0.05 X_1 - (3.5)}} $  \n",
    "\n",
    "$ 1 + e^{6 - 0.05 X_1 - (3.5)} = 2 $  \n",
    "\n",
    "$ e^{6 - 0.05 X_1 - (3.5)} = 1 $  \n",
    "\n",
    "$ 2.5 - 0.05 X_1 = ln1 = 0 $  \n",
    "\n",
    "$ 2.5 = 0.05 X_1 $  \n",
    "\n",
    "$ X_1 = 50 $ "
   ]
  },
  {
   "cell_type": "code",
   "execution_count": null,
   "id": "9ccc0e0c-b459-4cf1-a26d-62dc104ffeb0",
   "metadata": {},
   "outputs": [],
   "source": []
  }
 ],
 "metadata": {
  "kernelspec": {
   "display_name": "Python 3 (ipykernel)",
   "language": "python",
   "name": "python3"
  },
  "language_info": {
   "codemirror_mode": {
    "name": "ipython",
    "version": 3
   },
   "file_extension": ".py",
   "mimetype": "text/x-python",
   "name": "python",
   "nbconvert_exporter": "python",
   "pygments_lexer": "ipython3",
   "version": "3.12.4"
  }
 },
 "nbformat": 4,
 "nbformat_minor": 5
}
