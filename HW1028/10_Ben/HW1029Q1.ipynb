{
  "nbformat": 4,
  "nbformat_minor": 0,
  "metadata": {
    "colab": {
      "provenance": []
    },
    "kernelspec": {
      "name": "python3",
      "display_name": "Python 3"
    },
    "language_info": {
      "name": "python"
    }
  },
  "cells": [
    {
      "cell_type": "markdown",
      "source": [
        "Ch4 Q13)\n",
        "\n",
        "This question should be answered using the Weekly data set, which\n",
        "is part of the ISLP package. This data is similar in nature to the\n",
        "Smarket data from this chapter’s lab, except that it contains 1, 089\n",
        "weekly returns for 21 years, from the beginning of 1990 to the end of\n",
        "2010.\n",
        "\n",
        "(e) Repeat (d) using LDA"
      ],
      "metadata": {
        "id": "X9oYLiHY-W3v"
      }
    },
    {
      "cell_type": "code",
      "source": [
        "pip install ISLP"
      ],
      "metadata": {
        "colab": {
          "base_uri": "https://localhost:8080/"
        },
        "id": "zgOx8sOw_hNZ",
        "outputId": "e22b924e-c0a7-4df4-e716-5dc28b8143e2"
      },
      "execution_count": 2,
      "outputs": [
        {
          "output_type": "stream",
          "name": "stdout",
          "text": [
            "Collecting ISLP\n",
            "  Downloading ISLP-0.4.0-py3-none-any.whl.metadata (7.0 kB)\n",
            "Requirement already satisfied: numpy>=1.7.1 in /usr/local/lib/python3.10/dist-packages (from ISLP) (1.26.4)\n",
            "Requirement already satisfied: scipy>=0.9 in /usr/local/lib/python3.10/dist-packages (from ISLP) (1.13.1)\n",
            "Requirement already satisfied: pandas>=0.20 in /usr/local/lib/python3.10/dist-packages (from ISLP) (2.2.2)\n",
            "Requirement already satisfied: lxml in /usr/local/lib/python3.10/dist-packages (from ISLP) (5.3.0)\n",
            "Requirement already satisfied: scikit-learn>=1.2 in /usr/local/lib/python3.10/dist-packages (from ISLP) (1.5.2)\n",
            "Requirement already satisfied: joblib in /usr/local/lib/python3.10/dist-packages (from ISLP) (1.4.2)\n",
            "Requirement already satisfied: statsmodels>=0.13 in /usr/local/lib/python3.10/dist-packages (from ISLP) (0.14.4)\n",
            "Collecting lifelines (from ISLP)\n",
            "  Downloading lifelines-0.30.0-py3-none-any.whl.metadata (3.2 kB)\n",
            "Collecting pygam (from ISLP)\n",
            "  Downloading pygam-0.9.1-py3-none-any.whl.metadata (7.1 kB)\n",
            "Requirement already satisfied: torch in /usr/local/lib/python3.10/dist-packages (from ISLP) (2.5.0+cu121)\n",
            "Collecting pytorch-lightning (from ISLP)\n",
            "  Downloading pytorch_lightning-2.4.0-py3-none-any.whl.metadata (21 kB)\n",
            "Collecting torchmetrics (from ISLP)\n",
            "  Downloading torchmetrics-1.5.1-py3-none-any.whl.metadata (20 kB)\n",
            "Requirement already satisfied: python-dateutil>=2.8.2 in /usr/local/lib/python3.10/dist-packages (from pandas>=0.20->ISLP) (2.8.2)\n",
            "Requirement already satisfied: pytz>=2020.1 in /usr/local/lib/python3.10/dist-packages (from pandas>=0.20->ISLP) (2024.2)\n",
            "Requirement already satisfied: tzdata>=2022.7 in /usr/local/lib/python3.10/dist-packages (from pandas>=0.20->ISLP) (2024.2)\n",
            "Requirement already satisfied: threadpoolctl>=3.1.0 in /usr/local/lib/python3.10/dist-packages (from scikit-learn>=1.2->ISLP) (3.5.0)\n",
            "Requirement already satisfied: patsy>=0.5.6 in /usr/local/lib/python3.10/dist-packages (from statsmodels>=0.13->ISLP) (0.5.6)\n",
            "Requirement already satisfied: packaging>=21.3 in /usr/local/lib/python3.10/dist-packages (from statsmodels>=0.13->ISLP) (24.1)\n",
            "Requirement already satisfied: matplotlib>=3.0 in /usr/local/lib/python3.10/dist-packages (from lifelines->ISLP) (3.8.0)\n",
            "Requirement already satisfied: autograd>=1.5 in /usr/local/lib/python3.10/dist-packages (from lifelines->ISLP) (1.7.0)\n",
            "Collecting autograd-gamma>=0.3 (from lifelines->ISLP)\n",
            "  Downloading autograd-gamma-0.5.0.tar.gz (4.0 kB)\n",
            "  Preparing metadata (setup.py) ... \u001b[?25l\u001b[?25hdone\n",
            "Collecting formulaic>=0.2.2 (from lifelines->ISLP)\n",
            "  Downloading formulaic-1.0.2-py3-none-any.whl.metadata (6.8 kB)\n",
            "Requirement already satisfied: progressbar2<5.0.0,>=4.2.0 in /usr/local/lib/python3.10/dist-packages (from pygam->ISLP) (4.5.0)\n",
            "Collecting scipy>=0.9 (from ISLP)\n",
            "  Downloading scipy-1.11.4-cp310-cp310-manylinux_2_17_x86_64.manylinux2014_x86_64.whl.metadata (60 kB)\n",
            "\u001b[2K     \u001b[90m━━━━━━━━━━━━━━━━━━━━━━━━━━━━━━━━━━━━━━━━\u001b[0m \u001b[32m60.4/60.4 kB\u001b[0m \u001b[31m3.6 MB/s\u001b[0m eta \u001b[36m0:00:00\u001b[0m\n",
            "\u001b[?25hRequirement already satisfied: tqdm>=4.57.0 in /usr/local/lib/python3.10/dist-packages (from pytorch-lightning->ISLP) (4.66.6)\n",
            "Requirement already satisfied: PyYAML>=5.4 in /usr/local/lib/python3.10/dist-packages (from pytorch-lightning->ISLP) (6.0.2)\n",
            "Requirement already satisfied: fsspec>=2022.5.0 in /usr/local/lib/python3.10/dist-packages (from fsspec[http]>=2022.5.0->pytorch-lightning->ISLP) (2024.10.0)\n",
            "Requirement already satisfied: typing-extensions>=4.4.0 in /usr/local/lib/python3.10/dist-packages (from pytorch-lightning->ISLP) (4.12.2)\n",
            "Collecting lightning-utilities>=0.10.0 (from pytorch-lightning->ISLP)\n",
            "  Downloading lightning_utilities-0.11.8-py3-none-any.whl.metadata (5.2 kB)\n",
            "Requirement already satisfied: filelock in /usr/local/lib/python3.10/dist-packages (from torch->ISLP) (3.16.1)\n",
            "Requirement already satisfied: networkx in /usr/local/lib/python3.10/dist-packages (from torch->ISLP) (3.4.2)\n",
            "Requirement already satisfied: jinja2 in /usr/local/lib/python3.10/dist-packages (from torch->ISLP) (3.1.4)\n",
            "Requirement already satisfied: sympy==1.13.1 in /usr/local/lib/python3.10/dist-packages (from torch->ISLP) (1.13.1)\n",
            "Requirement already satisfied: mpmath<1.4,>=1.1.0 in /usr/local/lib/python3.10/dist-packages (from sympy==1.13.1->torch->ISLP) (1.3.0)\n",
            "Collecting interface-meta>=1.2.0 (from formulaic>=0.2.2->lifelines->ISLP)\n",
            "  Downloading interface_meta-1.3.0-py3-none-any.whl.metadata (6.7 kB)\n",
            "Requirement already satisfied: wrapt>=1.0 in /usr/local/lib/python3.10/dist-packages (from formulaic>=0.2.2->lifelines->ISLP) (1.16.0)\n",
            "Requirement already satisfied: aiohttp!=4.0.0a0,!=4.0.0a1 in /usr/local/lib/python3.10/dist-packages (from fsspec[http]>=2022.5.0->pytorch-lightning->ISLP) (3.10.10)\n",
            "Requirement already satisfied: setuptools in /usr/local/lib/python3.10/dist-packages (from lightning-utilities>=0.10.0->pytorch-lightning->ISLP) (75.1.0)\n",
            "Requirement already satisfied: contourpy>=1.0.1 in /usr/local/lib/python3.10/dist-packages (from matplotlib>=3.0->lifelines->ISLP) (1.3.0)\n",
            "Requirement already satisfied: cycler>=0.10 in /usr/local/lib/python3.10/dist-packages (from matplotlib>=3.0->lifelines->ISLP) (0.12.1)\n",
            "Requirement already satisfied: fonttools>=4.22.0 in /usr/local/lib/python3.10/dist-packages (from matplotlib>=3.0->lifelines->ISLP) (4.54.1)\n",
            "Requirement already satisfied: kiwisolver>=1.0.1 in /usr/local/lib/python3.10/dist-packages (from matplotlib>=3.0->lifelines->ISLP) (1.4.7)\n",
            "Requirement already satisfied: pillow>=6.2.0 in /usr/local/lib/python3.10/dist-packages (from matplotlib>=3.0->lifelines->ISLP) (10.4.0)\n",
            "Requirement already satisfied: pyparsing>=2.3.1 in /usr/local/lib/python3.10/dist-packages (from matplotlib>=3.0->lifelines->ISLP) (3.2.0)\n",
            "Requirement already satisfied: six in /usr/local/lib/python3.10/dist-packages (from patsy>=0.5.6->statsmodels>=0.13->ISLP) (1.16.0)\n",
            "Requirement already satisfied: python-utils>=3.8.1 in /usr/local/lib/python3.10/dist-packages (from progressbar2<5.0.0,>=4.2.0->pygam->ISLP) (3.9.0)\n",
            "Requirement already satisfied: MarkupSafe>=2.0 in /usr/local/lib/python3.10/dist-packages (from jinja2->torch->ISLP) (3.0.2)\n",
            "Requirement already satisfied: aiohappyeyeballs>=2.3.0 in /usr/local/lib/python3.10/dist-packages (from aiohttp!=4.0.0a0,!=4.0.0a1->fsspec[http]>=2022.5.0->pytorch-lightning->ISLP) (2.4.3)\n",
            "Requirement already satisfied: aiosignal>=1.1.2 in /usr/local/lib/python3.10/dist-packages (from aiohttp!=4.0.0a0,!=4.0.0a1->fsspec[http]>=2022.5.0->pytorch-lightning->ISLP) (1.3.1)\n",
            "Requirement already satisfied: attrs>=17.3.0 in /usr/local/lib/python3.10/dist-packages (from aiohttp!=4.0.0a0,!=4.0.0a1->fsspec[http]>=2022.5.0->pytorch-lightning->ISLP) (24.2.0)\n",
            "Requirement already satisfied: frozenlist>=1.1.1 in /usr/local/lib/python3.10/dist-packages (from aiohttp!=4.0.0a0,!=4.0.0a1->fsspec[http]>=2022.5.0->pytorch-lightning->ISLP) (1.5.0)\n",
            "Requirement already satisfied: multidict<7.0,>=4.5 in /usr/local/lib/python3.10/dist-packages (from aiohttp!=4.0.0a0,!=4.0.0a1->fsspec[http]>=2022.5.0->pytorch-lightning->ISLP) (6.1.0)\n",
            "Requirement already satisfied: yarl<2.0,>=1.12.0 in /usr/local/lib/python3.10/dist-packages (from aiohttp!=4.0.0a0,!=4.0.0a1->fsspec[http]>=2022.5.0->pytorch-lightning->ISLP) (1.17.0)\n",
            "Requirement already satisfied: async-timeout<5.0,>=4.0 in /usr/local/lib/python3.10/dist-packages (from aiohttp!=4.0.0a0,!=4.0.0a1->fsspec[http]>=2022.5.0->pytorch-lightning->ISLP) (4.0.3)\n",
            "Requirement already satisfied: idna>=2.0 in /usr/local/lib/python3.10/dist-packages (from yarl<2.0,>=1.12.0->aiohttp!=4.0.0a0,!=4.0.0a1->fsspec[http]>=2022.5.0->pytorch-lightning->ISLP) (3.10)\n",
            "Requirement already satisfied: propcache>=0.2.0 in /usr/local/lib/python3.10/dist-packages (from yarl<2.0,>=1.12.0->aiohttp!=4.0.0a0,!=4.0.0a1->fsspec[http]>=2022.5.0->pytorch-lightning->ISLP) (0.2.0)\n",
            "Downloading ISLP-0.4.0-py3-none-any.whl (3.6 MB)\n",
            "\u001b[2K   \u001b[90m━━━━━━━━━━━━━━━━━━━━━━━━━━━━━━━━━━━━━━━━\u001b[0m \u001b[32m3.6/3.6 MB\u001b[0m \u001b[31m48.2 MB/s\u001b[0m eta \u001b[36m0:00:00\u001b[0m\n",
            "\u001b[?25hDownloading lifelines-0.30.0-py3-none-any.whl (349 kB)\n",
            "\u001b[2K   \u001b[90m━━━━━━━━━━━━━━━━━━━━━━━━━━━━━━━━━━━━━━━━\u001b[0m \u001b[32m349.3/349.3 kB\u001b[0m \u001b[31m26.0 MB/s\u001b[0m eta \u001b[36m0:00:00\u001b[0m\n",
            "\u001b[?25hDownloading pygam-0.9.1-py3-none-any.whl (522 kB)\n",
            "\u001b[2K   \u001b[90m━━━━━━━━━━━━━━━━━━━━━━━━━━━━━━━━━━━━━━━━\u001b[0m \u001b[32m522.0/522.0 kB\u001b[0m \u001b[31m32.3 MB/s\u001b[0m eta \u001b[36m0:00:00\u001b[0m\n",
            "\u001b[?25hDownloading scipy-1.11.4-cp310-cp310-manylinux_2_17_x86_64.manylinux2014_x86_64.whl (36.4 MB)\n",
            "\u001b[2K   \u001b[90m━━━━━━━━━━━━━━━━━━━━━━━━━━━━━━━━━━━━━━━━\u001b[0m \u001b[32m36.4/36.4 MB\u001b[0m \u001b[31m44.8 MB/s\u001b[0m eta \u001b[36m0:00:00\u001b[0m\n",
            "\u001b[?25hDownloading pytorch_lightning-2.4.0-py3-none-any.whl (815 kB)\n",
            "\u001b[2K   \u001b[90m━━━━━━━━━━━━━━━━━━━━━━━━━━━━━━━━━━━━━━━━\u001b[0m \u001b[32m815.2/815.2 kB\u001b[0m \u001b[31m40.0 MB/s\u001b[0m eta \u001b[36m0:00:00\u001b[0m\n",
            "\u001b[?25hDownloading torchmetrics-1.5.1-py3-none-any.whl (890 kB)\n",
            "\u001b[2K   \u001b[90m━━━━━━━━━━━━━━━━━━━━━━━━━━━━━━━━━━━━━━━━\u001b[0m \u001b[32m890.6/890.6 kB\u001b[0m \u001b[31m46.4 MB/s\u001b[0m eta \u001b[36m0:00:00\u001b[0m\n",
            "\u001b[?25hDownloading formulaic-1.0.2-py3-none-any.whl (94 kB)\n",
            "\u001b[2K   \u001b[90m━━━━━━━━━━━━━━━━━━━━━━━━━━━━━━━━━━━━━━━━\u001b[0m \u001b[32m94.5/94.5 kB\u001b[0m \u001b[31m7.7 MB/s\u001b[0m eta \u001b[36m0:00:00\u001b[0m\n",
            "\u001b[?25hDownloading lightning_utilities-0.11.8-py3-none-any.whl (26 kB)\n",
            "Downloading interface_meta-1.3.0-py3-none-any.whl (14 kB)\n",
            "Building wheels for collected packages: autograd-gamma\n",
            "  Building wheel for autograd-gamma (setup.py) ... \u001b[?25l\u001b[?25hdone\n",
            "  Created wheel for autograd-gamma: filename=autograd_gamma-0.5.0-py3-none-any.whl size=4031 sha256=f52f03a90d226dbd6eae85ae871e0639c1e4251163e2513ffc60074e573944ef\n",
            "  Stored in directory: /root/.cache/pip/wheels/25/cc/e0/ef2969164144c899fedb22b338f6703e2b9cf46eeebf254991\n",
            "Successfully built autograd-gamma\n",
            "Installing collected packages: scipy, lightning-utilities, interface-meta, autograd-gamma, torchmetrics, pygam, formulaic, lifelines, pytorch-lightning, ISLP\n",
            "  Attempting uninstall: scipy\n",
            "    Found existing installation: scipy 1.13.1\n",
            "    Uninstalling scipy-1.13.1:\n",
            "      Successfully uninstalled scipy-1.13.1\n",
            "Successfully installed ISLP-0.4.0 autograd-gamma-0.5.0 formulaic-1.0.2 interface-meta-1.3.0 lifelines-0.30.0 lightning-utilities-0.11.8 pygam-0.9.1 pytorch-lightning-2.4.0 scipy-1.11.4 torchmetrics-1.5.1\n"
          ]
        }
      ]
    },
    {
      "cell_type": "code",
      "source": [
        "import pandas as pd\n",
        "from ISLP import load_data\n",
        "from ISLP import confusion_table\n",
        "from sklearn.discriminant_analysis import LinearDiscriminantAnalysis\n",
        "from sklearn.metrics import accuracy_score\n",
        "\n",
        "# Load the \"Weekly\" dataset\n",
        "weekly = load_data('Weekly')\n",
        "\n",
        "# Create a binary response variable (1 for \"Up,\" 0 for \"Down\")\n",
        "weekly['Direction_binary'] = (weekly['Direction'] == 'Up').astype(int)\n",
        "\n",
        "# Define the training and testing data periods\n",
        "train_data = weekly[weekly['Year'] <= 2008]\n",
        "test_data = weekly[weekly['Year'] >= 2009]\n",
        "\n",
        "# Select the \"Lag2\" variable as the predictor for LDA\n",
        "X_train = train_data[['Lag2']]\n",
        "y_train = train_data['Direction_binary']\n",
        "\n",
        "X_test = test_data[['Lag2']]\n",
        "y_test = test_data['Direction_binary']\n",
        "\n",
        "# Fit the LDA model using only \"Lag2\" as the predictor\n",
        "model = LinearDiscriminantAnalysis()\n",
        "model.fit(X_train, y_train)\n",
        "\n",
        "# Predict using the test data\n",
        "lda_pred = model.predict(X_test)\n",
        "\n",
        "# Compute the confusion matrix\n",
        "confusion = confusion_table(lda_pred, y_test)\n",
        "\n",
        "# Compute the overall fraction of correct predictions (accuracy)\n",
        "accuracy = accuracy_score(y_test, lda_pred)\n",
        "\n",
        "print(\"Confusion Matrix:\")\n",
        "print(confusion)\n",
        "print(f\"Overall Fraction of Correct Predictions: {accuracy:.4f}\")"
      ],
      "metadata": {
        "colab": {
          "base_uri": "https://localhost:8080/"
        },
        "id": "Dj7Ekv2l_nEV",
        "outputId": "e9454767-b796-4a8e-a137-a96b687f985a"
      },
      "execution_count": 3,
      "outputs": [
        {
          "output_type": "stream",
          "name": "stdout",
          "text": [
            "Confusion Matrix:\n",
            "Truth       0   1\n",
            "Predicted        \n",
            "0           9   5\n",
            "1          34  56\n",
            "Overall Fraction of Correct Predictions: 0.6250\n"
          ]
        }
      ]
    },
    {
      "cell_type": "markdown",
      "source": [
        "(f) Repeat (d) using QDA."
      ],
      "metadata": {
        "id": "tTyDaAZm_sPN"
      }
    },
    {
      "cell_type": "code",
      "source": [
        "from sklearn.discriminant_analysis import QuadraticDiscriminantAnalysis\n",
        "\n",
        "# Fit the QDA model using only \"Lag2\" as the predictor\n",
        "model = QuadraticDiscriminantAnalysis()\n",
        "model.fit(X_train, y_train)\n",
        "\n",
        "# Predict using the test data\n",
        "qda_pred = model.predict(X_test)\n",
        "\n",
        "# Compute the confusion matrix\n",
        "confusion = confusion_table(qda_pred, y_test)\n",
        "\n",
        "# Compute the overall fraction of correct predictions (accuracy)\n",
        "accuracy = accuracy_score(y_test, qda_pred)\n",
        "\n",
        "print(\"Confusion Matrix:\")\n",
        "print(confusion)\n",
        "print(f\"Overall Fraction of Correct Predictions: {accuracy:.4f}\")"
      ],
      "metadata": {
        "colab": {
          "base_uri": "https://localhost:8080/"
        },
        "id": "kvSDle34_yn5",
        "outputId": "9dcb3fa0-81da-4241-f1a9-7f7304b0374e"
      },
      "execution_count": 4,
      "outputs": [
        {
          "output_type": "stream",
          "name": "stdout",
          "text": [
            "Confusion Matrix:\n",
            "Truth       0   1\n",
            "Predicted        \n",
            "0           0   0\n",
            "1          43  61\n",
            "Overall Fraction of Correct Predictions: 0.5865\n"
          ]
        }
      ]
    },
    {
      "cell_type": "markdown",
      "source": [
        "(g) Repeat (d) using KNN with K = 1."
      ],
      "metadata": {
        "id": "zq-XknRD_2Ms"
      }
    },
    {
      "cell_type": "code",
      "source": [
        "from sklearn.neighbors import KNeighborsClassifier\n",
        "\n",
        "# Fit the KNN model with K=1 using only \"Lag2\" as the predictor\n",
        "model = KNeighborsClassifier(n_neighbors=1)\n",
        "model.fit(X_train, y_train)\n",
        "\n",
        "# Predict using the test data\n",
        "knn_pred = model.predict(X_test)\n",
        "\n",
        "# Compute the confusion matrix\n",
        "confusion = confusion_table(knn_pred, y_test)\n",
        "\n",
        "# Compute the overall fraction of correct predictions (accuracy)\n",
        "accuracy = accuracy_score(y_test, knn_pred)\n",
        "\n",
        "print(\"Confusion Matrix:\")\n",
        "print(confusion)\n",
        "print(f\"Overall Fraction of Correct Predictions: {accuracy:.4f}\")"
      ],
      "metadata": {
        "colab": {
          "base_uri": "https://localhost:8080/"
        },
        "id": "LEK6jVqv_4w9",
        "outputId": "735c6e32-faeb-4004-ce70-41de87cd1835"
      },
      "execution_count": 5,
      "outputs": [
        {
          "output_type": "stream",
          "name": "stdout",
          "text": [
            "Confusion Matrix:\n",
            "Truth       0   1\n",
            "Predicted        \n",
            "0          22  32\n",
            "1          21  29\n",
            "Overall Fraction of Correct Predictions: 0.4904\n"
          ]
        }
      ]
    },
    {
      "cell_type": "markdown",
      "source": [
        "(h) Repeat (d) using naive Bayes."
      ],
      "metadata": {
        "id": "23CA80vdAGVx"
      }
    },
    {
      "cell_type": "code",
      "source": [
        "from sklearn.naive_bayes import GaussianNB\n",
        "\n",
        "# Fit the Naive Bayes model using Gaussian Naive Bayes with only \"Lag2\" as the predictor\n",
        "model = GaussianNB()\n",
        "model.fit(X_train, y_train)\n",
        "\n",
        "# Predict using the test data\n",
        "gnb_pred = model.predict(X_test)\n",
        "\n",
        "# Compute the confusion matrix\n",
        "confusion = confusion_table(gnb_pred, y_test)\n",
        "\n",
        "# Compute the overall fraction of correct predictions (accuracy)\n",
        "accuracy = accuracy_score(y_test, gnb_pred)\n",
        "\n",
        "print(\"Confusion Matrix:\")\n",
        "print(confusion)\n",
        "print(f\"Overall Fraction of Correct Predictions: {accuracy:.4f}\")"
      ],
      "metadata": {
        "colab": {
          "base_uri": "https://localhost:8080/"
        },
        "id": "CnYnNR2yANAN",
        "outputId": "e3dbe3e0-7651-4ba0-edb5-cd61c63839d5"
      },
      "execution_count": 6,
      "outputs": [
        {
          "output_type": "stream",
          "name": "stdout",
          "text": [
            "Confusion Matrix:\n",
            "Truth       0   1\n",
            "Predicted        \n",
            "0           0   0\n",
            "1          43  61\n",
            "Overall Fraction of Correct Predictions: 0.5865\n"
          ]
        }
      ]
    },
    {
      "cell_type": "markdown",
      "source": [
        "(i) Which of these methods appears to provide the best results on this data?\n",
        "\n",
        "To answer the question of which method provide the best results on the data, we can use the accuracy as a standard. According to the calculated accuracy on each method, we can said that the Linear Discriminant Analysis method is providing the best results on the data, as it have a highest 0.6250 accuracy."
      ],
      "metadata": {
        "id": "zgz3pyboARlt"
      }
    },
    {
      "cell_type": "markdown",
      "source": [
        "(j) Experiment with different combinations of predictors, including\n",
        "possible transformations and interactions, for each of the\n",
        "methods. Report the variables, method, and associated confusion\n",
        "matrix that appears to provide the best results on the held\n",
        "out data. Note that you should also experiment with values for\n",
        "K in the KNN classifier."
      ],
      "metadata": {
        "id": "XYM5cK4MAaBr"
      }
    },
    {
      "cell_type": "markdown",
      "source": [
        "Load data and do train-test split"
      ],
      "metadata": {
        "id": "B2Gj7p9f-R9O"
      }
    },
    {
      "cell_type": "code",
      "source": [
        "import pandas as pd\n",
        "from ISLP import load_data\n",
        "from ISLP import confusion_table\n",
        "from sklearn.metrics import accuracy_score\n",
        "\n",
        "# Load the \"Weekly\" dataset\n",
        "weekly = load_data('Weekly')\n",
        "\n",
        "# Create a binary response variable (1 for \"Up,\" 0 for \"Down\")\n",
        "weekly['Direction_binary'] = (weekly['Direction'] == 'Up').astype(int)\n",
        "\n",
        "# Define the training and testing data periods\n",
        "train_data = weekly[weekly['Year'] <= 2008]\n",
        "test_data = weekly[weekly['Year'] >= 2009]\n",
        "\n",
        "# Select the \"Lag2\" variable as the predictor for LDA\n",
        "X_train = train_data[['Lag2']]\n",
        "y_train = train_data['Direction_binary']\n",
        "\n",
        "X_test = test_data[['Lag2']]\n",
        "y_test = test_data['Direction_binary']"
      ],
      "metadata": {
        "id": "txRoZlMQA9tl"
      },
      "execution_count": 8,
      "outputs": []
    },
    {
      "cell_type": "markdown",
      "source": [
        "Logistic Regression:\n",
        "\n",
        "Origin accuracy 0.5481"
      ],
      "metadata": {
        "id": "Zzw059NKBIFJ"
      }
    },
    {
      "cell_type": "code",
      "source": [
        "import statsmodels.api as sm\n",
        "\n",
        "# Define the training and testing data periods\n",
        "train_data = weekly[weekly['Year'] <= 2008]\n",
        "test_data = weekly[weekly['Year'] >= 2009]\n",
        "\n",
        "# Select the \"Lag2\" variable as the predictor for the model\n",
        "X_train = train_data[['Lag2']]\n",
        "y_train = train_data['Direction_binary']\n",
        "\n",
        "X_test = test_data[['Lag2']]\n",
        "y_test = test_data['Direction_binary']\n",
        "\n",
        "# Add a constant to the predictors (intercept)\n",
        "x_train = sm.add_constant(X_train)\n",
        "\n",
        "# Fit the logistic regression model\n",
        "model = sm.Logit(y_train, X_train)\n",
        "result = model.fit()\n",
        "\n",
        "# Print the summary of the logistic regression results\n",
        "print(result.summary())\n",
        "\n",
        "# Predict using the test data\n",
        "y_pred = result.predict(X_test)>0.5 # Set a threshold of 0.5 for binary classification\n",
        "\n",
        "# Compute the confusion matrix\n",
        "confusion = confusion_table(y_pred, y_test)\n",
        "\n",
        "# Compute the overall fraction of correct predictions (accuracy)\n",
        "accuracy = accuracy_score(y_test, y_pred)\n",
        "\n",
        "print(\"Confusion Matrix:\")\n",
        "print(confusion)\n",
        "print(f\"Overall Fraction of Correct Predictions: {accuracy:.4f}\")"
      ],
      "metadata": {
        "colab": {
          "base_uri": "https://localhost:8080/"
        },
        "id": "Hvgu0DrOBME3",
        "outputId": "e6878e44-a742-41f4-e58f-6a01dc17e22d"
      },
      "execution_count": 10,
      "outputs": [
        {
          "output_type": "stream",
          "name": "stdout",
          "text": [
            "Optimization terminated successfully.\n",
            "         Current function value: 0.690654\n",
            "         Iterations 4\n",
            "                           Logit Regression Results                           \n",
            "==============================================================================\n",
            "Dep. Variable:       Direction_binary   No. Observations:                  985\n",
            "Model:                          Logit   Df Residuals:                      984\n",
            "Method:                           MLE   Df Model:                            0\n",
            "Date:                Sun, 03 Nov 2024   Pseudo R-squ.:               -0.004340\n",
            "Time:                        03:17:48   Log-Likelihood:                -680.29\n",
            "converged:                       True   LL-Null:                       -677.35\n",
            "Covariance Type:            nonrobust   LLR p-value:                       nan\n",
            "==============================================================================\n",
            "                 coef    std err          z      P>|z|      [0.025      0.975]\n",
            "------------------------------------------------------------------------------\n",
            "Lag2           0.0629      0.029      2.192      0.028       0.007       0.119\n",
            "==============================================================================\n",
            "Confusion Matrix:\n",
            "Truth       0   1\n",
            "Predicted        \n",
            "0          20  24\n",
            "1          23  37\n",
            "Overall Fraction of Correct Predictions: 0.5481\n"
          ]
        }
      ]
    },
    {
      "cell_type": "markdown",
      "source": [
        "Add Today as predictors: New accuracy 1.0000"
      ],
      "metadata": {
        "id": "GMsLMOKBB7VH"
      }
    },
    {
      "cell_type": "code",
      "source": [
        "from sklearn.linear_model import LogisticRegression\n",
        "\n",
        "# Add Today as predictors\n",
        "X_train = train_data[['Today', 'Lag2']]\n",
        "X_test = test_data[['Today', 'Lag2']]\n",
        "\n",
        "# Fit the logistic regression model with the new predictors\n",
        "model = LogisticRegression()\n",
        "model.fit(X_train, y_train)\n",
        "\n",
        "# Predict using the test data\n",
        "y_pred = model.predict(X_test)\n",
        "\n",
        "# Compute the confusion matrix\n",
        "confusion = confusion_table(y_pred, y_test)\n",
        "\n",
        "# Compute the overall fraction of correct predictions (accuracy)\n",
        "accuracy = accuracy_score(y_test, y_pred)\n",
        "\n",
        "# Print results\n",
        "print(\"Logistic Regression with Interaction Term - Results:\")\n",
        "print(\"Confusion Matrix:\")\n",
        "print(confusion)\n",
        "print(f\"Overall Fraction of Correct Predictions: {accuracy:.4f}\")"
      ],
      "metadata": {
        "colab": {
          "base_uri": "https://localhost:8080/"
        },
        "id": "frcbkNE2BLmx",
        "outputId": "f638c5d8-870d-4c60-b113-a69726c104d3"
      },
      "execution_count": 11,
      "outputs": [
        {
          "output_type": "stream",
          "name": "stdout",
          "text": [
            "Logistic Regression with Interaction Term - Results:\n",
            "Confusion Matrix:\n",
            "Truth       0   1\n",
            "Predicted        \n",
            "0          43   0\n",
            "1           0  61\n",
            "Overall Fraction of Correct Predictions: 1.0000\n"
          ]
        }
      ]
    },
    {
      "cell_type": "markdown",
      "source": [
        "Add Today and the interaction term (Lag1 * Lag2) as predictors: New accuracy 1.0000"
      ],
      "metadata": {
        "id": "q4leSSyCB_y8"
      }
    },
    {
      "cell_type": "code",
      "source": [
        "from sklearn.linear_model import LogisticRegression\n",
        "\n",
        "# Add Today and the interaction term (Lag1 * Lag2) as predictors\n",
        "X_train = train_data[['Today', 'Lag2']]\n",
        "X_train['Lag1_Lag2_interaction'] = train_data['Lag1'] * train_data['Lag2']\n",
        "\n",
        "X_test = test_data[['Today', 'Lag2']]\n",
        "X_test['Lag1_Lag2_interaction'] = test_data['Lag1'] * test_data['Lag2']\n",
        "\n",
        "# Fit the logistic regression model with the new predictors\n",
        "model = LogisticRegression()\n",
        "model.fit(X_train, y_train)\n",
        "\n",
        "# Predict using the test data\n",
        "y_pred = model.predict(X_test)\n",
        "\n",
        "# Compute the confusion matrix\n",
        "confusion = confusion_table(y_pred, y_test)\n",
        "\n",
        "# Compute the overall fraction of correct predictions (accuracy)\n",
        "accuracy = accuracy_score(y_test, y_pred)\n",
        "\n",
        "# Print results\n",
        "print(\"Logistic Regression with Interaction Term - Results:\")\n",
        "print(\"Confusion Matrix:\")\n",
        "print(confusion)\n",
        "print(f\"Overall Fraction of Correct Predictions: {accuracy:.4f}\")"
      ],
      "metadata": {
        "colab": {
          "base_uri": "https://localhost:8080/"
        },
        "id": "bvTq8fglCAI_",
        "outputId": "f95384d6-607b-4b24-a43c-9e5a40348bae"
      },
      "execution_count": 12,
      "outputs": [
        {
          "output_type": "stream",
          "name": "stdout",
          "text": [
            "Logistic Regression with Interaction Term - Results:\n",
            "Confusion Matrix:\n",
            "Truth       0   1\n",
            "Predicted        \n",
            "0          43   0\n",
            "1           0  61\n",
            "Overall Fraction of Correct Predictions: 1.0000\n"
          ]
        },
        {
          "output_type": "stream",
          "name": "stderr",
          "text": [
            "<ipython-input-12-cf52c6c764cc>:5: SettingWithCopyWarning: \n",
            "A value is trying to be set on a copy of a slice from a DataFrame.\n",
            "Try using .loc[row_indexer,col_indexer] = value instead\n",
            "\n",
            "See the caveats in the documentation: https://pandas.pydata.org/pandas-docs/stable/user_guide/indexing.html#returning-a-view-versus-a-copy\n",
            "  X_train['Lag1_Lag2_interaction'] = train_data['Lag1'] * train_data['Lag2']\n",
            "<ipython-input-12-cf52c6c764cc>:8: SettingWithCopyWarning: \n",
            "A value is trying to be set on a copy of a slice from a DataFrame.\n",
            "Try using .loc[row_indexer,col_indexer] = value instead\n",
            "\n",
            "See the caveats in the documentation: https://pandas.pydata.org/pandas-docs/stable/user_guide/indexing.html#returning-a-view-versus-a-copy\n",
            "  X_test['Lag1_Lag2_interaction'] = test_data['Lag1'] * test_data['Lag2']\n"
          ]
        }
      ]
    },
    {
      "cell_type": "markdown",
      "source": [
        "Linear Discriminant Analysis (LDA):\n",
        "\n",
        "Original LDA(part e) accuracy: 0.6250\n",
        "\n",
        "Add Today as predictors: 0.9615\n"
      ],
      "metadata": {
        "id": "kzn6lBiQCFLs"
      }
    },
    {
      "cell_type": "code",
      "source": [
        "from sklearn.discriminant_analysis import LinearDiscriminantAnalysis\n",
        "\n",
        "# Add Today as predictors\n",
        "X_train_lda = train_data[['Today', 'Lag2']]\n",
        "X_test_lda = test_data[['Today', 'Lag2']]\n",
        "\n",
        "# Fit the LDA model with the new predictors\n",
        "model = LinearDiscriminantAnalysis()\n",
        "model.fit(X_train_lda, y_train)\n",
        "\n",
        "# Predict using the test data\n",
        "lda_pred = model.predict(X_test_lda)\n",
        "\n",
        "# Compute the confusion matrix\n",
        "confusion = confusion_table(lda_pred, y_test)\n",
        "\n",
        "# Compute the overall fraction of correct predictions (accuracy)\n",
        "accuracy = accuracy_score(y_test, lda_pred)\n",
        "\n",
        "print(\"Confusion Matrix:\")\n",
        "print(confusion)\n",
        "print(f\"Overall Fraction of Correct Predictions: {accuracy:.4f}\")"
      ],
      "metadata": {
        "colab": {
          "base_uri": "https://localhost:8080/"
        },
        "id": "Cy1hVbGICG7H",
        "outputId": "7acbfe99-949b-40e1-d338-9c039c38f415"
      },
      "execution_count": 13,
      "outputs": [
        {
          "output_type": "stream",
          "name": "stdout",
          "text": [
            "Confusion Matrix:\n",
            "Truth       0   1\n",
            "Predicted        \n",
            "0          39   0\n",
            "1           4  61\n",
            "Overall Fraction of Correct Predictions: 0.9615\n"
          ]
        }
      ]
    },
    {
      "cell_type": "markdown",
      "source": [
        "Add Today and the interaction term (Lag1 * Lag2) as predictors: 0.9615"
      ],
      "metadata": {
        "id": "a9MxcpC5CKKq"
      }
    },
    {
      "cell_type": "code",
      "source": [
        "from sklearn.discriminant_analysis import LinearDiscriminantAnalysis\n",
        "\n",
        "# Add Today and the interaction term (Lag1 * Lag2) as predictors\n",
        "X_train_lda = train_data[['Today', 'Lag2']]\n",
        "X_train_lda['Lag1_Lag2_interaction'] = train_data['Lag1'] * train_data['Lag2']\n",
        "\n",
        "X_test_lda = test_data[['Today', 'Lag2']]\n",
        "X_test_lda['Lag1_Lag2_interaction'] = test_data['Lag1'] * test_data['Lag2']\n",
        "\n",
        "\n",
        "# Fit the LDA model with the new predictors\n",
        "model = LinearDiscriminantAnalysis()\n",
        "model.fit(X_train_lda, y_train)\n",
        "\n",
        "# Predict using the test data\n",
        "lda_pred = model.predict(X_test_lda)\n",
        "\n",
        "# Compute the confusion matrix\n",
        "confusion = confusion_table(lda_pred, y_test)\n",
        "\n",
        "# Compute the overall fraction of correct predictions (accuracy)\n",
        "accuracy = accuracy_score(y_test, lda_pred)\n",
        "\n",
        "print(\"Confusion Matrix:\")\n",
        "print(confusion)\n",
        "print(f\"Overall Fraction of Correct Predictions: {accuracy:.4f}\")"
      ],
      "metadata": {
        "colab": {
          "base_uri": "https://localhost:8080/"
        },
        "id": "z58k7qGcCKc-",
        "outputId": "4d0026ab-eccc-4b3d-bad6-83451064bdb1"
      },
      "execution_count": 14,
      "outputs": [
        {
          "output_type": "stream",
          "name": "stdout",
          "text": [
            "Confusion Matrix:\n",
            "Truth       0   1\n",
            "Predicted        \n",
            "0          39   0\n",
            "1           4  61\n",
            "Overall Fraction of Correct Predictions: 0.9615\n"
          ]
        },
        {
          "output_type": "stream",
          "name": "stderr",
          "text": [
            "<ipython-input-14-cb407402f24d>:5: SettingWithCopyWarning: \n",
            "A value is trying to be set on a copy of a slice from a DataFrame.\n",
            "Try using .loc[row_indexer,col_indexer] = value instead\n",
            "\n",
            "See the caveats in the documentation: https://pandas.pydata.org/pandas-docs/stable/user_guide/indexing.html#returning-a-view-versus-a-copy\n",
            "  X_train_lda['Lag1_Lag2_interaction'] = train_data['Lag1'] * train_data['Lag2']\n",
            "<ipython-input-14-cb407402f24d>:8: SettingWithCopyWarning: \n",
            "A value is trying to be set on a copy of a slice from a DataFrame.\n",
            "Try using .loc[row_indexer,col_indexer] = value instead\n",
            "\n",
            "See the caveats in the documentation: https://pandas.pydata.org/pandas-docs/stable/user_guide/indexing.html#returning-a-view-versus-a-copy\n",
            "  X_test_lda['Lag1_Lag2_interaction'] = test_data['Lag1'] * test_data['Lag2']\n"
          ]
        }
      ]
    },
    {
      "cell_type": "markdown",
      "source": [
        "Quadratic Discriminant Analysis (QDA):\n",
        "\n",
        "The Original QDA(part f) accuracy is 0.5865, after trying to add Today or both Today and the interaction term (Lag1 * Lag2) as predictors, both of their accuracy increases. Adding Today improve the accuracy to 0.9808, and if also adding the lag1_lag2 interaction term, the accuracy decrease to 0.9615.\n",
        "\n",
        "After add Today as predictors, accuracy change to: 0.9808"
      ],
      "metadata": {
        "id": "_aGxRqtvCOtf"
      }
    },
    {
      "cell_type": "code",
      "source": [
        "from sklearn.discriminant_analysis import QuadraticDiscriminantAnalysis\n",
        "\n",
        "# Try using Today and Lag2 as predictors\n",
        "X_train_qda = train_data[['Today', 'Lag2']]\n",
        "X_test_qda = test_data[['Today', 'Lag2']]\n",
        "\n",
        "# Fit the LDA model with the new predictors\n",
        "model = QuadraticDiscriminantAnalysis()\n",
        "model.fit(X_train_qda, y_train)\n",
        "\n",
        "# Predict using the test data\n",
        "qda_pred = model.predict(X_test_qda)\n",
        "\n",
        "# Compute the confusion matrix\n",
        "confusion = confusion_table(qda_pred, y_test)\n",
        "\n",
        "# Compute the overall fraction of correct predictions (accuracy)\n",
        "accuracy = accuracy_score(y_test, qda_pred)\n",
        "\n",
        "print(\"Confusion Matrix:\")\n",
        "print(confusion)\n",
        "print(f\"Overall Fraction of Correct Predictions: {accuracy:.4f}\")"
      ],
      "metadata": {
        "colab": {
          "base_uri": "https://localhost:8080/"
        },
        "id": "KjpSITJNCPK3",
        "outputId": "c8e61871-8c17-44b8-9193-c284aa99473e"
      },
      "execution_count": 15,
      "outputs": [
        {
          "output_type": "stream",
          "name": "stdout",
          "text": [
            "Confusion Matrix:\n",
            "Truth       0   1\n",
            "Predicted        \n",
            "0          41   0\n",
            "1           2  61\n",
            "Overall Fraction of Correct Predictions: 0.9808\n"
          ]
        }
      ]
    },
    {
      "cell_type": "markdown",
      "source": [
        "Add Today and the interaction term (Lag1 * Lag2) as predictors: 0.9615"
      ],
      "metadata": {
        "id": "OsmmwXXjCcdF"
      }
    },
    {
      "cell_type": "code",
      "source": [
        "from sklearn.discriminant_analysis import QuadraticDiscriminantAnalysis\n",
        "\n",
        "# Add Today and the interaction term (Lag1 * Lag2) as predictors\n",
        "X_train_qda = train_data[['Today', 'Lag2']]\n",
        "X_train_qda['Lag1_Lag2_interaction'] = train_data['Lag1'] * train_data['Lag2']\n",
        "\n",
        "X_test_qda = test_data[['Today', 'Lag2']]\n",
        "X_test_qda['Lag1_Lag2_interaction'] = test_data['Lag1'] * test_data['Lag2']\n",
        "\n",
        "# Fit the LDA model with the new predictors\n",
        "model = QuadraticDiscriminantAnalysis()\n",
        "model.fit(X_train_qda, y_train)\n",
        "\n",
        "# Predict using the test data\n",
        "qda_pred = model.predict(X_test_qda)\n",
        "\n",
        "# Compute the confusion matrix\n",
        "confusion = confusion_table(qda_pred, y_test)\n",
        "\n",
        "# Compute the overall fraction of correct predictions (accuracy)\n",
        "accuracy = accuracy_score(y_test, qda_pred)\n",
        "\n",
        "print(\"Confusion Matrix:\")\n",
        "print(confusion)\n",
        "print(f\"Overall Fraction of Correct Predictions: {accuracy:.4f}\")"
      ],
      "metadata": {
        "colab": {
          "base_uri": "https://localhost:8080/"
        },
        "id": "GmEt6MxXCc04",
        "outputId": "58769b85-b8ac-427f-936a-57a0d50ecc3b"
      },
      "execution_count": 16,
      "outputs": [
        {
          "output_type": "stream",
          "name": "stdout",
          "text": [
            "Confusion Matrix:\n",
            "Truth       0   1\n",
            "Predicted        \n",
            "0          41   2\n",
            "1           2  59\n",
            "Overall Fraction of Correct Predictions: 0.9615\n"
          ]
        },
        {
          "output_type": "stream",
          "name": "stderr",
          "text": [
            "<ipython-input-16-084f95247d06>:5: SettingWithCopyWarning: \n",
            "A value is trying to be set on a copy of a slice from a DataFrame.\n",
            "Try using .loc[row_indexer,col_indexer] = value instead\n",
            "\n",
            "See the caveats in the documentation: https://pandas.pydata.org/pandas-docs/stable/user_guide/indexing.html#returning-a-view-versus-a-copy\n",
            "  X_train_qda['Lag1_Lag2_interaction'] = train_data['Lag1'] * train_data['Lag2']\n",
            "<ipython-input-16-084f95247d06>:8: SettingWithCopyWarning: \n",
            "A value is trying to be set on a copy of a slice from a DataFrame.\n",
            "Try using .loc[row_indexer,col_indexer] = value instead\n",
            "\n",
            "See the caveats in the documentation: https://pandas.pydata.org/pandas-docs/stable/user_guide/indexing.html#returning-a-view-versus-a-copy\n",
            "  X_test_qda['Lag1_Lag2_interaction'] = test_data['Lag1'] * test_data['Lag2']\n"
          ]
        }
      ]
    },
    {
      "cell_type": "markdown",
      "source": [
        "K-Nearest Neighbors (KNN):\n",
        "\n",
        "The accuracy of k=1 is 0.4904 according to part g. After testing for k=3,5,7, when k=3 it provide highest accuracy of 0.9135."
      ],
      "metadata": {
        "id": "IZeY9p2ZCg_t"
      }
    },
    {
      "cell_type": "code",
      "source": [
        "from sklearn.neighbors import KNeighborsClassifier\n",
        "\n",
        "# Fit the KNN model with K=5 using only \"Lag2\" as the predictor\n",
        "model = KNeighborsClassifier(n_neighbors=5)\n",
        "model.fit(X_train, y_train)\n",
        "\n",
        "# Predict using the test data\n",
        "knn_pred = model.predict(X_test)\n",
        "\n",
        "# Compute the confusion matrix\n",
        "confusion = confusion_table(knn_pred, y_test)\n",
        "\n",
        "# Compute the overall fraction of correct predictions (accuracy)\n",
        "accuracy = accuracy_score(y_test, knn_pred)\n",
        "\n",
        "print(\"Confusion Matrix:\")\n",
        "print(confusion)\n",
        "print(f\"Overall Fraction of Correct Predictions: {accuracy:.4f}\")"
      ],
      "metadata": {
        "colab": {
          "base_uri": "https://localhost:8080/"
        },
        "id": "rwELYWTcCii3",
        "outputId": "34ccc60f-7bcf-4cf8-ac0d-b131da07a8ab"
      },
      "execution_count": 19,
      "outputs": [
        {
          "output_type": "stream",
          "name": "stdout",
          "text": [
            "Confusion Matrix:\n",
            "Truth       0   1\n",
            "Predicted        \n",
            "0          37   3\n",
            "1           6  58\n",
            "Overall Fraction of Correct Predictions: 0.9135\n"
          ]
        }
      ]
    },
    {
      "cell_type": "markdown",
      "source": [
        "Naive Bayes:\n",
        "\n",
        "The original accuracy in part h is 0.5865, after trying to add Today or both Today and the interaction term (Lag1 * Lag2) as predictors, both of their accuracy increases. Adding Today as predictors, the accuracy change to 0.9615, and if also adding the lag1_lag2 interaction term, the accracy further improve to 0.9904.\n"
      ],
      "metadata": {
        "id": "gAolrOknDovx"
      }
    },
    {
      "cell_type": "code",
      "source": [
        "from sklearn.naive_bayes import GaussianNB\n",
        "\n",
        "# Try using Today and Lag2 as predictors\n",
        "X_train_gnb = train_data[['Today', 'Lag2']]\n",
        "X_test_gnb = test_data[['Today', 'Lag2']]\n",
        "\n",
        "# Fit the Naive Bayes model using Gaussian Naive Bayes with only \"Lag2\" as the predictor\n",
        "model = GaussianNB()\n",
        "model.fit(X_train_gnb, y_train)\n",
        "\n",
        "# Predict using the test data\n",
        "gnb_pred = model.predict(X_test_gnb)\n",
        "\n",
        "# Compute the confusion matrix\n",
        "confusion = confusion_table(gnb_pred, y_test)\n",
        "\n",
        "# Compute the overall fraction of correct predictions (accuracy)\n",
        "accuracy = accuracy_score(y_test, gnb_pred)\n",
        "\n",
        "print(\"Confusion Matrix:\")\n",
        "print(confusion)\n",
        "print(f\"Overall Fraction of Correct Predictions: {accuracy:.4f}\")"
      ],
      "metadata": {
        "colab": {
          "base_uri": "https://localhost:8080/"
        },
        "id": "akMhy3ATDtmJ",
        "outputId": "b881f70f-306f-4160-dc00-e72e941f4ffc"
      },
      "execution_count": 20,
      "outputs": [
        {
          "output_type": "stream",
          "name": "stdout",
          "text": [
            "Confusion Matrix:\n",
            "Truth       0   1\n",
            "Predicted        \n",
            "0          39   0\n",
            "1           4  61\n",
            "Overall Fraction of Correct Predictions: 0.9615\n"
          ]
        }
      ]
    },
    {
      "cell_type": "code",
      "source": [
        "from sklearn.naive_bayes import GaussianNB\n",
        "\n",
        "# Add Today and the interaction term (Lag1 * Lag2) as predictors\n",
        "X_train_gnb = train_data[['Today', 'Lag2']]\n",
        "X_train_gnb['Lag1_Lag2_interaction'] = train_data['Lag1'] * train_data['Lag2']\n",
        "\n",
        "X_test_gnb = test_data[['Today', 'Lag2']]\n",
        "X_test_gnb['Lag1_Lag2_interaction'] = test_data['Lag1'] * test_data['Lag2']\n",
        "# Fit the Naive Bayes model using Gaussian Naive Bayes with only \"Lag2\" as the predictor\n",
        "model = GaussianNB()\n",
        "model.fit(X_train_gnb, y_train)\n",
        "\n",
        "# Predict using the test data\n",
        "gnb_pred = model.predict(X_test_gnb)\n",
        "\n",
        "# Compute the confusion matrix\n",
        "confusion = confusion_table(gnb_pred, y_test)\n",
        "\n",
        "# Compute the overall fraction of correct predictions (accuracy)\n",
        "accuracy = accuracy_score(y_test, gnb_pred)\n",
        "\n",
        "print(\"Confusion Matrix:\")\n",
        "print(confusion)\n",
        "print(f\"Overall Fraction of Correct Predictions: {accuracy:.4f}\")"
      ],
      "metadata": {
        "colab": {
          "base_uri": "https://localhost:8080/"
        },
        "id": "tk-hKth1D1lW",
        "outputId": "586297c3-7f74-4f76-ec9e-2b428688f012"
      },
      "execution_count": 21,
      "outputs": [
        {
          "output_type": "stream",
          "name": "stdout",
          "text": [
            "Confusion Matrix:\n",
            "Truth       0   1\n",
            "Predicted        \n",
            "0          42   0\n",
            "1           1  61\n",
            "Overall Fraction of Correct Predictions: 0.9904\n"
          ]
        },
        {
          "output_type": "stream",
          "name": "stderr",
          "text": [
            "<ipython-input-21-d3afedc95ba4>:5: SettingWithCopyWarning: \n",
            "A value is trying to be set on a copy of a slice from a DataFrame.\n",
            "Try using .loc[row_indexer,col_indexer] = value instead\n",
            "\n",
            "See the caveats in the documentation: https://pandas.pydata.org/pandas-docs/stable/user_guide/indexing.html#returning-a-view-versus-a-copy\n",
            "  X_train_gnb['Lag1_Lag2_interaction'] = train_data['Lag1'] * train_data['Lag2']\n",
            "<ipython-input-21-d3afedc95ba4>:8: SettingWithCopyWarning: \n",
            "A value is trying to be set on a copy of a slice from a DataFrame.\n",
            "Try using .loc[row_indexer,col_indexer] = value instead\n",
            "\n",
            "See the caveats in the documentation: https://pandas.pydata.org/pandas-docs/stable/user_guide/indexing.html#returning-a-view-versus-a-copy\n",
            "  X_test_gnb['Lag1_Lag2_interaction'] = test_data['Lag1'] * test_data['Lag2']\n"
          ]
        }
      ]
    },
    {
      "cell_type": "markdown",
      "source": [
        "Conclusion:\n",
        "\n",
        "After experimenting with different methods and according to the result, whether add Today or both today and the interaction term (Lag1 * Lag2) as predictors, it increases the accuracy of the model to 1.0000. In this case, as both combinations of predictors can max out the accuracy, to judge which appears to provide the best results on the held out data, we can consider the model's simplicity. A more simple but more accurate model is better, therefore the logistic regression model with predictors Today and lag2 appear to provide the best results on the held out data under the overall consideration."
      ],
      "metadata": {
        "id": "jbquEIA7D5T_"
      }
    },
    {
      "cell_type": "code",
      "source": [],
      "metadata": {
        "id": "8R7hESZrD--Y"
      },
      "execution_count": null,
      "outputs": []
    }
  ]
}