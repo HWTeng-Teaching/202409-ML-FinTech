{
  "nbformat": 4,
  "nbformat_minor": 0,
  "metadata": {
    "colab": {
      "provenance": []
    },
    "kernelspec": {
      "name": "python3",
      "display_name": "Python 3"
    },
    "language_info": {
      "name": "python"
    }
  },
  "cells": [
    {
      "cell_type": "markdown",
      "source": [
        "15. This problem involves writing functions.\n",
        "\n",
        "(a) Write a function, Power(), that prints out the result of raising 2\n",
        "to the 3rd power. In other words, your function should compute\n",
        "23 and print out the results.\n",
        "Hint: Recall that x**a raises x to the power a. Use the print()\n",
        "function to display the result."
      ],
      "metadata": {
        "id": "A6u5n-jHXvHW"
      }
    },
    {
      "cell_type": "code",
      "source": [
        "def Power():\n",
        "    result = 2 ** 3\n",
        "    print(result)\n",
        "\n",
        "# Call the function to see the output\n",
        "Power()\n"
      ],
      "metadata": {
        "colab": {
          "base_uri": "https://localhost:8080/"
        },
        "id": "ADrEUMDrXxvz",
        "outputId": "d3c89c8c-f593-48f7-fb40-a9537f7a30c7"
      },
      "execution_count": 1,
      "outputs": [
        {
          "output_type": "stream",
          "name": "stdout",
          "text": [
            "8\n"
          ]
        }
      ]
    },
    {
      "cell_type": "markdown",
      "source": [
        "(b) Create a new function, Power2(), that allows you to pass any\n",
        "two numbers, x and a, and prints out the value of x**a. You can\n",
        "do this by beginning your function with the line\n",
        "def Power2(x, a):\n",
        "You should be able to call your function by entering, for instance,\n",
        "Power2(3, 8)\n",
        "on the command line. This should output the value of 38, namely,\n",
        "6, 561."
      ],
      "metadata": {
        "id": "UHP_QEauYkKp"
      }
    },
    {
      "cell_type": "code",
      "source": [
        "def Power2(x, a):\n",
        "    result = x ** a\n",
        "    print(result)\n",
        "\n",
        "# Example call to the function\n",
        "Power2(3, 8)\n"
      ],
      "metadata": {
        "colab": {
          "base_uri": "https://localhost:8080/"
        },
        "id": "_hTG2hDgYVxE",
        "outputId": "9658112e-5eeb-4611-9075-b702760e4ff3"
      },
      "execution_count": 2,
      "outputs": [
        {
          "output_type": "stream",
          "name": "stdout",
          "text": [
            "6561\n"
          ]
        }
      ]
    },
    {
      "cell_type": "markdown",
      "source": [
        "(c) Using the Power2() function that you just wrote, compute 103,\n",
        "817, and 1313."
      ],
      "metadata": {
        "id": "60DHWhzOYlL_"
      }
    },
    {
      "cell_type": "code",
      "source": [
        "# Assuming Power2(x, a) is already defined as in the previous part\n",
        "\n",
        "# Compute 10^3\n",
        "Power2(10, 3)\n",
        "\n",
        "# Compute 8^17\n",
        "Power2(8, 17)\n",
        "\n",
        "# Compute 13^13\n",
        "Power2(13, 13)\n"
      ],
      "metadata": {
        "colab": {
          "base_uri": "https://localhost:8080/"
        },
        "id": "19JEwxZmYjCT",
        "outputId": "3e6a5cc1-4ea3-4278-eaa7-354c23a19a01"
      },
      "execution_count": 3,
      "outputs": [
        {
          "output_type": "stream",
          "name": "stdout",
          "text": [
            "1000\n",
            "2251799813685248\n",
            "302875106592253\n"
          ]
        }
      ]
    },
    {
      "cell_type": "markdown",
      "source": [
        "(d) Now create a new function, Power3(), that actually returns the\n",
        "result x**a as a Python object, rather than simply printing it\n",
        "to the screen. That is, if you store the value x**a in an object\n",
        "called result within your function, then you can simply return this result, using the following line:\n",
        "\n",
        "return result\n",
        "\n",
        "Note that the line above should be the last line in your function,\n",
        "and it should be indented 4 spaces."
      ],
      "metadata": {
        "id": "yXgiqaj0Y88J"
      }
    },
    {
      "cell_type": "code",
      "source": [
        "def Power3(x, a):\n",
        "    result = x ** a\n",
        "    return result\n",
        "\n",
        "# Example usage\n",
        "output = Power3(3, 8)\n",
        "print(output)  # This will print 6561, which is 3^8\n"
      ],
      "metadata": {
        "colab": {
          "base_uri": "https://localhost:8080/"
        },
        "id": "3t99T-9OYr7z",
        "outputId": "3bc48846-db5b-4154-82ef-6f39e3d0ab7c"
      },
      "execution_count": 4,
      "outputs": [
        {
          "output_type": "stream",
          "name": "stdout",
          "text": [
            "6561\n"
          ]
        }
      ]
    },
    {
      "cell_type": "markdown",
      "source": [
        "(e) Now using the Power3() function, create a plot of f(x) = x2.\n",
        "The x-axis should display a range of integers from 1 to 10, and\n",
        "the y-axis should display x2. Label the axes appropriately, and\n",
        "use an appropriate title for the figure. Consider displaying either\n",
        "the x-axis, the y-axis, or both on the log-scale. You can do this\n",
        "by using the ax.set_xscale() and ax.set_yscale() methods of the axes you are plotting to."
      ],
      "metadata": {
        "id": "yHxV1GQtZJtJ"
      }
    },
    {
      "cell_type": "code",
      "source": [
        "import matplotlib.pyplot as plt\n",
        "\n",
        "# Assuming Power3(x, a) is defined as above\n",
        "\n",
        "# Define x values from 1 to 10\n",
        "x_values = list(range(1, 11))\n",
        "\n",
        "# Calculate y values using Power3() function\n",
        "y_values = [Power3(x, 2) for x in x_values]\n",
        "\n",
        "# Create the plot\n",
        "fig, ax = plt.subplots()\n",
        "ax.plot(x_values, y_values, marker='o')\n",
        "\n",
        "# Set axis labels and title\n",
        "ax.set_xlabel(\"x (1 to 10)\")\n",
        "ax.set_ylabel(\"f(x) = x^2\")\n",
        "ax.set_title(\"Plot of f(x) = x^2\")\n",
        "\n",
        "# Set y-axis to log scale\n",
        "ax.set_yscale('log')\n",
        "\n",
        "# Show the plot\n",
        "plt.show()\n"
      ],
      "metadata": {
        "colab": {
          "base_uri": "https://localhost:8080/",
          "height": 472
        },
        "id": "5cFi3Td-Y_N7",
        "outputId": "40685efe-6b4b-4eb4-d395-19bf09d22160"
      },
      "execution_count": 5,
      "outputs": [
        {
          "output_type": "display_data",
          "data": {
            "text/plain": [
              "<Figure size 640x480 with 1 Axes>"
            ],
            "image/png": "[encoded data removed]"
          },
          "metadata": {}
        }
      ]
    },
    {
      "cell_type": "markdown",
      "source": [
        "(f) Create a function, PlotPower(), that allows you to create a plot\n",
        "of x against x**a for a fixed a and a sequence of values of x. For\n",
        "instance, if you call\n",
        "\n",
        "PlotPower(np.arange(1, 11), 3)\n",
        "\n",
        "then a plot should be created with an x-axis taking on values\n",
        "1, 2, . . . , 10, and a y-axis taking on values 13, 23, . . . , 103."
      ],
      "metadata": {
        "id": "UwR6NNdDZUA7"
      }
    },
    {
      "cell_type": "code",
      "source": [
        "import matplotlib.pyplot as plt\n",
        "import numpy as np\n",
        "\n",
        "# Assuming Power3(x, a) is defined as above\n",
        "\n",
        "def PlotPower(x_values, a):\n",
        "    # Calculate y values using Power3() for each x in x_values\n",
        "    y_values = [Power3(x, a) for x in x_values]\n",
        "\n",
        "    # Create the plot\n",
        "    fig, ax = plt.subplots()\n",
        "    ax.plot(x_values, y_values, marker='o')\n",
        "\n",
        "    # Set axis labels and title\n",
        "    ax.set_xlabel(\"x values\")\n",
        "    ax.set_ylabel(f\"x^{a}\")\n",
        "    ax.set_title(f\"Plot of x against x^{a}\")\n",
        "\n",
        "    # Show the plot\n",
        "    plt.show()\n",
        "\n",
        "# Example call to PlotPower\n",
        "PlotPower(np.arange(1, 11), 3)\n"
      ],
      "metadata": {
        "colab": {
          "base_uri": "https://localhost:8080/",
          "height": 472
        },
        "id": "RLFflDMnZLvr",
        "outputId": "4c415679-91f0-4e11-b6b4-79b1ffeee84a"
      },
      "execution_count": 6,
      "outputs": [
        {
          "output_type": "display_data",
          "data": {
            "text/plain": [
              "<Figure size 640x480 with 1 Axes>"
            ],
            "image/png": "[encoded data removed]"
          },
          "metadata": {}
        }
      ]
    },
    {
      "cell_type": "code",
      "source": [],
      "metadata": {
        "id": "MH1GvQhYZbHL"
      },
      "execution_count": null,
      "outputs": []
    }
  ]
}