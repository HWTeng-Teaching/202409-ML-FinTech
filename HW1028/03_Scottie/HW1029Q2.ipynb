{
 "cells": [
  {
   "cell_type": "markdown",
   "id": "00964bcb",
   "metadata": {},
   "source": [
    "It was stated in the text that classifying an observation to the class for which (4.17) is largest is equivalent to classifying an observation to the class for which (4.18) is largest. Prove that this is the case. In other words, under the assumption that the observations in the kth class are drawn from a N(µk, σ2) distribution, the Bayes classifer assigns an observation to the class for which the discriminant function is maximized."
   ]
  },
  {
   "cell_type": "markdown",
   "id": "39082466",
   "metadata": {},
   "source": [
    "\\begin{align*}\n",
    "p_k(x) &= \\frac{\\pi_k \\cdot \\frac{1}{\\sqrt{2 \\pi \\sigma^2}} \\exp \\left( -\\frac{1}{2 \\sigma^2} (x - \\mu_k)^2 \\right)}{\\sum_{l=1}^K \\pi_l \\cdot \\frac{1}{\\sqrt{2 \\pi \\sigma^2}} \\exp \\left( -\\frac{1}{2 \\sigma^2} (x - \\mu_l)^2 \\right)} \\\\[10pt]\n",
    "&\\text{Find } k \\text{ to Maximum} \\\\[10pt]\n",
    "\\pi_k \\cdot \\frac{1}{\\sqrt{2 \\pi \\sigma^2}} \\exp \\left( -\\frac{1}{2 \\sigma^2} (x - \\mu_k)^2 \\right) \\\\[10pt]\n",
    "&\\text{Taking the Logarithm} \\\\[10pt]\n",
    "\\ln \\left( \\pi_k \\cdot \\frac{1}{\\sqrt{2 \\pi \\sigma^2}} \\exp \\left( -\\frac{1}{2 \\sigma^2} (x - \\mu_k)^2 \\right) \\right) &= \\ln(\\pi_k) - \\frac{1}{2 \\sigma^2} (x - \\mu_k)^2 - \\ln(\\sqrt{2 \\pi \\sigma^2}) \\\\[10pt]\n",
    "&\\text{Ignoring Constant Terms, find } k \\text{ to Maximum} \\\\[10pt]\n",
    "\\ln(\\pi_k) - \\frac{1}{2 \\sigma^2} (x - \\mu_k)^2 \\\\[10pt]\n",
    "&\\text{Expanding the Squared Term} \\\\[10pt]\n",
    "\\ln(\\pi_k) - \\frac{1}{2 \\sigma^2} \\left( x^2 - 2x\\mu_k + \\mu_k^2 \\right) &= -\\frac{x^2}{2 \\sigma^2} + \\frac{x \\mu_k}{\\sigma^2} - \\frac{\\mu_k^2}{2 \\sigma^2} + \\ln(\\pi_k) \\\\[10pt]\n",
    "&\\text{Obtaining the Discriminant Function} \\\\[10pt]\n",
    "\\delta_k(x) &= x \\cdot \\frac{\\mu_k}{\\sigma^2} - \\frac{\\mu_k^2}{2 \\sigma^2} + \\ln(\\pi_k)\n",
    "\\end{align*}\n"
   ]
  },
  {
   "cell_type": "code",
   "execution_count": null,
   "id": "890f186a",
   "metadata": {},
   "outputs": [],
   "source": []
  }
 ],
 "metadata": {
  "kernelspec": {
   "display_name": "Python 3 (ipykernel)",
   "language": "python",
   "name": "python3"
  },
  "language_info": {
   "codemirror_mode": {
    "name": "ipython",
    "version": 3
   },
   "file_extension": ".py",
   "mimetype": "text/x-python",
   "name": "python",
   "nbconvert_exporter": "python",
   "pygments_lexer": "ipython3",
   "version": "3.9.13"
  }
 },
 "nbformat": 4,
 "nbformat_minor": 5
}
