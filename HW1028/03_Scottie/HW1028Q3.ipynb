{
 "cells": [
  {
   "cell_type": "markdown",
   "id": "163f5d08",
   "metadata": {},
   "source": [
    "6. Suppose we collect data for a group of students in a statistics class with variables X1 = hours studied, X2 = undergrad GPA, and Y = receive an A. We fit a logistic regression and produce estimated coefcient, βˆ0 = −6, βˆ1 = 0.05, βˆ2 = 1."
   ]
  },
  {
   "cell_type": "markdown",
   "id": "6fb92333",
   "metadata": {},
   "source": [
    "(a) Estimate the probability that a student who studies for 40 h and has an undergrad GPA of 3.5 gets an A in the class."
   ]
  },
  {
   "cell_type": "markdown",
   "id": "e95aae5b",
   "metadata": {},
   "source": [
    "\\begin{align*}\n",
    "\\text{logit}(p) &= \\beta_0 + \\beta_1 X_1 + \\beta_2 X_2 \\\\[10pt]\n",
    "p &= \\frac{1}{1 + e^{-(\\beta_0 + \\beta_1 X_1 + \\beta_2 X_2)}} \\\\[10pt]\n",
    "p &= \\frac{1}{1 + e^{-( -6 + 0.05 X_1 + X_2 )}} = \\frac{1}{1 + e^{0.05 X_1 - X_2}} \\\\[10pt]\n",
    "X_1 &= 40 \\\\[10pt]\n",
    "X_2 &= 3.5 \\\\[10pt]\n",
    "p &= \\frac{1}{1 + e^{6 - 0.05(40) - (3.5)}} = 0.37754 \\approx 0.3775\n",
    "\\end{align*}\n"
   ]
  },
  {
   "cell_type": "markdown",
   "id": "02b89dab",
   "metadata": {},
   "source": [
    "(b) How many hours would the student in part (a) need to study to have a 50 % chance of getting an A in the class?"
   ]
  },
  {
   "cell_type": "markdown",
   "id": "89a19921",
   "metadata": {},
   "source": [
    "\\begin{align*}\n",
    "p &= \\frac{1}{1 + e^{6 - 0.05X_1 - X_2}} \\\\[10pt]\n",
    "p &= 0.5 \\\\[10pt]\n",
    "X_2 &= 3.5 \\\\[10pt]\n",
    "0.5 &= \\frac{1}{1 + e^{6 - 0.05X_1 - (3.5)}} \\\\[10pt]\n",
    "1 + e^{6 - 0.05X_1 - (3.5)} &= 2 \\\\[10pt]\n",
    "e^{6 - 0.05X_1 - (3.5)} &= 1 \\\\[10pt]\n",
    "2.5 - 0.05X_1 &= \\ln 1 = 0 \\\\[10pt]\n",
    "2.5 &= 0.05X_1 \\\\[10pt]\n",
    "X_1 &= 50\n",
    "\\end{align*}\n"
   ]
  },
  {
   "cell_type": "code",
   "execution_count": null,
   "id": "5f63688b",
   "metadata": {},
   "outputs": [],
   "source": []
  }
 ],
 "metadata": {
  "kernelspec": {
   "display_name": "Python 3 (ipykernel)",
   "language": "python",
   "name": "python3"
  },
  "language_info": {
   "codemirror_mode": {
    "name": "ipython",
    "version": 3
   },
   "file_extension": ".py",
   "mimetype": "text/x-python",
   "name": "python",
   "nbconvert_exporter": "python",
   "pygments_lexer": "ipython3",
   "version": "3.9.13"
  }
 },
 "nbformat": 4,
 "nbformat_minor": 5
}
