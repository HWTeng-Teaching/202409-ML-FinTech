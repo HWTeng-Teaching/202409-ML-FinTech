{
 "cells": [
  {
   "cell_type": "markdown",
   "metadata": {},
   "source": [
    "## Chapter 4, Question 6"
   ]
  },
  {
   "cell_type": "markdown",
   "metadata": {},
   "source": [
    "### Problem Statement\n",
    "Suppose we collect data for a group of students in a statistics class with variables:\n",
    "\n",
    "- \\( X_1 \\) = hours studied\n",
    "- \\( X_2 \\) = undergrad GPA\n",
    "- \\( Y \\) = receiving an A\n",
    "\n",
    "We fit a logistic regression and produce estimated coefficients:\n",
    "- \\( \\hat{\\beta_0} = -6 \\)\n",
    "- \\( \\hat{\\beta_1} = 0.05 \\)\n",
    "- \\( \\hat{\\beta_2} = 1 \\)\n",
    "\n",
    "### Tasks\n",
    "(a) Estimate the probability that a student who studies for 40 hours and has an undergrad GPA of 3.5 gets an A in the class.\n",
    "\n",
    "(b) How many hours would the student in part (a) need to study to have a 50% chance of getting an A in the class?\n",
    "\n",
    "### Solution\n",
    "\n",
    "#### Part (a): Estimate the Probability\n",
    "The logistic regression model can be expressed as:\n",
    "$$\n",
    "p(Y=1 | X_1, X_2) = \\frac{1}{1 + e^{-(\\hat{\\beta_0} + \\hat{\\beta_1} X_1 + \\hat{\\beta_2} X_2)}}\n",
    "$$\n",
    "Substituting the values:\n",
    "- \\( \\hat{\\beta_0} = -6 \\)\n",
    "- \\( \\hat{\\beta_1} = 0.05 \\)\n",
    "- \\( \\hat{\\beta_2} = 1 \\)\n",
    "- \\( X_1 = 40 \\) (hours studied)\n",
    "- \\( X_2 = 3.5 \\) (undergrad GPA)\n",
    "\n",
    "Calculating gives:\n",
    "$$\n",
    "p(Y=1 | 40, 3.5) \\approx 0.378 \\text{ (or 37.8\\%)}\n",
    "$$\n",
    "\n",
    "#### Part (b): Finding the Required Hours for 50% Probability\n",
    "To find how many hours the student needs to study to have a 50% chance of getting an A, we set:\n",
    "$$\n",
    "p(Y=1 | X_1, X_2) = 0.5\n",
    "$$\n",
    "This leads to:\n",
    "$$\n",
    "0 = \\hat{\\beta_0} + \\hat{\\beta_1} X_1 + \\hat{\\beta_2} X_2\n",
    "$$\n",
    "\n",
    "Solving for \\( X_1 \\) with \\( X_2 = 3.5 \\) gives:\n",
    "$$\n",
    "X_1 \\approx 50 \\text{ hours}\n",
    "$$\n",
    "\n",
    "### Conclusion\n",
    "- The probability of receiving an A with 40 hours studied and a GPA of 3.5 is approximately **37.8%**.\n",
    "- To have a **50% chance** of getting an A, the student would need to study **50 hours**.\n"
   ]
  }
 ],
 "metadata": {
  "kernelspec": {
   "display_name": "base",
   "language": "python",
   "name": "python3"
  },
  "language_info": {
   "name": "python",
   "version": "3.11.4"
  },
  "orig_nbformat": 4
 },
 "nbformat": 4,
 "nbformat_minor": 2
}
