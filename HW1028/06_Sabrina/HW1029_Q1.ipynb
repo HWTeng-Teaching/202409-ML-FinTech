{
 "cells": [
  {
   "cell_type": "markdown",
   "metadata": {},
   "source": [
    " 13. This question should be answered using the Weekly data set, which\n",
    " is part of the ISLP package. This data is similar in nature to the\n",
    " Smarket data from this chapter’s lab, except that it contains 1,089\n",
    " weekly returns for 21 years, from the beginning of 1990 to the end of 2010."
   ]
  },
  {
   "cell_type": "code",
   "execution_count": 4,
   "metadata": {},
   "outputs": [
    {
     "name": "stdout",
     "output_type": "stream",
     "text": [
      "Requirement already satisfied: ISLP in c:\\users\\sabri\\anaconda3\\lib\\site-packages (0.4.0)\n",
      "Requirement already satisfied: numpy>=1.7.1 in c:\\users\\sabri\\anaconda3\\lib\\site-packages (from ISLP) (1.26.4)\n",
      "Requirement already satisfied: scipy>=0.9 in c:\\users\\sabri\\anaconda3\\lib\\site-packages (from ISLP) (1.11.4)\n",
      "Requirement already satisfied: pandas>=0.20 in c:\\users\\sabri\\anaconda3\\lib\\site-packages (from ISLP) (2.2.3)\n",
      "Requirement already satisfied: lxml in c:\\users\\sabri\\anaconda3\\lib\\site-packages (from ISLP) (4.9.2)\n",
      "Requirement already satisfied: scikit-learn>=1.2 in c:\\users\\sabri\\anaconda3\\lib\\site-packages (from ISLP) (1.5.2)\n",
      "Requirement already satisfied: joblib in c:\\users\\sabri\\anaconda3\\lib\\site-packages (from ISLP) (1.2.0)\n",
      "Requirement already satisfied: statsmodels>=0.13 in c:\\users\\sabri\\anaconda3\\lib\\site-packages (from ISLP) (0.14.0)\n",
      "Requirement already satisfied: lifelines in c:\\users\\sabri\\anaconda3\\lib\\site-packages (from ISLP) (0.29.0)\n",
      "Requirement already satisfied: pygam in c:\\users\\sabri\\anaconda3\\lib\\site-packages (from ISLP) (0.9.1)\n",
      "Requirement already satisfied: torch in c:\\users\\sabri\\anaconda3\\lib\\site-packages (from ISLP) (2.1.0)\n",
      "Requirement already satisfied: pytorch-lightning in c:\\users\\sabri\\anaconda3\\lib\\site-packages (from ISLP) (2.4.0)\n",
      "Requirement already satisfied: torchmetrics in c:\\users\\sabri\\anaconda3\\lib\\site-packages (from ISLP) (1.4.2)\n",
      "Requirement already satisfied: python-dateutil>=2.8.2 in c:\\users\\sabri\\anaconda3\\lib\\site-packages (from pandas>=0.20->ISLP) (2.8.2)\n",
      "Requirement already satisfied: pytz>=2020.1 in c:\\users\\sabri\\anaconda3\\lib\\site-packages (from pandas>=0.20->ISLP) (2022.7)\n",
      "Requirement already satisfied: tzdata>=2022.7 in c:\\users\\sabri\\anaconda3\\lib\\site-packages (from pandas>=0.20->ISLP) (2024.1)\n",
      "Requirement already satisfied: threadpoolctl>=3.1.0 in c:\\users\\sabri\\anaconda3\\lib\\site-packages (from scikit-learn>=1.2->ISLP) (3.5.0)\n",
      "Requirement already satisfied: patsy>=0.5.2 in c:\\users\\sabri\\anaconda3\\lib\\site-packages (from statsmodels>=0.13->ISLP) (0.5.3)\n",
      "Requirement already satisfied: packaging>=21.3 in c:\\users\\sabri\\anaconda3\\lib\\site-packages (from statsmodels>=0.13->ISLP) (23.0)\n",
      "Requirement already satisfied: matplotlib>=3.0 in c:\\users\\sabri\\anaconda3\\lib\\site-packages (from lifelines->ISLP) (3.7.1)\n",
      "Requirement already satisfied: autograd>=1.5 in c:\\users\\sabri\\anaconda3\\lib\\site-packages (from lifelines->ISLP) (1.7.0)\n",
      "Requirement already satisfied: autograd-gamma>=0.3 in c:\\users\\sabri\\anaconda3\\lib\\site-packages (from lifelines->ISLP) (0.5.0)\n",
      "Requirement already satisfied: formulaic>=0.2.2 in c:\\users\\sabri\\anaconda3\\lib\\site-packages (from lifelines->ISLP) (1.0.2)\n",
      "Requirement already satisfied: progressbar2<5.0.0,>=4.2.0 in c:\\users\\sabri\\anaconda3\\lib\\site-packages (from pygam->ISLP) (4.5.0)\n",
      "Requirement already satisfied: tqdm>=4.57.0 in c:\\users\\sabri\\anaconda3\\lib\\site-packages (from pytorch-lightning->ISLP) (4.65.0)\n",
      "Requirement already satisfied: PyYAML>=5.4 in c:\\users\\sabri\\anaconda3\\lib\\site-packages (from pytorch-lightning->ISLP) (6.0)\n",
      "Requirement already satisfied: fsspec[http]>=2022.5.0 in c:\\users\\sabri\\anaconda3\\lib\\site-packages (from pytorch-lightning->ISLP) (2023.3.0)\n",
      "Requirement already satisfied: typing-extensions>=4.4.0 in c:\\users\\sabri\\anaconda3\\lib\\site-packages (from pytorch-lightning->ISLP) (4.7.1)\n",
      "Requirement already satisfied: lightning-utilities>=0.10.0 in c:\\users\\sabri\\anaconda3\\lib\\site-packages (from pytorch-lightning->ISLP) (0.11.7)\n",
      "Requirement already satisfied: filelock in c:\\users\\sabri\\anaconda3\\lib\\site-packages (from torch->ISLP) (3.9.0)\n",
      "Requirement already satisfied: sympy in c:\\users\\sabri\\anaconda3\\lib\\site-packages (from torch->ISLP) (1.11.1)\n",
      "Requirement already satisfied: networkx in c:\\users\\sabri\\anaconda3\\lib\\site-packages (from torch->ISLP) (3.1)\n",
      "Requirement already satisfied: jinja2 in c:\\users\\sabri\\anaconda3\\lib\\site-packages (from torch->ISLP) (3.1.2)\n",
      "Requirement already satisfied: interface-meta>=1.2.0 in c:\\users\\sabri\\anaconda3\\lib\\site-packages (from formulaic>=0.2.2->lifelines->ISLP) (1.3.0)\n",
      "Requirement already satisfied: wrapt>=1.0 in c:\\users\\sabri\\anaconda3\\lib\\site-packages (from formulaic>=0.2.2->lifelines->ISLP) (1.14.1)\n",
      "Requirement already satisfied: requests in c:\\users\\sabri\\anaconda3\\lib\\site-packages (from fsspec[http]>=2022.5.0->pytorch-lightning->ISLP) (2.31.0)\n",
      "Requirement already satisfied: aiohttp!=4.0.0a0,!=4.0.0a1 in c:\\users\\sabri\\anaconda3\\lib\\site-packages (from fsspec[http]>=2022.5.0->pytorch-lightning->ISLP) (3.8.3)\n",
      "Requirement already satisfied: setuptools in c:\\users\\sabri\\anaconda3\\lib\\site-packages (from lightning-utilities>=0.10.0->pytorch-lightning->ISLP) (68.0.0)\n",
      "Requirement already satisfied: contourpy>=1.0.1 in c:\\users\\sabri\\anaconda3\\lib\\site-packages (from matplotlib>=3.0->lifelines->ISLP) (1.0.5)\n",
      "Requirement already satisfied: cycler>=0.10 in c:\\users\\sabri\\anaconda3\\lib\\site-packages (from matplotlib>=3.0->lifelines->ISLP) (0.11.0)\n",
      "Requirement already satisfied: fonttools>=4.22.0 in c:\\users\\sabri\\anaconda3\\lib\\site-packages (from matplotlib>=3.0->lifelines->ISLP) (4.25.0)\n",
      "Requirement already satisfied: kiwisolver>=1.0.1 in c:\\users\\sabri\\anaconda3\\lib\\site-packages (from matplotlib>=3.0->lifelines->ISLP) (1.4.4)\n",
      "Requirement already satisfied: pillow>=6.2.0 in c:\\users\\sabri\\anaconda3\\lib\\site-packages (from matplotlib>=3.0->lifelines->ISLP) (9.4.0)\n",
      "Requirement already satisfied: pyparsing>=2.3.1 in c:\\users\\sabri\\anaconda3\\lib\\site-packages (from matplotlib>=3.0->lifelines->ISLP) (3.0.9)\n",
      "Requirement already satisfied: six in c:\\users\\sabri\\anaconda3\\lib\\site-packages (from patsy>=0.5.2->statsmodels>=0.13->ISLP) (1.16.0)\n",
      "Requirement already satisfied: python-utils>=3.8.1 in c:\\users\\sabri\\anaconda3\\lib\\site-packages (from progressbar2<5.0.0,>=4.2.0->pygam->ISLP) (3.8.2)\n",
      "Requirement already satisfied: colorama in c:\\users\\sabri\\anaconda3\\lib\\site-packages (from tqdm>=4.57.0->pytorch-lightning->ISLP) (0.4.6)\n",
      "Requirement already satisfied: MarkupSafe>=2.0 in c:\\users\\sabri\\anaconda3\\lib\\site-packages (from jinja2->torch->ISLP) (2.1.1)\n",
      "Requirement already satisfied: mpmath>=0.19 in c:\\users\\sabri\\anaconda3\\lib\\site-packages (from sympy->torch->ISLP) (1.3.0)\n",
      "Requirement already satisfied: attrs>=17.3.0 in c:\\users\\sabri\\anaconda3\\lib\\site-packages (from aiohttp!=4.0.0a0,!=4.0.0a1->fsspec[http]>=2022.5.0->pytorch-lightning->ISLP) (22.1.0)\n",
      "Requirement already satisfied: charset-normalizer<3.0,>=2.0 in c:\\users\\sabri\\anaconda3\\lib\\site-packages (from aiohttp!=4.0.0a0,!=4.0.0a1->fsspec[http]>=2022.5.0->pytorch-lightning->ISLP) (2.0.4)\n",
      "Requirement already satisfied: multidict<7.0,>=4.5 in c:\\users\\sabri\\anaconda3\\lib\\site-packages (from aiohttp!=4.0.0a0,!=4.0.0a1->fsspec[http]>=2022.5.0->pytorch-lightning->ISLP) (6.0.2)\n",
      "Requirement already satisfied: async-timeout<5.0,>=4.0.0a3 in c:\\users\\sabri\\anaconda3\\lib\\site-packages (from aiohttp!=4.0.0a0,!=4.0.0a1->fsspec[http]>=2022.5.0->pytorch-lightning->ISLP) (4.0.2)\n",
      "Requirement already satisfied: yarl<2.0,>=1.0 in c:\\users\\sabri\\anaconda3\\lib\\site-packages (from aiohttp!=4.0.0a0,!=4.0.0a1->fsspec[http]>=2022.5.0->pytorch-lightning->ISLP) (1.8.1)\n",
      "Requirement already satisfied: frozenlist>=1.1.1 in c:\\users\\sabri\\anaconda3\\lib\\site-packages (from aiohttp!=4.0.0a0,!=4.0.0a1->fsspec[http]>=2022.5.0->pytorch-lightning->ISLP) (1.3.3)\n",
      "Requirement already satisfied: aiosignal>=1.1.2 in c:\\users\\sabri\\anaconda3\\lib\\site-packages (from aiohttp!=4.0.0a0,!=4.0.0a1->fsspec[http]>=2022.5.0->pytorch-lightning->ISLP) (1.2.0)\n",
      "Requirement already satisfied: idna<4,>=2.5 in c:\\users\\sabri\\anaconda3\\lib\\site-packages (from requests->fsspec[http]>=2022.5.0->pytorch-lightning->ISLP) (3.4)\n",
      "Requirement already satisfied: urllib3<3,>=1.21.1 in c:\\users\\sabri\\anaconda3\\lib\\site-packages (from requests->fsspec[http]>=2022.5.0->pytorch-lightning->ISLP) (1.26.16)\n",
      "Requirement already satisfied: certifi>=2017.4.17 in c:\\users\\sabri\\anaconda3\\lib\\site-packages (from requests->fsspec[http]>=2022.5.0->pytorch-lightning->ISLP) (2023.7.22)\n"
     ]
    }
   ],
   "source": [
    "!pip install ISLP"
   ]
  },
  {
   "cell_type": "code",
   "execution_count": 10,
   "metadata": {},
   "outputs": [],
   "source": [
    "import pandas as pd\n",
    "import matplotlib.pyplot as plt\n",
    "import seaborn as sns\n",
    "from ISLP import load_data\n",
    "from sklearn.linear_model import LogisticRegression\n",
    "from sklearn.discriminant_analysis import LinearDiscriminantAnalysis, QuadraticDiscriminantAnalysis\n",
    "from sklearn.neighbors import KNeighborsClassifier\n",
    "from sklearn.naive_bayes import GaussianNB\n",
    "from sklearn.metrics import confusion_matrix, accuracy_score"
   ]
  },
  {
   "cell_type": "markdown",
   "metadata": {},
   "source": [
    "Last time homework：(d) Nowfitthe logistic regression model using a training data period\n",
    " from 1990 to 2008, with Lag2 as the only predictor. Compute the\n",
    " confusion matrix and the overall fraction of correct predictions\n",
    " for the held out data (that is, the data from 2009 and 2010).\n",
    "\n",
    "  (e) Repeat (d) using LDA"
   ]
  },
  {
   "cell_type": "code",
   "execution_count": 11,
   "metadata": {},
   "outputs": [
    {
     "name": "stdout",
     "output_type": "stream",
     "text": [
      "Confusion Matrix (2009-2010 data):\n",
      "[[ 9 34]\n",
      " [ 5 56]]\n",
      "\n",
      "Overall Fraction of Correct Predictions (Accuracy):\n",
      "0.625\n"
     ]
    }
   ],
   "source": [
    "weekly = load_data('Weekly')\n",
    "\n",
    "# Encode 'Direction' as a binary variable (1 for 'Up', 0 for 'Down')\n",
    "weekly['Direction'] = weekly['Direction'].apply(lambda x: 1 if x == 'Up' else 0)\n",
    "\n",
    "# Split the data into training (1990-2008) and testing (2009-2010) sets\n",
    "train_data = weekly[weekly['Year'] <= 2008]\n",
    "test_data = weekly[weekly['Year'] >= 2009]\n",
    "\n",
    "# Define predictors and response for training data\n",
    "X_train = train_data[['Lag2']]\n",
    "y_train = train_data['Direction']\n",
    "\n",
    "# Define predictors for test data\n",
    "X_test = test_data[['Lag2']]\n",
    "y_test = test_data['Direction']\n",
    "\n",
    "# Initialize and fit LDA model\n",
    "lda = LinearDiscriminantAnalysis()\n",
    "lda.fit(X_train, y_train)\n",
    "\n",
    "# Predict on test data\n",
    "y_test_pred = lda.predict(X_test)\n",
    "\n",
    "# Compute the confusion matrix\n",
    "conf_matrix = confusion_matrix(y_test, y_test_pred)\n",
    "print(\"Confusion Matrix (2009-2010 data):\")\n",
    "print(conf_matrix)\n",
    "\n",
    "# Calculate the accuracy\n",
    "accuracy = accuracy_score(y_test, y_test_pred)\n",
    "print(\"\\nOverall Fraction of Correct Predictions (Accuracy):\")\n",
    "print(accuracy)"
   ]
  },
  {
   "cell_type": "markdown",
   "metadata": {},
   "source": [
    " (f) Repeat (d) using QDA"
   ]
  },
  {
   "cell_type": "code",
   "execution_count": 12,
   "metadata": {},
   "outputs": [
    {
     "name": "stdout",
     "output_type": "stream",
     "text": [
      "Confusion Matrix (2009-2010 data):\n",
      "[[ 0 43]\n",
      " [ 0 61]]\n",
      "\n",
      "Overall Fraction of Correct Predictions (Accuracy):\n",
      "0.5865384615384616\n"
     ]
    }
   ],
   "source": [
    "\n",
    "weekly = load_data('Weekly')\n",
    "\n",
    "weekly['Direction'] = weekly['Direction'].apply(lambda x: 1 if x == 'Up' else 0)\n",
    "\n",
    "# Split the data into training (1990-2008) and testing (2009-2010) sets\n",
    "train_data = weekly[weekly['Year'] <= 2008]\n",
    "test_data = weekly[weekly['Year'] >= 2009]\n",
    "\n",
    "# Define predictors and response for training data\n",
    "X_train = train_data[['Lag2']]\n",
    "y_train = train_data['Direction']\n",
    "\n",
    "# Define predictors for test data\n",
    "X_test = test_data[['Lag2']]\n",
    "y_test = test_data['Direction']\n",
    "\n",
    "# Initialize and fit QDA model\n",
    "qda = QuadraticDiscriminantAnalysis()\n",
    "qda.fit(X_train, y_train)\n",
    "\n",
    "# Predict on test data\n",
    "y_test_pred = qda.predict(X_test)\n",
    "\n",
    "# Compute the confusion matrix\n",
    "conf_matrix = confusion_matrix(y_test, y_test_pred)\n",
    "print(\"Confusion Matrix (2009-2010 data):\")\n",
    "print(conf_matrix)\n",
    "\n",
    "# Calculate the accuracy\n",
    "accuracy = accuracy_score(y_test, y_test_pred)\n",
    "print(\"\\nOverall Fraction of Correct Predictions (Accuracy):\")\n",
    "print(accuracy)"
   ]
  },
  {
   "cell_type": "markdown",
   "metadata": {},
   "source": [
    " (g) Repeat (d) using KNN with K =1."
   ]
  },
  {
   "cell_type": "code",
   "execution_count": 13,
   "metadata": {},
   "outputs": [
    {
     "name": "stdout",
     "output_type": "stream",
     "text": [
      "Confusion Matrix (2009-2010 data):\n",
      "[[22 21]\n",
      " [31 30]]\n",
      "\n",
      "Overall Fraction of Correct Predictions (Accuracy):\n",
      "0.5\n"
     ]
    }
   ],
   "source": [
    "# Initialize and fit KNN model with K=1\n",
    "knn = KNeighborsClassifier(n_neighbors=1)\n",
    "knn.fit(X_train, y_train)\n",
    "\n",
    "# Predict on test data\n",
    "y_test_pred = knn.predict(X_test)\n",
    "\n",
    "# Compute the confusion matrix\n",
    "conf_matrix = confusion_matrix(y_test, y_test_pred)\n",
    "print(\"Confusion Matrix (2009-2010 data):\")\n",
    "print(conf_matrix)\n",
    "\n",
    "# Calculate the accuracy\n",
    "accuracy = accuracy_score(y_test, y_test_pred)\n",
    "print(\"\\nOverall Fraction of Correct Predictions (Accuracy):\")\n",
    "print(accuracy)"
   ]
  },
  {
   "cell_type": "markdown",
   "metadata": {},
   "source": [
    " (h) Repeat (d) using naive Bayes."
   ]
  },
  {
   "cell_type": "code",
   "execution_count": 14,
   "metadata": {},
   "outputs": [
    {
     "name": "stdout",
     "output_type": "stream",
     "text": [
      "Confusion Matrix (2009-2010 data):\n",
      "[[ 0 43]\n",
      " [ 0 61]]\n",
      "\n",
      "Overall Fraction of Correct Predictions (Accuracy):\n",
      "0.5865384615384616\n"
     ]
    }
   ],
   "source": [
    "# Initialize and fit Naive Bayes model\n",
    "nb = GaussianNB()\n",
    "nb.fit(X_train, y_train)\n",
    "\n",
    "# Predict on test data\n",
    "y_test_pred = nb.predict(X_test)\n",
    "\n",
    "# Compute the confusion matrix\n",
    "conf_matrix = confusion_matrix(y_test, y_test_pred)\n",
    "print(\"Confusion Matrix (2009-2010 data):\")\n",
    "print(conf_matrix)\n",
    "\n",
    "# Calculate the accuracy\n",
    "accuracy = accuracy_score(y_test, y_test_pred)\n",
    "print(\"\\nOverall Fraction of Correct Predictions (Accuracy):\")\n",
    "print(accuracy)"
   ]
  },
  {
   "cell_type": "markdown",
   "metadata": {},
   "source": [
    "(i) Which of these methods appears to provide the best results on\n",
    " this data?"
   ]
  },
  {
   "cell_type": "markdown",
   "metadata": {},
   "source": [
    "The method using LDA scores the highest accuracy which shows it best results on the data."
   ]
  },
  {
   "cell_type": "markdown",
   "metadata": {},
   "source": [
    " (j) Experiment with different combinations of predictors, includ\n",
    "ing possible transformations and interactions, for each of the\n",
    " methods. Report the variables, method, and associated confu\n",
    "sion matrix that appears to provide the best results on the held\n",
    " out data. Note that you should also experiment with values for\n",
    " K in the KNN classifier."
   ]
  },
  {
   "cell_type": "code",
   "execution_count": 15,
   "metadata": {},
   "outputs": [
    {
     "name": "stderr",
     "output_type": "stream",
     "text": [
      "C:\\Users\\sabri\\AppData\\Local\\Temp\\ipykernel_5864\\1693610696.py:11: SettingWithCopyWarning: \n",
      "A value is trying to be set on a copy of a slice from a DataFrame.\n",
      "Try using .loc[row_indexer,col_indexer] = value instead\n",
      "\n",
      "See the caveats in the documentation: https://pandas.pydata.org/pandas-docs/stable/user_guide/indexing.html#returning-a-view-versus-a-copy\n",
      "  train_data['Lag2_squared'] = train_data['Lag2'] ** 2\n",
      "C:\\Users\\sabri\\AppData\\Local\\Temp\\ipykernel_5864\\1693610696.py:12: SettingWithCopyWarning: \n",
      "A value is trying to be set on a copy of a slice from a DataFrame.\n",
      "Try using .loc[row_indexer,col_indexer] = value instead\n",
      "\n",
      "See the caveats in the documentation: https://pandas.pydata.org/pandas-docs/stable/user_guide/indexing.html#returning-a-view-versus-a-copy\n",
      "  train_data['Lag1*Lag2'] = train_data['Lag1'] * train_data['Lag2']\n",
      "C:\\Users\\sabri\\AppData\\Local\\Temp\\ipykernel_5864\\1693610696.py:13: SettingWithCopyWarning: \n",
      "A value is trying to be set on a copy of a slice from a DataFrame.\n",
      "Try using .loc[row_indexer,col_indexer] = value instead\n",
      "\n",
      "See the caveats in the documentation: https://pandas.pydata.org/pandas-docs/stable/user_guide/indexing.html#returning-a-view-versus-a-copy\n",
      "  test_data['Lag2_squared'] = test_data['Lag2'] ** 2\n",
      "C:\\Users\\sabri\\AppData\\Local\\Temp\\ipykernel_5864\\1693610696.py:14: SettingWithCopyWarning: \n",
      "A value is trying to be set on a copy of a slice from a DataFrame.\n",
      "Try using .loc[row_indexer,col_indexer] = value instead\n",
      "\n",
      "See the caveats in the documentation: https://pandas.pydata.org/pandas-docs/stable/user_guide/indexing.html#returning-a-view-versus-a-copy\n",
      "  test_data['Lag1*Lag2'] = test_data['Lag1'] * test_data['Lag2']\n"
     ]
    },
    {
     "name": "stdout",
     "output_type": "stream",
     "text": [
      "Best Method: LogisticRegression\n",
      "Feature Set: Lag2\n",
      "Confusion Matrix:\n",
      "[[ 9 34]\n",
      " [ 5 56]]\n",
      "\n",
      "Overall Fraction of Correct Predictions (Accuracy): 0.625\n"
     ]
    }
   ],
   "source": [
    "# Define different feature sets\n",
    "feature_sets = {\n",
    "    'Lag2': ['Lag2'],\n",
    "    'Lag1_Lag2': ['Lag1', 'Lag2'],\n",
    "    'Lag1_Lag2_Lag3': ['Lag1', 'Lag2', 'Lag3'],\n",
    "    'Lag2_Lag2Squared': ['Lag2', 'Lag2_squared'],\n",
    "    'Lag1_Lag2_Interaction': ['Lag1', 'Lag2', 'Lag1*Lag2']\n",
    "}\n",
    "\n",
    "# Add interaction and polynomial terms\n",
    "train_data['Lag2_squared'] = train_data['Lag2'] ** 2\n",
    "train_data['Lag1*Lag2'] = train_data['Lag1'] * train_data['Lag2']\n",
    "test_data['Lag2_squared'] = test_data['Lag2'] ** 2\n",
    "test_data['Lag1*Lag2'] = test_data['Lag1'] * test_data['Lag2']\n",
    "\n",
    "# Store best results\n",
    "best_accuracy = 0\n",
    "best_model = None\n",
    "best_conf_matrix = None\n",
    "best_feature_set = None\n",
    "best_method = None\n",
    "\n",
    "# Define models to test\n",
    "models = {\n",
    "    'LogisticRegression': LogisticRegression(),\n",
    "    'LDA': LinearDiscriminantAnalysis(),\n",
    "    'QDA': QuadraticDiscriminantAnalysis(),\n",
    "    'KNN': lambda k: KNeighborsClassifier(n_neighbors=k),\n",
    "    'NaiveBayes': GaussianNB()\n",
    "}\n",
    "\n",
    "# Iterate over feature sets and models\n",
    "for feature_name, features in feature_sets.items():\n",
    "    X_train = train_data[features]\n",
    "    y_train = train_data['Direction']\n",
    "    X_test = test_data[features]\n",
    "    y_test = test_data['Direction']\n",
    "    \n",
    "    for model_name, model in models.items():\n",
    "        if model_name == 'KNN':\n",
    "            for k in [1, 3, 5, 10]:  # Test different values of K\n",
    "                knn_model = model(k)\n",
    "                knn_model.fit(X_train, y_train)\n",
    "                y_pred = knn_model.predict(X_test)\n",
    "                accuracy = accuracy_score(y_test, y_pred)\n",
    "                \n",
    "                if accuracy > best_accuracy:\n",
    "                    best_accuracy = accuracy\n",
    "                    best_model = knn_model\n",
    "                    best_conf_matrix = confusion_matrix(y_test, y_pred)\n",
    "                    best_feature_set = feature_name\n",
    "                    best_method = f\"{model_name} with K={k}\"\n",
    "        else:\n",
    "            model.fit(X_train, y_train)\n",
    "            y_pred = model.predict(X_test)\n",
    "            accuracy = accuracy_score(y_test, y_pred)\n",
    "            \n",
    "            if accuracy > best_accuracy:\n",
    "                best_accuracy = accuracy\n",
    "                best_model = model\n",
    "                best_conf_matrix = confusion_matrix(y_test, y_pred)\n",
    "                best_feature_set = feature_name\n",
    "                best_method = model_name\n",
    "\n",
    "# Display best results\n",
    "print(f\"Best Method: {best_method}\")\n",
    "print(f\"Feature Set: {best_feature_set}\")\n",
    "print(\"Confusion Matrix:\")\n",
    "print(best_conf_matrix)\n",
    "print(f\"\\nOverall Fraction of Correct Predictions (Accuracy): {best_accuracy}\")"
   ]
  }
 ],
 "metadata": {
  "kernelspec": {
   "display_name": "base",
   "language": "python",
   "name": "python3"
  },
  "language_info": {
   "codemirror_mode": {
    "name": "ipython",
    "version": 3
   },
   "file_extension": ".py",
   "mimetype": "text/x-python",
   "name": "python",
   "nbconvert_exporter": "python",
   "pygments_lexer": "ipython3",
   "version": "3.11.4"
  }
 },
 "nbformat": 4,
 "nbformat_minor": 2
}
