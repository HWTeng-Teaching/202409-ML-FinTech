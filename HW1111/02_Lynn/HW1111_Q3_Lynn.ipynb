{
  "nbformat": 4,
  "nbformat_minor": 0,
  "metadata": {
    "colab": {
      "provenance": []
    },
    "kernelspec": {
      "name": "python3",
      "display_name": "Python 3"
    },
    "language_info": {
      "name": "python"
    }
  },
  "cells": [
    {
      "cell_type": "markdown",
      "source": [
        "## Chapter 6, Question 8"
      ],
      "metadata": {
        "id": "wdJ0bFZkcT6t"
      }
    },
    {
      "cell_type": "markdown",
      "source": [
        "### In this exercise, we will generate simulated data, and will then use this data to perform forward and backward stepwise selection."
      ],
      "metadata": {
        "id": "qStZZFakcZHc"
      }
    },
    {
      "cell_type": "markdown",
      "source": [
        "### (a) Create a random number generator and use its normal() method to generate a predictor X of length n = 100, as well as a noise vector \" of length n = 100."
      ],
      "metadata": {
        "id": "lFCpWRxPeKug"
      }
    },
    {
      "cell_type": "code",
      "execution_count": 2,
      "metadata": {
        "colab": {
          "base_uri": "https://localhost:8080/"
        },
        "id": "m692jFrncPiI",
        "outputId": "5043f7d6-0bc1-40d4-87c4-708480c94069"
      },
      "outputs": [
        {
          "output_type": "stream",
          "name": "stdout",
          "text": [
            "Predictor X: [ 1.76405235  0.40015721  0.97873798  2.2408932   1.86755799 -0.97727788\n",
            "  0.95008842 -0.15135721 -0.10321885  0.4105985   0.14404357  1.45427351\n",
            "  0.76103773  0.12167502  0.44386323  0.33367433  1.49407907 -0.20515826\n",
            "  0.3130677  -0.85409574 -2.55298982  0.6536186   0.8644362  -0.74216502\n",
            "  2.26975462 -1.45436567  0.04575852 -0.18718385  1.53277921  1.46935877\n",
            "  0.15494743  0.37816252 -0.88778575 -1.98079647 -0.34791215  0.15634897\n",
            "  1.23029068  1.20237985 -0.38732682 -0.30230275 -1.04855297 -1.42001794\n",
            " -1.70627019  1.9507754  -0.50965218 -0.4380743  -1.25279536  0.77749036\n",
            " -1.61389785 -0.21274028 -0.89546656  0.3869025  -0.51080514 -1.18063218\n",
            " -0.02818223  0.42833187  0.06651722  0.3024719  -0.63432209 -0.36274117\n",
            " -0.67246045 -0.35955316 -0.81314628 -1.7262826   0.17742614 -0.40178094\n",
            " -1.63019835  0.46278226 -0.90729836  0.0519454   0.72909056  0.12898291\n",
            "  1.13940068 -1.23482582  0.40234164 -0.68481009 -0.87079715 -0.57884966\n",
            " -0.31155253  0.05616534 -1.16514984  0.90082649  0.46566244 -1.53624369\n",
            "  1.48825219  1.89588918  1.17877957 -0.17992484 -1.07075262  1.05445173\n",
            " -0.40317695  1.22244507  0.20827498  0.97663904  0.3563664   0.70657317\n",
            "  0.01050002  1.78587049  0.12691209  0.40198936]\n",
            "Noise vector: [ 1.8831507  -1.34775906 -1.270485    0.96939671 -1.17312341  1.94362119\n",
            " -0.41361898 -0.74745481  1.92294203  1.48051479  1.86755896  0.90604466\n",
            " -0.86122569  1.91006495 -0.26800337  0.8024564   0.94725197 -0.15501009\n",
            "  0.61407937  0.92220667  0.37642553 -1.09940079  0.29823817  1.3263859\n",
            " -0.69456786 -0.14963454 -0.43515355  1.84926373  0.67229476  0.40746184\n",
            " -0.76991607  0.53924919 -0.67433266  0.03183056 -0.63584608  0.67643329\n",
            "  0.57659082 -0.20829876  0.39600671 -1.09306151 -1.49125759  0.4393917\n",
            "  0.1666735   0.63503144  2.38314477  0.94447949 -0.91282223  1.11701629\n",
            " -1.31590741 -0.4615846  -0.06824161  1.71334272 -0.74475482 -0.82643854\n",
            " -0.09845252 -0.66347829  1.12663592 -1.07993151 -1.14746865 -0.43782004\n",
            " -0.49803245  1.92953205  0.94942081  0.08755124 -1.22543552  0.84436298\n",
            " -1.00021535 -1.5447711   1.18802979  0.31694261  0.92085882  0.31872765\n",
            "  0.85683061 -0.65102559 -1.03424284  0.68159452 -0.80340966 -0.68954978\n",
            " -0.4555325   0.01747916 -0.35399391 -1.37495129 -0.6436184  -2.22340315\n",
            "  0.62523145 -1.60205766 -1.10438334  0.05216508 -0.739563    1.5430146\n",
            " -1.29285691  0.26705087 -0.03928282 -1.1680935   0.52327666 -0.17154633\n",
            "  0.77179055  0.82350415  2.16323595  1.33652795]\n"
          ]
        }
      ],
      "source": [
        "import numpy as np\n",
        "\n",
        "# Set the random seed for reproducibility\n",
        "np.random.seed(0)\n",
        "\n",
        "# Generate predictor X and noise vector epsilon\n",
        "n = 100\n",
        "X = np.random.normal(loc=0, scale=1, size=n)\n",
        "epsilon = np.random.normal(loc=0, scale=1, size=n)\n",
        "\n",
        "print(\"Predictor X:\", X)\n",
        "print(\"Noise vector:\", epsilon)"
      ]
    },
    {
      "cell_type": "markdown",
      "source": [
        "### (b) Generate a response vector Y of length n = 100 according to the model\n",
        "### Y = β0 + β1X + β2X2 + β3X3 + \",\n",
        "### where β0, β1, β2, and β3 are constants of your choice."
      ],
      "metadata": {
        "id": "2wyXUA1ieONl"
      }
    },
    {
      "cell_type": "code",
      "source": [
        "# Choose constants for beta coefficients\n",
        "beta0 = 2\n",
        "beta1 = 0.5\n",
        "beta2 = -0.2\n",
        "beta3 = 0.1\n",
        "\n",
        "# Calculate Y based on the model\n",
        "Y = beta0 + beta1 * X + beta2 * X**2 + beta3 * X**3 + epsilon\n",
        "\n",
        "print(\"Response vector Y:\", Y)"
      ],
      "metadata": {
        "colab": {
          "base_uri": "https://localhost:8080/"
        },
        "id": "Ygjnj1iweVFD",
        "outputId": "311f88b2-39bf-4f71-94d7-817167fd0aa6"
      },
      "execution_count": 3,
      "outputs": [
        {
          "output_type": "stream",
          "name": "stdout",
          "text": [
            "Response vector Y: [ 4.69175278  0.82670193  1.12105444  4.21081029  1.71446283  3.17063076\n",
            "  1.96665307  1.17193804  3.8690918   3.65901814  3.93572991  3.51776509\n",
            "  1.44753516  3.96812164  1.92327008  2.95074093  3.58135618  1.73312928\n",
            "  2.75407936  2.28695836 -1.8675975   1.16988877  2.64560128  2.80426249\n",
            "  2.57928126  0.39252227  1.58731652  3.74800839  3.32891495  3.02757497\n",
            "  1.30312791  2.70513706  0.65416972 -0.52045492  1.16177805  2.75010097\n",
            "  3.07523179  2.27757784  2.16652813  0.73474707 -0.35071129  1.03975289\n",
            "  0.23451048  3.59168659  4.06313164  2.67865347 -0.04974491  3.43186183\n",
            " -1.06415611  1.42203074  1.25184913  3.88264694  0.93433021  0.13989948\n",
            "  1.88729528  1.52185254  3.15903906  1.05577388  0.42937453  1.34972015\n",
            "  1.04488785  3.71925153  2.3568405   0.11395849  0.85754008  2.60470106\n",
            " -0.78005667  0.65369784  2.49505462  2.34238966  3.21784598  2.38010637\n",
            "  3.31480503  0.23831694  1.14106528  2.21328131  0.54350275  0.93461666\n",
            "  1.36625415  2.04494864  0.63373861  0.9862653   1.55594201 -1.8260943\n",
            "  3.2560108   1.30846538  1.37089612  1.9551456   0.37299547  3.96510793\n",
            "  0.46649058  2.76207778  2.05708244  1.22261542  2.6805862   2.11716648\n",
            "  2.77701863  3.64814636  4.22367507  3.51169951]\n"
          ]
        }
      ]
    },
    {
      "cell_type": "markdown",
      "source": [
        "### (c) Use forward stepwise selection in order to select a model containing the predictors X, X2,...,X10. What is the model obtained according to Cp? Report the coeffcients of the model obtained."
      ],
      "metadata": {
        "id": "G-KsQ0tUeVfZ"
      }
    },
    {
      "cell_type": "code",
      "source": [
        "from sklearn.linear_model import LinearRegression\n",
        "from sklearn.feature_selection import SequentialFeatureSelector\n",
        "\n",
        "X_poly = np.column_stack([X**i for i in range(1, 11)])\n",
        "\n",
        "model = LinearRegression()\n",
        "sfs = SequentialFeatureSelector(model, n_features_to_select=\"auto\", direction=\"forward\", scoring=\"neg_mean_squared_error\", cv=5)\n",
        "sfs.fit(X_poly, Y)\n",
        "\n",
        "selected_features_forward = sfs.get_support()\n",
        "\n",
        "model.fit(X_poly[:, selected_features_forward], Y)\n",
        "coefficients = model.coef_\n",
        "intercept = model.intercept_\n",
        "\n",
        "print(\"Selected features (according to Cp):\", selected_features_forward)\n",
        "print(\"Coefficients of the model:\", coefficients)\n",
        "print(\"Intercept:\", intercept)"
      ],
      "metadata": {
        "colab": {
          "base_uri": "https://localhost:8080/"
        },
        "id": "3rg_bP-qeZDs",
        "outputId": "23dd3add-f6d5-4a2f-d61c-340271e92970"
      },
      "execution_count": 19,
      "outputs": [
        {
          "output_type": "stream",
          "name": "stdout",
          "text": [
            "Selected features (according to Cp): [ True  True False  True  True False  True False False False]\n",
            "Coefficients of the model: [-0.0081843  -0.38138341  0.09334592 -0.01230947  0.80499994]\n",
            "Intercept: 2.2420505559121358\n"
          ]
        }
      ]
    },
    {
      "cell_type": "markdown",
      "source": [
        "### (d) Repeat (c), using backwards stepwise selection. How does your answer compare to the results in (c)?"
      ],
      "metadata": {
        "id": "jt60MD0OebZc"
      }
    },
    {
      "cell_type": "code",
      "source": [
        "sfs_backward = SequentialFeatureSelector(model, n_features_to_select=\"auto\", direction=\"backward\", scoring=\"neg_mean_squared_error\", cv=5)\n",
        "sfs_backward.fit(X_poly, Y)\n",
        "\n",
        "selected_features_backward = sfs_backward.get_support()\n",
        "\n",
        "model.fit(X_poly[:, selected_features_backward], Y)\n",
        "coefficients_backward = model.coef_\n",
        "intercept_backward = model.intercept_\n",
        "\n",
        "print(\"Selected features (backward):\", selected_features_backward)\n",
        "print(\"Intercept (backward):\", intercept_backward)\n",
        "print(\"Coefficients (backward):\", coefficients_backward)\n",
        "\n",
        "print(\"\\nTwo methods choose different features for the model.\")"
      ],
      "metadata": {
        "colab": {
          "base_uri": "https://localhost:8080/"
        },
        "id": "xmO3TtRiedF_",
        "outputId": "d6b3d031-d4a3-4ea6-ee2a-20b5cd8b738a"
      },
      "execution_count": 20,
      "outputs": [
        {
          "output_type": "stream",
          "name": "stdout",
          "text": [
            "Selected features (backward): [False False  True  True  True  True False False  True False]\n",
            "Intercept (backward): 2.173770817620606\n",
            "Coefficients (backward): [-3.54062794 -0.25435205  3.12040424  0.06710415  0.06265722]\n",
            "\n",
            "Two methods choose different features for the model.\n"
          ]
        }
      ]
    },
    {
      "cell_type": "markdown",
      "source": [
        "(c) and (d) chose different predictors."
      ],
      "metadata": {
        "id": "69X3EyJVgk99"
      }
    },
    {
      "cell_type": "markdown",
      "source": [
        "###(e) Now fit a lasso model to the simulated data, again using X, X2, ...,X10 as predictors. Use cross-validation to select the optimal value of λ. Create plots of the cross-validation error as a function of λ. Report the resulting coeffcient estimates, and discuss the results obtained."
      ],
      "metadata": {
        "id": "G53R8llMedh2"
      }
    },
    {
      "cell_type": "code",
      "source": [
        "from sklearn.linear_model import LassoCV\n",
        "import matplotlib.pyplot as plt\n",
        "\n",
        "lasso_cv = LassoCV(alphas=np.logspace(-4, 1, 100), cv=5, random_state=0)\n",
        "lasso_cv.fit(X_poly, Y)\n",
        "\n",
        "plt.plot(lasso_cv.alphas_, lasso_cv.mse_path_.mean(axis=1), label=\"Mean Cross-Validation Error\")\n",
        "plt.xscale(\"log\")\n",
        "plt.xlabel(\"λ (alpha)\")\n",
        "plt.ylabel(\"Cross-Validation Error\")\n",
        "plt.title(\"Cross-Validation Error as a Function of λ\")\n",
        "plt.axvline(lasso_cv.alpha_, color=\"red\", linestyle=\"--\", label=f\"Optimal λ: {lasso_cv.alpha_:.4f}\")\n",
        "plt.legend()\n",
        "plt.show()\n",
        "\n",
        "lasso_coefficients = lasso_cv.coef_\n",
        "print(\"Optimal λ (alpha):\", lasso_cv.alpha_)\n",
        "print(\"Lasso Coefficients:\", lasso_coefficients)"
      ],
      "metadata": {
        "colab": {
          "base_uri": "https://localhost:8080/",
          "height": 687
        },
        "id": "vB1cJ72Eeh3-",
        "outputId": "04f79bee-1084-450d-b5cb-86b478efb92e"
      },
      "execution_count": 25,
      "outputs": [
        {
          "output_type": "stream",
          "name": "stderr",
          "text": [
            "/usr/local/lib/python3.10/dist-packages/sklearn/linear_model/_coordinate_descent.py:683: ConvergenceWarning: Objective did not converge. You might want to increase the number of iterations. Duality gap: 7.432245055123545, tolerance: 6.325117892279061\n",
            "  model = cd_fast.enet_coordinate_descent_gram(\n",
            "/usr/local/lib/python3.10/dist-packages/sklearn/linear_model/_coordinate_descent.py:683: ConvergenceWarning: Objective did not converge. You might want to increase the number of iterations. Duality gap: 6.7527122226573795, tolerance: 6.325117892279061\n",
            "  model = cd_fast.enet_coordinate_descent_gram(\n",
            "/usr/local/lib/python3.10/dist-packages/sklearn/linear_model/_coordinate_descent.py:683: ConvergenceWarning: Objective did not converge. You might want to increase the number of iterations. Duality gap: 6.8533085663712825, tolerance: 6.325117892279061\n",
            "  model = cd_fast.enet_coordinate_descent_gram(\n",
            "/usr/local/lib/python3.10/dist-packages/sklearn/linear_model/_coordinate_descent.py:683: ConvergenceWarning: Objective did not converge. You might want to increase the number of iterations. Duality gap: 7.675919965712865, tolerance: 6.325117892279061\n",
            "  model = cd_fast.enet_coordinate_descent_gram(\n"
          ]
        },
        {
          "output_type": "display_data",
          "data": {
            "text/plain": [
              "<Figure size 640x480 with 1 Axes>"
            ],
            "image/png": "[encoded data removed]"
          },
          "metadata": {}
        },
        {
          "output_type": "stream",
          "name": "stdout",
          "text": [
            "Optimal λ (alpha): 0.0093260334688322\n",
            "Lasso Coefficients: [ 0.66373258 -0.21629454 -7.04301712 -0.         27.13440893 -0.\n",
            " 40.94933033  0.         21.80071927  1.02296738]\n"
          ]
        }
      ]
    },
    {
      "cell_type": "markdown",
      "source": [
        "The cross-validation process determined 𝜆 = 0.0093, balancing model complexity and prediction accuracy.\n",
        "\n",
        "Lasso Coefficients: [0.6637, -0.2163, -7.0430, 0, 27.1344, 0, 40.9493, 0, 21.8007, 1.0230]\n",
        "Significant non-zero coefficients correspond to 𝑋1, 𝑋2, 𝑋3, 𝑋5, 𝑋7, 𝑋9 and 𝑋10.\n",
        "Lasso automatically sets some coefficients (e.g., 𝑋4,𝑋6,𝑋8) to zero, effectively performing feature selection.\n"
      ],
      "metadata": {
        "id": "aeGluYTlk7jD"
      }
    },
    {
      "cell_type": "markdown",
      "source": [
        "### (f) Now generate a response vector Y according to the model\n",
        "### Y = β0 + β7X7 + \",\n",
        "### and perform forward stepwise selection and the lasso. Discuss the results obtained."
      ],
      "metadata": {
        "id": "e-mEYC40eiTl"
      }
    },
    {
      "cell_type": "code",
      "source": [
        "beta_0_new = 1\n",
        "beta_7_new = 2\n",
        "Y_new = beta_0_new + beta_7_new * X**7 + epsilon\n",
        "\n",
        "sfs_forward_new = SequentialFeatureSelector(model, n_features_to_select=\"auto\", direction=\"forward\", scoring=\"neg_mean_squared_error\", cv=5)\n",
        "sfs_forward_new.fit(X_poly, Y_new)\n",
        "selected_features_forward_new = sfs_forward_new.get_support()\n",
        "\n",
        "print(\"Selected features (forward selection):\", selected_features_forward_new)\n",
        "\n",
        "lasso_cv_new = LassoCV(alphas=np.logspace(-4, 1, 100), cv=5, random_state=0)\n",
        "lasso_cv_new.fit(X_poly, Y_new)\n",
        "lasso_coefficients_new = lasso_cv_new.coef_\n",
        "\n",
        "print(\"Optimal λ (alpha):\", lasso_cv_new.alpha_)\n",
        "print(\"Lasso Coefficients:\", lasso_coefficients_new)"
      ],
      "metadata": {
        "colab": {
          "base_uri": "https://localhost:8080/"
        },
        "id": "xhrx80zxeqSk",
        "outputId": "0d52c3a9-ac3d-4396-e308-30526dd77780"
      },
      "execution_count": 28,
      "outputs": [
        {
          "output_type": "stream",
          "name": "stdout",
          "text": [
            "Selected features (forward selection): [ True  True False  True  True False  True False False False]\n",
            "Optimal λ (alpha): 0.002915053062825176\n",
            "Lasso Coefficients: [  2.98789048  -1.57310427 -23.87538599   5.94547588  81.94562912\n",
            "  -9.24116012  86.98942299   0.14079529  61.10831886   7.1915981 ]\n"
          ]
        }
      ]
    },
    {
      "cell_type": "markdown",
      "source": [
        "### Forward Stepwise Selection\n",
        "Selected Features: [True, True, False, True, True, False, True, False, False, False]\n",
        "\n",
        "Interpreted Selection:\n",
        "\n",
        "This indicates that the selected features correspond to 𝑋1,𝑋2,𝑋4,𝑋5,𝑋7.\n",
        "Forward Stepwise Selection identified 𝑋7 as important, which aligns with the underlying data generation process.\n",
        "\n",
        "Discussion:\n",
        "\n",
        "Forward selection is greedy and sequential, meaning each step selects the feature that most improves the model.\n",
        "Some irrelevant features (e.g., 𝑋1,𝑋2,𝑋4,𝑋5) might have been included due to noise or slight correlation with 𝑌.\n",
        "It may miss interactions or nonlinear relationships not easily captured in a sequential framework."
      ],
      "metadata": {
        "id": "_tdAz5aK4yOs"
      }
    },
    {
      "cell_type": "markdown",
      "source": [
        "### Lasso Regression\n",
        "Optimal 𝜆 (𝛼): 0.0029\n",
        "\n",
        "Lasso Coefficients:\n",
        "[2.9879, -1.5731, -23.8754, 5.9455, 81.9456, -9.2412, 86.9894, 0.1408, 61.1083, 7.1916]\n",
        "Lasso shrinks some coefficients towards zero while retaining significant terms.\n",
        "\n",
        "Key Observations:\n",
        "\n",
        "𝑋7, the feature used in the true model, has the largest coefficient (86.9894), correctly capturing its importance.\n",
        "Other non-zero coefficients (e.g., 𝑋4,𝑋5,𝑋9) may result from correlations or overfitting noise.\n",
        "Cross-Validation:\n",
        "\n",
        "The optimal 𝜆 minimizes cross-validation error, balancing bias and variance.\n",
        "Smaller 𝜆 indicates a lower level of regularization, allowing for more flexibility in fitting the data.\n"
      ],
      "metadata": {
        "id": "rd6IYXau7PzF"
      }
    }
  ]
}