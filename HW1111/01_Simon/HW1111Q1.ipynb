{
  "nbformat": 4,
  "nbformat_minor": 0,
  "metadata": {
    "colab": {
      "provenance": []
    },
    "kernelspec": {
      "name": "python3",
      "display_name": "Python 3"
    },
    "language_info": {
      "name": "python"
    }
  },
  "cells": [
    {
      "cell_type": "markdown",
      "source": [
        "### **(a) As we increase $s$ from 0, the training RSS will:**\n",
        "\n",
        "**Correct answer: (iv) Steadily decrease.**\n",
        "\n",
        "**Reason:**\n",
        "- Training RSS measures the error on the training data.\n",
        "- At $s=0$, the model is highly constrained ($\\beta_j=0$), so training RSS is high.\n",
        "- As $s$ increases, the model has more flexibility to fit the training data, so the training RSS decreases steadily.\n",
        "- There is no turning point or U-shape; it keeps decreasing as $s$ increases.\n",
        "\n",
        "---\n",
        "\n",
        "### **(b) Repeat (a) for test RSS.**\n",
        "\n",
        "**Correct answer: (ii) Decrease initially, and then eventually start increasing in a U shape.**\n",
        "\n",
        "**Reason:**\n",
        "- At first, increasing $s$ allows the model to fit patterns in the data better, improving generalization to the test set (test RSS decreases).\n",
        "- However, as $s$ becomes too large, the model overfits the training data, capturing noise instead of general patterns. This increases test RSS, forming a U shape.\n",
        "\n",
        "---\n",
        "\n",
        "### **(c) Repeat (a) for variance.**\n",
        "\n",
        "**Correct answer: (iv) Steadily increase.**\n",
        "\n",
        "**Reason:**\n",
        "- Variance reflects how sensitive the model is to small changes in the training data.\n",
        "- A highly constrained model $s=0$ has low variance because it cannot adapt much to the data.\n",
        "- As $s$ increases, the model becomes more flexible and sensitive to the data, steadily increasing variance.\n",
        "\n",
        "---\n",
        "\n",
        "### **(d) Repeat (a) for (squared) bias.**\n",
        "\n",
        "**Correct answer: (iv) Steadily decrease.**\n",
        "\n",
        "**Reason:**\n",
        "- Bias reflects how much the model simplifies the true relationship in the data.\n",
        "- A highly constrained model $s=0$ has high bias because it cannot fit complex patterns.\n",
        "- As $s$ increases, the model becomes more flexible, reducing the bias.\n",
        "- Squared bias steadily decreases as $s$ grows.\n",
        "\n",
        "---\n",
        "\n",
        "### **(e) Repeat (a) for the irreducible error.**\n",
        "\n",
        "**Correct answer: (v) Remain constant.**\n",
        "\n",
        "**Reason:**\n",
        "- Irreducible error represents noise or randomness in the data that no model can eliminate.\n",
        "- It is independent of the model and $s$, so it remains constant regardless of changes in $s$.\n",
        "\n",
        "---\n",
        "\n",
        "### Summary of Answers:\n",
        "- **(a)** Training RSS: **(iv) Steadily decrease.**\n",
        "- **(b)** Test RSS: **(ii) Decrease initially, and then eventually start increasing in a U shape.**\n",
        "- **(c)** Variance: **(iv) Steadily increase.**\n",
        "- **(d)** Squared Bias: **(iv) Steadily decrease.**\n",
        "- **(e)** Irreducible Error: **(v) Remain constant.**"
      ],
      "metadata": {
        "id": "6d-lHiLdOdJK"
      }
    }
  ]
}