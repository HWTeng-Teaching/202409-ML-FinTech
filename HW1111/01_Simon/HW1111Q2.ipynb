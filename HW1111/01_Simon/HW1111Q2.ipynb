{
  "nbformat": 4,
  "nbformat_minor": 0,
  "metadata": {
    "colab": {
      "provenance": []
    },
    "kernelspec": {
      "name": "python3",
      "display_name": "Python 3"
    },
    "language_info": {
      "name": "python"
    }
  },
  "cells": [
    {
      "cell_type": "markdown",
      "source": [
        "### **(a) As we increase λ from 0, the training RSS will:**\n",
        "\n",
        "**Correct answer: (iii) Steadily increase.**\n",
        "\n",
        "**Reason:**\n",
        "- Training RSS measures how well the model fits the training data.\n",
        "- As λ increases, the regularization term shrinks $\\beta_j$, reducing the model's ability to fit the training data. This leads to higher training error (RSS).\n",
        "- Therefore, training RSS **steadily increases** as λ increases.\n",
        "\n",
        "---\n",
        "\n",
        "### **(b) Repeat (a) for test RSS.**\n",
        "\n",
        "**Correct answer: (ii) Decrease initially, and then eventually start increasing in a U shape.**\n",
        "\n",
        "**Reason:**\n",
        "- At low λ, the model overfits the training data, resulting in poor generalization and high test RSS.\n",
        "- As λ increases, regularization reduces overfitting, and the test RSS decreases initially.\n",
        "- However, when λ becomes too large, the model underfits the data, leading to an increase in test RSS. This creates a U-shaped curve.\n",
        "\n",
        "---\n",
        "\n",
        "### **(c) Repeat (a) for variance.**\n",
        "\n",
        "**Correct answer: (iv) Steadily decrease.**\n",
        "\n",
        "**Reason:**\n",
        "- Variance measures the model's sensitivity to small changes in the training data.\n",
        "- At low λ, the model is highly flexible, resulting in high variance.\n",
        "- As λ increases, the regularization term shrinks $\\beta_j$, making the model less sensitive to data fluctuations, thereby reducing variance.\n",
        "\n",
        "---\n",
        "\n",
        "### **(d) Repeat (a) for (squared) bias.**\n",
        "\n",
        "**Correct answer: (iii) Steadily increase.**\n",
        "\n",
        "**Reason:**\n",
        "- Bias measures the model's systematic error or its inability to capture the true relationship in the data.\n",
        "- At low λ, the model is highly flexible, resulting in low bias.\n",
        "- As λ increases, regularization makes the model simpler and less capable of fitting the data, leading to higher bias.\n",
        "\n",
        "---\n",
        "\n",
        "### **(e) Repeat (a) for the irreducible error.**\n",
        "\n",
        "**Correct answer: (v) Remain constant.**\n",
        "\n",
        "**Reason:**\n",
        "- Irreducible error represents the noise or randomness in the data, which cannot be modeled or reduced by any model.\n",
        "- It is independent of λ and remains constant regardless of changes in regularization.\n",
        "\n"
      ],
      "metadata": {
        "id": "j8qh7EmUPxU_"
      }
    }
  ]
}