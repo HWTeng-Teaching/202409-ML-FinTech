{
  "nbformat": 4,
  "nbformat_minor": 0,
  "metadata": {
    "colab": {
      "provenance": []
    },
    "kernelspec": {
      "name": "python3",
      "display_name": "Python 3"
    },
    "language_info": {
      "name": "python"
    }
  },
  "cells": [
    {
      "cell_type": "markdown",
      "source": [
        "9. In this exercise, we will predict the number of applications received\n",
        "using the other variables in the College data set.\n",
        "\n",
        "(a) Split the data set into a training set and a test set."
      ],
      "metadata": {
        "id": "08qjF9EKFse7"
      }
    },
    {
      "cell_type": "code",
      "source": [
        "# Import necessary libraries\n",
        "import pandas as pd\n",
        "from sklearn.model_selection import train_test_split\n",
        "\n",
        "# Step 1: Upload the file\n",
        "from google.colab import files\n",
        "uploaded = files.upload()\n",
        "\n",
        "# Step 2: Load the dataset\n",
        "file_name = list(uploaded.keys())[0]  # Get the uploaded file name\n",
        "college_data = pd.read_csv(file_name)\n",
        "\n",
        "# Display the first few rows of the dataset\n",
        "print(\"Dataset Preview:\")\n",
        "print(college_data.head())\n",
        "\n",
        "# Step 3: Separate target and features\n",
        "X = college_data.drop(columns=['Unnamed: 0', 'Apps'])  # Drop non-predictive column and target column\n",
        "y = college_data['Apps']\n",
        "\n",
        "# Convert categorical variables to dummy variables\n",
        "X = pd.get_dummies(X, drop_first=True)\n",
        "\n",
        "# Step 4: Split the data into training and test sets (80-20 split)\n",
        "X_train, X_test, y_train, y_test = train_test_split(X, y, test_size=0.2, random_state=42)\n",
        "\n",
        "# Display dimensions of the splits\n",
        "print(f\"Training set: {X_train.shape}, Test set: {X_test.shape}\")\n",
        "print(f\"Target Training set: {y_train.shape}, Target Test set: {y_test.shape}\")\n"
      ],
      "metadata": {
        "colab": {
          "base_uri": "https://localhost:8080/",
          "height": 471
        },
        "id": "hvO5juE3Fs_C",
        "outputId": "7d3264b9-b6c2-4f54-b308-001f25e8e5f9"
      },
      "execution_count": 1,
      "outputs": [
        {
          "output_type": "display_data",
          "data": {
            "text/plain": [
              "<IPython.core.display.HTML object>"
            ],
            "text/html": [
              "\n",
              "     <input type=\"file\" id=\"files-46f89481-540e-463c-a489-7d458bd5c3fd\" name=\"files[]\" multiple disabled\n",
              "        style=\"border:none\" />\n",
              "     <output id=\"result-46f89481-540e-463c-a489-7d458bd5c3fd\">\n",
              "      Upload widget is only available when the cell has been executed in the\n",
              "      current browser session. Please rerun this cell to enable.\n",
              "      </output>\n",
              "      <script>// Copyright 2017 Google LLC\n",
              "//\n",
              "// Licensed under the Apache License, Version 2.0 (the \"License\");\n",
              "// you may not use this file except in compliance with the License.\n",
              "// You may obtain a copy of the License at\n",
              "//\n",
              "//      http://www.apache.org/licenses/LICENSE-2.0\n",
              "//\n",
              "// Unless required by applicable law or agreed to in writing, software\n",
              "// distributed under the License is distributed on an \"AS IS\" BASIS,\n",
              "// WITHOUT WARRANTIES OR CONDITIONS OF ANY KIND, either express or implied.\n",
              "// See the License for the specific language governing permissions and\n",
              "// limitations under the License.\n",
              "\n",
              "/**\n",
              " * @fileoverview Helpers for google.colab Python module.\n",
              " */\n",
              "(function(scope) {\n",
              "function span(text, styleAttributes = {}) {\n",
              "  const element = document.createElement('span');\n",
              "  element.textContent = text;\n",
              "  for (const key of Object.keys(styleAttributes)) {\n",
              "    element.style[key] = styleAttributes[key];\n",
              "  }\n",
              "  return element;\n",
              "}\n",
              "\n",
              "// Max number of bytes which will be uploaded at a time.\n",
              "const MAX_PAYLOAD_SIZE = 100 * 1024;\n",
              "\n",
              "function _uploadFiles(inputId, outputId) {\n",
              "  const steps = uploadFilesStep(inputId, outputId);\n",
              "  const outputElement = document.getElementById(outputId);\n",
              "  // Cache steps on the outputElement to make it available for the next call\n",
              "  // to uploadFilesContinue from Python.\n",
              "  outputElement.steps = steps;\n",
              "\n",
              "  return _uploadFilesContinue(outputId);\n",
              "}\n",
              "\n",
              "// This is roughly an async generator (not supported in the browser yet),\n",
              "// where there are multiple asynchronous steps and the Python side is going\n",
              "// to poll for completion of each step.\n",
              "// This uses a Promise to block the python side on completion of each step,\n",
              "// then passes the result of the previous step as the input to the next step.\n",
              "function _uploadFilesContinue(outputId) {\n",
              "  const outputElement = document.getElementById(outputId);\n",
              "  const steps = outputElement.steps;\n",
              "\n",
              "  const next = steps.next(outputElement.lastPromiseValue);\n",
              "  return Promise.resolve(next.value.promise).then((value) => {\n",
              "    // Cache the last promise value to make it available to the next\n",
              "    // step of the generator.\n",
              "    outputElement.lastPromiseValue = value;\n",
              "    return next.value.response;\n",
              "  });\n",
              "}\n",
              "\n",
              "/**\n",
              " * Generator function which is called between each async step of the upload\n",
              " * process.\n",
              " * @param {string} inputId Element ID of the input file picker element.\n",
              " * @param {string} outputId Element ID of the output display.\n",
              " * @return {!Iterable<!Object>} Iterable of next steps.\n",
              " */\n",
              "function* uploadFilesStep(inputId, outputId) {\n",
              "  const inputElement = document.getElementById(inputId);\n",
              "  inputElement.disabled = false;\n",
              "\n",
              "  const outputElement = document.getElementById(outputId);\n",
              "  outputElement.innerHTML = '';\n",
              "\n",
              "  const pickedPromise = new Promise((resolve) => {\n",
              "    inputElement.addEventListener('change', (e) => {\n",
              "      resolve(e.target.files);\n",
              "    });\n",
              "  });\n",
              "\n",
              "  const cancel = document.createElement('button');\n",
              "  inputElement.parentElement.appendChild(cancel);\n",
              "  cancel.textContent = 'Cancel upload';\n",
              "  const cancelPromise = new Promise((resolve) => {\n",
              "    cancel.onclick = () => {\n",
              "      resolve(null);\n",
              "    };\n",
              "  });\n",
              "\n",
              "  // Wait for the user to pick the files.\n",
              "  const files = yield {\n",
              "    promise: Promise.race([pickedPromise, cancelPromise]),\n",
              "    response: {\n",
              "      action: 'starting',\n",
              "    }\n",
              "  };\n",
              "\n",
              "  cancel.remove();\n",
              "\n",
              "  // Disable the input element since further picks are not allowed.\n",
              "  inputElement.disabled = true;\n",
              "\n",
              "  if (!files) {\n",
              "    return {\n",
              "      response: {\n",
              "        action: 'complete',\n",
              "      }\n",
              "    };\n",
              "  }\n",
              "\n",
              "  for (const file of files) {\n",
              "    const li = document.createElement('li');\n",
              "    li.append(span(file.name, {fontWeight: 'bold'}));\n",
              "    li.append(span(\n",
              "        `(${file.type || 'n/a'}) - ${file.size} bytes, ` +\n",
              "        `last modified: ${\n",
              "            file.lastModifiedDate ? file.lastModifiedDate.toLocaleDateString() :\n",
              "                                    'n/a'} - `));\n",
              "    const percent = span('0% done');\n",
              "    li.appendChild(percent);\n",
              "\n",
              "    outputElement.appendChild(li);\n",
              "\n",
              "    const fileDataPromise = new Promise((resolve) => {\n",
              "      const reader = new FileReader();\n",
              "      reader.onload = (e) => {\n",
              "        resolve(e.target.result);\n",
              "      };\n",
              "      reader.readAsArrayBuffer(file);\n",
              "    });\n",
              "    // Wait for the data to be ready.\n",
              "    let fileData = yield {\n",
              "      promise: fileDataPromise,\n",
              "      response: {\n",
              "        action: 'continue',\n",
              "      }\n",
              "    };\n",
              "\n",
              "    // Use a chunked sending to avoid message size limits. See b/62115660.\n",
              "    let position = 0;\n",
              "    do {\n",
              "      const length = Math.min(fileData.byteLength - position, MAX_PAYLOAD_SIZE);\n",
              "      const chunk = new Uint8Array(fileData, position, length);\n",
              "      position += length;\n",
              "\n",
              "      const base64 = btoa(String.fromCharCode.apply(null, chunk));\n",
              "      yield {\n",
              "        response: {\n",
              "          action: 'append',\n",
              "          file: file.name,\n",
              "          data: base64,\n",
              "        },\n",
              "      };\n",
              "\n",
              "      let percentDone = fileData.byteLength === 0 ?\n",
              "          100 :\n",
              "          Math.round((position / fileData.byteLength) * 100);\n",
              "      percent.textContent = `${percentDone}% done`;\n",
              "\n",
              "    } while (position < fileData.byteLength);\n",
              "  }\n",
              "\n",
              "  // All done.\n",
              "  yield {\n",
              "    response: {\n",
              "      action: 'complete',\n",
              "    }\n",
              "  };\n",
              "}\n",
              "\n",
              "scope.google = scope.google || {};\n",
              "scope.google.colab = scope.google.colab || {};\n",
              "scope.google.colab._files = {\n",
              "  _uploadFiles,\n",
              "  _uploadFilesContinue,\n",
              "};\n",
              "})(self);\n",
              "</script> "
            ]
          },
          "metadata": {}
        },
        {
          "output_type": "stream",
          "name": "stdout",
          "text": [
            "Saving College.csv to College.csv\n",
            "Dataset Preview:\n",
            "                     Unnamed: 0 Private  Apps  Accept  Enroll  Top10perc  \\\n",
            "0  Abilene Christian University     Yes  1660    1232     721         23   \n",
            "1            Adelphi University     Yes  2186    1924     512         16   \n",
            "2                Adrian College     Yes  1428    1097     336         22   \n",
            "3           Agnes Scott College     Yes   417     349     137         60   \n",
            "4     Alaska Pacific University     Yes   193     146      55         16   \n",
            "\n",
            "   Top25perc  F.Undergrad  P.Undergrad  Outstate  Room.Board  Books  Personal  \\\n",
            "0         52         2885          537      7440        3300    450      2200   \n",
            "1         29         2683         1227     12280        6450    750      1500   \n",
            "2         50         1036           99     11250        3750    400      1165   \n",
            "3         89          510           63     12960        5450    450       875   \n",
            "4         44          249          869      7560        4120    800      1500   \n",
            "\n",
            "   PhD  Terminal  S.F.Ratio  perc.alumni  Expend  Grad.Rate  \n",
            "0   70        78       18.1           12    7041         60  \n",
            "1   29        30       12.2           16   10527         56  \n",
            "2   53        66       12.9           30    8735         54  \n",
            "3   92        97        7.7           37   19016         59  \n",
            "4   76        72       11.9            2   10922         15  \n",
            "Training set: (621, 17), Test set: (156, 17)\n",
            "Target Training set: (621,), Target Test set: (156,)\n"
          ]
        }
      ]
    },
    {
      "cell_type": "markdown",
      "source": [
        "The data has been successfully split into a training set and a test set:\n",
        "\n",
        "Training set: 621 observations with 17 features.\n",
        "\n",
        "Test set: 156 observations with 17 features."
      ],
      "metadata": {
        "id": "sgoh60xvGb5Z"
      }
    },
    {
      "cell_type": "markdown",
      "source": [
        "(b) Fit a linear model using least squares on the training set, and\n",
        "report the test error obtained."
      ],
      "metadata": {
        "id": "0n4o-F-QGm0N"
      }
    },
    {
      "cell_type": "code",
      "source": [
        "from sklearn.linear_model import LinearRegression\n",
        "from sklearn.metrics import mean_squared_error\n",
        "\n",
        "# Step 1: Initialize the linear regression model\n",
        "linear_model = LinearRegression()\n",
        "\n",
        "# Step 2: Fit the model on the training data\n",
        "linear_model.fit(X_train, y_train)\n",
        "\n",
        "# Step 3: Make predictions on the test set\n",
        "y_pred = linear_model.predict(X_test)\n",
        "\n",
        "# Step 4: Compute the test error (Mean Squared Error)\n",
        "test_error = mean_squared_error(y_test, y_pred)\n",
        "\n",
        "print(f\"Test Error (Mean Squared Error): {test_error}\")\n"
      ],
      "metadata": {
        "colab": {
          "base_uri": "https://localhost:8080/"
        },
        "id": "YqGMeg40GgAj",
        "outputId": "4932a315-f4ef-42cb-a794-f03d1ebf32c6"
      },
      "execution_count": 2,
      "outputs": [
        {
          "output_type": "stream",
          "name": "stdout",
          "text": [
            "Test Error (Mean Squared Error): 1492443.379039042\n"
          ]
        }
      ]
    },
    {
      "cell_type": "markdown",
      "source": [
        "(c) Fit a ridge regression model on the training set, with λ  chosen\n",
        "by cross-validation. Report the test error obtained."
      ],
      "metadata": {
        "id": "DDglynYQHBiD"
      }
    },
    {
      "cell_type": "code",
      "source": [
        "from sklearn.linear_model import RidgeCV\n",
        "from sklearn.metrics import mean_squared_error\n",
        "\n",
        "# Step 1: Define the alpha (lambda) values to test\n",
        "alphas = [0.1, 1.0, 10.0, 100.0, 1000.0]\n",
        "\n",
        "# Step 2: Initialize the Ridge regression model with cross-validation\n",
        "ridge_cv_model = RidgeCV(alphas=alphas, cv=5)  # 5-fold cross-validation\n",
        "\n",
        "# Step 3: Fit the model on the training data\n",
        "ridge_cv_model.fit(X_train, y_train)\n",
        "\n",
        "# Step 4: Best alpha (lambda) value selected by cross-validation\n",
        "best_alpha = ridge_cv_model.alpha_\n",
        "print(f\"Best alpha (lambda) chosen by cross-validation: {best_alpha}\")\n",
        "\n",
        "# Step 5: Make predictions on the test set\n",
        "y_pred_ridge = ridge_cv_model.predict(X_test)\n",
        "\n",
        "# Step 6: Compute the test error (Mean Squared Error)\n",
        "test_error_ridge = mean_squared_error(y_test, y_pred_ridge)\n",
        "print(f\"Test Error (Mean Squared Error) for Ridge Regression: {test_error_ridge}\")\n"
      ],
      "metadata": {
        "colab": {
          "base_uri": "https://localhost:8080/"
        },
        "id": "7JzlBVWwHCAi",
        "outputId": "2417ffad-3940-4265-dac4-010ad37e3e14"
      },
      "execution_count": 3,
      "outputs": [
        {
          "output_type": "stream",
          "name": "stdout",
          "text": [
            "Best alpha (lambda) chosen by cross-validation: 10.0\n",
            "Test Error (Mean Squared Error) for Ridge Regression: 1478572.8112797008\n"
          ]
        }
      ]
    },
    {
      "cell_type": "markdown",
      "source": [
        "(d) Fit a lasso model on the training set, with λ chosen by crossvalidation.\n",
        "Report the test error obtained, along with the number\n",
        "of non-zero coefficient estimates."
      ],
      "metadata": {
        "id": "fZ5sGKyDHqZz"
      }
    },
    {
      "cell_type": "code",
      "source": [
        "from sklearn.linear_model import LassoCV\n",
        "from sklearn.metrics import mean_squared_error\n",
        "\n",
        "# Step 1: Define the alpha values to test\n",
        "alphas = [0.1, 0.01, 0.001, 0.0001, 0.00001]\n",
        "\n",
        "# Step 2: Initialize the Lasso regression model with cross-validation\n",
        "lasso_cv_model = LassoCV(alphas=alphas, cv=5, random_state=42)  # 5-fold cross-validation\n",
        "\n",
        "# Step 3: Fit the model on the training data\n",
        "lasso_cv_model.fit(X_train, y_train)\n",
        "\n",
        "# Step 4: Best alpha (lambda) value selected by cross-validation\n",
        "best_alpha_lasso = lasso_cv_model.alpha_\n",
        "print(f\"Best alpha (lambda) chosen by cross-validation: {best_alpha_lasso}\")\n",
        "\n",
        "# Step 5: Make predictions on the test set\n",
        "y_pred_lasso = lasso_cv_model.predict(X_test)\n",
        "\n",
        "# Step 6: Compute the test error (Mean Squared Error)\n",
        "test_error_lasso = mean_squared_error(y_test, y_pred_lasso)\n",
        "print(f\"Test Error (Mean Squared Error) for Lasso Regression: {test_error_lasso}\")\n",
        "\n",
        "# Step 7: Count the number of non-zero coefficients\n",
        "non_zero_coefficients = sum(lasso_cv_model.coef_ != 0)\n",
        "print(f\"Number of non-zero coefficients: {non_zero_coefficients}\")\n"
      ],
      "metadata": {
        "colab": {
          "base_uri": "https://localhost:8080/"
        },
        "id": "bvQYp8hMHt2S",
        "outputId": "c61274a1-f611-440a-c44b-790154daaea0"
      },
      "execution_count": 4,
      "outputs": [
        {
          "output_type": "stream",
          "name": "stdout",
          "text": [
            "Best alpha (lambda) chosen by cross-validation: 0.1\n",
            "Test Error (Mean Squared Error) for Lasso Regression: 1492276.886370733\n",
            "Number of non-zero coefficients: 17\n"
          ]
        }
      ]
    },
    {
      "cell_type": "markdown",
      "source": [
        "(e) Fit a PCR model on the training set, with M chosen by crossvalidation.\n",
        "Report the test error obtained, along with the value\n",
        "of M selected by cross-validation."
      ],
      "metadata": {
        "id": "anKCHJyMID7g"
      }
    },
    {
      "cell_type": "code",
      "source": [
        "from sklearn.decomposition import PCA\n",
        "from sklearn.linear_model import LinearRegression\n",
        "from sklearn.model_selection import cross_val_score\n",
        "from sklearn.metrics import mean_squared_error\n",
        "import numpy as np\n",
        "\n",
        "# Step 1: Standardize the data\n",
        "from sklearn.preprocessing import StandardScaler\n",
        "scaler = StandardScaler()\n",
        "X_train_scaled = scaler.fit_transform(X_train)\n",
        "X_test_scaled = scaler.transform(X_test)\n",
        "\n",
        "# Step 2: Define a function for PCR with cross-validation\n",
        "def pcr_model(X, y, max_components):\n",
        "    mse_list = []\n",
        "    for m in range(1, max_components + 1):\n",
        "        pca = PCA(n_components=m)\n",
        "        X_pca = pca.fit_transform(X)\n",
        "\n",
        "        model = LinearRegression()\n",
        "        mse = -cross_val_score(model, X_pca, y, cv=5, scoring='neg_mean_squared_error').mean()\n",
        "        mse_list.append(mse)\n",
        "    return mse_list\n",
        "\n",
        "# Step 3: Determine the optimal number of components using cross-validation\n",
        "max_components = min(X_train_scaled.shape[1], X_train_scaled.shape[0])  # Limit max components to data dimensions\n",
        "mse_list = pcr_model(X_train_scaled, y_train, max_components)\n",
        "optimal_m = np.argmin(mse_list) + 1  # Index + 1 for the component number\n",
        "print(f\"Optimal number of components (M) chosen by cross-validation: {optimal_m}\")\n",
        "\n",
        "# Step 4: Fit the PCR model with the optimal number of components\n",
        "pca = PCA(n_components=optimal_m)\n",
        "X_train_pca = pca.fit_transform(X_train_scaled)\n",
        "X_test_pca = pca.transform(X_test_scaled)\n",
        "\n",
        "model = LinearRegression()\n",
        "model.fit(X_train_pca, y_train)\n",
        "\n",
        "# Step 5: Compute the test error\n",
        "y_pred_pcr = model.predict(X_test_pca)\n",
        "test_error_pcr = mean_squared_error(y_test, y_pred_pcr)\n",
        "print(f\"Test Error (Mean Squared Error) for PCR: {test_error_pcr}\")\n"
      ],
      "metadata": {
        "colab": {
          "base_uri": "https://localhost:8080/"
        },
        "id": "0BtYvY0KIC9E",
        "outputId": "ae4f9f8f-0e8b-41d6-e476-b1b3a7807c27"
      },
      "execution_count": 5,
      "outputs": [
        {
          "output_type": "stream",
          "name": "stdout",
          "text": [
            "Optimal number of components (M) chosen by cross-validation: 17\n",
            "Test Error (Mean Squared Error) for PCR: 1492443.3790390224\n"
          ]
        }
      ]
    },
    {
      "cell_type": "markdown",
      "source": [
        "(f) Fit a PLS model on the training set, with M chosen by crossvalidation.\n",
        "Report the test error obtained, along with the value\n",
        "of M selected by cross-validation."
      ],
      "metadata": {
        "id": "8Z3qqYJsIIAK"
      }
    },
    {
      "cell_type": "code",
      "source": [
        "from sklearn.cross_decomposition import PLSRegression\n",
        "from sklearn.model_selection import cross_val_score\n",
        "from sklearn.metrics import mean_squared_error\n",
        "import numpy as np\n",
        "\n",
        "# Step 1: Define a function for PLS with cross-validation\n",
        "def pls_model(X, y, max_components):\n",
        "    mse_list = []\n",
        "    for m in range(1, max_components + 1):\n",
        "        pls = PLSRegression(n_components=m)\n",
        "        mse = -cross_val_score(pls, X, y, cv=5, scoring='neg_mean_squared_error').mean()\n",
        "        mse_list.append(mse)\n",
        "    return mse_list\n",
        "\n",
        "# Step 2: Determine the optimal number of components using cross-validation\n",
        "max_components = min(X_train_scaled.shape[1], X_train_scaled.shape[0])  # Limit max components to data dimensions\n",
        "mse_list_pls = pls_model(X_train_scaled, y_train, max_components)\n",
        "optimal_m_pls = np.argmin(mse_list_pls) + 1  # Index + 1 for the component number\n",
        "print(f\"Optimal number of components (M) chosen by cross-validation for PLS: {optimal_m_pls}\")\n",
        "\n",
        "# Step 3: Fit the PLS model with the optimal number of components\n",
        "pls_model = PLSRegression(n_components=optimal_m_pls)\n",
        "pls_model.fit(X_train_scaled, y_train)\n",
        "\n",
        "# Step 4: Compute the test error\n",
        "y_pred_pls = pls_model.predict(X_test_scaled)\n",
        "test_error_pls = mean_squared_error(y_test, y_pred_pls)\n",
        "print(f\"Test Error (Mean Squared Error) for PLS: {test_error_pls}\")\n"
      ],
      "metadata": {
        "colab": {
          "base_uri": "https://localhost:8080/"
        },
        "id": "loq9zlBQIIUi",
        "outputId": "87e7dd40-f0ce-45de-dd67-98e4bd161070"
      },
      "execution_count": 6,
      "outputs": [
        {
          "output_type": "stream",
          "name": "stdout",
          "text": [
            "Optimal number of components (M) chosen by cross-validation for PLS: 17\n",
            "Test Error (Mean Squared Error) for PLS: 1492443.3790390242\n"
          ]
        }
      ]
    },
    {
      "cell_type": "markdown",
      "source": [
        "(g) Comment on the results obtained. How accurately can we predict\n",
        "the number of college applications received? Is there much\n",
        "difference among the test errors resulting from these five approaches?"
      ],
      "metadata": {
        "id": "X0TiFzl0IekJ"
      }
    },
    {
      "cell_type": "code",
      "source": [
        "from sklearn.cross_decomposition import PLSRegression\n",
        "from sklearn.model_selection import cross_val_score\n",
        "from sklearn.metrics import mean_squared_error\n",
        "import numpy as np\n",
        "\n",
        "# Step 1: Define a function for PLS with cross-validation\n",
        "def pls_model(X, y, max_components):\n",
        "    mse_list = []\n",
        "    for m in range(1, max_components + 1):\n",
        "        pls = PLSRegression(n_components=m)\n",
        "        mse = -cross_val_score(pls, X, y, cv=5, scoring='neg_mean_squared_error').mean()\n",
        "        mse_list.append(mse)\n",
        "    return mse_list\n",
        "\n",
        "# Step 2: Determine the optimal number of components using cross-validation\n",
        "max_components = min(X_train_scaled.shape[1], X_train_scaled.shape[0])  # Limit max components to data dimensions\n",
        "mse_list_pls = pls_model(X_train_scaled, y_train, max_components)\n",
        "optimal_m_pls = np.argmin(mse_list_pls) + 1  # Index + 1 for the component number\n",
        "print(f\"Optimal number of components (M) chosen by cross-validation for PLS: {optimal_m_pls}\")\n",
        "\n",
        "# Step 3: Fit the PLS model with the optimal number of components\n",
        "pls_model = PLSRegression(n_components=optimal_m_pls)\n",
        "pls_model.fit(X_train_scaled, y_train)\n",
        "\n",
        "# Step 4: Compute the test error\n",
        "y_pred_pls = pls_model.predict(X_test_scaled)\n",
        "test_error_pls = mean_squared_error(y_test, y_pred_pls)\n",
        "print(f\"Test Error (Mean Squared Error) for PLS: {test_error_pls}\")\n"
      ],
      "metadata": {
        "colab": {
          "base_uri": "https://localhost:8080/"
        },
        "id": "HqPLKy5DIdcF",
        "outputId": "a3a3bcac-1f5d-4dbb-dbdb-3adb7b4a4331"
      },
      "execution_count": 7,
      "outputs": [
        {
          "output_type": "stream",
          "name": "stdout",
          "text": [
            "Optimal number of components (M) chosen by cross-validation for PLS: 17\n",
            "Test Error (Mean Squared Error) for PLS: 1492443.3790390242\n"
          ]
        }
      ]
    },
    {
      "cell_type": "markdown",
      "source": [
        "If Test Errors Are Similar:\n",
        "\n",
        "This suggests that the dataset is well-suited for all the methods, with no significant multicollinearity, irrelevant features, or noise.\n",
        "\n",
        "The simpler model (Linear Regression) might suffice unless regularization or dimensionality reduction is specifically required for interpretability or other reasons.\n",
        "\n",
        "\n",
        "If Regularized Models (Ridge, Lasso) Perform Better:\n",
        "\n",
        "Ridge and Lasso might handle multicollinearity better and reduce overfitting, leading to lower test errors compared to Linear Regression.\n",
        "\n",
        "This indicates that some features are highly correlated or not informative, which regularization handles effectively.\n",
        "\n",
        "If PCR or PLS Perform Better:\n",
        "\n",
        "These methods could capture key components or latent structures in the data, especially if the dataset has many redundant or noisy predictors.\n",
        "\n",
        "A significant improvement would highlight the importance of dimensionality reduction in this dataset."
      ],
      "metadata": {
        "id": "WGqavSPEIwt7"
      }
    },
    {
      "cell_type": "code",
      "source": [],
      "metadata": {
        "id": "1DvmdBGaI06z"
      },
      "execution_count": null,
      "outputs": []
    }
  ]
}