{
  "nbformat": 4,
  "nbformat_minor": 0,
  "metadata": {
    "colab": {
      "provenance": []
    },
    "kernelspec": {
      "name": "python3",
      "display_name": "Python 3"
    },
    "language_info": {
      "name": "python"
    }
  },
  "cells": [
    {
      "cell_type": "markdown",
      "source": [
        "4. Suppose we estimate the regression coefficients in a linear regression\n",
        "model by minimizing\n",
        "for a particular value of !. For parts (a) through (e), indicate which\n",
        "of i. through v. is correct. Justify your answer."
      ],
      "metadata": {
        "id": "PW9PuHTuXPQf"
      }
    },
    {
      "cell_type": "markdown",
      "source": [
        "(a) As we increase ! from 0, the training RSS will:\n",
        "\n",
        "i. Increase initially, and then eventually start decreasing in an\n",
        "inverted U shape.\n",
        "\n",
        "ii. Decrease initially, and then eventually start increasing in a\n",
        "U shape.\n",
        "\n",
        "iii. Steadily increase.\n",
        "\n",
        "iv. Steadily decrease.\n",
        "\n",
        "v. Remain constant."
      ],
      "metadata": {
        "id": "bvyVcnkYXXGg"
      }
    },
    {
      "cell_type": "markdown",
      "source": [
        "Answer: **iii. Steadily increase.**\n",
        "\n",
        "As λ increases, the model's flexibility decreases due to the shrinking of\n",
        "βj. This reduces the model's ability to fit the training data, causing the training RSS to increase monotonically.\n",
        "\n",
        "There is no scenario where the training RSS decreases as λ increases, nor does it form a U-shaped or inverted U-shaped curve. Hence, the other options are incorrect."
      ],
      "metadata": {
        "id": "vL1eESRfXmbx"
      }
    },
    {
      "cell_type": "markdown",
      "source": [
        "(b) Repeat (a) for test RSS."
      ],
      "metadata": {
        "id": "unGqkRsrX_BX"
      }
    },
    {
      "cell_type": "markdown",
      "source": [
        "Answer: **ii. Decrease initially, and then eventually start increasing in a U shape.**\n",
        "\n",
        "For small values of λ, the regularization reduces overfitting, and the test RSS decreases.\n",
        "\n",
        "For large values of λ, the regression coefficients βj shrink excessively, causing the model to underfit, leading to an increase in test RSS.\n",
        "\n",
        "This behavior results in a U-shaped curve for test RSS as λ increases."
      ],
      "metadata": {
        "id": "AyDDh41lYK6N"
      }
    },
    {
      "cell_type": "markdown",
      "source": [
        "(c) Repeat (a) for variance.\n",
        "\n",
        "\n",
        "Answer: **iv. Steadily decrease.**\n",
        "\n",
        "Ridge Regression controls the variance by penalizing large regression coefficients. This effect steadily grows as λ increases, leading to a monotonic decrease in variance.\n",
        "\n",
        "There is no scenario where variance increases or oscillates with increasing λ, so the other options are incorrect."
      ],
      "metadata": {
        "id": "L3njkJG8Yji3"
      }
    },
    {
      "cell_type": "markdown",
      "source": [
        "(d) Repeat (a) for (squared) bias.\n",
        "\n",
        "Answer: **iii. Steadily increase.**\n",
        "\n",
        "Ridge Regression introduces a tradeoff between bias and variance. Increasing λ reduces variance but increases bias.\n",
        "\n",
        "The squared bias increases monotonically as λ increases because the model becomes increasingly rigid, failing to capture the true relationship in the data."
      ],
      "metadata": {
        "id": "wZnagSL2Y4zP"
      }
    },
    {
      "cell_type": "markdown",
      "source": [
        "(e) Repeat (a) for the irreducible error.\n",
        "\n",
        "Answer: **v. Remain constant.**\n",
        "\n",
        "Since irreducible error is a property of the data, it does not depend on the regression coefficients or the regularization term λ. Therefore, it remains unchanged regardless of the value of λ.\n"
      ],
      "metadata": {
        "id": "qqQDxTltZmxS"
      }
    },
    {
      "cell_type": "code",
      "execution_count": null,
      "metadata": {
        "id": "afA1r_hYWwEd"
      },
      "outputs": [],
      "source": []
    }
  ]
}