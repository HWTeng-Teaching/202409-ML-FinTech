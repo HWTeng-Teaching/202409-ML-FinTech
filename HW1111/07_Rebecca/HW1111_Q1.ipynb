{
  "nbformat": 4,
  "nbformat_minor": 0,
  "metadata": {
    "colab": {
      "provenance": []
    },
    "kernelspec": {
      "name": "python3",
      "display_name": "Python 3"
    },
    "language_info": {
      "name": "python"
    }
  },
  "cells": [
    {
      "cell_type": "code",
      "execution_count": null,
      "metadata": {
        "id": "EVl54EUQFNMg"
      },
      "outputs": [],
      "source": [
        "###Q1\n",
        "###(a) 訓練 RSS：當我們增加時，限制會放寬，\n",
        "###允許更多的變數進入模型。這通常會導致訓練 RSS 減少，\n",
        "###因為加入更多變數能更好地擬合訓練數據。所以答案應該是 iv. 持續減少。\n",
        "\n",
        "###(b) 測試 RSS：在\n",
        "###增加的初期，測試 RSS 可能會下降，因為模型的擬合度提升。然而，隨著\n",
        "###增加過多，模型會變得過擬合，導致測試 RSS 增加。因此，答案應該是 ii. 一開始下降，之後最終開始增加，呈現 U 型。\n",
        "\n",
        "\n",
        "###(c)變異數：隨著\n",
        "###增加，模型的自由度增大，導致變異數增加。所以答案應該是 iv. 持續增加。\n",
        "\n",
        "###(d)（平方）偏差：當增加，模型變得更靈活，可以更好地擬合訓練數據，這會減少偏差。因此答案應該是 iv. 持續減少。\n",
        "\n",
        "###(e) 不可化簡誤差：這部分誤差是數據中固有的隨機性，與模型無關，所以答案應該是 v. 保持不變。"
      ]
    }
  ]
}