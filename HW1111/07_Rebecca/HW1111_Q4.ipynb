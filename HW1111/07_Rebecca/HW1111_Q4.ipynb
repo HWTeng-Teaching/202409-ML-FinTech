{
  "nbformat": 4,
  "nbformat_minor": 0,
  "metadata": {
    "colab": {
      "provenance": []
    },
    "kernelspec": {
      "name": "python3",
      "display_name": "Python 3"
    },
    "language_info": {
      "name": "python"
    }
  },
  "cells": [
    {
      "cell_type": "code",
      "execution_count": 9,
      "metadata": {
        "id": "EVl54EUQFNMg",
        "colab": {
          "base_uri": "https://localhost:8080/"
        },
        "outputId": "5c80dc5a-5803-446a-ea11-94c8ae3195ad"
      },
      "outputs": [
        {
          "output_type": "stream",
          "name": "stdout",
          "text": [
            "Requirement already satisfied: ISLP in /usr/local/lib/python3.10/dist-packages (0.4.0)\n",
            "Requirement already satisfied: numpy>=1.7.1 in /usr/local/lib/python3.10/dist-packages (from ISLP) (1.26.4)\n",
            "Requirement already satisfied: scipy>=0.9 in /usr/local/lib/python3.10/dist-packages (from ISLP) (1.11.4)\n",
            "Requirement already satisfied: pandas>=0.20 in /usr/local/lib/python3.10/dist-packages (from ISLP) (2.2.2)\n",
            "Requirement already satisfied: lxml in /usr/local/lib/python3.10/dist-packages (from ISLP) (5.3.0)\n",
            "Requirement already satisfied: scikit-learn>=1.2 in /usr/local/lib/python3.10/dist-packages (from ISLP) (1.5.2)\n",
            "Requirement already satisfied: joblib in /usr/local/lib/python3.10/dist-packages (from ISLP) (1.4.2)\n",
            "Requirement already satisfied: statsmodels>=0.13 in /usr/local/lib/python3.10/dist-packages (from ISLP) (0.14.4)\n",
            "Requirement already satisfied: lifelines in /usr/local/lib/python3.10/dist-packages (from ISLP) (0.30.0)\n",
            "Requirement already satisfied: pygam in /usr/local/lib/python3.10/dist-packages (from ISLP) (0.9.1)\n",
            "Requirement already satisfied: torch in /usr/local/lib/python3.10/dist-packages (from ISLP) (2.5.0+cu121)\n",
            "Requirement already satisfied: pytorch-lightning in /usr/local/lib/python3.10/dist-packages (from ISLP) (2.4.0)\n",
            "Requirement already satisfied: torchmetrics in /usr/local/lib/python3.10/dist-packages (from ISLP) (1.6.0)\n",
            "Requirement already satisfied: python-dateutil>=2.8.2 in /usr/local/lib/python3.10/dist-packages (from pandas>=0.20->ISLP) (2.8.2)\n",
            "Requirement already satisfied: pytz>=2020.1 in /usr/local/lib/python3.10/dist-packages (from pandas>=0.20->ISLP) (2024.2)\n",
            "Requirement already satisfied: tzdata>=2022.7 in /usr/local/lib/python3.10/dist-packages (from pandas>=0.20->ISLP) (2024.2)\n",
            "Requirement already satisfied: threadpoolctl>=3.1.0 in /usr/local/lib/python3.10/dist-packages (from scikit-learn>=1.2->ISLP) (3.5.0)\n",
            "Requirement already satisfied: patsy>=0.5.6 in /usr/local/lib/python3.10/dist-packages (from statsmodels>=0.13->ISLP) (0.5.6)\n",
            "Requirement already satisfied: packaging>=21.3 in /usr/local/lib/python3.10/dist-packages (from statsmodels>=0.13->ISLP) (24.2)\n",
            "Requirement already satisfied: matplotlib>=3.0 in /usr/local/lib/python3.10/dist-packages (from lifelines->ISLP) (3.8.0)\n",
            "Requirement already satisfied: autograd>=1.5 in /usr/local/lib/python3.10/dist-packages (from lifelines->ISLP) (1.7.0)\n",
            "Requirement already satisfied: autograd-gamma>=0.3 in /usr/local/lib/python3.10/dist-packages (from lifelines->ISLP) (0.5.0)\n",
            "Requirement already satisfied: formulaic>=0.2.2 in /usr/local/lib/python3.10/dist-packages (from lifelines->ISLP) (1.0.2)\n",
            "Requirement already satisfied: progressbar2<5.0.0,>=4.2.0 in /usr/local/lib/python3.10/dist-packages (from pygam->ISLP) (4.5.0)\n",
            "Requirement already satisfied: tqdm>=4.57.0 in /usr/local/lib/python3.10/dist-packages (from pytorch-lightning->ISLP) (4.66.6)\n",
            "Requirement already satisfied: PyYAML>=5.4 in /usr/local/lib/python3.10/dist-packages (from pytorch-lightning->ISLP) (6.0.2)\n",
            "Requirement already satisfied: fsspec>=2022.5.0 in /usr/local/lib/python3.10/dist-packages (from fsspec[http]>=2022.5.0->pytorch-lightning->ISLP) (2024.10.0)\n",
            "Requirement already satisfied: typing-extensions>=4.4.0 in /usr/local/lib/python3.10/dist-packages (from pytorch-lightning->ISLP) (4.12.2)\n",
            "Requirement already satisfied: lightning-utilities>=0.10.0 in /usr/local/lib/python3.10/dist-packages (from pytorch-lightning->ISLP) (0.11.8)\n",
            "Requirement already satisfied: filelock in /usr/local/lib/python3.10/dist-packages (from torch->ISLP) (3.16.1)\n",
            "Requirement already satisfied: networkx in /usr/local/lib/python3.10/dist-packages (from torch->ISLP) (3.4.2)\n",
            "Requirement already satisfied: jinja2 in /usr/local/lib/python3.10/dist-packages (from torch->ISLP) (3.1.4)\n",
            "Requirement already satisfied: sympy==1.13.1 in /usr/local/lib/python3.10/dist-packages (from torch->ISLP) (1.13.1)\n",
            "Requirement already satisfied: mpmath<1.4,>=1.1.0 in /usr/local/lib/python3.10/dist-packages (from sympy==1.13.1->torch->ISLP) (1.3.0)\n",
            "Requirement already satisfied: interface-meta>=1.2.0 in /usr/local/lib/python3.10/dist-packages (from formulaic>=0.2.2->lifelines->ISLP) (1.3.0)\n",
            "Requirement already satisfied: wrapt>=1.0 in /usr/local/lib/python3.10/dist-packages (from formulaic>=0.2.2->lifelines->ISLP) (1.16.0)\n",
            "Requirement already satisfied: aiohttp!=4.0.0a0,!=4.0.0a1 in /usr/local/lib/python3.10/dist-packages (from fsspec[http]>=2022.5.0->pytorch-lightning->ISLP) (3.10.10)\n",
            "Requirement already satisfied: setuptools in /usr/local/lib/python3.10/dist-packages (from lightning-utilities>=0.10.0->pytorch-lightning->ISLP) (75.1.0)\n",
            "Requirement already satisfied: contourpy>=1.0.1 in /usr/local/lib/python3.10/dist-packages (from matplotlib>=3.0->lifelines->ISLP) (1.3.0)\n",
            "Requirement already satisfied: cycler>=0.10 in /usr/local/lib/python3.10/dist-packages (from matplotlib>=3.0->lifelines->ISLP) (0.12.1)\n",
            "Requirement already satisfied: fonttools>=4.22.0 in /usr/local/lib/python3.10/dist-packages (from matplotlib>=3.0->lifelines->ISLP) (4.54.1)\n",
            "Requirement already satisfied: kiwisolver>=1.0.1 in /usr/local/lib/python3.10/dist-packages (from matplotlib>=3.0->lifelines->ISLP) (1.4.7)\n",
            "Requirement already satisfied: pillow>=6.2.0 in /usr/local/lib/python3.10/dist-packages (from matplotlib>=3.0->lifelines->ISLP) (11.0.0)\n",
            "Requirement already satisfied: pyparsing>=2.3.1 in /usr/local/lib/python3.10/dist-packages (from matplotlib>=3.0->lifelines->ISLP) (3.2.0)\n",
            "Requirement already satisfied: six in /usr/local/lib/python3.10/dist-packages (from patsy>=0.5.6->statsmodels>=0.13->ISLP) (1.16.0)\n",
            "Requirement already satisfied: python-utils>=3.8.1 in /usr/local/lib/python3.10/dist-packages (from progressbar2<5.0.0,>=4.2.0->pygam->ISLP) (3.9.0)\n",
            "Requirement already satisfied: MarkupSafe>=2.0 in /usr/local/lib/python3.10/dist-packages (from jinja2->torch->ISLP) (3.0.2)\n",
            "Requirement already satisfied: aiohappyeyeballs>=2.3.0 in /usr/local/lib/python3.10/dist-packages (from aiohttp!=4.0.0a0,!=4.0.0a1->fsspec[http]>=2022.5.0->pytorch-lightning->ISLP) (2.4.3)\n",
            "Requirement already satisfied: aiosignal>=1.1.2 in /usr/local/lib/python3.10/dist-packages (from aiohttp!=4.0.0a0,!=4.0.0a1->fsspec[http]>=2022.5.0->pytorch-lightning->ISLP) (1.3.1)\n",
            "Requirement already satisfied: attrs>=17.3.0 in /usr/local/lib/python3.10/dist-packages (from aiohttp!=4.0.0a0,!=4.0.0a1->fsspec[http]>=2022.5.0->pytorch-lightning->ISLP) (24.2.0)\n",
            "Requirement already satisfied: frozenlist>=1.1.1 in /usr/local/lib/python3.10/dist-packages (from aiohttp!=4.0.0a0,!=4.0.0a1->fsspec[http]>=2022.5.0->pytorch-lightning->ISLP) (1.5.0)\n",
            "Requirement already satisfied: multidict<7.0,>=4.5 in /usr/local/lib/python3.10/dist-packages (from aiohttp!=4.0.0a0,!=4.0.0a1->fsspec[http]>=2022.5.0->pytorch-lightning->ISLP) (6.1.0)\n",
            "Requirement already satisfied: yarl<2.0,>=1.12.0 in /usr/local/lib/python3.10/dist-packages (from aiohttp!=4.0.0a0,!=4.0.0a1->fsspec[http]>=2022.5.0->pytorch-lightning->ISLP) (1.17.1)\n",
            "Requirement already satisfied: async-timeout<5.0,>=4.0 in /usr/local/lib/python3.10/dist-packages (from aiohttp!=4.0.0a0,!=4.0.0a1->fsspec[http]>=2022.5.0->pytorch-lightning->ISLP) (4.0.3)\n",
            "Requirement already satisfied: idna>=2.0 in /usr/local/lib/python3.10/dist-packages (from yarl<2.0,>=1.12.0->aiohttp!=4.0.0a0,!=4.0.0a1->fsspec[http]>=2022.5.0->pytorch-lightning->ISLP) (3.10)\n",
            "Requirement already satisfied: propcache>=0.2.0 in /usr/local/lib/python3.10/dist-packages (from yarl<2.0,>=1.12.0->aiohttp!=4.0.0a0,!=4.0.0a1->fsspec[http]>=2022.5.0->pytorch-lightning->ISLP) (0.2.0)\n"
          ]
        }
      ],
      "source": [
        "###(Q4)\n",
        "###(A)\n",
        "!pip install ISLP\n",
        "\n",
        "import pandas as pd\n",
        "from ISLP import load_data\n",
        "\n",
        "from sklearn.model_selection import train_test_split\n",
        "college = load_data(\"College\")\n",
        "X = college.drop(\"Apps\", axis=1)\n",
        "y = college[\"Apps\"]\n",
        "X = pd.get_dummies(X, drop_first=True)\n",
        "X_train, X_test, y_train, y_test = train_test_split(X, y, test_size=0.3, random_state=0)"
      ]
    },
    {
      "cell_type": "code",
      "source": [
        "###(b)\n",
        "\n",
        "from sklearn.linear_model import LinearRegression\n",
        "from sklearn.metrics import mean_squared_error\n",
        "\n",
        "# 線性迴歸模型\n",
        "linear_model = LinearRegression()\n",
        "linear_model.fit(X_train, y_train)\n",
        "\n",
        "# 預測與計算測試誤差\n",
        "y_pred_linear = linear_model.predict(X_test)\n",
        "test_error_linear = mean_squared_error(y_test, y_pred_linear)\n",
        "\n",
        "print(\"Test error (Linear Regression):\", test_error_linear)"
      ],
      "metadata": {
        "colab": {
          "base_uri": "https://localhost:8080/"
        },
        "id": "oMsCrEJ9rC6f",
        "outputId": "81594181-39ce-4ec2-f1df-faed4e351d1f"
      },
      "execution_count": 10,
      "outputs": [
        {
          "output_type": "stream",
          "name": "stdout",
          "text": [
            "Test error (Linear Regression): 1659682.1719133756\n"
          ]
        }
      ]
    },
    {
      "cell_type": "code",
      "source": [
        "###(c)\n",
        "\n",
        "from sklearn.linear_model import RidgeCV\n",
        "\n",
        "# 嶺迴歸模型，使用交叉驗證選擇最佳的 λ\n",
        "ridge_model = RidgeCV(alphas=[0.1, 1.0, 10.0], cv=5)\n",
        "ridge_model.fit(X_train, y_train)\n",
        "\n",
        "# 預測與計算測試誤差\n",
        "y_pred_ridge = ridge_model.predict(X_test)\n",
        "test_error_ridge = mean_squared_error(y_test, y_pred_ridge)\n",
        "\n",
        "print(\"Test error (Ridge Regression):\", test_error_ridge)\n",
        "print(\"Best lambda (Ridge):\", ridge_model.alpha_)\n"
      ],
      "metadata": {
        "colab": {
          "base_uri": "https://localhost:8080/"
        },
        "id": "RbI_zeSIsPk9",
        "outputId": "344ba283-1163-434d-f72e-c104872165f1"
      },
      "execution_count": 11,
      "outputs": [
        {
          "output_type": "stream",
          "name": "stdout",
          "text": [
            "Test error (Ridge Regression): 1642456.265965162\n",
            "Best lambda (Ridge): 10.0\n"
          ]
        }
      ]
    },
    {
      "cell_type": "code",
      "source": [
        "###(d)\n",
        "\n",
        "from sklearn.linear_model import LassoCV\n",
        "\n",
        "# Lasso 模型，使用交叉驗證選擇最佳的 λ\n",
        "lasso_model = LassoCV(cv=5)\n",
        "lasso_model.fit(X_train, y_train)\n",
        "\n",
        "# 預測與計算測試誤差\n",
        "y_pred_lasso = lasso_model.predict(X_test)\n",
        "test_error_lasso = mean_squared_error(y_test, y_pred_lasso)\n",
        "\n",
        "# 非零係數的數量\n",
        "num_nonzero_coeffs = sum(lasso_model.coef_ != 0)\n",
        "\n",
        "print(\"Test error (Lasso):\", test_error_lasso)\n",
        "print(\"Best lambda (Lasso):\", lasso_model.alpha_)\n",
        "print(\"Number of non-zero coefficients (Lasso):\", num_nonzero_coeffs)\n"
      ],
      "metadata": {
        "colab": {
          "base_uri": "https://localhost:8080/"
        },
        "id": "_lsu6rrasf83",
        "outputId": "b6123b2e-786d-4e06-9e4e-b994bdeecafe"
      },
      "execution_count": 12,
      "outputs": [
        {
          "output_type": "stream",
          "name": "stdout",
          "text": [
            "Test error (Lasso): 1914912.3699589907\n",
            "Best lambda (Lasso): 56401.126011064014\n",
            "Number of non-zero coefficients (Lasso): 5\n"
          ]
        }
      ]
    },
    {
      "cell_type": "code",
      "source": [
        "###(e)\n",
        "\n",
        "from sklearn.decomposition import PCA\n",
        "from sklearn.pipeline import make_pipeline\n",
        "from sklearn.model_selection import cross_val_score\n",
        "import numpy as np\n",
        "\n",
        "# 使用交叉驗證選擇最佳的主成分數量 M\n",
        "mse_scores = []\n",
        "for m in range(1, X_train.shape[1] + 1):\n",
        "    pca = PCA(n_components=m)\n",
        "    pcr_model = make_pipeline(pca, LinearRegression())\n",
        "    mse = -np.mean(cross_val_score(pcr_model, X_train, y_train, cv=5, scoring='neg_mean_squared_error'))\n",
        "    mse_scores.append(mse)\n",
        "\n",
        "# 找到 M 的最佳數量\n",
        "best_m = np.argmin(mse_scores) + 1\n",
        "\n",
        "# 使用最佳的 M 值重新擬合 PCR\n",
        "pca = PCA(n_components=best_m)\n",
        "pcr_model = make_pipeline(pca, LinearRegression())\n",
        "pcr_model.fit(X_train, y_train)\n",
        "\n",
        "# 預測與計算測試誤差\n",
        "y_pred_pcr = pcr_model.predict(X_test)\n",
        "test_error_pcr = mean_squared_error(y_test, y_pred_pcr)\n",
        "\n",
        "print(\"Test error (PCR):\", test_error_pcr)\n",
        "print(\"Best M (PCR):\", best_m)\n"
      ],
      "metadata": {
        "colab": {
          "base_uri": "https://localhost:8080/"
        },
        "id": "w_qPxYxrszZr",
        "outputId": "10e4e3fc-b5c7-46cc-aca0-fb383d953c5c"
      },
      "execution_count": 13,
      "outputs": [
        {
          "output_type": "stream",
          "name": "stdout",
          "text": [
            "Test error (PCR): 1659682.171913361\n",
            "Best M (PCR): 17\n"
          ]
        }
      ]
    },
    {
      "cell_type": "code",
      "source": [
        "###(f)\n",
        "from sklearn.cross_decomposition import PLSRegression\n",
        "\n",
        "# 使用交叉驗證選擇最佳的 M 值\n",
        "pls_mse_scores = []\n",
        "for m in range(1, X_train.shape[1] + 1):\n",
        "    pls_model = PLSRegression(n_components=m)\n",
        "    mse = -np.mean(cross_val_score(pls_model, X_train, y_train, cv=5, scoring='neg_mean_squared_error'))\n",
        "    pls_mse_scores.append(mse)\n",
        "\n",
        "# 找到最佳 M 值\n",
        "best_m_pls = np.argmin(pls_mse_scores) + 1\n",
        "\n",
        "# 使用最佳 M 值重新擬合 PLS\n",
        "pls_model = PLSRegression(n_components=best_m_pls)\n",
        "pls_model.fit(X_train, y_train)\n",
        "\n",
        "# 預測與計算測試誤差\n",
        "y_pred_pls = pls_model.predict(X_test)\n",
        "test_error_pls = mean_squared_error(y_test, y_pred_pls)\n",
        "\n",
        "print(\"Test error (PLS):\", test_error_pls)\n",
        "print(\"Best M (PLS):\", best_m_pls)\n"
      ],
      "metadata": {
        "colab": {
          "base_uri": "https://localhost:8080/"
        },
        "id": "aCxuHc_xs8Sr",
        "outputId": "4986dbd3-7a33-49de-da94-9f36ae0f8174"
      },
      "execution_count": 14,
      "outputs": [
        {
          "output_type": "stream",
          "name": "stdout",
          "text": [
            "Test error (PLS): 1665183.5856380877\n",
            "Best M (PLS): 9\n"
          ]
        }
      ]
    },
    {
      "cell_type": "code",
      "source": [
        "###(g)\n",
        "###模型選擇建議：如果測試誤差差距較小，可以優先選擇較簡單的模型（例如 Lasso），使模型更具解釋性。\n",
        "###整體來看，這些方法在誤差上的表現相差不大。\n",
        "###可以根據需求選擇 Ridge、PCR 或 PLS 來平衡模型的穩定性和簡單性。\n",
        "###如果目標是強調模型解釋性或簡單性，可以優先考慮 Lasso，但在這個例子中 Lasso 並未帶來效果提升。"
      ],
      "metadata": {
        "id": "LPL6f7nUwQiz"
      },
      "execution_count": null,
      "outputs": []
    }
  ]
}