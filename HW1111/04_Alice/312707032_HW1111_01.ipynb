{
 "cells": [
  {
   "cell_type": "markdown",
   "metadata": {},
   "source": [
    "### Ch06_Q3\n",
    "\n",
    "Suppose we estimate the regression coefficients in a linear regression model by minimizing:\n",
    "\n",
    "$\n",
    "\\sum_{i=1}^{n} \\left( y_i - \\beta_0 - \\sum_{j=1}^{p} \\beta_j x_{ij} \\right)^2 \\quad \\text{subject to} \\quad \\sum_{j=1}^{p} |\\beta_j| \\leq s\n",
    "$\n",
    "\n",
    "for a particular value of s. For parts (a) through (e), indicate which of i. through v. is correct. Justify your answer.\n",
    "\n",
    "- i. Increase initially, and then eventually start decreasing in an inverted U shape.\n",
    "- ii. Decrease initially, and then eventually start increasing in a U shape.\n",
    "- iii. Steadily increase.\n",
    "- iv. Steadily decrease.\n",
    "- v. Remain constant.\n",
    "\n",
    "#### (a) As we increase s from 0, the training RSS will:\n",
    "**Answer**: iv. Steadily decrease\n",
    "\n",
    "When s = 0, all coefficients are zero and predictions are constant. As s increases, model can better fit training data, causing training RSS to continuously decrease.\n",
    "\n",
    "#### (b) As we increase s from 0, the test RSS will:\n",
    "**Answer**: ii. Decrease initially, and then eventually start increasing in a U shape\n",
    "\n",
    "Initially decreases as s increases. However, may increase when s becomes too large due to overfitting, showing a U-shaped curve.\n",
    "\n",
    "#### (c) As we increase s from 0, the variance will:\n",
    "**Answer**: iii. Steadily increase\n",
    "\n",
    "Increases as s increases due to more model flexibility. The model becomes more susceptible to noise in training data, leading to continuously increasing variance.\n",
    "\n",
    "#### (d) As we increase s from 0, the (squared) bias will:\n",
    "**Answer**: iv. Steadily decrease\n",
    "\n",
    "Decreases as s increases due to fewer model constraints. The model better captures true relationships, resulting in continuously decreasing bias.\n",
    "\n",
    "#### (e) As we increase s from 0, the irreducible error will:\n",
    "**Answer**: v. Remain constant\n",
    "\n",
    "Represents inherent noise in data and is independent of model complexity. Therefore, it remains constant regardless of changes in s."
   ]
  }
 ],
 "metadata": {
  "language_info": {
   "name": "python"
  },
  "orig_nbformat": 4
 },
 "nbformat": 4,
 "nbformat_minor": 2
}
