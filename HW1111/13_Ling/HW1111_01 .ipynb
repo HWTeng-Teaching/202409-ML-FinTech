{
  "nbformat": 4,
  "nbformat_minor": 0,
  "metadata": {
    "colab": {
      "provenance": []
    },
    "kernelspec": {
      "name": "python3",
      "display_name": "Python 3"
    },
    "language_info": {
      "name": "python"
    }
  },
  "cells": [
    {
      "cell_type": "markdown",
      "source": [
        "# Ch06_Q3\n",
        "Suppose we estimate the regression coefficients in a linear regression\n",
        "model by minimizing![image.png](data:image/png;base64,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)\n",
        "\n",
        "for a particular value of s. For parts (a) through (e), indicate which\n",
        "of i. through v. is correct. Justify your answer.\n",
        "\n",
        "i. Increase initially, and then eventually start decreasing in an inverted U shape.\n",
        "\n",
        "ii. Decrease initially, and then eventually start increasing in a U shape.\n",
        "\n",
        "iii. Steadily increase.\n",
        "\n",
        "iv. Steadily decrease.\n",
        "\n",
        "v. Remain constant."
      ],
      "metadata": {
        "id": "KdwGLZtGlroI"
      }
    },
    {
      "cell_type": "markdown",
      "source": [
        "## (a) As we increase s from 0, the training RSS will:\n",
        "*   When s=0, the coefficients are all zero, so the model predicts a constant value (the mean of y), resulting in a high training RSS.\n",
        "*   As s increases, the model can fit the data better by adjusting the coefficients, decreasing the training RSS.\n",
        "*   Answer for (a): **iv. Steadily decrease**."
      ],
      "metadata": {
        "id": "D2-JmGUemLt9"
      }
    },
    {
      "cell_type": "markdown",
      "source": [
        "## (b) Repeat (a) for test RSS.\n",
        "\n",
        "*   Initially, as s increases, the model improves and the test RSS decreases.\n",
        "*   However, if s becomes too large, the model may overfit the training data, causing test RSS to increase again.\n",
        "*   Answer for (b): **ii. Decrease initially, and then eventually start increasing in a U shape**.\n",
        "\n",
        "\n",
        "\n",
        "\n"
      ],
      "metadata": {
        "id": "qsv2AI_nnTra"
      }
    },
    {
      "cell_type": "markdown",
      "source": [
        "## (c) Repeat (a) for variance.\n",
        "\n",
        "*   As s increases, the model has more flexibility, which increases the variance.\n",
        "*   Answer for (c): **iii. Steadily increase**.\n",
        "\n"
      ],
      "metadata": {
        "id": "A2QmmIYbo-0P"
      }
    },
    {
      "cell_type": "markdown",
      "source": [
        "## (d) Repeat (a) for (squared) bias.\n",
        "\n",
        "*   As s increases, the model has more freedom to fit the data, so the bias decreases.\n",
        "*   Answer for (d): **iv. Steadily decrease**.\n",
        "\n"
      ],
      "metadata": {
        "id": "ARAhisofpTFz"
      }
    },
    {
      "cell_type": "markdown",
      "source": [
        "## (e) Repeat (a) for the irreducible error.\n",
        "\n",
        "*   The irreducible error represents the noise in the data, which cannot be reduced by the model's complexity or parameter choices.\n",
        "*   Answer for (e): **v. Remain constant** .\n",
        "\n"
      ],
      "metadata": {
        "id": "FHfLyigBph7Q"
      }
    }
  ]
}