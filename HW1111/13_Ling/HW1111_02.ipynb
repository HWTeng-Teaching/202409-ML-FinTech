{
  "nbformat": 4,
  "nbformat_minor": 0,
  "metadata": {
    "colab": {
      "provenance": []
    },
    "kernelspec": {
      "name": "python3",
      "display_name": "Python 3"
    },
    "language_info": {
      "name": "python"
    }
  },
  "cells": [
    {
      "cell_type": "markdown",
      "source": [
        "# Ch06_Q4\n",
        "Suppose we estimate the regression coefficients in a linear regression\n",
        "model by minimizing\n",
        "\n",
        "![image.png](data:image/png;base64,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)\n",
        "\n",
        "for a particular value of !. For parts (a) through (e), indicate which\n",
        "of i. through v. is correct. Justify your answer.\n",
        "\n",
        "i. Increase initially, and then eventually start decreasing in an\n",
        "inverted U shape.\n",
        "\n",
        "ii. Decrease initially, and then eventually start increasing in a\n",
        "U shape.\n",
        "\n",
        "iii. Steadily increase.\n",
        "\n",
        "iv. Steadily decrease.\n",
        "\n",
        "v. Remain constant."
      ],
      "metadata": {
        "id": "Kwi121C5qQ6h"
      }
    },
    {
      "cell_type": "markdown",
      "source": [
        "## (a) As we increase ! from 0, the training RSS will:\n",
        "\n",
        "*    In Ridge regression, as λ increases, the penalty on the coefficients βj grows, which forces them to shrink towards zero. This makes the model less flexible, leading to a higher training RSS (Residual Sum of Squares). Therefore, as λ increases from 0, the training RSS will steadily increase.\n",
        "*   Ans:**iii. Steadily increase.**\n",
        "\n"
      ],
      "metadata": {
        "id": "0EbrP_fpqsIl"
      }
    },
    {
      "cell_type": "markdown",
      "source": [
        "## (b) Repeat (a) for test RSS.\n",
        "\n",
        "*   For the test RSS, there's typically a sweet spot for λ. Initially, increasing λ can help reduce overfitting, which reduces test RSS. However, as λ continues to increase, the model becomes too rigid and underfits the data, causing test RSS to rise again. This results in a U-shaped curve for test RSS as λ increases.\n",
        "*   Answer: **ii. Decrease initially, and then eventually start increasing in a U shape**.\n",
        "\n"
      ],
      "metadata": {
        "id": "X3kcvhJZrRJa"
      }
    },
    {
      "cell_type": "markdown",
      "source": [
        "## (c) Repeat (a) for variance.\n",
        "\n",
        "*   Increasing λ shrinks the coefficients, reducing the model’s sensitivity to fluctuations in the training data. This leads to a more stable model with lower variance.\n",
        "*   Ans: **iv. Steadily decrease**.\n",
        "\n"
      ],
      "metadata": {
        "id": "56icFuWVromH"
      }
    },
    {
      "cell_type": "markdown",
      "source": [
        "## (d) Repeat (a) for (squared) bias.\n",
        "\n",
        "\n",
        "*   As λ increases, the model becomes less flexible and more biased, as it can no longer fit the data as closely. This leads to an increase in the (squared) bias.\n",
        "*   Ans: **iii. Steadily increase**.\n",
        "\n"
      ],
      "metadata": {
        "id": "q0rfaoKsrois"
      }
    },
    {
      "cell_type": "markdown",
      "source": [
        "## (e) Repeat (a) for the irreducible error.\n",
        "\n",
        "*   he irreducible error is inherent in the data and is independent of the model. Changing λ does not affect this part of the error, so it remains constant.\n",
        "*   Ans: **v. Remain constant**.\n",
        "\n"
      ],
      "metadata": {
        "id": "ni27hFXEsLQU"
      }
    }
  ]
}