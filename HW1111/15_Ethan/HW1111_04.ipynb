{
 "cells": [
  {
   "cell_type": "markdown",
   "id": "e40b3637-f10f-49ad-960d-c93226059bfa",
   "metadata": {},
   "source": [
    "# HW1111Q4 CH06Q09"
   ]
  },
  {
   "cell_type": "markdown",
   "id": "b8cbee90-722c-4c51-a507-55be0d70668c",
   "metadata": {},
   "source": [
    "### 9. In this exercise, we will predict the number of applications received using the other variables in the College data set."
   ]
  },
  {
   "cell_type": "markdown",
   "id": "e7f56e6d-2063-45dc-ac81-d5af4ccf8b02",
   "metadata": {},
   "source": [
    "##### (a) Split the data set into a training set and a test set."
   ]
  },
  {
   "cell_type": "code",
   "execution_count": 1,
   "id": "92a18107-a76a-479d-8cd4-4081e9173f3a",
   "metadata": {},
   "outputs": [],
   "source": [
    "from sklearn.model_selection import train_test_split\n",
    "import pandas as pd\n",
    "from ISLP import load_data\n",
    "\n",
    "college = load_data(\"College\")\n",
    "X = college.drop(\"Apps\", axis=1)\n",
    "y = college[\"Apps\"]\n",
    "X = pd.get_dummies(X, drop_first=True)\n",
    "X_train, X_test, y_train, y_test = train_test_split(X, y, test_size=0.3, random_state=0)"
   ]
  },
  {
   "cell_type": "markdown",
   "id": "aa05c607-6b95-4174-82fb-22de82783f9f",
   "metadata": {},
   "source": [
    "##### (b) Fit a linear model using least squares on the training set, and report the test error obtained."
   ]
  },
  {
   "cell_type": "code",
   "execution_count": 2,
   "id": "9e870129-74c7-4ec6-bcb1-67bf878c3034",
   "metadata": {},
   "outputs": [
    {
     "name": "stdout",
     "output_type": "stream",
     "text": [
      "Test Error (Mean Squared Error): 1659682.171913388\n"
     ]
    }
   ],
   "source": [
    "from sklearn.linear_model import LinearRegression\n",
    "from sklearn.metrics import mean_squared_error\n",
    "\n",
    "model = LinearRegression()\n",
    "model.fit(X_train, y_train)\n",
    "y_pred = model.predict(X_test)\n",
    "mse = mean_squared_error(y_test, y_pred)\n",
    "\n",
    "print(f\"Test Error (Mean Squared Error): {mse}\")"
   ]
  },
  {
   "cell_type": "markdown",
   "id": "775a0a67-8f4e-480f-a6b3-b92b54e3505c",
   "metadata": {},
   "source": [
    "##### (c) Fit a ridge regression model on the training set, with λ chosen by cross-validation. Report the test error obtained."
   ]
  },
  {
   "cell_type": "code",
   "execution_count": 3,
   "id": "ee2d4288-cba6-4586-8d8a-9fcb964f732c",
   "metadata": {},
   "outputs": [
    {
     "name": "stdout",
     "output_type": "stream",
     "text": [
      "Ridge Test Error (Mean Squared Error): 1657434.7315285418\n",
      "Best λ (alpha) chosen by cross-validation: 1.0\n"
     ]
    }
   ],
   "source": [
    "from sklearn.linear_model import RidgeCV\n",
    "\n",
    "ridge_model = RidgeCV(alphas=[0.1, 1.0, 10.0, 100.0], store_cv_values=True)\n",
    "ridge_model.fit(X_train, y_train)\n",
    "\n",
    "y_pred_ridge = ridge_model.predict(X_test)\n",
    "\n",
    "mse_ridge = mean_squared_error(y_test, y_pred_ridge)\n",
    "\n",
    "print(f\"Ridge Test Error (Mean Squared Error): {mse_ridge}\")\n",
    "print(f\"Best λ (alpha) chosen by cross-validation: {ridge_model.alpha_}\")"
   ]
  },
  {
   "cell_type": "markdown",
   "id": "25410272-8280-443d-80c1-0a5e3cdf815d",
   "metadata": {},
   "source": [
    "##### (d) Fit a lasso model on the training set, with λ chosen by crossvalidation. Report the test error obtained, along with the number of non-zero coefficient estimates."
   ]
  },
  {
   "cell_type": "code",
   "execution_count": 4,
   "id": "2aba8ff6-519e-4717-9e59-7200a44e42ce",
   "metadata": {},
   "outputs": [
    {
     "name": "stdout",
     "output_type": "stream",
     "text": [
      "Lasso Test Error (Mean Squared Error): 1657794.6179723172\n",
      "Best λ chosen by cross-validation: 1.0\n",
      "Number of non-zero coefficients: 17\n"
     ]
    }
   ],
   "source": [
    "from sklearn.linear_model import LassoCV\n",
    "\n",
    "lasso_model = LassoCV(alphas=[0.1, 1.0, 10.0, 100.0], cv=5)\n",
    "lasso_model.fit(X_train, y_train)\n",
    "\n",
    "y_pred_lasso = lasso_model.predict(X_test)\n",
    "\n",
    "mse_lasso = mean_squared_error(y_test, y_pred_lasso)\n",
    "\n",
    "print(f\"Lasso Test Error (Mean Squared Error): {mse_lasso}\")\n",
    "print(f\"Best λ chosen by cross-validation: {lasso_model.alpha_}\")\n",
    "print(f\"Number of non-zero coefficients: {sum(lasso_model.coef_ != 0)}\")"
   ]
  },
  {
   "cell_type": "markdown",
   "id": "86a858d2-204b-4b69-a4e6-0325f4cbf270",
   "metadata": {},
   "source": [
    "##### (e) Fit a PCR model on the training set, with M chosen by crossvalidation. Report the test error obtained, along with the value of M selected by cross-validation."
   ]
  },
  {
   "cell_type": "code",
   "execution_count": 5,
   "id": "6dac3238-5fb6-4a1e-b1de-a623aa52bb4d",
   "metadata": {},
   "outputs": [
    {
     "name": "stdout",
     "output_type": "stream",
     "text": [
      "PCR Test Error (Mean Squared Error): 1659682.171913392\n",
      "Best M (number of principal components) chosen by cross-validation: 17\n"
     ]
    }
   ],
   "source": [
    "from sklearn.decomposition import PCA\n",
    "from sklearn.linear_model import LinearRegression\n",
    "from sklearn.pipeline import make_pipeline\n",
    "from sklearn.model_selection import cross_val_score\n",
    "\n",
    "best_m = 0\n",
    "best_mse = float('inf')\n",
    "for m in range(1, X_train.shape[1] + 1):\n",
    "    pcr_model = make_pipeline(PCA(n_components=m), LinearRegression())\n",
    "    mse = -cross_val_score(pcr_model, X_train, y_train, cv=5, scoring=\"neg_mean_squared_error\").mean()\n",
    "    if mse < best_mse:\n",
    "        best_mse = mse\n",
    "        best_m = m\n",
    "\n",
    "pcr_model = make_pipeline(PCA(n_components=best_m), LinearRegression())\n",
    "pcr_model.fit(X_train, y_train)\n",
    "\n",
    "y_pred_pcr = pcr_model.predict(X_test)\n",
    "\n",
    "mse_pcr = mean_squared_error(y_test, y_pred_pcr)\n",
    "\n",
    "print(f\"PCR Test Error (Mean Squared Error): {mse_pcr}\")\n",
    "print(f\"Best M (number of principal components) chosen by cross-validation: {best_m}\")"
   ]
  },
  {
   "cell_type": "markdown",
   "id": "32ad5343-35c3-4591-abfa-dbf68a5b9941",
   "metadata": {},
   "source": [
    "##### (f) Fit a PLS model on the training set, with M chosen by crossvalidation. Report the test error obtained, along with the value of M selected by cross-validation."
   ]
  },
  {
   "cell_type": "code",
   "execution_count": 6,
   "id": "025c5607-ec45-4bc4-a8ee-d4e86850ebe0",
   "metadata": {},
   "outputs": [
    {
     "name": "stdout",
     "output_type": "stream",
     "text": [
      "PLS Test Error (Mean Squared Error): 1665183.585638088\n",
      "Best M (number of components) chosen by cross-validation: 9\n"
     ]
    }
   ],
   "source": [
    "from sklearn.cross_decomposition import PLSRegression\n",
    "\n",
    "best_m_pls = 0\n",
    "best_mse_pls = float('inf')\n",
    "for m in range(1, X_train.shape[1] + 1):\n",
    "    pls_model = PLSRegression(n_components=m)\n",
    "    mse = -cross_val_score(pls_model, X_train, y_train, cv=5, scoring=\"neg_mean_squared_error\").mean()\n",
    "    if mse < best_mse_pls:\n",
    "        best_mse_pls = mse\n",
    "        best_m_pls = m\n",
    "\n",
    "pls_model = PLSRegression(n_components=best_m_pls)\n",
    "pls_model.fit(X_train, y_train)\n",
    "\n",
    "y_pred_pls = pls_model.predict(X_test)\n",
    "\n",
    "mse_pls = mean_squared_error(y_test, y_pred_pls)\n",
    "\n",
    "print(f\"PLS Test Error (Mean Squared Error): {mse_pls}\")\n",
    "print(f\"Best M (number of components) chosen by cross-validation: {best_m_pls}\")"
   ]
  },
  {
   "cell_type": "markdown",
   "id": "98413cef-d83e-497a-b01b-4487359d1571",
   "metadata": {},
   "source": [
    "##### (g) Comment on the results obtained. How accurately can we predict the number of college applications received? Is there much difference among the test errors resulting from these five approaches?"
   ]
  },
  {
   "cell_type": "code",
   "execution_count": 7,
   "id": "f272a20f-5b64-42f8-b0c3-3fa241c177f7",
   "metadata": {},
   "outputs": [
    {
     "name": "stdout",
     "output_type": "stream",
     "text": [
      "The ridge model provides the lowest test error, followed by lasso. The results from these two models are better than those from PCR and PLS.\n",
      "The difference in test error between the five methods is not significant.\n"
     ]
    }
   ],
   "source": [
    "print(\"The ridge model provides the lowest test error, followed by lasso. The results from these two models are better than those from PCR and PLS.\")\n",
    "print(\"The difference in test error between the five methods is not significant.\")"
   ]
  }
 ],
 "metadata": {
  "kernelspec": {
   "display_name": "Python 3 (ipykernel)",
   "language": "python",
   "name": "python3"
  },
  "language_info": {
   "codemirror_mode": {
    "name": "ipython",
    "version": 3
   },
   "file_extension": ".py",
   "mimetype": "text/x-python",
   "name": "python",
   "nbconvert_exporter": "python",
   "pygments_lexer": "ipython3",
   "version": "3.12.4"
  }
 },
 "nbformat": 4,
 "nbformat_minor": 5
}
