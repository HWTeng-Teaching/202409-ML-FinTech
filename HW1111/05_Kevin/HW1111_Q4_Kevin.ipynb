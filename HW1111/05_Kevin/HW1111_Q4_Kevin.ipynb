{
 "cells": [
  {
   "cell_type": "markdown",
   "metadata": {},
   "source": [
    "# 9. In this exercise, we will predict the number of applications received using the other variables in the College data set."
   ]
  },
  {
   "cell_type": "markdown",
   "metadata": {},
   "source": [
    "## (a) Split the data set into a training set and a test set."
   ]
  },
  {
   "cell_type": "code",
   "execution_count": null,
   "metadata": {},
   "outputs": [],
   "source": [
    "import pandas as pd\n",
    "import numpy as np\n",
    "from ISLP import load_data\n",
    "from sklearn.model_selection import train_test_split\n",
    "from sklearn.metrics import mean_squared_error\n",
    "from math import sqrt\n",
    "\n",
    "#Load the College dataset from ISLP package\n",
    "df = load_data('College')\n",
    "\n",
    "#Convert categorical variables to dummy variables\n",
    "X = pd.get_dummies(df.drop(columns=['Apps']), drop_first=True)\n",
    "y = df['Apps']\n",
    "\n",
    "#Split the data into a training set and a test set\n",
    "X_train, X_test, y_train, y_test = train_test_split(X, y, test_size=0.3, random_state=42)"
   ]
  },
  {
   "cell_type": "markdown",
   "metadata": {},
   "source": [
    "## (b) Fit a linear model using least squares on the training set, and report the test error obtained."
   ]
  },
  {
   "cell_type": "code",
   "execution_count": null,
   "metadata": {},
   "outputs": [
    {
     "name": "stdout",
     "output_type": "stream",
     "text": [
      "Test Error (Linear Regression): 1389.8932312257036\n"
     ]
    }
   ],
   "source": [
    "from sklearn.linear_model import LinearRegression\n",
    "\n",
    "lm = LinearRegression()\n",
    "lm.fit(X_train, y_train)\n",
    "y_pred_lm = lm.predict(X_test)\n",
    "test_error_lm = mean_squared_error(y_test, y_pred_lm)\n",
    "print(\"Test Error (Linear Regression):\", sqrt(test_error_lm))\n"
   ]
  },
  {
   "cell_type": "markdown",
   "metadata": {},
   "source": [
    "## (c) Fit a ridge regression model on the training set, with λ chosen by cross-validation. Report the test error obtained."
   ]
  },
  {
   "cell_type": "code",
   "execution_count": 9,
   "metadata": {},
   "outputs": [
    {
     "name": "stdout",
     "output_type": "stream",
     "text": [
      "Test Error (Ridge Regression): 1388.0510461162175\n"
     ]
    }
   ],
   "source": [
    "from sklearn.linear_model import RidgeCV\n",
    "\n",
    "ridge_cv = RidgeCV(alphas=np.logspace(-6, 6, 13), scoring='neg_mean_squared_error', cv=10)\n",
    "ridge_cv.fit(X_train, y_train)\n",
    "y_pred_ridge = ridge_cv.predict(X_test)\n",
    "test_error_ridge = mean_squared_error(y_test, y_pred_ridge)\n",
    "print(\"Test Error (Ridge Regression):\", sqrt(test_error_ridge))"
   ]
  },
  {
   "cell_type": "markdown",
   "metadata": {},
   "source": [
    "## (d) Fit a lasso model on the training set, with chosen by cross validation. Report the test error obtained, along with the number of non-zero coefficient estimates"
   ]
  },
  {
   "cell_type": "code",
   "execution_count": 10,
   "metadata": {},
   "outputs": [
    {
     "name": "stdout",
     "output_type": "stream",
     "text": [
      "Test Error (Lasso Regression): 1389.6937633335688\n",
      "Number of non-zero coefficients (Lasso): 17\n"
     ]
    }
   ],
   "source": [
    "from sklearn.linear_model import LassoCV\n",
    "\n",
    "lasso_cv = LassoCV(alphas=np.logspace(-6, 6, 13), cv=10, random_state=42)\n",
    "lasso_cv.fit(X_train, y_train)\n",
    "y_pred_lasso = lasso_cv.predict(X_test)\n",
    "test_error_lasso = mean_squared_error(y_test, y_pred_lasso)\n",
    "non_zero_coefs = np.sum(lasso_cv.coef_ != 0)\n",
    "print(\"Test Error (Lasso Regression):\", sqrt(test_error_lasso))\n",
    "print(\"Number of non-zero coefficients (Lasso):\", non_zero_coefs)\n"
   ]
  },
  {
   "cell_type": "markdown",
   "metadata": {},
   "source": [
    "## (e) Fit a PCR model on the training set, with M chosen by cross validation. Report the test error obtained, along with the value of M selected by cross-validation."
   ]
  },
  {
   "cell_type": "code",
   "execution_count": null,
   "metadata": {},
   "outputs": [
    {
     "name": "stdout",
     "output_type": "stream",
     "text": [
      "Optimal number of components (PCR): 16\n",
      "Test Error (PCR): 1388.7859506033444\n"
     ]
    }
   ],
   "source": [
    "from sklearn.decomposition import PCA\n",
    "\n",
    "#Using PCA for dimensionality reduction, followed by linear regression\n",
    "mse_pcr = []\n",
    "for i in range(1, X_train.shape[1] + 1):\n",
    "    pca = PCA(n_components=i)\n",
    "    X_train_pca = pca.fit_transform(X_train)\n",
    "    X_test_pca = pca.transform(X_test)\n",
    "    lm_pca = LinearRegression()\n",
    "    lm_pca.fit(X_train_pca, y_train)\n",
    "    y_pred_pca = lm_pca.predict(X_test_pca)\n",
    "    mse_pcr.append(mean_squared_error(y_test, y_pred_pca))\n",
    "\n",
    "#Choose the optimal number of components based on minimum MSE\n",
    "optimal_M_pcr = np.argmin(mse_pcr) + 1\n",
    "print(\"Optimal number of components (PCR):\", optimal_M_pcr)\n",
    "print(\"Test Error (PCR):\", sqrt(mse_pcr[optimal_M_pcr - 1]))"
   ]
  },
  {
   "cell_type": "markdown",
   "metadata": {},
   "source": [
    "##  (f) Fit a PLS model on the training set, with M chosen by cross validation. Report the test error obtained, along with the value of M selected by cross-validation"
   ]
  },
  {
   "cell_type": "code",
   "execution_count": null,
   "metadata": {},
   "outputs": [
    {
     "name": "stdout",
     "output_type": "stream",
     "text": [
      "Optimal number of components (PLS): 11\n",
      "Test Error (PLS): 1381.4172155500146\n"
     ]
    }
   ],
   "source": [
    "from sklearn.cross_decomposition import PLSRegression\n",
    "\n",
    "mse_pls = []\n",
    "for i in range(1, X_train.shape[1] + 1):\n",
    "    pls = PLSRegression(n_components=i)\n",
    "    pls.fit(X_train, y_train)\n",
    "    y_pred_pls = pls.predict(X_test)\n",
    "    mse_pls.append(mean_squared_error(y_test, y_pred_pls))\n",
    "\n",
    "#Choose the optimal number of components based on minimum MSE\n",
    "optimal_M_pls = np.argmin(mse_pls) + 1\n",
    "print(\"Optimal number of components (PLS):\", optimal_M_pls)\n",
    "print(\"Test Error (PLS):\", sqrt(mse_pls[optimal_M_pls - 1]))"
   ]
  },
  {
   "cell_type": "markdown",
   "metadata": {},
   "source": [
    "##  (g) Comment on the results obtained. How accurately can we predict the number of college applications received? Is there much difference among the test errors resulting from these five approaches"
   ]
  },
  {
   "cell_type": "code",
   "execution_count": 13,
   "metadata": {},
   "outputs": [
    {
     "name": "stdout",
     "output_type": "stream",
     "text": [
      "Linear Regression: 1389.8932312257036\n",
      "Ridge Regression: 1388.0510461162175\n",
      "Lasso Regression: 1389.6937633335688\n",
      "PCR (optimal M): 1388.7859506033444\n",
      "PLS (optimal M): 1381.4172155500146\n"
     ]
    }
   ],
   "source": [
    "print(\"Linear Regression:\", sqrt(test_error_lm))\n",
    "print(\"Ridge Regression:\", sqrt(test_error_ridge))\n",
    "print(\"Lasso Regression:\", sqrt(test_error_lasso))\n",
    "print(\"PCR (optimal M):\", sqrt(mse_pcr[optimal_M_pcr - 1]))\n",
    "print(\"PLS (optimal M):\", sqrt(mse_pls[optimal_M_pls - 1]))"
   ]
  },
  {
   "cell_type": "markdown",
   "metadata": {},
   "source": [
    "While PLS has the lowest test error, the difference is minimal. "
   ]
  }
 ],
 "metadata": {
  "kernelspec": {
   "display_name": "Python 3",
   "language": "python",
   "name": "python3"
  },
  "language_info": {
   "codemirror_mode": {
    "name": "ipython",
    "version": 3
   },
   "file_extension": ".py",
   "mimetype": "text/x-python",
   "name": "python",
   "nbconvert_exporter": "python",
   "pygments_lexer": "ipython3",
   "version": "3.12.6"
  }
 },
 "nbformat": 4,
 "nbformat_minor": 2
}
