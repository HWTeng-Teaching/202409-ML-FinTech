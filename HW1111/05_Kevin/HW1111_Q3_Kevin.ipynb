{
 "cells": [
  {
   "cell_type": "markdown",
   "metadata": {},
   "source": [
    "# 8. In this exercise, we will generate simulated data, and will then use this data to perform forward and backward stepwise selection."
   ]
  },
  {
   "cell_type": "markdown",
   "metadata": {},
   "source": [
    "## (a) Create a random number generator and use its normal() method to generate a predictor X of length n = 100, as well as a noise vector of length n = 100."
   ]
  },
  {
   "cell_type": "code",
   "execution_count": 2,
   "metadata": {},
   "outputs": [],
   "source": [
    "import numpy as np\n",
    "import pandas as pd\n",
    "import statsmodels.api as sm\n",
    "from sklearn.model_selection import train_test_split\n",
    "from sklearn.metrics import mean_squared_error\n",
    "\n",
    "\n",
    "#Generate data\n",
    "np.random.seed(0)\n",
    "n = 100\n",
    "X = np.random.normal(size=n)\n",
    "epsilon = np.random.normal(size=n)"
   ]
  },
  {
   "cell_type": "markdown",
   "metadata": {},
   "source": [
    "## (b) Generate a response vector Y of length n = 100 according to the model Y = β0+β1X+β2X2+β3X3+ε , whereβ0,β1,β2, and β3 are constants of your choice."
   ]
  },
  {
   "cell_type": "code",
   "execution_count": 3,
   "metadata": {},
   "outputs": [],
   "source": [
    "from sklearn.preprocessing import PolynomialFeatures\n",
    "\n",
    "#Choose constants for the model\n",
    "beta_0, beta_1, beta_2, beta_3 = 1, 2, 3, 4\n",
    "\n",
    "#Generate response Y according to the given model\n",
    "Y = beta_0 + beta_1 * X + beta_2 * X**2 + beta_3 * X**3 + epsilon\n",
    "\n",
    "#Prepare predictors: X, X^2, ..., X^10\n",
    "poly = PolynomialFeatures(degree=10, include_bias=False)\n",
    "X_poly = poly.fit_transform(X.reshape(-1, 1))"
   ]
  },
  {
   "cell_type": "markdown",
   "metadata": {},
   "source": [
    "## (c) Use forward stepwise selection in order to select a model contain ing the predictors X,X2,...,X10. What is the model obtained according to Cp? Report the coefficients of the model obtained."
   ]
  },
  {
   "cell_type": "code",
   "execution_count": 8,
   "metadata": {},
   "outputs": [
    {
     "name": "stdout",
     "output_type": "stream",
     "text": [
      "Forward Stepwise Selection Coefficients:\n",
      "[ 1.15959824  1.51956405  2.91523455  4.75358146 -0.2105724   0.01545021]\n"
     ]
    }
   ],
   "source": [
    "from sklearn.linear_model import LinearRegression\n",
    "from sklearn.feature_selection import SequentialFeatureSelector\n",
    "\n",
    "#Sequential Feature Selector for forward selection\n",
    "linear_model = LinearRegression()\n",
    "forward_sfs = SequentialFeatureSelector(linear_model, n_features_to_select='auto', direction='forward')\n",
    "forward_sfs.fit(X_poly, Y)\n",
    "selected_features_forward = forward_sfs.get_support(indices=True)\n",
    "\n",
    "#Fit the model with selected features\n",
    "X_forward_selected = X_poly[:, selected_features_forward]\n",
    "model_forward = sm.OLS(Y, sm.add_constant(X_forward_selected)).fit()\n",
    "print(\"Forward Stepwise Selection Coefficients:\")\n",
    "print(model_forward.params)"
   ]
  },
  {
   "cell_type": "markdown",
   "metadata": {},
   "source": [
    "## (d) Repeat (c), using backwards stepwise selection. How does your answer compare to the results in (c)?"
   ]
  },
  {
   "cell_type": "code",
   "execution_count": 10,
   "metadata": {},
   "outputs": [
    {
     "name": "stdout",
     "output_type": "stream",
     "text": [
      "Backward Stepwise Selection Coefficients:\n",
      "[ 2.02958511  1.00343255  5.43191348 -0.02586092 -1.71905645  0.15516683]\n"
     ]
    }
   ],
   "source": [
    "#Sequential Feature Selector for backward selection\n",
    "backward_sfs = SequentialFeatureSelector(linear_model, n_features_to_select='auto', direction='backward')\n",
    "backward_sfs.fit(X_poly, Y)\n",
    "selected_features_backward = backward_sfs.get_support(indices=True)\n",
    "\n",
    "#Fit the model with selected features\n",
    "X_backward_selected = X_poly[:, selected_features_backward]\n",
    "model_backward = sm.OLS(Y, sm.add_constant(X_backward_selected)).fit()\n",
    "print(\"Backward Stepwise Selection Coefficients:\")\n",
    "print(model_backward.params)\n"
   ]
  },
  {
   "cell_type": "markdown",
   "metadata": {},
   "source": [
    "Why different?"
   ]
  },
  {
   "cell_type": "markdown",
   "metadata": {},
   "source": [
    "1.Order of Variable Selection:"
   ]
  },
  {
   "cell_type": "markdown",
   "metadata": {},
   "source": [
    "In forward selection, predictors are added one by one. The order in which variables are added can lead to a different subset of predictors since early choices can influence later ones:then backward selection, all predictors start in the model, so the algorithm is initially fitting a more complex model and then simplifies it by removing variables."
   ]
  },
  {
   "cell_type": "markdown",
   "metadata": {},
   "source": [
    "2.Local vs. Global Optima:"
   ]
  },
  {
   "cell_type": "markdown",
   "metadata": {},
   "source": [
    "Both methods can lead to different models because they each follow a different path through the space of possible models. Each approach might end up at a different local minimum, particularly if the predictors are correlated or have non-linear relationships.Neither method guarantees finding the \"best\" model overall; they provide good approximations based on the chosen selection strategy."
   ]
  },
  {
   "cell_type": "markdown",
   "metadata": {},
   "source": [
    "## (e) Now fit a lasso model to the simulated data, again using X,X2,...,X10 as predictors. Use cross-validation to select the optimal value of λ. Create plots of the cross-validation error as a function of λ. Report the resulting coefficient estimates, and discuss the results obtained."
   ]
  },
  {
   "cell_type": "code",
   "execution_count": 4,
   "metadata": {},
   "outputs": [
    {
     "name": "stderr",
     "output_type": "stream",
     "text": [
      "c:\\Users\\坤達\\AppData\\Local\\Programs\\Python\\Python312\\Lib\\site-packages\\sklearn\\linear_model\\_coordinate_descent.py:683: ConvergenceWarning: Objective did not converge. You might want to increase the number of iterations. Duality gap: 4.249203685331395, tolerance: 1.7466233179205086\n",
      "  model = cd_fast.enet_coordinate_descent_gram(\n",
      "c:\\Users\\坤達\\AppData\\Local\\Programs\\Python\\Python312\\Lib\\site-packages\\sklearn\\linear_model\\_coordinate_descent.py:683: ConvergenceWarning: Objective did not converge. You might want to increase the number of iterations. Duality gap: 40.21211854031503, tolerance: 1.7466233179205086\n",
      "  model = cd_fast.enet_coordinate_descent_gram(\n",
      "c:\\Users\\坤達\\AppData\\Local\\Programs\\Python\\Python312\\Lib\\site-packages\\sklearn\\linear_model\\_coordinate_descent.py:683: ConvergenceWarning: Objective did not converge. You might want to increase the number of iterations. Duality gap: 3.3677156886665216, tolerance: 2.3498240213052504\n",
      "  model = cd_fast.enet_coordinate_descent_gram(\n",
      "c:\\Users\\坤達\\AppData\\Local\\Programs\\Python\\Python312\\Lib\\site-packages\\sklearn\\linear_model\\_coordinate_descent.py:683: ConvergenceWarning: Objective did not converge. You might want to increase the number of iterations. Duality gap: 39.231264921775164, tolerance: 2.3498240213052504\n",
      "  model = cd_fast.enet_coordinate_descent_gram(\n",
      "c:\\Users\\坤達\\AppData\\Local\\Programs\\Python\\Python312\\Lib\\site-packages\\sklearn\\linear_model\\_coordinate_descent.py:683: ConvergenceWarning: Objective did not converge. You might want to increase the number of iterations. Duality gap: 4.915318328603917, tolerance: 2.2921148120178194\n",
      "  model = cd_fast.enet_coordinate_descent_gram(\n",
      "c:\\Users\\坤達\\AppData\\Local\\Programs\\Python\\Python312\\Lib\\site-packages\\sklearn\\linear_model\\_coordinate_descent.py:683: ConvergenceWarning: Objective did not converge. You might want to increase the number of iterations. Duality gap: 40.10647254885498, tolerance: 2.2921148120178194\n",
      "  model = cd_fast.enet_coordinate_descent_gram(\n",
      "c:\\Users\\坤達\\AppData\\Local\\Programs\\Python\\Python312\\Lib\\site-packages\\sklearn\\linear_model\\_coordinate_descent.py:683: ConvergenceWarning: Objective did not converge. You might want to increase the number of iterations. Duality gap: 18.991251578065658, tolerance: 2.3441918864539932\n",
      "  model = cd_fast.enet_coordinate_descent_gram(\n",
      "c:\\Users\\坤達\\AppData\\Local\\Programs\\Python\\Python312\\Lib\\site-packages\\sklearn\\linear_model\\_coordinate_descent.py:683: ConvergenceWarning: Objective did not converge. You might want to increase the number of iterations. Duality gap: 26.399593208282795, tolerance: 2.25328204495357\n",
      "  model = cd_fast.enet_coordinate_descent_gram(\n",
      "c:\\Users\\坤達\\AppData\\Local\\Programs\\Python\\Python312\\Lib\\site-packages\\sklearn\\linear_model\\_coordinate_descent.py:697: ConvergenceWarning: Objective did not converge. You might want to increase the number of iterations, check the scale of the features or consider increasing regularisation. Duality gap: 1.557e+02, tolerance: 2.380e+00\n",
      "  model = cd_fast.enet_coordinate_descent(\n"
     ]
    },
    {
     "data": {
      "image/png": "[encoded data removed]",
      "text/plain": [
       "<Figure size 640x480 with 1 Axes>"
      ]
     },
     "metadata": {},
     "output_type": "display_data"
    }
   ],
   "source": [
    "from sklearn.linear_model import LassoCV\n",
    "import matplotlib.pyplot as plt\n",
    "\n",
    "lasso = LassoCV(cv=10).fit(X_poly, Y)\n",
    "\n",
    "plt.plot(lasso.alphas_, lasso.mse_path_.mean(axis=1), marker='o')\n",
    "plt.xlabel('Lambda')\n",
    "plt.ylabel('Cross-Validation Error')\n",
    "plt.title('Lasso Cross-Validation Error vs Lambda')\n",
    "plt.xscale('log')\n",
    "plt.show()\n"
   ]
  },
  {
   "cell_type": "markdown",
   "metadata": {},
   "source": [
    "λ=10 has the fewest error"
   ]
  },
  {
   "cell_type": "markdown",
   "metadata": {},
   "source": [
    "## (f) Now generate a response vector Y according to the model Y = β0+β7X7+ε , and perform forward stepwise selection and the lasso. Discuss the results obtained"
   ]
  },
  {
   "cell_type": "code",
   "execution_count": 14,
   "metadata": {},
   "outputs": [
    {
     "name": "stdout",
     "output_type": "stream",
     "text": [
      "Forward Stepwise Selection Coefficients for New Model:\n",
      "[ 1.07899026e+00 -6.12277745e-01  1.05079218e+00 -3.51310787e-01\n",
      "  7.03189830e+00  5.63857463e-05]\n",
      "Lasso Coefficients for New Model:\n",
      "[0.         0.         0.         0.         0.         0.\n",
      " 0.         0.         1.18509122 0.04362939]\n"
     ]
    }
   ],
   "source": [
    "beta_7 = 7\n",
    "Y_new = beta_0 + beta_7 * X**7 + epsilon\n",
    "\n",
    "# Forward stepwise selection for the new model\n",
    "forward_sfs_new = SequentialFeatureSelector(linear_model, n_features_to_select='auto', direction='forward')\n",
    "forward_sfs_new.fit(X_poly, Y_new)\n",
    "selected_features_forward_new = forward_sfs_new.get_support(indices=True)\n",
    "\n",
    "# Fit the model with selected features\n",
    "X_forward_selected_new = X_poly[:, selected_features_forward_new]\n",
    "model_forward_new = sm.OLS(Y_new, sm.add_constant(X_forward_selected_new)).fit()\n",
    "print(\"Forward Stepwise Selection Coefficients for New Model:\")\n",
    "print(model_forward_new.params)\n",
    "\n",
    "# Lasso for the new model\n",
    "lasso_new = LassoCV(cv=10).fit(X_poly, Y_new)\n",
    "print(\"Lasso Coefficients for New Model:\")\n",
    "print(lasso_new.coef_)"
   ]
  },
  {
   "cell_type": "markdown",
   "metadata": {},
   "source": [
    "1.Forward Stepwise Selection starts with no variables and adds the most significant variable at each step, so the final model generally includes more non-zero coefficients (as seen here), which may have both positive and negative values.However, it lacks strong regularization, so even small coefficients remain in the model."
   ]
  },
  {
   "cell_type": "markdown",
   "metadata": {},
   "source": [
    "2.Lasso Regression applies L1 regularization (an absolute value penalty) to perform variable selection by shrinking the coefficients of unimportant variables to zero, resulting in a sparse model that contains only a few significant variables.In this result, only two variables have non-zero coefficients, specifically 1.18509122 and 0.04362939, which means that Lasso identified these as the only variables with substantial predictive value, and it set the other coefficients to zero as they contributed minimally to the model."
   ]
  }
 ],
 "metadata": {
  "kernelspec": {
   "display_name": "Python 3",
   "language": "python",
   "name": "python3"
  },
  "language_info": {
   "codemirror_mode": {
    "name": "ipython",
    "version": 3
   },
   "file_extension": ".py",
   "mimetype": "text/x-python",
   "name": "python",
   "nbconvert_exporter": "python",
   "pygments_lexer": "ipython3",
   "version": "3.12.6"
  }
 },
 "nbformat": 4,
 "nbformat_minor": 2
}
