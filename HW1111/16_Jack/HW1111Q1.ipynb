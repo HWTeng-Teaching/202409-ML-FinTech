{
 "cells": [
  {
   "cell_type": "markdown",
   "id": "e40b3637-f10f-49ad-960d-c93226059bfa",
   "metadata": {},
   "source": [
    "# HW1111Q1 CH06Q03"
   ]
  },
  {
   "cell_type": "markdown",
   "id": "b8cbee90-722c-4c51-a507-55be0d70668c",
   "metadata": {},
   "source": [
    "### 3. Suppose we estimate the regression coefficients in a linear regression model by minimizing (formula) for a particular value of s. For parts (a) through (e), indicate which of i. through v. is correct. Justify your answer."
   ]
  },
  {
   "cell_type": "markdown",
   "id": "e7f56e6d-2063-45dc-ac81-d5af4ccf8b02",
   "metadata": {},
   "source": [
    "##### (a) As we increase s from 0, the training RSS will:\n",
    "i. Increase initially, and then eventually start decreasing in an inverted U shape.  \n",
    "ii. Decrease initially, and then eventually start increasing in a U shape.  \n",
    "iii. Steadily increase.  \n",
    "iv. Steadily decrease.  \n",
    "v. Remain constant..\n",
    "\n",
    "\n",
    "\n"
   ]
  },
  {
   "cell_type": "markdown",
   "id": "d663e8d3-5322-4f24-b592-a9c3a0501fd8",
   "metadata": {},
   "source": [
    "The training RSS generally decreases as 𝑠 increases because a larger 𝑠 allows for a better fit to the training data.  \n",
    "(iv) Steadily decrease."
   ]
  },
  {
   "cell_type": "markdown",
   "id": "aa05c607-6b95-4174-82fb-22de82783f9f",
   "metadata": {},
   "source": [
    "##### (b) Repeat (a) for test RSS."
   ]
  },
  {
   "cell_type": "markdown",
   "id": "380a6000-4ebc-4ddd-806e-2d8965d3c071",
   "metadata": {},
   "source": [
    "For test RSS, as 𝑠 increases, we might initially see a decrease due to reduced bias, but after a certain point, it could increase due to overfitting.  \n",
    "(i) Increase initially, and then eventually start decreasing in an inverted U shape."
   ]
  },
  {
   "cell_type": "markdown",
   "id": "775a0a67-8f4e-480f-a6b3-b92b54e3505c",
   "metadata": {},
   "source": [
    "##### (c) Repeat (a) for variance."
   ]
  },
  {
   "cell_type": "markdown",
   "id": "3ac80bff-4378-453f-ba5d-e1f58ff2f3d8",
   "metadata": {},
   "source": [
    "As 𝑠 increases, the model becomes more flexible, which increases variance.  \n",
    "(iii) Steadily increase."
   ]
  },
  {
   "cell_type": "markdown",
   "id": "25410272-8280-443d-80c1-0a5e3cdf815d",
   "metadata": {},
   "source": [
    "##### (d) Repeat (a) for (squared) bias."
   ]
  },
  {
   "cell_type": "markdown",
   "id": "20f308c2-217e-4553-a54a-3f83c003d265",
   "metadata": {},
   "source": [
    "Squared bias typically decreases as 𝑠 increases, as the model has more capacity to fit the training data closely.  \n",
    "(iv) Steadily decrease."
   ]
  },
  {
   "cell_type": "markdown",
   "id": "86a858d2-204b-4b69-a4e6-0325f4cbf270",
   "metadata": {},
   "source": [
    "##### (e) Repeat (a) for the irreducible error."
   ]
  },
  {
   "cell_type": "markdown",
   "id": "b2ce2bd2-1da9-492d-acfd-5d1df466c4c2",
   "metadata": {},
   "source": [
    "The irreducible error is inherent to the data and does not depend on the model complexity or the value of 𝑠.  \n",
    "(v) Remain constant."
   ]
  },
  {
   "cell_type": "code",
   "execution_count": null,
   "id": "92f0ec13-632d-4d05-aea9-6551ee82aae0",
   "metadata": {},
   "outputs": [],
   "source": []
  }
 ],
 "metadata": {
  "kernelspec": {
   "display_name": "Python 3 (ipykernel)",
   "language": "python",
   "name": "python3"
  },
  "language_info": {
   "codemirror_mode": {
    "name": "ipython",
    "version": 3
   },
   "file_extension": ".py",
   "mimetype": "text/x-python",
   "name": "python",
   "nbconvert_exporter": "python",
   "pygments_lexer": "ipython3",
   "version": "3.12.4"
  }
 },
 "nbformat": 4,
 "nbformat_minor": 5
}
