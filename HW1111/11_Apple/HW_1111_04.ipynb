{
 "cells": [
  {
   "cell_type": "markdown",
   "id": "cbda1893-f32c-4da0-9686-7a8733f14e8a",
   "metadata": {},
   "source": [
    "### Ch6_Q09\n",
    "#### In this exercise, we will predict the number of applications received using the other variables in the College data set."
   ]
  },
  {
   "cell_type": "code",
   "execution_count": 1,
   "id": "92b9d9fd-bc6d-45de-b7d4-bae325291e29",
   "metadata": {},
   "outputs": [
    {
     "name": "stdout",
     "output_type": "stream",
     "text": [
      "Requirement already satisfied: ISLP in c:\\users\\apple\\anaconda3\\lib\\site-packages (0.3.18)\n",
      "Requirement already satisfied: numpy>=1.7.1 in c:\\users\\apple\\anaconda3\\lib\\site-packages (from ISLP) (1.26.4)\n",
      "Requirement already satisfied: scipy>=0.9 in c:\\users\\apple\\anaconda3\\lib\\site-packages (from ISLP) (1.11.4)\n",
      "Requirement already satisfied: matplotlib>=3.3.3 in c:\\users\\apple\\anaconda3\\lib\\site-packages (from ISLP) (3.8.4)\n",
      "Requirement already satisfied: pandas>=0.20 in c:\\users\\apple\\anaconda3\\lib\\site-packages (from ISLP) (2.2.2)\n",
      "Requirement already satisfied: statsmodels>=0.13 in c:\\users\\apple\\anaconda3\\lib\\site-packages (from ISLP) (0.14.1)\n",
      "Requirement already satisfied: scikit-learn>=1.2 in c:\\users\\apple\\anaconda3\\lib\\site-packages (from ISLP) (1.3.2)\n",
      "Requirement already satisfied: jupyter>=0.0 in c:\\users\\apple\\anaconda3\\lib\\site-packages (from ISLP) (1.0.0)\n",
      "Requirement already satisfied: lxml>=0.0 in c:\\users\\apple\\anaconda3\\lib\\site-packages (from ISLP) (5.2.1)\n",
      "Requirement already satisfied: joblib>=0.0 in c:\\users\\apple\\anaconda3\\lib\\site-packages (from ISLP) (1.4.2)\n",
      "Requirement already satisfied: pygam>=0.0 in c:\\users\\apple\\anaconda3\\lib\\site-packages (from ISLP) (0.9.1)\n",
      "Requirement already satisfied: lifelines>=0.0 in c:\\users\\apple\\anaconda3\\lib\\site-packages (from ISLP) (0.27.8)\n",
      "Requirement already satisfied: notebook in c:\\users\\apple\\anaconda3\\lib\\site-packages (from jupyter>=0.0->ISLP) (7.0.8)\n",
      "Requirement already satisfied: qtconsole in c:\\users\\apple\\anaconda3\\lib\\site-packages (from jupyter>=0.0->ISLP) (5.5.1)\n",
      "Requirement already satisfied: jupyter-console in c:\\users\\apple\\anaconda3\\lib\\site-packages (from jupyter>=0.0->ISLP) (6.6.3)\n",
      "Requirement already satisfied: nbconvert in c:\\users\\apple\\anaconda3\\lib\\site-packages (from jupyter>=0.0->ISLP) (7.10.0)\n",
      "Requirement already satisfied: ipykernel in c:\\users\\apple\\anaconda3\\lib\\site-packages (from jupyter>=0.0->ISLP) (6.28.0)\n",
      "Requirement already satisfied: ipywidgets in c:\\users\\apple\\anaconda3\\lib\\site-packages (from jupyter>=0.0->ISLP) (7.8.1)\n",
      "Requirement already satisfied: autograd>=1.5 in c:\\users\\apple\\anaconda3\\lib\\site-packages (from lifelines>=0.0->ISLP) (1.7.0)\n",
      "Requirement already satisfied: autograd-gamma>=0.3 in c:\\users\\apple\\anaconda3\\lib\\site-packages (from lifelines>=0.0->ISLP) (0.5.0)\n",
      "Requirement already satisfied: formulaic>=0.2.2 in c:\\users\\apple\\anaconda3\\lib\\site-packages (from lifelines>=0.0->ISLP) (1.0.2)\n",
      "Requirement already satisfied: contourpy>=1.0.1 in c:\\users\\apple\\anaconda3\\lib\\site-packages (from matplotlib>=3.3.3->ISLP) (1.2.0)\n",
      "Requirement already satisfied: cycler>=0.10 in c:\\users\\apple\\anaconda3\\lib\\site-packages (from matplotlib>=3.3.3->ISLP) (0.11.0)\n",
      "Requirement already satisfied: fonttools>=4.22.0 in c:\\users\\apple\\anaconda3\\lib\\site-packages (from matplotlib>=3.3.3->ISLP) (4.51.0)\n",
      "Requirement already satisfied: kiwisolver>=1.3.1 in c:\\users\\apple\\anaconda3\\lib\\site-packages (from matplotlib>=3.3.3->ISLP) (1.4.4)\n",
      "Requirement already satisfied: packaging>=20.0 in c:\\users\\apple\\anaconda3\\lib\\site-packages (from matplotlib>=3.3.3->ISLP) (23.2)\n",
      "Requirement already satisfied: pillow>=8 in c:\\users\\apple\\anaconda3\\lib\\site-packages (from matplotlib>=3.3.3->ISLP) (10.3.0)\n",
      "Requirement already satisfied: pyparsing>=2.3.1 in c:\\users\\apple\\anaconda3\\lib\\site-packages (from matplotlib>=3.3.3->ISLP) (3.0.9)\n",
      "Requirement already satisfied: python-dateutil>=2.7 in c:\\users\\apple\\anaconda3\\lib\\site-packages (from matplotlib>=3.3.3->ISLP) (2.9.0.post0)\n",
      "Requirement already satisfied: importlib-resources>=3.2.0 in c:\\users\\apple\\anaconda3\\lib\\site-packages (from matplotlib>=3.3.3->ISLP) (6.1.1)\n",
      "Requirement already satisfied: pytz>=2020.1 in c:\\users\\apple\\anaconda3\\lib\\site-packages (from pandas>=0.20->ISLP) (2024.1)\n",
      "Requirement already satisfied: tzdata>=2022.7 in c:\\users\\apple\\anaconda3\\lib\\site-packages (from pandas>=0.20->ISLP) (2023.3)\n",
      "Requirement already satisfied: progressbar2<5.0.0,>=4.2.0 in c:\\users\\apple\\anaconda3\\lib\\site-packages (from pygam>=0.0->ISLP) (4.5.0)\n",
      "Requirement already satisfied: threadpoolctl>=2.0.0 in c:\\users\\apple\\anaconda3\\lib\\site-packages (from scikit-learn>=1.2->ISLP) (2.2.0)\n",
      "Requirement already satisfied: patsy>=0.5.4 in c:\\users\\apple\\anaconda3\\lib\\site-packages (from statsmodels>=0.13->ISLP) (0.5.6)\n",
      "Requirement already satisfied: interface-meta>=1.2.0 in c:\\users\\apple\\anaconda3\\lib\\site-packages (from formulaic>=0.2.2->lifelines>=0.0->ISLP) (1.3.0)\n",
      "Requirement already satisfied: typing-extensions>=4.2.0 in c:\\users\\apple\\anaconda3\\lib\\site-packages (from formulaic>=0.2.2->lifelines>=0.0->ISLP) (4.11.0)\n",
      "Requirement already satisfied: wrapt>=1.0 in c:\\users\\apple\\anaconda3\\lib\\site-packages (from formulaic>=0.2.2->lifelines>=0.0->ISLP) (1.14.1)\n",
      "Requirement already satisfied: zipp>=3.1.0 in c:\\users\\apple\\anaconda3\\lib\\site-packages (from importlib-resources>=3.2.0->matplotlib>=3.3.3->ISLP) (3.17.0)\n",
      "Requirement already satisfied: six in c:\\users\\apple\\anaconda3\\lib\\site-packages (from patsy>=0.5.4->statsmodels>=0.13->ISLP) (1.16.0)\n",
      "Requirement already satisfied: python-utils>=3.8.1 in c:\\users\\apple\\anaconda3\\lib\\site-packages (from progressbar2<5.0.0,>=4.2.0->pygam>=0.0->ISLP) (3.8.2)\n",
      "Requirement already satisfied: comm>=0.1.1 in c:\\users\\apple\\anaconda3\\lib\\site-packages (from ipykernel->jupyter>=0.0->ISLP) (0.2.1)\n",
      "Requirement already satisfied: debugpy>=1.6.5 in c:\\users\\apple\\anaconda3\\lib\\site-packages (from ipykernel->jupyter>=0.0->ISLP) (1.6.7)\n",
      "Requirement already satisfied: ipython>=7.23.1 in c:\\users\\apple\\anaconda3\\lib\\site-packages (from ipykernel->jupyter>=0.0->ISLP) (8.15.0)\n",
      "Requirement already satisfied: jupyter-client>=6.1.12 in c:\\users\\apple\\anaconda3\\lib\\site-packages (from ipykernel->jupyter>=0.0->ISLP) (8.6.0)\n",
      "Requirement already satisfied: jupyter-core!=5.0.*,>=4.12 in c:\\users\\apple\\anaconda3\\lib\\site-packages (from ipykernel->jupyter>=0.0->ISLP) (5.7.2)\n",
      "Requirement already satisfied: matplotlib-inline>=0.1 in c:\\users\\apple\\anaconda3\\lib\\site-packages (from ipykernel->jupyter>=0.0->ISLP) (0.1.6)\n",
      "Requirement already satisfied: nest-asyncio in c:\\users\\apple\\anaconda3\\lib\\site-packages (from ipykernel->jupyter>=0.0->ISLP) (1.6.0)\n",
      "Requirement already satisfied: psutil in c:\\users\\apple\\anaconda3\\lib\\site-packages (from ipykernel->jupyter>=0.0->ISLP) (5.9.0)\n",
      "Requirement already satisfied: pyzmq>=24 in c:\\users\\apple\\anaconda3\\lib\\site-packages (from ipykernel->jupyter>=0.0->ISLP) (25.1.2)\n",
      "Requirement already satisfied: tornado>=6.1 in c:\\users\\apple\\anaconda3\\lib\\site-packages (from ipykernel->jupyter>=0.0->ISLP) (6.4.1)\n",
      "Requirement already satisfied: traitlets>=5.4.0 in c:\\users\\apple\\anaconda3\\lib\\site-packages (from ipykernel->jupyter>=0.0->ISLP) (5.14.3)\n",
      "Requirement already satisfied: ipython-genutils~=0.2.0 in c:\\users\\apple\\anaconda3\\lib\\site-packages (from ipywidgets->jupyter>=0.0->ISLP) (0.2.0)\n",
      "Requirement already satisfied: widgetsnbextension~=3.6.6 in c:\\users\\apple\\anaconda3\\lib\\site-packages (from ipywidgets->jupyter>=0.0->ISLP) (3.6.6)\n",
      "Requirement already satisfied: jupyterlab-widgets<3,>=1.0.0 in c:\\users\\apple\\anaconda3\\lib\\site-packages (from ipywidgets->jupyter>=0.0->ISLP) (1.0.0)\n",
      "Requirement already satisfied: prompt-toolkit>=3.0.30 in c:\\users\\apple\\anaconda3\\lib\\site-packages (from jupyter-console->jupyter>=0.0->ISLP) (3.0.43)\n",
      "Requirement already satisfied: pygments in c:\\users\\apple\\anaconda3\\lib\\site-packages (from jupyter-console->jupyter>=0.0->ISLP) (2.15.1)\n",
      "Requirement already satisfied: beautifulsoup4 in c:\\users\\apple\\anaconda3\\lib\\site-packages (from nbconvert->jupyter>=0.0->ISLP) (4.12.3)\n",
      "Requirement already satisfied: bleach!=5.0.0 in c:\\users\\apple\\anaconda3\\lib\\site-packages (from nbconvert->jupyter>=0.0->ISLP) (4.1.0)\n",
      "Requirement already satisfied: defusedxml in c:\\users\\apple\\anaconda3\\lib\\site-packages (from nbconvert->jupyter>=0.0->ISLP) (0.7.1)\n",
      "Requirement already satisfied: importlib-metadata>=3.6 in c:\\users\\apple\\anaconda3\\lib\\site-packages (from nbconvert->jupyter>=0.0->ISLP) (7.0.1)\n",
      "Requirement already satisfied: jinja2>=3.0 in c:\\users\\apple\\anaconda3\\lib\\site-packages (from nbconvert->jupyter>=0.0->ISLP) (3.1.4)\n",
      "Requirement already satisfied: jupyterlab-pygments in c:\\users\\apple\\anaconda3\\lib\\site-packages (from nbconvert->jupyter>=0.0->ISLP) (0.1.2)\n",
      "Requirement already satisfied: markupsafe>=2.0 in c:\\users\\apple\\anaconda3\\lib\\site-packages (from nbconvert->jupyter>=0.0->ISLP) (2.1.3)\n",
      "Requirement already satisfied: mistune<4,>=2.0.3 in c:\\users\\apple\\anaconda3\\lib\\site-packages (from nbconvert->jupyter>=0.0->ISLP) (2.0.4)\n",
      "Requirement already satisfied: nbclient>=0.5.0 in c:\\users\\apple\\anaconda3\\lib\\site-packages (from nbconvert->jupyter>=0.0->ISLP) (0.8.0)\n",
      "Requirement already satisfied: nbformat>=5.7 in c:\\users\\apple\\anaconda3\\lib\\site-packages (from nbconvert->jupyter>=0.0->ISLP) (5.9.2)\n",
      "Requirement already satisfied: pandocfilters>=1.4.1 in c:\\users\\apple\\anaconda3\\lib\\site-packages (from nbconvert->jupyter>=0.0->ISLP) (1.5.0)\n",
      "Requirement already satisfied: tinycss2 in c:\\users\\apple\\anaconda3\\lib\\site-packages (from nbconvert->jupyter>=0.0->ISLP) (1.2.1)\n",
      "Requirement already satisfied: jupyter-server<3,>=2.4.0 in c:\\users\\apple\\anaconda3\\lib\\site-packages (from notebook->jupyter>=0.0->ISLP) (2.14.1)\n",
      "Requirement already satisfied: jupyterlab-server<3,>=2.22.1 in c:\\users\\apple\\anaconda3\\lib\\site-packages (from notebook->jupyter>=0.0->ISLP) (2.25.1)\n",
      "Requirement already satisfied: jupyterlab<4.1,>=4.0.2 in c:\\users\\apple\\anaconda3\\lib\\site-packages (from notebook->jupyter>=0.0->ISLP) (4.0.11)\n",
      "Requirement already satisfied: notebook-shim<0.3,>=0.2 in c:\\users\\apple\\anaconda3\\lib\\site-packages (from notebook->jupyter>=0.0->ISLP) (0.2.3)\n",
      "Requirement already satisfied: qtpy>=2.4.0 in c:\\users\\apple\\anaconda3\\lib\\site-packages (from qtconsole->jupyter>=0.0->ISLP) (2.4.1)\n",
      "Requirement already satisfied: webencodings in c:\\users\\apple\\anaconda3\\lib\\site-packages (from bleach!=5.0.0->nbconvert->jupyter>=0.0->ISLP) (0.5.1)\n",
      "Requirement already satisfied: backcall in c:\\users\\apple\\anaconda3\\lib\\site-packages (from ipython>=7.23.1->ipykernel->jupyter>=0.0->ISLP) (0.2.0)\n",
      "Requirement already satisfied: decorator in c:\\users\\apple\\anaconda3\\lib\\site-packages (from ipython>=7.23.1->ipykernel->jupyter>=0.0->ISLP) (5.1.1)\n",
      "Requirement already satisfied: jedi>=0.16 in c:\\users\\apple\\anaconda3\\lib\\site-packages (from ipython>=7.23.1->ipykernel->jupyter>=0.0->ISLP) (0.18.1)\n",
      "Requirement already satisfied: pickleshare in c:\\users\\apple\\anaconda3\\lib\\site-packages (from ipython>=7.23.1->ipykernel->jupyter>=0.0->ISLP) (0.7.5)\n",
      "Requirement already satisfied: stack-data in c:\\users\\apple\\anaconda3\\lib\\site-packages (from ipython>=7.23.1->ipykernel->jupyter>=0.0->ISLP) (0.2.0)\n",
      "Requirement already satisfied: exceptiongroup in c:\\users\\apple\\anaconda3\\lib\\site-packages (from ipython>=7.23.1->ipykernel->jupyter>=0.0->ISLP) (1.2.0)\n",
      "Requirement already satisfied: colorama in c:\\users\\apple\\anaconda3\\lib\\site-packages (from ipython>=7.23.1->ipykernel->jupyter>=0.0->ISLP) (0.4.6)\n",
      "Requirement already satisfied: platformdirs>=2.5 in c:\\users\\apple\\anaconda3\\lib\\site-packages (from jupyter-core!=5.0.*,>=4.12->ipykernel->jupyter>=0.0->ISLP) (3.10.0)\n",
      "Requirement already satisfied: pywin32>=300 in c:\\users\\apple\\anaconda3\\lib\\site-packages (from jupyter-core!=5.0.*,>=4.12->ipykernel->jupyter>=0.0->ISLP) (305.1)\n",
      "Requirement already satisfied: anyio>=3.1.0 in c:\\users\\apple\\anaconda3\\lib\\site-packages (from jupyter-server<3,>=2.4.0->notebook->jupyter>=0.0->ISLP) (4.2.0)\n",
      "Requirement already satisfied: argon2-cffi>=21.1 in c:\\users\\apple\\anaconda3\\lib\\site-packages (from jupyter-server<3,>=2.4.0->notebook->jupyter>=0.0->ISLP) (21.3.0)\n",
      "Requirement already satisfied: jupyter-events>=0.9.0 in c:\\users\\apple\\anaconda3\\lib\\site-packages (from jupyter-server<3,>=2.4.0->notebook->jupyter>=0.0->ISLP) (0.10.0)\n",
      "Requirement already satisfied: jupyter-server-terminals>=0.4.4 in c:\\users\\apple\\anaconda3\\lib\\site-packages (from jupyter-server<3,>=2.4.0->notebook->jupyter>=0.0->ISLP) (0.4.4)\n",
      "Requirement already satisfied: overrides>=5.0 in c:\\users\\apple\\anaconda3\\lib\\site-packages (from jupyter-server<3,>=2.4.0->notebook->jupyter>=0.0->ISLP) (7.4.0)\n",
      "Requirement already satisfied: prometheus-client>=0.9 in c:\\users\\apple\\anaconda3\\lib\\site-packages (from jupyter-server<3,>=2.4.0->notebook->jupyter>=0.0->ISLP) (0.14.1)\n",
      "Requirement already satisfied: pywinpty>=2.0.1 in c:\\users\\apple\\anaconda3\\lib\\site-packages (from jupyter-server<3,>=2.4.0->notebook->jupyter>=0.0->ISLP) (2.0.10)\n",
      "Requirement already satisfied: send2trash>=1.8.2 in c:\\users\\apple\\anaconda3\\lib\\site-packages (from jupyter-server<3,>=2.4.0->notebook->jupyter>=0.0->ISLP) (1.8.2)\n",
      "Requirement already satisfied: terminado>=0.8.3 in c:\\users\\apple\\anaconda3\\lib\\site-packages (from jupyter-server<3,>=2.4.0->notebook->jupyter>=0.0->ISLP) (0.17.1)\n",
      "Requirement already satisfied: websocket-client>=1.7 in c:\\users\\apple\\anaconda3\\lib\\site-packages (from jupyter-server<3,>=2.4.0->notebook->jupyter>=0.0->ISLP) (1.8.0)\n",
      "Requirement already satisfied: async-lru>=1.0.0 in c:\\users\\apple\\anaconda3\\lib\\site-packages (from jupyterlab<4.1,>=4.0.2->notebook->jupyter>=0.0->ISLP) (2.0.4)\n",
      "Requirement already satisfied: jupyter-lsp>=2.0.0 in c:\\users\\apple\\anaconda3\\lib\\site-packages (from jupyterlab<4.1,>=4.0.2->notebook->jupyter>=0.0->ISLP) (2.2.0)\n",
      "Requirement already satisfied: tomli in c:\\users\\apple\\anaconda3\\lib\\site-packages (from jupyterlab<4.1,>=4.0.2->notebook->jupyter>=0.0->ISLP) (2.0.1)\n",
      "Requirement already satisfied: babel>=2.10 in c:\\users\\apple\\anaconda3\\lib\\site-packages (from jupyterlab-server<3,>=2.22.1->notebook->jupyter>=0.0->ISLP) (2.11.0)\n",
      "Requirement already satisfied: json5>=0.9.0 in c:\\users\\apple\\anaconda3\\lib\\site-packages (from jupyterlab-server<3,>=2.22.1->notebook->jupyter>=0.0->ISLP) (0.9.6)\n",
      "Requirement already satisfied: jsonschema>=4.18.0 in c:\\users\\apple\\anaconda3\\lib\\site-packages (from jupyterlab-server<3,>=2.22.1->notebook->jupyter>=0.0->ISLP) (4.19.2)\n",
      "Requirement already satisfied: requests>=2.31 in c:\\users\\apple\\anaconda3\\lib\\site-packages (from jupyterlab-server<3,>=2.22.1->notebook->jupyter>=0.0->ISLP) (2.32.2)\n",
      "Requirement already satisfied: fastjsonschema in c:\\users\\apple\\anaconda3\\lib\\site-packages (from nbformat>=5.7->nbconvert->jupyter>=0.0->ISLP) (2.16.2)\n",
      "Requirement already satisfied: wcwidth in c:\\users\\apple\\anaconda3\\lib\\site-packages (from prompt-toolkit>=3.0.30->jupyter-console->jupyter>=0.0->ISLP) (0.2.5)\n",
      "Requirement already satisfied: soupsieve>1.2 in c:\\users\\apple\\anaconda3\\lib\\site-packages (from beautifulsoup4->nbconvert->jupyter>=0.0->ISLP) (2.5)\n",
      "Requirement already satisfied: idna>=2.8 in c:\\users\\apple\\anaconda3\\lib\\site-packages (from anyio>=3.1.0->jupyter-server<3,>=2.4.0->notebook->jupyter>=0.0->ISLP) (3.7)\n",
      "Requirement already satisfied: sniffio>=1.1 in c:\\users\\apple\\anaconda3\\lib\\site-packages (from anyio>=3.1.0->jupyter-server<3,>=2.4.0->notebook->jupyter>=0.0->ISLP) (1.3.0)\n",
      "Requirement already satisfied: argon2-cffi-bindings in c:\\users\\apple\\anaconda3\\lib\\site-packages (from argon2-cffi>=21.1->jupyter-server<3,>=2.4.0->notebook->jupyter>=0.0->ISLP) (21.2.0)\n",
      "Requirement already satisfied: parso<0.9.0,>=0.8.0 in c:\\users\\apple\\anaconda3\\lib\\site-packages (from jedi>=0.16->ipython>=7.23.1->ipykernel->jupyter>=0.0->ISLP) (0.8.3)\n",
      "Requirement already satisfied: attrs>=22.2.0 in c:\\users\\apple\\anaconda3\\lib\\site-packages (from jsonschema>=4.18.0->jupyterlab-server<3,>=2.22.1->notebook->jupyter>=0.0->ISLP) (23.1.0)\n",
      "Requirement already satisfied: jsonschema-specifications>=2023.03.6 in c:\\users\\apple\\anaconda3\\lib\\site-packages (from jsonschema>=4.18.0->jupyterlab-server<3,>=2.22.1->notebook->jupyter>=0.0->ISLP) (2023.7.1)\n",
      "Requirement already satisfied: referencing>=0.28.4 in c:\\users\\apple\\anaconda3\\lib\\site-packages (from jsonschema>=4.18.0->jupyterlab-server<3,>=2.22.1->notebook->jupyter>=0.0->ISLP) (0.30.2)\n",
      "Requirement already satisfied: rpds-py>=0.7.1 in c:\\users\\apple\\anaconda3\\lib\\site-packages (from jsonschema>=4.18.0->jupyterlab-server<3,>=2.22.1->notebook->jupyter>=0.0->ISLP) (0.10.6)\n",
      "Requirement already satisfied: python-json-logger>=2.0.4 in c:\\users\\apple\\anaconda3\\lib\\site-packages (from jupyter-events>=0.9.0->jupyter-server<3,>=2.4.0->notebook->jupyter>=0.0->ISLP) (2.0.7)\n",
      "Requirement already satisfied: pyyaml>=5.3 in c:\\users\\apple\\anaconda3\\lib\\site-packages (from jupyter-events>=0.9.0->jupyter-server<3,>=2.4.0->notebook->jupyter>=0.0->ISLP) (6.0.1)\n",
      "Requirement already satisfied: rfc3339-validator in c:\\users\\apple\\anaconda3\\lib\\site-packages (from jupyter-events>=0.9.0->jupyter-server<3,>=2.4.0->notebook->jupyter>=0.0->ISLP) (0.1.4)\n",
      "Requirement already satisfied: rfc3986-validator>=0.1.1 in c:\\users\\apple\\anaconda3\\lib\\site-packages (from jupyter-events>=0.9.0->jupyter-server<3,>=2.4.0->notebook->jupyter>=0.0->ISLP) (0.1.1)\n",
      "Requirement already satisfied: charset-normalizer<4,>=2 in c:\\users\\apple\\anaconda3\\lib\\site-packages (from requests>=2.31->jupyterlab-server<3,>=2.22.1->notebook->jupyter>=0.0->ISLP) (2.0.4)\n",
      "Requirement already satisfied: urllib3<3,>=1.21.1 in c:\\users\\apple\\anaconda3\\lib\\site-packages (from requests>=2.31->jupyterlab-server<3,>=2.22.1->notebook->jupyter>=0.0->ISLP) (1.26.19)\n",
      "Requirement already satisfied: certifi>=2017.4.17 in c:\\users\\apple\\anaconda3\\lib\\site-packages (from requests>=2.31->jupyterlab-server<3,>=2.22.1->notebook->jupyter>=0.0->ISLP) (2024.6.2)\n",
      "Requirement already satisfied: executing in c:\\users\\apple\\anaconda3\\lib\\site-packages (from stack-data->ipython>=7.23.1->ipykernel->jupyter>=0.0->ISLP) (0.8.3)\n",
      "Requirement already satisfied: asttokens in c:\\users\\apple\\anaconda3\\lib\\site-packages (from stack-data->ipython>=7.23.1->ipykernel->jupyter>=0.0->ISLP) (2.0.5)\n",
      "Requirement already satisfied: pure-eval in c:\\users\\apple\\anaconda3\\lib\\site-packages (from stack-data->ipython>=7.23.1->ipykernel->jupyter>=0.0->ISLP) (0.2.2)\n",
      "Requirement already satisfied: fqdn in c:\\users\\apple\\anaconda3\\lib\\site-packages (from jsonschema[format-nongpl]>=4.18.0->jupyter-events>=0.9.0->jupyter-server<3,>=2.4.0->notebook->jupyter>=0.0->ISLP) (1.5.1)\n",
      "Requirement already satisfied: isoduration in c:\\users\\apple\\anaconda3\\lib\\site-packages (from jsonschema[format-nongpl]>=4.18.0->jupyter-events>=0.9.0->jupyter-server<3,>=2.4.0->notebook->jupyter>=0.0->ISLP) (20.11.0)\n",
      "Requirement already satisfied: jsonpointer>1.13 in c:\\users\\apple\\anaconda3\\lib\\site-packages (from jsonschema[format-nongpl]>=4.18.0->jupyter-events>=0.9.0->jupyter-server<3,>=2.4.0->notebook->jupyter>=0.0->ISLP) (2.1)\n",
      "Requirement already satisfied: uri-template in c:\\users\\apple\\anaconda3\\lib\\site-packages (from jsonschema[format-nongpl]>=4.18.0->jupyter-events>=0.9.0->jupyter-server<3,>=2.4.0->notebook->jupyter>=0.0->ISLP) (1.3.0)\n",
      "Requirement already satisfied: webcolors>=1.11 in c:\\users\\apple\\anaconda3\\lib\\site-packages (from jsonschema[format-nongpl]>=4.18.0->jupyter-events>=0.9.0->jupyter-server<3,>=2.4.0->notebook->jupyter>=0.0->ISLP) (24.8.0)\n",
      "Requirement already satisfied: cffi>=1.0.1 in c:\\users\\apple\\anaconda3\\lib\\site-packages (from argon2-cffi-bindings->argon2-cffi>=21.1->jupyter-server<3,>=2.4.0->notebook->jupyter>=0.0->ISLP) (1.16.0)\n",
      "Requirement already satisfied: pycparser in c:\\users\\apple\\anaconda3\\lib\\site-packages (from cffi>=1.0.1->argon2-cffi-bindings->argon2-cffi>=21.1->jupyter-server<3,>=2.4.0->notebook->jupyter>=0.0->ISLP) (2.21)\n",
      "Requirement already satisfied: arrow>=0.15.0 in c:\\users\\apple\\anaconda3\\lib\\site-packages (from isoduration->jsonschema[format-nongpl]>=4.18.0->jupyter-events>=0.9.0->jupyter-server<3,>=2.4.0->notebook->jupyter>=0.0->ISLP) (1.2.3)\n"
     ]
    }
   ],
   "source": [
    "!pip install ISLP"
   ]
  },
  {
   "cell_type": "code",
   "execution_count": 2,
   "id": "c1e9619b-1ef7-41cf-bb3d-ffae4d6453b3",
   "metadata": {},
   "outputs": [
    {
     "name": "stdout",
     "output_type": "stream",
     "text": [
      "  Private  Apps  Accept  Enroll  Top10perc  Top25perc  F.Undergrad  \\\n",
      "0     Yes  1660    1232     721         23         52         2885   \n",
      "1     Yes  2186    1924     512         16         29         2683   \n",
      "2     Yes  1428    1097     336         22         50         1036   \n",
      "3     Yes   417     349     137         60         89          510   \n",
      "4     Yes   193     146      55         16         44          249   \n",
      "\n",
      "   P.Undergrad  Outstate  Room.Board  Books  Personal  PhD  Terminal  \\\n",
      "0          537      7440        3300    450      2200   70        78   \n",
      "1         1227     12280        6450    750      1500   29        30   \n",
      "2           99     11250        3750    400      1165   53        66   \n",
      "3           63     12960        5450    450       875   92        97   \n",
      "4          869      7560        4120    800      1500   76        72   \n",
      "\n",
      "   S.F.Ratio  perc.alumni  Expend  Grad.Rate  \n",
      "0       18.1           12    7041         60  \n",
      "1       12.2           16   10527         56  \n",
      "2       12.9           30    8735         54  \n",
      "3        7.7           37   19016         59  \n",
      "4       11.9            2   10922         15  \n"
     ]
    }
   ],
   "source": [
    "from ISLP import load_data\n",
    "df = load_data('College')\n",
    "print(df.head())"
   ]
  },
  {
   "cell_type": "markdown",
   "id": "8b6f8610-0dda-4520-97e3-3d2bad0a09c8",
   "metadata": {},
   "source": [
    "#### (a) Split the data set into a training set and a test set."
   ]
  },
  {
   "cell_type": "code",
   "execution_count": 28,
   "id": "358bb488-5282-40ea-9021-32d6939782d7",
   "metadata": {},
   "outputs": [],
   "source": [
    "import numpy as np\n",
    "import pandas as pd\n",
    "from sklearn.model_selection import train_test_split\n",
    "from sklearn.preprocessing import StandardScaler\n",
    "\n",
    "# Split the data into training and test sets (70% train, 30% test)\n",
    "X = df.drop(columns=['Apps'], axis=1)  # Exclude 'Apps' as it's the target variable\n",
    "y = df['Apps']\n",
    "\n",
    "X = pd.get_dummies(X, drop_first=True) \n",
    "X_train, X_test, y_train, y_test = train_test_split(X, y, test_size=0.3, random_state=68)"
   ]
  },
  {
   "cell_type": "markdown",
   "id": "34df77b7-3fa1-498c-8c4a-4ed1f1c32a32",
   "metadata": {},
   "source": [
    "#### (b) Fit a linear model using least squares on the training set, and report the test error obtained."
   ]
  },
  {
   "cell_type": "code",
   "execution_count": 29,
   "id": "f4765051-2872-44d0-aa55-90c1c20ef6fd",
   "metadata": {},
   "outputs": [
    {
     "name": "stdout",
     "output_type": "stream",
     "text": [
      "Linear Regression Test Error: 1042199.02298093\n"
     ]
    }
   ],
   "source": [
    "# Fit a linear regression model\n",
    "linear_model = LinearRegression()\n",
    "linear_model.fit(X_train, y_train)\n",
    "\n",
    "# Predict on the test set\n",
    "y_pred_linear = linear_model.predict(X_test)\n",
    "\n",
    "# Calculate test error (Mean Squared Error)\n",
    "linear_test_error = mean_squared_error(y_test, y_pred_linear)\n",
    "print(\"Linear Regression Test Error:\", linear_test_error)"
   ]
  },
  {
   "cell_type": "markdown",
   "id": "37715abe-e615-44ef-9584-62fcca5a2380",
   "metadata": {},
   "source": [
    "#### (c) Fit a ridge regression model on the training set, with λ chosen by cross-validation. Report the test error obtained."
   ]
  },
  {
   "cell_type": "code",
   "execution_count": 30,
   "id": "5ccc2c4f-7983-4666-9d5b-d17fa4cd6ab2",
   "metadata": {},
   "outputs": [
    {
     "name": "stdout",
     "output_type": "stream",
     "text": [
      "Ridge Regression Test Error: 1036920.5562227552\n",
      "Best Lambda (Ridge): 10.0\n"
     ]
    }
   ],
   "source": [
    "from sklearn.linear_model import RidgeCV\n",
    "\n",
    "# Perform cross-validated ridge regression\n",
    "ridge_model = RidgeCV(alphas=np.logspace(-6, 6, 13), cv=10)\n",
    "ridge_model.fit(X_train, y_train)\n",
    "\n",
    "# Predict on the test set\n",
    "y_pred_ridge = ridge_model.predict(X_test)\n",
    "\n",
    "# Calculate test error\n",
    "ridge_test_error = mean_squared_error(y_test, y_pred_ridge)\n",
    "print(\"Ridge Regression Test Error:\", ridge_test_error)\n",
    "print(\"Best Lambda (Ridge):\", ridge_model.alpha_)"
   ]
  },
  {
   "cell_type": "markdown",
   "id": "c1511e58-0ec2-469d-b2ac-3aa450b0959b",
   "metadata": {},
   "source": [
    "#### (d) Fit a lasso model on the training set, with λ chosen by crossvalidation. Report the test error obtained, along with the number of non-zero coefficient estimates."
   ]
  },
  {
   "cell_type": "code",
   "execution_count": 31,
   "id": "61cabe0f-8ece-4c35-bd74-232fad12e495",
   "metadata": {},
   "outputs": [
    {
     "name": "stdout",
     "output_type": "stream",
     "text": [
      "Lasso Regression Test Error: 1035934.2221492694\n",
      "Best Lambda (Lasso): 10.0\n",
      "Number of Non-Zero Coefficients (Lasso): 17\n"
     ]
    }
   ],
   "source": [
    "from sklearn.linear_model import LassoCV\n",
    "\n",
    "# Perform cross-validated lasso regression\n",
    "lasso_model = LassoCV(alphas=np.logspace(-6, 6, 13), cv=10, random_state=42)\n",
    "lasso_model.fit(X_train, y_train)\n",
    "\n",
    "# Predict on the test set\n",
    "y_pred_lasso = lasso_model.predict(X_test)\n",
    "\n",
    "# Calculate test error\n",
    "lasso_test_error = mean_squared_error(y_test, y_pred_lasso)\n",
    "print(\"Lasso Regression Test Error:\", lasso_test_error)\n",
    "print(\"Best Lambda (Lasso):\", lasso_model.alpha_)\n",
    "\n",
    "# Number of non-zero coefficients\n",
    "print(\"Number of Non-Zero Coefficients (Lasso):\", np.sum(lasso_model.coef_ != 0))\n"
   ]
  },
  {
   "cell_type": "markdown",
   "id": "2b69a0c9-b533-4ddb-9fd2-6931bc73be12",
   "metadata": {},
   "source": [
    "#### (e) Fit a PCR model on the training set, with M chosen by crossvalidation. Report the test error obtained, along with the value of M selected by cross-validation."
   ]
  },
  {
   "cell_type": "code",
   "execution_count": 32,
   "id": "ec5213b7-5b28-4c05-a8df-f68a68b246b0",
   "metadata": {},
   "outputs": [
    {
     "name": "stdout",
     "output_type": "stream",
     "text": [
      "Optimal Number of Components (PCR): 17\n",
      "PCR Test Error: 1042199.0229809299\n"
     ]
    }
   ],
   "source": [
    "# Scale the data for PCA\n",
    "scaler = StandardScaler()\n",
    "X_train_scaled = scaler.fit_transform(X_train)\n",
    "X_test_scaled = scaler.transform(X_test)\n",
    "\n",
    "# Perform PCA\n",
    "pca = PCA()\n",
    "X_train_pca = pca.fit_transform(X_train_scaled)\n",
    "X_test_pca = pca.transform(X_test_scaled)\n",
    "\n",
    "# Determine optimal number of components using cross-validation\n",
    "mse = []\n",
    "for i in range(1, X_train_pca.shape[1] + 1):\n",
    "    pcr_model = LinearRegression()\n",
    "    scores = cross_val_score(pcr_model, X_train_pca[:, :i], y_train, cv=10, scoring='neg_mean_squared_error')\n",
    "    mse.append(-scores.mean())\n",
    "\n",
    "# Select the number of components with minimum MSE\n",
    "optimal_components = np.argmin(mse) + 1\n",
    "print(\"Optimal Number of Components (PCR):\", optimal_components)\n",
    "\n",
    "# Fit PCR model with optimal components\n",
    "pcr_model = LinearRegression()\n",
    "pcr_model.fit(X_train_pca[:, :optimal_components], y_train)\n",
    "\n",
    "# Predict on the test set\n",
    "y_pred_pcr = pcr_model.predict(X_test_pca[:, :optimal_components])\n",
    "\n",
    "# Calculate test error\n",
    "pcr_test_error = mean_squared_error(y_test, y_pred_pcr)\n",
    "print(\"PCR Test Error:\", pcr_test_error)\n"
   ]
  },
  {
   "cell_type": "markdown",
   "id": "4769075d-3b66-41be-bd0c-6bc8eed4609f",
   "metadata": {},
   "source": [
    "#### (f) Fit a PLS model on the training set, with M chosen by crossvalidation. Report the test error obtained, along with the value of M selected by cross-validation."
   ]
  },
  {
   "cell_type": "code",
   "execution_count": 33,
   "id": "d67c1998-2031-433c-81b9-5a85f5bfd2e4",
   "metadata": {},
   "outputs": [
    {
     "name": "stdout",
     "output_type": "stream",
     "text": [
      "Optimal Number of Components (PLS): 17\n",
      "PLS Test Error: 1042199.0229809326\n"
     ]
    }
   ],
   "source": [
    "# Perform cross-validation to determine optimal number of components for PLS\n",
    "pls_mse = []\n",
    "for i in range(1, X_train.shape[1] + 1):\n",
    "    pls_model = PLSRegression(n_components=i)\n",
    "    scores = cross_val_score(pls_model, X_train, y_train, cv=10, scoring='neg_mean_squared_error')\n",
    "    pls_mse.append(-scores.mean())\n",
    "\n",
    "# Select the number of components with minimum MSE\n",
    "optimal_pls_components = np.argmin(pls_mse) + 1\n",
    "print(\"Optimal Number of Components (PLS):\", optimal_pls_components)\n",
    "\n",
    "# Fit PLS model with optimal components\n",
    "pls_model = PLSRegression(n_components=optimal_pls_components)\n",
    "pls_model.fit(X_train, y_train)\n",
    "\n",
    "# Predict on the test set\n",
    "y_pred_pls = pls_model.predict(X_test)\n",
    "\n",
    "# Calculate test error\n",
    "pls_test_error = mean_squared_error(y_test, y_pred_pls)\n",
    "print(\"PLS Test Error:\", pls_test_error)\n"
   ]
  },
  {
   "cell_type": "markdown",
   "id": "ec3322a2-1d0b-40b9-85fb-1d0e47d35e5d",
   "metadata": {},
   "source": [
    "#### (g) Comment on the results obtained. How accurately can we predict the number of college applications received? Is there much difference among the test errors resulting from these five approaches?"
   ]
  },
  {
   "cell_type": "markdown",
   "id": "dd38c950-fb10-46bb-a902-80f89fdce537",
   "metadata": {},
   "source": [
    "**Performance:** <br>\n",
    "Among the models, Ridge, Lasso, and PLS usually outperform Linear Regression due to regularization and dimensionality reduction techniques.<br>\n",
    "If Lasso has a comparable test error with fewer predictors, it might be the most interpretable model.<br>\n",
    "PLS often achieves a good balance between dimensionality reduction and predictive accuracy.<br>\n",
    "**Model Selection:**\n",
    "If prediction accuracy is the primary concern, select the model with the lowest test error.<br>\n",
    "If interpretability matters, prefer Lasso or Ridge depending on the sparsity of the solution."
   ]
  }
 ],
 "metadata": {
  "kernelspec": {
   "display_name": "Python 3 (ipykernel)",
   "language": "python",
   "name": "python3"
  },
  "language_info": {
   "codemirror_mode": {
    "name": "ipython",
    "version": 3
   },
   "file_extension": ".py",
   "mimetype": "text/x-python",
   "name": "python",
   "nbconvert_exporter": "python",
   "pygments_lexer": "ipython3",
   "version": "3.9.19"
  }
 },
 "nbformat": 4,
 "nbformat_minor": 5
}
