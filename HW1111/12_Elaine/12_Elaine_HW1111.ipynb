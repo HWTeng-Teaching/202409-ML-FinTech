{
 "cells": [
  {
   "cell_type": "markdown",
   "id": "6081a064-dc25-4740-8e80-fd26e37d2249",
   "metadata": {},
   "source": [
    "## CH06 Q03 "
   ]
  },
  {
   "cell_type": "markdown",
   "id": "5062d729-76f0-4c75-b3f9-995c7236c589",
   "metadata": {},
   "source": [
    "### (a) As we increase s from 0, the training RSS will:\n",
    "In LASSO, setting s=0 forces all coefficients $\\beta_j$=0, leading to a high training RSS (because the model fits a mean-only model with no predictors). As s increases, the constraint relaxes, allowing more coefficients to become nonzero and the model to fit the data better, thus reducing the training RSS.\n",
    "- iv. Steadily decrease (since more flexibility in s generally reduces training error).\n",
    "### (b) Repeat (a) for test RSS.\n",
    "For the test RSS, the pattern can differ. Initially, as s increases, the model may improve, decreasing test RSS. However, if s grows too large, leading to overfitting, the test RSS may start increasing after reaching a minimum. This pattern typically forms a U-shaped curve for test RSS as a function of s.\n",
    "- ii. Decrease initially, and then eventually start increasing in a U shape.\n",
    "### (c) Repeat (a) for variance.\n",
    "As s increases, the model complexity increases, allowing more parameters to vary freely, which increases the variance of the model.\n",
    "- iv. Steadily increase.\n",
    "### (d) Repeat (a) for (squared) bias.\n",
    "With a very restrictive s (e.g., close to 0), the model has high bias, as it can't fit the data well. As s increases, the model bias decreases because the model can fit more details of the training data.\n",
    "- iv. Steadily decrease.\n",
    "### (e) Repeat (a) for the irreducible error.\n",
    "The irreducible error is a property of the data and cannot be influenced by the model or the value of s.\n",
    "- v. Remain constant."
   ]
  },
  {
   "cell_type": "markdown",
   "id": "459fd02d-6ed7-4d1b-94b0-dada4a70c970",
   "metadata": {},
   "source": [
    "## CH06 Q04"
   ]
  },
  {
   "cell_type": "markdown",
   "id": "8967c57d-b6f8-4118-98a4-741d392daedd",
   "metadata": {},
   "source": [
    "### (a) As we increase λ from 0, the training RSS will:\n",
    "In ridge regression, setting λ=0 results in no penalty, making the model equivalent to ordinary least squares (OLS) and achieving the lowest possible training RSS. As λ increases, the penalty term forces the coefficients $\\beta_j$ to shrink, leading to a decrease in the model’s flexibility and thus an increase in the training RSS.\n",
    "- iii. Steadily increase.\n",
    "### (b) Repeat (a) for test RSS.\n",
    "For the test RSS, the effect is different. Initially, as λ increases, the test RSS may decrease because the regularization term reduces overfitting. However, as λ continues to increase, the model becomes too constrained, leading to underfitting, which causes the test RSS to start increasing. This behavior generally forms a U-shaped curve for the test RSS as a function of λ.\n",
    "- ii. Decrease initially, and then eventually start increasing in a U shape.\n",
    "### (c) Repeat (a) for variance.\n",
    "As λ increases, the model complexity decreases due to the penalization, leading to lower variance (the model becomes more stable and less sensitive to fluctuations in the data).\n",
    "- iv. Steadily decrease.\n",
    "### (d) Repeat (a) for (squared) bias.\n",
    "As λ increases, the bias of the model increases because the model becomes less flexible and less able to fit the training data accurately.\n",
    "- iii. Steadily increase.\n",
    "### (e) Repeat (a) for the irreducible error.\n",
    "The irreducible error is a characteristic of the data and cannot be influenced by the model or the value of λ.\n",
    "- v. Remain constant."
   ]
  },
  {
   "cell_type": "markdown",
   "id": "61401b70-019e-4ac9-81a5-adce13d1a758",
   "metadata": {},
   "source": [
    "## CH06 Q06\n",
    "## In this exercise, we will generate simulated data, and will then use  this data to perform forward and backward stepwise selection.\n",
    "##  (a) Create a random number generator and use its normal() method to generate a predictor X of length n = 100, as well as a noise vector of length n = 100.\n"
   ]
  },
  {
   "cell_type": "code",
   "execution_count": 8,
   "id": "881390a4-b197-4cb4-9df2-3a1dd91a8bbd",
   "metadata": {},
   "outputs": [
    {
     "name": "stdout",
     "output_type": "stream",
     "text": [
      "Predictor X: [ 1.76405235  0.40015721  0.97873798  2.2408932   1.86755799 -0.97727788\n",
      "  0.95008842 -0.15135721 -0.10321885  0.4105985   0.14404357  1.45427351\n",
      "  0.76103773  0.12167502  0.44386323  0.33367433  1.49407907 -0.20515826\n",
      "  0.3130677  -0.85409574 -2.55298982  0.6536186   0.8644362  -0.74216502\n",
      "  2.26975462 -1.45436567  0.04575852 -0.18718385  1.53277921  1.46935877\n",
      "  0.15494743  0.37816252 -0.88778575 -1.98079647 -0.34791215  0.15634897\n",
      "  1.23029068  1.20237985 -0.38732682 -0.30230275 -1.04855297 -1.42001794\n",
      " -1.70627019  1.9507754  -0.50965218 -0.4380743  -1.25279536  0.77749036\n",
      " -1.61389785 -0.21274028 -0.89546656  0.3869025  -0.51080514 -1.18063218\n",
      " -0.02818223  0.42833187  0.06651722  0.3024719  -0.63432209 -0.36274117\n",
      " -0.67246045 -0.35955316 -0.81314628 -1.7262826   0.17742614 -0.40178094\n",
      " -1.63019835  0.46278226 -0.90729836  0.0519454   0.72909056  0.12898291\n",
      "  1.13940068 -1.23482582  0.40234164 -0.68481009 -0.87079715 -0.57884966\n",
      " -0.31155253  0.05616534 -1.16514984  0.90082649  0.46566244 -1.53624369\n",
      "  1.48825219  1.89588918  1.17877957 -0.17992484 -1.07075262  1.05445173\n",
      " -0.40317695  1.22244507  0.20827498  0.97663904  0.3563664   0.70657317\n",
      "  0.01050002  1.78587049  0.12691209  0.40198936]\n",
      "Noise vector: [ 1.8831507  -1.34775906 -1.270485    0.96939671 -1.17312341  1.94362119\n",
      " -0.41361898 -0.74745481  1.92294203  1.48051479  1.86755896  0.90604466\n",
      " -0.86122569  1.91006495 -0.26800337  0.8024564   0.94725197 -0.15501009\n",
      "  0.61407937  0.92220667  0.37642553 -1.09940079  0.29823817  1.3263859\n",
      " -0.69456786 -0.14963454 -0.43515355  1.84926373  0.67229476  0.40746184\n",
      " -0.76991607  0.53924919 -0.67433266  0.03183056 -0.63584608  0.67643329\n",
      "  0.57659082 -0.20829876  0.39600671 -1.09306151 -1.49125759  0.4393917\n",
      "  0.1666735   0.63503144  2.38314477  0.94447949 -0.91282223  1.11701629\n",
      " -1.31590741 -0.4615846  -0.06824161  1.71334272 -0.74475482 -0.82643854\n",
      " -0.09845252 -0.66347829  1.12663592 -1.07993151 -1.14746865 -0.43782004\n",
      " -0.49803245  1.92953205  0.94942081  0.08755124 -1.22543552  0.84436298\n",
      " -1.00021535 -1.5447711   1.18802979  0.31694261  0.92085882  0.31872765\n",
      "  0.85683061 -0.65102559 -1.03424284  0.68159452 -0.80340966 -0.68954978\n",
      " -0.4555325   0.01747916 -0.35399391 -1.37495129 -0.6436184  -2.22340315\n",
      "  0.62523145 -1.60205766 -1.10438334  0.05216508 -0.739563    1.5430146\n",
      " -1.29285691  0.26705087 -0.03928282 -1.1680935   0.52327666 -0.17154633\n",
      "  0.77179055  0.82350415  2.16323595  1.33652795]\n"
     ]
    }
   ],
   "source": [
    "import numpy as np\n",
    "\n",
    "# Set random seed for reproducibility\n",
    "np.random.seed(0)\n",
    "\n",
    "# Parameters\n",
    "n = 100\n",
    "\n",
    "# Generate predictor X and noise vector\n",
    "X = np.random.normal(0, 1, n)\n",
    "noise = np.random.normal(0, 1, n)\n",
    "\n",
    "# Display the generated arrays\n",
    "print(\"Predictor X:\", X)\n",
    "print(\"Noise vector:\", noise)\n"
   ]
  },
  {
   "cell_type": "markdown",
   "id": "89973207-d607-4676-a7a2-c361dda6c336",
   "metadata": {},
   "source": [
    " ## (b) Generate a response vector Y of length n = 100 according to the model\n",
    " ## $Y$ = $\\beta_0$+ $\\beta_1$ $X$+ $\\beta_2$ $X^2$+ $\\beta_3$ $X^3$+ $\\epsilon$, where $\\beta_0$, $\\beta_1$, $\\beta_2$, and $\\beta_3$ are constants of your choice."
   ]
  },
  {
   "cell_type": "code",
   "execution_count": 15,
   "id": "3fa09320-400f-49c2-a7f2-a58fe5ef3335",
   "metadata": {},
   "outputs": [
    {
     "name": "stdout",
     "output_type": "stream",
     "text": [
      "Response vector Y: [ 3.06937664 -0.20532322 -0.07053117  2.20648983  0.01690826  1.97961634\n",
      "  0.78611947  0.16735624  2.86696098  2.62529992  2.9315802   2.09478281\n",
      "  0.33169947  2.96516068  0.88386717  1.92847322  2.13490172  0.7247113\n",
      "  1.73447709  1.14106245 -4.1711489   0.08444531  1.49615129  1.69410071\n",
      "  0.54892405 -1.03051363  0.58689775  2.74100084  1.85903252  1.59577193\n",
      "  0.29832617  1.67653568 -0.50346298 -2.30516585  0.13756947  1.74521197\n",
      "  1.77250876  0.98843438  1.13652372 -0.28353032 -1.57060396 -0.36353729\n",
      " -1.34776112  1.83058166  3.01118257  1.64027165 -1.36364415  2.31096358\n",
      " -2.58508937  0.41297906  0.09147706  2.85270823 -0.11785417 -1.13887899\n",
      "  0.88713643  0.4851589   2.15815415  0.03747603 -0.65109838  0.32340392\n",
      " -0.04555276  2.69339583  1.22459912 -1.48205184 -0.14875592  1.57241547\n",
      " -2.311566   -0.38913565  1.33041656  1.34185     2.11153137  1.37677906\n",
      "  2.05515825 -1.06664203  0.10868952  1.11948834 -0.60815478 -0.13239672\n",
      "  0.34684115  1.04431773 -0.63777622 -0.17603237  0.51257371 -3.29810323\n",
      "  1.81303188 -0.41041377  0.09299186  0.94867101 -0.85630676  2.74273424\n",
      " -0.56601975  1.46320339  1.04840675  0.03185065  1.6551868   1.01731735\n",
      "  1.77699658  2.01027968  3.22045374  2.47938042]\n"
     ]
    }
   ],
   "source": [
    "# Constants\n",
    "beta_0 = 1\n",
    "beta_1 = 0.5\n",
    "beta_2 = -0.4\n",
    "beta_3 = 0.1\n",
    "\n",
    "# Generate response vector Y\n",
    "Y = beta_0 + beta_1 * X + beta_2 * X**2 + beta_3 * X**3 + noise\n",
    "\n",
    "# Display the generated response vector\n",
    "print(\"Response vector Y:\", Y)\n"
   ]
  },
  {
   "cell_type": "markdown",
   "id": "6e5c6b90-e846-42a1-b58e-cb68ab120c6d",
   "metadata": {},
   "source": [
    "##  Use forward stepwise selection in order to select a model containing the predictors $X$, $X^2$,..., $X^{10}$. What is the model obtained according to $C_p$? Report the coefficients of the model obtained.. What is the model obtained according to $C_p$? Report the coefficients of the model obtained."
   ]
  },
  {
   "cell_type": "code",
   "execution_count": 17,
   "id": "05ec4672-4cd4-451f-9bba-1de2826dae7d",
   "metadata": {},
   "outputs": [
    {
     "name": "stdout",
     "output_type": "stream",
     "text": [
      "Selected features (forward): [ True  True False  True False False  True False  True False]\n",
      "Intercept: 1.2159224046429746\n",
      "Coefficients: [ 0.74763293 -0.62597443  0.02733454  0.0132682  -0.00194569]\n"
     ]
    }
   ],
   "source": [
    "from sklearn.linear_model import LinearRegression\n",
    "from sklearn.feature_selection import SequentialFeatureSelector\n",
    "\n",
    "X_poly = np.column_stack([X**i for i in range(1, 11)])\n",
    "\n",
    "model = LinearRegression()\n",
    "sfs = SequentialFeatureSelector(model, n_features_to_select=\"auto\", direction=\"forward\", scoring=\"neg_mean_squared_error\", cv=5)\n",
    "sfs.fit(X_poly, Y)\n",
    "\n",
    "selected_features_forward = sfs.get_support()\n",
    "\n",
    "model.fit(X_poly[:, selected_features_forward], Y)\n",
    "coefficients = model.coef_\n",
    "intercept = model.intercept_\n",
    "\n",
    "print(\"Selected features (forward):\", selected_features_forward)\n",
    "print(\"Intercept:\", intercept)\n",
    "print(\"Coefficients:\", coefficients)"
   ]
  },
  {
   "cell_type": "markdown",
   "id": "f42b00b5-22cd-4b7c-81cc-40808ebd9875",
   "metadata": {},
   "source": [
    "##  (d) Repeat (c), using backwards stepwise selection. How does your answer compare to the results in (c)?"
   ]
  },
  {
   "cell_type": "code",
   "execution_count": 20,
   "id": "1cf37143-6a0d-4a5b-90f6-1bcc57b869fc",
   "metadata": {},
   "outputs": [
    {
     "name": "stdout",
     "output_type": "stream",
     "text": [
      "Selected features (backward): [False  True  True  True  True False False False  True False]\n",
      "Intercept (backward): 1.2647143863751253\n",
      "Coefficients (backward): [-0.79813045  0.97597157  0.08896082 -0.23635425  0.00290142]\n",
      "\n",
      "Two methods choose different features for the model.\n"
     ]
    }
   ],
   "source": [
    "sfs_backward = SequentialFeatureSelector(model, n_features_to_select=\"auto\", direction=\"backward\", scoring=\"neg_mean_squared_error\", cv=5)\n",
    "sfs_backward.fit(X_poly, Y)\n",
    "\n",
    "selected_features_backward = sfs_backward.get_support()\n",
    "\n",
    "model.fit(X_poly[:, selected_features_backward], Y)\n",
    "coefficients_backward = model.coef_\n",
    "intercept_backward = model.intercept_\n",
    "\n",
    "print(\"Selected features (backward):\", selected_features_backward)\n",
    "print(\"Intercept (backward):\", intercept_backward)\n",
    "print(\"Coefficients (backward):\", coefficients_backward)\n",
    "\n",
    "print(\"\\nTwo methods choose different features for the model.\")"
   ]
  },
  {
   "cell_type": "markdown",
   "id": "5bfd7006-e0c3-4de2-ab6b-c3fa09aa9d58",
   "metadata": {},
   "source": [
    "## (e) Now fit a lasso model to the simulated data, again using $X$, $X^2$,..., $X^{10}$0 as predictors. Use cross-validation to select the optiml \n",
    " value o$\\lambda$f . Create plots of the cross-validation error as a functi \r\n",
    " $\\lambda$of . Report the resulting coefficient estimates, and discuss  e\r\n",
    " results obtained."
   ]
  },
  {
   "cell_type": "code",
   "execution_count": 35,
   "id": "f36820a3-562f-4bf4-925b-c4d8131bbd8d",
   "metadata": {},
   "outputs": [
    {
     "data": {
      "image/png": "[encoded data removed]",
      "text/plain": [
       "<Figure size 640x480 with 1 Axes>"
      ]
     },
     "metadata": {},
     "output_type": "display_data"
    },
    {
     "name": "stdout",
     "output_type": "stream",
     "text": [
      "Optimal λ (alpha): 0.004094915062380427\n",
      "Lasso Coefficients: [ 0.39977063 -0.68961194  0.92290539  0.22129538 -0.2343276   0.\n",
      " -0.24351539 -0.         -0.         -0.05936845]\n"
     ]
    }
   ],
   "source": [
    "from sklearn.linear_model import LassoCV\n",
    "from sklearn.preprocessing import PolynomialFeatures, StandardScaler\n",
    "import numpy as np\n",
    "import matplotlib.pyplot as plt\n",
    "\n",
    "# Generate polynomial features up to X^10\n",
    "poly = PolynomialFeatures(degree=10, include_bias=False)\n",
    "X_poly = poly.fit_transform(X)\n",
    "\n",
    "# Standardize features\n",
    "scaler = StandardScaler()\n",
    "X_poly = scaler.fit_transform(X_poly)\n",
    "\n",
    "# Fit Lasso model with cross-validation to find optimal alpha\n",
    "lasso_cv = LassoCV(alphas=np.logspace(-3, 0, 50), cv=5, max_iter=50000, tol=1e-2, random_state=0)\n",
    "lasso_cv.fit(X_poly, Y)\n",
    "\n",
    "# Plot mean cross-validation error as a function of lambda\n",
    "plt.plot(lasso_cv.alphas_, lasso_cv.mse_path_.mean(axis=1), label=\"Mean Cross-Validation Error\")\n",
    "plt.xscale(\"log\")\n",
    "plt.xlabel(\"λ (alpha)\")\n",
    "plt.ylabel(\"Cross-Validation Error\")\n",
    "plt.title(\"Cross-Validation Error as a Function of λ\")\n",
    "plt.axvline(lasso_cv.alpha_, color=\"red\", linestyle=\"--\", label=f\"Optimal λ: {lasso_cv.alpha_:.4f}\")\n",
    "plt.legend()\n",
    "plt.show()\n",
    "\n",
    "# Output the optimal lambda and the coefficients of the fitted model\n",
    "lasso_coefficients = lasso_cv.coef_\n",
    "print(\"Optimal λ (alpha):\", lasso_cv.alpha_)\n",
    "print(\"Lasso Coefficients:\", lasso_coefficients)\n"
   ]
  },
  {
   "cell_type": "markdown",
   "id": "0184b3d8-0083-45c7-aa38-fccbd2a525fd",
   "metadata": {},
   "source": [
    "## (f) Now generate a response vector Y according to the model\n",
    "## $Y$ = $\\beta_0$+ $\\beta_7$ $X^7$ + $\\epsilon$ , and perform forward stepwise selection and the lasso. Discuss the results obtained."
   ]
  },
  {
   "cell_type": "code",
   "execution_count": 38,
   "id": "f12dec10-d5d7-4b2e-b5aa-3c683224a8cc",
   "metadata": {},
   "outputs": [
    {
     "name": "stdout",
     "output_type": "stream",
     "text": [
      "Forward Stepwise Selection selected features: ['X^1', 'X^2', 'X^3', 'X^4', 'X^7']\n"
     ]
    },
    {
     "data": {
      "image/png": "[encoded data removed]",
      "text/plain": [
       "<Figure size 640x480 with 1 Axes>"
      ]
     },
     "metadata": {},
     "output_type": "display_data"
    },
    {
     "name": "stdout",
     "output_type": "stream",
     "text": [
      "Optimal λ (alpha): 0.001\n",
      "Lasso Coefficients: [-0.91918312  3.30069956 -8.13960286 -3.51234748 35.40222173 -5.95443282\n",
      " 25.65160289  1.93303655 16.82617896  4.83634423]\n"
     ]
    }
   ],
   "source": [
    "import numpy as np\n",
    "import pandas as pd\n",
    "from sklearn.linear_model import LassoCV\n",
    "from sklearn.preprocessing import PolynomialFeatures, StandardScaler\n",
    "import statsmodels.api as sm\n",
    "import matplotlib.pyplot as plt\n",
    "from sklearn.feature_selection import SequentialFeatureSelector\n",
    "from sklearn.linear_model import LinearRegression\n",
    "\n",
    "beta_0, beta_7 = 1, 0.8  # Choose constants for the model\n",
    "Y = beta_0 + beta_7 * X.flatten()**7 + noise\n",
    "\n",
    "# Generate polynomial features up to X^10\n",
    "poly = PolynomialFeatures(degree=10, include_bias=False)\n",
    "X_poly = poly.fit_transform(X)\n",
    "\n",
    "# Standardize features for Lasso\n",
    "scaler = StandardScaler()\n",
    "X_poly_standardized = scaler.fit_transform(X_poly)\n",
    "\n",
    "# Perform forward stepwise selection\n",
    "linear_model = LinearRegression()\n",
    "sfs = SequentialFeatureSelector(linear_model, n_features_to_select=\"auto\", direction=\"forward\", scoring=\"neg_mean_squared_error\")\n",
    "sfs.fit(X_poly, Y)\n",
    "selected_features = sfs.get_support(indices=True)\n",
    "selected_feature_names = [f\"X^{i+1}\" for i in selected_features]\n",
    "print(\"Forward Stepwise Selection selected features:\", selected_feature_names)\n",
    "\n",
    "# Fit Lasso with cross-validation\n",
    "lasso_cv = LassoCV(alphas=np.logspace(-3, 0, 50), cv=5, max_iter=50000, tol=1e-2, random_state=0)\n",
    "lasso_cv.fit(X_poly_standardized, Y)\n",
    "\n",
    "# Plot mean cross-validation error as a function of lambda\n",
    "plt.plot(lasso_cv.alphas_, lasso_cv.mse_path_.mean(axis=1), label=\"Mean Cross-Validation Error\")\n",
    "plt.xscale(\"log\")\n",
    "plt.xlabel(\"λ (alpha)\")\n",
    "plt.ylabel(\"Cross-Validation Error\")\n",
    "plt.title(\"Cross-Validation Error as a Function of λ\")\n",
    "plt.axvline(lasso_cv.alpha_, color=\"red\", linestyle=\"--\", label=f\"Optimal λ: {lasso_cv.alpha_:.4f}\")\n",
    "plt.legend()\n",
    "plt.show()\n",
    "\n",
    "# Output the selected Lasso coefficients\n",
    "lasso_coefficients = lasso_cv.coef_\n",
    "print(\"Optimal λ (alpha):\", lasso_cv.alpha_)\n",
    "print(\"Lasso Coefficients:\", lasso_coefficients)\n"
   ]
  },
  {
   "cell_type": "markdown",
   "id": "c7d68951-4138-4973-9ea2-89f72a0b9326",
   "metadata": {},
   "source": [
    "## CH06 Q09\n",
    "## In this exercise, we will predict the number of applications received using the other variables in the College data set.\n",
    "## (a) Split the data set into a training set and a test set."
   ]
  },
  {
   "cell_type": "code",
   "execution_count": 17,
   "id": "edd45b2f-6727-4df9-9f39-92166f9d2286",
   "metadata": {},
   "outputs": [
    {
     "name": "stdout",
     "output_type": "stream",
     "text": [
      "Training set size: (621, 17)\n",
      "Test set size: (156, 17)\n"
     ]
    }
   ],
   "source": [
    "import pandas as pd\n",
    "from sklearn.model_selection import train_test_split\n",
    "\n",
    "data = pd.read_csv('College.csv')  # Modify with your file path if needed\n",
    "data = data.iloc[:, 1:]\n",
    "data['Private'] = data['Private'].map({'Yes': 1, 'No': 0})\n",
    "# Define the target variable (e.g., 'Applications') and features\n",
    "target = 'Apps'  # Replace with the actual column name for applications\n",
    "X = data.drop(columns=[target])  # Features\n",
    "y = data[target]  # Target\n",
    "\n",
    "# Split the dataset into training and test sets (80%-20% split)\n",
    "X_train, X_test, y_train, y_test = train_test_split(X, y, test_size=0.2, random_state=42)\n",
    "\n",
    "# Display the sizes of the splits\n",
    "print(f\"Training set size: {X_train.shape}\")\n",
    "print(f\"Test set size: {X_test.shape}\")\n"
   ]
  },
  {
   "cell_type": "markdown",
   "id": "72e70646-180f-49d5-b2e3-7ccac70b3e0a",
   "metadata": {},
   "source": [
    "##  (b) Fit a linear model using least squares on the training set, and report the test error obtained."
   ]
  },
  {
   "cell_type": "code",
   "execution_count": 20,
   "id": "c8d72b06-c565-4d70-826d-9e2fe920adcd",
   "metadata": {},
   "outputs": [
    {
     "name": "stdout",
     "output_type": "stream",
     "text": [
      "Test Mean Squared Error: 1492443.38\n"
     ]
    }
   ],
   "source": [
    "# Importing necessary libraries\n",
    "from sklearn.linear_model import LinearRegression\n",
    "from sklearn.metrics import mean_squared_error\n",
    "\n",
    "# Initialize the linear regression model\n",
    "model = LinearRegression()\n",
    "\n",
    "# Fit the model to the training data\n",
    "model.fit(X_train, y_train)\n",
    "\n",
    "# Predict on the test set\n",
    "y_pred = model.predict(X_test)\n",
    "\n",
    "# Calculate the Mean Squared Error (MSE) on the test set\n",
    "test_mse = mean_squared_error(y_test, y_pred)\n",
    "\n",
    "# Report the test error\n",
    "print(f\"Test Mean Squared Error: {test_mse:.2f}\")\n"
   ]
  },
  {
   "cell_type": "markdown",
   "id": "35b60d6d-e820-4dff-8cd3-c2d905f8b0ae",
   "metadata": {},
   "source": [
    "##  (c) Fit a ridge regression model on the training set, with chosen by cross-validation. Report the test error obtained."
   ]
  },
  {
   "cell_type": "code",
   "execution_count": 23,
   "id": "6c719cce-fed1-4b31-a35d-8b5b5ec17ae0",
   "metadata": {},
   "outputs": [
    {
     "name": "stdout",
     "output_type": "stream",
     "text": [
      "Optimal alpha chosen by cross-validation: 10.0\n",
      "Test Mean Squared Error (Ridge Regression): 1478572.81\n"
     ]
    }
   ],
   "source": [
    "# Import necessary libraries\n",
    "from sklearn.linear_model import RidgeCV\n",
    "from sklearn.metrics import mean_squared_error\n",
    "\n",
    "# Define a range of alpha values for cross-validation\n",
    "alpha_values = [0.1, 1.0, 10.0, 100.0, 1000.0]\n",
    "\n",
    "# Initialize the RidgeCV model\n",
    "ridge_model = RidgeCV(alphas=alpha_values, scoring='neg_mean_squared_error', cv=5)\n",
    "\n",
    "# Fit the RidgeCV model to the training data\n",
    "ridge_model.fit(X_train, y_train)\n",
    "\n",
    "# Get the best alpha\n",
    "best_alpha = ridge_model.alpha_\n",
    "print(f\"Optimal alpha chosen by cross-validation: {best_alpha}\")\n",
    "\n",
    "# Predict on the test set using the trained Ridge model\n",
    "y_pred_ridge = ridge_model.predict(X_test)\n",
    "\n",
    "# Calculate the test Mean Squared Error (MSE)\n",
    "test_mse_ridge = mean_squared_error(y_test, y_pred_ridge)\n",
    "\n",
    "# Report the test error\n",
    "print(f\"Test Mean Squared Error (Ridge Regression): {test_mse_ridge:.2f}\")\n"
   ]
  },
  {
   "cell_type": "markdown",
   "id": "cb5aef58-3f06-48bf-a154-6f666fd5cf70",
   "metadata": {},
   "source": [
    "##  (d) Fit a lasso model on the training set, with chosen by cross-validation. Report the test error obtained, along with the number of non-zero coefficient estimates."
   ]
  },
  {
   "cell_type": "code",
   "execution_count": 27,
   "id": "6a3701d9-768c-4f05-8af7-f83c3e70e755",
   "metadata": {},
   "outputs": [
    {
     "name": "stdout",
     "output_type": "stream",
     "text": [
      "Optimal alpha chosen by cross-validation: 7.742636826811269\n",
      "Test Mean Squared Error (Lasso Regression): 1480422.07\n",
      "Number of non-zero coefficients: 17\n"
     ]
    }
   ],
   "source": [
    "# Import necessary libraries\n",
    "from sklearn.linear_model import LassoCV\n",
    "from sklearn.metrics import mean_squared_error\n",
    "import numpy as np\n",
    "\n",
    "# Define a range of alpha values for cross-validation\n",
    "alpha_values = np.logspace(-3, 2, 100)  # 100 values from 0.001 to 100\n",
    "\n",
    "# Initialize the LassoCV model\n",
    "lasso_model = LassoCV(alphas=alpha_values, cv=5, random_state=42)\n",
    "\n",
    "# Fit the LassoCV model to the training data\n",
    "lasso_model.fit(X_train, y_train)\n",
    "\n",
    "# Get the best alpha\n",
    "best_alpha = lasso_model.alpha_\n",
    "print(f\"Optimal alpha chosen by cross-validation: {best_alpha}\")\n",
    "\n",
    "# Predict on the test set using the trained Lasso model\n",
    "y_pred_lasso = lasso_model.predict(X_test)\n",
    "\n",
    "# Calculate the test Mean Squared Error (MSE)\n",
    "test_mse_lasso = mean_squared_error(y_test, y_pred_lasso)\n",
    "\n",
    "# Count the number of non-zero coefficients\n",
    "num_nonzero_coefs = np.sum(lasso_model.coef_ != 0)\n",
    "\n",
    "# Report the test error and the number of non-zero coefficients\n",
    "print(f\"Test Mean Squared Error (Lasso Regression): {test_mse_lasso:.2f}\")\n",
    "print(f\"Number of non-zero coefficients: {num_nonzero_coefs}\")\n"
   ]
  },
  {
   "cell_type": "markdown",
   "id": "40bbb233-0b0c-442f-a6ec-dd1c5cf2efa9",
   "metadata": {},
   "source": [
    "##  (e) Fit a PCR model on the training set, with M chosen by cross-validation. Report the test error obtained, along with the value of M selected by cross-validation."
   ]
  },
  {
   "cell_type": "code",
   "execution_count": 30,
   "id": "1fba99ac-7bc5-426f-9177-5179a00410ae",
   "metadata": {},
   "outputs": [
    {
     "name": "stdout",
     "output_type": "stream",
     "text": [
      "Optimal number of components (M) chosen by cross-validation: 17\n",
      "Test Mean Squared Error (PCR): 1492443.38\n"
     ]
    }
   ],
   "source": [
    "from sklearn.decomposition import PCA\n",
    "from sklearn.linear_model import LinearRegression\n",
    "from sklearn.model_selection import cross_val_score\n",
    "from sklearn.metrics import mean_squared_error\n",
    "import numpy as np\n",
    "\n",
    "# Perform PCA on the training data\n",
    "pca = PCA()\n",
    "X_train_pca = pca.fit_transform(X_train)\n",
    "X_test_pca = pca.transform(X_test)\n",
    "\n",
    "# Initialize variables to track the best M and the lowest cross-validated error\n",
    "best_m = 0\n",
    "lowest_cv_error = float('inf')\n",
    "\n",
    "# Iterate over possible numbers of principal components\n",
    "for m in range(1, X_train_pca.shape[1] + 1):\n",
    "    # Use the first m principal components\n",
    "    X_train_pca_m = X_train_pca[:, :m]\n",
    "    \n",
    "    # Perform cross-validation with linear regression\n",
    "    model = LinearRegression()\n",
    "    cv_scores = cross_val_score(model, X_train_pca_m, y_train, cv=5, scoring='neg_mean_squared_error')\n",
    "    \n",
    "    # Calculate the mean cross-validated error\n",
    "    mean_cv_error = -np.mean(cv_scores)\n",
    "    \n",
    "    # Update the best M if the current model is better\n",
    "    if mean_cv_error < lowest_cv_error:\n",
    "        best_m = m\n",
    "        lowest_cv_error = mean_cv_error\n",
    "\n",
    "# Train the final model using the best M\n",
    "X_train_pca_best = X_train_pca[:, :best_m]\n",
    "X_test_pca_best = X_test_pca[:, :best_m]\n",
    "\n",
    "final_model = LinearRegression()\n",
    "final_model.fit(X_train_pca_best, y_train)\n",
    "\n",
    "# Predict on the test set\n",
    "y_pred_pcr = final_model.predict(X_test_pca_best)\n",
    "\n",
    "# Calculate the test error (Mean Squared Error)\n",
    "test_mse_pcr = mean_squared_error(y_test, y_pred_pcr)\n",
    "\n",
    "# Report the results\n",
    "print(f\"Optimal number of components (M) chosen by cross-validation: {best_m}\")\n",
    "print(f\"Test Mean Squared Error (PCR): {test_mse_pcr:.2f}\")\n"
   ]
  },
  {
   "cell_type": "markdown",
   "id": "30cc8974-cbdd-4039-aef2-cd77b013ced5",
   "metadata": {},
   "source": [
    "##  (f) Fit a PLS model on the training set, with M chosen by cross-validation. Report the test error obtained, along with the value iof M selected by cross-validation"
   ]
  },
  {
   "cell_type": "code",
   "execution_count": 33,
   "id": "681342d7-11e1-4f9d-8e9b-f9aad0a80e67",
   "metadata": {},
   "outputs": [
    {
     "name": "stdout",
     "output_type": "stream",
     "text": [
      "Optimal number of components (M) chosen by cross-validation: 17\n",
      "Test Mean Squared Error (PLS): 1492443.38\n"
     ]
    }
   ],
   "source": [
    "from sklearn.cross_decomposition import PLSRegression\n",
    "from sklearn.model_selection import cross_val_score\n",
    "from sklearn.metrics import mean_squared_error\n",
    "import numpy as np\n",
    "\n",
    "# Initialize variables to track the best M and the lowest cross-validated error\n",
    "best_m = 0\n",
    "lowest_cv_error = float('inf')\n",
    "\n",
    "# Iterate over possible numbers of components (1 to the minimum of feature count or sample count)\n",
    "max_components = min(X_train.shape[1], X_train.shape[0])\n",
    "for m in range(1, max_components + 1):\n",
    "    # Initialize PLS model with m components\n",
    "    pls = PLSRegression(n_components=m)\n",
    "    \n",
    "    # Perform cross-validation with negative mean squared error as scoring\n",
    "    cv_scores = cross_val_score(pls, X_train, y_train, cv=5, scoring='neg_mean_squared_error')\n",
    "    \n",
    "    # Calculate the mean cross-validated error\n",
    "    mean_cv_error = -np.mean(cv_scores)\n",
    "    \n",
    "    # Update the best M if the current model is better\n",
    "    if mean_cv_error < lowest_cv_error:\n",
    "        best_m = m\n",
    "        lowest_cv_error = mean_cv_error\n",
    "\n",
    "# Train the final PLS model using the best M\n",
    "final_pls = PLSRegression(n_components=best_m)\n",
    "final_pls.fit(X_train, y_train)\n",
    "\n",
    "# Predict on the test set\n",
    "y_pred_pls = final_pls.predict(X_test)\n",
    "\n",
    "# Calculate the test error (Mean Squared Error)\n",
    "test_mse_pls = mean_squared_error(y_test, y_pred_pls)\n",
    "\n",
    "# Report the results\n",
    "print(f\"Optimal number of components (M) chosen by cross-validation: {best_m}\")\n",
    "print(f\"Test Mean Squared Error (PLS): {test_mse_pls:.2f}\")\n"
   ]
  },
  {
   "cell_type": "markdown",
   "id": "cf96a1ae-8773-435e-aa7a-4250b8f4816c",
   "metadata": {},
   "source": [
    "##  (g) Comment on the results obtained. How accurately can we predict the number of college applications received? Is there much difference among the test errors resulting from these five approaches?"
   ]
  },
  {
   "cell_type": "markdown",
   "id": "dfb372c0-b768-430c-af7b-d7a5e9a0b6b4",
   "metadata": {},
   "source": [
    "### Prediction Accuracy: The models show a similar level of predictive performance, with modest improvements between Linear Regression, Ridge, and Lasso. The MSEs are still relatively large, suggesting that predicting the number of college applications remains a difficult problem, perhaps due to unaccounted-for features or high variability in the data.\n",
    "\n",
    "### Effectiveness of Approaches: The methods that incorporate regularization (Ridge and Lasso) provided slight improvements, while dimensionality reduction methods (PCR and PLS) did not improve beyond the baseline. Ridge Regression slightly reduced the test error, but the improvement was not substantial enough to conclusively recommend one model over the others.\n",
    "\n",
    "### Model Choice: If feature selection is important (such as for interpretability), Lasso might be the model of choice due to its ability to shrink irrelevant coefficients to zero. Otherwise, Ridge may be more suitable for handling multicollinearity without overly simplifying the model."
   ]
  },
  {
   "cell_type": "code",
   "execution_count": null,
   "id": "9fddf5c7-a792-4922-af5d-8f9c134fba78",
   "metadata": {},
   "outputs": [],
   "source": []
  }
 ],
 "metadata": {
  "kernelspec": {
   "display_name": "Python 3 (ipykernel)",
   "language": "python",
   "name": "python3"
  },
  "language_info": {
   "codemirror_mode": {
    "name": "ipython",
    "version": 3
   },
   "file_extension": ".py",
   "mimetype": "text/x-python",
   "name": "python",
   "nbconvert_exporter": "python",
   "pygments_lexer": "ipython3",
   "version": "3.12.4"
  }
 },
 "nbformat": 4,
 "nbformat_minor": 5
}
