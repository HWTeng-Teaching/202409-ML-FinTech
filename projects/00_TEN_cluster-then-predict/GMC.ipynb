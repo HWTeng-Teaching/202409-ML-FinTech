{
 "cells": [
  {
   "cell_type": "code",
   "execution_count": 19,
   "metadata": {
    "scrolled": true
   },
   "outputs": [],
   "source": [
    "import pandas as pd\n",
    "import numpy as np\n",
    "\n",
    "#data preprocessing\n",
    "from scipy.stats import kurtosis\n",
    "from scipy.stats import skew\n",
    "import math\n",
    "from sklearn.preprocessing import StandardScaler\n",
    "from sklearn.model_selection import train_test_split\n",
    "from sklearn.preprocessing import PolynomialFeatures\n",
    "\n",
    "#coefficient generator\n",
    "from sklearn.linear_model import LinearRegression\n",
    "from sklearn.linear_model import LogisticRegression\n",
    "from sklearn.feature_selection import mutual_info_classif\n",
    "\n",
    "#cluster model\n",
    "from sklearn_extra.cluster import KMedoids\n",
    "\n",
    "#xgboost and LR\n",
    "import xgboost as xgb\n",
    "from sklearn.metrics import roc_curve, auc\n",
    "\n",
    "#dimension reduction\n",
    "from sklearn.decomposition import PCA\n",
    "\n",
    "#graph\n",
    "import plotly.express as px\n",
    "from plotly.subplots import make_subplots\n",
    "import plotly.graph_objects as go\n",
    "import matplotlib.pyplot as plt\n",
    "\n",
    "import warnings\n",
    "warnings.filterwarnings(\"ignore\")"
   ]
  },
  {
   "cell_type": "code",
   "execution_count": 48,
   "metadata": {},
   "outputs": [],
   "source": [
    "gmc = pd.read_csv(\"C:\\\\Users\\\\king0\\\\OneDrive\\\\鄧惠文專題\\\\GMC\\\\gmc-training.csv\").drop(columns='Unnamed: 0')"
   ]
  },
  {
   "cell_type": "code",
   "execution_count": 49,
   "metadata": {},
   "outputs": [
    {
     "data": {
      "text/plain": [
       "SeriousDlqin2yrs                            0\n",
       "RevolvingUtilizationOfUnsecuredLines        0\n",
       "age                                         0\n",
       "NumberOfTime30-59DaysPastDueNotWorse        0\n",
       "DebtRatio                                   0\n",
       "MonthlyIncome                           29731\n",
       "NumberOfOpenCreditLinesAndLoans             0\n",
       "NumberOfTimes90DaysLate                     0\n",
       "NumberRealEstateLoansOrLines                0\n",
       "NumberOfTime60-89DaysPastDueNotWorse        0\n",
       "NumberOfDependents                       3924\n",
       "dtype: int64"
      ]
     },
     "execution_count": 49,
     "metadata": {},
     "output_type": "execute_result"
    }
   ],
   "source": [
    "#check missing value\n",
    "gmc.isnull().sum()"
   ]
  },
  {
   "cell_type": "code",
   "execution_count": 50,
   "metadata": {},
   "outputs": [],
   "source": [
    "y = gmc['SeriousDlqin2yrs'].rename('y')\n",
    "X = gmc.drop(columns='SeriousDlqin2yrs').rename(columns={'RevolvingUtilizationOfUnsecuredLines': 'x1', \n",
    "                                                         'age': 'x2',\n",
    "                                                         'NumberOfTime30-59DaysPastDueNotWorse': 'x3',\n",
    "                                                         'DebtRatio' : 'x4',\n",
    "                                                         'MonthlyIncome': 'x5',\n",
    "                                                         'NumberOfOpenCreditLinesAndLoans': 'x7',\n",
    "                                                         'NumberOfTimes90DaysLate': 'x8',                                            \n",
    "                                                         'NumberRealEstateLoansOrLines': 'x9',\n",
    "                                                         'NumberOfTime60-89DaysPastDueNotWorse': 'x10',\n",
    "                                                         'NumberOfDependents': 'x11',\n",
    "                                                         })"
   ]
  },
  {
   "cell_type": "markdown",
   "metadata": {},
   "source": [
    "step1-1 : Log transformation "
   ]
  },
  {
   "cell_type": "code",
   "execution_count": 51,
   "metadata": {},
   "outputs": [],
   "source": [
    "for col in X.columns :\n",
    "    origin_mean = X[col].describe()['mean']\n",
    "    min_number = 10**(int(str(\"%e\"%origin_mean)[-3:])-6)\n",
    "    data = X[col] + min_number\n",
    "    if  np.isnan(kurtosis(data)) :\n",
    "        data = data.dropna()\n",
    "    if kurtosis(data) > 10 :\n",
    "        X[col] = pd.DataFrame(np.log(data))"
   ]
  },
  {
   "cell_type": "markdown",
   "metadata": {},
   "source": [
    "step1-2: Z-scaling"
   ]
  },
  {
   "cell_type": "code",
   "execution_count": 52,
   "metadata": {},
   "outputs": [],
   "source": [
    "scalor = StandardScaler()\n",
    "for col in X.columns :\n",
    "    X[col] = scalor.fit_transform(pd.DataFrame(X[col]))"
   ]
  },
  {
   "cell_type": "markdown",
   "metadata": {},
   "source": [
    "step1-3: fill missing value"
   ]
  },
  {
   "cell_type": "code",
   "execution_count": 53,
   "metadata": {},
   "outputs": [],
   "source": [
    "X['x6'] = X['x5'].isnull()*1\n",
    "X['x12'] = X['x11'].isnull()*1\n",
    "X = X.fillna(0)\n",
    "order = ['x1', 'x2', 'x3', 'x4', 'x5', 'x6', 'x7', 'x8', 'x9', 'x10', 'x11', 'x12']\n",
    "X = X.reindex(columns=order)"
   ]
  },
  {
   "cell_type": "code",
   "execution_count": 54,
   "metadata": {},
   "outputs": [
    {
     "data": {
      "text/html": [
       "<div>\n",
       "<style scoped>\n",
       "    .dataframe tbody tr th:only-of-type {\n",
       "        vertical-align: middle;\n",
       "    }\n",
       "\n",
       "    .dataframe tbody tr th {\n",
       "        vertical-align: top;\n",
       "    }\n",
       "\n",
       "    .dataframe thead th {\n",
       "        text-align: right;\n",
       "    }\n",
       "</style>\n",
       "<table border=\"1\" class=\"dataframe\">\n",
       "  <thead>\n",
       "    <tr style=\"text-align: right;\">\n",
       "      <th></th>\n",
       "      <th>mean</th>\n",
       "      <th>std</th>\n",
       "      <th>min</th>\n",
       "      <th>50%</th>\n",
       "      <th>max</th>\n",
       "      <th>skewness</th>\n",
       "      <th>kurtosis</th>\n",
       "    </tr>\n",
       "  </thead>\n",
       "  <tbody>\n",
       "    <tr>\n",
       "      <th>y</th>\n",
       "      <td>0.1</td>\n",
       "      <td>0.2</td>\n",
       "      <td>0.0</td>\n",
       "      <td>0.0</td>\n",
       "      <td>1.0</td>\n",
       "      <td>3.5</td>\n",
       "      <td>10.0</td>\n",
       "    </tr>\n",
       "    <tr>\n",
       "      <th>x1</th>\n",
       "      <td>0.0</td>\n",
       "      <td>1.0</td>\n",
       "      <td>-3.1</td>\n",
       "      <td>0.3</td>\n",
       "      <td>3.9</td>\n",
       "      <td>-2.1</td>\n",
       "      <td>4.2</td>\n",
       "    </tr>\n",
       "    <tr>\n",
       "      <th>x2</th>\n",
       "      <td>0.0</td>\n",
       "      <td>1.0</td>\n",
       "      <td>-3.5</td>\n",
       "      <td>-0.0</td>\n",
       "      <td>3.8</td>\n",
       "      <td>0.2</td>\n",
       "      <td>-0.5</td>\n",
       "    </tr>\n",
       "    <tr>\n",
       "      <th>x3</th>\n",
       "      <td>-0.0</td>\n",
       "      <td>1.0</td>\n",
       "      <td>-0.4</td>\n",
       "      <td>-0.4</td>\n",
       "      <td>3.0</td>\n",
       "      <td>1.9</td>\n",
       "      <td>1.5</td>\n",
       "    </tr>\n",
       "    <tr>\n",
       "      <th>x4</th>\n",
       "      <td>-0.0</td>\n",
       "      <td>1.0</td>\n",
       "      <td>-2.4</td>\n",
       "      <td>-0.2</td>\n",
       "      <td>3.3</td>\n",
       "      <td>0.7</td>\n",
       "      <td>0.6</td>\n",
       "    </tr>\n",
       "    <tr>\n",
       "      <th>x5</th>\n",
       "      <td>-0.0</td>\n",
       "      <td>0.9</td>\n",
       "      <td>-7.6</td>\n",
       "      <td>0.0</td>\n",
       "      <td>3.3</td>\n",
       "      <td>-6.9</td>\n",
       "      <td>54.4</td>\n",
       "    </tr>\n",
       "    <tr>\n",
       "      <th>x6</th>\n",
       "      <td>0.2</td>\n",
       "      <td>0.4</td>\n",
       "      <td>0.0</td>\n",
       "      <td>0.0</td>\n",
       "      <td>1.0</td>\n",
       "      <td>1.5</td>\n",
       "      <td>0.3</td>\n",
       "    </tr>\n",
       "    <tr>\n",
       "      <th>x7</th>\n",
       "      <td>0.0</td>\n",
       "      <td>1.0</td>\n",
       "      <td>-1.6</td>\n",
       "      <td>-0.1</td>\n",
       "      <td>9.6</td>\n",
       "      <td>1.2</td>\n",
       "      <td>3.1</td>\n",
       "    </tr>\n",
       "    <tr>\n",
       "      <th>x8</th>\n",
       "      <td>-0.0</td>\n",
       "      <td>1.0</td>\n",
       "      <td>-0.2</td>\n",
       "      <td>-0.2</td>\n",
       "      <td>5.2</td>\n",
       "      <td>3.9</td>\n",
       "      <td>13.3</td>\n",
       "    </tr>\n",
       "    <tr>\n",
       "      <th>x9</th>\n",
       "      <td>0.0</td>\n",
       "      <td>1.0</td>\n",
       "      <td>-1.3</td>\n",
       "      <td>0.7</td>\n",
       "      <td>1.3</td>\n",
       "      <td>-0.5</td>\n",
       "      <td>-1.7</td>\n",
       "    </tr>\n",
       "    <tr>\n",
       "      <th>x10</th>\n",
       "      <td>-0.0</td>\n",
       "      <td>1.0</td>\n",
       "      <td>-0.2</td>\n",
       "      <td>-0.2</td>\n",
       "      <td>5.5</td>\n",
       "      <td>4.1</td>\n",
       "      <td>15.1</td>\n",
       "    </tr>\n",
       "    <tr>\n",
       "      <th>x11</th>\n",
       "      <td>0.0</td>\n",
       "      <td>1.0</td>\n",
       "      <td>-0.7</td>\n",
       "      <td>-0.7</td>\n",
       "      <td>17.3</td>\n",
       "      <td>1.6</td>\n",
       "      <td>3.2</td>\n",
       "    </tr>\n",
       "    <tr>\n",
       "      <th>x12</th>\n",
       "      <td>0.0</td>\n",
       "      <td>0.2</td>\n",
       "      <td>0.0</td>\n",
       "      <td>0.0</td>\n",
       "      <td>1.0</td>\n",
       "      <td>5.9</td>\n",
       "      <td>33.3</td>\n",
       "    </tr>\n",
       "  </tbody>\n",
       "</table>\n",
       "</div>"
      ],
      "text/plain": [
       "     mean  std  min  50%   max  skewness  kurtosis\n",
       "y     0.1  0.2  0.0  0.0   1.0       3.5      10.0\n",
       "x1    0.0  1.0 -3.1  0.3   3.9      -2.1       4.2\n",
       "x2    0.0  1.0 -3.5 -0.0   3.8       0.2      -0.5\n",
       "x3   -0.0  1.0 -0.4 -0.4   3.0       1.9       1.5\n",
       "x4   -0.0  1.0 -2.4 -0.2   3.3       0.7       0.6\n",
       "x5   -0.0  0.9 -7.6  0.0   3.3      -6.9      54.4\n",
       "x6    0.2  0.4  0.0  0.0   1.0       1.5       0.3\n",
       "x7    0.0  1.0 -1.6 -0.1   9.6       1.2       3.1\n",
       "x8   -0.0  1.0 -0.2 -0.2   5.2       3.9      13.3\n",
       "x9    0.0  1.0 -1.3  0.7   1.3      -0.5      -1.7\n",
       "x10  -0.0  1.0 -0.2 -0.2   5.5       4.1      15.1\n",
       "x11   0.0  1.0 -0.7 -0.7  17.3       1.6       3.2\n",
       "x12   0.0  0.2  0.0  0.0   1.0       5.9      33.3"
      ]
     },
     "execution_count": 54,
     "metadata": {},
     "output_type": "execute_result"
    }
   ],
   "source": [
    "# show table\n",
    "summary_stat = np.round(X.describe(), 1)\n",
    "summary_stat.loc['skewness'] = np.round(skew(X), 1)\n",
    "summary_stat.loc['kurtosis'] = np.round(kurtosis(X), 1)\n",
    "summary_stat = summary_stat.drop(['25%', 'count', '75%'])\n",
    "\n",
    "temp = np.round(y.describe().drop(['25%', 'count', '75%']), 1)\n",
    "temp['skewness'] = np.round(skew(y), 1)\n",
    "temp['kurtosis'] = np.round(kurtosis(y), 1)\n",
    "summary_stat['y'] = temp\n",
    "\n",
    "order = ['y','x1', 'x2', 'x3', 'x4', 'x5', 'x6', 'x7', 'x8', 'x9', 'x10', 'x11', 'x12']\n",
    "summary_stat.reindex(columns=order).T\n",
    "#until this step, everything fits on paper "
   ]
  },
  {
   "cell_type": "markdown",
   "metadata": {},
   "source": [
    "step2 : dimension transformation "
   ]
  },
  {
   "cell_type": "code",
   "execution_count": 55,
   "metadata": {},
   "outputs": [],
   "source": [
    "#do this in step4 rescalor class"
   ]
  },
  {
   "cell_type": "markdown",
   "metadata": {},
   "source": [
    "step3 : data split "
   ]
  },
  {
   "cell_type": "code",
   "execution_count": 56,
   "metadata": {},
   "outputs": [],
   "source": [
    "#80%-20%\n",
    "X_train, X_test, y_train, y_test = train_test_split(X, y, test_size=0.2)"
   ]
  },
  {
   "cell_type": "markdown",
   "metadata": {},
   "source": [
    "step4 : rescalor"
   ]
  },
  {
   "cell_type": "code",
   "execution_count": 57,
   "metadata": {},
   "outputs": [],
   "source": [
    "class rescalor :\n",
    "    def __init__(self, power, X_train, X_test, y_train) :\n",
    "        poly_model = PolynomialFeatures(power, include_bias=False)\n",
    "        original_train = X_train.drop(columns=['x6', 'x12']) \n",
    "        original_test = X_test.drop(columns=['x6', 'x12'])\n",
    "        self.X_train = pd.DataFrame(np.append(poly_model.fit_transform(original_train), X_train[['x6', 'x12']], axis=1))\n",
    "        self.X_test = pd.DataFrame(np.append(poly_model.fit_transform(original_test), X_test[['x6', 'x12']], axis=1))\n",
    "        self.y_train = y_train\n",
    "        self.reg_w = []\n",
    "        self.lr_w = []\n",
    "        self.mi_w = []\n",
    "        #record weight of each rescalor\n",
    "    \n",
    "    def rescaling(self) :\n",
    "        #fitting function\n",
    "        reg = LinearRegression()\n",
    "        lr = LogisticRegression()\n",
    "        reg.fit(self.X_train, self.y_train)\n",
    "        lr.fit(self.X_train, self.y_train)\n",
    "        self.mi_w = mutual_info_classif(self.X_train, self.y_train)\n",
    "        self.reg_w = reg.coef_\n",
    "        self.lr_w = lr.coef_[0]        \n",
    "        \n",
    "\n",
    "    #fuck this function doesn't change test data's dimension\n",
    "    def get_data(self, test=False) :\n",
    "        if test :\n",
    "            orig_data = self.X_test\n",
    "            reg_data = self.X_test*pd.Series(self.reg_w)\n",
    "            lr_data = self.X_test*pd.Series(self.lr_w)\n",
    "            mi_data = self.X_test*pd.Series(self.mi_w)\n",
    "        else : \n",
    "            orig_data = self.X_train\n",
    "            reg_data = self.X_train*pd.Series(self.reg_w)\n",
    "            lr_data = self.X_train*pd.Series(self.lr_w)\n",
    "            mi_data = self.X_train*pd.Series(self.mi_w) \n",
    "               \n",
    "        return orig_data, reg_data, lr_data, mi_data \n"
   ]
  },
  {
   "attachments": {},
   "cell_type": "markdown",
   "metadata": {},
   "source": [
    "step5 : clustering、step6 : sub modeling"
   ]
  },
  {
   "cell_type": "code",
   "execution_count": 58,
   "metadata": {},
   "outputs": [],
   "source": [
    "#This class deals with all process in step5, including default ratio and entropy. \n",
    "class cluster_prediction :\n",
    "    def __init__(self, X_train, X_test, y_train, y_test, K) : #parameter y is literal y(not y_train or y_test)\n",
    "        self.X_train = X_train.reset_index(drop=True)\n",
    "        self.X_test = X_test.reset_index(drop=True)\n",
    "        self.y_train = y_train.reset_index(drop=True)\n",
    "        self.y_test = y_test.reset_index(drop=True)\n",
    "        self.K = K\n",
    "\n",
    "        #record the ratio for each group in all data\n",
    "        self.cluster_prop_train = []  \n",
    "        self.cluster_prop_test = []     \n",
    "\n",
    "    def cluster_model (self, positive=False) :\n",
    "        kmedoids = KMedoids(n_clusters=self.K)\n",
    "        if positive :\n",
    "            table = self.X_train.join(self.y_train)\n",
    "            pos_table = table[table['y'] == 1].drop(columns=['y'])\n",
    "            kmedoids.fit(pos_table)#model pos-case data\n",
    "            self.clustermodel = kmedoids\n",
    "        else :\n",
    "            kmedoids.fit(self.X_train)#model all-case data\n",
    "            self.clustermodel = kmedoids\n",
    "    \n",
    "    def cluster_predict(self, test=False) :\n",
    "        if test :\n",
    "            table = self.X_test.join(self.y_test)\n",
    "            table['cluster'] = self.clustermodel.predict(self.X_test)\n",
    "            self.cluster_X_test = table.drop(columns=['y'])\n",
    "            return table\n",
    "        else :\n",
    "            table = self.X_train.join(self.y_train)\n",
    "            table['cluster'] = self.clustermodel.predict(self.X_train) \n",
    "            self.cluster_X_train = table.drop(columns=['y'])\n",
    "            return table\n",
    "            #X_train with cluster label\n",
    "\n",
    "    def default_ratio(self, test=False) : \n",
    "        ratio = []\n",
    "        if test :\n",
    "            table = self.cluster_predict(test=True)\n",
    "            for cluster in range(0, self.K) : \n",
    "                temp = table[table['cluster']==cluster]\n",
    "                self.cluster_prop_test.append(len(temp)/len(self.X_test)) #group's proportion in all data\n",
    "                ratio.append(sum(temp['y'])/len(temp)) #group's default ratio\n",
    "            self.ratio_test = ratio\n",
    "        else :    \n",
    "            table = self.cluster_predict()\n",
    "            for cluster in range(0, self.K) : \n",
    "                temp = table[table['cluster']==cluster]\n",
    "                self.cluster_prop_train.append(len(temp)/len(self.X_train)) \n",
    "                ratio.append(sum(temp['y'])/len(temp)) \n",
    "            self.ratio_train = ratio\n",
    "        return ratio\n",
    "\n",
    "    def submodel_auc(self, test=False) :\n",
    "        lr_proba = []\n",
    "        xgb_proba = []\n",
    "        label_y = []\n",
    "        train_all_table = self.cluster_X_train.join(self.y_train)\n",
    "        test_all_table  = self.cluster_X_test.join(self.y_test)\n",
    "        #因為要知道對應的y是多少，所以使用all_table\n",
    "        for cluster in range(0, self.K) :\n",
    "            train_table = train_all_table[train_all_table['cluster']==cluster] \n",
    "            test_table =  test_all_table[test_all_table['cluster']==cluster] \n",
    "            lrmodel = LogisticRegression().fit(train_table.drop(columns=['y', 'cluster']), train_table['y'])\n",
    "            xgbmodel = xgb.XGBClassifier().fit(train_table.drop(columns=['y', 'cluster']), train_table['y'])\n",
    "            if test :\n",
    "                lr_proba = np.concatenate((lrmodel.predict_proba(test_table.drop(columns=['y', 'cluster']))[:,1], lr_proba))\n",
    "                xgb_proba = np.concatenate((xgbmodel.predict_proba(test_table.drop(columns=['y', 'cluster']))[:,1], xgb_proba))\n",
    "                label_y = np.concatenate((test_table['y'], label_y))\n",
    "            else :\n",
    "                lr_proba = np.concatenate((lrmodel.predict_proba(train_table.drop(columns=['y', 'cluster']))[:,1], lr_proba))\n",
    "                xgb_proba = np.concatenate((xgbmodel.predict_proba(train_table.drop(columns=['y', 'cluster']))[:,1], xgb_proba))\n",
    "                label_y = np.concatenate((train_table['y'], label_y))\n",
    "\n",
    "            fpr, tpr, threshold = roc_curve(label_y, lr_proba)\n",
    "            lr_auc = auc(fpr, tpr)\n",
    "            fpr, tpr, threshold = roc_curve(label_y, xgb_proba)\n",
    "            xgb_auc = auc(fpr, tpr)\n",
    "        return  [lr_auc, xgb_auc]\n",
    "            \n",
    "\n",
    "    def entropy(self, test=False) : #give it a 'test' parameter \n",
    "        h_mean = 0\n",
    "        if test :\n",
    "            for p, q in zip(self.ratio_test, self.cluster_prop_test) :\n",
    "                if p == 0 or p==1:\n",
    "                    h = 0\n",
    "                else :\n",
    "                    h = -(p*math.log2(p) + (1-p)*math.log2(1-p))\n",
    "                h_mean += q*h\n",
    "            return h_mean\n",
    "        \n",
    "        for p, q in zip(self.ratio_train, self.cluster_prop_train) :\n",
    "            if p == 0 or p==1:\n",
    "                h = 0\n",
    "            else :\n",
    "                h = -(p*math.log2(p) + (1-p)*math.log2(1-p))\n",
    "            h_mean += q*h\n",
    "        return h_mean         "
   ]
  },
  {
   "cell_type": "code",
   "execution_count": 77,
   "metadata": {},
   "outputs": [],
   "source": [
    "# default rate data \n",
    "upper = 40000\n",
    "rescalor_data = rescalor(1, X_train[:upper], X_test, y_train[:upper])\n",
    "rescalor_data.rescaling()\n",
    "reg_w_1, lr_w_1, mi_w_1 = rescalor_data.reg_w, rescalor_data.lr_w, rescalor_data.mi_w\n",
    "orig_train_1, reg_train_1, lr_train_1, mi_train_1 = rescalor_data.get_data()\n",
    "orig_test_1, reg_test_1, lr_test_1, mi_test_1 = rescalor_data.get_data(test=True)\n",
    "\n",
    "rescalor_data = rescalor(2, X_train[:upper], X_test, y_train[:upper])\n",
    "rescalor_data.rescaling()\n",
    "reg_w_2, lr_w_2, mi_w_2 = rescalor_data.reg_w, rescalor_data.lr_w, rescalor_data.mi_w\n",
    "orig_train_2, reg_train_2, lr_train_2, mi_train_2 = rescalor_data.get_data()\n",
    "orig_test_2, reg_test_2, lr_test_2, mi_test_2 = rescalor_data.get_data(test=True)\n",
    "\n",
    "rescalor_data = rescalor(3, X_train[:upper], X_test, y_train[:upper])\n",
    "rescalor_data.rescaling()\n",
    "reg_w_3, lr_w_3, mi_w_3 = rescalor_data.reg_w, rescalor_data.lr_w, rescalor_data.mi_w\n",
    "orig_train_3, reg_train_3, lr_train_3, mi_train_3 = rescalor_data.get_data()\n",
    "orig_test_3, reg_test_3, lr_test_3, mi_test_3 = rescalor_data.get_data(test=True)"
   ]
  },
  {
   "cell_type": "code",
   "execution_count": 80,
   "metadata": {},
   "outputs": [
    {
     "name": "stdout",
     "output_type": "stream",
     "text": [
      "origin data\n",
      "      min   10%   25%  median   75%   90%   max\n",
      "EW   1.00  1.00  1.00    1.00  1.00  1.00  1.00\n",
      "REG -0.02 -0.01 -0.00    0.00  0.02  0.04  0.06\n",
      "LR  -0.58 -0.28 -0.16    0.07  0.28  0.41  0.64\n",
      "MI   0.00  0.00  0.00    0.01  0.03  0.03  0.04\n",
      "quadratic data\n",
      "      min   10%   25%  median   75%   90%   max\n",
      "EW   1.00  1.00  1.00    1.00  1.00  1.00  1.00\n",
      "REG -0.26 -0.01 -0.00    0.00  0.00  0.01  0.31\n",
      "LR  -0.86 -0.09 -0.04   -0.01  0.04  0.11  0.91\n",
      "MI   0.00  0.00  0.00    0.02  0.03  0.04  0.05\n",
      "cubic data\n",
      "      min   10%   25%  median   75%   90%   max\n",
      "EW   1.00  1.00  1.00    1.00  1.00  1.00  1.00\n",
      "REG -3.28 -0.02 -0.00   -0.00  0.00  0.02  1.57\n",
      "LR  -1.04 -0.09 -0.04    0.00  0.02  0.09  0.47\n",
      "MI   0.00  0.00  0.01    0.02  0.03  0.04  0.06\n"
     ]
    }
   ],
   "source": [
    "#check consistency of the coefficient table\n",
    "ew_w_1 = np.ones(len(reg_w_1))\n",
    "weight_1 = [ew_w_1, reg_w_1, lr_w_1, mi_w_1]\n",
    "ew_w_2 = np.ones(len(reg_w_2))\n",
    "weight_2 = [ew_w_2, reg_w_2, lr_w_2, mi_w_2]\n",
    "ew_w_3 = np.ones(len(reg_w_3))\n",
    "weight_3 = [ew_w_3, reg_w_3, lr_w_3, mi_w_3]\n",
    "\n",
    "\n",
    "print('origin data')\n",
    "print(np.round(pd.DataFrame(np.percentile(weight_1, [0, 10, 25, 50, 75, 90, 100], axis=1))\\\n",
    ".rename(columns={0:'EW', 1:'REG', 2:'LR', 3:'MI'}, \n",
    "        index={0:'min', 1:'10%', 2:'25%', 3:'median', 4:'75%', 5:'90%', 6:'max'}).T, 2))\n",
    "\n",
    "print('quadratic data')\n",
    "print(np.round(pd.DataFrame(np.percentile(weight_2, [0, 10, 25, 50, 75, 90, 100], axis=1))\\\n",
    ".rename(columns={0:'EW', 1:'REG', 2:'LR', 3:'MI'}, \n",
    "        index={0:'min', 1:'10%', 2:'25%', 3:'median', 4:'75%', 5:'90%', 6:'max'}).T, 2))\n",
    "\n",
    "print('cubic data')\n",
    "print(np.round(pd.DataFrame(np.percentile(weight_3, [0, 10, 25, 50, 75, 90, 100], axis=1))\\\n",
    ".rename(columns={0:'EW', 1:'REG', 2:'LR', 3:'MI'}, \n",
    "        index={0:'min', 1:'10%', 2:'25%', 3:'median', 4:'75%', 5:'90%', 6:'max'}).T, 2))"
   ]
  },
  {
   "cell_type": "code",
   "execution_count": 81,
   "metadata": {},
   "outputs": [
    {
     "ename": "ValueError",
     "evalue": "This solver needs samples of at least 2 classes in the data, but the data contains only one class: 0",
     "output_type": "error",
     "traceback": [
      "\u001b[1;31m---------------------------------------------------------------------------\u001b[0m",
      "\u001b[1;31mValueError\u001b[0m                                Traceback (most recent call last)",
      "Cell \u001b[1;32mIn[81], line 25\u001b[0m\n\u001b[0;32m     23\u001b[0m         entropy_set_test\u001b[39m.\u001b[39mappend(C\u001b[39m.\u001b[39mentropy(test\u001b[39m=\u001b[39m\u001b[39mTrue\u001b[39;00m))\n\u001b[0;32m     24\u001b[0m     \u001b[39mif\u001b[39;00m K \u001b[39m<\u001b[39m\u001b[39m=\u001b[39m \u001b[39m4\u001b[39m:\n\u001b[1;32m---> 25\u001b[0m         auc_set_train\u001b[39m.\u001b[39mappend(C\u001b[39m.\u001b[39;49msubmodel_auc())\n\u001b[0;32m     26\u001b[0m         auc_set_test\u001b[39m.\u001b[39mappend(C\u001b[39m.\u001b[39msubmodel_auc(test\u001b[39m=\u001b[39m\u001b[39mTrue\u001b[39;00m))\n\u001b[0;32m     28\u001b[0m ratio_train\u001b[39m.\u001b[39mappend(ratio_set_train)            \u001b[39m# [[EW_ratio_1], [REG_ratio_1], [LR_ratio_1], [MI_ratio_1], [EW_ratio_2], [REG_ratio_2], [LR_ratio_2], [MI_ratio_2],...]   \u001b[39;00m\n",
      "Cell \u001b[1;32mIn[58], line 66\u001b[0m, in \u001b[0;36mcluster_prediction.submodel_auc\u001b[1;34m(self, test)\u001b[0m\n\u001b[0;32m     64\u001b[0m train_table \u001b[39m=\u001b[39m train_all_table[train_all_table[\u001b[39m'\u001b[39m\u001b[39mcluster\u001b[39m\u001b[39m'\u001b[39m]\u001b[39m==\u001b[39mcluster] \n\u001b[0;32m     65\u001b[0m test_table \u001b[39m=\u001b[39m  test_all_table[test_all_table[\u001b[39m'\u001b[39m\u001b[39mcluster\u001b[39m\u001b[39m'\u001b[39m]\u001b[39m==\u001b[39mcluster] \n\u001b[1;32m---> 66\u001b[0m lrmodel \u001b[39m=\u001b[39m LogisticRegression()\u001b[39m.\u001b[39;49mfit(train_table\u001b[39m.\u001b[39;49mdrop(columns\u001b[39m=\u001b[39;49m[\u001b[39m'\u001b[39;49m\u001b[39my\u001b[39;49m\u001b[39m'\u001b[39;49m, \u001b[39m'\u001b[39;49m\u001b[39mcluster\u001b[39;49m\u001b[39m'\u001b[39;49m]), train_table[\u001b[39m'\u001b[39;49m\u001b[39my\u001b[39;49m\u001b[39m'\u001b[39;49m])\n\u001b[0;32m     67\u001b[0m xgbmodel \u001b[39m=\u001b[39m xgb\u001b[39m.\u001b[39mXGBClassifier()\u001b[39m.\u001b[39mfit(train_table\u001b[39m.\u001b[39mdrop(columns\u001b[39m=\u001b[39m[\u001b[39m'\u001b[39m\u001b[39my\u001b[39m\u001b[39m'\u001b[39m, \u001b[39m'\u001b[39m\u001b[39mcluster\u001b[39m\u001b[39m'\u001b[39m]), train_table[\u001b[39m'\u001b[39m\u001b[39my\u001b[39m\u001b[39m'\u001b[39m])\n\u001b[0;32m     68\u001b[0m \u001b[39mif\u001b[39;00m test :\n",
      "File \u001b[1;32mc:\\Users\\king0\\AppData\\Local\\Programs\\Python\\Python38\\lib\\site-packages\\sklearn\\linear_model\\_logistic.py:1241\u001b[0m, in \u001b[0;36mLogisticRegression.fit\u001b[1;34m(self, X, y, sample_weight)\u001b[0m\n\u001b[0;32m   1239\u001b[0m classes_ \u001b[39m=\u001b[39m \u001b[39mself\u001b[39m\u001b[39m.\u001b[39mclasses_\n\u001b[0;32m   1240\u001b[0m \u001b[39mif\u001b[39;00m n_classes \u001b[39m<\u001b[39m \u001b[39m2\u001b[39m:\n\u001b[1;32m-> 1241\u001b[0m     \u001b[39mraise\u001b[39;00m \u001b[39mValueError\u001b[39;00m(\n\u001b[0;32m   1242\u001b[0m         \u001b[39m\"\u001b[39m\u001b[39mThis solver needs samples of at least 2 classes\u001b[39m\u001b[39m\"\u001b[39m\n\u001b[0;32m   1243\u001b[0m         \u001b[39m\"\u001b[39m\u001b[39m in the data, but the data contains only one\u001b[39m\u001b[39m\"\u001b[39m\n\u001b[0;32m   1244\u001b[0m         \u001b[39m\"\u001b[39m\u001b[39m class: \u001b[39m\u001b[39m%r\u001b[39;00m\u001b[39m\"\u001b[39m\n\u001b[0;32m   1245\u001b[0m         \u001b[39m%\u001b[39m classes_[\u001b[39m0\u001b[39m]\n\u001b[0;32m   1246\u001b[0m     )\n\u001b[0;32m   1248\u001b[0m \u001b[39mif\u001b[39;00m \u001b[39mlen\u001b[39m(\u001b[39mself\u001b[39m\u001b[39m.\u001b[39mclasses_) \u001b[39m==\u001b[39m \u001b[39m2\u001b[39m:\n\u001b[0;32m   1249\u001b[0m     n_classes \u001b[39m=\u001b[39m \u001b[39m1\u001b[39m\n",
      "\u001b[1;31mValueError\u001b[0m: This solver needs samples of at least 2 classes in the data, but the data contains only one class: 0"
     ]
    }
   ],
   "source": [
    "dataset_train = [orig_train_1, reg_train_1, lr_train_1, mi_train_1, \n",
    "                 orig_train_2, reg_train_2, lr_train_2, mi_train_2,\n",
    "                 orig_train_3, reg_train_3, lr_train_3, mi_train_3]\n",
    "\n",
    "dataset_test = [orig_test_1, reg_test_1, lr_test_1, mi_test_1,\n",
    "                orig_test_2, reg_test_2, lr_test_2, mi_test_2,\n",
    "                orig_test_3, reg_test_3, lr_test_3, mi_test_3] \n",
    "\n",
    "ratio_train, ratio_test, entropy_train, entropy_test, auc_train, auc_test = [], [], [], [], [], []  \n",
    "for train_data, test_data in zip(dataset_train, dataset_test):# <-different rescaled data\n",
    "    ratio_set_train, entropy_set_train, ratio_set_test,  entropy_set_test, auc_set_train, auc_set_test= [], [], [], [], [], []\n",
    "    #auc_set_train = [] <- [[lr, xgb](k=2), [lr, xgb](k=3)]\n",
    "    \n",
    "    for K in range(1, 10) :\n",
    "        C = cluster_prediction(train_data[:600], test_data[:600], y_train[:600], y_test[:600], K)\n",
    "        C.cluster_model()\n",
    "        ratio_tr = C.default_ratio()\n",
    "        ratio_te = C.default_ratio(test=True)\n",
    "        if K > 1 :\n",
    "            ratio_set_train.append(ratio_tr)\n",
    "            entropy_set_train.append(C.entropy())\n",
    "            ratio_set_test.append(ratio_te)\n",
    "            entropy_set_test.append(C.entropy(test=True))\n",
    "        if K <= 4:\n",
    "            auc_set_train.append(C.submodel_auc())\n",
    "            auc_set_test.append(C.submodel_auc(test=True))\n",
    "\n",
    "    ratio_train.append(ratio_set_train)            # [[EW_ratio_1], [REG_ratio_1], [LR_ratio_1], [MI_ratio_1], [EW_ratio_2], [REG_ratio_2], [LR_ratio_2], [MI_ratio_2],...]   \n",
    "                                                   # in [EW_ratio_1] -> [[0.06], [0.02, 0.14], [0.012, 0.07, 0.03], [0.018, 0.019, 0.1, 0.12],...]      \n",
    "    entropy_train.append(entropy_set_train) \n",
    "    ratio_test.append(ratio_set_test)\n",
    "    entropy_test.append(entropy_set_test)\n",
    "    auc_train.append(auc_set_train)                \n",
    "    # [[[EW_K=1_D=1], [EW_K=2_D=1], [EW_K=3_D=1]],\n",
    "    #  [[REG_K=1_D=1],[REG_K=2_D=1],[REG_K=3_D=1]],\n",
    "    #  [[LR_K=1]_D=1,[LR_K=2_D=1],[LR_K=3_D=1]], \n",
    "    #  [[MI_K=1_D=1],[MI_K=2_D=1],[MI_K=3_D=1]],\n",
    "    #  [[EW_K=1_D=2], [EW_K=2_D=2], [EW_K=3_D=2]], ...]\n",
    "    auc_test.append(auc_set_test)\n",
    "    #auc: 1.指定要哪一種scalored data以及什麼維度 2. 要K為多少的 3.得到[lr, xgb]\n",
    "\n",
    "\n",
    "ratio_trainp, ratio_testp, entropy_trainp, entropy_testp, auc_trainp, auc_testp = [], [], [], [], [], [] \n",
    "for train_data, test_data in zip(dataset_train, dataset_test):\n",
    "    ratio_set_train, entropy_set_train, ratio_set_test,  entropy_set_test, auc_set_train, auc_set_test= [], [], [], [], [], []    \n",
    "    for K in range(1, 10) :\n",
    "        Cp = cluster_prediction(train_data[:600], test_data[:600], y_train[:600], y_test[:600], K)\n",
    "        Cp.cluster_model(positive=True)\n",
    "        ratio_tr = Cp.default_ratio()\n",
    "        ratio_te = Cp.default_ratio(test=True)\n",
    "        if K > 1 :\n",
    "            ratio_set_train.append(ratio_tr)\n",
    "            entropy_set_train.append(Cp.entropy())\n",
    "            ratio_set_test.append(ratio_te)\n",
    "            entropy_set_test.append(Cp.entropy(test=True))\n",
    "        if K <= 4:\n",
    "            auc_set_train.append(Cp.submodel_auc())\n",
    "            auc_set_test.append(Cp.submodel_auc(test=True))\n",
    "\n",
    "    ratio_trainp.append(ratio_set_train)                 \n",
    "    entropy_trainp.append(entropy_set_train) \n",
    "    ratio_testp.append(ratio_set_test)\n",
    "    entropy_testp.append(entropy_set_test)\n",
    "    auc_trainp.append(auc_set_train)                \n",
    "    auc_testp.append(auc_set_test)"
   ]
  },
  {
   "cell_type": "code",
   "execution_count": 72,
   "metadata": {},
   "outputs": [],
   "source": [
    "#graph function \n",
    "def default_rate(alldata) : #all includes four type of rescaling data\n",
    "    fig = make_subplots(rows=2, \n",
    "                        cols=4, \n",
    "                        shared_yaxes=True,\n",
    "                        subplot_titles=('All, EW', 'All, REG', 'All, LR', 'ALL, MI',\n",
    "                                        'POS, EW', 'POS, REG', 'POS, LR', 'POS, MI')) \n",
    "    row, col = 0, 0\n",
    "    color = 'blue'\n",
    "    name = 'train default rate'\n",
    "    legend = True\n",
    "    average_line = True\n",
    "    for dataset in alldata : \n",
    "        # allEW(tr), allREG(tr), allLR(tr), allMI(tr), \n",
    "        # posEW(tr), posREG(tr), posLR(tr), posMI(tr),\n",
    "        # allEW(te), allREG(te), allLR(te), allMI(te), \n",
    "        # posEW(te), posREG(te), posLR(te), posMI(te)\n",
    "        if row > 7 :\n",
    "            color = 'red'\n",
    "            name = 'test default rate'\n",
    "            legend = True\n",
    "            average_line = False\n",
    "        row, col = row%8, col%8                     \n",
    "        coordinate_x, coordinate_y = [], []\n",
    "        for data, x in zip(dataset, range(2, 10)) : #different Ks\n",
    "            for rate in data :  #different groups\n",
    "                coordinate_x.append(x)\n",
    "                coordinate_y.append(rate) \n",
    "        fig.append_trace(go.Scatter(x = coordinate_x, \n",
    "                                    y = coordinate_y, \n",
    "                                    mode='markers',\n",
    "                                    marker=dict(color=color),\n",
    "                                    name=name,\n",
    "                                    showlegend=legend),\n",
    "                                    row=(row//4)+1, col=(col%4)+1)  \n",
    "        if average_line :\n",
    "            fig.append_trace(go.Scatter(x = [1, 10],\n",
    "                                        y = [0.067, 0.067],\n",
    "                                        mode='lines',\n",
    "                                        marker=dict(color='black'),\n",
    "                                        name='all data default rate',\n",
    "                                        showlegend=legend),\n",
    "                                        row=(row//4)+1, col=(col%4)+1)         \n",
    "        col += 1\n",
    "        row += 1 \n",
    "        legend = False\n",
    "    fig.update_layout(xaxis1=dict(dtick=1), xaxis2=dict(dtick=1), \n",
    "                      xaxis3=dict(dtick=1), xaxis4=dict(dtick=1),\n",
    "                      xaxis5=dict(dtick=1), xaxis6=dict(dtick=1), \n",
    "                      xaxis7=dict(dtick=1), xaxis8=dict(dtick=1),\n",
    "                      xaxis1_title_text=\"K\",xaxis2_title_text=\"K\",\n",
    "                      xaxis3_title_text=\"K\",xaxis4_title_text=\"K\",\n",
    "                      xaxis5_title_text=\"K\",xaxis6_title_text=\"K\",\n",
    "                      xaxis7_title_text=\"K\",xaxis8_title_text=\"K\",\n",
    "                      yaxis1_title_text=\"default rate\", yaxis5_title_text=\"default rate\")\n",
    "    \n",
    "    fig.update(layout_yaxis1_range = [0, 0.6],\n",
    "               layout_yaxis5_range = [0, 0.6],\n",
    "               layout_xaxis1_range = [1.5, 9.5],\n",
    "               layout_xaxis2_range = [1.5, 9.5],\n",
    "               layout_xaxis3_range = [1.5, 9.5],\n",
    "               layout_xaxis4_range = [1.5, 9.5],\n",
    "               layout_xaxis5_range = [1.5, 9.5],\n",
    "               layout_xaxis6_range = [1.5, 9.5],\n",
    "               layout_xaxis7_range = [1.5, 9.5],\n",
    "               layout_xaxis8_range = [1.5, 9.5])\n",
    "\n",
    "    fig.update_layout(height=800, width=800)\n",
    "    # fig.write_html(\"default_rate.html\")\n",
    "    fig.show()\n",
    "\n",
    "\n",
    "def entropy_trend(alldata) :\n",
    "    #[[ALL, original], [ALL, quadratic], [ALL, cubic], [POS, original], [POS, quadratic], [POS, cubic]]\n",
    "    #in [ALL, original], [[train_EW], [train_REG], [train_LR], [train_MI], [test_EW], [test_REG], [test_LR], [test_MI]]                                                        \n",
    "    row = 0\n",
    "    col = 0\n",
    "    legend = True\n",
    "    name = ['EW, train', 'REG, train', 'LR, train', 'MI, train', 'EW, test', 'REG, test', 'LR, test', 'MI, test']\n",
    "    color = ['blue', 'peru', 'red', 'green', 'blue', 'peru', 'red', 'green']\n",
    "    fig = make_subplots(rows=3, \n",
    "                        cols=2, \n",
    "                        shared_yaxes=True,\n",
    "                        subplot_titles=('All, original', 'POS, original', 'All, quadratic', 'POS, quadratic','All, cubic',  'POS, cubic'),\n",
    "                        x_title='K',\n",
    "                        y_title='Entropy')\n",
    "    for graph in alldata : #origin(tr), quadratic(tr), cubic(tr), origin(te), quadratic(te), cubic(te),\n",
    "        line = None\n",
    "        index = 0\n",
    "        for data in graph : #different data\n",
    "            if index > 3 :\n",
    "                line = \"dot\"\n",
    "            fig.append_trace(go.Scatter(x = list(range(2, 10)), \n",
    "                                        y = data,\n",
    "                                        name=name[index],\n",
    "                                        line = dict(dash=line),\n",
    "                                        marker=dict(color=color[index]),\n",
    "                                        showlegend=legend),        \n",
    "                                        row=(row%3)+1, col=(col//3)+1)   \n",
    "            index += 1    \n",
    "        fig.append_trace(go.Scatter(x = [2, 9], \n",
    "                                    y = [0.3546, 0.3546],\n",
    "                                    name='K=1, train, test',\n",
    "                                    marker=dict(color = 'black'),\n",
    "                                    showlegend=legend),\n",
    "                                    row=(row%3)+1, col=(col//3)+1) \n",
    "        row += 1\n",
    "        col += 1\n",
    "        legend = False\n",
    "\n",
    "    fig.update(layout_yaxis_range = [0.27, 0.37],\n",
    "               layout_yaxis3_range = [0.27, 0.37],\n",
    "               layout_yaxis5_range = [0.27, 0.37],\n",
    "               layout_xaxis1_range = [1.5, 9.5],\n",
    "               layout_xaxis3_range = [1.5, 9.5],\n",
    "               layout_xaxis5_range = [1.5, 9.5])\n",
    "    \n",
    "    fig.update_layout(xaxis=dict(dtick=1), \n",
    "                      xaxis2=dict(dtick=1),\n",
    "                      xaxis3=dict(dtick=1),\n",
    "                      xaxis4=dict(dtick=1),\n",
    "                      xaxis5=dict(dtick=1),\n",
    "                      xaxis6=dict(dtick=1),\n",
    "                      yaxis1=dict(dtick=0.02), \n",
    "                      yaxis2=dict(dtick=0.02),\n",
    "                      yaxis3=dict(dtick=0.02),\n",
    "                      yaxis4=dict(dtick=0.02),\n",
    "                      yaxis5=dict(dtick=0.02),\n",
    "                      yaxis6=dict(dtick=0.02))\n",
    "    \n",
    "    fig.update_layout(height=800, width=950)\n",
    "    # fig.write_html(\"entropy_trend.html\")\n",
    "    fig.show()    \n",
    "    \n",
    "def AUC_comparision(alldata) :  \n",
    "    #[[[test(k=1)], [train(k=1)]], [[test(k=2)], [train(k=2)]], [[test(k=3)], [train(k=3)]]]\n",
    "    #in [test(k=1)] -> [[LR,ALL,test], [XGB,ALL,test], [LR,POS,test], [XGB,POS,test]]\n",
    "    #in [XGB,POS,test] -> [ew, reg, lr, mi] \n",
    "    fig = make_subplots(rows = 4,\n",
    "                        cols = 1,\n",
    "                        subplot_titles=('Original, k=1', 'Original, k=2', 'Original, k=3', 'Original, k=4'),\n",
    "                        x_title='rescalor',\n",
    "                        y_title='AUC')\n",
    "    databases = ['EW', 'REG', 'LR', 'MI']\n",
    "    row = 1\n",
    "    legend = True\n",
    "    for K in alldata :\n",
    "        fig.append_trace(go.Bar(name='LR,ALL,overffiting', x=databases, y=K[1][0], offsetgroup=0, marker_color='black', showlegend=legend),row = row, col = 1)\n",
    "        fig.append_trace(go.Bar(name='LR,POS,overffiting', x=databases, y=K[1][2], offsetgroup=1, marker_color='black', showlegend=legend),row = row, col = 1)\n",
    "        fig.append_trace(go.Bar(name='XGB,ALL,overffiting', x=databases, y=K[1][1], offsetgroup=2, marker_color='black', showlegend=legend),row = row, col = 1)\n",
    "        fig.append_trace(go.Bar(name='XGB,POS,overffiting', x=databases, y=K[1][3], offsetgroup=3, marker_color='black', showlegend=legend),row = row, col = 1)\n",
    "        fig.append_trace(go.Bar(name='LR,ALL,test', x=databases, y=K[0][0], offsetgroup=0, marker_color='darkblue', showlegend=legend), row = row, col = 1)\n",
    "        fig.append_trace(go.Bar(name='LR,POS,test', x=databases, y=K[0][2], offsetgroup=1, marker_color='skyblue', showlegend=legend), row = row, col = 1)\n",
    "        fig.append_trace(go.Bar(name='XGB,ALL,test', x=databases, y=K[0][1], offsetgroup=2, marker_color='green', showlegend=legend), row = row, col = 1)\n",
    "        fig.append_trace(go.Bar(name='XGB,POS,test', x=databases, y=K[0][3], offsetgroup=3, marker_color='lightgreen', showlegend=legend), row = row, col = 1) \n",
    "                        \n",
    "        fig.update_layout(barmode='group')\n",
    "        row += 1\n",
    "        legend = False\n",
    "\n",
    "    fig.update_layout(height=800, width=950)\n",
    "    fig.update_layout(yaxis1=dict(dtick=0.2), \n",
    "                      yaxis2=dict(dtick=0.2),\n",
    "                      yaxis3=dict(dtick=0.2),\n",
    "                      yaxis4=dict(dtick=0.2))\n",
    "    # fig.write_html(\"AUC.html\")\n",
    "    fig.show()"
   ]
  },
  {
   "cell_type": "code",
   "execution_count": 73,
   "metadata": {},
   "outputs": [],
   "source": [
    "defaultrate_data = [ratio_train[0], ratio_train[1], ratio_train[2], ratio_train[3], \n",
    "                    ratio_trainp[0], ratio_trainp[1], ratio_trainp[2], ratio_trainp[3],\n",
    "                    ratio_test[0], ratio_test[1], ratio_test[2], ratio_test[3], \n",
    "                    ratio_testp[0], ratio_testp[1], ratio_testp[2], ratio_testp[3]]\n",
    "\n",
    "entropytrend_data = [[entropy_train[0], entropy_train[1], entropy_train[2], entropy_train[3],\n",
    "                      entropy_test[0], entropy_test[1], entropy_test[2], entropy_test[3]],\n",
    "                     [entropy_train[4], entropy_train[5], entropy_train[6], entropy_train[7],\n",
    "                      entropy_test[4], entropy_test[5], entropy_test[6], entropy_test[7]],\n",
    "                     [entropy_train[8], entropy_train[9], entropy_train[10], entropy_train[11],\n",
    "                      entropy_test[8], entropy_test[9], entropy_test[10], entropy_test[11]],\n",
    "                     [entropy_trainp[0], entropy_trainp[1], entropy_trainp[2], entropy_trainp[3],\n",
    "                      entropy_testp[0], entropy_testp[1], entropy_testp[2], entropy_testp[3]],\n",
    "                     [entropy_trainp[4], entropy_trainp[5], entropy_trainp[6], entropy_trainp[7],\n",
    "                      entropy_testp[4], entropy_testp[5], entropy_testp[6], entropy_testp[7]],\n",
    "                     [entropy_trainp[8], entropy_trainp[9], entropy_trainp[10], entropy_trainp[11],\n",
    "                      entropy_testp[8], entropy_testp[9], entropy_testp[10], entropy_testp[11]]]\n",
    "\n",
    "AUC_data = [[[[auc_test[0][0][0], auc_test[1][0][0], auc_test[2][0][0], auc_test[3][0][0]], \n",
    "              [auc_test[0][0][1], auc_test[1][0][1], auc_test[2][0][1], auc_test[3][0][1]], \n",
    "              [auc_testp[0][0][0], auc_testp[1][0][0], auc_testp[2][0][0], auc_testp[3][0][0]], \n",
    "              [auc_testp[0][0][1], auc_testp[1][0][1], auc_testp[2][0][1], auc_testp[3][0][1]]], \n",
    "             [[auc_train[0][0][0], auc_train[1][0][0], auc_train[2][0][0], auc_train[3][0][0]], \n",
    "              [auc_train[0][0][1], auc_train[1][0][1], auc_train[2][0][1], auc_train[3][0][1]], \n",
    "              [auc_trainp[0][0][0], auc_trainp[1][0][0], auc_trainp[2][0][0], auc_trainp[3][0][0]], \n",
    "              [auc_trainp[0][0][1], auc_trainp[1][0][1], auc_trainp[2][0][1], auc_trainp[3][0][1]]]], \n",
    "            [[[auc_test[0][1][0], auc_test[1][1][0], auc_test[2][1][0], auc_test[3][1][0]], \n",
    "              [auc_test[0][1][1], auc_test[1][1][1], auc_test[2][1][1], auc_test[3][1][1]], \n",
    "              [auc_testp[0][1][0], auc_testp[1][1][0], auc_testp[2][1][0], auc_testp[3][1][0]], \n",
    "              [auc_testp[0][1][1], auc_testp[1][1][1], auc_testp[2][1][1], auc_testp[3][1][1]]], \n",
    "             [[auc_train[0][1][0], auc_train[1][1][0], auc_train[2][1][0], auc_train[3][1][0]], \n",
    "              [auc_train[0][1][1], auc_train[1][1][1], auc_train[2][1][1], auc_train[3][1][1]], \n",
    "              [auc_trainp[0][1][0], auc_trainp[1][1][0], auc_trainp[2][1][0], auc_trainp[3][1][0]], \n",
    "              [auc_trainp[0][1][1], auc_trainp[1][1][1], auc_trainp[2][1][1], auc_trainp[3][1][1]]]], \n",
    "            [[[auc_test[0][3][0], auc_test[1][3][0], auc_test[2][3][0], auc_test[3][3][0]], \n",
    "              [auc_test[0][3][1], auc_test[1][3][1], auc_test[2][3][1], auc_test[3][3][1]], \n",
    "              [auc_testp[0][3][0], auc_testp[1][3][0], auc_testp[2][3][0], auc_testp[3][3][0]], \n",
    "              [auc_testp[0][3][1], auc_testp[1][3][1], auc_testp[2][3][1], auc_testp[3][3][1]]], \n",
    "             [[auc_train[0][3][0], auc_train[1][3][0], auc_train[2][3][0], auc_train[3][3][0]], \n",
    "              [auc_train[0][3][1], auc_train[1][3][1], auc_train[2][3][1], auc_train[3][3][1]], \n",
    "              [auc_trainp[0][3][0], auc_trainp[1][3][0], auc_trainp[2][3][0], auc_trainp[3][3][0]], \n",
    "              [auc_trainp[0][3][1], auc_trainp[1][3][1], auc_trainp[2][3][1], auc_trainp[3][3][1]]]]]"
   ]
  },
  {
   "cell_type": "code",
   "execution_count": 74,
   "metadata": {},
   "outputs": [
    {
     "data": {
      "application/vnd.plotly.v1+json": {
       "config": {
        "plotlyServerURL": "https://plot.ly"
       },
       "data": [
        {
         "marker": {
          "color": "blue"
         },
         "mode": "markers",
         "name": "train default rate",
         "showlegend": true,
         "type": "scatter",
         "x": [
          2,
          2,
          3,
          3,
          3,
          4,
          4,
          4,
          4,
          5,
          5,
          5,
          5,
          5,
          6,
          6,
          6,
          6,
          6,
          6,
          7,
          7,
          7,
          7,
          7,
          7,
          7,
          8,
          8,
          8,
          8,
          8,
          8,
          8,
          8,
          9,
          9,
          9,
          9,
          9,
          9,
          9,
          9,
          9
         ],
         "xaxis": "x",
         "y": [
          0.026905829596412557,
          0.07692307692307693,
          0.03594771241830065,
          0.06593406593406594,
          0.08866995073891626,
          0.06593406593406594,
          0.05454545454545454,
          0.09326424870466321,
          0.024271844660194174,
          0.08791208791208792,
          0.0379746835443038,
          0.08602150537634409,
          0.07526881720430108,
          0.006622516556291391,
          0.020833333333333332,
          0.09782608695652174,
          0.06976744186046512,
          0.03571428571428571,
          0.028985507246376812,
          0.07514450867052024,
          0,
          0.09782608695652174,
          0.08333333333333333,
          0.047619047619047616,
          0.05660377358490566,
          0,
          0.07514450867052024,
          0.013888888888888888,
          0.01639344262295082,
          0.09714285714285714,
          0.08695652173913043,
          0.06451612903225806,
          0.01098901098901099,
          0.022222222222222223,
          0.10126582278481013,
          0.045454545454545456,
          0.09210526315789473,
          0.10606060606060606,
          0.0547945205479452,
          0.03125,
          0,
          0.08,
          0,
          0.05263157894736842
         ],
         "yaxis": "y"
        },
        {
         "marker": {
          "color": "black"
         },
         "mode": "lines",
         "name": "all data default rate",
         "showlegend": true,
         "type": "scatter",
         "x": [
          1,
          10
         ],
         "xaxis": "x",
         "y": [
          0.067,
          0.067
         ],
         "yaxis": "y"
        },
        {
         "marker": {
          "color": "blue"
         },
         "mode": "markers",
         "name": "train default rate",
         "showlegend": false,
         "type": "scatter",
         "x": [
          2,
          2,
          3,
          3,
          3,
          4,
          4,
          4,
          4,
          5,
          5,
          5,
          5,
          5,
          6,
          6,
          6,
          6,
          6,
          6,
          7,
          7,
          7,
          7,
          7,
          7,
          7,
          8,
          8,
          8,
          8,
          8,
          8,
          8,
          8,
          9,
          9,
          9,
          9,
          9,
          9,
          9,
          9,
          9
         ],
         "xaxis": "x2",
         "y": [
          0.04067796610169491,
          0.07540983606557378,
          0.03278688524590164,
          0.05555555555555555,
          0.07251908396946564,
          0.022727272727272728,
          0.07042253521126761,
          0.07389162561576355,
          0.038461538461538464,
          0.017699115044247787,
          0.07352941176470588,
          0.11023622047244094,
          0.01904761904761905,
          0.0392156862745098,
          0.022727272727272728,
          0.09433962264150944,
          0.11570247933884298,
          0.017699115044247787,
          0.04132231404958678,
          0.0392156862745098,
          0.022727272727272728,
          0.09433962264150944,
          0.11570247933884298,
          0.017699115044247787,
          0.041666666666666664,
          0.03333333333333333,
          0.045454545454545456,
          0.012345679012345678,
          0.0990990990990991,
          0.11570247933884298,
          0.02531645569620253,
          0.05319148936170213,
          0,
          0.047619047619047616,
          0.03333333333333333,
          0.047619047619047616,
          0.03333333333333333,
          0.11290322580645161,
          0.08823529411764706,
          0.041666666666666664,
          0,
          0.014705882352941176,
          0.020833333333333332,
          0.08421052631578947
         ],
         "yaxis": "y2"
        },
        {
         "marker": {
          "color": "black"
         },
         "mode": "lines",
         "name": "all data default rate",
         "showlegend": false,
         "type": "scatter",
         "x": [
          1,
          10
         ],
         "xaxis": "x2",
         "y": [
          0.067,
          0.067
         ],
         "yaxis": "y2"
        },
        {
         "marker": {
          "color": "blue"
         },
         "mode": "markers",
         "name": "train default rate",
         "showlegend": false,
         "type": "scatter",
         "x": [
          2,
          2,
          3,
          3,
          3,
          4,
          4,
          4,
          4,
          5,
          5,
          5,
          5,
          5,
          6,
          6,
          6,
          6,
          6,
          6,
          7,
          7,
          7,
          7,
          7,
          7,
          7,
          8,
          8,
          8,
          8,
          8,
          8,
          8,
          8,
          9,
          9,
          9,
          9,
          9,
          9,
          9,
          9,
          9
         ],
         "xaxis": "x3",
         "y": [
          0.08174386920980926,
          0.02145922746781116,
          0.1039426523297491,
          0.025906735751295335,
          0.0078125,
          0.03076923076923077,
          0.11627906976744186,
          0.009433962264150943,
          0.06382978723404255,
          0.0392156862745098,
          0.1206896551724138,
          0.01904761904761905,
          0.08571428571428572,
          0.013071895424836602,
          0.0392156862745098,
          0.0297029702970297,
          0.018867924528301886,
          0.008771929824561403,
          0.09352517985611511,
          0.1056338028169014,
          0.0392156862745098,
          0.01,
          0.012048192771084338,
          0.021739130434782608,
          0.12345679012345678,
          0.07407407407407407,
          0.0916030534351145,
          0.0392156862745098,
          0.03488372093023256,
          0,
          0.07339449541284404,
          0.15384615384615385,
          0.08695652173913043,
          0.06451612903225806,
          0.018867924528301886,
          0.013513513513513514,
          0.12987012987012986,
          0.02247191011235955,
          0.0547945205479452,
          0.18181818181818182,
          0.027777777777777776,
          0.06382978723404255,
          0.016129032258064516,
          0.0392156862745098
         ],
         "yaxis": "y3"
        },
        {
         "marker": {
          "color": "black"
         },
         "mode": "lines",
         "name": "all data default rate",
         "showlegend": false,
         "type": "scatter",
         "x": [
          1,
          10
         ],
         "xaxis": "x3",
         "y": [
          0.067,
          0.067
         ],
         "yaxis": "y3"
        },
        {
         "marker": {
          "color": "blue"
         },
         "mode": "markers",
         "name": "train default rate",
         "showlegend": false,
         "type": "scatter",
         "x": [
          2,
          2,
          3,
          3,
          3,
          4,
          4,
          4,
          4,
          5,
          5,
          5,
          5,
          5,
          6,
          6,
          6,
          6,
          6,
          6,
          7,
          7,
          7,
          7,
          7,
          7,
          7,
          8,
          8,
          8,
          8,
          8,
          8,
          8,
          8,
          9,
          9,
          9,
          9,
          9,
          9,
          9,
          9,
          9
         ],
         "xaxis": "x4",
         "y": [
          0.07888040712468193,
          0.01932367149758454,
          0.06589147286821706,
          0.020833333333333332,
          0.09333333333333334,
          0.08296943231441048,
          0.01020408163265306,
          0.0967741935483871,
          0.0392156862745098,
          0.022222222222222223,
          0.05925925925925926,
          0.011976047904191617,
          0.0392156862745098,
          0.1337579617834395,
          0.015384615384615385,
          0.05357142857142857,
          0.016129032258064516,
          0.0392156862745098,
          0.15,
          0.02531645569620253,
          0.008,
          0.03773584905660377,
          0.037037037037037035,
          0.024390243902439025,
          0.16666666666666666,
          0.039473684210526314,
          0.0392156862745098,
          0.010416666666666666,
          0.03773584905660377,
          0.039473684210526314,
          0.04081632653061224,
          0.16666666666666666,
          0.04411764705882353,
          0.04,
          0,
          0.047619047619047616,
          0.041666666666666664,
          0.03636363636363636,
          0.19540229885057472,
          0,
          0,
          0.022222222222222223,
          0.04,
          0.06976744186046512
         ],
         "yaxis": "y4"
        },
        {
         "marker": {
          "color": "black"
         },
         "mode": "lines",
         "name": "all data default rate",
         "showlegend": false,
         "type": "scatter",
         "x": [
          1,
          10
         ],
         "xaxis": "x4",
         "y": [
          0.067,
          0.067
         ],
         "yaxis": "y4"
        },
        {
         "marker": {
          "color": "blue"
         },
         "mode": "markers",
         "name": "train default rate",
         "showlegend": false,
         "type": "scatter",
         "x": [
          2,
          2,
          3,
          3,
          3,
          4,
          4,
          4,
          4,
          5,
          5,
          5,
          5,
          5,
          6,
          6,
          6,
          6,
          6,
          6,
          7,
          7,
          7,
          7,
          7,
          7,
          7,
          8,
          8,
          8,
          8,
          8,
          8,
          8,
          8,
          9,
          9,
          9,
          9,
          9,
          9,
          9,
          9,
          9
         ],
         "xaxis": "x5",
         "y": [
          0.07657657657657657,
          0.047619047619047616,
          0.10526315789473684,
          0.05067567567567568,
          0.03508771929824561,
          0.046263345195729534,
          0.10317460317460317,
          0.05263157894736842,
          0.04411764705882353,
          0.03383458646616541,
          0.06363636363636363,
          0.05357142857142857,
          0.030534351145038167,
          0.32432432432432434,
          0.027149321266968326,
          0.06930693069306931,
          0.05660377358490566,
          0.024193548387096774,
          0.0625,
          0.32432432432432434,
          0.026881720430107527,
          0.047619047619047616,
          0.0425531914893617,
          0.009708737864077669,
          0.06349206349206349,
          0.32432432432432434,
          0.0875,
          0.0425531914893617,
          0.0273224043715847,
          0.09375,
          0.3333333333333333,
          0.06451612903225806,
          0.009708737864077669,
          0.04819277108433735,
          0.045454545454545456,
          0.09523809523809523,
          0.016129032258064516,
          0.08771929824561403,
          0.3333333333333333,
          0.07142857142857142,
          0.013888888888888888,
          0.04878048780487805,
          0.05,
          0.030303030303030304
         ],
         "yaxis": "y5"
        },
        {
         "marker": {
          "color": "black"
         },
         "mode": "lines",
         "name": "all data default rate",
         "showlegend": false,
         "type": "scatter",
         "x": [
          1,
          10
         ],
         "xaxis": "x5",
         "y": [
          0.067,
          0.067
         ],
         "yaxis": "y5"
        },
        {
         "marker": {
          "color": "blue"
         },
         "mode": "markers",
         "name": "train default rate",
         "showlegend": false,
         "type": "scatter",
         "x": [
          2,
          2,
          3,
          3,
          3,
          4,
          4,
          4,
          4,
          5,
          5,
          5,
          5,
          5,
          6,
          6,
          6,
          6,
          6,
          6,
          7,
          7,
          7,
          7,
          7,
          7,
          7,
          8,
          8,
          8,
          8,
          8,
          8,
          8,
          8,
          9,
          9,
          9,
          9,
          9,
          9,
          9,
          9,
          9
         ],
         "xaxis": "x6",
         "y": [
          0.10365853658536585,
          0.04128440366972477,
          0.11920529801324503,
          0.03807106598984772,
          0.03636363636363636,
          0.08396946564885496,
          0.32432432432432434,
          0.026525198938992044,
          0.03636363636363636,
          0.04,
          0.32432432432432434,
          0.08433734939759036,
          0.02654867256637168,
          0.038461538461538464,
          0.23076923076923078,
          0.026785714285714284,
          0.32432432432432434,
          0.06756756756756757,
          0.038834951456310676,
          0.03355704697986577,
          0.23076923076923078,
          0.0425531914893617,
          0.32432432432432434,
          0.06756756756756757,
          0.05555555555555555,
          0.032,
          0.021551724137931036,
          0.23076923076923078,
          0.0425531914893617,
          0.32432432432432434,
          0.06756756756756757,
          0.05555555555555555,
          0.025,
          0.021551724137931036,
          0.2,
          0.0425531914893617,
          0.06060606060606061,
          0.07317073170731707,
          0.2,
          0.021551724137931036,
          0.23076923076923078,
          0.32432432432432434,
          0.025,
          0.05555555555555555
         ],
         "yaxis": "y6"
        },
        {
         "marker": {
          "color": "black"
         },
         "mode": "lines",
         "name": "all data default rate",
         "showlegend": false,
         "type": "scatter",
         "x": [
          1,
          10
         ],
         "xaxis": "x6",
         "y": [
          0.067,
          0.067
         ],
         "yaxis": "y6"
        },
        {
         "marker": {
          "color": "blue"
         },
         "mode": "markers",
         "name": "train default rate",
         "showlegend": false,
         "type": "scatter",
         "x": [
          2,
          2,
          3,
          3,
          3,
          4,
          4,
          4,
          4,
          5,
          5,
          5,
          5,
          5,
          6,
          6,
          6,
          6,
          6,
          6,
          7,
          7,
          7,
          7,
          7,
          7,
          7,
          8,
          8,
          8,
          8,
          8,
          8,
          8,
          8,
          9,
          9,
          9,
          9,
          9,
          9,
          9,
          9,
          9
         ],
         "xaxis": "x7",
         "y": [
          0.07317073170731707,
          0.05063291139240506,
          0.041501976284584984,
          0.03508771929824561,
          0.32432432432432434,
          0.037037037037037035,
          0.05,
          0.32432432432432434,
          0.03460207612456748,
          0.037037037037037035,
          0.034482758620689655,
          0.32432432432432434,
          0.09090909090909091,
          0.031007751937984496,
          0.32432432432432434,
          0.06521739130434782,
          0.16666666666666666,
          0.03773584905660377,
          0.07692307692307693,
          0.02346041055718475,
          0.32432432432432434,
          0.037037037037037035,
          0.16666666666666666,
          0.03773584905660377,
          0.07692307692307693,
          0.021834061135371178,
          0.057971014492753624,
          0.32432432432432434,
          0.1111111111111111,
          0.16666666666666666,
          0.03773584905660377,
          0.07692307692307693,
          0.02512562814070352,
          0.057971014492753624,
          0.007751937984496124,
          0.025906735751295335,
          0.03773584905660377,
          0.16666666666666666,
          0.05,
          0.07692307692307693,
          0.007751937984496124,
          0.32432432432432434,
          0.1111111111111111,
          0.06666666666666667
         ],
         "yaxis": "y7"
        },
        {
         "marker": {
          "color": "black"
         },
         "mode": "lines",
         "name": "all data default rate",
         "showlegend": false,
         "type": "scatter",
         "x": [
          1,
          10
         ],
         "xaxis": "x7",
         "y": [
          0.067,
          0.067
         ],
         "yaxis": "y7"
        },
        {
         "marker": {
          "color": "blue"
         },
         "mode": "markers",
         "name": "train default rate",
         "showlegend": false,
         "type": "scatter",
         "x": [
          2,
          2,
          3,
          3,
          3,
          4,
          4,
          4,
          4,
          5,
          5,
          5,
          5,
          5,
          6,
          6,
          6,
          6,
          6,
          6,
          7,
          7,
          7,
          7,
          7,
          7,
          7,
          8,
          8,
          8,
          8,
          8,
          8,
          8,
          8,
          9,
          9,
          9,
          9,
          9,
          9,
          9,
          9,
          9
         ],
         "xaxis": "x8",
         "y": [
          0.32432432432432434,
          0.04085257548845471,
          0.08433734939759036,
          0.03333333333333333,
          0.32432432432432434,
          0.09090909090909091,
          0.032407407407407406,
          0.32432432432432434,
          0.037037037037037035,
          0.09090909090909091,
          0.08411214953271028,
          0.32432432432432434,
          0.03773584905660377,
          0.015337423312883436,
          0.09090909090909091,
          0.09090909090909091,
          0.32432432432432434,
          0.03773584905660377,
          0.013986013986013986,
          0.04938271604938271,
          0.32432432432432434,
          0.08333333333333333,
          0.09090909090909091,
          0.03773584905660377,
          0.0136986301369863,
          0.05333333333333334,
          0.09523809523809523,
          0.05454545454545454,
          0.03773584905660377,
          0.09090909090909091,
          0.09523809523809523,
          0.32432432432432434,
          0.0125,
          0.017167381974248927,
          0.08695652173913043,
          0.08571428571428572,
          0.03773584905660377,
          0.09090909090909091,
          0.09523809523809523,
          0.32432432432432434,
          0.013157894736842105,
          0.014705882352941176,
          0.08695652173913043,
          0.018867924528301886
         ],
         "yaxis": "y8"
        },
        {
         "marker": {
          "color": "black"
         },
         "mode": "lines",
         "name": "all data default rate",
         "showlegend": false,
         "type": "scatter",
         "x": [
          1,
          10
         ],
         "xaxis": "x8",
         "y": [
          0.067,
          0.067
         ],
         "yaxis": "y8"
        },
        {
         "marker": {
          "color": "red"
         },
         "mode": "markers",
         "name": "test default rate",
         "showlegend": true,
         "type": "scatter",
         "x": [
          2,
          2,
          3,
          3,
          3,
          4,
          4,
          4,
          4,
          5,
          5,
          5,
          5,
          5,
          6,
          6,
          6,
          6,
          6,
          6,
          7,
          7,
          7,
          7,
          7,
          7,
          7,
          8,
          8,
          8,
          8,
          8,
          8,
          8,
          8,
          9,
          9,
          9,
          9,
          9,
          9,
          9,
          9,
          9
         ],
         "xaxis": "x",
         "y": [
          0.04184100418410042,
          0.0997229916897507,
          0.06711409395973154,
          0.053763440860215055,
          0.10047846889952153,
          0.056818181818181816,
          0.07079646017699115,
          0.1073170731707317,
          0.05670103092783505,
          0.043478260869565216,
          0.07792207792207792,
          0.1134020618556701,
          0.06382978723404255,
          0.055944055944055944,
          0.04597701149425287,
          0.04819277108433735,
          0.0975609756097561,
          0.06896551724137931,
          0.07246376811594203,
          0.09895833333333333,
          0.0759493670886076,
          0.047619047619047616,
          0.08139534883720931,
          0.06666666666666667,
          0.06382978723404255,
          0.058823529411764705,
          0.09844559585492228,
          0.0547945205479452,
          0.0196078431372549,
          0.11731843575418995,
          0.0392156862745098,
          0.0625,
          0.0970873786407767,
          0.03773584905660377,
          0.06756756756756757,
          0.02564102564102564,
          0.0684931506849315,
          0.12686567164179105,
          0.0625,
          0.058823529411764705,
          0.07936507936507936,
          0.018867924528301886,
          0.10465116279069768,
          0.03636363636363636
         ],
         "yaxis": "y"
        },
        {
         "marker": {
          "color": "red"
         },
         "mode": "markers",
         "name": "test default rate",
         "showlegend": false,
         "type": "scatter",
         "x": [
          2,
          2,
          3,
          3,
          3,
          4,
          4,
          4,
          4,
          5,
          5,
          5,
          5,
          5,
          6,
          6,
          6,
          6,
          6,
          6,
          7,
          7,
          7,
          7,
          7,
          7,
          7,
          8,
          8,
          8,
          8,
          8,
          8,
          8,
          8,
          9,
          9,
          9,
          9,
          9,
          9,
          9,
          9,
          9
         ],
         "xaxis": "x2",
         "y": [
          0.04778156996587031,
          0.10423452768729642,
          0.009174311926605505,
          0.09051724137931035,
          0.09266409266409266,
          0.007633587786259542,
          0.075,
          0.13122171945701358,
          0.020833333333333332,
          0.008130081300813009,
          0.07772020725388601,
          0.1510791366906475,
          0.08247422680412371,
          0.020833333333333332,
          0.06493506493506493,
          0.12871287128712872,
          0.140625,
          0.008130081300813009,
          0.06504065040650407,
          0.020833333333333332,
          0.06493506493506493,
          0.12871287128712872,
          0.140625,
          0.008130081300813009,
          0.06504065040650407,
          0,
          0.05,
          0.02631578947368421,
          0.13274336283185842,
          0.140625,
          0.011764705882352941,
          0.054945054945054944,
          0.06779661016949153,
          0.0625,
          0,
          0.0625,
          0,
          0.13953488372093023,
          0.12658227848101267,
          0.04225352112676056,
          0.03076923076923077,
          0,
          0.046511627906976744,
          0.11494252873563218
         ],
         "yaxis": "y2"
        },
        {
         "marker": {
          "color": "red"
         },
         "mode": "markers",
         "name": "test default rate",
         "showlegend": false,
         "type": "scatter",
         "x": [
          2,
          2,
          3,
          3,
          3,
          4,
          4,
          4,
          4,
          5,
          5,
          5,
          5,
          5,
          6,
          6,
          6,
          6,
          6,
          6,
          7,
          7,
          7,
          7,
          7,
          7,
          7,
          8,
          8,
          8,
          8,
          8,
          8,
          8,
          8,
          9,
          9,
          9,
          9,
          9,
          9,
          9,
          9,
          9
         ],
         "xaxis": "x3",
         "y": [
          0.10991957104557641,
          0.022026431718061675,
          0.1368421052631579,
          0.015706806282722512,
          0.03225806451612903,
          0.008849557522123894,
          0.14049586776859505,
          0.04716981132075472,
          0.08846153846153847,
          0.020833333333333332,
          0.11607142857142858,
          0.04040404040404041,
          0.13089005235602094,
          0.02,
          0.020833333333333332,
          0.07058823529411765,
          0.021739130434782608,
          0.017094017094017096,
          0.11875,
          0.11805555555555555,
          0.020833333333333332,
          0.03488372093023256,
          0.02631578947368421,
          0,
          0.09574468085106383,
          0.1414141414141414,
          0.12142857142857143,
          0.020833333333333332,
          0.05263157894736842,
          0.029411764705882353,
          0.12389380530973451,
          0.136986301369863,
          0.06382978723404255,
          0.09649122807017543,
          0.021052631578947368,
          0.078125,
          0.1111111111111111,
          0.03409090909090909,
          0.07246376811594203,
          0.20754716981132076,
          0.02631578947368421,
          0.10576923076923077,
          0,
          0.020833333333333332
         ],
         "yaxis": "y3"
        },
        {
         "marker": {
          "color": "red"
         },
         "mode": "markers",
         "name": "test default rate",
         "showlegend": false,
         "type": "scatter",
         "x": [
          2,
          2,
          3,
          3,
          3,
          4,
          4,
          4,
          4,
          5,
          5,
          5,
          5,
          5,
          6,
          6,
          6,
          6,
          6,
          6,
          7,
          7,
          7,
          7,
          7,
          7,
          7,
          8,
          8,
          8,
          8,
          8,
          8,
          8,
          8,
          9,
          9,
          9,
          9,
          9,
          9,
          9,
          9,
          9
         ],
         "xaxis": "x4",
         "y": [
          0.09903381642512077,
          0.026881720430107527,
          0.08527131782945736,
          0.02857142857142857,
          0.11377245508982035,
          0.10460251046025104,
          0.023668639053254437,
          0.1111111111111111,
          0.020833333333333332,
          0.03125,
          0.09523809523809523,
          0.027777777777777776,
          0.020833333333333332,
          0.14545454545454545,
          0.02459016393442623,
          0.14285714285714285,
          0.05042016806722689,
          0.02127659574468085,
          0.15337423312883436,
          0.023255813953488372,
          0.02912621359223301,
          0.13725490196078433,
          0.08823529411764706,
          0.013157894736842105,
          0.17293233082706766,
          0.022727272727272728,
          0.02127659574468085,
          0.03571428571428571,
          0.1346153846153846,
          0.0989010989010989,
          0,
          0.17293233082706766,
          0.013513513513513514,
          0.02127659574468085,
          0.024390243902439025,
          0.08196721311475409,
          0,
          0,
          0.21505376344086022,
          0.03571428571428571,
          0.02,
          0.0425531914893617,
          0.02127659574468085,
          0.11570247933884298
         ],
         "yaxis": "y4"
        },
        {
         "marker": {
          "color": "red"
         },
         "mode": "markers",
         "name": "test default rate",
         "showlegend": false,
         "type": "scatter",
         "x": [
          2,
          2,
          3,
          3,
          3,
          4,
          4,
          4,
          4,
          5,
          5,
          5,
          5,
          5,
          6,
          6,
          6,
          6,
          6,
          6,
          7,
          7,
          7,
          7,
          7,
          7,
          7,
          8,
          8,
          8,
          8,
          8,
          8,
          8,
          8,
          9,
          9,
          9,
          9,
          9,
          9,
          9,
          9,
          9
         ],
         "xaxis": "x5",
         "y": [
          0.08636363636363636,
          0.07105263157894737,
          0.14285714285714285,
          0.07958477508650519,
          0.03125,
          0.07801418439716312,
          0.1452991452991453,
          0.057971014492753624,
          0.022727272727272728,
          0.04887218045112782,
          0.07,
          0.031746031746031744,
          0.015384615384615385,
          0.5365853658536586,
          0.03255813953488372,
          0.05263157894736842,
          0,
          0.01639344262295082,
          0.13513513513513514,
          0.5365853658536586,
          0.031413612565445025,
          0.06097560975609756,
          0,
          0.020618556701030927,
          0.14084507042253522,
          0.5365853658536586,
          0.013513513513513514,
          0,
          0.031746031746031744,
          0.016666666666666666,
          0.5365853658536586,
          0.14084507042253522,
          0.020618556701030927,
          0.06097560975609756,
          0,
          0,
          0.031746031746031744,
          0.01818181818181818,
          0.55,
          0.15625,
          0.025974025974025976,
          0.06097560975609756,
          0,
          0.018018018018018018
         ],
         "yaxis": "y5"
        },
        {
         "marker": {
          "color": "red"
         },
         "mode": "markers",
         "name": "test default rate",
         "showlegend": false,
         "type": "scatter",
         "x": [
          2,
          2,
          3,
          3,
          3,
          4,
          4,
          4,
          4,
          5,
          5,
          5,
          5,
          5,
          6,
          6,
          6,
          6,
          6,
          6,
          7,
          7,
          7,
          7,
          7,
          7,
          7,
          8,
          8,
          8,
          8,
          8,
          8,
          8,
          8,
          9,
          9,
          9,
          9,
          9,
          9,
          9,
          9,
          9
         ],
         "xaxis": "x6",
         "y": [
          0.13333333333333333,
          0.05517241379310345,
          0.14012738853503184,
          0.058524173027989825,
          0.02,
          0.0661764705882353,
          0.5365853658536586,
          0.03978779840848806,
          0,
          0.040697674418604654,
          0.5365853658536586,
          0.12941176470588237,
          0.02577319587628866,
          0.009259259259259259,
          0.42105263157894735,
          0.021052631578947368,
          0.5365853658536586,
          0.10256410256410256,
          0.009345794392523364,
          0.01818181818181818,
          0.42105263157894735,
          0,
          0.5365853658536586,
          0.10256410256410256,
          0.0136986301369863,
          0.007518796992481203,
          0.027522935779816515,
          0.42105263157894735,
          0,
          0.5365853658536586,
          0.10256410256410256,
          0.0136986301369863,
          0,
          0.027522935779816515,
          0.14285714285714285,
          0,
          0.03333333333333333,
          0.14583333333333334,
          0.14285714285714285,
          0.027522935779816515,
          0.42105263157894735,
          0.5365853658536586,
          0,
          0.0136986301369863
         ],
         "yaxis": "y6"
        },
        {
         "marker": {
          "color": "red"
         },
         "mode": "markers",
         "name": "test default rate",
         "showlegend": false,
         "type": "scatter",
         "x": [
          2,
          2,
          3,
          3,
          3,
          4,
          4,
          4,
          4,
          5,
          5,
          5,
          5,
          5,
          6,
          6,
          6,
          6,
          6,
          6,
          7,
          7,
          7,
          7,
          7,
          7,
          7,
          8,
          8,
          8,
          8,
          8,
          8,
          8,
          8,
          9,
          9,
          9,
          9,
          9,
          9,
          9,
          9,
          9
         ],
         "xaxis": "x7",
         "y": [
          0.07981220657276995,
          0.07493540051679587,
          0.046875,
          0.0196078431372549,
          0.5675675675675675,
          0.02,
          0.04824561403508772,
          0.5675675675675675,
          0.0456140350877193,
          0.02,
          0.03723404255319149,
          0.5675675675675675,
          0.13924050632911392,
          0.024390243902439025,
          0.5675675675675675,
          0.04854368932038835,
          0.1111111111111111,
          0.02040816326530612,
          0.14754098360655737,
          0.024096385542168676,
          0.5675675675675675,
          0.014492753623188406,
          0.1111111111111111,
          0.02040816326530612,
          0.14754098360655737,
          0.043859649122807015,
          0.014492753623188406,
          0.5675675675675675,
          0.046511627906976744,
          0.1111111111111111,
          0.020833333333333332,
          0.14754098360655737,
          0.05,
          0.014492753623188406,
          0,
          0.050761421319796954,
          0.020833333333333332,
          0.1111111111111111,
          0.01694915254237288,
          0.14754098360655737,
          0,
          0.5675675675675675,
          0.047619047619047616,
          0
         ],
         "yaxis": "y7"
        },
        {
         "marker": {
          "color": "red"
         },
         "mode": "markers",
         "name": "test default rate",
         "showlegend": false,
         "type": "scatter",
         "x": [
          2,
          2,
          3,
          3,
          3,
          4,
          4,
          4,
          4,
          5,
          5,
          5,
          5,
          5,
          6,
          6,
          6,
          6,
          6,
          6,
          7,
          7,
          7,
          7,
          7,
          7,
          7,
          8,
          8,
          8,
          8,
          8,
          8,
          8,
          8,
          9,
          9,
          9,
          9,
          9,
          9,
          9,
          9,
          9
         ],
         "xaxis": "x8",
         "y": [
          0.5365853658536586,
          0.04293381037567084,
          0.12941176470588237,
          0.027426160337552744,
          0.5365853658536586,
          0.13924050632911392,
          0.029953917050691243,
          0.5675675675675675,
          0.02,
          0.13924050632911392,
          0.043478260869565216,
          0.5675675675675675,
          0.020833333333333332,
          0.02348993288590604,
          0.13924050632911392,
          0.0425531914893617,
          0.5675675675675675,
          0.020833333333333332,
          0.01953125,
          0.046511627906976744,
          0.5675675675675675,
          0.07142857142857142,
          0.13924050632911392,
          0.020833333333333332,
          0.019083969465648856,
          0.047619047619047616,
          0.020833333333333332,
          0.05084745762711865,
          0.020833333333333332,
          0.13924050632911392,
          0.020833333333333332,
          0.5675675675675675,
          0.010416666666666666,
          0.02617801047120419,
          0.07142857142857142,
          0.046511627906976744,
          0.020833333333333332,
          0.13924050632911392,
          0.021739130434782608,
          0.5675675675675675,
          0.010526315789473684,
          0.023529411764705882,
          0.075,
          0.047619047619047616
         ],
         "yaxis": "y8"
        }
       ],
       "layout": {
        "annotations": [
         {
          "font": {
           "size": 16
          },
          "showarrow": false,
          "text": "All, EW",
          "x": 0.10625,
          "xanchor": "center",
          "xref": "paper",
          "y": 1,
          "yanchor": "bottom",
          "yref": "paper"
         },
         {
          "font": {
           "size": 16
          },
          "showarrow": false,
          "text": "All, REG",
          "x": 0.36875,
          "xanchor": "center",
          "xref": "paper",
          "y": 1,
          "yanchor": "bottom",
          "yref": "paper"
         },
         {
          "font": {
           "size": 16
          },
          "showarrow": false,
          "text": "All, LR",
          "x": 0.6312500000000001,
          "xanchor": "center",
          "xref": "paper",
          "y": 1,
          "yanchor": "bottom",
          "yref": "paper"
         },
         {
          "font": {
           "size": 16
          },
          "showarrow": false,
          "text": "ALL, MI",
          "x": 0.89375,
          "xanchor": "center",
          "xref": "paper",
          "y": 1,
          "yanchor": "bottom",
          "yref": "paper"
         },
         {
          "font": {
           "size": 16
          },
          "showarrow": false,
          "text": "POS, EW",
          "x": 0.10625,
          "xanchor": "center",
          "xref": "paper",
          "y": 0.375,
          "yanchor": "bottom",
          "yref": "paper"
         },
         {
          "font": {
           "size": 16
          },
          "showarrow": false,
          "text": "POS, REG",
          "x": 0.36875,
          "xanchor": "center",
          "xref": "paper",
          "y": 0.375,
          "yanchor": "bottom",
          "yref": "paper"
         },
         {
          "font": {
           "size": 16
          },
          "showarrow": false,
          "text": "POS, LR",
          "x": 0.6312500000000001,
          "xanchor": "center",
          "xref": "paper",
          "y": 0.375,
          "yanchor": "bottom",
          "yref": "paper"
         },
         {
          "font": {
           "size": 16
          },
          "showarrow": false,
          "text": "POS, MI",
          "x": 0.89375,
          "xanchor": "center",
          "xref": "paper",
          "y": 0.375,
          "yanchor": "bottom",
          "yref": "paper"
         }
        ],
        "height": 800,
        "template": {
         "data": {
          "bar": [
           {
            "error_x": {
             "color": "#2a3f5f"
            },
            "error_y": {
             "color": "#2a3f5f"
            },
            "marker": {
             "line": {
              "color": "#E5ECF6",
              "width": 0.5
             },
             "pattern": {
              "fillmode": "overlay",
              "size": 10,
              "solidity": 0.2
             }
            },
            "type": "bar"
           }
          ],
          "barpolar": [
           {
            "marker": {
             "line": {
              "color": "#E5ECF6",
              "width": 0.5
             },
             "pattern": {
              "fillmode": "overlay",
              "size": 10,
              "solidity": 0.2
             }
            },
            "type": "barpolar"
           }
          ],
          "carpet": [
           {
            "aaxis": {
             "endlinecolor": "#2a3f5f",
             "gridcolor": "white",
             "linecolor": "white",
             "minorgridcolor": "white",
             "startlinecolor": "#2a3f5f"
            },
            "baxis": {
             "endlinecolor": "#2a3f5f",
             "gridcolor": "white",
             "linecolor": "white",
             "minorgridcolor": "white",
             "startlinecolor": "#2a3f5f"
            },
            "type": "carpet"
           }
          ],
          "choropleth": [
           {
            "colorbar": {
             "outlinewidth": 0,
             "ticks": ""
            },
            "type": "choropleth"
           }
          ],
          "contour": [
           {
            "colorbar": {
             "outlinewidth": 0,
             "ticks": ""
            },
            "colorscale": [
             [
              0,
              "#0d0887"
             ],
             [
              0.1111111111111111,
              "#46039f"
             ],
             [
              0.2222222222222222,
              "#7201a8"
             ],
             [
              0.3333333333333333,
              "#9c179e"
             ],
             [
              0.4444444444444444,
              "#bd3786"
             ],
             [
              0.5555555555555556,
              "#d8576b"
             ],
             [
              0.6666666666666666,
              "#ed7953"
             ],
             [
              0.7777777777777778,
              "#fb9f3a"
             ],
             [
              0.8888888888888888,
              "#fdca26"
             ],
             [
              1,
              "#f0f921"
             ]
            ],
            "type": "contour"
           }
          ],
          "contourcarpet": [
           {
            "colorbar": {
             "outlinewidth": 0,
             "ticks": ""
            },
            "type": "contourcarpet"
           }
          ],
          "heatmap": [
           {
            "colorbar": {
             "outlinewidth": 0,
             "ticks": ""
            },
            "colorscale": [
             [
              0,
              "#0d0887"
             ],
             [
              0.1111111111111111,
              "#46039f"
             ],
             [
              0.2222222222222222,
              "#7201a8"
             ],
             [
              0.3333333333333333,
              "#9c179e"
             ],
             [
              0.4444444444444444,
              "#bd3786"
             ],
             [
              0.5555555555555556,
              "#d8576b"
             ],
             [
              0.6666666666666666,
              "#ed7953"
             ],
             [
              0.7777777777777778,
              "#fb9f3a"
             ],
             [
              0.8888888888888888,
              "#fdca26"
             ],
             [
              1,
              "#f0f921"
             ]
            ],
            "type": "heatmap"
           }
          ],
          "heatmapgl": [
           {
            "colorbar": {
             "outlinewidth": 0,
             "ticks": ""
            },
            "colorscale": [
             [
              0,
              "#0d0887"
             ],
             [
              0.1111111111111111,
              "#46039f"
             ],
             [
              0.2222222222222222,
              "#7201a8"
             ],
             [
              0.3333333333333333,
              "#9c179e"
             ],
             [
              0.4444444444444444,
              "#bd3786"
             ],
             [
              0.5555555555555556,
              "#d8576b"
             ],
             [
              0.6666666666666666,
              "#ed7953"
             ],
             [
              0.7777777777777778,
              "#fb9f3a"
             ],
             [
              0.8888888888888888,
              "#fdca26"
             ],
             [
              1,
              "#f0f921"
             ]
            ],
            "type": "heatmapgl"
           }
          ],
          "histogram": [
           {
            "marker": {
             "pattern": {
              "fillmode": "overlay",
              "size": 10,
              "solidity": 0.2
             }
            },
            "type": "histogram"
           }
          ],
          "histogram2d": [
           {
            "colorbar": {
             "outlinewidth": 0,
             "ticks": ""
            },
            "colorscale": [
             [
              0,
              "#0d0887"
             ],
             [
              0.1111111111111111,
              "#46039f"
             ],
             [
              0.2222222222222222,
              "#7201a8"
             ],
             [
              0.3333333333333333,
              "#9c179e"
             ],
             [
              0.4444444444444444,
              "#bd3786"
             ],
             [
              0.5555555555555556,
              "#d8576b"
             ],
             [
              0.6666666666666666,
              "#ed7953"
             ],
             [
              0.7777777777777778,
              "#fb9f3a"
             ],
             [
              0.8888888888888888,
              "#fdca26"
             ],
             [
              1,
              "#f0f921"
             ]
            ],
            "type": "histogram2d"
           }
          ],
          "histogram2dcontour": [
           {
            "colorbar": {
             "outlinewidth": 0,
             "ticks": ""
            },
            "colorscale": [
             [
              0,
              "#0d0887"
             ],
             [
              0.1111111111111111,
              "#46039f"
             ],
             [
              0.2222222222222222,
              "#7201a8"
             ],
             [
              0.3333333333333333,
              "#9c179e"
             ],
             [
              0.4444444444444444,
              "#bd3786"
             ],
             [
              0.5555555555555556,
              "#d8576b"
             ],
             [
              0.6666666666666666,
              "#ed7953"
             ],
             [
              0.7777777777777778,
              "#fb9f3a"
             ],
             [
              0.8888888888888888,
              "#fdca26"
             ],
             [
              1,
              "#f0f921"
             ]
            ],
            "type": "histogram2dcontour"
           }
          ],
          "mesh3d": [
           {
            "colorbar": {
             "outlinewidth": 0,
             "ticks": ""
            },
            "type": "mesh3d"
           }
          ],
          "parcoords": [
           {
            "line": {
             "colorbar": {
              "outlinewidth": 0,
              "ticks": ""
             }
            },
            "type": "parcoords"
           }
          ],
          "pie": [
           {
            "automargin": true,
            "type": "pie"
           }
          ],
          "scatter": [
           {
            "fillpattern": {
             "fillmode": "overlay",
             "size": 10,
             "solidity": 0.2
            },
            "type": "scatter"
           }
          ],
          "scatter3d": [
           {
            "line": {
             "colorbar": {
              "outlinewidth": 0,
              "ticks": ""
             }
            },
            "marker": {
             "colorbar": {
              "outlinewidth": 0,
              "ticks": ""
             }
            },
            "type": "scatter3d"
           }
          ],
          "scattercarpet": [
           {
            "marker": {
             "colorbar": {
              "outlinewidth": 0,
              "ticks": ""
             }
            },
            "type": "scattercarpet"
           }
          ],
          "scattergeo": [
           {
            "marker": {
             "colorbar": {
              "outlinewidth": 0,
              "ticks": ""
             }
            },
            "type": "scattergeo"
           }
          ],
          "scattergl": [
           {
            "marker": {
             "colorbar": {
              "outlinewidth": 0,
              "ticks": ""
             }
            },
            "type": "scattergl"
           }
          ],
          "scattermapbox": [
           {
            "marker": {
             "colorbar": {
              "outlinewidth": 0,
              "ticks": ""
             }
            },
            "type": "scattermapbox"
           }
          ],
          "scatterpolar": [
           {
            "marker": {
             "colorbar": {
              "outlinewidth": 0,
              "ticks": ""
             }
            },
            "type": "scatterpolar"
           }
          ],
          "scatterpolargl": [
           {
            "marker": {
             "colorbar": {
              "outlinewidth": 0,
              "ticks": ""
             }
            },
            "type": "scatterpolargl"
           }
          ],
          "scatterternary": [
           {
            "marker": {
             "colorbar": {
              "outlinewidth": 0,
              "ticks": ""
             }
            },
            "type": "scatterternary"
           }
          ],
          "surface": [
           {
            "colorbar": {
             "outlinewidth": 0,
             "ticks": ""
            },
            "colorscale": [
             [
              0,
              "#0d0887"
             ],
             [
              0.1111111111111111,
              "#46039f"
             ],
             [
              0.2222222222222222,
              "#7201a8"
             ],
             [
              0.3333333333333333,
              "#9c179e"
             ],
             [
              0.4444444444444444,
              "#bd3786"
             ],
             [
              0.5555555555555556,
              "#d8576b"
             ],
             [
              0.6666666666666666,
              "#ed7953"
             ],
             [
              0.7777777777777778,
              "#fb9f3a"
             ],
             [
              0.8888888888888888,
              "#fdca26"
             ],
             [
              1,
              "#f0f921"
             ]
            ],
            "type": "surface"
           }
          ],
          "table": [
           {
            "cells": {
             "fill": {
              "color": "#EBF0F8"
             },
             "line": {
              "color": "white"
             }
            },
            "header": {
             "fill": {
              "color": "#C8D4E3"
             },
             "line": {
              "color": "white"
             }
            },
            "type": "table"
           }
          ]
         },
         "layout": {
          "annotationdefaults": {
           "arrowcolor": "#2a3f5f",
           "arrowhead": 0,
           "arrowwidth": 1
          },
          "autotypenumbers": "strict",
          "coloraxis": {
           "colorbar": {
            "outlinewidth": 0,
            "ticks": ""
           }
          },
          "colorscale": {
           "diverging": [
            [
             0,
             "#8e0152"
            ],
            [
             0.1,
             "#c51b7d"
            ],
            [
             0.2,
             "#de77ae"
            ],
            [
             0.3,
             "#f1b6da"
            ],
            [
             0.4,
             "#fde0ef"
            ],
            [
             0.5,
             "#f7f7f7"
            ],
            [
             0.6,
             "#e6f5d0"
            ],
            [
             0.7,
             "#b8e186"
            ],
            [
             0.8,
             "#7fbc41"
            ],
            [
             0.9,
             "#4d9221"
            ],
            [
             1,
             "#276419"
            ]
           ],
           "sequential": [
            [
             0,
             "#0d0887"
            ],
            [
             0.1111111111111111,
             "#46039f"
            ],
            [
             0.2222222222222222,
             "#7201a8"
            ],
            [
             0.3333333333333333,
             "#9c179e"
            ],
            [
             0.4444444444444444,
             "#bd3786"
            ],
            [
             0.5555555555555556,
             "#d8576b"
            ],
            [
             0.6666666666666666,
             "#ed7953"
            ],
            [
             0.7777777777777778,
             "#fb9f3a"
            ],
            [
             0.8888888888888888,
             "#fdca26"
            ],
            [
             1,
             "#f0f921"
            ]
           ],
           "sequentialminus": [
            [
             0,
             "#0d0887"
            ],
            [
             0.1111111111111111,
             "#46039f"
            ],
            [
             0.2222222222222222,
             "#7201a8"
            ],
            [
             0.3333333333333333,
             "#9c179e"
            ],
            [
             0.4444444444444444,
             "#bd3786"
            ],
            [
             0.5555555555555556,
             "#d8576b"
            ],
            [
             0.6666666666666666,
             "#ed7953"
            ],
            [
             0.7777777777777778,
             "#fb9f3a"
            ],
            [
             0.8888888888888888,
             "#fdca26"
            ],
            [
             1,
             "#f0f921"
            ]
           ]
          },
          "colorway": [
           "#636efa",
           "#EF553B",
           "#00cc96",
           "#ab63fa",
           "#FFA15A",
           "#19d3f3",
           "#FF6692",
           "#B6E880",
           "#FF97FF",
           "#FECB52"
          ],
          "font": {
           "color": "#2a3f5f"
          },
          "geo": {
           "bgcolor": "white",
           "lakecolor": "white",
           "landcolor": "#E5ECF6",
           "showlakes": true,
           "showland": true,
           "subunitcolor": "white"
          },
          "hoverlabel": {
           "align": "left"
          },
          "hovermode": "closest",
          "mapbox": {
           "style": "light"
          },
          "paper_bgcolor": "white",
          "plot_bgcolor": "#E5ECF6",
          "polar": {
           "angularaxis": {
            "gridcolor": "white",
            "linecolor": "white",
            "ticks": ""
           },
           "bgcolor": "#E5ECF6",
           "radialaxis": {
            "gridcolor": "white",
            "linecolor": "white",
            "ticks": ""
           }
          },
          "scene": {
           "xaxis": {
            "backgroundcolor": "#E5ECF6",
            "gridcolor": "white",
            "gridwidth": 2,
            "linecolor": "white",
            "showbackground": true,
            "ticks": "",
            "zerolinecolor": "white"
           },
           "yaxis": {
            "backgroundcolor": "#E5ECF6",
            "gridcolor": "white",
            "gridwidth": 2,
            "linecolor": "white",
            "showbackground": true,
            "ticks": "",
            "zerolinecolor": "white"
           },
           "zaxis": {
            "backgroundcolor": "#E5ECF6",
            "gridcolor": "white",
            "gridwidth": 2,
            "linecolor": "white",
            "showbackground": true,
            "ticks": "",
            "zerolinecolor": "white"
           }
          },
          "shapedefaults": {
           "line": {
            "color": "#2a3f5f"
           }
          },
          "ternary": {
           "aaxis": {
            "gridcolor": "white",
            "linecolor": "white",
            "ticks": ""
           },
           "baxis": {
            "gridcolor": "white",
            "linecolor": "white",
            "ticks": ""
           },
           "bgcolor": "#E5ECF6",
           "caxis": {
            "gridcolor": "white",
            "linecolor": "white",
            "ticks": ""
           }
          },
          "title": {
           "x": 0.05
          },
          "xaxis": {
           "automargin": true,
           "gridcolor": "white",
           "linecolor": "white",
           "ticks": "",
           "title": {
            "standoff": 15
           },
           "zerolinecolor": "white",
           "zerolinewidth": 2
          },
          "yaxis": {
           "automargin": true,
           "gridcolor": "white",
           "linecolor": "white",
           "ticks": "",
           "title": {
            "standoff": 15
           },
           "zerolinecolor": "white",
           "zerolinewidth": 2
          }
         }
        },
        "width": 800,
        "xaxis": {
         "anchor": "y",
         "domain": [
          0,
          0.2125
         ],
         "dtick": 1,
         "range": [
          1.5,
          9.5
         ],
         "title": {
          "text": "K"
         }
        },
        "xaxis2": {
         "anchor": "y2",
         "domain": [
          0.2625,
          0.475
         ],
         "dtick": 1,
         "range": [
          1.5,
          9.5
         ],
         "title": {
          "text": "K"
         }
        },
        "xaxis3": {
         "anchor": "y3",
         "domain": [
          0.525,
          0.7375
         ],
         "dtick": 1,
         "range": [
          1.5,
          9.5
         ],
         "title": {
          "text": "K"
         }
        },
        "xaxis4": {
         "anchor": "y4",
         "domain": [
          0.7875,
          1
         ],
         "dtick": 1,
         "range": [
          1.5,
          9.5
         ],
         "title": {
          "text": "K"
         }
        },
        "xaxis5": {
         "anchor": "y5",
         "domain": [
          0,
          0.2125
         ],
         "dtick": 1,
         "range": [
          1.5,
          9.5
         ],
         "title": {
          "text": "K"
         }
        },
        "xaxis6": {
         "anchor": "y6",
         "domain": [
          0.2625,
          0.475
         ],
         "dtick": 1,
         "range": [
          1.5,
          9.5
         ],
         "title": {
          "text": "K"
         }
        },
        "xaxis7": {
         "anchor": "y7",
         "domain": [
          0.525,
          0.7375
         ],
         "dtick": 1,
         "range": [
          1.5,
          9.5
         ],
         "title": {
          "text": "K"
         }
        },
        "xaxis8": {
         "anchor": "y8",
         "domain": [
          0.7875,
          1
         ],
         "dtick": 1,
         "range": [
          1.5,
          9.5
         ],
         "title": {
          "text": "K"
         }
        },
        "yaxis": {
         "anchor": "x",
         "domain": [
          0.625,
          1
         ],
         "range": [
          0,
          0.6
         ],
         "title": {
          "text": "default rate"
         }
        },
        "yaxis2": {
         "anchor": "x2",
         "domain": [
          0.625,
          1
         ],
         "matches": "y",
         "showticklabels": false
        },
        "yaxis3": {
         "anchor": "x3",
         "domain": [
          0.625,
          1
         ],
         "matches": "y",
         "showticklabels": false
        },
        "yaxis4": {
         "anchor": "x4",
         "domain": [
          0.625,
          1
         ],
         "matches": "y",
         "showticklabels": false
        },
        "yaxis5": {
         "anchor": "x5",
         "domain": [
          0,
          0.375
         ],
         "range": [
          0,
          0.6
         ],
         "title": {
          "text": "default rate"
         }
        },
        "yaxis6": {
         "anchor": "x6",
         "domain": [
          0,
          0.375
         ],
         "matches": "y5",
         "showticklabels": false
        },
        "yaxis7": {
         "anchor": "x7",
         "domain": [
          0,
          0.375
         ],
         "matches": "y5",
         "showticklabels": false
        },
        "yaxis8": {
         "anchor": "x8",
         "domain": [
          0,
          0.375
         ],
         "matches": "y5",
         "showticklabels": false
        }
       }
      }
     },
     "metadata": {},
     "output_type": "display_data"
    }
   ],
   "source": [
    "default_rate(defaultrate_data)"
   ]
  },
  {
   "cell_type": "code",
   "execution_count": 75,
   "metadata": {},
   "outputs": [
    {
     "data": {
      "application/vnd.plotly.v1+json": {
       "config": {
        "plotlyServerURL": "https://plot.ly"
       },
       "data": [
        {
         "marker": {
          "color": "blue"
         },
         "name": "EW, train",
         "showlegend": true,
         "type": "scatter",
         "x": [
          2,
          3,
          4,
          5,
          6,
          7,
          8,
          9
         ],
         "xaxis": "x",
         "y": [
          0.3122218478761306,
          0.3132645385909788,
          0.3096117704553728,
          0.301128746498424,
          0.3103975097683818,
          0.2964659807901434,
          0.2966242247347173,
          0.2928324181530475
         ],
         "yaxis": "y"
        },
        {
         "marker": {
          "color": "peru"
         },
         "name": "REG, train",
         "showlegend": true,
         "type": "scatter",
         "x": [
          2,
          3,
          4,
          5,
          6,
          7,
          8,
          9
         ],
         "xaxis": "x",
         "y": [
          0.31676367559165536,
          0.31762703554270694,
          0.3139353061590557,
          0.30307758821773984,
          0.30136267237623215,
          0.30129608571175376,
          0.2930330616190659,
          0.2943240837083916
         ],
         "yaxis": "y"
        },
        {
         "marker": {
          "color": "red"
         },
         "name": "LR, train",
         "showlegend": true,
         "type": "scatter",
         "x": [
          2,
          3,
          4,
          5,
          6,
          7,
          8,
          9
         ],
         "xaxis": "x",
         "y": [
          0.30781797277894435,
          0.29368539059827303,
          0.3021813601589656,
          0.2955431525455207,
          0.2974492907482857,
          0.29617666191771475,
          0.29746226497502903,
          0.29191773941964844
         ],
         "yaxis": "y"
        },
        {
         "marker": {
          "color": "green"
         },
         "name": "MI, train",
         "showlegend": true,
         "type": "scatter",
         "x": [
          2,
          3,
          4,
          5,
          6,
          7,
          8,
          9
         ],
         "xaxis": "x",
         "y": [
          0.308316357758814,
          0.3092973630751979,
          0.2993757922648873,
          0.2909569224507986,
          0.2829314689103686,
          0.28161945275302147,
          0.27707995491818627,
          0.2735234830886013
         ],
         "yaxis": "y"
        },
        {
         "line": {
          "dash": "dot"
         },
         "marker": {
          "color": "blue"
         },
         "name": "EW, test",
         "showlegend": true,
         "type": "scatter",
         "x": [
          2,
          3,
          4,
          5,
          6,
          7,
          8,
          9
         ],
         "xaxis": "x",
         "y": [
          0.38150068877671695,
          0.3870781235208741,
          0.385242733529588,
          0.382966014662948,
          0.38524270050164,
          0.38693352006860926,
          0.37740459341793775,
          0.3755848349167792
         ],
         "yaxis": "y"
        },
        {
         "line": {
          "dash": "dot"
         },
         "marker": {
          "color": "peru"
         },
         "name": "REG, test",
         "showlegend": true,
         "type": "scatter",
         "x": [
          2,
          3,
          4,
          5,
          6,
          7,
          8,
          9
         ],
         "xaxis": "x",
         "y": [
          0.38198318941984655,
          0.3753300023196531,
          0.3604627449451961,
          0.36074280878012027,
          0.35953924466918197,
          0.3573982698967696,
          0.35742048036485263,
          0.3519271762123004
         ],
         "yaxis": "y"
        },
        {
         "line": {
          "dash": "dot"
         },
         "marker": {
          "color": "red"
         },
         "name": "LR, test",
         "showlegend": true,
         "type": "scatter",
         "x": [
          2,
          3,
          4,
          5,
          6,
          7,
          8,
          9
         ],
         "xaxis": "x",
         "y": [
          0.36839114894926767,
          0.35316448630497993,
          0.36719741427548613,
          0.3622438555618124,
          0.3656576414471461,
          0.35803908144342445,
          0.3692430681455878,
          0.35702778351102027
         ],
         "yaxis": "y"
        },
        {
         "line": {
          "dash": "dot"
         },
         "marker": {
          "color": "green"
         },
         "name": "MI, test",
         "showlegend": true,
         "type": "scatter",
         "x": [
          2,
          3,
          4,
          5,
          6,
          7,
          8,
          9
         ],
         "xaxis": "x",
         "y": [
          0.3768248201496206,
          0.37768352927874993,
          0.37054001811295734,
          0.3634424524678128,
          0.3555604929584221,
          0.3495129238108104,
          0.3453681828982822,
          0.3366667618735957
         ],
         "yaxis": "y"
        },
        {
         "marker": {
          "color": "black"
         },
         "name": "K=1, train, test",
         "showlegend": true,
         "type": "scatter",
         "x": [
          2,
          9
         ],
         "xaxis": "x",
         "y": [
          0.3546,
          0.3546
         ],
         "yaxis": "y"
        },
        {
         "marker": {
          "color": "blue"
         },
         "name": "EW, train",
         "showlegend": false,
         "type": "scatter",
         "x": [
          2,
          3,
          4,
          5,
          6,
          7,
          8,
          9
         ],
         "xaxis": "x3",
         "y": [
          0.31886974664061896,
          0.3196147173544823,
          0.32005873053578,
          0.3113685182776649,
          0.310252351854972,
          0.31215251074306444,
          0.30660433436905454,
          0.3026763786415127
         ],
         "yaxis": "y3"
        },
        {
         "marker": {
          "color": "peru"
         },
         "name": "REG, train",
         "showlegend": false,
         "type": "scatter",
         "x": [
          2,
          3,
          4,
          5,
          6,
          7,
          8,
          9
         ],
         "xaxis": "x3",
         "y": [
          0.30580911357926266,
          0.29607503285152076,
          0.30097644327906964,
          0.29973014968557354,
          0.3047850906957017,
          0.30083392017607996,
          0.2978753802819688,
          0.2978578962988035
         ],
         "yaxis": "y3"
        },
        {
         "marker": {
          "color": "red"
         },
         "name": "LR, train",
         "showlegend": false,
         "type": "scatter",
         "x": [
          2,
          3,
          4,
          5,
          6,
          7,
          8,
          9
         ],
         "xaxis": "x3",
         "y": [
          0.30414244891341613,
          0.2986174097402677,
          0.3023903760446066,
          0.30311321253370294,
          0.3029916323091157,
          0.29073485295320267,
          0.2929574252667555,
          0.29044798478131756
         ],
         "yaxis": "y3"
        },
        {
         "marker": {
          "color": "green"
         },
         "name": "MI, train",
         "showlegend": false,
         "type": "scatter",
         "x": [
          2,
          3,
          4,
          5,
          6,
          7,
          8,
          9
         ],
         "xaxis": "x3",
         "y": [
          0.319047686260352,
          0.31690363539519384,
          0.3132489595497949,
          0.31749153845918504,
          0.30666374392389995,
          0.30542069734229305,
          0.3114119953454476,
          0.31184665229215214
         ],
         "yaxis": "y3"
        },
        {
         "line": {
          "dash": "dot"
         },
         "marker": {
          "color": "blue"
         },
         "name": "EW, test",
         "showlegend": false,
         "type": "scatter",
         "x": [
          2,
          3,
          4,
          5,
          6,
          7,
          8,
          9
         ],
         "xaxis": "x3",
         "y": [
          0.38569949567186157,
          0.38444190608191026,
          0.38541845292095156,
          0.37370850191234156,
          0.37049550352058125,
          0.368201941264423,
          0.37496764555983386,
          0.3633604662475041
         ],
         "yaxis": "y3"
        },
        {
         "line": {
          "dash": "dot"
         },
         "marker": {
          "color": "peru"
         },
         "name": "REG, test",
         "showlegend": false,
         "type": "scatter",
         "x": [
          2,
          3,
          4,
          5,
          6,
          7,
          8,
          9
         ],
         "xaxis": "x3",
         "y": [
          0.373733805228603,
          0.3631450147445626,
          0.3629796058324465,
          0.35655241207999144,
          0.3728287758040958,
          0.37022421871164496,
          0.37336608561879003,
          0.37051501841969436
         ],
         "yaxis": "y3"
        },
        {
         "line": {
          "dash": "dot"
         },
         "marker": {
          "color": "red"
         },
         "name": "LR, test",
         "showlegend": false,
         "type": "scatter",
         "x": [
          2,
          3,
          4,
          5,
          6,
          7,
          8,
          9
         ],
         "xaxis": "x3",
         "y": [
          0.37353216598461075,
          0.36000635896270977,
          0.38071483480126134,
          0.38124758894503324,
          0.3724349503988141,
          0.3375798945095536,
          0.35582640966803525,
          0.34908533216688536
         ],
         "yaxis": "y3"
        },
        {
         "line": {
          "dash": "dot"
         },
         "marker": {
          "color": "green"
         },
         "name": "MI, test",
         "showlegend": false,
         "type": "scatter",
         "x": [
          2,
          3,
          4,
          5,
          6,
          7,
          8,
          9
         ],
         "xaxis": "x3",
         "y": [
          0.3885582223335726,
          0.38243810760388025,
          0.3736150964981473,
          0.3723028841776275,
          0.35274873980753446,
          0.3506739320422841,
          0.359663848653041,
          0.3533725613557517
         ],
         "yaxis": "y3"
        },
        {
         "marker": {
          "color": "black"
         },
         "name": "K=1, train, test",
         "showlegend": false,
         "type": "scatter",
         "x": [
          2,
          9
         ],
         "xaxis": "x3",
         "y": [
          0.3546,
          0.3546
         ],
         "yaxis": "y3"
        },
        {
         "marker": {
          "color": "blue"
         },
         "name": "EW, train",
         "showlegend": false,
         "type": "scatter",
         "x": [
          2,
          3,
          4,
          5,
          6,
          7,
          8,
          9
         ],
         "xaxis": "x5",
         "y": [
          0.31645312594640385,
          0.31580387452068864,
          0.31506436972653024,
          0.31068700441338143,
          0.31463728075267305,
          0.315479859743767,
          0.3107886645333504,
          0.3036958378949337
         ],
         "yaxis": "y5"
        },
        {
         "marker": {
          "color": "peru"
         },
         "name": "REG, train",
         "showlegend": false,
         "type": "scatter",
         "x": [
          2,
          3,
          4,
          5,
          6,
          7,
          8,
          9
         ],
         "xaxis": "x5",
         "y": [
          0.3207776195307899,
          0.31261410262330014,
          0.29969049601486797,
          0.30226593542477653,
          0.29756231680287226,
          0.30043717941607395,
          0.2978072093050744,
          0.2995721333132588
         ],
         "yaxis": "y5"
        },
        {
         "marker": {
          "color": "red"
         },
         "name": "LR, train",
         "showlegend": false,
         "type": "scatter",
         "x": [
          2,
          3,
          4,
          5,
          6,
          7,
          8,
          9
         ],
         "xaxis": "x5",
         "y": [
          0.3202279317250068,
          0.3093393668982158,
          0.3057099870165516,
          0.3088502820739869,
          0.3110678733002308,
          0.3100679548356975,
          0.31039836056806724,
          0.30857881267299203
         ],
         "yaxis": "y5"
        },
        {
         "marker": {
          "color": "green"
         },
         "name": "MI, train",
         "showlegend": false,
         "type": "scatter",
         "x": [
          2,
          3,
          4,
          5,
          6,
          7,
          8,
          9
         ],
         "xaxis": "x5",
         "y": [
          0.3132519914854358,
          0.3039515958089422,
          0.3149814010139884,
          0.30247308345990526,
          0.2936143787840102,
          0.3020399989023426,
          0.2933179729365464,
          0.2882008345145237
         ],
         "yaxis": "y5"
        },
        {
         "line": {
          "dash": "dot"
         },
         "marker": {
          "color": "blue"
         },
         "name": "EW, test",
         "showlegend": false,
         "type": "scatter",
         "x": [
          2,
          3,
          4,
          5,
          6,
          7,
          8,
          9
         ],
         "xaxis": "x5",
         "y": [
          0.38374738779728523,
          0.3866465244550388,
          0.3836865738713914,
          0.3833077476310481,
          0.3850355547927118,
          0.385027592898809,
          0.38461486597496825,
          0.38373344869986736
         ],
         "yaxis": "y5"
        },
        {
         "line": {
          "dash": "dot"
         },
         "marker": {
          "color": "peru"
         },
         "name": "REG, test",
         "showlegend": false,
         "type": "scatter",
         "x": [
          2,
          3,
          4,
          5,
          6,
          7,
          8,
          9
         ],
         "xaxis": "x5",
         "y": [
          0.3762699119704572,
          0.38185757185862124,
          0.32890985211446494,
          0.36642610157423705,
          0.3626362927099816,
          0.3448017162743035,
          0.362278252844423,
          0.3561713318107219
         ],
         "yaxis": "y5"
        },
        {
         "line": {
          "dash": "dot"
         },
         "marker": {
          "color": "red"
         },
         "name": "LR, test",
         "showlegend": false,
         "type": "scatter",
         "x": [
          2,
          3,
          4,
          5,
          6,
          7,
          8,
          9
         ],
         "xaxis": "x5",
         "y": [
          0.38923972946146973,
          0.35722747113373665,
          0.3586059748246906,
          0.36492820038771934,
          0.3700796254761347,
          0.3631679225282071,
          0.3816328514931847,
          0.3646818930056568
         ],
         "yaxis": "y5"
        },
        {
         "line": {
          "dash": "dot"
         },
         "marker": {
          "color": "green"
         },
         "name": "MI, test",
         "showlegend": false,
         "type": "scatter",
         "x": [
          2,
          3,
          4,
          5,
          6,
          7,
          8,
          9
         ],
         "xaxis": "x5",
         "y": [
          0.3796604970881845,
          0.37065812590407865,
          0.3733675018878062,
          0.3678724338849429,
          0.3467512024309906,
          0.34541650057959067,
          0.35084851987490007,
          0.35308023721152226
         ],
         "yaxis": "y5"
        },
        {
         "marker": {
          "color": "black"
         },
         "name": "K=1, train, test",
         "showlegend": false,
         "type": "scatter",
         "x": [
          2,
          9
         ],
         "xaxis": "x5",
         "y": [
          0.3546,
          0.3546
         ],
         "yaxis": "y5"
        },
        {
         "marker": {
          "color": "blue"
         },
         "name": "EW, train",
         "showlegend": false,
         "type": "scatter",
         "x": [
          2,
          3,
          4,
          5,
          6,
          7,
          8,
          9
         ],
         "xaxis": "x2",
         "y": [
          0.31830317546795384,
          0.3128119369662826,
          0.31456796962703615,
          0.28440884203124944,
          0.2811453760342444,
          0.2763812504109267,
          0.2755316826510158,
          0.27472787426628353
         ],
         "yaxis": "y2"
        },
        {
         "marker": {
          "color": "peru"
         },
         "name": "REG, train",
         "showlegend": false,
         "type": "scatter",
         "x": [
          2,
          3,
          4,
          5,
          6,
          7,
          8,
          9
         ],
         "xaxis": "x2",
         "y": [
          0.31165570688688937,
          0.3065557988455242,
          0.27854239501763856,
          0.28170598449761985,
          0.27670191873064487,
          0.27457088328325374,
          0.2717514972524242,
          0.2716959946336671
         ],
         "yaxis": "y2"
        },
        {
         "marker": {
          "color": "red"
         },
         "name": "LR, train",
         "showlegend": false,
         "type": "scatter",
         "x": [
          2,
          3,
          4,
          5,
          6,
          7,
          8,
          9
         ],
         "xaxis": "x2",
         "y": [
          0.3193398041260148,
          0.28699499129103745,
          0.2861443423462154,
          0.2815329575364901,
          0.27644049288880773,
          0.27793077614277456,
          0.26907745904007996,
          0.2694544986315715
         ],
         "yaxis": "y2"
        },
        {
         "marker": {
          "color": "green"
         },
         "name": "MI, train",
         "showlegend": false,
         "type": "scatter",
         "x": [
          2,
          3,
          4,
          5,
          6,
          7,
          8,
          9
         ],
         "xaxis": "x2",
         "y": [
          0.2870624474660974,
          0.2824540354230393,
          0.28158077059616526,
          0.2693652161113261,
          0.2702049801643927,
          0.26961432858764267,
          0.2705847148165316,
          0.26797840530553246
         ],
         "yaxis": "y2"
        },
        {
         "line": {
          "dash": "dot"
         },
         "marker": {
          "color": "blue"
         },
         "name": "EW, test",
         "showlegend": false,
         "type": "scatter",
         "x": [
          2,
          3,
          4,
          5,
          6,
          7,
          8,
          9
         ],
         "xaxis": "x2",
         "y": [
          0.38977698189275367,
          0.374558360549011,
          0.3734693987766131,
          0.30006231551099105,
          0.284372076870879,
          0.28302923525541646,
          0.2823668208860067,
          0.2792037304673159
         ],
         "yaxis": "y2"
        },
        {
         "line": {
          "dash": "dot"
         },
         "marker": {
          "color": "peru"
         },
         "name": "REG, test",
         "showlegend": false,
         "type": "scatter",
         "x": [
          2,
          3,
          4,
          5,
          6,
          7,
          8,
          9
         ],
         "xaxis": "x2",
         "y": [
          0.37907222773491567,
          0.3753705341641322,
          0.29936869807488553,
          0.2866830832644299,
          0.25751492353085853,
          0.25410059158300047,
          0.24684920705589036,
          0.24331719124808884
         ],
         "yaxis": "y2"
        },
        {
         "line": {
          "dash": "dot"
         },
         "marker": {
          "color": "red"
         },
         "name": "LR, test",
         "showlegend": false,
         "type": "scatter",
         "x": [
          2,
          3,
          4,
          5,
          6,
          7,
          8,
          9
         ],
         "xaxis": "x2",
         "y": [
          0.39026848311475065,
          0.3056217847562183,
          0.3056654094750503,
          0.28902459722496676,
          0.28782527935438634,
          0.2854545510920937,
          0.276491546525624,
          0.27562330592978523
         ],
         "yaxis": "y2"
        },
        {
         "line": {
          "dash": "dot"
         },
         "marker": {
          "color": "green"
         },
         "name": "MI, test",
         "showlegend": false,
         "type": "scatter",
         "x": [
          2,
          3,
          4,
          5,
          6,
          7,
          8,
          9
         ],
         "xaxis": "x2",
         "y": [
          0.3061897427276263,
          0.2900497577301011,
          0.2897438971784718,
          0.2883161281406606,
          0.2870968269154761,
          0.28504577530716696,
          0.28441732223895405,
          0.2840980294301879
         ],
         "yaxis": "y2"
        },
        {
         "marker": {
          "color": "black"
         },
         "name": "K=1, train, test",
         "showlegend": false,
         "type": "scatter",
         "x": [
          2,
          9
         ],
         "xaxis": "x2",
         "y": [
          0.3546,
          0.3546
         ],
         "yaxis": "y2"
        },
        {
         "marker": {
          "color": "blue"
         },
         "name": "EW, train",
         "showlegend": false,
         "type": "scatter",
         "x": [
          2,
          3,
          4,
          5,
          6,
          7,
          8,
          9
         ],
         "xaxis": "x4",
         "y": [
          0.3187516106190722,
          0.3182021834395272,
          0.31505454459895016,
          0.303184009278366,
          0.28290976157528885,
          0.2660389964729997,
          0.26140887222101966,
          0.26050334656056034
         ],
         "yaxis": "y4"
        },
        {
         "marker": {
          "color": "peru"
         },
         "name": "REG, train",
         "showlegend": false,
         "type": "scatter",
         "x": [
          2,
          3,
          4,
          5,
          6,
          7,
          8,
          9
         ],
         "xaxis": "x4",
         "y": [
          0.30119035488070733,
          0.2972230874636439,
          0.28207032068998866,
          0.28002626307000394,
          0.27700994310055554,
          0.2743283201221005,
          0.2715973379055382,
          0.2702869841739165
         ],
         "yaxis": "y4"
        },
        {
         "marker": {
          "color": "red"
         },
         "name": "LR, train",
         "showlegend": false,
         "type": "scatter",
         "x": [
          2,
          3,
          4,
          5,
          6,
          7,
          8,
          9
         ],
         "xaxis": "x4",
         "y": [
          0.2917287696447873,
          0.28889590390639586,
          0.2835551761025269,
          0.28465470598731485,
          0.27458021976345526,
          0.2735285279183321,
          0.2732817728971317,
          0.2718294234050377
         ],
         "yaxis": "y4"
        },
        {
         "marker": {
          "color": "green"
         },
         "name": "MI, train",
         "showlegend": false,
         "type": "scatter",
         "x": [
          2,
          3,
          4,
          5,
          6,
          7,
          8,
          9
         ],
         "xaxis": "x4",
         "y": [
          0.31682946726198147,
          0.3183244805716171,
          0.28573899080668014,
          0.28538401859635265,
          0.28463418074632324,
          0.2854251734569642,
          0.28182667408295503,
          0.2788792715899404
         ],
         "yaxis": "y4"
        },
        {
         "line": {
          "dash": "dot"
         },
         "marker": {
          "color": "blue"
         },
         "name": "EW, test",
         "showlegend": false,
         "type": "scatter",
         "x": [
          2,
          3,
          4,
          5,
          6,
          7,
          8,
          9
         ],
         "xaxis": "x4",
         "y": [
          0.3898790209843186,
          0.38780157465352977,
          0.3826239806820226,
          0.3784225653465282,
          0.2962977158347558,
          0.24896036697418464,
          0.244304017677591,
          0.24379227197262363
         ],
         "yaxis": "y4"
        },
        {
         "line": {
          "dash": "dot"
         },
         "marker": {
          "color": "peru"
         },
         "name": "REG, test",
         "showlegend": false,
         "type": "scatter",
         "x": [
          2,
          3,
          4,
          5,
          6,
          7,
          8,
          9
         ],
         "xaxis": "x4",
         "y": [
          0.3546101755037168,
          0.35127948247739804,
          0.33288676838407766,
          0.2981416668466155,
          0.29702627565948914,
          0.29547879874818417,
          0.29516858022975373,
          0.2940145864050573
         ],
         "yaxis": "y4"
        },
        {
         "line": {
          "dash": "dot"
         },
         "marker": {
          "color": "red"
         },
         "name": "LR, test",
         "showlegend": false,
         "type": "scatter",
         "x": [
          2,
          3,
          4,
          5,
          6,
          7,
          8,
          9
         ],
         "xaxis": "x4",
         "y": [
          0.33061615034812397,
          0.32139553679535515,
          0.3184098766986033,
          0.3086166625410022,
          0.3154735448907273,
          0.31517085701060593,
          0.31435283695189337,
          0.3135771507597496
         ],
         "yaxis": "y4"
        },
        {
         "line": {
          "dash": "dot"
         },
         "marker": {
          "color": "green"
         },
         "name": "MI, test",
         "showlegend": false,
         "type": "scatter",
         "x": [
          2,
          3,
          4,
          5,
          6,
          7,
          8,
          9
         ],
         "xaxis": "x4",
         "y": [
          0.3893890021979517,
          0.38104737194990107,
          0.29840417323822394,
          0.2966477262177162,
          0.2959740849953362,
          0.2985078294189151,
          0.29668048443054157,
          0.2980474876084368
         ],
         "yaxis": "y4"
        },
        {
         "marker": {
          "color": "black"
         },
         "name": "K=1, train, test",
         "showlegend": false,
         "type": "scatter",
         "x": [
          2,
          9
         ],
         "xaxis": "x4",
         "y": [
          0.3546,
          0.3546
         ],
         "yaxis": "y4"
        },
        {
         "marker": {
          "color": "blue"
         },
         "name": "EW, train",
         "showlegend": false,
         "type": "scatter",
         "x": [
          2,
          3,
          4,
          5,
          6,
          7,
          8,
          9
         ],
         "xaxis": "x6",
         "y": [
          0.3183278643587204,
          0.31360693744817925,
          0.3081591317384707,
          0.30769900670697936,
          0.3089076890517518,
          0.2756871537971951,
          0.27461361031820203,
          0.27416401346881303
         ],
         "yaxis": "y6"
        },
        {
         "marker": {
          "color": "peru"
         },
         "name": "REG, train",
         "showlegend": false,
         "type": "scatter",
         "x": [
          2,
          3,
          4,
          5,
          6,
          7,
          8,
          9
         ],
         "xaxis": "x6",
         "y": [
          0.3142062522328351,
          0.28429746563334235,
          0.2829701102011208,
          0.28295647552657355,
          0.2812869968325259,
          0.27980807437963495,
          0.27603593704941065,
          0.27204950283405405
         ],
         "yaxis": "y6"
        },
        {
         "marker": {
          "color": "red"
         },
         "name": "LR, train",
         "showlegend": false,
         "type": "scatter",
         "x": [
          2,
          3,
          4,
          5,
          6,
          7,
          8,
          9
         ],
         "xaxis": "x6",
         "y": [
          0.31738782869013654,
          0.31577239146491776,
          0.313775041276042,
          0.31362766234112077,
          0.2807219758314308,
          0.27639428675043665,
          0.274811587650753,
          0.2724598346426188
         ],
         "yaxis": "y6"
        },
        {
         "marker": {
          "color": "green"
         },
         "name": "MI, train",
         "showlegend": false,
         "type": "scatter",
         "x": [
          2,
          3,
          4,
          5,
          6,
          7,
          8,
          9
         ],
         "xaxis": "x6",
         "y": [
          0.31469480033906216,
          0.3151817483916756,
          0.3141872343244808,
          0.3139853120992469,
          0.3149443473614352,
          0.31471824722947683,
          0.3107011204063314,
          0.3105707655136982
         ],
         "yaxis": "y6"
        },
        {
         "line": {
          "dash": "dot"
         },
         "marker": {
          "color": "blue"
         },
         "name": "EW, test",
         "showlegend": false,
         "type": "scatter",
         "x": [
          2,
          3,
          4,
          5,
          6,
          7,
          8,
          9
         ],
         "xaxis": "x6",
         "y": [
          0.39031570593427256,
          0.37592805455793993,
          0.3724630813976399,
          0.3716292223925973,
          0.3692882459176346,
          0.2912803896506087,
          0.2907455795469249,
          0.2906971748839349
         ],
         "yaxis": "y6"
        },
        {
         "line": {
          "dash": "dot"
         },
         "marker": {
          "color": "peru"
         },
         "name": "REG, test",
         "showlegend": false,
         "type": "scatter",
         "x": [
          2,
          3,
          4,
          5,
          6,
          7,
          8,
          9
         ],
         "xaxis": "x6",
         "y": [
          0.3878742982456107,
          0.30617314570712706,
          0.2971463174807505,
          0.29630109660637693,
          0.2929308284542886,
          0.2956350780466018,
          0.2919913371404022,
          0.2532879805032755
         ],
         "yaxis": "y6"
        },
        {
         "line": {
          "dash": "dot"
         },
         "marker": {
          "color": "red"
         },
         "name": "LR, test",
         "showlegend": false,
         "type": "scatter",
         "x": [
          2,
          3,
          4,
          5,
          6,
          7,
          8,
          9
         ],
         "xaxis": "x6",
         "y": [
          0.3884003218479543,
          0.37980448041904236,
          0.3768560643087274,
          0.3764371589902224,
          0.32700817475337296,
          0.328648053119806,
          0.32709465830786055,
          0.3273372217767648
         ],
         "yaxis": "y6"
        },
        {
         "line": {
          "dash": "dot"
         },
         "marker": {
          "color": "green"
         },
         "name": "MI, test",
         "showlegend": false,
         "type": "scatter",
         "x": [
          2,
          3,
          4,
          5,
          6,
          7,
          8,
          9
         ],
         "xaxis": "x6",
         "y": [
          0.3897519161758529,
          0.3861320730464506,
          0.3819872111236654,
          0.3796415019296517,
          0.37736045395818907,
          0.37202264387396355,
          0.3715162558103606,
          0.3717474791053529
         ],
         "yaxis": "y6"
        },
        {
         "marker": {
          "color": "black"
         },
         "name": "K=1, train, test",
         "showlegend": false,
         "type": "scatter",
         "x": [
          2,
          9
         ],
         "xaxis": "x6",
         "y": [
          0.3546,
          0.3546
         ],
         "yaxis": "y6"
        }
       ],
       "layout": {
        "annotations": [
         {
          "font": {
           "size": 16
          },
          "showarrow": false,
          "text": "All, original",
          "x": 0.225,
          "xanchor": "center",
          "xref": "paper",
          "y": 1,
          "yanchor": "bottom",
          "yref": "paper"
         },
         {
          "font": {
           "size": 16
          },
          "showarrow": false,
          "text": "POS, original",
          "x": 0.775,
          "xanchor": "center",
          "xref": "paper",
          "y": 1,
          "yanchor": "bottom",
          "yref": "paper"
         },
         {
          "font": {
           "size": 16
          },
          "showarrow": false,
          "text": "All, quadratic",
          "x": 0.225,
          "xanchor": "center",
          "xref": "paper",
          "y": 0.6111111111111112,
          "yanchor": "bottom",
          "yref": "paper"
         },
         {
          "font": {
           "size": 16
          },
          "showarrow": false,
          "text": "POS, quadratic",
          "x": 0.775,
          "xanchor": "center",
          "xref": "paper",
          "y": 0.6111111111111112,
          "yanchor": "bottom",
          "yref": "paper"
         },
         {
          "font": {
           "size": 16
          },
          "showarrow": false,
          "text": "All, cubic",
          "x": 0.225,
          "xanchor": "center",
          "xref": "paper",
          "y": 0.22222222222222224,
          "yanchor": "bottom",
          "yref": "paper"
         },
         {
          "font": {
           "size": 16
          },
          "showarrow": false,
          "text": "POS, cubic",
          "x": 0.775,
          "xanchor": "center",
          "xref": "paper",
          "y": 0.22222222222222224,
          "yanchor": "bottom",
          "yref": "paper"
         },
         {
          "font": {
           "size": 16
          },
          "showarrow": false,
          "text": "K",
          "x": 0.5,
          "xanchor": "center",
          "xref": "paper",
          "y": 0,
          "yanchor": "top",
          "yref": "paper",
          "yshift": -30
         },
         {
          "font": {
           "size": 16
          },
          "showarrow": false,
          "text": "Entropy",
          "textangle": -90,
          "x": 0,
          "xanchor": "right",
          "xref": "paper",
          "xshift": -40,
          "y": 0.5,
          "yanchor": "middle",
          "yref": "paper"
         }
        ],
        "height": 800,
        "template": {
         "data": {
          "bar": [
           {
            "error_x": {
             "color": "#2a3f5f"
            },
            "error_y": {
             "color": "#2a3f5f"
            },
            "marker": {
             "line": {
              "color": "#E5ECF6",
              "width": 0.5
             },
             "pattern": {
              "fillmode": "overlay",
              "size": 10,
              "solidity": 0.2
             }
            },
            "type": "bar"
           }
          ],
          "barpolar": [
           {
            "marker": {
             "line": {
              "color": "#E5ECF6",
              "width": 0.5
             },
             "pattern": {
              "fillmode": "overlay",
              "size": 10,
              "solidity": 0.2
             }
            },
            "type": "barpolar"
           }
          ],
          "carpet": [
           {
            "aaxis": {
             "endlinecolor": "#2a3f5f",
             "gridcolor": "white",
             "linecolor": "white",
             "minorgridcolor": "white",
             "startlinecolor": "#2a3f5f"
            },
            "baxis": {
             "endlinecolor": "#2a3f5f",
             "gridcolor": "white",
             "linecolor": "white",
             "minorgridcolor": "white",
             "startlinecolor": "#2a3f5f"
            },
            "type": "carpet"
           }
          ],
          "choropleth": [
           {
            "colorbar": {
             "outlinewidth": 0,
             "ticks": ""
            },
            "type": "choropleth"
           }
          ],
          "contour": [
           {
            "colorbar": {
             "outlinewidth": 0,
             "ticks": ""
            },
            "colorscale": [
             [
              0,
              "#0d0887"
             ],
             [
              0.1111111111111111,
              "#46039f"
             ],
             [
              0.2222222222222222,
              "#7201a8"
             ],
             [
              0.3333333333333333,
              "#9c179e"
             ],
             [
              0.4444444444444444,
              "#bd3786"
             ],
             [
              0.5555555555555556,
              "#d8576b"
             ],
             [
              0.6666666666666666,
              "#ed7953"
             ],
             [
              0.7777777777777778,
              "#fb9f3a"
             ],
             [
              0.8888888888888888,
              "#fdca26"
             ],
             [
              1,
              "#f0f921"
             ]
            ],
            "type": "contour"
           }
          ],
          "contourcarpet": [
           {
            "colorbar": {
             "outlinewidth": 0,
             "ticks": ""
            },
            "type": "contourcarpet"
           }
          ],
          "heatmap": [
           {
            "colorbar": {
             "outlinewidth": 0,
             "ticks": ""
            },
            "colorscale": [
             [
              0,
              "#0d0887"
             ],
             [
              0.1111111111111111,
              "#46039f"
             ],
             [
              0.2222222222222222,
              "#7201a8"
             ],
             [
              0.3333333333333333,
              "#9c179e"
             ],
             [
              0.4444444444444444,
              "#bd3786"
             ],
             [
              0.5555555555555556,
              "#d8576b"
             ],
             [
              0.6666666666666666,
              "#ed7953"
             ],
             [
              0.7777777777777778,
              "#fb9f3a"
             ],
             [
              0.8888888888888888,
              "#fdca26"
             ],
             [
              1,
              "#f0f921"
             ]
            ],
            "type": "heatmap"
           }
          ],
          "heatmapgl": [
           {
            "colorbar": {
             "outlinewidth": 0,
             "ticks": ""
            },
            "colorscale": [
             [
              0,
              "#0d0887"
             ],
             [
              0.1111111111111111,
              "#46039f"
             ],
             [
              0.2222222222222222,
              "#7201a8"
             ],
             [
              0.3333333333333333,
              "#9c179e"
             ],
             [
              0.4444444444444444,
              "#bd3786"
             ],
             [
              0.5555555555555556,
              "#d8576b"
             ],
             [
              0.6666666666666666,
              "#ed7953"
             ],
             [
              0.7777777777777778,
              "#fb9f3a"
             ],
             [
              0.8888888888888888,
              "#fdca26"
             ],
             [
              1,
              "#f0f921"
             ]
            ],
            "type": "heatmapgl"
           }
          ],
          "histogram": [
           {
            "marker": {
             "pattern": {
              "fillmode": "overlay",
              "size": 10,
              "solidity": 0.2
             }
            },
            "type": "histogram"
           }
          ],
          "histogram2d": [
           {
            "colorbar": {
             "outlinewidth": 0,
             "ticks": ""
            },
            "colorscale": [
             [
              0,
              "#0d0887"
             ],
             [
              0.1111111111111111,
              "#46039f"
             ],
             [
              0.2222222222222222,
              "#7201a8"
             ],
             [
              0.3333333333333333,
              "#9c179e"
             ],
             [
              0.4444444444444444,
              "#bd3786"
             ],
             [
              0.5555555555555556,
              "#d8576b"
             ],
             [
              0.6666666666666666,
              "#ed7953"
             ],
             [
              0.7777777777777778,
              "#fb9f3a"
             ],
             [
              0.8888888888888888,
              "#fdca26"
             ],
             [
              1,
              "#f0f921"
             ]
            ],
            "type": "histogram2d"
           }
          ],
          "histogram2dcontour": [
           {
            "colorbar": {
             "outlinewidth": 0,
             "ticks": ""
            },
            "colorscale": [
             [
              0,
              "#0d0887"
             ],
             [
              0.1111111111111111,
              "#46039f"
             ],
             [
              0.2222222222222222,
              "#7201a8"
             ],
             [
              0.3333333333333333,
              "#9c179e"
             ],
             [
              0.4444444444444444,
              "#bd3786"
             ],
             [
              0.5555555555555556,
              "#d8576b"
             ],
             [
              0.6666666666666666,
              "#ed7953"
             ],
             [
              0.7777777777777778,
              "#fb9f3a"
             ],
             [
              0.8888888888888888,
              "#fdca26"
             ],
             [
              1,
              "#f0f921"
             ]
            ],
            "type": "histogram2dcontour"
           }
          ],
          "mesh3d": [
           {
            "colorbar": {
             "outlinewidth": 0,
             "ticks": ""
            },
            "type": "mesh3d"
           }
          ],
          "parcoords": [
           {
            "line": {
             "colorbar": {
              "outlinewidth": 0,
              "ticks": ""
             }
            },
            "type": "parcoords"
           }
          ],
          "pie": [
           {
            "automargin": true,
            "type": "pie"
           }
          ],
          "scatter": [
           {
            "fillpattern": {
             "fillmode": "overlay",
             "size": 10,
             "solidity": 0.2
            },
            "type": "scatter"
           }
          ],
          "scatter3d": [
           {
            "line": {
             "colorbar": {
              "outlinewidth": 0,
              "ticks": ""
             }
            },
            "marker": {
             "colorbar": {
              "outlinewidth": 0,
              "ticks": ""
             }
            },
            "type": "scatter3d"
           }
          ],
          "scattercarpet": [
           {
            "marker": {
             "colorbar": {
              "outlinewidth": 0,
              "ticks": ""
             }
            },
            "type": "scattercarpet"
           }
          ],
          "scattergeo": [
           {
            "marker": {
             "colorbar": {
              "outlinewidth": 0,
              "ticks": ""
             }
            },
            "type": "scattergeo"
           }
          ],
          "scattergl": [
           {
            "marker": {
             "colorbar": {
              "outlinewidth": 0,
              "ticks": ""
             }
            },
            "type": "scattergl"
           }
          ],
          "scattermapbox": [
           {
            "marker": {
             "colorbar": {
              "outlinewidth": 0,
              "ticks": ""
             }
            },
            "type": "scattermapbox"
           }
          ],
          "scatterpolar": [
           {
            "marker": {
             "colorbar": {
              "outlinewidth": 0,
              "ticks": ""
             }
            },
            "type": "scatterpolar"
           }
          ],
          "scatterpolargl": [
           {
            "marker": {
             "colorbar": {
              "outlinewidth": 0,
              "ticks": ""
             }
            },
            "type": "scatterpolargl"
           }
          ],
          "scatterternary": [
           {
            "marker": {
             "colorbar": {
              "outlinewidth": 0,
              "ticks": ""
             }
            },
            "type": "scatterternary"
           }
          ],
          "surface": [
           {
            "colorbar": {
             "outlinewidth": 0,
             "ticks": ""
            },
            "colorscale": [
             [
              0,
              "#0d0887"
             ],
             [
              0.1111111111111111,
              "#46039f"
             ],
             [
              0.2222222222222222,
              "#7201a8"
             ],
             [
              0.3333333333333333,
              "#9c179e"
             ],
             [
              0.4444444444444444,
              "#bd3786"
             ],
             [
              0.5555555555555556,
              "#d8576b"
             ],
             [
              0.6666666666666666,
              "#ed7953"
             ],
             [
              0.7777777777777778,
              "#fb9f3a"
             ],
             [
              0.8888888888888888,
              "#fdca26"
             ],
             [
              1,
              "#f0f921"
             ]
            ],
            "type": "surface"
           }
          ],
          "table": [
           {
            "cells": {
             "fill": {
              "color": "#EBF0F8"
             },
             "line": {
              "color": "white"
             }
            },
            "header": {
             "fill": {
              "color": "#C8D4E3"
             },
             "line": {
              "color": "white"
             }
            },
            "type": "table"
           }
          ]
         },
         "layout": {
          "annotationdefaults": {
           "arrowcolor": "#2a3f5f",
           "arrowhead": 0,
           "arrowwidth": 1
          },
          "autotypenumbers": "strict",
          "coloraxis": {
           "colorbar": {
            "outlinewidth": 0,
            "ticks": ""
           }
          },
          "colorscale": {
           "diverging": [
            [
             0,
             "#8e0152"
            ],
            [
             0.1,
             "#c51b7d"
            ],
            [
             0.2,
             "#de77ae"
            ],
            [
             0.3,
             "#f1b6da"
            ],
            [
             0.4,
             "#fde0ef"
            ],
            [
             0.5,
             "#f7f7f7"
            ],
            [
             0.6,
             "#e6f5d0"
            ],
            [
             0.7,
             "#b8e186"
            ],
            [
             0.8,
             "#7fbc41"
            ],
            [
             0.9,
             "#4d9221"
            ],
            [
             1,
             "#276419"
            ]
           ],
           "sequential": [
            [
             0,
             "#0d0887"
            ],
            [
             0.1111111111111111,
             "#46039f"
            ],
            [
             0.2222222222222222,
             "#7201a8"
            ],
            [
             0.3333333333333333,
             "#9c179e"
            ],
            [
             0.4444444444444444,
             "#bd3786"
            ],
            [
             0.5555555555555556,
             "#d8576b"
            ],
            [
             0.6666666666666666,
             "#ed7953"
            ],
            [
             0.7777777777777778,
             "#fb9f3a"
            ],
            [
             0.8888888888888888,
             "#fdca26"
            ],
            [
             1,
             "#f0f921"
            ]
           ],
           "sequentialminus": [
            [
             0,
             "#0d0887"
            ],
            [
             0.1111111111111111,
             "#46039f"
            ],
            [
             0.2222222222222222,
             "#7201a8"
            ],
            [
             0.3333333333333333,
             "#9c179e"
            ],
            [
             0.4444444444444444,
             "#bd3786"
            ],
            [
             0.5555555555555556,
             "#d8576b"
            ],
            [
             0.6666666666666666,
             "#ed7953"
            ],
            [
             0.7777777777777778,
             "#fb9f3a"
            ],
            [
             0.8888888888888888,
             "#fdca26"
            ],
            [
             1,
             "#f0f921"
            ]
           ]
          },
          "colorway": [
           "#636efa",
           "#EF553B",
           "#00cc96",
           "#ab63fa",
           "#FFA15A",
           "#19d3f3",
           "#FF6692",
           "#B6E880",
           "#FF97FF",
           "#FECB52"
          ],
          "font": {
           "color": "#2a3f5f"
          },
          "geo": {
           "bgcolor": "white",
           "lakecolor": "white",
           "landcolor": "#E5ECF6",
           "showlakes": true,
           "showland": true,
           "subunitcolor": "white"
          },
          "hoverlabel": {
           "align": "left"
          },
          "hovermode": "closest",
          "mapbox": {
           "style": "light"
          },
          "paper_bgcolor": "white",
          "plot_bgcolor": "#E5ECF6",
          "polar": {
           "angularaxis": {
            "gridcolor": "white",
            "linecolor": "white",
            "ticks": ""
           },
           "bgcolor": "#E5ECF6",
           "radialaxis": {
            "gridcolor": "white",
            "linecolor": "white",
            "ticks": ""
           }
          },
          "scene": {
           "xaxis": {
            "backgroundcolor": "#E5ECF6",
            "gridcolor": "white",
            "gridwidth": 2,
            "linecolor": "white",
            "showbackground": true,
            "ticks": "",
            "zerolinecolor": "white"
           },
           "yaxis": {
            "backgroundcolor": "#E5ECF6",
            "gridcolor": "white",
            "gridwidth": 2,
            "linecolor": "white",
            "showbackground": true,
            "ticks": "",
            "zerolinecolor": "white"
           },
           "zaxis": {
            "backgroundcolor": "#E5ECF6",
            "gridcolor": "white",
            "gridwidth": 2,
            "linecolor": "white",
            "showbackground": true,
            "ticks": "",
            "zerolinecolor": "white"
           }
          },
          "shapedefaults": {
           "line": {
            "color": "#2a3f5f"
           }
          },
          "ternary": {
           "aaxis": {
            "gridcolor": "white",
            "linecolor": "white",
            "ticks": ""
           },
           "baxis": {
            "gridcolor": "white",
            "linecolor": "white",
            "ticks": ""
           },
           "bgcolor": "#E5ECF6",
           "caxis": {
            "gridcolor": "white",
            "linecolor": "white",
            "ticks": ""
           }
          },
          "title": {
           "x": 0.05
          },
          "xaxis": {
           "automargin": true,
           "gridcolor": "white",
           "linecolor": "white",
           "ticks": "",
           "title": {
            "standoff": 15
           },
           "zerolinecolor": "white",
           "zerolinewidth": 2
          },
          "yaxis": {
           "automargin": true,
           "gridcolor": "white",
           "linecolor": "white",
           "ticks": "",
           "title": {
            "standoff": 15
           },
           "zerolinecolor": "white",
           "zerolinewidth": 2
          }
         }
        },
        "width": 950,
        "xaxis": {
         "anchor": "y",
         "domain": [
          0,
          0.45
         ],
         "dtick": 1,
         "range": [
          1.5,
          9.5
         ]
        },
        "xaxis2": {
         "anchor": "y2",
         "domain": [
          0.55,
          1
         ],
         "dtick": 1
        },
        "xaxis3": {
         "anchor": "y3",
         "domain": [
          0,
          0.45
         ],
         "dtick": 1,
         "range": [
          1.5,
          9.5
         ]
        },
        "xaxis4": {
         "anchor": "y4",
         "domain": [
          0.55,
          1
         ],
         "dtick": 1
        },
        "xaxis5": {
         "anchor": "y5",
         "domain": [
          0,
          0.45
         ],
         "dtick": 1,
         "range": [
          1.5,
          9.5
         ]
        },
        "xaxis6": {
         "anchor": "y6",
         "domain": [
          0.55,
          1
         ],
         "dtick": 1
        },
        "yaxis": {
         "anchor": "x",
         "domain": [
          0.7777777777777778,
          1
         ],
         "dtick": 0.02,
         "range": [
          0.27,
          0.37
         ]
        },
        "yaxis2": {
         "anchor": "x2",
         "domain": [
          0.7777777777777778,
          1
         ],
         "dtick": 0.02,
         "matches": "y",
         "showticklabels": false
        },
        "yaxis3": {
         "anchor": "x3",
         "domain": [
          0.3888888888888889,
          0.6111111111111112
         ],
         "dtick": 0.02,
         "range": [
          0.27,
          0.37
         ]
        },
        "yaxis4": {
         "anchor": "x4",
         "domain": [
          0.3888888888888889,
          0.6111111111111112
         ],
         "dtick": 0.02,
         "matches": "y3",
         "showticklabels": false
        },
        "yaxis5": {
         "anchor": "x5",
         "domain": [
          0,
          0.22222222222222224
         ],
         "dtick": 0.02,
         "range": [
          0.27,
          0.37
         ]
        },
        "yaxis6": {
         "anchor": "x6",
         "domain": [
          0,
          0.22222222222222224
         ],
         "dtick": 0.02,
         "matches": "y5",
         "showticklabels": false
        }
       }
      }
     },
     "metadata": {},
     "output_type": "display_data"
    }
   ],
   "source": [
    "entropy_trend(entropytrend_data)"
   ]
  },
  {
   "cell_type": "code",
   "execution_count": 76,
   "metadata": {},
   "outputs": [
    {
     "data": {
      "application/vnd.plotly.v1+json": {
       "config": {
        "plotlyServerURL": "https://plot.ly"
       },
       "data": [
        {
         "marker": {
          "color": "black"
         },
         "name": "LR,ALL,overffiting",
         "offsetgroup": "0",
         "showlegend": true,
         "type": "bar",
         "x": [
          "EW",
          "REG",
          "LR",
          "MI"
         ],
         "xaxis": "x",
         "y": [
          0.7812389380530974,
          0.775929203539823,
          0.7856890012642226,
          0.7878634639696587
         ],
         "yaxis": "y"
        },
        {
         "marker": {
          "color": "black"
         },
         "name": "LR,POS,overffiting",
         "offsetgroup": "1",
         "showlegend": true,
         "type": "bar",
         "x": [
          "EW",
          "REG",
          "LR",
          "MI"
         ],
         "xaxis": "x",
         "y": [
          0.7812389380530974,
          0.775929203539823,
          0.7856890012642226,
          0.7878634639696587
         ],
         "yaxis": "y"
        },
        {
         "marker": {
          "color": "black"
         },
         "name": "XGB,ALL,overffiting",
         "offsetgroup": "2",
         "showlegend": true,
         "type": "bar",
         "x": [
          "EW",
          "REG",
          "LR",
          "MI"
         ],
         "xaxis": "x",
         "y": [
          1,
          1,
          1,
          1
         ],
         "yaxis": "y"
        },
        {
         "marker": {
          "color": "black"
         },
         "name": "XGB,POS,overffiting",
         "offsetgroup": "3",
         "showlegend": true,
         "type": "bar",
         "x": [
          "EW",
          "REG",
          "LR",
          "MI"
         ],
         "xaxis": "x",
         "y": [
          1,
          1,
          1,
          1
         ],
         "yaxis": "y"
        },
        {
         "marker": {
          "color": "darkblue"
         },
         "name": "LR,ALL,test",
         "offsetgroup": "0",
         "showlegend": true,
         "type": "bar",
         "x": [
          "EW",
          "REG",
          "LR",
          "MI"
         ],
         "xaxis": "x",
         "y": [
          0.799325066708523,
          0.8894208130591743,
          0.8661120703186314,
          0.8889891696750903
         ],
         "yaxis": "y"
        },
        {
         "marker": {
          "color": "skyblue"
         },
         "name": "LR,POS,test",
         "offsetgroup": "1",
         "showlegend": true,
         "type": "bar",
         "x": [
          "EW",
          "REG",
          "LR",
          "MI"
         ],
         "xaxis": "x",
         "y": [
          0.799325066708523,
          0.8894208130591743,
          0.8661120703186314,
          0.8889891696750903
         ],
         "yaxis": "y"
        },
        {
         "marker": {
          "color": "green"
         },
         "name": "XGB,ALL,test",
         "offsetgroup": "2",
         "showlegend": true,
         "type": "bar",
         "x": [
          "EW",
          "REG",
          "LR",
          "MI"
         ],
         "xaxis": "x",
         "y": [
          0.7487835504630356,
          0.7494898760006278,
          0.7495291163082718,
          0.747253178464919
         ],
         "yaxis": "y"
        },
        {
         "marker": {
          "color": "lightgreen"
         },
         "name": "XGB,POS,test",
         "offsetgroup": "3",
         "showlegend": true,
         "type": "bar",
         "x": [
          "EW",
          "REG",
          "LR",
          "MI"
         ],
         "xaxis": "x",
         "y": [
          0.7487835504630356,
          0.7494898760006278,
          0.7495291163082718,
          0.747253178464919
         ],
         "yaxis": "y"
        },
        {
         "marker": {
          "color": "black"
         },
         "name": "LR,ALL,overffiting",
         "offsetgroup": "0",
         "showlegend": false,
         "type": "bar",
         "x": [
          "EW",
          "REG",
          "LR",
          "MI"
         ],
         "xaxis": "x2",
         "y": [
          0.8427307206068269,
          0.7117067003792669,
          0.8186599241466499,
          0.7981795195954487
         ],
         "yaxis": "y2"
        },
        {
         "marker": {
          "color": "black"
         },
         "name": "LR,POS,overffiting",
         "offsetgroup": "1",
         "showlegend": false,
         "type": "bar",
         "x": [
          "EW",
          "REG",
          "LR",
          "MI"
         ],
         "xaxis": "x2",
         "y": [
          0.8358533501896334,
          0.7345132743362831,
          0.7868015170670037,
          0.7910493046776231
         ],
         "yaxis": "y2"
        },
        {
         "marker": {
          "color": "black"
         },
         "name": "XGB,ALL,overffiting",
         "offsetgroup": "2",
         "showlegend": false,
         "type": "bar",
         "x": [
          "EW",
          "REG",
          "LR",
          "MI"
         ],
         "xaxis": "x2",
         "y": [
          0.9999999999999999,
          1,
          1,
          1
         ],
         "yaxis": "y2"
        },
        {
         "marker": {
          "color": "black"
         },
         "name": "XGB,POS,overffiting",
         "offsetgroup": "3",
         "showlegend": false,
         "type": "bar",
         "x": [
          "EW",
          "REG",
          "LR",
          "MI"
         ],
         "xaxis": "x2",
         "y": [
          0.9999999999999999,
          1,
          1,
          1
         ],
         "yaxis": "y2"
        },
        {
         "marker": {
          "color": "darkblue"
         },
         "name": "LR,ALL,test",
         "offsetgroup": "0",
         "showlegend": false,
         "type": "bar",
         "x": [
          "EW",
          "REG",
          "LR",
          "MI"
         ],
         "xaxis": "x2",
         "y": [
          0.7448202793909904,
          0.7870820907235913,
          0.8349160257416418,
          0.822555328833778
         ],
         "yaxis": "y2"
        },
        {
         "marker": {
          "color": "skyblue"
         },
         "name": "LR,POS,test",
         "offsetgroup": "1",
         "showlegend": false,
         "type": "bar",
         "x": [
          "EW",
          "REG",
          "LR",
          "MI"
         ],
         "xaxis": "x2",
         "y": [
          0.8018364463977398,
          0.8017187254748078,
          0.8378982891225867,
          0.891579029979595
         ],
         "yaxis": "y2"
        },
        {
         "marker": {
          "color": "green"
         },
         "name": "XGB,ALL,test",
         "offsetgroup": "2",
         "showlegend": false,
         "type": "bar",
         "x": [
          "EW",
          "REG",
          "LR",
          "MI"
         ],
         "xaxis": "x2",
         "y": [
          0.7256513891068906,
          0.7286140323340136,
          0.7254748077224924,
          0.7527860618427248
         ],
         "yaxis": "y2"
        },
        {
         "marker": {
          "color": "lightgreen"
         },
         "name": "XGB,POS,test",
         "offsetgroup": "3",
         "showlegend": false,
         "type": "bar",
         "x": [
          "EW",
          "REG",
          "LR",
          "MI"
         ],
         "xaxis": "x2",
         "y": [
          0.7320671794066866,
          0.7698752158216919,
          0.7399937215507769,
          0.7704834405901743
         ],
         "yaxis": "y2"
        },
        {
         "marker": {
          "color": "black"
         },
         "name": "LR,ALL,overffiting",
         "offsetgroup": "0",
         "showlegend": false,
         "type": "bar",
         "x": [
          "EW",
          "REG",
          "LR",
          "MI"
         ],
         "xaxis": "x3",
         "y": [
          0.8971934260429836,
          0.7407838179519595,
          0.8349936788874842,
          0.7540834386852087
         ],
         "yaxis": "y3"
        },
        {
         "marker": {
          "color": "black"
         },
         "name": "LR,POS,overffiting",
         "offsetgroup": "1",
         "showlegend": false,
         "type": "bar",
         "x": [
          "EW",
          "REG",
          "LR",
          "MI"
         ],
         "xaxis": "x3",
         "y": [
          0.846472819216182,
          0.7890771175726928,
          0.8394437420986094,
          0.7994943109987357
         ],
         "yaxis": "y3"
        },
        {
         "marker": {
          "color": "black"
         },
         "name": "XGB,ALL,overffiting",
         "offsetgroup": "2",
         "showlegend": false,
         "type": "bar",
         "x": [
          "EW",
          "REG",
          "LR",
          "MI"
         ],
         "xaxis": "x3",
         "y": [
          1,
          1,
          0.9997218710493047,
          0.9994943109987358
         ],
         "yaxis": "y3"
        },
        {
         "marker": {
          "color": "black"
         },
         "name": "XGB,POS,overffiting",
         "offsetgroup": "3",
         "showlegend": false,
         "type": "bar",
         "x": [
          "EW",
          "REG",
          "LR",
          "MI"
         ],
         "xaxis": "x3",
         "y": [
          1,
          0.9996965865992414,
          0.9998482932996207,
          0.9996460176991151
         ],
         "yaxis": "y3"
        },
        {
         "marker": {
          "color": "darkblue"
         },
         "name": "LR,ALL,test",
         "offsetgroup": "0",
         "showlegend": false,
         "type": "bar",
         "x": [
          "EW",
          "REG",
          "LR",
          "MI"
         ],
         "xaxis": "x3",
         "y": [
          0.7636163867524722,
          0.8793360539946633,
          0.8125490503845552,
          0.7320671794066865
         ],
         "yaxis": "y3"
        },
        {
         "marker": {
          "color": "skyblue"
         },
         "name": "LR,POS,test",
         "offsetgroup": "1",
         "showlegend": false,
         "type": "bar",
         "x": [
          "EW",
          "REG",
          "LR",
          "MI"
         ],
         "xaxis": "x3",
         "y": [
          0.7425443415476378,
          0.8269894835975514,
          0.8488463349552662,
          0.8595589389420812
         ],
         "yaxis": "y3"
        },
        {
         "marker": {
          "color": "green"
         },
         "name": "XGB,ALL,test",
         "offsetgroup": "2",
         "showlegend": false,
         "type": "bar",
         "x": [
          "EW",
          "REG",
          "LR",
          "MI"
         ],
         "xaxis": "x3",
         "y": [
          0.7471354575419871,
          0.7635379061371841,
          0.7845903311881965,
          0.7033432742112697
         ],
         "yaxis": "y3"
        },
        {
         "marker": {
          "color": "lightgreen"
         },
         "name": "XGB,POS,test",
         "offsetgroup": "3",
         "showlegend": false,
         "type": "bar",
         "x": [
          "EW",
          "REG",
          "LR",
          "MI"
         ],
         "xaxis": "x3",
         "y": [
          0.6765617642442316,
          0.723610893109402,
          0.7055603515931566,
          0.7574556584523622
         ],
         "yaxis": "y3"
        }
       ],
       "layout": {
        "annotations": [
         {
          "font": {
           "size": 16
          },
          "showarrow": false,
          "text": "Original, k=1",
          "x": 0.5,
          "xanchor": "center",
          "xref": "paper",
          "y": 1,
          "yanchor": "bottom",
          "yref": "paper"
         },
         {
          "font": {
           "size": 16
          },
          "showarrow": false,
          "text": "Original, k=2",
          "x": 0.5,
          "xanchor": "center",
          "xref": "paper",
          "y": 0.71875,
          "yanchor": "bottom",
          "yref": "paper"
         },
         {
          "font": {
           "size": 16
          },
          "showarrow": false,
          "text": "Original, k=3",
          "x": 0.5,
          "xanchor": "center",
          "xref": "paper",
          "y": 0.4375,
          "yanchor": "bottom",
          "yref": "paper"
         },
         {
          "font": {
           "size": 16
          },
          "showarrow": false,
          "text": "Original, k=4",
          "x": 0.5,
          "xanchor": "center",
          "xref": "paper",
          "y": 0.15625,
          "yanchor": "bottom",
          "yref": "paper"
         },
         {
          "font": {
           "size": 16
          },
          "showarrow": false,
          "text": "rescalor",
          "x": 0.5,
          "xanchor": "center",
          "xref": "paper",
          "y": 0,
          "yanchor": "top",
          "yref": "paper",
          "yshift": -30
         },
         {
          "font": {
           "size": 16
          },
          "showarrow": false,
          "text": "AUC",
          "textangle": -90,
          "x": 0,
          "xanchor": "right",
          "xref": "paper",
          "xshift": -40,
          "y": 0.5,
          "yanchor": "middle",
          "yref": "paper"
         }
        ],
        "barmode": "group",
        "height": 800,
        "template": {
         "data": {
          "bar": [
           {
            "error_x": {
             "color": "#2a3f5f"
            },
            "error_y": {
             "color": "#2a3f5f"
            },
            "marker": {
             "line": {
              "color": "#E5ECF6",
              "width": 0.5
             },
             "pattern": {
              "fillmode": "overlay",
              "size": 10,
              "solidity": 0.2
             }
            },
            "type": "bar"
           }
          ],
          "barpolar": [
           {
            "marker": {
             "line": {
              "color": "#E5ECF6",
              "width": 0.5
             },
             "pattern": {
              "fillmode": "overlay",
              "size": 10,
              "solidity": 0.2
             }
            },
            "type": "barpolar"
           }
          ],
          "carpet": [
           {
            "aaxis": {
             "endlinecolor": "#2a3f5f",
             "gridcolor": "white",
             "linecolor": "white",
             "minorgridcolor": "white",
             "startlinecolor": "#2a3f5f"
            },
            "baxis": {
             "endlinecolor": "#2a3f5f",
             "gridcolor": "white",
             "linecolor": "white",
             "minorgridcolor": "white",
             "startlinecolor": "#2a3f5f"
            },
            "type": "carpet"
           }
          ],
          "choropleth": [
           {
            "colorbar": {
             "outlinewidth": 0,
             "ticks": ""
            },
            "type": "choropleth"
           }
          ],
          "contour": [
           {
            "colorbar": {
             "outlinewidth": 0,
             "ticks": ""
            },
            "colorscale": [
             [
              0,
              "#0d0887"
             ],
             [
              0.1111111111111111,
              "#46039f"
             ],
             [
              0.2222222222222222,
              "#7201a8"
             ],
             [
              0.3333333333333333,
              "#9c179e"
             ],
             [
              0.4444444444444444,
              "#bd3786"
             ],
             [
              0.5555555555555556,
              "#d8576b"
             ],
             [
              0.6666666666666666,
              "#ed7953"
             ],
             [
              0.7777777777777778,
              "#fb9f3a"
             ],
             [
              0.8888888888888888,
              "#fdca26"
             ],
             [
              1,
              "#f0f921"
             ]
            ],
            "type": "contour"
           }
          ],
          "contourcarpet": [
           {
            "colorbar": {
             "outlinewidth": 0,
             "ticks": ""
            },
            "type": "contourcarpet"
           }
          ],
          "heatmap": [
           {
            "colorbar": {
             "outlinewidth": 0,
             "ticks": ""
            },
            "colorscale": [
             [
              0,
              "#0d0887"
             ],
             [
              0.1111111111111111,
              "#46039f"
             ],
             [
              0.2222222222222222,
              "#7201a8"
             ],
             [
              0.3333333333333333,
              "#9c179e"
             ],
             [
              0.4444444444444444,
              "#bd3786"
             ],
             [
              0.5555555555555556,
              "#d8576b"
             ],
             [
              0.6666666666666666,
              "#ed7953"
             ],
             [
              0.7777777777777778,
              "#fb9f3a"
             ],
             [
              0.8888888888888888,
              "#fdca26"
             ],
             [
              1,
              "#f0f921"
             ]
            ],
            "type": "heatmap"
           }
          ],
          "heatmapgl": [
           {
            "colorbar": {
             "outlinewidth": 0,
             "ticks": ""
            },
            "colorscale": [
             [
              0,
              "#0d0887"
             ],
             [
              0.1111111111111111,
              "#46039f"
             ],
             [
              0.2222222222222222,
              "#7201a8"
             ],
             [
              0.3333333333333333,
              "#9c179e"
             ],
             [
              0.4444444444444444,
              "#bd3786"
             ],
             [
              0.5555555555555556,
              "#d8576b"
             ],
             [
              0.6666666666666666,
              "#ed7953"
             ],
             [
              0.7777777777777778,
              "#fb9f3a"
             ],
             [
              0.8888888888888888,
              "#fdca26"
             ],
             [
              1,
              "#f0f921"
             ]
            ],
            "type": "heatmapgl"
           }
          ],
          "histogram": [
           {
            "marker": {
             "pattern": {
              "fillmode": "overlay",
              "size": 10,
              "solidity": 0.2
             }
            },
            "type": "histogram"
           }
          ],
          "histogram2d": [
           {
            "colorbar": {
             "outlinewidth": 0,
             "ticks": ""
            },
            "colorscale": [
             [
              0,
              "#0d0887"
             ],
             [
              0.1111111111111111,
              "#46039f"
             ],
             [
              0.2222222222222222,
              "#7201a8"
             ],
             [
              0.3333333333333333,
              "#9c179e"
             ],
             [
              0.4444444444444444,
              "#bd3786"
             ],
             [
              0.5555555555555556,
              "#d8576b"
             ],
             [
              0.6666666666666666,
              "#ed7953"
             ],
             [
              0.7777777777777778,
              "#fb9f3a"
             ],
             [
              0.8888888888888888,
              "#fdca26"
             ],
             [
              1,
              "#f0f921"
             ]
            ],
            "type": "histogram2d"
           }
          ],
          "histogram2dcontour": [
           {
            "colorbar": {
             "outlinewidth": 0,
             "ticks": ""
            },
            "colorscale": [
             [
              0,
              "#0d0887"
             ],
             [
              0.1111111111111111,
              "#46039f"
             ],
             [
              0.2222222222222222,
              "#7201a8"
             ],
             [
              0.3333333333333333,
              "#9c179e"
             ],
             [
              0.4444444444444444,
              "#bd3786"
             ],
             [
              0.5555555555555556,
              "#d8576b"
             ],
             [
              0.6666666666666666,
              "#ed7953"
             ],
             [
              0.7777777777777778,
              "#fb9f3a"
             ],
             [
              0.8888888888888888,
              "#fdca26"
             ],
             [
              1,
              "#f0f921"
             ]
            ],
            "type": "histogram2dcontour"
           }
          ],
          "mesh3d": [
           {
            "colorbar": {
             "outlinewidth": 0,
             "ticks": ""
            },
            "type": "mesh3d"
           }
          ],
          "parcoords": [
           {
            "line": {
             "colorbar": {
              "outlinewidth": 0,
              "ticks": ""
             }
            },
            "type": "parcoords"
           }
          ],
          "pie": [
           {
            "automargin": true,
            "type": "pie"
           }
          ],
          "scatter": [
           {
            "fillpattern": {
             "fillmode": "overlay",
             "size": 10,
             "solidity": 0.2
            },
            "type": "scatter"
           }
          ],
          "scatter3d": [
           {
            "line": {
             "colorbar": {
              "outlinewidth": 0,
              "ticks": ""
             }
            },
            "marker": {
             "colorbar": {
              "outlinewidth": 0,
              "ticks": ""
             }
            },
            "type": "scatter3d"
           }
          ],
          "scattercarpet": [
           {
            "marker": {
             "colorbar": {
              "outlinewidth": 0,
              "ticks": ""
             }
            },
            "type": "scattercarpet"
           }
          ],
          "scattergeo": [
           {
            "marker": {
             "colorbar": {
              "outlinewidth": 0,
              "ticks": ""
             }
            },
            "type": "scattergeo"
           }
          ],
          "scattergl": [
           {
            "marker": {
             "colorbar": {
              "outlinewidth": 0,
              "ticks": ""
             }
            },
            "type": "scattergl"
           }
          ],
          "scattermapbox": [
           {
            "marker": {
             "colorbar": {
              "outlinewidth": 0,
              "ticks": ""
             }
            },
            "type": "scattermapbox"
           }
          ],
          "scatterpolar": [
           {
            "marker": {
             "colorbar": {
              "outlinewidth": 0,
              "ticks": ""
             }
            },
            "type": "scatterpolar"
           }
          ],
          "scatterpolargl": [
           {
            "marker": {
             "colorbar": {
              "outlinewidth": 0,
              "ticks": ""
             }
            },
            "type": "scatterpolargl"
           }
          ],
          "scatterternary": [
           {
            "marker": {
             "colorbar": {
              "outlinewidth": 0,
              "ticks": ""
             }
            },
            "type": "scatterternary"
           }
          ],
          "surface": [
           {
            "colorbar": {
             "outlinewidth": 0,
             "ticks": ""
            },
            "colorscale": [
             [
              0,
              "#0d0887"
             ],
             [
              0.1111111111111111,
              "#46039f"
             ],
             [
              0.2222222222222222,
              "#7201a8"
             ],
             [
              0.3333333333333333,
              "#9c179e"
             ],
             [
              0.4444444444444444,
              "#bd3786"
             ],
             [
              0.5555555555555556,
              "#d8576b"
             ],
             [
              0.6666666666666666,
              "#ed7953"
             ],
             [
              0.7777777777777778,
              "#fb9f3a"
             ],
             [
              0.8888888888888888,
              "#fdca26"
             ],
             [
              1,
              "#f0f921"
             ]
            ],
            "type": "surface"
           }
          ],
          "table": [
           {
            "cells": {
             "fill": {
              "color": "#EBF0F8"
             },
             "line": {
              "color": "white"
             }
            },
            "header": {
             "fill": {
              "color": "#C8D4E3"
             },
             "line": {
              "color": "white"
             }
            },
            "type": "table"
           }
          ]
         },
         "layout": {
          "annotationdefaults": {
           "arrowcolor": "#2a3f5f",
           "arrowhead": 0,
           "arrowwidth": 1
          },
          "autotypenumbers": "strict",
          "coloraxis": {
           "colorbar": {
            "outlinewidth": 0,
            "ticks": ""
           }
          },
          "colorscale": {
           "diverging": [
            [
             0,
             "#8e0152"
            ],
            [
             0.1,
             "#c51b7d"
            ],
            [
             0.2,
             "#de77ae"
            ],
            [
             0.3,
             "#f1b6da"
            ],
            [
             0.4,
             "#fde0ef"
            ],
            [
             0.5,
             "#f7f7f7"
            ],
            [
             0.6,
             "#e6f5d0"
            ],
            [
             0.7,
             "#b8e186"
            ],
            [
             0.8,
             "#7fbc41"
            ],
            [
             0.9,
             "#4d9221"
            ],
            [
             1,
             "#276419"
            ]
           ],
           "sequential": [
            [
             0,
             "#0d0887"
            ],
            [
             0.1111111111111111,
             "#46039f"
            ],
            [
             0.2222222222222222,
             "#7201a8"
            ],
            [
             0.3333333333333333,
             "#9c179e"
            ],
            [
             0.4444444444444444,
             "#bd3786"
            ],
            [
             0.5555555555555556,
             "#d8576b"
            ],
            [
             0.6666666666666666,
             "#ed7953"
            ],
            [
             0.7777777777777778,
             "#fb9f3a"
            ],
            [
             0.8888888888888888,
             "#fdca26"
            ],
            [
             1,
             "#f0f921"
            ]
           ],
           "sequentialminus": [
            [
             0,
             "#0d0887"
            ],
            [
             0.1111111111111111,
             "#46039f"
            ],
            [
             0.2222222222222222,
             "#7201a8"
            ],
            [
             0.3333333333333333,
             "#9c179e"
            ],
            [
             0.4444444444444444,
             "#bd3786"
            ],
            [
             0.5555555555555556,
             "#d8576b"
            ],
            [
             0.6666666666666666,
             "#ed7953"
            ],
            [
             0.7777777777777778,
             "#fb9f3a"
            ],
            [
             0.8888888888888888,
             "#fdca26"
            ],
            [
             1,
             "#f0f921"
            ]
           ]
          },
          "colorway": [
           "#636efa",
           "#EF553B",
           "#00cc96",
           "#ab63fa",
           "#FFA15A",
           "#19d3f3",
           "#FF6692",
           "#B6E880",
           "#FF97FF",
           "#FECB52"
          ],
          "font": {
           "color": "#2a3f5f"
          },
          "geo": {
           "bgcolor": "white",
           "lakecolor": "white",
           "landcolor": "#E5ECF6",
           "showlakes": true,
           "showland": true,
           "subunitcolor": "white"
          },
          "hoverlabel": {
           "align": "left"
          },
          "hovermode": "closest",
          "mapbox": {
           "style": "light"
          },
          "paper_bgcolor": "white",
          "plot_bgcolor": "#E5ECF6",
          "polar": {
           "angularaxis": {
            "gridcolor": "white",
            "linecolor": "white",
            "ticks": ""
           },
           "bgcolor": "#E5ECF6",
           "radialaxis": {
            "gridcolor": "white",
            "linecolor": "white",
            "ticks": ""
           }
          },
          "scene": {
           "xaxis": {
            "backgroundcolor": "#E5ECF6",
            "gridcolor": "white",
            "gridwidth": 2,
            "linecolor": "white",
            "showbackground": true,
            "ticks": "",
            "zerolinecolor": "white"
           },
           "yaxis": {
            "backgroundcolor": "#E5ECF6",
            "gridcolor": "white",
            "gridwidth": 2,
            "linecolor": "white",
            "showbackground": true,
            "ticks": "",
            "zerolinecolor": "white"
           },
           "zaxis": {
            "backgroundcolor": "#E5ECF6",
            "gridcolor": "white",
            "gridwidth": 2,
            "linecolor": "white",
            "showbackground": true,
            "ticks": "",
            "zerolinecolor": "white"
           }
          },
          "shapedefaults": {
           "line": {
            "color": "#2a3f5f"
           }
          },
          "ternary": {
           "aaxis": {
            "gridcolor": "white",
            "linecolor": "white",
            "ticks": ""
           },
           "baxis": {
            "gridcolor": "white",
            "linecolor": "white",
            "ticks": ""
           },
           "bgcolor": "#E5ECF6",
           "caxis": {
            "gridcolor": "white",
            "linecolor": "white",
            "ticks": ""
           }
          },
          "title": {
           "x": 0.05
          },
          "xaxis": {
           "automargin": true,
           "gridcolor": "white",
           "linecolor": "white",
           "ticks": "",
           "title": {
            "standoff": 15
           },
           "zerolinecolor": "white",
           "zerolinewidth": 2
          },
          "yaxis": {
           "automargin": true,
           "gridcolor": "white",
           "linecolor": "white",
           "ticks": "",
           "title": {
            "standoff": 15
           },
           "zerolinecolor": "white",
           "zerolinewidth": 2
          }
         }
        },
        "width": 950,
        "xaxis": {
         "anchor": "y",
         "domain": [
          0,
          1
         ]
        },
        "xaxis2": {
         "anchor": "y2",
         "domain": [
          0,
          1
         ]
        },
        "xaxis3": {
         "anchor": "y3",
         "domain": [
          0,
          1
         ]
        },
        "xaxis4": {
         "anchor": "y4",
         "domain": [
          0,
          1
         ]
        },
        "yaxis": {
         "anchor": "x",
         "domain": [
          0.84375,
          1
         ],
         "dtick": 0.2
        },
        "yaxis2": {
         "anchor": "x2",
         "domain": [
          0.5625,
          0.71875
         ],
         "dtick": 0.2
        },
        "yaxis3": {
         "anchor": "x3",
         "domain": [
          0.28125,
          0.4375
         ],
         "dtick": 0.2
        },
        "yaxis4": {
         "anchor": "x4",
         "domain": [
          0,
          0.15625
         ],
         "dtick": 0.2
        }
       }
      }
     },
     "metadata": {},
     "output_type": "display_data"
    }
   ],
   "source": [
    "AUC_comparision(AUC_data)"
   ]
  },
  {
   "attachments": {},
   "cell_type": "markdown",
   "metadata": {},
   "source": [
    "### PCA"
   ]
  },
  {
   "cell_type": "code",
   "execution_count": 47,
   "metadata": {},
   "outputs": [
    {
     "data": {
      "image/png": "[encoded data removed]",
      "text/plain": [
       "<Figure size 1500x600 with 3 Axes>"
      ]
     },
     "metadata": {},
     "output_type": "display_data"
    }
   ],
   "source": [
    "figure, axis = plt.subplots(1, 3, figsize=(15, 6))\n",
    "pca = PCA(n_components=2)\n",
    "#all data \n",
    "data = pd.DataFrame(pca.fit_transform(X))\n",
    "data[3] = y\n",
    "neg = data[data[3]==0].drop(columns=3)\n",
    "pos = data[data[3]==1].drop(columns=3)\n",
    "axis[0].scatter(neg[0], neg[1], color='blue', s=0.05)\n",
    "axis[0].scatter(pos[0], pos[1],  color='orange', s=0.05)\n",
    "axis[0].scatter([], [], color='blue', label='Negative case')\n",
    "axis[0].scatter([], [], color='orange', label='Positive case')\n",
    "axis[0].set_xlabel('First component')\n",
    "axis[0].set_ylabel('Second component')\n",
    "axis[0].set_title('GMC ALL data case distribution')\n",
    "\n",
    "#train data\n",
    "data = pd.DataFrame(pca.fit_transform(X_train))\n",
    "data[3] = y_train\n",
    "neg = data[data[3]==0].drop(columns=3)\n",
    "pos = data[data[3]==1].drop(columns=3)\n",
    "axis[1].scatter(neg[0], neg[1], color='blue', s=0.05)\n",
    "axis[1].scatter(pos[0], pos[1],  color='orange', s=0.05)\n",
    "axis[1].scatter([], [], color='blue', label='Negative case')\n",
    "axis[1].scatter([], [], color='orange', label='Positive case')\n",
    "axis[1].set_xlabel('First component')\n",
    "axis[1].set_ylabel('Second component')\n",
    "axis[1].set_title('GMC TRAIN data case distribution')\n",
    "\n",
    "data = pd.DataFrame(pca.transform(X_test))\n",
    "data[3] = y_test\n",
    "neg = data[data[3]==0].drop(columns=3)\n",
    "pos = data[data[3]==1].drop(columns=3)\n",
    "axis[2].scatter(neg[0], neg[1], color='blue', s=0.1)\n",
    "axis[2].scatter(pos[0], pos[1],  color='orange', s=0.5)\n",
    "axis[2].scatter([], [], color='blue', label='Negative case')\n",
    "axis[2].scatter([], [], color='orange', label='Positive case')\n",
    "axis[2].set_xlabel('First component')\n",
    "axis[2].set_ylabel('Second component')\n",
    "axis[2].set_title('GMC TEST data case distribution')\n",
    "plt.legend()\n",
    "plt.show()"
   ]
  },
  {
   "cell_type": "code",
   "execution_count": 11,
   "metadata": {},
   "outputs": [],
   "source": [
    "y = data[3].rename('y')\n",
    "X = data.drop(columns=3).rename(columns={0:'first component',\n",
    "                                         1:'second component'})"
   ]
  },
  {
   "cell_type": "code",
   "execution_count": 12,
   "metadata": {},
   "outputs": [],
   "source": [
    "X_train, X_test, y_train, y_test = train_test_split(X, y, test_size=0.2)"
   ]
  },
  {
   "cell_type": "code",
   "execution_count": 17,
   "metadata": {},
   "outputs": [
    {
     "name": "stderr",
     "output_type": "stream",
     "text": [
      "c:\\Users\\king0\\AppData\\Local\\Programs\\Python\\Python38\\lib\\site-packages\\sklearn\\linear_model\\_logistic.py:458: ConvergenceWarning: lbfgs failed to converge (status=1):\n",
      "STOP: TOTAL NO. of ITERATIONS REACHED LIMIT.\n",
      "\n",
      "Increase the number of iterations (max_iter) or scale the data as shown in:\n",
      "    https://scikit-learn.org/stable/modules/preprocessing.html\n",
      "Please also refer to the documentation for alternative solver options:\n",
      "    https://scikit-learn.org/stable/modules/linear_model.html#logistic-regression\n",
      "  n_iter_i = _check_optimize_result(\n"
     ]
    }
   ],
   "source": [
    "upper = 30000\n",
    "rescalor_data = rescalor(1, X_train[:upper], X_test, y_train[:upper])\n",
    "rescalor_data.rescaling()\n",
    "reg_w_1, lr_w_1, mi_w_1 = rescalor_data.reg_w, rescalor_data.lr_w, rescalor_data.mi_w\n",
    "orig_train_1, reg_train_1, lr_train_1, mi_train_1 = rescalor_data.get_data()\n",
    "orig_test_1, reg_test_1, lr_test_1, mi_test_1 = rescalor_data.get_data(test=True)\n",
    "\n",
    "rescalor_data = rescalor(2, X_train[:upper], X_test, y_train[:upper])\n",
    "rescalor_data.rescaling()\n",
    "reg_w_2, lr_w_2, mi_w_2 = rescalor_data.reg_w, rescalor_data.lr_w, rescalor_data.mi_w\n",
    "orig_train_2, reg_train_2, lr_train_2, mi_train_2 = rescalor_data.get_data()\n",
    "orig_test_2, reg_test_2, lr_test_2, mi_test_2 = rescalor_data.get_data(test=True)\n",
    "\n",
    "rescalor_data = rescalor(3, X_train[:upper], X_test, y_train[:upper])\n",
    "rescalor_data.rescaling()\n",
    "reg_w_3, lr_w_3, mi_w_3 = rescalor_data.reg_w, rescalor_data.lr_w, rescalor_data.mi_w\n",
    "orig_train_3, reg_train_3, lr_train_3, mi_train_3 = rescalor_data.get_data()\n",
    "orig_test_3, reg_test_3, lr_test_3, mi_test_3 = rescalor_data.get_data(test=True)"
   ]
  },
  {
   "cell_type": "code",
   "execution_count": 18,
   "metadata": {},
   "outputs": [
    {
     "name": "stdout",
     "output_type": "stream",
     "text": [
      "origin data\n",
      "      min   10%   25%  median   75%   90%   max\n",
      "EW   1.00  1.00  1.00    1.00  1.00  1.00  1.00\n",
      "REG  0.03  0.03  0.04    0.05  0.06  0.06  0.07\n",
      "LR   0.36  0.38  0.43    0.49  0.56  0.60  0.63\n",
      "MI   0.01  0.02  0.02    0.03  0.04  0.05  0.05\n",
      "quadratic data\n",
      "     min   10%   25%  median   75%   90%   max\n",
      "EW   1.0  1.00  1.00    1.00  1.00  1.00  1.00\n",
      "REG  0.0  0.00  0.00    0.01  0.03  0.04  0.05\n",
      "LR  -0.1 -0.09 -0.07   -0.00  0.53  0.82  1.01\n",
      "MI   0.0  0.01  0.01    0.03  0.04  0.05  0.05\n",
      "cubic data\n",
      "      min   10%   25%  median   75%   90%   max\n",
      "EW   1.00  1.00  1.00    1.00  1.00  1.00  1.00\n",
      "REG -0.00 -0.00 -0.00    0.00  0.02  0.03  0.05\n",
      "LR  -0.21 -0.09 -0.02   -0.00  0.03  0.69  1.05\n",
      "MI   0.00  0.01  0.01    0.03  0.04  0.05  0.05\n"
     ]
    }
   ],
   "source": [
    "ew_w_1 = np.ones(len(reg_w_1))\n",
    "weight_1 = [ew_w_1, reg_w_1, lr_w_1, mi_w_1]\n",
    "ew_w_2 = np.ones(len(reg_w_2))\n",
    "weight_2 = [ew_w_2, reg_w_2, lr_w_2, mi_w_2]\n",
    "ew_w_3 = np.ones(len(reg_w_3))\n",
    "weight_3 = [ew_w_3, reg_w_3, lr_w_3, mi_w_3]\n",
    "\n",
    "\n",
    "print('origin data')\n",
    "print(np.round(pd.DataFrame(np.percentile(weight_1, [0, 10, 25, 50, 75, 90, 100], axis=1))\\\n",
    ".rename(columns={0:'EW', 1:'REG', 2:'LR', 3:'MI'}, \n",
    "        index={0:'min', 1:'10%', 2:'25%', 3:'median', 4:'75%', 5:'90%', 6:'max'}).T, 2))\n",
    "\n",
    "print('quadratic data')\n",
    "print(np.round(pd.DataFrame(np.percentile(weight_2, [0, 10, 25, 50, 75, 90, 100], axis=1))\\\n",
    ".rename(columns={0:'EW', 1:'REG', 2:'LR', 3:'MI'}, \n",
    "        index={0:'min', 1:'10%', 2:'25%', 3:'median', 4:'75%', 5:'90%', 6:'max'}).T, 2))\n",
    "\n",
    "print('cubic data')\n",
    "print(np.round(pd.DataFrame(np.percentile(weight_3, [0, 10, 25, 50, 75, 90, 100], axis=1))\\\n",
    ".rename(columns={0:'EW', 1:'REG', 2:'LR', 3:'MI'}, \n",
    "        index={0:'min', 1:'10%', 2:'25%', 3:'median', 4:'75%', 5:'90%', 6:'max'}).T, 2))"
   ]
  },
  {
   "cell_type": "code",
   "execution_count": 19,
   "metadata": {},
   "outputs": [
    {
     "ename": "KeyboardInterrupt",
     "evalue": "",
     "output_type": "error",
     "traceback": [
      "\u001b[1;31m---------------------------------------------------------------------------\u001b[0m",
      "\u001b[1;31mKeyboardInterrupt\u001b[0m                         Traceback (most recent call last)",
      "Cell \u001b[1;32mIn[19], line 16\u001b[0m\n\u001b[0;32m     14\u001b[0m \u001b[39mfor\u001b[39;00m K \u001b[39min\u001b[39;00m \u001b[39mrange\u001b[39m(\u001b[39m1\u001b[39m, \u001b[39m10\u001b[39m) :\n\u001b[0;32m     15\u001b[0m     C \u001b[39m=\u001b[39m cluster_prediction(train_data, test_data, y_train, y_test, K)\n\u001b[1;32m---> 16\u001b[0m     C\u001b[39m.\u001b[39;49mcluster_model()\n\u001b[0;32m     17\u001b[0m     ratio_tr \u001b[39m=\u001b[39m C\u001b[39m.\u001b[39mdefault_ratio()\n\u001b[0;32m     18\u001b[0m     ratio_te \u001b[39m=\u001b[39m C\u001b[39m.\u001b[39mdefault_ratio(test\u001b[39m=\u001b[39m\u001b[39mTrue\u001b[39;00m)\n",
      "Cell \u001b[1;32mIn[15], line 22\u001b[0m, in \u001b[0;36mcluster_prediction.cluster_model\u001b[1;34m(self, positive)\u001b[0m\n\u001b[0;32m     20\u001b[0m     \u001b[39mself\u001b[39m\u001b[39m.\u001b[39mclustermodel \u001b[39m=\u001b[39m kmedoids\n\u001b[0;32m     21\u001b[0m \u001b[39melse\u001b[39;00m :\n\u001b[1;32m---> 22\u001b[0m     kmedoids\u001b[39m.\u001b[39;49mfit(\u001b[39mself\u001b[39;49m\u001b[39m.\u001b[39;49mX_train)\u001b[39m#model all-case data\u001b[39;00m\n\u001b[0;32m     23\u001b[0m     \u001b[39mself\u001b[39m\u001b[39m.\u001b[39mclustermodel \u001b[39m=\u001b[39m kmedoids\n",
      "File \u001b[1;32mc:\\Users\\king0\\AppData\\Local\\Programs\\Python\\Python38\\lib\\site-packages\\sklearn_extra\\cluster\\_k_medoids.py:217\u001b[0m, in \u001b[0;36mKMedoids.fit\u001b[1;34m(self, X, y)\u001b[0m\n\u001b[0;32m    213\u001b[0m labels \u001b[39m=\u001b[39m np\u001b[39m.\u001b[39margmin(D[medoid_idxs, :], axis\u001b[39m=\u001b[39m\u001b[39m0\u001b[39m)\n\u001b[0;32m    215\u001b[0m \u001b[39mif\u001b[39;00m \u001b[39mself\u001b[39m\u001b[39m.\u001b[39mmethod \u001b[39m==\u001b[39m \u001b[39m\"\u001b[39m\u001b[39malternate\u001b[39m\u001b[39m\"\u001b[39m:\n\u001b[0;32m    216\u001b[0m     \u001b[39m# Update medoids with the new cluster indices\u001b[39;00m\n\u001b[1;32m--> 217\u001b[0m     \u001b[39mself\u001b[39;49m\u001b[39m.\u001b[39;49m_update_medoid_idxs_in_place(D, labels, medoid_idxs)\n\u001b[0;32m    218\u001b[0m \u001b[39melif\u001b[39;00m \u001b[39mself\u001b[39m\u001b[39m.\u001b[39mmethod \u001b[39m==\u001b[39m \u001b[39m\"\u001b[39m\u001b[39mpam\u001b[39m\u001b[39m\"\u001b[39m:\n\u001b[0;32m    219\u001b[0m     not_medoid_idxs \u001b[39m=\u001b[39m np\u001b[39m.\u001b[39mdelete(np\u001b[39m.\u001b[39marange(\u001b[39mlen\u001b[39m(D)), medoid_idxs)\n",
      "File \u001b[1;32mc:\\Users\\king0\\AppData\\Local\\Programs\\Python\\Python38\\lib\\site-packages\\sklearn_extra\\cluster\\_k_medoids.py:283\u001b[0m, in \u001b[0;36mKMedoids._update_medoid_idxs_in_place\u001b[1;34m(self, D, labels, medoid_idxs)\u001b[0m\n\u001b[0;32m    275\u001b[0m     warnings\u001b[39m.\u001b[39mwarn(\n\u001b[0;32m    276\u001b[0m         \u001b[39m\"\u001b[39m\u001b[39mCluster \u001b[39m\u001b[39m{k}\u001b[39;00m\u001b[39m is empty! \u001b[39m\u001b[39m\"\u001b[39m\n\u001b[0;32m    277\u001b[0m         \u001b[39m\"\u001b[39m\u001b[39mself.labels_[self.medoid_indices_[\u001b[39m\u001b[39m{k}\u001b[39;00m\u001b[39m]] \u001b[39m\u001b[39m\"\u001b[39m\n\u001b[0;32m    278\u001b[0m         \u001b[39m\"\u001b[39m\u001b[39mmay not be labeled with \u001b[39m\u001b[39m\"\u001b[39m\n\u001b[0;32m    279\u001b[0m         \u001b[39m\"\u001b[39m\u001b[39mits corresponding cluster (\u001b[39m\u001b[39m{k}\u001b[39;00m\u001b[39m).\u001b[39m\u001b[39m\"\u001b[39m\u001b[39m.\u001b[39mformat(k\u001b[39m=\u001b[39mk)\n\u001b[0;32m    280\u001b[0m     )\n\u001b[0;32m    281\u001b[0m     \u001b[39mcontinue\u001b[39;00m\n\u001b[1;32m--> 283\u001b[0m in_cluster_distances \u001b[39m=\u001b[39m D[\n\u001b[0;32m    284\u001b[0m     cluster_k_idxs, cluster_k_idxs[:, np\u001b[39m.\u001b[39;49mnewaxis]\n\u001b[0;32m    285\u001b[0m ]\n\u001b[0;32m    287\u001b[0m \u001b[39m# Calculate all costs from each point to all others in the cluster\u001b[39;00m\n\u001b[0;32m    288\u001b[0m in_cluster_all_costs \u001b[39m=\u001b[39m np\u001b[39m.\u001b[39msum(in_cluster_distances, axis\u001b[39m=\u001b[39m\u001b[39m1\u001b[39m)\n",
      "\u001b[1;31mKeyboardInterrupt\u001b[0m: "
     ]
    }
   ],
   "source": [
    "dataset_train = [orig_train_1, reg_train_1, lr_train_1, mi_train_1, \n",
    "                 orig_train_2, reg_train_2, lr_train_2, mi_train_2,\n",
    "                 orig_train_3, reg_train_3, lr_train_3, mi_train_3]\n",
    "\n",
    "dataset_test = [orig_test_1, reg_test_1, lr_test_1, mi_test_1,\n",
    "                orig_test_2, reg_test_2, lr_test_2, mi_test_2,\n",
    "                orig_test_3, reg_test_3, lr_test_3, mi_test_3] \n",
    "\n",
    "ratio_train, ratio_test, entropy_train, entropy_test, auc_train, auc_test = [], [], [], [], [], []  \n",
    "for train_data, test_data in zip(dataset_train, dataset_test):# <-different rescaled data\n",
    "    ratio_set_train, entropy_set_train, ratio_set_test,  entropy_set_test, auc_set_train, auc_set_test= [], [], [], [], [], []\n",
    "    #auc_set_train = [] <- [[lr, xgb](k=2), [lr, xgb](k=3)]\n",
    "    \n",
    "    for K in range(1, 10) :\n",
    "        C = cluster_prediction(train_data, test_data, y_train, y_test, K)\n",
    "        C.cluster_model()\n",
    "        ratio_tr = C.default_ratio()\n",
    "        ratio_te = C.default_ratio(test=True)\n",
    "        if K > 1 :\n",
    "            ratio_set_train.append(ratio_tr)\n",
    "            entropy_set_train.append(C.entropy())\n",
    "            ratio_set_test.append(ratio_te)\n",
    "            entropy_set_test.append(C.entropy(test=True))\n",
    "        if K <= 3:\n",
    "            auc_set_train.append(C.submodel_auc())\n",
    "            auc_set_test.append(C.submodel_auc(test=True))\n",
    "\n",
    "    ratio_train.append(ratio_set_train)            # [[EW_ratio_1], [REG_ratio_1], [LR_ratio_1], [MI_ratio_1], [EW_ratio_2], [REG_ratio_2], [LR_ratio_2], [MI_ratio_2],...]   \n",
    "                                                   # in [EW_ratio_1] -> [[0.06], [0.02, 0.14], [0.012, 0.07, 0.03], [0.018, 0.019, 0.1, 0.12],...]      \n",
    "    entropy_train.append(entropy_set_train) \n",
    "    ratio_test.append(ratio_set_test)\n",
    "    entropy_test.append(entropy_set_test)\n",
    "    auc_train.append(auc_set_train)                \n",
    "    # [[[EW_K=1_D=1], [EW_K=2_D=1], [EW_K=3_D=1]],\n",
    "    #  [[REG_K=1_D=1],[REG_K=2_D=1],[REG_K=3_D=1]],\n",
    "    #  [[LR_K=1]_D=1,[LR_K=2_D=1],[LR_K=3_D=1]], \n",
    "    #  [[MI_K=1_D=1],[MI_K=2_D=1],[MI_K=3_D=1]],\n",
    "    #  [[EW_K=1_D=2], [EW_K=2_D=2], [EW_K=3_D=2]], ...]\n",
    "    auc_test.append(auc_set_test)\n",
    "    #auc: 1.指定要哪一種scalored data以及什麼維度 2. 要K為多少的 3.得到[lr, xgb]\n",
    "\n",
    "\n",
    "ratio_trainp, ratio_testp, entropy_trainp, entropy_testp, auc_trainp, auc_testp = [], [], [], [], [], [] \n",
    "for train_data, test_data in zip(dataset_train, dataset_test):\n",
    "    ratio_set_train, entropy_set_train, ratio_set_test,  entropy_set_test, auc_set_train, auc_set_test= [], [], [], [], [], []    \n",
    "    for K in range(1, 10) :\n",
    "        Cp = cluster_prediction(train_data, test_data, y_train, y_test, K)\n",
    "        Cp.cluster_model(positive=True)\n",
    "        ratio_tr = Cp.default_ratio()\n",
    "        ratio_te = Cp.default_ratio(test=True)\n",
    "        if K > 1 :\n",
    "            ratio_set_train.append(ratio_tr)\n",
    "            entropy_set_train.append(Cp.entropy())\n",
    "            ratio_set_test.append(ratio_te)\n",
    "            entropy_set_test.append(Cp.entropy(test=True))\n",
    "        if K <= 3:\n",
    "            auc_set_train.append(Cp.submodel_auc())\n",
    "            auc_set_test.append(Cp.submodel_auc(test=True))\n",
    "\n",
    "    ratio_trainp.append(ratio_set_train)                 \n",
    "    entropy_trainp.append(entropy_set_train) \n",
    "    ratio_testp.append(ratio_set_test)\n",
    "    entropy_testp.append(entropy_set_test)\n",
    "    auc_trainp.append(auc_set_train)                \n",
    "    auc_testp.append(auc_set_test)"
   ]
  },
  {
   "cell_type": "code",
   "execution_count": 118,
   "metadata": {},
   "outputs": [
    {
     "data": {
      "application/vnd.plotly.v1+json": {
       "config": {
        "plotlyServerURL": "https://plot.ly"
       },
       "data": [
        {
         "marker": {
          "color": "blue"
         },
         "mode": "markers",
         "name": "train default rate",
         "showlegend": true,
         "type": "scatter",
         "x": [
          2,
          2,
          3,
          3,
          3,
          4,
          4,
          4,
          4,
          5,
          5,
          5,
          5,
          5,
          6,
          6,
          6,
          6,
          6,
          6,
          7,
          7,
          7,
          7,
          7,
          7,
          7,
          8,
          8,
          8,
          8,
          8,
          8,
          8,
          8,
          9,
          9,
          9,
          9,
          9,
          9,
          9,
          9,
          9
         ],
         "xaxis": "x",
         "y": [
          0.058666666666666666,
          0.07111111111111111,
          0.11176470588235295,
          0.0326530612244898,
          0.05945945945945946,
          0.09859154929577464,
          0.027149321266968326,
          0.022222222222222223,
          0.10884353741496598,
          0.25396825396825395,
          0.005263157894736842,
          0,
          0.06481481481481481,
          0.08484848484848485,
          0.2459016393442623,
          0.04065040650406504,
          0,
          0.028846153846153848,
          0.0989010989010989,
          0.04477611940298507,
          0.22413793103448276,
          0.011764705882352941,
          0.015873015873015872,
          0.047619047619047616,
          0.09523809523809523,
          0.05714285714285714,
          0.04,
          0.23728813559322035,
          0,
          0.015384615384615385,
          0.047619047619047616,
          0.125,
          0.0594059405940594,
          0.013513513513513514,
          0.056338028169014086,
          0.23809523809523808,
          0,
          0.015625,
          0.045454545454545456,
          0.15625,
          0.013888888888888888,
          0.05555555555555555,
          0.0673076923076923,
          0.09230769230769231
         ],
         "yaxis": "y"
        },
        {
         "marker": {
          "color": "black"
         },
         "mode": "lines",
         "name": "all data default rate",
         "showlegend": true,
         "type": "scatter",
         "x": [
          1,
          10
         ],
         "xaxis": "x",
         "y": [
          0.067,
          0.067
         ],
         "yaxis": "y"
        },
        {
         "marker": {
          "color": "blue"
         },
         "mode": "markers",
         "name": "train default rate",
         "showlegend": false,
         "type": "scatter",
         "x": [
          2,
          2,
          3,
          3,
          3,
          4,
          4,
          4,
          4,
          5,
          5,
          5,
          5,
          5,
          6,
          6,
          6,
          6,
          6,
          6,
          7,
          7,
          7,
          7,
          7,
          7,
          7,
          8,
          8,
          8,
          8,
          8,
          8,
          8,
          8,
          9,
          9,
          9,
          9,
          9,
          9,
          9,
          9,
          9
         ],
         "xaxis": "x2",
         "y": [
          0.11386138613861387,
          0.03768844221105527,
          0.125,
          0.039525691699604744,
          0.03067484662576687,
          0.03067484662576687,
          0.04149377593360996,
          0.05925925925925926,
          0.2459016393442623,
          0.036231884057971016,
          0,
          0.064,
          0.25,
          0.056818181818181816,
          0.04065040650406504,
          0,
          0.05555555555555555,
          0.25,
          0.08695652173913043,
          0.02702702702702703,
          0.04424778761061947,
          0,
          0,
          0.25,
          0.08571428571428572,
          0.04,
          0.06956521739130435,
          0.04672897196261682,
          0,
          0,
          0.12121212121212122,
          0.09090909090909091,
          0.03361344537815126,
          0.2545454545454545,
          0.05263157894736842,
          0,
          0.06349206349206349,
          0.05825242718446602,
          0.06666666666666667,
          0.036585365853658534,
          0.06818181818181818,
          0.2542372881355932,
          0,
          0.045454545454545456
         ],
         "yaxis": "y2"
        },
        {
         "marker": {
          "color": "black"
         },
         "mode": "lines",
         "name": "all data default rate",
         "showlegend": false,
         "type": "scatter",
         "x": [
          1,
          10
         ],
         "xaxis": "x2",
         "y": [
          0.067,
          0.067
         ],
         "yaxis": "y2"
        },
        {
         "marker": {
          "color": "blue"
         },
         "mode": "markers",
         "name": "train default rate",
         "showlegend": false,
         "type": "scatter",
         "x": [
          2,
          2,
          3,
          3,
          3,
          4,
          4,
          4,
          4,
          5,
          5,
          5,
          5,
          5,
          6,
          6,
          6,
          6,
          6,
          6,
          7,
          7,
          7,
          7,
          7,
          7,
          7,
          8,
          8,
          8,
          8,
          8,
          8,
          8,
          8,
          9,
          9,
          9,
          9,
          9,
          9,
          9,
          9,
          9
         ],
         "xaxis": "x3",
         "y": [
          0.11219512195121951,
          0.0379746835443038,
          0.12365591397849462,
          0.03968253968253968,
          0.030864197530864196,
          0.13218390804597702,
          0,
          0.03225806451612903,
          0.05813953488372093,
          0.056451612903225805,
          0.0390625,
          0,
          0.2459016393442623,
          0.07586206896551724,
          0.05660377358490566,
          0,
          0.028169014084507043,
          0.2459016393442623,
          0.08080808080808081,
          0.04132231404958678,
          0.040983606557377046,
          0.01,
          0,
          0.2459016393442623,
          0.058823529411764705,
          0.08333333333333333,
          0.06306306306306306,
          0.0125,
          0.017857142857142856,
          0.011494252873563218,
          0.25,
          0.05555555555555555,
          0.14285714285714285,
          0.04950495049504951,
          0.047619047619047616,
          0.014285714285714285,
          0.017543859649122806,
          0,
          0.25,
          0.15789473684210525,
          0.016666666666666666,
          0.07352941176470588,
          0.04950495049504951,
          0.05
         ],
         "yaxis": "y3"
        },
        {
         "marker": {
          "color": "black"
         },
         "mode": "lines",
         "name": "all data default rate",
         "showlegend": false,
         "type": "scatter",
         "x": [
          1,
          10
         ],
         "xaxis": "x3",
         "y": [
          0.067,
          0.067
         ],
         "yaxis": "y3"
        },
        {
         "marker": {
          "color": "blue"
         },
         "mode": "markers",
         "name": "train default rate",
         "showlegend": false,
         "type": "scatter",
         "x": [
          2,
          2,
          3,
          3,
          3,
          4,
          4,
          4,
          4,
          5,
          5,
          5,
          5,
          5,
          6,
          6,
          6,
          6,
          6,
          6,
          7,
          7,
          7,
          7,
          7,
          7,
          7,
          8,
          8,
          8,
          8,
          8,
          8,
          8,
          8,
          9,
          9,
          9,
          9,
          9,
          9,
          9,
          9,
          9
         ],
         "xaxis": "x4",
         "y": [
          0.11386138613861387,
          0.03768844221105527,
          0.1270718232044199,
          0.03875968992248062,
          0.031055900621118012,
          0.03773584905660377,
          0.051470588235294115,
          0.03597122302158273,
          0.26666666666666666,
          0.02631578947368421,
          0.031746031746031744,
          0.04065040650406504,
          0.05555555555555555,
          0.13636363636363635,
          0.05357142857142857,
          0,
          0.04310344827586207,
          0.058333333333333334,
          0.26666666666666666,
          0.02857142857142857,
          0,
          0.05128205128205128,
          0.047619047619047616,
          0.028169014084507043,
          0.26666666666666666,
          0.034482758620689655,
          0.06542056074766354,
          0.0625,
          0,
          0.04854368932038835,
          0.26666666666666666,
          0.05128205128205128,
          0.02912621359223301,
          0,
          0.06363636363636363,
          0,
          0.05970149253731343,
          0.0449438202247191,
          0.06542056074766354,
          0.03333333333333333,
          0.05555555555555555,
          0.017241379310344827,
          0,
          0.26666666666666666
         ],
         "yaxis": "y4"
        },
        {
         "marker": {
          "color": "black"
         },
         "mode": "lines",
         "name": "all data default rate",
         "showlegend": false,
         "type": "scatter",
         "x": [
          1,
          10
         ],
         "xaxis": "x4",
         "y": [
          0.067,
          0.067
         ],
         "yaxis": "y4"
        },
        {
         "marker": {
          "color": "blue"
         },
         "mode": "markers",
         "name": "train default rate",
         "showlegend": false,
         "type": "scatter",
         "x": [
          2,
          2,
          3,
          3,
          3,
          4,
          4,
          4,
          4,
          5,
          5,
          5,
          5,
          5,
          6,
          6,
          6,
          6,
          6,
          6,
          7,
          7,
          7,
          7,
          7,
          7,
          7,
          8,
          8,
          8,
          8,
          8,
          8,
          8,
          8,
          9,
          9,
          9,
          9,
          9,
          9,
          9,
          9,
          9
         ],
         "xaxis": "x5",
         "y": [
          0.03935185185185185,
          0.125,
          0.3,
          0.06896551724137931,
          0.04292929292929293,
          0.08,
          0.3,
          0.03560830860534125,
          0.060240963855421686,
          0.1,
          0.06557377049180328,
          0.08053691275167785,
          0.3103448275862069,
          0.02572347266881029,
          0.05263157894736842,
          0.0847457627118644,
          0.0821917808219178,
          0.3103448275862069,
          0.01773049645390071,
          0.10869565217391304,
          0.05263157894736842,
          0.09523809523809523,
          0.030303030303030304,
          0.32142857142857145,
          0.018315018315018316,
          0.10869565217391304,
          0.102803738317757,
          0.1875,
          0.07142857142857142,
          0.03076923076923077,
          0.32142857142857145,
          0.017985611510791366,
          0.09302325581395349,
          0.102803738317757,
          0.05714285714285714,
          0.21428571428571427,
          0.125,
          0.031746031746031744,
          0.32142857142857145,
          0.018867924528301886,
          0.102803738317757,
          0.05714285714285714,
          0.09302325581395349,
          0.020080321285140562
         ],
         "yaxis": "y5"
        },
        {
         "marker": {
          "color": "black"
         },
         "mode": "lines",
         "name": "all data default rate",
         "showlegend": false,
         "type": "scatter",
         "x": [
          1,
          10
         ],
         "xaxis": "x5",
         "y": [
          0.067,
          0.067
         ],
         "yaxis": "y5"
        },
        {
         "marker": {
          "color": "blue"
         },
         "mode": "markers",
         "name": "train default rate",
         "showlegend": false,
         "type": "scatter",
         "x": [
          2,
          2,
          3,
          3,
          3,
          4,
          4,
          4,
          4,
          5,
          5,
          5,
          5,
          5,
          6,
          6,
          6,
          6,
          6,
          6,
          7,
          7,
          7,
          7,
          7,
          7,
          7,
          8,
          8,
          8,
          8,
          8,
          8,
          8,
          8,
          9,
          9,
          9,
          9,
          9,
          9,
          9,
          9,
          9
         ],
         "xaxis": "x6",
         "y": [
          0.21052631578947367,
          0.03564356435643564,
          0.0990990990990991,
          0.03938730853391685,
          0.28125,
          0.05263157894736842,
          0.03712871287128713,
          0.35714285714285715,
          0.22448979591836735,
          0.04065040650406504,
          0.08333333333333333,
          0.4444444444444444,
          0.2222222222222222,
          0.04,
          0.03759398496240601,
          0.09302325581395349,
          0.041666666666666664,
          0.2222222222222222,
          0.4444444444444444,
          0.038461538461538464,
          0.040983606557377046,
          0.10526315789473684,
          0.04285714285714286,
          0.2222222222222222,
          0.4444444444444444,
          0.0967741935483871,
          0.031578947368421054,
          0.040983606557377046,
          0.10526315789473684,
          0.2222222222222222,
          0.4444444444444444,
          0.02262443438914027,
          0.04411764705882353,
          0.1,
          0.05970149253731343,
          0.07692307692307693,
          0.125,
          0.2222222222222222,
          0.4444444444444444,
          0.02262443438914027,
          0.046875,
          0.1,
          0.05970149253731343,
          0.040983606557377046
         ],
         "yaxis": "y6"
        },
        {
         "marker": {
          "color": "black"
         },
         "mode": "lines",
         "name": "all data default rate",
         "showlegend": false,
         "type": "scatter",
         "x": [
          1,
          10
         ],
         "xaxis": "x6",
         "y": [
          0.067,
          0.067
         ],
         "yaxis": "y6"
        },
        {
         "marker": {
          "color": "blue"
         },
         "mode": "markers",
         "name": "train default rate",
         "showlegend": false,
         "type": "scatter",
         "x": [
          2,
          2,
          3,
          3,
          3,
          4,
          4,
          4,
          4,
          5,
          5,
          5,
          5,
          5,
          6,
          6,
          6,
          6,
          6,
          6,
          7,
          7,
          7,
          7,
          7,
          7,
          7,
          8,
          8,
          8,
          8,
          8,
          8,
          8,
          8,
          9,
          9,
          9,
          9,
          9,
          9,
          9,
          9,
          9
         ],
         "xaxis": "x7",
         "y": [
          0.19,
          0.038,
          0.11206896551724138,
          0.28125,
          0.035398230088495575,
          0.3157894736842105,
          0.039473684210526314,
          0.0398936170212766,
          0.20754716981132076,
          0.06666666666666667,
          0.03676470588235294,
          0.04155124653739612,
          0.22448979591836735,
          0.4444444444444444,
          0.06666666666666667,
          0.03676470588235294,
          0.03873239436619718,
          0.22448979591836735,
          0.4444444444444444,
          0.05194805194805195,
          0.09090909090909091,
          0.03759398496240601,
          0.046875,
          0.22448979591836735,
          0.4444444444444444,
          0.1,
          0.031914893617021274,
          0.09090909090909091,
          0.03759398496240601,
          0.04838709677419355,
          0.22448979591836735,
          0.4444444444444444,
          0.1,
          0.022727272727272728,
          0.0625,
          0.09090909090909091,
          0.03787878787878788,
          0.047619047619047616,
          0.22448979591836735,
          0.4444444444444444,
          0.16666666666666666,
          0.05555555555555555,
          0.027777777777777776,
          0.03543307086614173
         ],
         "yaxis": "y7"
        },
        {
         "marker": {
          "color": "black"
         },
         "mode": "lines",
         "name": "all data default rate",
         "showlegend": false,
         "type": "scatter",
         "x": [
          1,
          10
         ],
         "xaxis": "x7",
         "y": [
          0.067,
          0.067
         ],
         "yaxis": "y7"
        },
        {
         "marker": {
          "color": "blue"
         },
         "mode": "markers",
         "name": "train default rate",
         "showlegend": false,
         "type": "scatter",
         "x": [
          2,
          2,
          3,
          3,
          3,
          4,
          4,
          4,
          4,
          5,
          5,
          5,
          5,
          5,
          6,
          6,
          6,
          6,
          6,
          6,
          7,
          7,
          7,
          7,
          7,
          7,
          7,
          8,
          8,
          8,
          8,
          8,
          8,
          8,
          8,
          9,
          9,
          9,
          9,
          9,
          9,
          9,
          9,
          9
         ],
         "xaxis": "x8",
         "y": [
          0.2,
          0.0392156862745098,
          0.09166666666666666,
          0.038288288288288286,
          0.2777777777777778,
          0.2857142857142857,
          0.03865979381443299,
          0.17391304347826086,
          0.047619047619047616,
          0.2857142857142857,
          0.08333333333333333,
          0.1875,
          0.03773584905660377,
          0.03865979381443299,
          0.2857142857142857,
          0.12903225806451613,
          0.1875,
          0.02564102564102564,
          0.03865979381443299,
          0.03571428571428571,
          0.2,
          0.09523809523809523,
          0.03865979381443299,
          0.03896103896103896,
          0.08333333333333333,
          0.022727272727272728,
          0.3157894736842105,
          0.2,
          0.1111111111111111,
          0.015384615384615385,
          0.06896551724137931,
          0.08333333333333333,
          0.022727272727272728,
          0.3157894736842105,
          0.040106951871657755,
          0.2,
          0.11764705882352941,
          0.02040816326530612,
          0.06896551724137931,
          0.08333333333333333,
          0.022727272727272728,
          0.3157894736842105,
          0.040983606557377046,
          0.034013605442176874
         ],
         "yaxis": "y8"
        },
        {
         "marker": {
          "color": "black"
         },
         "mode": "lines",
         "name": "all data default rate",
         "showlegend": false,
         "type": "scatter",
         "x": [
          1,
          10
         ],
         "xaxis": "x8",
         "y": [
          0.067,
          0.067
         ],
         "yaxis": "y8"
        },
        {
         "marker": {
          "color": "red"
         },
         "mode": "markers",
         "name": "test default rate",
         "showlegend": true,
         "type": "scatter",
         "x": [
          2,
          2,
          3,
          3,
          3,
          4,
          4,
          4,
          4,
          5,
          5,
          5,
          5,
          5,
          6,
          6,
          6,
          6,
          6,
          6,
          7,
          7,
          7,
          7,
          7,
          7,
          7,
          8,
          8,
          8,
          8,
          8,
          8,
          8,
          8,
          9,
          9,
          9,
          9,
          9,
          9,
          9,
          9,
          9
         ],
         "xaxis": "x",
         "y": [
          0.029411764705882353,
          0.09292035398230089,
          0.13013698630136986,
          0.0038314176245210726,
          0.06217616580310881,
          0.1721311475409836,
          0.004201680672268907,
          0,
          0.07633587786259542,
          0.3150684931506849,
          0.009708737864077669,
          0,
          0.024691358024691357,
          0.034013605442176874,
          0.323943661971831,
          0,
          0,
          0.036036036036036036,
          0.038461538461538464,
          0.01639344262295082,
          0.32857142857142857,
          0,
          0,
          0.038834951456310676,
          0.047619047619047616,
          0.02666666666666667,
          0,
          0.3333333333333333,
          0,
          0,
          0.047619047619047616,
          0.061224489795918366,
          0.028169014084507043,
          0,
          0,
          0.3877551020408163,
          0,
          0,
          0.025,
          0.1346153846153846,
          0,
          0,
          0.028169014084507043,
          0.05555555555555555
         ],
         "yaxis": "y"
        },
        {
         "marker": {
          "color": "red"
         },
         "mode": "markers",
         "name": "test default rate",
         "showlegend": false,
         "type": "scatter",
         "x": [
          2,
          2,
          3,
          3,
          3,
          4,
          4,
          4,
          4,
          5,
          5,
          5,
          5,
          5,
          6,
          6,
          6,
          6,
          6,
          6,
          7,
          7,
          7,
          7,
          7,
          7,
          7,
          8,
          8,
          8,
          8,
          8,
          8,
          8,
          8,
          9,
          9,
          9,
          9,
          9,
          9,
          9,
          9,
          9
         ],
         "xaxis": "x2",
         "y": [
          0.12903225806451613,
          0.010443864229765013,
          0.14835164835164835,
          0.02066115702479339,
          0,
          0,
          0.022123893805309734,
          0.037037037037037035,
          0.3492063492063492,
          0,
          0,
          0.04201680672268908,
          0.3442622950819672,
          0.038461538461538464,
          0,
          0,
          0.043478260869565216,
          0.3442622950819672,
          0.05,
          0.014814814814814815,
          0,
          0,
          0,
          0.3442622950819672,
          0.08333333333333333,
          0.009345794392523364,
          0.05102040816326531,
          0,
          0,
          0.012345679012345678,
          0.1346153846153846,
          0.05714285714285714,
          0.008130081300813009,
          0.37254901960784315,
          0.02531645569620253,
          0,
          0.014084507042253521,
          0.05,
          0.10204081632653061,
          0.0125,
          0.04,
          0.3508771929824561,
          0,
          0
         ],
         "yaxis": "y2"
        },
        {
         "marker": {
          "color": "red"
         },
         "mode": "markers",
         "name": "test default rate",
         "showlegend": false,
         "type": "scatter",
         "x": [
          2,
          2,
          3,
          3,
          3,
          4,
          4,
          4,
          4,
          5,
          5,
          5,
          5,
          5,
          6,
          6,
          6,
          6,
          6,
          6,
          7,
          7,
          7,
          7,
          7,
          7,
          7,
          8,
          8,
          8,
          8,
          8,
          8,
          8,
          8,
          9,
          9,
          9,
          9,
          9,
          9,
          9,
          9,
          9
         ],
         "xaxis": "x3",
         "y": [
          0.12442396313364056,
          0.013054830287206266,
          0.14444444444444443,
          0.024489795918367346,
          0,
          0.1625,
          0,
          0,
          0.039735099337748346,
          0.02654867256637168,
          0,
          0.006493506493506494,
          0.359375,
          0.04,
          0.022988505747126436,
          0,
          0.007462686567164179,
          0.359375,
          0.05825242718446602,
          0,
          0.008,
          0,
          0,
          0.359375,
          0,
          0.08771929824561403,
          0.03260869565217391,
          0.010752688172043012,
          0,
          0,
          0.3548387096774194,
          0.03225806451612903,
          0.09090909090909091,
          0.02666666666666667,
          0,
          0.013513513513513514,
          0,
          0.013157894736842105,
          0.3548387096774194,
          0.09615384615384616,
          0,
          0.02040816326530612,
          0.02666666666666667,
          0
         ],
         "yaxis": "y3"
        },
        {
         "marker": {
          "color": "red"
         },
         "mode": "markers",
         "name": "test default rate",
         "showlegend": false,
         "type": "scatter",
         "x": [
          2,
          2,
          3,
          3,
          3,
          4,
          4,
          4,
          4,
          5,
          5,
          5,
          5,
          5,
          6,
          6,
          6,
          6,
          6,
          6,
          7,
          7,
          7,
          7,
          7,
          7,
          7,
          8,
          8,
          8,
          8,
          8,
          8,
          8,
          8,
          9,
          9,
          9,
          9,
          9,
          9,
          9,
          9,
          9
         ],
         "xaxis": "x4",
         "y": [
          0.13270142180094788,
          0.010282776349614395,
          0.15555555555555556,
          0.01646090534979424,
          0,
          0.016666666666666666,
          0.061224489795918366,
          0,
          0.34545454545454546,
          0.013793103448275862,
          0,
          0,
          0.038461538461538464,
          0.18055555555555555,
          0.02631578947368421,
          0,
          0,
          0.06666666666666667,
          0.35185185185185186,
          0.015037593984962405,
          0,
          0.014705882352941176,
          0,
          0.0425531914893617,
          0.35185185185185186,
          0.008928571428571428,
          0.0673076923076923,
          0.028985507246376812,
          0,
          0,
          0.35185185185185186,
          0.08888888888888889,
          0,
          0,
          0.06666666666666667,
          0,
          0,
          0,
          0.06862745098039216,
          0.05128205128205128,
          0.03571428571428571,
          0,
          0,
          0.35185185185185186
         ],
         "yaxis": "y4"
        },
        {
         "marker": {
          "color": "red"
         },
         "mode": "markers",
         "name": "test default rate",
         "showlegend": false,
         "type": "scatter",
         "x": [
          2,
          2,
          3,
          3,
          3,
          4,
          4,
          4,
          4,
          5,
          5,
          5,
          5,
          5,
          6,
          6,
          6,
          6,
          6,
          6,
          7,
          7,
          7,
          7,
          7,
          7,
          7,
          8,
          8,
          8,
          8,
          8,
          8,
          8,
          8,
          9,
          9,
          9,
          9,
          9,
          9,
          9,
          9,
          9
         ],
         "xaxis": "x5",
         "y": [
          0.01598173515981735,
          0.15432098765432098,
          0.45161290322580644,
          0.06666666666666667,
          0.017326732673267328,
          0.07746478873239436,
          0.42424242424242425,
          0.016901408450704224,
          0.014285714285714285,
          0.0625,
          0.05263157894736842,
          0.08208955223880597,
          0.45161290322580644,
          0.0030303030303030303,
          0.08695652173913043,
          0.06153846153846154,
          0.08270676691729323,
          0.45161290322580644,
          0.0032258064516129032,
          0,
          0.08695652173913043,
          0.06818181818181818,
          0.0625,
          0.4827586206896552,
          0.003436426116838488,
          0,
          0.07368421052631578,
          0,
          0.07142857142857142,
          0.0625,
          0.4827586206896552,
          0.0034602076124567475,
          0,
          0.07368421052631578,
          0.0967741935483871,
          0,
          0.07142857142857142,
          0.06329113924050633,
          0.4827586206896552,
          0.022222222222222223,
          0.07368421052631578,
          0.0967741935483871,
          0,
          0.0038314176245210726
         ],
         "yaxis": "y5"
        },
        {
         "marker": {
          "color": "red"
         },
         "mode": "markers",
         "name": "test default rate",
         "showlegend": false,
         "type": "scatter",
         "x": [
          2,
          2,
          3,
          3,
          3,
          4,
          4,
          4,
          4,
          5,
          5,
          5,
          5,
          5,
          6,
          6,
          6,
          6,
          6,
          6,
          7,
          7,
          7,
          7,
          7,
          7,
          7,
          8,
          8,
          8,
          8,
          8,
          8,
          8,
          8,
          9,
          9,
          9,
          9,
          9,
          9,
          9,
          9,
          9
         ],
         "xaxis": "x6",
         "y": [
          0.24742268041237114,
          0.015904572564612324,
          0.1411764705882353,
          0.014583333333333334,
          0.37142857142857144,
          0.03333333333333333,
          0.014742014742014743,
          0.13043478260869565,
          0.38,
          0.00819672131147541,
          0.10144927536231885,
          0.14285714285714285,
          0.4418604651162791,
          0.011142061281337047,
          0.007575757575757576,
          0.1,
          0.023255813953488372,
          0.4418604651162791,
          0.14285714285714285,
          0,
          0.008403361344537815,
          0.09803921568627451,
          0.038461538461538464,
          0.4418604651162791,
          0.14285714285714285,
          0.10526315789473684,
          0.0035335689045936395,
          0.008403361344537815,
          0.09803921568627451,
          0.4418604651162791,
          0.14285714285714285,
          0.0045662100456621,
          0.038461538461538464,
          0.1111111111111111,
          0,
          0.125,
          0.07407407407407407,
          0.4418604651162791,
          0.14285714285714285,
          0.0045662100456621,
          0.02857142857142857,
          0.1111111111111111,
          0,
          0.008403361344537815
         ],
         "yaxis": "y6"
        },
        {
         "marker": {
          "color": "red"
         },
         "mode": "markers",
         "name": "test default rate",
         "showlegend": false,
         "type": "scatter",
         "x": [
          2,
          2,
          3,
          3,
          3,
          4,
          4,
          4,
          4,
          5,
          5,
          5,
          5,
          5,
          6,
          6,
          6,
          6,
          6,
          6,
          7,
          7,
          7,
          7,
          7,
          7,
          7,
          8,
          8,
          8,
          8,
          8,
          8,
          8,
          8,
          9,
          9,
          9,
          9,
          9,
          9,
          9,
          9,
          9
         ],
         "xaxis": "x7",
         "y": [
          0.25,
          0.015873015873015872,
          0.13186813186813187,
          0.37142857142857144,
          0.014767932489451477,
          0.08695652173913043,
          0.02040816326530612,
          0.016,
          0.38181818181818183,
          0.12307692307692308,
          0.007462686567164179,
          0.008645533141210375,
          0.40425531914893614,
          0.14285714285714285,
          0.12307692307692308,
          0.007462686567164179,
          0.010869565217391304,
          0.40425531914893614,
          0.14285714285714285,
          0,
          0.125,
          0.007462686567164179,
          0.029411764705882353,
          0.40425531914893614,
          0.14285714285714285,
          0.10526315789473684,
          0.0036101083032490976,
          0.125,
          0.007462686567164179,
          0.029850746268656716,
          0.40425531914893614,
          0.14285714285714285,
          0.10526315789473684,
          0.0045871559633027525,
          0,
          0.13043478260869565,
          0.007575757575757576,
          0.041666666666666664,
          0.40425531914893614,
          0.14285714285714285,
          0.15384615384615385,
          0.1,
          0,
          0.003861003861003861
         ],
         "yaxis": "y7"
        },
        {
         "marker": {
          "color": "red"
         },
         "mode": "markers",
         "name": "test default rate",
         "showlegend": false,
         "type": "scatter",
         "x": [
          2,
          2,
          3,
          3,
          3,
          4,
          4,
          4,
          4,
          5,
          5,
          5,
          5,
          5,
          6,
          6,
          6,
          6,
          6,
          6,
          7,
          7,
          7,
          7,
          7,
          7,
          7,
          8,
          8,
          8,
          8,
          8,
          8,
          8,
          8,
          9,
          9,
          9,
          9,
          9,
          9,
          9,
          9,
          9
         ],
         "xaxis": "x8",
         "y": [
          0.26666666666666666,
          0.01568627450980392,
          0.0673076923076923,
          0.01327433628318584,
          0.4318181818181818,
          0.4222222222222222,
          0.01092896174863388,
          0.16,
          0.03048780487804878,
          0.4418604651162791,
          0.09523809523809523,
          0,
          0.025,
          0.01092896174863388,
          0.4418604651162791,
          0.1276595744680851,
          0,
          0.047619047619047616,
          0.01092896174863388,
          0.017391304347826087,
          0,
          0.1111111111111111,
          0.01092896174863388,
          0,
          0.2,
          0.08695652173913043,
          0.4318181818181818,
          0,
          0.08333333333333333,
          0.029411764705882353,
          0,
          0.2,
          0.08695652173913043,
          0.4318181818181818,
          0.005698005698005698,
          0,
          0.08333333333333333,
          0.011494252873563218,
          0,
          0.2,
          0.08695652173913043,
          0.4318181818181818,
          0.01951219512195122,
          0
         ],
         "yaxis": "y8"
        }
       ],
       "layout": {
        "annotations": [
         {
          "font": {
           "size": 16
          },
          "showarrow": false,
          "text": "All, EW",
          "x": 0.10625,
          "xanchor": "center",
          "xref": "paper",
          "y": 1,
          "yanchor": "bottom",
          "yref": "paper"
         },
         {
          "font": {
           "size": 16
          },
          "showarrow": false,
          "text": "All, REG",
          "x": 0.36875,
          "xanchor": "center",
          "xref": "paper",
          "y": 1,
          "yanchor": "bottom",
          "yref": "paper"
         },
         {
          "font": {
           "size": 16
          },
          "showarrow": false,
          "text": "All, LR",
          "x": 0.6312500000000001,
          "xanchor": "center",
          "xref": "paper",
          "y": 1,
          "yanchor": "bottom",
          "yref": "paper"
         },
         {
          "font": {
           "size": 16
          },
          "showarrow": false,
          "text": "ALL, MI",
          "x": 0.89375,
          "xanchor": "center",
          "xref": "paper",
          "y": 1,
          "yanchor": "bottom",
          "yref": "paper"
         },
         {
          "font": {
           "size": 16
          },
          "showarrow": false,
          "text": "POS, EW",
          "x": 0.10625,
          "xanchor": "center",
          "xref": "paper",
          "y": 0.375,
          "yanchor": "bottom",
          "yref": "paper"
         },
         {
          "font": {
           "size": 16
          },
          "showarrow": false,
          "text": "POS, REG",
          "x": 0.36875,
          "xanchor": "center",
          "xref": "paper",
          "y": 0.375,
          "yanchor": "bottom",
          "yref": "paper"
         },
         {
          "font": {
           "size": 16
          },
          "showarrow": false,
          "text": "POS, LR",
          "x": 0.6312500000000001,
          "xanchor": "center",
          "xref": "paper",
          "y": 0.375,
          "yanchor": "bottom",
          "yref": "paper"
         },
         {
          "font": {
           "size": 16
          },
          "showarrow": false,
          "text": "POS, MI",
          "x": 0.89375,
          "xanchor": "center",
          "xref": "paper",
          "y": 0.375,
          "yanchor": "bottom",
          "yref": "paper"
         }
        ],
        "height": 800,
        "template": {
         "data": {
          "bar": [
           {
            "error_x": {
             "color": "#2a3f5f"
            },
            "error_y": {
             "color": "#2a3f5f"
            },
            "marker": {
             "line": {
              "color": "#E5ECF6",
              "width": 0.5
             },
             "pattern": {
              "fillmode": "overlay",
              "size": 10,
              "solidity": 0.2
             }
            },
            "type": "bar"
           }
          ],
          "barpolar": [
           {
            "marker": {
             "line": {
              "color": "#E5ECF6",
              "width": 0.5
             },
             "pattern": {
              "fillmode": "overlay",
              "size": 10,
              "solidity": 0.2
             }
            },
            "type": "barpolar"
           }
          ],
          "carpet": [
           {
            "aaxis": {
             "endlinecolor": "#2a3f5f",
             "gridcolor": "white",
             "linecolor": "white",
             "minorgridcolor": "white",
             "startlinecolor": "#2a3f5f"
            },
            "baxis": {
             "endlinecolor": "#2a3f5f",
             "gridcolor": "white",
             "linecolor": "white",
             "minorgridcolor": "white",
             "startlinecolor": "#2a3f5f"
            },
            "type": "carpet"
           }
          ],
          "choropleth": [
           {
            "colorbar": {
             "outlinewidth": 0,
             "ticks": ""
            },
            "type": "choropleth"
           }
          ],
          "contour": [
           {
            "colorbar": {
             "outlinewidth": 0,
             "ticks": ""
            },
            "colorscale": [
             [
              0,
              "#0d0887"
             ],
             [
              0.1111111111111111,
              "#46039f"
             ],
             [
              0.2222222222222222,
              "#7201a8"
             ],
             [
              0.3333333333333333,
              "#9c179e"
             ],
             [
              0.4444444444444444,
              "#bd3786"
             ],
             [
              0.5555555555555556,
              "#d8576b"
             ],
             [
              0.6666666666666666,
              "#ed7953"
             ],
             [
              0.7777777777777778,
              "#fb9f3a"
             ],
             [
              0.8888888888888888,
              "#fdca26"
             ],
             [
              1,
              "#f0f921"
             ]
            ],
            "type": "contour"
           }
          ],
          "contourcarpet": [
           {
            "colorbar": {
             "outlinewidth": 0,
             "ticks": ""
            },
            "type": "contourcarpet"
           }
          ],
          "heatmap": [
           {
            "colorbar": {
             "outlinewidth": 0,
             "ticks": ""
            },
            "colorscale": [
             [
              0,
              "#0d0887"
             ],
             [
              0.1111111111111111,
              "#46039f"
             ],
             [
              0.2222222222222222,
              "#7201a8"
             ],
             [
              0.3333333333333333,
              "#9c179e"
             ],
             [
              0.4444444444444444,
              "#bd3786"
             ],
             [
              0.5555555555555556,
              "#d8576b"
             ],
             [
              0.6666666666666666,
              "#ed7953"
             ],
             [
              0.7777777777777778,
              "#fb9f3a"
             ],
             [
              0.8888888888888888,
              "#fdca26"
             ],
             [
              1,
              "#f0f921"
             ]
            ],
            "type": "heatmap"
           }
          ],
          "heatmapgl": [
           {
            "colorbar": {
             "outlinewidth": 0,
             "ticks": ""
            },
            "colorscale": [
             [
              0,
              "#0d0887"
             ],
             [
              0.1111111111111111,
              "#46039f"
             ],
             [
              0.2222222222222222,
              "#7201a8"
             ],
             [
              0.3333333333333333,
              "#9c179e"
             ],
             [
              0.4444444444444444,
              "#bd3786"
             ],
             [
              0.5555555555555556,
              "#d8576b"
             ],
             [
              0.6666666666666666,
              "#ed7953"
             ],
             [
              0.7777777777777778,
              "#fb9f3a"
             ],
             [
              0.8888888888888888,
              "#fdca26"
             ],
             [
              1,
              "#f0f921"
             ]
            ],
            "type": "heatmapgl"
           }
          ],
          "histogram": [
           {
            "marker": {
             "pattern": {
              "fillmode": "overlay",
              "size": 10,
              "solidity": 0.2
             }
            },
            "type": "histogram"
           }
          ],
          "histogram2d": [
           {
            "colorbar": {
             "outlinewidth": 0,
             "ticks": ""
            },
            "colorscale": [
             [
              0,
              "#0d0887"
             ],
             [
              0.1111111111111111,
              "#46039f"
             ],
             [
              0.2222222222222222,
              "#7201a8"
             ],
             [
              0.3333333333333333,
              "#9c179e"
             ],
             [
              0.4444444444444444,
              "#bd3786"
             ],
             [
              0.5555555555555556,
              "#d8576b"
             ],
             [
              0.6666666666666666,
              "#ed7953"
             ],
             [
              0.7777777777777778,
              "#fb9f3a"
             ],
             [
              0.8888888888888888,
              "#fdca26"
             ],
             [
              1,
              "#f0f921"
             ]
            ],
            "type": "histogram2d"
           }
          ],
          "histogram2dcontour": [
           {
            "colorbar": {
             "outlinewidth": 0,
             "ticks": ""
            },
            "colorscale": [
             [
              0,
              "#0d0887"
             ],
             [
              0.1111111111111111,
              "#46039f"
             ],
             [
              0.2222222222222222,
              "#7201a8"
             ],
             [
              0.3333333333333333,
              "#9c179e"
             ],
             [
              0.4444444444444444,
              "#bd3786"
             ],
             [
              0.5555555555555556,
              "#d8576b"
             ],
             [
              0.6666666666666666,
              "#ed7953"
             ],
             [
              0.7777777777777778,
              "#fb9f3a"
             ],
             [
              0.8888888888888888,
              "#fdca26"
             ],
             [
              1,
              "#f0f921"
             ]
            ],
            "type": "histogram2dcontour"
           }
          ],
          "mesh3d": [
           {
            "colorbar": {
             "outlinewidth": 0,
             "ticks": ""
            },
            "type": "mesh3d"
           }
          ],
          "parcoords": [
           {
            "line": {
             "colorbar": {
              "outlinewidth": 0,
              "ticks": ""
             }
            },
            "type": "parcoords"
           }
          ],
          "pie": [
           {
            "automargin": true,
            "type": "pie"
           }
          ],
          "scatter": [
           {
            "fillpattern": {
             "fillmode": "overlay",
             "size": 10,
             "solidity": 0.2
            },
            "type": "scatter"
           }
          ],
          "scatter3d": [
           {
            "line": {
             "colorbar": {
              "outlinewidth": 0,
              "ticks": ""
             }
            },
            "marker": {
             "colorbar": {
              "outlinewidth": 0,
              "ticks": ""
             }
            },
            "type": "scatter3d"
           }
          ],
          "scattercarpet": [
           {
            "marker": {
             "colorbar": {
              "outlinewidth": 0,
              "ticks": ""
             }
            },
            "type": "scattercarpet"
           }
          ],
          "scattergeo": [
           {
            "marker": {
             "colorbar": {
              "outlinewidth": 0,
              "ticks": ""
             }
            },
            "type": "scattergeo"
           }
          ],
          "scattergl": [
           {
            "marker": {
             "colorbar": {
              "outlinewidth": 0,
              "ticks": ""
             }
            },
            "type": "scattergl"
           }
          ],
          "scattermapbox": [
           {
            "marker": {
             "colorbar": {
              "outlinewidth": 0,
              "ticks": ""
             }
            },
            "type": "scattermapbox"
           }
          ],
          "scatterpolar": [
           {
            "marker": {
             "colorbar": {
              "outlinewidth": 0,
              "ticks": ""
             }
            },
            "type": "scatterpolar"
           }
          ],
          "scatterpolargl": [
           {
            "marker": {
             "colorbar": {
              "outlinewidth": 0,
              "ticks": ""
             }
            },
            "type": "scatterpolargl"
           }
          ],
          "scatterternary": [
           {
            "marker": {
             "colorbar": {
              "outlinewidth": 0,
              "ticks": ""
             }
            },
            "type": "scatterternary"
           }
          ],
          "surface": [
           {
            "colorbar": {
             "outlinewidth": 0,
             "ticks": ""
            },
            "colorscale": [
             [
              0,
              "#0d0887"
             ],
             [
              0.1111111111111111,
              "#46039f"
             ],
             [
              0.2222222222222222,
              "#7201a8"
             ],
             [
              0.3333333333333333,
              "#9c179e"
             ],
             [
              0.4444444444444444,
              "#bd3786"
             ],
             [
              0.5555555555555556,
              "#d8576b"
             ],
             [
              0.6666666666666666,
              "#ed7953"
             ],
             [
              0.7777777777777778,
              "#fb9f3a"
             ],
             [
              0.8888888888888888,
              "#fdca26"
             ],
             [
              1,
              "#f0f921"
             ]
            ],
            "type": "surface"
           }
          ],
          "table": [
           {
            "cells": {
             "fill": {
              "color": "#EBF0F8"
             },
             "line": {
              "color": "white"
             }
            },
            "header": {
             "fill": {
              "color": "#C8D4E3"
             },
             "line": {
              "color": "white"
             }
            },
            "type": "table"
           }
          ]
         },
         "layout": {
          "annotationdefaults": {
           "arrowcolor": "#2a3f5f",
           "arrowhead": 0,
           "arrowwidth": 1
          },
          "autotypenumbers": "strict",
          "coloraxis": {
           "colorbar": {
            "outlinewidth": 0,
            "ticks": ""
           }
          },
          "colorscale": {
           "diverging": [
            [
             0,
             "#8e0152"
            ],
            [
             0.1,
             "#c51b7d"
            ],
            [
             0.2,
             "#de77ae"
            ],
            [
             0.3,
             "#f1b6da"
            ],
            [
             0.4,
             "#fde0ef"
            ],
            [
             0.5,
             "#f7f7f7"
            ],
            [
             0.6,
             "#e6f5d0"
            ],
            [
             0.7,
             "#b8e186"
            ],
            [
             0.8,
             "#7fbc41"
            ],
            [
             0.9,
             "#4d9221"
            ],
            [
             1,
             "#276419"
            ]
           ],
           "sequential": [
            [
             0,
             "#0d0887"
            ],
            [
             0.1111111111111111,
             "#46039f"
            ],
            [
             0.2222222222222222,
             "#7201a8"
            ],
            [
             0.3333333333333333,
             "#9c179e"
            ],
            [
             0.4444444444444444,
             "#bd3786"
            ],
            [
             0.5555555555555556,
             "#d8576b"
            ],
            [
             0.6666666666666666,
             "#ed7953"
            ],
            [
             0.7777777777777778,
             "#fb9f3a"
            ],
            [
             0.8888888888888888,
             "#fdca26"
            ],
            [
             1,
             "#f0f921"
            ]
           ],
           "sequentialminus": [
            [
             0,
             "#0d0887"
            ],
            [
             0.1111111111111111,
             "#46039f"
            ],
            [
             0.2222222222222222,
             "#7201a8"
            ],
            [
             0.3333333333333333,
             "#9c179e"
            ],
            [
             0.4444444444444444,
             "#bd3786"
            ],
            [
             0.5555555555555556,
             "#d8576b"
            ],
            [
             0.6666666666666666,
             "#ed7953"
            ],
            [
             0.7777777777777778,
             "#fb9f3a"
            ],
            [
             0.8888888888888888,
             "#fdca26"
            ],
            [
             1,
             "#f0f921"
            ]
           ]
          },
          "colorway": [
           "#636efa",
           "#EF553B",
           "#00cc96",
           "#ab63fa",
           "#FFA15A",
           "#19d3f3",
           "#FF6692",
           "#B6E880",
           "#FF97FF",
           "#FECB52"
          ],
          "font": {
           "color": "#2a3f5f"
          },
          "geo": {
           "bgcolor": "white",
           "lakecolor": "white",
           "landcolor": "#E5ECF6",
           "showlakes": true,
           "showland": true,
           "subunitcolor": "white"
          },
          "hoverlabel": {
           "align": "left"
          },
          "hovermode": "closest",
          "mapbox": {
           "style": "light"
          },
          "paper_bgcolor": "white",
          "plot_bgcolor": "#E5ECF6",
          "polar": {
           "angularaxis": {
            "gridcolor": "white",
            "linecolor": "white",
            "ticks": ""
           },
           "bgcolor": "#E5ECF6",
           "radialaxis": {
            "gridcolor": "white",
            "linecolor": "white",
            "ticks": ""
           }
          },
          "scene": {
           "xaxis": {
            "backgroundcolor": "#E5ECF6",
            "gridcolor": "white",
            "gridwidth": 2,
            "linecolor": "white",
            "showbackground": true,
            "ticks": "",
            "zerolinecolor": "white"
           },
           "yaxis": {
            "backgroundcolor": "#E5ECF6",
            "gridcolor": "white",
            "gridwidth": 2,
            "linecolor": "white",
            "showbackground": true,
            "ticks": "",
            "zerolinecolor": "white"
           },
           "zaxis": {
            "backgroundcolor": "#E5ECF6",
            "gridcolor": "white",
            "gridwidth": 2,
            "linecolor": "white",
            "showbackground": true,
            "ticks": "",
            "zerolinecolor": "white"
           }
          },
          "shapedefaults": {
           "line": {
            "color": "#2a3f5f"
           }
          },
          "ternary": {
           "aaxis": {
            "gridcolor": "white",
            "linecolor": "white",
            "ticks": ""
           },
           "baxis": {
            "gridcolor": "white",
            "linecolor": "white",
            "ticks": ""
           },
           "bgcolor": "#E5ECF6",
           "caxis": {
            "gridcolor": "white",
            "linecolor": "white",
            "ticks": ""
           }
          },
          "title": {
           "x": 0.05
          },
          "xaxis": {
           "automargin": true,
           "gridcolor": "white",
           "linecolor": "white",
           "ticks": "",
           "title": {
            "standoff": 15
           },
           "zerolinecolor": "white",
           "zerolinewidth": 2
          },
          "yaxis": {
           "automargin": true,
           "gridcolor": "white",
           "linecolor": "white",
           "ticks": "",
           "title": {
            "standoff": 15
           },
           "zerolinecolor": "white",
           "zerolinewidth": 2
          }
         }
        },
        "width": 800,
        "xaxis": {
         "anchor": "y",
         "domain": [
          0,
          0.2125
         ],
         "dtick": 1,
         "range": [
          1.5,
          9.5
         ],
         "title": {
          "text": "K"
         }
        },
        "xaxis2": {
         "anchor": "y2",
         "domain": [
          0.2625,
          0.475
         ],
         "dtick": 1,
         "range": [
          1.5,
          9.5
         ],
         "title": {
          "text": "K"
         }
        },
        "xaxis3": {
         "anchor": "y3",
         "domain": [
          0.525,
          0.7375
         ],
         "dtick": 1,
         "range": [
          1.5,
          9.5
         ],
         "title": {
          "text": "K"
         }
        },
        "xaxis4": {
         "anchor": "y4",
         "domain": [
          0.7875,
          1
         ],
         "dtick": 1,
         "range": [
          1.5,
          9.5
         ],
         "title": {
          "text": "K"
         }
        },
        "xaxis5": {
         "anchor": "y5",
         "domain": [
          0,
          0.2125
         ],
         "dtick": 1,
         "range": [
          1.5,
          9.5
         ],
         "title": {
          "text": "K"
         }
        },
        "xaxis6": {
         "anchor": "y6",
         "domain": [
          0.2625,
          0.475
         ],
         "dtick": 1,
         "range": [
          1.5,
          9.5
         ],
         "title": {
          "text": "K"
         }
        },
        "xaxis7": {
         "anchor": "y7",
         "domain": [
          0.525,
          0.7375
         ],
         "dtick": 1,
         "range": [
          1.5,
          9.5
         ],
         "title": {
          "text": "K"
         }
        },
        "xaxis8": {
         "anchor": "y8",
         "domain": [
          0.7875,
          1
         ],
         "dtick": 1,
         "range": [
          1.5,
          9.5
         ],
         "title": {
          "text": "K"
         }
        },
        "yaxis": {
         "anchor": "x",
         "domain": [
          0.625,
          1
         ],
         "range": [
          0,
          0.6
         ],
         "title": {
          "text": "default rate"
         }
        },
        "yaxis2": {
         "anchor": "x2",
         "domain": [
          0.625,
          1
         ],
         "matches": "y",
         "showticklabels": false
        },
        "yaxis3": {
         "anchor": "x3",
         "domain": [
          0.625,
          1
         ],
         "matches": "y",
         "showticklabels": false
        },
        "yaxis4": {
         "anchor": "x4",
         "domain": [
          0.625,
          1
         ],
         "matches": "y",
         "showticklabels": false
        },
        "yaxis5": {
         "anchor": "x5",
         "domain": [
          0,
          0.375
         ],
         "range": [
          0,
          0.6
         ],
         "title": {
          "text": "default rate"
         }
        },
        "yaxis6": {
         "anchor": "x6",
         "domain": [
          0,
          0.375
         ],
         "matches": "y5",
         "showticklabels": false
        },
        "yaxis7": {
         "anchor": "x7",
         "domain": [
          0,
          0.375
         ],
         "matches": "y5",
         "showticklabels": false
        },
        "yaxis8": {
         "anchor": "x8",
         "domain": [
          0,
          0.375
         ],
         "matches": "y5",
         "showticklabels": false
        }
       }
      }
     },
     "metadata": {},
     "output_type": "display_data"
    }
   ],
   "source": [
    "default_rate(defaultrate_data)"
   ]
  },
  {
   "cell_type": "code",
   "execution_count": 120,
   "metadata": {},
   "outputs": [
    {
     "data": {
      "application/vnd.plotly.v1+json": {
       "config": {
        "plotlyServerURL": "https://plot.ly"
       },
       "data": [
        {
         "marker": {
          "color": "blue"
         },
         "name": "EW, train",
         "showlegend": true,
         "type": "scatter",
         "x": [
          2,
          3,
          4,
          5,
          6,
          7,
          8,
          9
         ],
         "xaxis": "x",
         "y": [
          0.34010192427149644,
          0.32818419988244235,
          0.32087761289905337,
          0.27841632230288244,
          0.2942898589103154,
          0.30716238717873323,
          0.2936889103039906,
          0.2998895108488097
         ],
         "yaxis": "y"
        },
        {
         "marker": {
          "color": "peru"
         },
         "name": "REG, train",
         "showlegend": true,
         "type": "scatter",
         "x": [
          2,
          3,
          4,
          5,
          6,
          7,
          8,
          9
         ],
         "xaxis": "x",
         "y": [
          0.3258119792687254,
          0.32166700512425733,
          0.3086060500484454,
          0.29660893304340674,
          0.296696793370994,
          0.2898051048601923,
          0.290423841957376,
          0.29511602772959833
         ],
         "yaxis": "y"
        },
        {
         "marker": {
          "color": "red"
         },
         "name": "LR, train",
         "showlegend": true,
         "type": "scatter",
         "x": [
          2,
          3,
          4,
          5,
          6,
          7,
          8,
          9
         ],
         "xaxis": "x",
         "y": [
          0.3263989563395304,
          0.32213313917776215,
          0.3082342046859107,
          0.2909369143592451,
          0.2979727795759228,
          0.2944999287263725,
          0.2936159383984195,
          0.2869073432874828
         ],
         "yaxis": "y"
        },
        {
         "marker": {
          "color": "green"
         },
         "name": "MI, train",
         "showlegend": true,
         "type": "scatter",
         "x": [
          2,
          3,
          4,
          5,
          6,
          7,
          8,
          9
         ],
         "xaxis": "x",
         "y": [
          0.3258119792687254,
          0.3210245318244221,
          0.304152109819698,
          0.3192864886538821,
          0.29731447770391234,
          0.29584425779791534,
          0.2909641475150089,
          0.2918758780365701
         ],
         "yaxis": "y"
        },
        {
         "line": {
          "dash": "dot"
         },
         "marker": {
          "color": "blue"
         },
         "name": "EW, test",
         "showlegend": true,
         "type": "scatter",
         "x": [
          2,
          3,
          4,
          5,
          6,
          7,
          8,
          9
         ],
         "xaxis": "x",
         "y": [
          0.28737399421561727,
          0.25960198993392747,
          0.23523847961182745,
          0.21145678588709835,
          0.20403880262065904,
          0.19841663335124585,
          0.1933145522003076,
          0.191036215380573
         ],
         "yaxis": "y"
        },
        {
         "line": {
          "dash": "dot"
         },
         "marker": {
          "color": "peru"
         },
         "name": "REG, test",
         "showlegend": true,
         "type": "scatter",
         "x": [
          2,
          3,
          4,
          5,
          6,
          7,
          8,
          9
         ],
         "xaxis": "x",
         "y": [
          0.25408700642578536,
          0.24226748682894986,
          0.20713082703458047,
          0.2054559453761953,
          0.2067569047107503,
          0.19692625518789314,
          0.1981500133044416,
          0.20148234854759783
         ],
         "yaxis": "y"
        },
        {
         "line": {
          "dash": "dot"
         },
         "marker": {
          "color": "red"
         },
         "name": "LR, test",
         "showlegend": true,
         "type": "scatter",
         "x": [
          2,
          3,
          4,
          5,
          6,
          7,
          8,
          9
         ],
         "xaxis": "x",
         "y": [
          0.26010772557735756,
          0.24649391724093694,
          0.23140605595093755,
          0.198775867591214,
          0.19257986431926405,
          0.18702649667470772,
          0.19395483348563525,
          0.19598889581220702
         ],
         "yaxis": "y"
        },
        {
         "line": {
          "dash": "dot"
         },
         "marker": {
          "color": "green"
         },
         "name": "MI, test",
         "showlegend": true,
         "type": "scatter",
         "x": [
          2,
          3,
          4,
          5,
          6,
          7,
          8,
          9
         ],
         "xaxis": "x",
         "y": [
          0.25221405682346754,
          0.23610818124518235,
          0.21557163229288706,
          0.22965202718897376,
          0.21320013439817243,
          0.21193126374402285,
          0.20027515974681906,
          0.20422964822781042
         ],
         "yaxis": "y"
        },
        {
         "marker": {
          "color": "black"
         },
         "name": "K=1, train, test",
         "showlegend": true,
         "type": "scatter",
         "x": [
          2,
          9
         ],
         "xaxis": "x",
         "y": [
          0.3546,
          0.3546
         ],
         "yaxis": "y"
        },
        {
         "marker": {
          "color": "blue"
         },
         "name": "EW, train",
         "showlegend": false,
         "type": "scatter",
         "x": [
          2,
          3,
          4,
          5,
          6,
          7,
          8,
          9
         ],
         "xaxis": "x3",
         "y": [
          0.32472646916945913,
          0.322630039639938,
          0.3183136011024757,
          0.32376054680340965,
          0.31422106523323556,
          0.3138480535948368,
          0.31113725851619256,
          0.3155959909228322
         ],
         "yaxis": "y3"
        },
        {
         "marker": {
          "color": "peru"
         },
         "name": "REG, train",
         "showlegend": false,
         "type": "scatter",
         "x": [
          2,
          3,
          4,
          5,
          6,
          7,
          8,
          9
         ],
         "xaxis": "x3",
         "y": [
          0.3262050389887593,
          0.3214417663564156,
          0.3088505713552392,
          0.2913648722808416,
          0.29636447735504856,
          0.2966101089712866,
          0.2878642147903781,
          0.29681635378198296
         ],
         "yaxis": "y3"
        },
        {
         "marker": {
          "color": "red"
         },
         "name": "LR, train",
         "showlegend": false,
         "type": "scatter",
         "x": [
          2,
          3,
          4,
          5,
          6,
          7,
          8,
          9
         ],
         "xaxis": "x3",
         "y": [
          0.3262050389887593,
          0.32211072708618815,
          0.30888557660547483,
          0.29486748469402513,
          0.30047126677856295,
          0.29401347062060584,
          0.28848876598153067,
          0.2968469736558428
         ],
         "yaxis": "y3"
        },
        {
         "marker": {
          "color": "green"
         },
         "name": "MI, train",
         "showlegend": false,
         "type": "scatter",
         "x": [
          2,
          3,
          4,
          5,
          6,
          7,
          8,
          9
         ],
         "xaxis": "x3",
         "y": [
          0.3381096081335865,
          0.3175234231633788,
          0.3163968765129464,
          0.307938255355789,
          0.30265907075245385,
          0.3075816299875298,
          0.30866938562095536,
          0.30425289445072057
         ],
         "yaxis": "y3"
        },
        {
         "line": {
          "dash": "dot"
         },
         "marker": {
          "color": "blue"
         },
         "name": "EW, test",
         "showlegend": false,
         "type": "scatter",
         "x": [
          2,
          3,
          4,
          5,
          6,
          7,
          8,
          9
         ],
         "xaxis": "x3",
         "y": [
          0.27758871631649196,
          0.2741976855805643,
          0.2504105000935606,
          0.2767025741300861,
          0.2728137571277127,
          0.24544723774270277,
          0.2005672111261037,
          0.20044578047413905
         ],
         "yaxis": "y3"
        },
        {
         "line": {
          "dash": "dot"
         },
         "marker": {
          "color": "peru"
         },
         "name": "REG, test",
         "showlegend": false,
         "type": "scatter",
         "x": [
          2,
          3,
          4,
          5,
          6,
          7,
          8,
          9
         ],
         "xaxis": "x3",
         "y": [
          0.25439309225827916,
          0.24553606767683578,
          0.20896449859320299,
          0.20890064628656982,
          0.20660532517329416,
          0.20437758217673668,
          0.19662484605159453,
          0.1983886125873952
         ],
         "yaxis": "y3"
        },
        {
         "line": {
          "dash": "dot"
         },
         "marker": {
          "color": "red"
         },
         "name": "LR, test",
         "showlegend": false,
         "type": "scatter",
         "x": [
          2,
          3,
          4,
          5,
          6,
          7,
          8,
          9
         ],
         "xaxis": "x3",
         "y": [
          0.26010772557735756,
          0.24331478242325763,
          0.2013304795418715,
          0.2004122998464028,
          0.2018738759228309,
          0.2014021317164156,
          0.19323351135913555,
          0.1940897946466241
         ],
         "yaxis": "y3"
        },
        {
         "line": {
          "dash": "dot"
         },
         "marker": {
          "color": "green"
         },
         "name": "MI, test",
         "showlegend": false,
         "type": "scatter",
         "x": [
          2,
          3,
          4,
          5,
          6,
          7,
          8,
          9
         ],
         "xaxis": "x3",
         "y": [
          0.2899218803626239,
          0.24989759491822144,
          0.2568616571760428,
          0.2513490562606289,
          0.19593964308557024,
          0.1998005215726653,
          0.19403269791089756,
          0.19525013197369162
         ],
         "yaxis": "y3"
        },
        {
         "marker": {
          "color": "black"
         },
         "name": "K=1, train, test",
         "showlegend": false,
         "type": "scatter",
         "x": [
          2,
          9
         ],
         "xaxis": "x3",
         "y": [
          0.3546,
          0.3546
         ],
         "yaxis": "y3"
        },
        {
         "marker": {
          "color": "blue"
         },
         "name": "EW, train",
         "showlegend": false,
         "type": "scatter",
         "x": [
          2,
          3,
          4,
          5,
          6,
          7,
          8,
          9
         ],
         "xaxis": "x5",
         "y": [
          0.3399429318145457,
          0.3374942844679057,
          0.3290701957843521,
          0.32633666582739757,
          0.3246066549525204,
          0.3238646405286623,
          0.3096257168154834,
          0.3170163104560543
         ],
         "yaxis": "y5"
        },
        {
         "marker": {
          "color": "peru"
         },
         "name": "REG, train",
         "showlegend": false,
         "type": "scatter",
         "x": [
          2,
          3,
          4,
          5,
          6,
          7,
          8,
          9
         ],
         "xaxis": "x5",
         "y": [
          0.3258119792687254,
          0.32109443691808276,
          0.31966901926658414,
          0.31918966673415955,
          0.3002849875821208,
          0.303101812062696,
          0.29667469455420414,
          0.28969390049914395
         ],
         "yaxis": "y5"
        },
        {
         "marker": {
          "color": "red"
         },
         "name": "LR, train",
         "showlegend": false,
         "type": "scatter",
         "x": [
          2,
          3,
          4,
          5,
          6,
          7,
          8,
          9
         ],
         "xaxis": "x5",
         "y": [
          0.3263989563395304,
          0.3229956708784498,
          0.3084532233525041,
          0.29006912817761,
          0.2957141490686068,
          0.2943947441905625,
          0.2921283571070551,
          0.2862788523063465
         ],
         "yaxis": "y5"
        },
        {
         "marker": {
          "color": "green"
         },
         "name": "MI, train",
         "showlegend": false,
         "type": "scatter",
         "x": [
          2,
          3,
          4,
          5,
          6,
          7,
          8,
          9
         ],
         "xaxis": "x5",
         "y": [
          0.33910501120430303,
          0.31958267182325867,
          0.31860521409032805,
          0.3174727583970603,
          0.31740792153200875,
          0.3202129163607364,
          0.3184439991435298,
          0.3176273765771019
         ],
         "yaxis": "y5"
        },
        {
         "line": {
          "dash": "dot"
         },
         "marker": {
          "color": "blue"
         },
         "name": "EW, test",
         "showlegend": false,
         "type": "scatter",
         "x": [
          2,
          3,
          4,
          5,
          6,
          7,
          8,
          9
         ],
         "xaxis": "x5",
         "y": [
          0.2873988740616353,
          0.2924598968649166,
          0.2613025903277507,
          0.2014000197734152,
          0.19911053298382125,
          0.19631061919738907,
          0.19326822584477502,
          0.19552470533431388
         ],
         "yaxis": "y5"
        },
        {
         "line": {
          "dash": "dot"
         },
         "marker": {
          "color": "peru"
         },
         "name": "REG, test",
         "showlegend": false,
         "type": "scatter",
         "x": [
          2,
          3,
          4,
          5,
          6,
          7,
          8,
          9
         ],
         "xaxis": "x5",
         "y": [
          0.25253063521162744,
          0.24472847992130647,
          0.2273670045391922,
          0.22958574072496288,
          0.2076753368837221,
          0.23006975247225936,
          0.20578403355796798,
          0.20079071342325447
         ],
         "yaxis": "y5"
        },
        {
         "line": {
          "dash": "dot"
         },
         "marker": {
          "color": "red"
         },
         "name": "LR, test",
         "showlegend": false,
         "type": "scatter",
         "x": [
          2,
          3,
          4,
          5,
          6,
          7,
          8,
          9
         ],
         "xaxis": "x5",
         "y": [
          0.2598189984445938,
          0.24655341293956645,
          0.23132834540661262,
          0.20072015944543606,
          0.19956648866735993,
          0.18780235261969874,
          0.19020721163917223,
          0.1917999095353486
         ],
         "yaxis": "y5"
        },
        {
         "line": {
          "dash": "dot"
         },
         "marker": {
          "color": "green"
         },
         "name": "MI, test",
         "showlegend": false,
         "type": "scatter",
         "x": [
          2,
          3,
          4,
          5,
          6,
          7,
          8,
          9
         ],
         "xaxis": "x5",
         "y": [
          0.2833481930487315,
          0.2368042074806994,
          0.1979852459787758,
          0.19728006881077478,
          0.19759668813502346,
          0.1897728802772704,
          0.18559497533953087,
          0.1818122858592901
         ],
         "yaxis": "y5"
        },
        {
         "marker": {
          "color": "black"
         },
         "name": "K=1, train, test",
         "showlegend": false,
         "type": "scatter",
         "x": [
          2,
          9
         ],
         "xaxis": "x5",
         "y": [
          0.3546,
          0.3546
         ],
         "yaxis": "y5"
        },
        {
         "marker": {
          "color": "blue"
         },
         "name": "EW, train",
         "showlegend": false,
         "type": "scatter",
         "x": [
          2,
          3,
          4,
          5,
          6,
          7,
          8,
          9
         ],
         "xaxis": "x2",
         "y": [
          0.32450305950610947,
          0.31773252927010387,
          0.31460492656726036,
          0.30751290850718443,
          0.30135100669286385,
          0.2976643109519539,
          0.29550643256095505,
          0.2947929383679414
         ],
         "yaxis": "y2"
        },
        {
         "marker": {
          "color": "peru"
         },
         "name": "REG, train",
         "showlegend": false,
         "type": "scatter",
         "x": [
          2,
          3,
          4,
          5,
          6,
          7,
          8,
          9
         ],
         "xaxis": "x2",
         "y": [
          0.3043671470903564,
          0.31435007791606817,
          0.30479505578566946,
          0.3069990515158405,
          0.30632899768613625,
          0.3026522216306299,
          0.2999884161406308,
          0.30024393595346394
         ],
         "yaxis": "y2"
        },
        {
         "marker": {
          "color": "red"
         },
         "name": "LR, train",
         "showlegend": false,
         "type": "scatter",
         "x": [
          2,
          3,
          4,
          5,
          6,
          7,
          8,
          9
         ],
         "xaxis": "x2",
         "y": [
          0.311116820451025,
          0.30988633367620927,
          0.3058717366306818,
          0.30565412567387373,
          0.3053510698215931,
          0.30142209534415365,
          0.29870934556641643,
          0.30038922711309635
         ],
         "yaxis": "y2"
        },
        {
         "marker": {
          "color": "green"
         },
         "name": "MI, train",
         "showlegend": false,
         "type": "scatter",
         "x": [
          2,
          3,
          4,
          5,
          6,
          7,
          8,
          9
         ],
         "xaxis": "x2",
         "y": [
          0.31117104888145547,
          0.3129933336649168,
          0.30632508142867126,
          0.30572967839709314,
          0.3026365079783727,
          0.2998472646279621,
          0.2971547913237429,
          0.2976653332916954
         ],
         "yaxis": "y2"
        },
        {
         "line": {
          "dash": "dot"
         },
         "marker": {
          "color": "blue"
         },
         "name": "EW, test",
         "showlegend": false,
         "type": "scatter",
         "x": [
          2,
          3,
          4,
          5,
          6,
          7,
          8,
          9
         ],
         "xaxis": "x2",
         "y": [
          0.2538644309014306,
          0.23343566667005508,
          0.2329130801066286,
          0.21435973083296095,
          0.21122964787489903,
          0.21206993593925705,
          0.21040338252925433,
          0.21287028532509503
         ],
         "yaxis": "y2"
        },
        {
         "line": {
          "dash": "dot"
         },
         "marker": {
          "color": "peru"
         },
         "name": "REG, test",
         "showlegend": false,
         "type": "scatter",
         "x": [
          2,
          3,
          4,
          5,
          6,
          7,
          8,
          9
         ],
         "xaxis": "x2",
         "y": [
          0.22923309606688563,
          0.2265913287669672,
          0.21857872887091997,
          0.19909212909096788,
          0.19600496796034797,
          0.1930110778450027,
          0.19211820697519164,
          0.1901793273221408
         ],
         "yaxis": "y2"
        },
        {
         "line": {
          "dash": "dot"
         },
         "marker": {
          "color": "red"
         },
         "name": "LR, test",
         "showlegend": false,
         "type": "scatter",
         "x": [
          2,
          3,
          4,
          5,
          6,
          7,
          8,
          9
         ],
         "xaxis": "x2",
         "y": [
          0.2285840190669075,
          0.2284940347826916,
          0.21345773688856726,
          0.19707366544999697,
          0.1954142544041971,
          0.19380058580922693,
          0.19315115584676604,
          0.18710866790821054
         ],
         "yaxis": "y2"
        },
        {
         "line": {
          "dash": "dot"
         },
         "marker": {
          "color": "green"
         },
         "name": "MI, test",
         "showlegend": false,
         "type": "scatter",
         "x": [
          2,
          3,
          4,
          5,
          6,
          7,
          8,
          9
         ],
         "xaxis": "x2",
         "y": [
          0.2245050924823917,
          0.21070070817207637,
          0.20691916809051436,
          0.2053417208594525,
          0.20104849548127965,
          0.1883994824262184,
          0.19149231584502757,
          0.18981789140391225
         ],
         "yaxis": "y2"
        },
        {
         "marker": {
          "color": "black"
         },
         "name": "K=1, train, test",
         "showlegend": false,
         "type": "scatter",
         "x": [
          2,
          9
         ],
         "xaxis": "x2",
         "y": [
          0.3546,
          0.3546
         ],
         "yaxis": "y2"
        },
        {
         "marker": {
          "color": "blue"
         },
         "name": "EW, train",
         "showlegend": false,
         "type": "scatter",
         "x": [
          2,
          3,
          4,
          5,
          6,
          7,
          8,
          9
         ],
         "xaxis": "x4",
         "y": [
          0.31223499636298657,
          0.31239589357278563,
          0.3085617886283949,
          0.29903577486544264,
          0.29727940485566307,
          0.29682322449924076,
          0.2969294446790858,
          0.2951232392079121
         ],
         "yaxis": "y4"
        },
        {
         "marker": {
          "color": "peru"
         },
         "name": "REG, train",
         "showlegend": false,
         "type": "scatter",
         "x": [
          2,
          3,
          4,
          5,
          6,
          7,
          8,
          9
         ],
         "xaxis": "x4",
         "y": [
          0.3107272307967972,
          0.3098420061704178,
          0.3168847571966343,
          0.3032482635591417,
          0.3060239153437923,
          0.3023589066860985,
          0.29922427987539446,
          0.2991969836716979
         ],
         "yaxis": "y4"
        },
        {
         "marker": {
          "color": "red"
         },
         "name": "LR, train",
         "showlegend": false,
         "type": "scatter",
         "x": [
          2,
          3,
          4,
          5,
          6,
          7,
          8,
          9
         ],
         "xaxis": "x4",
         "y": [
          0.3080716936594225,
          0.31215051173604313,
          0.29941440586641976,
          0.3031271616849407,
          0.30469260291388617,
          0.3007807206230218,
          0.2981381766951584,
          0.30032300648321036
         ],
         "yaxis": "y4"
        },
        {
         "marker": {
          "color": "green"
         },
         "name": "MI, train",
         "showlegend": false,
         "type": "scatter",
         "x": [
          2,
          3,
          4,
          5,
          6,
          7,
          8,
          9
         ],
         "xaxis": "x4",
         "y": [
          0.3133732082723456,
          0.30805164705322363,
          0.3054625082087298,
          0.3051942413232947,
          0.304306392193211,
          0.2986749146385069,
          0.29594539904838735,
          0.29011700411904234
         ],
         "yaxis": "y4"
        },
        {
         "line": {
          "dash": "dot"
         },
         "marker": {
          "color": "blue"
         },
         "name": "EW, test",
         "showlegend": false,
         "type": "scatter",
         "x": [
          2,
          3,
          4,
          5,
          6,
          7,
          8,
          9
         ],
         "xaxis": "x4",
         "y": [
          0.23193081857348313,
          0.22361262183141448,
          0.2226001999729405,
          0.21567321386321237,
          0.21511920294768533,
          0.20658762041937984,
          0.21086320665682615,
          0.20545663388345003
         ],
         "yaxis": "y4"
        },
        {
         "line": {
          "dash": "dot"
         },
         "marker": {
          "color": "peru"
         },
         "name": "REG, test",
         "showlegend": false,
         "type": "scatter",
         "x": [
          2,
          3,
          4,
          5,
          6,
          7,
          8,
          9
         ],
         "xaxis": "x4",
         "y": [
          0.2245050924823917,
          0.21251935116433518,
          0.19792781646986973,
          0.2011012376689715,
          0.1997344947548777,
          0.19558952125039963,
          0.19487854386888664,
          0.18961617853252763
         ],
         "yaxis": "y4"
        },
        {
         "line": {
          "dash": "dot"
         },
         "marker": {
          "color": "red"
         },
         "name": "LR, test",
         "showlegend": false,
         "type": "scatter",
         "x": [
          2,
          3,
          4,
          5,
          6,
          7,
          8,
          9
         ],
         "xaxis": "x4",
         "y": [
          0.2285840190669075,
          0.22862347041159967,
          0.2075938223413052,
          0.1996038173100872,
          0.19876349519564074,
          0.1957636661887591,
          0.19476350503867895,
          0.19210913730227336
         ],
         "yaxis": "y4"
        },
        {
         "line": {
          "dash": "dot"
         },
         "marker": {
          "color": "green"
         },
         "name": "MI, test",
         "showlegend": false,
         "type": "scatter",
         "x": [
          2,
          3,
          4,
          5,
          6,
          7,
          8,
          9
         ],
         "xaxis": "x4",
         "y": [
          0.22055309157092762,
          0.21366045556989555,
          0.19721155366756704,
          0.19908552443383387,
          0.19744294125964487,
          0.20277817787285246,
          0.19977525040443417,
          0.1988922258851821
         ],
         "yaxis": "y4"
        },
        {
         "marker": {
          "color": "black"
         },
         "name": "K=1, train, test",
         "showlegend": false,
         "type": "scatter",
         "x": [
          2,
          9
         ],
         "xaxis": "x4",
         "y": [
          0.3546,
          0.3546
         ],
         "yaxis": "y4"
        },
        {
         "marker": {
          "color": "blue"
         },
         "name": "EW, train",
         "showlegend": false,
         "type": "scatter",
         "x": [
          2,
          3,
          4,
          5,
          6,
          7,
          8,
          9
         ],
         "xaxis": "x6",
         "y": [
          0.30845057794926645,
          0.30813793034603154,
          0.29650112292647746,
          0.296465616978166,
          0.29373134608345075,
          0.29511948205796246,
          0.2965799204969901,
          0.29547205450566366
         ],
         "yaxis": "y6"
        },
        {
         "marker": {
          "color": "peru"
         },
         "name": "REG, train",
         "showlegend": false,
         "type": "scatter",
         "x": [
          2,
          3,
          4,
          5,
          6,
          7,
          8,
          9
         ],
         "xaxis": "x6",
         "y": [
          0.3060371881873464,
          0.3087659223972883,
          0.30649778675241923,
          0.3061165181805043,
          0.3064239963453108,
          0.3030055380716102,
          0.30187044116860756,
          0.30230620048640133
         ],
         "yaxis": "y6"
        },
        {
         "marker": {
          "color": "red"
         },
         "name": "LR, train",
         "showlegend": false,
         "type": "scatter",
         "x": [
          2,
          3,
          4,
          5,
          6,
          7,
          8,
          9
         ],
         "xaxis": "x6",
         "y": [
          0.31752893908647056,
          0.3116697407598097,
          0.3100420043806523,
          0.30878820987037897,
          0.29903219417476573,
          0.30277110781738653,
          0.2991018798902732,
          0.3043158362241189
         ],
         "yaxis": "y6"
        },
        {
         "marker": {
          "color": "green"
         },
         "name": "MI, train",
         "showlegend": false,
         "type": "scatter",
         "x": [
          2,
          3,
          4,
          5,
          6,
          7,
          8,
          9
         ],
         "xaxis": "x6",
         "y": [
          0.30845057794926645,
          0.3045457252656351,
          0.30133362830738736,
          0.3035151525275246,
          0.29836215641052094,
          0.2964705822037318,
          0.2955295416396244,
          0.2973272912856007
         ],
         "yaxis": "y6"
        },
        {
         "line": {
          "dash": "dot"
         },
         "marker": {
          "color": "blue"
         },
         "name": "EW, test",
         "showlegend": false,
         "type": "scatter",
         "x": [
          2,
          3,
          4,
          5,
          6,
          7,
          8,
          9
         ],
         "xaxis": "x6",
         "y": [
          0.2219195594081686,
          0.20814872135939533,
          0.20572945791861524,
          0.2025940629475219,
          0.20223726448728324,
          0.19853398445670983,
          0.18762925034450123,
          0.183887399312712
         ],
         "yaxis": "y6"
        },
        {
         "line": {
          "dash": "dot"
         },
         "marker": {
          "color": "peru"
         },
         "name": "REG, test",
         "showlegend": false,
         "type": "scatter",
         "x": [
          2,
          3,
          4,
          5,
          6,
          7,
          8,
          9
         ],
         "xaxis": "x6",
         "y": [
          0.22047703135708765,
          0.2184352594759985,
          0.20261331953021372,
          0.20039167323170257,
          0.1991441408417518,
          0.19676412343120547,
          0.19582979960019312,
          0.1952052304076903
         ],
         "yaxis": "y6"
        },
        {
         "line": {
          "dash": "dot"
         },
         "marker": {
          "color": "red"
         },
         "name": "LR, test",
         "showlegend": false,
         "type": "scatter",
         "x": [
          2,
          3,
          4,
          5,
          6,
          7,
          8,
          9
         ],
         "xaxis": "x6",
         "y": [
          0.22819124758228237,
          0.2129966224379422,
          0.21104213274372405,
          0.19416558777922108,
          0.20125650187875627,
          0.19118317234795917,
          0.19065072271121464,
          0.1882534676888511
         ],
         "yaxis": "y6"
        },
        {
         "line": {
          "dash": "dot"
         },
         "marker": {
          "color": "green"
         },
         "name": "MI, test",
         "showlegend": false,
         "type": "scatter",
         "x": [
          2,
          3,
          4,
          5,
          6,
          7,
          8,
          9
         ],
         "xaxis": "x6",
         "y": [
          0.2219195594081686,
          0.20797407316697422,
          0.20866540478107598,
          0.20614975399840996,
          0.1943745094448177,
          0.19228284642395632,
          0.1922032233436017,
          0.19157605165657177
         ],
         "yaxis": "y6"
        },
        {
         "marker": {
          "color": "black"
         },
         "name": "K=1, train, test",
         "showlegend": false,
         "type": "scatter",
         "x": [
          2,
          9
         ],
         "xaxis": "x6",
         "y": [
          0.3546,
          0.3546
         ],
         "yaxis": "y6"
        }
       ],
       "layout": {
        "annotations": [
         {
          "font": {
           "size": 16
          },
          "showarrow": false,
          "text": "All, original",
          "x": 0.225,
          "xanchor": "center",
          "xref": "paper",
          "y": 1,
          "yanchor": "bottom",
          "yref": "paper"
         },
         {
          "font": {
           "size": 16
          },
          "showarrow": false,
          "text": "POS, original",
          "x": 0.775,
          "xanchor": "center",
          "xref": "paper",
          "y": 1,
          "yanchor": "bottom",
          "yref": "paper"
         },
         {
          "font": {
           "size": 16
          },
          "showarrow": false,
          "text": "All, quadratic",
          "x": 0.225,
          "xanchor": "center",
          "xref": "paper",
          "y": 0.6111111111111112,
          "yanchor": "bottom",
          "yref": "paper"
         },
         {
          "font": {
           "size": 16
          },
          "showarrow": false,
          "text": "POS, quadratic",
          "x": 0.775,
          "xanchor": "center",
          "xref": "paper",
          "y": 0.6111111111111112,
          "yanchor": "bottom",
          "yref": "paper"
         },
         {
          "font": {
           "size": 16
          },
          "showarrow": false,
          "text": "All, cubic",
          "x": 0.225,
          "xanchor": "center",
          "xref": "paper",
          "y": 0.22222222222222224,
          "yanchor": "bottom",
          "yref": "paper"
         },
         {
          "font": {
           "size": 16
          },
          "showarrow": false,
          "text": "POS, cubic",
          "x": 0.775,
          "xanchor": "center",
          "xref": "paper",
          "y": 0.22222222222222224,
          "yanchor": "bottom",
          "yref": "paper"
         },
         {
          "font": {
           "size": 16
          },
          "showarrow": false,
          "text": "K",
          "x": 0.5,
          "xanchor": "center",
          "xref": "paper",
          "y": 0,
          "yanchor": "top",
          "yref": "paper",
          "yshift": -30
         },
         {
          "font": {
           "size": 16
          },
          "showarrow": false,
          "text": "Entropy",
          "textangle": -90,
          "x": 0,
          "xanchor": "right",
          "xref": "paper",
          "xshift": -40,
          "y": 0.5,
          "yanchor": "middle",
          "yref": "paper"
         }
        ],
        "height": 800,
        "template": {
         "data": {
          "bar": [
           {
            "error_x": {
             "color": "#2a3f5f"
            },
            "error_y": {
             "color": "#2a3f5f"
            },
            "marker": {
             "line": {
              "color": "#E5ECF6",
              "width": 0.5
             },
             "pattern": {
              "fillmode": "overlay",
              "size": 10,
              "solidity": 0.2
             }
            },
            "type": "bar"
           }
          ],
          "barpolar": [
           {
            "marker": {
             "line": {
              "color": "#E5ECF6",
              "width": 0.5
             },
             "pattern": {
              "fillmode": "overlay",
              "size": 10,
              "solidity": 0.2
             }
            },
            "type": "barpolar"
           }
          ],
          "carpet": [
           {
            "aaxis": {
             "endlinecolor": "#2a3f5f",
             "gridcolor": "white",
             "linecolor": "white",
             "minorgridcolor": "white",
             "startlinecolor": "#2a3f5f"
            },
            "baxis": {
             "endlinecolor": "#2a3f5f",
             "gridcolor": "white",
             "linecolor": "white",
             "minorgridcolor": "white",
             "startlinecolor": "#2a3f5f"
            },
            "type": "carpet"
           }
          ],
          "choropleth": [
           {
            "colorbar": {
             "outlinewidth": 0,
             "ticks": ""
            },
            "type": "choropleth"
           }
          ],
          "contour": [
           {
            "colorbar": {
             "outlinewidth": 0,
             "ticks": ""
            },
            "colorscale": [
             [
              0,
              "#0d0887"
             ],
             [
              0.1111111111111111,
              "#46039f"
             ],
             [
              0.2222222222222222,
              "#7201a8"
             ],
             [
              0.3333333333333333,
              "#9c179e"
             ],
             [
              0.4444444444444444,
              "#bd3786"
             ],
             [
              0.5555555555555556,
              "#d8576b"
             ],
             [
              0.6666666666666666,
              "#ed7953"
             ],
             [
              0.7777777777777778,
              "#fb9f3a"
             ],
             [
              0.8888888888888888,
              "#fdca26"
             ],
             [
              1,
              "#f0f921"
             ]
            ],
            "type": "contour"
           }
          ],
          "contourcarpet": [
           {
            "colorbar": {
             "outlinewidth": 0,
             "ticks": ""
            },
            "type": "contourcarpet"
           }
          ],
          "heatmap": [
           {
            "colorbar": {
             "outlinewidth": 0,
             "ticks": ""
            },
            "colorscale": [
             [
              0,
              "#0d0887"
             ],
             [
              0.1111111111111111,
              "#46039f"
             ],
             [
              0.2222222222222222,
              "#7201a8"
             ],
             [
              0.3333333333333333,
              "#9c179e"
             ],
             [
              0.4444444444444444,
              "#bd3786"
             ],
             [
              0.5555555555555556,
              "#d8576b"
             ],
             [
              0.6666666666666666,
              "#ed7953"
             ],
             [
              0.7777777777777778,
              "#fb9f3a"
             ],
             [
              0.8888888888888888,
              "#fdca26"
             ],
             [
              1,
              "#f0f921"
             ]
            ],
            "type": "heatmap"
           }
          ],
          "heatmapgl": [
           {
            "colorbar": {
             "outlinewidth": 0,
             "ticks": ""
            },
            "colorscale": [
             [
              0,
              "#0d0887"
             ],
             [
              0.1111111111111111,
              "#46039f"
             ],
             [
              0.2222222222222222,
              "#7201a8"
             ],
             [
              0.3333333333333333,
              "#9c179e"
             ],
             [
              0.4444444444444444,
              "#bd3786"
             ],
             [
              0.5555555555555556,
              "#d8576b"
             ],
             [
              0.6666666666666666,
              "#ed7953"
             ],
             [
              0.7777777777777778,
              "#fb9f3a"
             ],
             [
              0.8888888888888888,
              "#fdca26"
             ],
             [
              1,
              "#f0f921"
             ]
            ],
            "type": "heatmapgl"
           }
          ],
          "histogram": [
           {
            "marker": {
             "pattern": {
              "fillmode": "overlay",
              "size": 10,
              "solidity": 0.2
             }
            },
            "type": "histogram"
           }
          ],
          "histogram2d": [
           {
            "colorbar": {
             "outlinewidth": 0,
             "ticks": ""
            },
            "colorscale": [
             [
              0,
              "#0d0887"
             ],
             [
              0.1111111111111111,
              "#46039f"
             ],
             [
              0.2222222222222222,
              "#7201a8"
             ],
             [
              0.3333333333333333,
              "#9c179e"
             ],
             [
              0.4444444444444444,
              "#bd3786"
             ],
             [
              0.5555555555555556,
              "#d8576b"
             ],
             [
              0.6666666666666666,
              "#ed7953"
             ],
             [
              0.7777777777777778,
              "#fb9f3a"
             ],
             [
              0.8888888888888888,
              "#fdca26"
             ],
             [
              1,
              "#f0f921"
             ]
            ],
            "type": "histogram2d"
           }
          ],
          "histogram2dcontour": [
           {
            "colorbar": {
             "outlinewidth": 0,
             "ticks": ""
            },
            "colorscale": [
             [
              0,
              "#0d0887"
             ],
             [
              0.1111111111111111,
              "#46039f"
             ],
             [
              0.2222222222222222,
              "#7201a8"
             ],
             [
              0.3333333333333333,
              "#9c179e"
             ],
             [
              0.4444444444444444,
              "#bd3786"
             ],
             [
              0.5555555555555556,
              "#d8576b"
             ],
             [
              0.6666666666666666,
              "#ed7953"
             ],
             [
              0.7777777777777778,
              "#fb9f3a"
             ],
             [
              0.8888888888888888,
              "#fdca26"
             ],
             [
              1,
              "#f0f921"
             ]
            ],
            "type": "histogram2dcontour"
           }
          ],
          "mesh3d": [
           {
            "colorbar": {
             "outlinewidth": 0,
             "ticks": ""
            },
            "type": "mesh3d"
           }
          ],
          "parcoords": [
           {
            "line": {
             "colorbar": {
              "outlinewidth": 0,
              "ticks": ""
             }
            },
            "type": "parcoords"
           }
          ],
          "pie": [
           {
            "automargin": true,
            "type": "pie"
           }
          ],
          "scatter": [
           {
            "fillpattern": {
             "fillmode": "overlay",
             "size": 10,
             "solidity": 0.2
            },
            "type": "scatter"
           }
          ],
          "scatter3d": [
           {
            "line": {
             "colorbar": {
              "outlinewidth": 0,
              "ticks": ""
             }
            },
            "marker": {
             "colorbar": {
              "outlinewidth": 0,
              "ticks": ""
             }
            },
            "type": "scatter3d"
           }
          ],
          "scattercarpet": [
           {
            "marker": {
             "colorbar": {
              "outlinewidth": 0,
              "ticks": ""
             }
            },
            "type": "scattercarpet"
           }
          ],
          "scattergeo": [
           {
            "marker": {
             "colorbar": {
              "outlinewidth": 0,
              "ticks": ""
             }
            },
            "type": "scattergeo"
           }
          ],
          "scattergl": [
           {
            "marker": {
             "colorbar": {
              "outlinewidth": 0,
              "ticks": ""
             }
            },
            "type": "scattergl"
           }
          ],
          "scattermapbox": [
           {
            "marker": {
             "colorbar": {
              "outlinewidth": 0,
              "ticks": ""
             }
            },
            "type": "scattermapbox"
           }
          ],
          "scatterpolar": [
           {
            "marker": {
             "colorbar": {
              "outlinewidth": 0,
              "ticks": ""
             }
            },
            "type": "scatterpolar"
           }
          ],
          "scatterpolargl": [
           {
            "marker": {
             "colorbar": {
              "outlinewidth": 0,
              "ticks": ""
             }
            },
            "type": "scatterpolargl"
           }
          ],
          "scatterternary": [
           {
            "marker": {
             "colorbar": {
              "outlinewidth": 0,
              "ticks": ""
             }
            },
            "type": "scatterternary"
           }
          ],
          "surface": [
           {
            "colorbar": {
             "outlinewidth": 0,
             "ticks": ""
            },
            "colorscale": [
             [
              0,
              "#0d0887"
             ],
             [
              0.1111111111111111,
              "#46039f"
             ],
             [
              0.2222222222222222,
              "#7201a8"
             ],
             [
              0.3333333333333333,
              "#9c179e"
             ],
             [
              0.4444444444444444,
              "#bd3786"
             ],
             [
              0.5555555555555556,
              "#d8576b"
             ],
             [
              0.6666666666666666,
              "#ed7953"
             ],
             [
              0.7777777777777778,
              "#fb9f3a"
             ],
             [
              0.8888888888888888,
              "#fdca26"
             ],
             [
              1,
              "#f0f921"
             ]
            ],
            "type": "surface"
           }
          ],
          "table": [
           {
            "cells": {
             "fill": {
              "color": "#EBF0F8"
             },
             "line": {
              "color": "white"
             }
            },
            "header": {
             "fill": {
              "color": "#C8D4E3"
             },
             "line": {
              "color": "white"
             }
            },
            "type": "table"
           }
          ]
         },
         "layout": {
          "annotationdefaults": {
           "arrowcolor": "#2a3f5f",
           "arrowhead": 0,
           "arrowwidth": 1
          },
          "autotypenumbers": "strict",
          "coloraxis": {
           "colorbar": {
            "outlinewidth": 0,
            "ticks": ""
           }
          },
          "colorscale": {
           "diverging": [
            [
             0,
             "#8e0152"
            ],
            [
             0.1,
             "#c51b7d"
            ],
            [
             0.2,
             "#de77ae"
            ],
            [
             0.3,
             "#f1b6da"
            ],
            [
             0.4,
             "#fde0ef"
            ],
            [
             0.5,
             "#f7f7f7"
            ],
            [
             0.6,
             "#e6f5d0"
            ],
            [
             0.7,
             "#b8e186"
            ],
            [
             0.8,
             "#7fbc41"
            ],
            [
             0.9,
             "#4d9221"
            ],
            [
             1,
             "#276419"
            ]
           ],
           "sequential": [
            [
             0,
             "#0d0887"
            ],
            [
             0.1111111111111111,
             "#46039f"
            ],
            [
             0.2222222222222222,
             "#7201a8"
            ],
            [
             0.3333333333333333,
             "#9c179e"
            ],
            [
             0.4444444444444444,
             "#bd3786"
            ],
            [
             0.5555555555555556,
             "#d8576b"
            ],
            [
             0.6666666666666666,
             "#ed7953"
            ],
            [
             0.7777777777777778,
             "#fb9f3a"
            ],
            [
             0.8888888888888888,
             "#fdca26"
            ],
            [
             1,
             "#f0f921"
            ]
           ],
           "sequentialminus": [
            [
             0,
             "#0d0887"
            ],
            [
             0.1111111111111111,
             "#46039f"
            ],
            [
             0.2222222222222222,
             "#7201a8"
            ],
            [
             0.3333333333333333,
             "#9c179e"
            ],
            [
             0.4444444444444444,
             "#bd3786"
            ],
            [
             0.5555555555555556,
             "#d8576b"
            ],
            [
             0.6666666666666666,
             "#ed7953"
            ],
            [
             0.7777777777777778,
             "#fb9f3a"
            ],
            [
             0.8888888888888888,
             "#fdca26"
            ],
            [
             1,
             "#f0f921"
            ]
           ]
          },
          "colorway": [
           "#636efa",
           "#EF553B",
           "#00cc96",
           "#ab63fa",
           "#FFA15A",
           "#19d3f3",
           "#FF6692",
           "#B6E880",
           "#FF97FF",
           "#FECB52"
          ],
          "font": {
           "color": "#2a3f5f"
          },
          "geo": {
           "bgcolor": "white",
           "lakecolor": "white",
           "landcolor": "#E5ECF6",
           "showlakes": true,
           "showland": true,
           "subunitcolor": "white"
          },
          "hoverlabel": {
           "align": "left"
          },
          "hovermode": "closest",
          "mapbox": {
           "style": "light"
          },
          "paper_bgcolor": "white",
          "plot_bgcolor": "#E5ECF6",
          "polar": {
           "angularaxis": {
            "gridcolor": "white",
            "linecolor": "white",
            "ticks": ""
           },
           "bgcolor": "#E5ECF6",
           "radialaxis": {
            "gridcolor": "white",
            "linecolor": "white",
            "ticks": ""
           }
          },
          "scene": {
           "xaxis": {
            "backgroundcolor": "#E5ECF6",
            "gridcolor": "white",
            "gridwidth": 2,
            "linecolor": "white",
            "showbackground": true,
            "ticks": "",
            "zerolinecolor": "white"
           },
           "yaxis": {
            "backgroundcolor": "#E5ECF6",
            "gridcolor": "white",
            "gridwidth": 2,
            "linecolor": "white",
            "showbackground": true,
            "ticks": "",
            "zerolinecolor": "white"
           },
           "zaxis": {
            "backgroundcolor": "#E5ECF6",
            "gridcolor": "white",
            "gridwidth": 2,
            "linecolor": "white",
            "showbackground": true,
            "ticks": "",
            "zerolinecolor": "white"
           }
          },
          "shapedefaults": {
           "line": {
            "color": "#2a3f5f"
           }
          },
          "ternary": {
           "aaxis": {
            "gridcolor": "white",
            "linecolor": "white",
            "ticks": ""
           },
           "baxis": {
            "gridcolor": "white",
            "linecolor": "white",
            "ticks": ""
           },
           "bgcolor": "#E5ECF6",
           "caxis": {
            "gridcolor": "white",
            "linecolor": "white",
            "ticks": ""
           }
          },
          "title": {
           "x": 0.05
          },
          "xaxis": {
           "automargin": true,
           "gridcolor": "white",
           "linecolor": "white",
           "ticks": "",
           "title": {
            "standoff": 15
           },
           "zerolinecolor": "white",
           "zerolinewidth": 2
          },
          "yaxis": {
           "automargin": true,
           "gridcolor": "white",
           "linecolor": "white",
           "ticks": "",
           "title": {
            "standoff": 15
           },
           "zerolinecolor": "white",
           "zerolinewidth": 2
          }
         }
        },
        "width": 950,
        "xaxis": {
         "anchor": "y",
         "domain": [
          0,
          0.45
         ],
         "dtick": 1,
         "range": [
          1.5,
          9.5
         ]
        },
        "xaxis2": {
         "anchor": "y2",
         "domain": [
          0.55,
          1
         ],
         "dtick": 1
        },
        "xaxis3": {
         "anchor": "y3",
         "domain": [
          0,
          0.45
         ],
         "dtick": 1,
         "range": [
          1.5,
          9.5
         ]
        },
        "xaxis4": {
         "anchor": "y4",
         "domain": [
          0.55,
          1
         ],
         "dtick": 1
        },
        "xaxis5": {
         "anchor": "y5",
         "domain": [
          0,
          0.45
         ],
         "dtick": 1,
         "range": [
          1.5,
          9.5
         ]
        },
        "xaxis6": {
         "anchor": "y6",
         "domain": [
          0.55,
          1
         ],
         "dtick": 1
        },
        "yaxis": {
         "anchor": "x",
         "domain": [
          0.7777777777777778,
          1
         ],
         "dtick": 0.02,
         "range": [
          0.27,
          0.37
         ]
        },
        "yaxis2": {
         "anchor": "x2",
         "domain": [
          0.7777777777777778,
          1
         ],
         "dtick": 0.02,
         "matches": "y",
         "showticklabels": false
        },
        "yaxis3": {
         "anchor": "x3",
         "domain": [
          0.3888888888888889,
          0.6111111111111112
         ],
         "dtick": 0.02,
         "range": [
          0.27,
          0.37
         ]
        },
        "yaxis4": {
         "anchor": "x4",
         "domain": [
          0.3888888888888889,
          0.6111111111111112
         ],
         "dtick": 0.02,
         "matches": "y3",
         "showticklabels": false
        },
        "yaxis5": {
         "anchor": "x5",
         "domain": [
          0,
          0.22222222222222224
         ],
         "dtick": 0.02,
         "range": [
          0.27,
          0.37
         ]
        },
        "yaxis6": {
         "anchor": "x6",
         "domain": [
          0,
          0.22222222222222224
         ],
         "dtick": 0.02,
         "matches": "y5",
         "showticklabels": false
        }
       }
      }
     },
     "metadata": {},
     "output_type": "display_data"
    }
   ],
   "source": [
    "entropy_trend(entropytrend_data)"
   ]
  },
  {
   "cell_type": "code",
   "execution_count": 121,
   "metadata": {},
   "outputs": [
    {
     "data": {
      "application/vnd.plotly.v1+json": {
       "config": {
        "plotlyServerURL": "https://plot.ly"
       },
       "data": [
        {
         "marker": {
          "color": "black"
         },
         "name": "LR,ALL,overffiting",
         "offsetgroup": "0",
         "showlegend": true,
         "type": "bar",
         "x": [
          "EW",
          "REG",
          "LR",
          "MI"
         ],
         "xaxis": "x",
         "y": [
          0.7452238246862709,
          0.7097771118186926,
          0.7445682712118374,
          0.7007398389211464
         ],
         "yaxis": "y"
        },
        {
         "marker": {
          "color": "black"
         },
         "name": "LR,POS,overffiting",
         "offsetgroup": "1",
         "showlegend": true,
         "type": "bar",
         "x": [
          "EW",
          "REG",
          "LR",
          "MI"
         ],
         "xaxis": "x",
         "y": [
          0.7452238246862709,
          0.7097771118186926,
          0.7445682712118374,
          0.7007398389211464
         ],
         "yaxis": "y"
        },
        {
         "marker": {
          "color": "black"
         },
         "name": "XGB,ALL,overffiting",
         "offsetgroup": "2",
         "showlegend": true,
         "type": "bar",
         "x": [
          "EW",
          "REG",
          "LR",
          "MI"
         ],
         "xaxis": "x",
         "y": [
          0.9999765873759131,
          0.9999765873759131,
          0.9999765873759131,
          0.9999765873759131
         ],
         "yaxis": "y"
        },
        {
         "marker": {
          "color": "black"
         },
         "name": "XGB,POS,overffiting",
         "offsetgroup": "3",
         "showlegend": true,
         "type": "bar",
         "x": [
          "EW",
          "REG",
          "LR",
          "MI"
         ],
         "xaxis": "x",
         "y": [
          0.9999765873759131,
          0.9999765873759131,
          0.9999765873759131,
          0.9999765873759131
         ],
         "yaxis": "y"
        },
        {
         "marker": {
          "color": "darkblue"
         },
         "name": "LR,ALL,test",
         "offsetgroup": "0",
         "showlegend": true,
         "type": "bar",
         "x": [
          "EW",
          "REG",
          "LR",
          "MI"
         ],
         "xaxis": "x",
         "y": [
          0.9208846830985915,
          0.9118617957746478,
          0.9236905809859155,
          0.9024537852112676
         ],
         "yaxis": "y"
        },
        {
         "marker": {
          "color": "skyblue"
         },
         "name": "LR,POS,test",
         "offsetgroup": "1",
         "showlegend": true,
         "type": "bar",
         "x": [
          "EW",
          "REG",
          "LR",
          "MI"
         ],
         "xaxis": "x",
         "y": [
          0.9208846830985915,
          0.9118617957746478,
          0.9236905809859155,
          0.9024537852112676
         ],
         "yaxis": "y"
        },
        {
         "marker": {
          "color": "green"
         },
         "name": "XGB,ALL,test",
         "offsetgroup": "2",
         "showlegend": true,
         "type": "bar",
         "x": [
          "EW",
          "REG",
          "LR",
          "MI"
         ],
         "xaxis": "x",
         "y": [
          0.7973426496478873,
          0.7973426496478873,
          0.7973426496478873,
          0.7973426496478873
         ],
         "yaxis": "y"
        },
        {
         "marker": {
          "color": "lightgreen"
         },
         "name": "XGB,POS,test",
         "offsetgroup": "3",
         "showlegend": true,
         "type": "bar",
         "x": [
          "EW",
          "REG",
          "LR",
          "MI"
         ],
         "xaxis": "x",
         "y": [
          0.7973426496478873,
          0.7973426496478873,
          0.7973426496478873,
          0.7973426496478873
         ],
         "yaxis": "y"
        },
        {
         "marker": {
          "color": "black"
         },
         "name": "LR,ALL,overffiting",
         "offsetgroup": "0",
         "showlegend": false,
         "type": "bar",
         "x": [
          "EW",
          "REG",
          "LR",
          "MI"
         ],
         "xaxis": "x2",
         "y": [
          0.7952331897359056,
          0.7653118561528376,
          0.7634856714740588,
          0.769526128488481
         ],
         "yaxis": "y2"
        },
        {
         "marker": {
          "color": "black"
         },
         "name": "LR,POS,overffiting",
         "offsetgroup": "1",
         "showlegend": false,
         "type": "bar",
         "x": [
          "EW",
          "REG",
          "LR",
          "MI"
         ],
         "xaxis": "x2",
         "y": [
          0.7750983330211649,
          0.7725229443716051,
          0.7729911968533433,
          0.7198913654242367
         ],
         "yaxis": "y2"
        },
        {
         "marker": {
          "color": "black"
         },
         "name": "XGB,ALL,overffiting",
         "offsetgroup": "2",
         "showlegend": false,
         "type": "bar",
         "x": [
          "EW",
          "REG",
          "LR",
          "MI"
         ],
         "xaxis": "x2",
         "y": [
          0.9992976212773927,
          0.9999297621277392,
          0.9999531747518262,
          0.9999765873759131
         ],
         "yaxis": "y2"
        },
        {
         "marker": {
          "color": "black"
         },
         "name": "XGB,POS,overffiting",
         "offsetgroup": "3",
         "showlegend": false,
         "type": "bar",
         "x": [
          "EW",
          "REG",
          "LR",
          "MI"
         ],
         "xaxis": "x2",
         "y": [
          0.9998361116313916,
          0.9999531747518262,
          0.9999765873759132,
          0.999976587375913
         ],
         "yaxis": "y2"
        },
        {
         "marker": {
          "color": "darkblue"
         },
         "name": "LR,ALL,test",
         "offsetgroup": "0",
         "showlegend": false,
         "type": "bar",
         "x": [
          "EW",
          "REG",
          "LR",
          "MI"
         ],
         "xaxis": "x2",
         "y": [
          0.9043794014084507,
          0.904269366197183,
          0.9099911971830986,
          0.907075264084507
         ],
         "yaxis": "y2"
        },
        {
         "marker": {
          "color": "skyblue"
         },
         "name": "LR,POS,test",
         "offsetgroup": "1",
         "showlegend": false,
         "type": "bar",
         "x": [
          "EW",
          "REG",
          "LR",
          "MI"
         ],
         "xaxis": "x2",
         "y": [
          0.903719190140845,
          0.8644366197183098,
          0.9066901408450705,
          0.9198393485915493
         ],
         "yaxis": "y2"
        },
        {
         "marker": {
          "color": "green"
         },
         "name": "XGB,ALL,test",
         "offsetgroup": "2",
         "showlegend": false,
         "type": "bar",
         "x": [
          "EW",
          "REG",
          "LR",
          "MI"
         ],
         "xaxis": "x2",
         "y": [
          0.7690360915492958,
          0.8034220950704225,
          0.7890625,
          0.8114821742957746
         ],
         "yaxis": "y2"
        },
        {
         "marker": {
          "color": "lightgreen"
         },
         "name": "XGB,POS,test",
         "offsetgroup": "3",
         "showlegend": false,
         "type": "bar",
         "x": [
          "EW",
          "REG",
          "LR",
          "MI"
         ],
         "xaxis": "x2",
         "y": [
          0.7752530809859155,
          0.7539887764084507,
          0.7747029049295774,
          0.8075209066901409
         ],
         "yaxis": "y2"
        },
        {
         "marker": {
          "color": "black"
         },
         "name": "LR,ALL,overffiting",
         "offsetgroup": "0",
         "showlegend": false,
         "type": "bar",
         "x": [
          "EW",
          "REG",
          "LR",
          "MI"
         ],
         "xaxis": "x3",
         "y": [
          0.7989323843416369,
          0.7499531747518262,
          0.7756134107510769,
          0.7498126990073047
         ],
         "yaxis": "y3"
        },
        {
         "marker": {
          "color": "black"
         },
         "name": "LR,POS,overffiting",
         "offsetgroup": "1",
         "showlegend": false,
         "type": "bar",
         "x": [
          "EW",
          "REG",
          "LR",
          "MI"
         ],
         "xaxis": "x3",
         "y": [
          0.795373665480427,
          0.743678591496535,
          0.7852125866267091,
          0.7387619404382844
         ],
         "yaxis": "y3"
        },
        {
         "marker": {
          "color": "black"
         },
         "name": "XGB,ALL,overffiting",
         "offsetgroup": "2",
         "showlegend": false,
         "type": "bar",
         "x": [
          "EW",
          "REG",
          "LR",
          "MI"
         ],
         "xaxis": "x3",
         "y": [
          0.9994146843978272,
          0.9991805581569583,
          0.9990869076606107,
          0.9992742086533059
         ],
         "yaxis": "y3"
        },
        {
         "marker": {
          "color": "black"
         },
         "name": "XGB,POS,overffiting",
         "offsetgroup": "3",
         "showlegend": false,
         "type": "bar",
         "x": [
          "EW",
          "REG",
          "LR",
          "MI"
         ],
         "xaxis": "x3",
         "y": [
          0.9999063495036523,
          0.9999063495036524,
          0.9981269900730474,
          0.9998126990073047
         ],
         "yaxis": "y3"
        },
        {
         "marker": {
          "color": "darkblue"
         },
         "name": "LR,ALL,test",
         "offsetgroup": "0",
         "showlegend": false,
         "type": "bar",
         "x": [
          "EW",
          "REG",
          "LR",
          "MI"
         ],
         "xaxis": "x3",
         "y": [
          0.8993177816901409,
          0.9166483274647887,
          0.9131822183098591,
          0.9186839788732395
         ],
         "yaxis": "y3"
        },
        {
         "marker": {
          "color": "skyblue"
         },
         "name": "LR,POS,test",
         "offsetgroup": "1",
         "showlegend": false,
         "type": "bar",
         "x": [
          "EW",
          "REG",
          "LR",
          "MI"
         ],
         "xaxis": "x3",
         "y": [
          0.8974471830985915,
          0.9166483274647887,
          0.8986575704225352,
          0.9049295774647887
         ],
         "yaxis": "y3"
        },
        {
         "marker": {
          "color": "green"
         },
         "name": "XGB,ALL,test",
         "offsetgroup": "2",
         "showlegend": false,
         "type": "bar",
         "x": [
          "EW",
          "REG",
          "LR",
          "MI"
         ],
         "xaxis": "x3",
         "y": [
          0.7666153169014084,
          0.7777563820422534,
          0.770384022887324,
          0.7786091549295774
         ],
         "yaxis": "y3"
        },
        {
         "marker": {
          "color": "lightgreen"
         },
         "name": "XGB,POS,test",
         "offsetgroup": "3",
         "showlegend": false,
         "type": "bar",
         "x": [
          "EW",
          "REG",
          "LR",
          "MI"
         ],
         "xaxis": "x3",
         "y": [
          0.7701914612676057,
          0.759187940140845,
          0.769256161971831,
          0.7685134242957746
         ],
         "yaxis": "y3"
        }
       ],
       "layout": {
        "annotations": [
         {
          "font": {
           "size": 16
          },
          "showarrow": false,
          "text": "Original, k=1",
          "x": 0.5,
          "xanchor": "center",
          "xref": "paper",
          "y": 1,
          "yanchor": "bottom",
          "yref": "paper"
         },
         {
          "font": {
           "size": 16
          },
          "showarrow": false,
          "text": "Original, k=2",
          "x": 0.5,
          "xanchor": "center",
          "xref": "paper",
          "y": 0.71875,
          "yanchor": "bottom",
          "yref": "paper"
         },
         {
          "font": {
           "size": 16
          },
          "showarrow": false,
          "text": "Original, k=3",
          "x": 0.5,
          "xanchor": "center",
          "xref": "paper",
          "y": 0.4375,
          "yanchor": "bottom",
          "yref": "paper"
         },
         {
          "font": {
           "size": 16
          },
          "showarrow": false,
          "text": "Original, k=4",
          "x": 0.5,
          "xanchor": "center",
          "xref": "paper",
          "y": 0.15625,
          "yanchor": "bottom",
          "yref": "paper"
         },
         {
          "font": {
           "size": 16
          },
          "showarrow": false,
          "text": "rescalor",
          "x": 0.5,
          "xanchor": "center",
          "xref": "paper",
          "y": 0,
          "yanchor": "top",
          "yref": "paper",
          "yshift": -30
         },
         {
          "font": {
           "size": 16
          },
          "showarrow": false,
          "text": "AUC",
          "textangle": -90,
          "x": 0,
          "xanchor": "right",
          "xref": "paper",
          "xshift": -40,
          "y": 0.5,
          "yanchor": "middle",
          "yref": "paper"
         }
        ],
        "barmode": "group",
        "height": 800,
        "template": {
         "data": {
          "bar": [
           {
            "error_x": {
             "color": "#2a3f5f"
            },
            "error_y": {
             "color": "#2a3f5f"
            },
            "marker": {
             "line": {
              "color": "#E5ECF6",
              "width": 0.5
             },
             "pattern": {
              "fillmode": "overlay",
              "size": 10,
              "solidity": 0.2
             }
            },
            "type": "bar"
           }
          ],
          "barpolar": [
           {
            "marker": {
             "line": {
              "color": "#E5ECF6",
              "width": 0.5
             },
             "pattern": {
              "fillmode": "overlay",
              "size": 10,
              "solidity": 0.2
             }
            },
            "type": "barpolar"
           }
          ],
          "carpet": [
           {
            "aaxis": {
             "endlinecolor": "#2a3f5f",
             "gridcolor": "white",
             "linecolor": "white",
             "minorgridcolor": "white",
             "startlinecolor": "#2a3f5f"
            },
            "baxis": {
             "endlinecolor": "#2a3f5f",
             "gridcolor": "white",
             "linecolor": "white",
             "minorgridcolor": "white",
             "startlinecolor": "#2a3f5f"
            },
            "type": "carpet"
           }
          ],
          "choropleth": [
           {
            "colorbar": {
             "outlinewidth": 0,
             "ticks": ""
            },
            "type": "choropleth"
           }
          ],
          "contour": [
           {
            "colorbar": {
             "outlinewidth": 0,
             "ticks": ""
            },
            "colorscale": [
             [
              0,
              "#0d0887"
             ],
             [
              0.1111111111111111,
              "#46039f"
             ],
             [
              0.2222222222222222,
              "#7201a8"
             ],
             [
              0.3333333333333333,
              "#9c179e"
             ],
             [
              0.4444444444444444,
              "#bd3786"
             ],
             [
              0.5555555555555556,
              "#d8576b"
             ],
             [
              0.6666666666666666,
              "#ed7953"
             ],
             [
              0.7777777777777778,
              "#fb9f3a"
             ],
             [
              0.8888888888888888,
              "#fdca26"
             ],
             [
              1,
              "#f0f921"
             ]
            ],
            "type": "contour"
           }
          ],
          "contourcarpet": [
           {
            "colorbar": {
             "outlinewidth": 0,
             "ticks": ""
            },
            "type": "contourcarpet"
           }
          ],
          "heatmap": [
           {
            "colorbar": {
             "outlinewidth": 0,
             "ticks": ""
            },
            "colorscale": [
             [
              0,
              "#0d0887"
             ],
             [
              0.1111111111111111,
              "#46039f"
             ],
             [
              0.2222222222222222,
              "#7201a8"
             ],
             [
              0.3333333333333333,
              "#9c179e"
             ],
             [
              0.4444444444444444,
              "#bd3786"
             ],
             [
              0.5555555555555556,
              "#d8576b"
             ],
             [
              0.6666666666666666,
              "#ed7953"
             ],
             [
              0.7777777777777778,
              "#fb9f3a"
             ],
             [
              0.8888888888888888,
              "#fdca26"
             ],
             [
              1,
              "#f0f921"
             ]
            ],
            "type": "heatmap"
           }
          ],
          "heatmapgl": [
           {
            "colorbar": {
             "outlinewidth": 0,
             "ticks": ""
            },
            "colorscale": [
             [
              0,
              "#0d0887"
             ],
             [
              0.1111111111111111,
              "#46039f"
             ],
             [
              0.2222222222222222,
              "#7201a8"
             ],
             [
              0.3333333333333333,
              "#9c179e"
             ],
             [
              0.4444444444444444,
              "#bd3786"
             ],
             [
              0.5555555555555556,
              "#d8576b"
             ],
             [
              0.6666666666666666,
              "#ed7953"
             ],
             [
              0.7777777777777778,
              "#fb9f3a"
             ],
             [
              0.8888888888888888,
              "#fdca26"
             ],
             [
              1,
              "#f0f921"
             ]
            ],
            "type": "heatmapgl"
           }
          ],
          "histogram": [
           {
            "marker": {
             "pattern": {
              "fillmode": "overlay",
              "size": 10,
              "solidity": 0.2
             }
            },
            "type": "histogram"
           }
          ],
          "histogram2d": [
           {
            "colorbar": {
             "outlinewidth": 0,
             "ticks": ""
            },
            "colorscale": [
             [
              0,
              "#0d0887"
             ],
             [
              0.1111111111111111,
              "#46039f"
             ],
             [
              0.2222222222222222,
              "#7201a8"
             ],
             [
              0.3333333333333333,
              "#9c179e"
             ],
             [
              0.4444444444444444,
              "#bd3786"
             ],
             [
              0.5555555555555556,
              "#d8576b"
             ],
             [
              0.6666666666666666,
              "#ed7953"
             ],
             [
              0.7777777777777778,
              "#fb9f3a"
             ],
             [
              0.8888888888888888,
              "#fdca26"
             ],
             [
              1,
              "#f0f921"
             ]
            ],
            "type": "histogram2d"
           }
          ],
          "histogram2dcontour": [
           {
            "colorbar": {
             "outlinewidth": 0,
             "ticks": ""
            },
            "colorscale": [
             [
              0,
              "#0d0887"
             ],
             [
              0.1111111111111111,
              "#46039f"
             ],
             [
              0.2222222222222222,
              "#7201a8"
             ],
             [
              0.3333333333333333,
              "#9c179e"
             ],
             [
              0.4444444444444444,
              "#bd3786"
             ],
             [
              0.5555555555555556,
              "#d8576b"
             ],
             [
              0.6666666666666666,
              "#ed7953"
             ],
             [
              0.7777777777777778,
              "#fb9f3a"
             ],
             [
              0.8888888888888888,
              "#fdca26"
             ],
             [
              1,
              "#f0f921"
             ]
            ],
            "type": "histogram2dcontour"
           }
          ],
          "mesh3d": [
           {
            "colorbar": {
             "outlinewidth": 0,
             "ticks": ""
            },
            "type": "mesh3d"
           }
          ],
          "parcoords": [
           {
            "line": {
             "colorbar": {
              "outlinewidth": 0,
              "ticks": ""
             }
            },
            "type": "parcoords"
           }
          ],
          "pie": [
           {
            "automargin": true,
            "type": "pie"
           }
          ],
          "scatter": [
           {
            "fillpattern": {
             "fillmode": "overlay",
             "size": 10,
             "solidity": 0.2
            },
            "type": "scatter"
           }
          ],
          "scatter3d": [
           {
            "line": {
             "colorbar": {
              "outlinewidth": 0,
              "ticks": ""
             }
            },
            "marker": {
             "colorbar": {
              "outlinewidth": 0,
              "ticks": ""
             }
            },
            "type": "scatter3d"
           }
          ],
          "scattercarpet": [
           {
            "marker": {
             "colorbar": {
              "outlinewidth": 0,
              "ticks": ""
             }
            },
            "type": "scattercarpet"
           }
          ],
          "scattergeo": [
           {
            "marker": {
             "colorbar": {
              "outlinewidth": 0,
              "ticks": ""
             }
            },
            "type": "scattergeo"
           }
          ],
          "scattergl": [
           {
            "marker": {
             "colorbar": {
              "outlinewidth": 0,
              "ticks": ""
             }
            },
            "type": "scattergl"
           }
          ],
          "scattermapbox": [
           {
            "marker": {
             "colorbar": {
              "outlinewidth": 0,
              "ticks": ""
             }
            },
            "type": "scattermapbox"
           }
          ],
          "scatterpolar": [
           {
            "marker": {
             "colorbar": {
              "outlinewidth": 0,
              "ticks": ""
             }
            },
            "type": "scatterpolar"
           }
          ],
          "scatterpolargl": [
           {
            "marker": {
             "colorbar": {
              "outlinewidth": 0,
              "ticks": ""
             }
            },
            "type": "scatterpolargl"
           }
          ],
          "scatterternary": [
           {
            "marker": {
             "colorbar": {
              "outlinewidth": 0,
              "ticks": ""
             }
            },
            "type": "scatterternary"
           }
          ],
          "surface": [
           {
            "colorbar": {
             "outlinewidth": 0,
             "ticks": ""
            },
            "colorscale": [
             [
              0,
              "#0d0887"
             ],
             [
              0.1111111111111111,
              "#46039f"
             ],
             [
              0.2222222222222222,
              "#7201a8"
             ],
             [
              0.3333333333333333,
              "#9c179e"
             ],
             [
              0.4444444444444444,
              "#bd3786"
             ],
             [
              0.5555555555555556,
              "#d8576b"
             ],
             [
              0.6666666666666666,
              "#ed7953"
             ],
             [
              0.7777777777777778,
              "#fb9f3a"
             ],
             [
              0.8888888888888888,
              "#fdca26"
             ],
             [
              1,
              "#f0f921"
             ]
            ],
            "type": "surface"
           }
          ],
          "table": [
           {
            "cells": {
             "fill": {
              "color": "#EBF0F8"
             },
             "line": {
              "color": "white"
             }
            },
            "header": {
             "fill": {
              "color": "#C8D4E3"
             },
             "line": {
              "color": "white"
             }
            },
            "type": "table"
           }
          ]
         },
         "layout": {
          "annotationdefaults": {
           "arrowcolor": "#2a3f5f",
           "arrowhead": 0,
           "arrowwidth": 1
          },
          "autotypenumbers": "strict",
          "coloraxis": {
           "colorbar": {
            "outlinewidth": 0,
            "ticks": ""
           }
          },
          "colorscale": {
           "diverging": [
            [
             0,
             "#8e0152"
            ],
            [
             0.1,
             "#c51b7d"
            ],
            [
             0.2,
             "#de77ae"
            ],
            [
             0.3,
             "#f1b6da"
            ],
            [
             0.4,
             "#fde0ef"
            ],
            [
             0.5,
             "#f7f7f7"
            ],
            [
             0.6,
             "#e6f5d0"
            ],
            [
             0.7,
             "#b8e186"
            ],
            [
             0.8,
             "#7fbc41"
            ],
            [
             0.9,
             "#4d9221"
            ],
            [
             1,
             "#276419"
            ]
           ],
           "sequential": [
            [
             0,
             "#0d0887"
            ],
            [
             0.1111111111111111,
             "#46039f"
            ],
            [
             0.2222222222222222,
             "#7201a8"
            ],
            [
             0.3333333333333333,
             "#9c179e"
            ],
            [
             0.4444444444444444,
             "#bd3786"
            ],
            [
             0.5555555555555556,
             "#d8576b"
            ],
            [
             0.6666666666666666,
             "#ed7953"
            ],
            [
             0.7777777777777778,
             "#fb9f3a"
            ],
            [
             0.8888888888888888,
             "#fdca26"
            ],
            [
             1,
             "#f0f921"
            ]
           ],
           "sequentialminus": [
            [
             0,
             "#0d0887"
            ],
            [
             0.1111111111111111,
             "#46039f"
            ],
            [
             0.2222222222222222,
             "#7201a8"
            ],
            [
             0.3333333333333333,
             "#9c179e"
            ],
            [
             0.4444444444444444,
             "#bd3786"
            ],
            [
             0.5555555555555556,
             "#d8576b"
            ],
            [
             0.6666666666666666,
             "#ed7953"
            ],
            [
             0.7777777777777778,
             "#fb9f3a"
            ],
            [
             0.8888888888888888,
             "#fdca26"
            ],
            [
             1,
             "#f0f921"
            ]
           ]
          },
          "colorway": [
           "#636efa",
           "#EF553B",
           "#00cc96",
           "#ab63fa",
           "#FFA15A",
           "#19d3f3",
           "#FF6692",
           "#B6E880",
           "#FF97FF",
           "#FECB52"
          ],
          "font": {
           "color": "#2a3f5f"
          },
          "geo": {
           "bgcolor": "white",
           "lakecolor": "white",
           "landcolor": "#E5ECF6",
           "showlakes": true,
           "showland": true,
           "subunitcolor": "white"
          },
          "hoverlabel": {
           "align": "left"
          },
          "hovermode": "closest",
          "mapbox": {
           "style": "light"
          },
          "paper_bgcolor": "white",
          "plot_bgcolor": "#E5ECF6",
          "polar": {
           "angularaxis": {
            "gridcolor": "white",
            "linecolor": "white",
            "ticks": ""
           },
           "bgcolor": "#E5ECF6",
           "radialaxis": {
            "gridcolor": "white",
            "linecolor": "white",
            "ticks": ""
           }
          },
          "scene": {
           "xaxis": {
            "backgroundcolor": "#E5ECF6",
            "gridcolor": "white",
            "gridwidth": 2,
            "linecolor": "white",
            "showbackground": true,
            "ticks": "",
            "zerolinecolor": "white"
           },
           "yaxis": {
            "backgroundcolor": "#E5ECF6",
            "gridcolor": "white",
            "gridwidth": 2,
            "linecolor": "white",
            "showbackground": true,
            "ticks": "",
            "zerolinecolor": "white"
           },
           "zaxis": {
            "backgroundcolor": "#E5ECF6",
            "gridcolor": "white",
            "gridwidth": 2,
            "linecolor": "white",
            "showbackground": true,
            "ticks": "",
            "zerolinecolor": "white"
           }
          },
          "shapedefaults": {
           "line": {
            "color": "#2a3f5f"
           }
          },
          "ternary": {
           "aaxis": {
            "gridcolor": "white",
            "linecolor": "white",
            "ticks": ""
           },
           "baxis": {
            "gridcolor": "white",
            "linecolor": "white",
            "ticks": ""
           },
           "bgcolor": "#E5ECF6",
           "caxis": {
            "gridcolor": "white",
            "linecolor": "white",
            "ticks": ""
           }
          },
          "title": {
           "x": 0.05
          },
          "xaxis": {
           "automargin": true,
           "gridcolor": "white",
           "linecolor": "white",
           "ticks": "",
           "title": {
            "standoff": 15
           },
           "zerolinecolor": "white",
           "zerolinewidth": 2
          },
          "yaxis": {
           "automargin": true,
           "gridcolor": "white",
           "linecolor": "white",
           "ticks": "",
           "title": {
            "standoff": 15
           },
           "zerolinecolor": "white",
           "zerolinewidth": 2
          }
         }
        },
        "width": 950,
        "xaxis": {
         "anchor": "y",
         "domain": [
          0,
          1
         ]
        },
        "xaxis2": {
         "anchor": "y2",
         "domain": [
          0,
          1
         ]
        },
        "xaxis3": {
         "anchor": "y3",
         "domain": [
          0,
          1
         ]
        },
        "xaxis4": {
         "anchor": "y4",
         "domain": [
          0,
          1
         ]
        },
        "yaxis": {
         "anchor": "x",
         "domain": [
          0.84375,
          1
         ],
         "dtick": 0.2
        },
        "yaxis2": {
         "anchor": "x2",
         "domain": [
          0.5625,
          0.71875
         ],
         "dtick": 0.2
        },
        "yaxis3": {
         "anchor": "x3",
         "domain": [
          0.28125,
          0.4375
         ],
         "dtick": 0.2
        },
        "yaxis4": {
         "anchor": "x4",
         "domain": [
          0,
          0.15625
         ],
         "dtick": 0.2
        }
       }
      }
     },
     "metadata": {},
     "output_type": "display_data"
    }
   ],
   "source": [
    "AUC_comparision(AUC_data)"
   ]
  }
 ],
 "metadata": {
  "kernelspec": {
   "display_name": "Python 3 (ipykernel)",
   "language": "python",
   "name": "python3"
  },
  "language_info": {
   "codemirror_mode": {
    "name": "ipython",
    "version": 3
   },
   "file_extension": ".py",
   "mimetype": "text/x-python",
   "name": "python",
   "nbconvert_exporter": "python",
   "pygments_lexer": "ipython3",
   "version": "3.8.10"
  },
  "vscode": {
   "interpreter": {
    "hash": "1e88e47a0cbcb1a4c7c7f3461a2e7e5feb3645dcb12ae4b01b59bd8c5b4707c7"
   }
  }
 },
 "nbformat": 4,
 "nbformat_minor": 2
}
