{
 "cells": [
  {
   "cell_type": "code",
   "execution_count": 10,
   "metadata": {},
   "outputs": [
    {
     "name": "stdout",
     "output_type": "stream",
     "text": [
      "   ticker        ESG  year\n",
      "0     AAL  64.444566  2013\n",
      "1     AAL  60.102192  2014\n",
      "2     AAL  53.959633  2015\n",
      "3     AAL  57.242152  2016\n",
      "4     AAL  73.298829  2017\n",
      "..    ...        ...   ...\n",
      "85    UAL  71.607770  2018\n",
      "86    UAL  84.065739  2019\n",
      "87    UAL  72.176239  2020\n",
      "88    UAL  70.269752  2021\n",
      "89    UAL  76.848034  2022\n",
      "\n",
      "[90 rows x 3 columns]\n"
     ]
    }
   ],
   "source": [
    "import pandas as pd\n",
    "import os\n",
    "\n",
    "# Define the directory containing the annual ESG files\n",
    "directory = r\"C:\\Users\\sabri\\OneDrive\\桌面\\論文\\論文code\\Air transportation SIC 4512\\ML dataset\\Annual ESG score (Y)\"\n",
    "\n",
    "# List all files in the directory\n",
    "file_list = [f for f in os.listdir(directory) if f.startswith(\"Annual_ESG_\") and f.endswith(\".csv\")]\n",
    "\n",
    "# Placeholder for the combined data\n",
    "combined_data = pd.DataFrame()\n",
    "\n",
    "# Iterate through the files and combine them\n",
    "for file in file_list:\n",
    "    file_path = os.path.join(directory, file)\n",
    "    \n",
    "    # Extract the year from the file name\n",
    "    year = file.split(\"_\")[-1].split(\".\")[0]\n",
    "    \n",
    "    # Read each file\n",
    "    df = pd.read_csv(file_path)\n",
    "    df[\"year\"] = year  # Add the year as a column\n",
    "    \n",
    "    # Append to the combined data\n",
    "    combined_data = pd.concat([combined_data, df], ignore_index=True)\n",
    "\n",
    "# Ensure the final output is ordered by the ticker names and year\n",
    "desired_order = [\"AAL\", \"ALK\", \"DAL\", \"HA\", \"JBLU\", \"LUV\", \"SAVE\", \"SKYW\", \"UAL\"]\n",
    "combined_data = combined_data.set_index(\"ticker\").loc[desired_order].reset_index()\n",
    "\n",
    "# Save the combined file\n",
    "output_file = os.path.join(directory, \"Combined_ESG_Scores.csv\")\n",
    "combined_data.to_csv(output_file, index=False)\n",
    "\n",
    "print(combined_data)\n"
   ]
  },
  {
   "cell_type": "code",
   "execution_count": null,
   "metadata": {},
   "outputs": [],
   "source": []
  }
 ],
 "metadata": {
  "kernelspec": {
   "display_name": "base",
   "language": "python",
   "name": "python3"
  },
  "language_info": {
   "codemirror_mode": {
    "name": "ipython",
    "version": 3
   },
   "file_extension": ".py",
   "mimetype": "text/x-python",
   "name": "python",
   "nbconvert_exporter": "python",
   "pygments_lexer": "ipython3",
   "version": "3.11.4"
  }
 },
 "nbformat": 4,
 "nbformat_minor": 2
}
