{
 "cells": [
  {
   "cell_type": "markdown",
   "metadata": {},
   "source": [
    "# (a) Show the first to fourth principal component loadings using PCA function"
   ]
  },
  {
   "cell_type": "code",
   "execution_count": 1,
   "metadata": {},
   "outputs": [
    {
     "name": "stdout",
     "output_type": "stream",
     "text": [
      "PCA Loadings:\n",
      "[[ 0.53589947  0.58318363  0.27819087  0.54343209]\n",
      " [-0.41818087 -0.1879856   0.87280619  0.16731864]\n",
      " [-0.34123273 -0.26814843 -0.37801579  0.81777791]\n",
      " [-0.6492278   0.74340748 -0.13387773 -0.08902432]]\n"
     ]
    }
   ],
   "source": [
    "import pandas as pd\n",
    "from sklearn.decomposition import PCA\n",
    "from sklearn.preprocessing import StandardScaler\n",
    "\n",
    "\n",
    "file_path = r'C:\\Users\\坤達\\Downloads\\USArrests.csv'\n",
    "USArrests = pd.read_csv(file_path, index_col=0)\n",
    "\n",
    "#Standarliz the data\n",
    "scaler = StandardScaler()\n",
    "scaled_data = scaler.fit_transform(USArrests)\n",
    "\n",
    "#PCA\n",
    "pca = PCA(n_components=4) \n",
    "pca.fit(scaled_data)\n",
    "\n",
    "\n",
    "loadings = pca.components_\n",
    "print('PCA Loadings:')\n",
    "print(loadings)"
   ]
  },
  {
   "cell_type": "markdown",
   "metadata": {},
   "source": [
    "# (b) Use np.linalg.eig() function to find the first to fourth principal component loadings"
   ]
  },
  {
   "cell_type": "code",
   "execution_count": 4,
   "metadata": {},
   "outputs": [
    {
     "name": "stdout",
     "output_type": "stream",
     "text": [
      "Eigenvectors (first 4):\n",
      "[[ 0.53589947  0.41818087  0.6492278  -0.34123273]\n",
      " [ 0.58318363  0.1879856  -0.74340748 -0.26814843]\n",
      " [ 0.27819087 -0.87280619  0.13387773 -0.37801579]\n",
      " [ 0.54343209 -0.16731864  0.08902432  0.81777791]]\n"
     ]
    }
   ],
   "source": [
    "import numpy as np\n",
    "\n",
    "#Covariance matrix\n",
    "cov_matrix = np.cov(scaled_data.T)\n",
    "\n",
    "#Eigen decomposition\n",
    "eigenvalues, eigenvectors = np.linalg.eig(cov_matrix)\n",
    "\n",
    "print('Eigenvectors (first 4):')\n",
    "print(eigenvectors[:, :4])\n"
   ]
  },
  {
   "cell_type": "markdown",
   "metadata": {},
   "source": [
    "# (c) Use np.linalg.svd() function to find the first to fourth principal component loadings"
   ]
  },
  {
   "cell_type": "code",
   "execution_count": 11,
   "metadata": {},
   "outputs": [
    {
     "name": "stdout",
     "output_type": "stream",
     "text": [
      "SVD Loadings:\n",
      "[[-0.53589947 -0.58318363 -0.27819087 -0.54343209]\n",
      " [-0.41818087 -0.1879856   0.87280619  0.16731864]\n",
      " [ 0.34123273  0.26814843  0.37801579 -0.81777791]\n",
      " [ 0.6492278  -0.74340748  0.13387773  0.08902432]]\n"
     ]
    }
   ],
   "source": [
    "#SVD\n",
    "U, S, Vt = np.linalg.svd(scaled_data)\n",
    "\n",
    "svd_loadings = Vt[:4, :4]\n",
    "print('SVD Loadings:')\n",
    "print(svd_loadings)\n"
   ]
  },
  {
   "cell_type": "markdown",
   "metadata": {},
   "source": [
    "# (d) Are the results from (a), (b), and (c) exactly the same? Why or why not?"
   ]
  },
  {
   "cell_type": "markdown",
   "metadata": {},
   "source": [
    "Same but not identical.\n",
    "PCA function typically returns loadings that are scaled to have unit variance, while np.linalg.eig() gives raw eigenvectors, and SVD decomposition might return vectors with signs flipped.\n"
   ]
  }
 ],
 "metadata": {
  "kernelspec": {
   "display_name": "Python 3",
   "language": "python",
   "name": "python3"
  },
  "language_info": {
   "codemirror_mode": {
    "name": "ipython",
    "version": 3
   },
   "file_extension": ".py",
   "mimetype": "text/x-python",
   "name": "python",
   "nbconvert_exporter": "python",
   "pygments_lexer": "ipython3",
   "version": "3.12.6"
  }
 },
 "nbformat": 4,
 "nbformat_minor": 2
}
