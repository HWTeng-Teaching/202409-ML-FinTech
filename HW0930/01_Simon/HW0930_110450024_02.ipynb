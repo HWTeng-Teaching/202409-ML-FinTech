{
  "nbformat": 4,
  "nbformat_minor": 0,
  "metadata": {
    "colab": {
      "provenance": []
    },
    "kernelspec": {
      "name": "python3",
      "display_name": "Python 3"
    },
    "language_info": {
      "name": "python"
    }
  },
  "cells": [
    {
      "cell_type": "code",
      "execution_count": 2,
      "metadata": {
        "colab": {
          "base_uri": "https://localhost:8080/"
        },
        "id": "kZ0bE4jNgS8-",
        "outputId": "d5435777-0215-434d-f3f1-504e5591307e"
      },
      "outputs": [
        {
          "output_type": "stream",
          "name": "stdout",
          "text": [
            "Mounted at /content/drive\n",
            "   Unnamed: 0  Murder  Assault  UrbanPop  Rape\n",
            "0     Alabama    13.2      236        58  21.2\n",
            "1      Alaska    10.0      263        48  44.5\n",
            "2     Arizona     8.1      294        80  31.0\n",
            "3    Arkansas     8.8      190        50  19.5\n",
            "4  California     9.0      276        91  40.6\n"
          ]
        }
      ],
      "source": [
        "from google.colab import drive\n",
        "drive.mount('/content/drive')\n",
        "\n",
        "import pandas as pd\n",
        "\n",
        "# Assuming your data is in a CSV file named 'USArrests.csv' in your Google Drive's 'My Drive' folder\n",
        "data_path = '/content/drive/My Drive/USArrests.csv'\n",
        "df = pd.read_csv(data_path)\n",
        "\n",
        "# Now you can work with the df DataFrame containing your data\n",
        "print(df.head())\n"
      ]
    },
    {
      "cell_type": "markdown",
      "source": [
        "(a) Show the first to fourth principal components loading vectors using PCA() function"
      ],
      "metadata": {
        "id": "0ZQHuK4Ngzmn"
      }
    },
    {
      "cell_type": "code",
      "source": [
        "import pandas as pd\n",
        "from sklearn.preprocessing import StandardScaler\n",
        "from sklearn.decomposition import PCA\n",
        "\n",
        "# Separate the features from the dataset\n",
        "X = df.iloc[:, 1:]  # Assuming the first column is not a feature\n",
        "\n",
        "# Standardize the features\n",
        "x = StandardScaler().fit_transform(X)\n",
        "\n",
        "# Perform PCA\n",
        "pca = PCA(n_components=4)  # Keep the first 4 principal components\n",
        "principalComponents = pca.fit_transform(x)\n",
        "\n",
        "# Get the loading vectors (eigenvectors)\n",
        "loading_vectors = pca.components_\n",
        "\n",
        "# Print the loading vectors for the first to fourth principal components\n",
        "print(\"First to Fourth Principal Component Loading Vectors:\")\n",
        "for i in range(4):\n",
        "  print(f\"Principal Component {i+1}: {loading_vectors[i]}\")\n",
        "\n"
      ],
      "metadata": {
        "colab": {
          "base_uri": "https://localhost:8080/"
        },
        "id": "w4v_DjGnhJCb",
        "outputId": "7c2a5b47-f8ef-49d2-db85-c6af39327dcc"
      },
      "execution_count": 4,
      "outputs": [
        {
          "output_type": "stream",
          "name": "stdout",
          "text": [
            "First to Fourth Principal Component Loading Vectors:\n",
            "Principal Component 1: [0.53589947 0.58318363 0.27819087 0.54343209]\n",
            "Principal Component 2: [-0.41818087 -0.1879856   0.87280619  0.16731864]\n",
            "Principal Component 3: [-0.34123273 -0.26814843 -0.37801579  0.81777791]\n",
            "Principal Component 4: [-0.6492278   0.74340748 -0.13387773 -0.08902432]\n"
          ]
        }
      ]
    },
    {
      "cell_type": "markdown",
      "source": [
        "(b) use np.linalg.eig() function to find the first to fourth principle component loading vectors"
      ],
      "metadata": {
        "id": "YpsPuyjehSFz"
      }
    },
    {
      "cell_type": "code",
      "source": [
        "import numpy as np\n",
        "\n",
        "# Calculate the covariance matrix\n",
        "covariance_matrix = np.cov(x, rowvar=False)\n",
        "\n",
        "# Calculate eigenvalues and eigenvectors\n",
        "eigenvalues, eigenvectors = np.linalg.eig(covariance_matrix)\n",
        "\n",
        "# Sort eigenvalues and eigenvectors in descending order\n",
        "sorted_indices = np.argsort(eigenvalues)[::-1]\n",
        "eigenvalues = eigenvalues[sorted_indices]\n",
        "eigenvectors = eigenvectors[:, sorted_indices]\n",
        "\n",
        "# Print the first to fourth principal component loading vectors\n",
        "print(\"\\nFirst to Fourth Principal Component Loading Vectors (using np.linalg.eig()):\")\n",
        "for i in range(4):\n",
        "  print(f\"Principal Component {i+1}: {eigenvectors[:, i]}\")\n"
      ],
      "metadata": {
        "colab": {
          "base_uri": "https://localhost:8080/"
        },
        "id": "gkISKkBMhi3G",
        "outputId": "f22c50cf-50ed-497c-853c-8f91938ac616"
      },
      "execution_count": 5,
      "outputs": [
        {
          "output_type": "stream",
          "name": "stdout",
          "text": [
            "\n",
            "First to Fourth Principal Component Loading Vectors (using np.linalg.eig()):\n",
            "Principal Component 1: [0.53589947 0.58318363 0.27819087 0.54343209]\n",
            "Principal Component 2: [ 0.41818087  0.1879856  -0.87280619 -0.16731864]\n",
            "Principal Component 3: [-0.34123273 -0.26814843 -0.37801579  0.81777791]\n",
            "Principal Component 4: [ 0.6492278  -0.74340748  0.13387773  0.08902432]\n"
          ]
        }
      ]
    },
    {
      "cell_type": "markdown",
      "source": [
        "(c) use np.linalg.svd() function to find the first to fourth principle component loading vectors"
      ],
      "metadata": {
        "id": "uNePAIu9h1jD"
      }
    },
    {
      "cell_type": "code",
      "source": [
        "# Perform SVD\n",
        "U, S, V = np.linalg.svd(x)\n",
        "\n",
        "# The loading vectors are the rows of V (transpose)\n",
        "loading_vectors_svd = V\n",
        "\n",
        "# Print the first to fourth principal component loading vectors\n",
        "print(\"\\nFirst to Fourth Principal Component Loading Vectors (using np.linalg.svd()):\")\n",
        "for i in range(4):\n",
        "  print(f\"Principal Component {i+1}: {loading_vectors_svd[i]}\")\n"
      ],
      "metadata": {
        "colab": {
          "base_uri": "https://localhost:8080/"
        },
        "id": "-JK9CDpaiEHS",
        "outputId": "fb4137ec-cd7e-4435-f29d-e2408ed739d6"
      },
      "execution_count": 6,
      "outputs": [
        {
          "output_type": "stream",
          "name": "stdout",
          "text": [
            "\n",
            "First to Fourth Principal Component Loading Vectors (using np.linalg.svd()):\n",
            "Principal Component 1: [-0.53589947 -0.58318363 -0.27819087 -0.54343209]\n",
            "Principal Component 2: [-0.41818087 -0.1879856   0.87280619  0.16731864]\n",
            "Principal Component 3: [ 0.34123273  0.26814843  0.37801579 -0.81777791]\n",
            "Principal Component 4: [ 0.6492278  -0.74340748  0.13387773  0.08902432]\n"
          ]
        }
      ]
    },
    {
      "cell_type": "markdown",
      "source": [
        "(d) Are those from (a), (b), and (c) exactly the same? Why or why not?"
      ],
      "metadata": {
        "id": "_r8S0kIUiRq3"
      }
    },
    {
      "cell_type": "code",
      "source": [
        "# Compare the loading vectors from (a), (b), and (c)\n",
        "print(\"\\nAre the loading vectors from (a), (b), and (c) exactly the same?\\n\")\n",
        "\n",
        "def compare_loading_vectors(loading_vectors_a, loading_vectors_b, tolerance=1e-6):\n",
        "  \"\"\"Compares two sets of loading vectors.\"\"\"\n",
        "  for i in range(4):\n",
        "    if not np.allclose(loading_vectors_a[i], loading_vectors_b[i], atol=tolerance):\n",
        "      return False\n",
        "  return True\n",
        "\n",
        "if compare_loading_vectors(loading_vectors, eigenvectors.T[:4]):\n",
        "  print(\"The loading vectors from (a) and (b) are the same.\")\n",
        "else:\n",
        "  print(\"The loading vectors from (a) and (b) are not the same.\")\n",
        "\n",
        "if compare_loading_vectors(loading_vectors, loading_vectors_svd[:4]):\n",
        "  print(\"The loading vectors from (a) and (c) are the same.\")\n",
        "else:\n",
        "  print(\"The loading vectors from (a) and (c) are not the same.\")\n"
      ],
      "metadata": {
        "colab": {
          "base_uri": "https://localhost:8080/"
        },
        "id": "MNlkAq6sihx9",
        "outputId": "f5391288-42b3-4b49-c35a-c572b60a4e6e"
      },
      "execution_count": 8,
      "outputs": [
        {
          "output_type": "stream",
          "name": "stdout",
          "text": [
            "\n",
            "Are the loading vectors from (a), (b), and (c) exactly the same?\n",
            "\n",
            "The loading vectors from (a) and (b) are not the same.\n",
            "The loading vectors from (a) and (c) are not the same.\n"
          ]
        }
      ]
    },
    {
      "cell_type": "markdown",
      "source": [
        "Why are the loading vectors from the different methods not always exactly the same?\n",
        "\n",
        "* **Sign Ambiguity:** The eigenvectors obtained from `np.linalg.eig()` and `np.linalg.svd()`\n",
        "can have opposite signs compared to the loading vectors from `PCA()`.  This is because the direction\n",
        "of a principal component is arbitrary.\n",
        "\n",
        "* **Numerical Precision:** The calculations might have small numerical differences due to the different algorithms used."
      ],
      "metadata": {
        "id": "zdnikv8vi_V3"
      }
    }
  ]
}