{
  "nbformat": 4,
  "nbformat_minor": 0,
  "metadata": {
    "colab": {
      "provenance": []
    },
    "kernelspec": {
      "name": "python3",
      "display_name": "Python 3"
    },
    "language_info": {
      "name": "python"
    }
  },
  "cells": [
    {
      "cell_type": "markdown",
      "source": [
        "[PCA] Use the 'USArrests' data"
      ],
      "metadata": {
        "id": "YEE6j-rERWPM"
      }
    },
    {
      "cell_type": "markdown",
      "source": [
        "a)"
      ],
      "metadata": {
        "id": "_dCfkeG-RYII"
      }
    },
    {
      "cell_type": "code",
      "execution_count": 6,
      "metadata": {
        "id": "84OcFx_QROiL",
        "colab": {
          "base_uri": "https://localhost:8080/",
          "height": 176
        },
        "outputId": "3acf6b62-cc15-4693-b2e2-fdda9a7c7e99"
      },
      "outputs": [
        {
          "output_type": "display_data",
          "data": {
            "text/plain": [
              "<IPython.core.display.HTML object>"
            ],
            "text/html": [
              "\n",
              "     <input type=\"file\" id=\"files-f00eafde-fe2c-4322-a796-634650e8e72e\" name=\"files[]\" multiple disabled\n",
              "        style=\"border:none\" />\n",
              "     <output id=\"result-f00eafde-fe2c-4322-a796-634650e8e72e\">\n",
              "      Upload widget is only available when the cell has been executed in the\n",
              "      current browser session. Please rerun this cell to enable.\n",
              "      </output>\n",
              "      <script>// Copyright 2017 Google LLC\n",
              "//\n",
              "// Licensed under the Apache License, Version 2.0 (the \"License\");\n",
              "// you may not use this file except in compliance with the License.\n",
              "// You may obtain a copy of the License at\n",
              "//\n",
              "//      http://www.apache.org/licenses/LICENSE-2.0\n",
              "//\n",
              "// Unless required by applicable law or agreed to in writing, software\n",
              "// distributed under the License is distributed on an \"AS IS\" BASIS,\n",
              "// WITHOUT WARRANTIES OR CONDITIONS OF ANY KIND, either express or implied.\n",
              "// See the License for the specific language governing permissions and\n",
              "// limitations under the License.\n",
              "\n",
              "/**\n",
              " * @fileoverview Helpers for google.colab Python module.\n",
              " */\n",
              "(function(scope) {\n",
              "function span(text, styleAttributes = {}) {\n",
              "  const element = document.createElement('span');\n",
              "  element.textContent = text;\n",
              "  for (const key of Object.keys(styleAttributes)) {\n",
              "    element.style[key] = styleAttributes[key];\n",
              "  }\n",
              "  return element;\n",
              "}\n",
              "\n",
              "// Max number of bytes which will be uploaded at a time.\n",
              "const MAX_PAYLOAD_SIZE = 100 * 1024;\n",
              "\n",
              "function _uploadFiles(inputId, outputId) {\n",
              "  const steps = uploadFilesStep(inputId, outputId);\n",
              "  const outputElement = document.getElementById(outputId);\n",
              "  // Cache steps on the outputElement to make it available for the next call\n",
              "  // to uploadFilesContinue from Python.\n",
              "  outputElement.steps = steps;\n",
              "\n",
              "  return _uploadFilesContinue(outputId);\n",
              "}\n",
              "\n",
              "// This is roughly an async generator (not supported in the browser yet),\n",
              "// where there are multiple asynchronous steps and the Python side is going\n",
              "// to poll for completion of each step.\n",
              "// This uses a Promise to block the python side on completion of each step,\n",
              "// then passes the result of the previous step as the input to the next step.\n",
              "function _uploadFilesContinue(outputId) {\n",
              "  const outputElement = document.getElementById(outputId);\n",
              "  const steps = outputElement.steps;\n",
              "\n",
              "  const next = steps.next(outputElement.lastPromiseValue);\n",
              "  return Promise.resolve(next.value.promise).then((value) => {\n",
              "    // Cache the last promise value to make it available to the next\n",
              "    // step of the generator.\n",
              "    outputElement.lastPromiseValue = value;\n",
              "    return next.value.response;\n",
              "  });\n",
              "}\n",
              "\n",
              "/**\n",
              " * Generator function which is called between each async step of the upload\n",
              " * process.\n",
              " * @param {string} inputId Element ID of the input file picker element.\n",
              " * @param {string} outputId Element ID of the output display.\n",
              " * @return {!Iterable<!Object>} Iterable of next steps.\n",
              " */\n",
              "function* uploadFilesStep(inputId, outputId) {\n",
              "  const inputElement = document.getElementById(inputId);\n",
              "  inputElement.disabled = false;\n",
              "\n",
              "  const outputElement = document.getElementById(outputId);\n",
              "  outputElement.innerHTML = '';\n",
              "\n",
              "  const pickedPromise = new Promise((resolve) => {\n",
              "    inputElement.addEventListener('change', (e) => {\n",
              "      resolve(e.target.files);\n",
              "    });\n",
              "  });\n",
              "\n",
              "  const cancel = document.createElement('button');\n",
              "  inputElement.parentElement.appendChild(cancel);\n",
              "  cancel.textContent = 'Cancel upload';\n",
              "  const cancelPromise = new Promise((resolve) => {\n",
              "    cancel.onclick = () => {\n",
              "      resolve(null);\n",
              "    };\n",
              "  });\n",
              "\n",
              "  // Wait for the user to pick the files.\n",
              "  const files = yield {\n",
              "    promise: Promise.race([pickedPromise, cancelPromise]),\n",
              "    response: {\n",
              "      action: 'starting',\n",
              "    }\n",
              "  };\n",
              "\n",
              "  cancel.remove();\n",
              "\n",
              "  // Disable the input element since further picks are not allowed.\n",
              "  inputElement.disabled = true;\n",
              "\n",
              "  if (!files) {\n",
              "    return {\n",
              "      response: {\n",
              "        action: 'complete',\n",
              "      }\n",
              "    };\n",
              "  }\n",
              "\n",
              "  for (const file of files) {\n",
              "    const li = document.createElement('li');\n",
              "    li.append(span(file.name, {fontWeight: 'bold'}));\n",
              "    li.append(span(\n",
              "        `(${file.type || 'n/a'}) - ${file.size} bytes, ` +\n",
              "        `last modified: ${\n",
              "            file.lastModifiedDate ? file.lastModifiedDate.toLocaleDateString() :\n",
              "                                    'n/a'} - `));\n",
              "    const percent = span('0% done');\n",
              "    li.appendChild(percent);\n",
              "\n",
              "    outputElement.appendChild(li);\n",
              "\n",
              "    const fileDataPromise = new Promise((resolve) => {\n",
              "      const reader = new FileReader();\n",
              "      reader.onload = (e) => {\n",
              "        resolve(e.target.result);\n",
              "      };\n",
              "      reader.readAsArrayBuffer(file);\n",
              "    });\n",
              "    // Wait for the data to be ready.\n",
              "    let fileData = yield {\n",
              "      promise: fileDataPromise,\n",
              "      response: {\n",
              "        action: 'continue',\n",
              "      }\n",
              "    };\n",
              "\n",
              "    // Use a chunked sending to avoid message size limits. See b/62115660.\n",
              "    let position = 0;\n",
              "    do {\n",
              "      const length = Math.min(fileData.byteLength - position, MAX_PAYLOAD_SIZE);\n",
              "      const chunk = new Uint8Array(fileData, position, length);\n",
              "      position += length;\n",
              "\n",
              "      const base64 = btoa(String.fromCharCode.apply(null, chunk));\n",
              "      yield {\n",
              "        response: {\n",
              "          action: 'append',\n",
              "          file: file.name,\n",
              "          data: base64,\n",
              "        },\n",
              "      };\n",
              "\n",
              "      let percentDone = fileData.byteLength === 0 ?\n",
              "          100 :\n",
              "          Math.round((position / fileData.byteLength) * 100);\n",
              "      percent.textContent = `${percentDone}% done`;\n",
              "\n",
              "    } while (position < fileData.byteLength);\n",
              "  }\n",
              "\n",
              "  // All done.\n",
              "  yield {\n",
              "    response: {\n",
              "      action: 'complete',\n",
              "    }\n",
              "  };\n",
              "}\n",
              "\n",
              "scope.google = scope.google || {};\n",
              "scope.google.colab = scope.google.colab || {};\n",
              "scope.google.colab._files = {\n",
              "  _uploadFiles,\n",
              "  _uploadFilesContinue,\n",
              "};\n",
              "})(self);\n",
              "</script> "
            ]
          },
          "metadata": {}
        },
        {
          "output_type": "stream",
          "name": "stdout",
          "text": [
            "Saving USArrests.csv to USArrests (2).csv\n",
            "Principal Component Loadings (First to Fourth PCs):\n",
            "               PC1       PC2       PC3       PC4\n",
            "Murder    0.535899 -0.418181 -0.341233 -0.649228\n",
            "Assault   0.583184 -0.187986 -0.268148  0.743407\n",
            "UrbanPop  0.278191  0.872806 -0.378016 -0.133878\n",
            "Rape      0.543432  0.167319  0.817778 -0.089024\n"
          ]
        }
      ],
      "source": [
        "# Step 1: Import the necessary libraries\n",
        "from google.colab import files\n",
        "import pandas as pd\n",
        "from sklearn.decomposition import PCA\n",
        "from sklearn.preprocessing import StandardScaler\n",
        "\n",
        "# Step 2: Upload the 'USArrests.csv' file\n",
        "uploaded = files.upload()\n",
        "\n",
        "# Step 3: Load the dataset into a pandas DataFrame\n",
        "# Assuming the uploaded file is named 'USArrests.csv'\n",
        "USArrests = pd.read_csv('USArrests.csv')\n",
        "\n",
        "# Step 4: Drop the first column which contains state names (non-numeric data)\n",
        "USArrests_numeric = USArrests.drop(columns=['Unnamed: 0'])  # Dropping the column with state names\n",
        "\n",
        "# Step 5: Standardize the data (PCA is sensitive to scale)\n",
        "scaler = StandardScaler()\n",
        "USArrests_scaled = scaler.fit_transform(USArrests_numeric)\n",
        "\n",
        "# Step 6: Perform PCA\n",
        "pca = PCA(n_components=4)  # We want the first four principal components\n",
        "pca.fit(USArrests_scaled)\n",
        "\n",
        "# Step 7: Display the principal component loadings (PCA components)\n",
        "loadings = pca.components_  # This gives us the loadings (eigenvectors)\n",
        "\n",
        "# Step 8: Create a DataFrame to display loadings\n",
        "loadings_df = pd.DataFrame(loadings.T, index=USArrests_numeric.columns, columns=['PC1', 'PC2', 'PC3', 'PC4'])\n",
        "\n",
        "# Show the first to fourth principal component loadings vectors\n",
        "print(\"Principal Component Loadings (First to Fourth PCs):\")\n",
        "print(loadings_df)\n"
      ]
    },
    {
      "cell_type": "markdown",
      "source": [
        "b)"
      ],
      "metadata": {
        "id": "d9C7pW2OVNqS"
      }
    },
    {
      "cell_type": "code",
      "source": [
        "# Step 1: Import necessary libraries\n",
        "import pandas as pd\n",
        "import numpy as np\n",
        "from sklearn.preprocessing import StandardScaler\n",
        "\n",
        "# Step 2: Drop the non-numeric 'state names' column\n",
        "USArrests_numeric = USArrests.drop(columns=['Unnamed: 0'])\n",
        "\n",
        "# Step 3: Standardize the data\n",
        "scaler = StandardScaler()\n",
        "USArrests_scaled = scaler.fit_transform(USArrests_numeric)\n",
        "\n",
        "# Step 4: Compute the covariance matrix of the scaled data\n",
        "cov_matrix = np.cov(USArrests_scaled.T)\n",
        "\n",
        "# Step 5: Compute the eigenvalues and eigenvectors using np.linalg.eig()\n",
        "eigenvalues, eigenvectors = np.linalg.eig(cov_matrix)\n",
        "\n",
        "# Step 6: Sort eigenvalues and corresponding eigenvectors in descending order\n",
        "idx = np.argsort(eigenvalues)[::-1]  # Indices to sort eigenvalues in descending order\n",
        "eigenvalues = eigenvalues[idx]       # Sort eigenvalues\n",
        "eigenvectors = eigenvectors[:, idx]  # Sort eigenvectors according to eigenvalues\n",
        "\n",
        "# Step 7: Create a DataFrame to display the first to fourth principal component loadings\n",
        "loadings_df = pd.DataFrame(eigenvectors[:, :4], index=USArrests_numeric.columns, columns=['PC1', 'PC2', 'PC3', 'PC4'])\n",
        "\n",
        "# Show the first to fourth principal component loadings vectors\n",
        "print(\"Principal Component Loadings (First to Fourth PCs) using np.linalg.eig():\")\n",
        "print(loadings_df)\n"
      ],
      "metadata": {
        "colab": {
          "base_uri": "https://localhost:8080/"
        },
        "id": "QUfATRjMVOA5",
        "outputId": "df70bf30-2aaa-4b70-d0af-4dd857aa695d"
      },
      "execution_count": 9,
      "outputs": [
        {
          "output_type": "stream",
          "name": "stdout",
          "text": [
            "Principal Component Loadings (First to Fourth PCs) using np.linalg.eig():\n",
            "               PC1       PC2       PC3       PC4\n",
            "Murder    0.535899  0.418181 -0.341233  0.649228\n",
            "Assault   0.583184  0.187986 -0.268148 -0.743407\n",
            "UrbanPop  0.278191 -0.872806 -0.378016  0.133878\n",
            "Rape      0.543432 -0.167319  0.817778  0.089024\n"
          ]
        }
      ]
    },
    {
      "cell_type": "markdown",
      "source": [
        "c)"
      ],
      "metadata": {
        "id": "tg-9oTgpV8gW"
      }
    },
    {
      "cell_type": "code",
      "source": [
        "# Step 1: Import necessary libraries\n",
        "import pandas as pd\n",
        "import numpy as np\n",
        "from sklearn.preprocessing import StandardScaler\n",
        "\n",
        "# Step 2: Drop the non-numeric 'state names' column\n",
        "USArrests_numeric = USArrests.drop(columns=['Unnamed: 0'])\n",
        "\n",
        "# Step 3: Standardize the data\n",
        "scaler = StandardScaler()\n",
        "USArrests_scaled = scaler.fit_transform(USArrests_numeric)\n",
        "\n",
        "# Step 4: Perform SVD using np.linalg.svd\n",
        "# SVD returns U, S, V.T, where V.T contains the principal component loadings\n",
        "U, S, Vt = np.linalg.svd(USArrests_scaled)\n",
        "\n",
        "# Step 5: Vt contains the principal component loadings (eigenvectors)\n",
        "# The rows of Vt correspond to the principal components, so we take the first four components (rows)\n",
        "loadings_df = pd.DataFrame(Vt[:4].T, index=USArrests_numeric.columns, columns=['PC1', 'PC2', 'PC3', 'PC4'])\n",
        "\n",
        "# Show the first to fourth principal component loadings vectors\n",
        "print(\"Principal Component Loadings (First to Fourth PCs) using SVD:\")\n",
        "print(loadings_df)\n"
      ],
      "metadata": {
        "colab": {
          "base_uri": "https://localhost:8080/"
        },
        "id": "oFNmyZL8V86x",
        "outputId": "18ea4ee5-cd64-4cca-9d80-0abf5cd845f9"
      },
      "execution_count": 8,
      "outputs": [
        {
          "output_type": "stream",
          "name": "stdout",
          "text": [
            "Principal Component Loadings (First to Fourth PCs) using SVD:\n",
            "               PC1       PC2       PC3       PC4\n",
            "Murder   -0.535899 -0.418181  0.341233  0.649228\n",
            "Assault  -0.583184 -0.187986  0.268148 -0.743407\n",
            "UrbanPop -0.278191  0.872806  0.378016  0.133878\n",
            "Rape     -0.543432  0.167319 -0.817778  0.089024\n"
          ]
        }
      ]
    },
    {
      "cell_type": "markdown",
      "source": [
        "Yes, the result are the same. The principal component loadings (directions of the principal components) obtained from all three methods (PCA(), np.linalg.eig(), and np.linalg.svd()) will be mathematically equivalent. These methods are all based on linear algebra principles, and the directions of the principal components (i.e., the eigenvectors or right singular vectors) are identical.\n",
        "\n",
        "However, the sign of the eigenvectors (principal component loadings) may differ between these methods. Eigenvectors are determined up to a sign (i.e., multiplying an eigenvector by -1 still gives a valid eigenvector). This means that the values may be numerically identical but have opposite signs in some cases."
      ],
      "metadata": {
        "id": "6-JlPHVrXUQg"
      }
    },
    {
      "cell_type": "code",
      "source": [],
      "metadata": {
        "id": "KPQh_4vLXc9q"
      },
      "execution_count": null,
      "outputs": []
    }
  ]
}