{
  "metadata": {
    "kernelspec": {
      "name": "python",
      "display_name": "Python (Pyodide)",
      "language": "python"
    },
    "language_info": {
      "codemirror_mode": {
        "name": "python",
        "version": 3
      },
      "file_extension": ".py",
      "mimetype": "text/x-python",
      "name": "python",
      "nbconvert_exporter": "python",
      "pygments_lexer": "ipython3",
      "version": "3.8"
    }
  },
  "nbformat_minor": 4,
  "nbformat": 4,
  "cells": [
    {
      "cell_type": "code",
      "source": "###read data\nimport pandas as pd\n\nfile_path =\"USArrests拷貝.csv\"\ndf = pd.read_csv(file_path)\nprint(df.info())\nprint(df.describe())\nprint(df.head())",
      "metadata": {
        "trusted": true
      },
      "outputs": [
        {
          "name": "stdout",
          "text": "<class 'pandas.core.frame.DataFrame'>\nRangeIndex: 50 entries, 0 to 49\nData columns (total 5 columns):\n #   Column    Non-Null Count  Dtype  \n---  ------    --------------  -----  \n 0   rownames  50 non-null     object \n 1   Murder    50 non-null     float64\n 2   Assault   50 non-null     int64  \n 3   UrbanPop  50 non-null     int64  \n 4   Rape      50 non-null     float64\ndtypes: float64(2), int64(2), object(1)\nmemory usage: 1.8+ KB\nNone\n         Murder     Assault   UrbanPop       Rape\ncount  50.00000   50.000000  50.000000  50.000000\nmean    7.78800  170.760000  65.540000  21.232000\nstd     4.35551   83.337661  14.474763   9.366385\nmin     0.80000   45.000000  32.000000   7.300000\n25%     4.07500  109.000000  54.500000  15.075000\n50%     7.25000  159.000000  66.000000  20.100000\n75%    11.25000  249.000000  77.750000  26.175000\nmax    17.40000  337.000000  91.000000  46.000000\n     rownames  Murder  Assault  UrbanPop  Rape\n0     Alabama    13.2      236        58  21.2\n1      Alaska    10.0      263        48  44.5\n2     Arizona     8.1      294        80  31.0\n3    Arkansas     8.8      190        50  19.5\n4  California     9.0      276        91  40.6\n",
          "output_type": "stream"
        }
      ],
      "execution_count": 7
    },
    {
      "cell_type": "code",
      "source": "###(a) \nfrom sklearn.decomposition import PCA\nimport pandas as pd\n\n##不要欄位名稱 哪一州\nX = df.iloc[:, 1:].values \n##PCA\npca = PCA(n_components = 4)\npca.fit(X)\n##loading \npca_loadings = pca.components_.T\nprint(\"PCA 負載向量（前四個主成分）：\\n\", pca_loadings)",
      "metadata": {
        "trusted": true
      },
      "outputs": [
        {
          "name": "stdout",
          "text": "PCA 負載向量（前四個主成分）：\n [[ 0.04170432  0.04482166  0.07989066  0.99492173]\n [ 0.99522128  0.05876003 -0.06756974 -0.0389383 ]\n [ 0.04633575 -0.97685748 -0.20054629  0.05816914]\n [ 0.0751555  -0.20071807  0.97408059 -0.07232502]]\n",
          "output_type": "stream"
        }
      ],
      "execution_count": 10
    },
    {
      "cell_type": "code",
      "source": "##(b) np.lonalg.eig() 特徵值分解前面四個\n\nimport numpy as np\n# 計算資料矩陣的協方差矩陣\ncov_matrix = np.cov(X.T)\n\n# 使用 np.linalg.eig() 求特徵值和特徵向量\neigen_values, eigen_vectors = np.linalg.eig(cov_matrix)\n\n# 顯示前四個特徵向量（主成分負載向量）\nprint(\"特徵值分解（eig）負載向量（前四個主成分）：\\n\", eigen_vectors[:, :4])",
      "metadata": {
        "trusted": true
      },
      "outputs": [
        {
          "name": "stdout",
          "text": "特徵值分解（eig）負載向量（前四個主成分）：\n [[ 0.04170432  0.04482166 -0.99492173  0.07989066]\n [ 0.99522128  0.05876003  0.0389383  -0.06756974]\n [ 0.04633575 -0.97685748 -0.05816914 -0.20054629]\n [ 0.0751555  -0.20071807  0.07232502  0.97408059]]\n",
          "output_type": "stream"
        }
      ],
      "execution_count": 11
    },
    {
      "cell_type": "code",
      "source": "##(c)np.linalg.svd() 奇異值分解前面四個\n# 使用 np.linalg.svd() 進行奇異值分解 （X=U⋅S⋅Vt)\nU, S, VT = np.linalg.svd(X)\n\n# 取出右奇異向量（VT），即主成分負載向量\nprint(\"奇異值分解（svd）負載向量（前四個主成分）：\\n\", VT.T[:, :4])",
      "metadata": {
        "trusted": true
      },
      "outputs": [
        {
          "name": "stdout",
          "text": "奇異值分解（svd）負載向量（前四個主成分）：\n [[-0.04239181  0.01616262 -0.06588426  0.99679535]\n [-0.94395706  0.3206858   0.0665517  -0.04094568]\n [-0.30842767 -0.93845891  0.15496743  0.01234261]\n [-0.10963744 -0.12725666 -0.98347101 -0.06760284]]\n",
          "output_type": "stream"
        }
      ],
      "execution_count": 12
    },
    {
      "cell_type": "code",
      "source": "##(d) (a)、(b)、(c) 的負載向量結果理論上應該相同，\n##但因計算方法不同而有符號或數值上的微小差異。\n##根本原因在於三種方法的內部算法和矩陣分解策略不同。\n##PCA矩陣進行的特徵值分解。\n##因此，它和 np.linalg.eig() 的結果通常相同，但方向可能相反（即符號可能不同\n##(d) The loading vectors from (a), (b), and (c) should be same  \n#However, due to differences in computation methods, \n#they may have minor variations in sign or numerical precision. \n#The main reason lies in the different internal algorithms and matrix decomposition strategies.\n#PCA is based on the eigen decomposition of the covariance matrix. \n#Therefore, its result is generally the same as that of np.linalg.eig(), \n#but the directions may differ (i.e., the signs might be opposite).",
      "metadata": {
        "trusted": true
      },
      "outputs": [],
      "execution_count": null
    }
  ]
}