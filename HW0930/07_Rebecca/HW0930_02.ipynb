{
  "metadata": {
    "kernelspec": {
      "name": "python",
      "display_name": "Python (Pyodide)",
      "language": "python"
    },
    "language_info": {
      "codemirror_mode": {
        "name": "python",
        "version": 3
      },
      "file_extension": ".py",
      "mimetype": "text/x-python",
      "name": "python",
      "nbconvert_exporter": "python",
      "pygments_lexer": "ipython3",
      "version": "3.8"
    }
  },
  "nbformat_minor": 4,
  "nbformat": 4,
  "cells": [
    {
      "cell_type": "code",
      "source": "###read data\nimport pandas as pd\n\nfile_path =\"USArrests.csv\"\ndf = pd.read_csv(file_path)\nprint(df.info())\nprint(df.describe())\nprint(df.head())",
      "metadata": {
        "trusted": true
      },
      "outputs": [
        {
          "name": "stdout",
          "text": "<class 'pandas.core.frame.DataFrame'>\nRangeIndex: 50 entries, 0 to 49\nData columns (total 5 columns):\n #   Column    Non-Null Count  Dtype  \n---  ------    --------------  -----  \n 0   rownames  50 non-null     object \n 1   Murder    50 non-null     float64\n 2   Assault   50 non-null     int64  \n 3   UrbanPop  50 non-null     int64  \n 4   Rape      50 non-null     float64\ndtypes: float64(2), int64(2), object(1)\nmemory usage: 1.8+ KB\nNone\n         Murder     Assault   UrbanPop       Rape\ncount  50.00000   50.000000  50.000000  50.000000\nmean    7.78800  170.760000  65.540000  21.232000\nstd     4.35551   83.337661  14.474763   9.366385\nmin     0.80000   45.000000  32.000000   7.300000\n25%     4.07500  109.000000  54.500000  15.075000\n50%     7.25000  159.000000  66.000000  20.100000\n75%    11.25000  249.000000  77.750000  26.175000\nmax    17.40000  337.000000  91.000000  46.000000\n     rownames  Murder  Assault  UrbanPop  Rape\n0     Alabama    13.2      236        58  21.2\n1      Alaska    10.0      263        48  44.5\n2     Arizona     8.1      294        80  31.0\n3    Arkansas     8.8      190        50  19.5\n4  California     9.0      276        91  40.6\n",
          "output_type": "stream"
        }
      ],
      "execution_count": 2
    },
    {
      "cell_type": "code",
      "source": "import pandas as pd\nimport numpy as np\nfrom sklearn.decomposition import PCA\nfrom sklearn.preprocessing import StandardScaler\n\n##read data\nfile_path =\"USArrests.csv\"\ndf = pd.read_csv(file_path)\nprint(df.info())\nprint(df.describe())\nprint(df.head())\n\n# 2. 資料標準化\nscaler = StandardScaler()\ndata_standardized = scaler.fit_transform(df.iloc[:, 1:])  # 州不用 只選取數值欄位進行標準化\n\n# 3. 使用 PCA() 計算前四個主成分的載荷向量\npca = PCA(n_components=4)\npca.fit(data_standardized)\npca_loadings = pca.components_.T  # 轉置以顯示每個變數的主成分載荷\n\nprint(\"a) 使用 PCA() 計算的前四個主成分載荷向量：\")\nprint(pd.DataFrame(pca_loadings, index=df.columns[1:], columns=[f'PC{i+1}' for i in range(4)]))\n\n# 4. 使用 np.linalg.eig() 計算特徵值分解\ncov_matrix = np.cov(data_standardized.T)  # 計算共變異矩陣\neig_values, eig_vectors = np.linalg.eig(cov_matrix)\n\n# 取前四個特徵向量\neig_loadings = eig_vectors[:, :4]\n\nprint(\"\\nb) 使用 np.linalg.eig() 計算的前四個主成分載荷向量：\")\nprint(pd.DataFrame(eig_loadings, index=df.columns[1:], columns=[f'PC{i+1}' for i in range(4)]))\n\n# 5. 使用 np.linalg.svd() 計算奇異值分解\nU, S, VT = np.linalg.svd(data_standardized, full_matrices=False)\n\n# 取前四個主成分的載荷向量 (VT.T)\nsvd_loadings = VT.T[:, :4]\n\nprint(\"\\nc) 使用 np.linalg.svd() 計算的前四個主成分載荷向量：\")\nprint(pd.DataFrame(svd_loadings, index=df.columns[1:], columns=[f'PC{i+1}' for i in range(4)]))\n\n",
      "metadata": {
        "trusted": true
      },
      "outputs": [
        {
          "name": "stdout",
          "text": "<class 'pandas.core.frame.DataFrame'>\nRangeIndex: 50 entries, 0 to 49\nData columns (total 5 columns):\n #   Column    Non-Null Count  Dtype  \n---  ------    --------------  -----  \n 0   rownames  50 non-null     object \n 1   Murder    50 non-null     float64\n 2   Assault   50 non-null     int64  \n 3   UrbanPop  50 non-null     int64  \n 4   Rape      50 non-null     float64\ndtypes: float64(2), int64(2), object(1)\nmemory usage: 1.8+ KB\nNone\n         Murder     Assault   UrbanPop       Rape\ncount  50.00000   50.000000  50.000000  50.000000\nmean    7.78800  170.760000  65.540000  21.232000\nstd     4.35551   83.337661  14.474763   9.366385\nmin     0.80000   45.000000  32.000000   7.300000\n25%     4.07500  109.000000  54.500000  15.075000\n50%     7.25000  159.000000  66.000000  20.100000\n75%    11.25000  249.000000  77.750000  26.175000\nmax    17.40000  337.000000  91.000000  46.000000\n     rownames  Murder  Assault  UrbanPop  Rape\n0     Alabama    13.2      236        58  21.2\n1      Alaska    10.0      263        48  44.5\n2     Arizona     8.1      294        80  31.0\n3    Arkansas     8.8      190        50  19.5\n4  California     9.0      276        91  40.6\na) 使用 PCA() 計算的前四個主成分載荷向量：\n               PC1       PC2       PC3       PC4\nMurder    0.535899  0.418181 -0.341233  0.649228\nAssault   0.583184  0.187986 -0.268148 -0.743407\nUrbanPop  0.278191 -0.872806 -0.378016  0.133878\nRape      0.543432 -0.167319  0.817778  0.089024\n\nb) 使用 np.linalg.eig() 計算的前四個主成分載荷向量：\n               PC1       PC2       PC3       PC4\nMurder    0.535899  0.418181  0.649228 -0.341233\nAssault   0.583184  0.187986 -0.743407 -0.268148\nUrbanPop  0.278191 -0.872806  0.133878 -0.378016\nRape      0.543432 -0.167319  0.089024  0.817778\n\nc) 使用 np.linalg.svd() 計算的前四個主成分載荷向量：\n               PC1       PC2       PC3       PC4\nMurder   -0.535899  0.418181 -0.341233  0.649228\nAssault  -0.583184  0.187986 -0.268148 -0.743407\nUrbanPop -0.278191 -0.872806 -0.378016  0.133878\nRape     -0.543432 -0.167319  0.817778  0.089024\n",
          "output_type": "stream"
        }
      ],
      "execution_count": 6
    },
    {
      "cell_type": "code",
      "source": "##(d)\n##理論上，三種方法應該產生相似的載荷向量，\n##因為特徵值分解、奇異值分解以及 PCA本質上都是相同的矩陣分解方法。\n##唯一的區別可能在於向量的符號或順序 正負號 方向等等",
      "metadata": {
        "trusted": true
      },
      "outputs": [],
      "execution_count": null
    },
    {
      "cell_type": "code",
      "source": "",
      "metadata": {
        "trusted": true
      },
      "outputs": [],
      "execution_count": null
    }
  ]
}