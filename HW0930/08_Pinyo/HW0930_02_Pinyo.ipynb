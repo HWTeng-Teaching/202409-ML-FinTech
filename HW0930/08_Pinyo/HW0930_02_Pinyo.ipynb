{
 "cells": [
  {
   "cell_type": "code",
   "execution_count": 1,
   "id": "efedbf66-42e9-4f03-9aba-1744770ba6cc",
   "metadata": {},
   "outputs": [
    {
     "data": {
      "text/html": [
       "<div>\n",
       "<style scoped>\n",
       "    .dataframe tbody tr th:only-of-type {\n",
       "        vertical-align: middle;\n",
       "    }\n",
       "\n",
       "    .dataframe tbody tr th {\n",
       "        vertical-align: top;\n",
       "    }\n",
       "\n",
       "    .dataframe thead th {\n",
       "        text-align: right;\n",
       "    }\n",
       "</style>\n",
       "<table border=\"1\" class=\"dataframe\">\n",
       "  <thead>\n",
       "    <tr style=\"text-align: right;\">\n",
       "      <th></th>\n",
       "      <th>Unnamed: 0</th>\n",
       "      <th>Murder</th>\n",
       "      <th>Assault</th>\n",
       "      <th>UrbanPop</th>\n",
       "      <th>Rape</th>\n",
       "    </tr>\n",
       "  </thead>\n",
       "  <tbody>\n",
       "    <tr>\n",
       "      <th>0</th>\n",
       "      <td>Alabama</td>\n",
       "      <td>13.2</td>\n",
       "      <td>236</td>\n",
       "      <td>58</td>\n",
       "      <td>21.2</td>\n",
       "    </tr>\n",
       "    <tr>\n",
       "      <th>1</th>\n",
       "      <td>Alaska</td>\n",
       "      <td>10.0</td>\n",
       "      <td>263</td>\n",
       "      <td>48</td>\n",
       "      <td>44.5</td>\n",
       "    </tr>\n",
       "    <tr>\n",
       "      <th>2</th>\n",
       "      <td>Arizona</td>\n",
       "      <td>8.1</td>\n",
       "      <td>294</td>\n",
       "      <td>80</td>\n",
       "      <td>31.0</td>\n",
       "    </tr>\n",
       "    <tr>\n",
       "      <th>3</th>\n",
       "      <td>Arkansas</td>\n",
       "      <td>8.8</td>\n",
       "      <td>190</td>\n",
       "      <td>50</td>\n",
       "      <td>19.5</td>\n",
       "    </tr>\n",
       "    <tr>\n",
       "      <th>4</th>\n",
       "      <td>California</td>\n",
       "      <td>9.0</td>\n",
       "      <td>276</td>\n",
       "      <td>91</td>\n",
       "      <td>40.6</td>\n",
       "    </tr>\n",
       "  </tbody>\n",
       "</table>\n",
       "</div>"
      ],
      "text/plain": [
       "   Unnamed: 0  Murder  Assault  UrbanPop  Rape\n",
       "0     Alabama    13.2      236        58  21.2\n",
       "1      Alaska    10.0      263        48  44.5\n",
       "2     Arizona     8.1      294        80  31.0\n",
       "3    Arkansas     8.8      190        50  19.5\n",
       "4  California     9.0      276        91  40.6"
      ]
     },
     "execution_count": 1,
     "metadata": {},
     "output_type": "execute_result"
    }
   ],
   "source": [
    "import pandas as pd\n",
    "\n",
    "# Load the CSV file\n",
    "df = pd.read_csv('D:/Master Degree at NYCU/1. Slides and Homeworks/Spring_2024/1. FinTech/JN/USArrests.csv')\n",
    "\n",
    "# Display the first few rows\n",
    "df.head()"
   ]
  },
  {
   "cell_type": "code",
   "execution_count": 5,
   "id": "ef1e76d0-baaf-4fc0-8430-e51e96ea18e6",
   "metadata": {},
   "outputs": [
    {
     "name": "stdout",
     "output_type": "stream",
     "text": [
      "Principal Component 1 loading vector:\n",
      "[0.53589947 0.58318363 0.27819087 0.54343209]\n",
      "\n",
      "Principal Component 2 loading vector:\n",
      "[ 0.41818087  0.1879856  -0.87280619 -0.16731864]\n",
      "\n",
      "Principal Component 3 loading vector:\n",
      "[-0.34123273 -0.26814843 -0.37801579  0.81777791]\n",
      "\n",
      "Principal Component 4 loading vector:\n",
      "[ 0.6492278  -0.74340748  0.13387773  0.08902432]\n",
      "\n"
     ]
    }
   ],
   "source": [
    "from sklearn.decomposition import PCA\n",
    "from sklearn.preprocessing import StandardScaler\n",
    "\n",
    "# Step 3: Drop the non-numerical column (state names)\n",
    "# Assuming the first column contains state names\n",
    "df_numeric = df.drop(columns=['Unnamed: 0'])  # Adjust this if your column has a specific name like 'State'\n",
    "\n",
    "# Step 4: Standardize the data (mean=0, variance=1)\n",
    "scaler = StandardScaler()\n",
    "df_scaled = scaler.fit_transform(df_numeric)\n",
    "\n",
    "# Step 5: Perform PCA to extract the principal components\n",
    "pca = PCA(n_components=4)  # we want the first 4 principal components\n",
    "pca.fit(df_scaled)\n",
    "\n",
    "# Step 6: Get the loading vectors (principal component coefficients)\n",
    "loading_vectors = pca.components_\n",
    "\n",
    "# Display the first to fourth principal component loading vectors\n",
    "for i in range(4):\n",
    "    print(f\"Principal Component {i+1} loading vector:\")\n",
    "    print(loading_vectors[i])\n",
    "    print()"
   ]
  },
  {
   "cell_type": "code",
   "execution_count": 11,
   "id": "1684f1fb-cfa3-4129-a763-84d36a4a6990",
   "metadata": {},
   "outputs": [
    {
     "name": "stdout",
     "output_type": "stream",
     "text": [
      "Principal Component 1 loading vector:\n",
      "[0.53589947 0.58318363 0.27819087 0.54343209]\n",
      "\n",
      "Principal Component 2 loading vector:\n",
      "[ 0.41818087  0.1879856  -0.87280619 -0.16731864]\n",
      "\n",
      "Principal Component 3 loading vector:\n",
      "[-0.34123273 -0.26814843 -0.37801579  0.81777791]\n",
      "\n",
      "Principal Component 4 loading vector:\n",
      "[ 0.6492278  -0.74340748  0.13387773  0.08902432]\n",
      "\n"
     ]
    }
   ],
   "source": [
    "import numpy as np  # Make sure numpy is imported\n",
    "\n",
    "# Step 5: Compute the covariance matrix\n",
    "cov_matrix = np.cov(df_scaled.T)\n",
    "\n",
    "# Step 6: Perform eigenvalue decomposition using np.linalg.eig()\n",
    "eigenvalues, eigenvectors = np.linalg.eig(cov_matrix)\n",
    "\n",
    "# Step 7: Sort the eigenvectors by eigenvalues in descending order\n",
    "# The eigenvalues are already paired with their eigenvectors\n",
    "sorted_indices = np.argsort(eigenvalues)[::-1]\n",
    "sorted_eigenvectors = eigenvectors[:, sorted_indices]\n",
    "\n",
    "# Step 8: Display the first to fourth principal component loading vectors\n",
    "for i in range(4):\n",
    "    print(f\"Principal Component {i+1} loading vector:\")\n",
    "    print(sorted_eigenvectors[:, i])\n",
    "    print()"
   ]
  },
  {
   "cell_type": "code",
   "execution_count": 13,
   "id": "5a423669-a396-44c2-8f51-411527c8e937",
   "metadata": {},
   "outputs": [
    {
     "name": "stdout",
     "output_type": "stream",
     "text": [
      "Principal Component 1 loading vector:\n",
      "[-0.53589947 -0.58318363 -0.27819087 -0.54343209]\n",
      "\n",
      "Principal Component 2 loading vector:\n",
      "[ 0.41818087  0.1879856  -0.87280619 -0.16731864]\n",
      "\n",
      "Principal Component 3 loading vector:\n",
      "[-0.34123273 -0.26814843 -0.37801579  0.81777791]\n",
      "\n",
      "Principal Component 4 loading vector:\n",
      "[ 0.6492278  -0.74340748  0.13387773  0.08902432]\n",
      "\n"
     ]
    }
   ],
   "source": [
    "# Step 5: Perform Singular Value Decomposition (SVD)\n",
    "U, S, VT = np.linalg.svd(df_scaled)\n",
    "\n",
    "# Step 6: Get the loading vectors (principal component coefficients)\n",
    "# The loading vectors are given by the right singular vectors\n",
    "loading_vectors = VT.T  # Transpose VT to get the correct shape\n",
    "\n",
    "# Step 7: Display the first to fourth principal component loading vectors\n",
    "for i in range(4):\n",
    "    print(f\"Principal Component {i+1} loading vector:\")\n",
    "    print(loading_vectors[:, i])\n",
    "    print()"
   ]
  },
  {
   "cell_type": "raw",
   "id": "29b28e27-0af3-4c5b-806c-843e02aa491d",
   "metadata": {},
   "source": [
    "Since the principal components are derived from the same standardized data and capture the same structure in that data, so the principal components loading results will show the same from the concept of same directions of maximum variance."
   ]
  }
 ],
 "metadata": {
  "kernelspec": {
   "display_name": "Python 3 (ipykernel)",
   "language": "python",
   "name": "python3"
  },
  "language_info": {
   "codemirror_mode": {
    "name": "ipython",
    "version": 3
   },
   "file_extension": ".py",
   "mimetype": "text/x-python",
   "name": "python",
   "nbconvert_exporter": "python",
   "pygments_lexer": "ipython3",
   "version": "3.12.4"
  }
 },
 "nbformat": 4,
 "nbformat_minor": 5
}
