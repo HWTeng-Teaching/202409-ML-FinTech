{
 "cells": [
  {
   "cell_type": "markdown",
   "metadata": {},
   "source": [
    "[PCA] Use the \"USArrests\" data"
   ]
  },
  {
   "cell_type": "markdown",
   "metadata": {},
   "source": [
    "(a) Show the first to fourth principle component loadings vectors using PCA() function"
   ]
  },
  {
   "cell_type": "code",
   "execution_count": 2,
   "metadata": {},
   "outputs": [
    {
     "name": "stdout",
     "output_type": "stream",
     "text": [
      "     Murder   Assault  UrbanPop      Rape\n",
      "0  0.535899  0.583184  0.278191  0.543432\n",
      "1 -0.418181 -0.187986  0.872806  0.167319\n",
      "2 -0.341233 -0.268148 -0.378016  0.817778\n",
      "3 -0.649228  0.743407 -0.133878 -0.089024\n"
     ]
    }
   ],
   "source": [
    "import pandas as pd\n",
    "from sklearn.decomposition import PCA\n",
    "from sklearn.preprocessing import StandardScaler\n",
    "\n",
    "# Load your USArrests CSV file, ignoring the first column (state names)\n",
    "df = pd.read_csv('USArrests.csv', index_col=0)\n",
    "\n",
    "# Standardize the data\n",
    "scaler = StandardScaler()\n",
    "scaled_data = scaler.fit_transform(df)\n",
    "\n",
    "# Apply PCA\n",
    "pca = PCA()\n",
    "pca.fit(scaled_data)\n",
    "\n",
    "# Get the first 4 principal components (loadings)\n",
    "loadings = pca.components_[:4]\n",
    "\n",
    "# Convert to DataFrame for easier viewing\n",
    "loadings_df = pd.DataFrame(loadings, columns=df.columns)\n",
    "\n",
    "# Display the loadings\n",
    "print(loadings_df)\n"
   ]
  },
  {
   "cell_type": "markdown",
   "metadata": {},
   "source": [
    "(b) Use np.linalg.eig() function to find the first to fourth principle component loadings vectors."
   ]
  },
  {
   "cell_type": "code",
   "execution_count": 3,
   "metadata": {},
   "outputs": [
    {
     "name": "stdout",
     "output_type": "stream",
     "text": [
      "               PC1       PC2       PC3       PC4\n",
      "Murder    0.535899  0.418181  0.649228 -0.341233\n",
      "Assault   0.583184  0.187986 -0.743407 -0.268148\n",
      "UrbanPop  0.278191 -0.872806  0.133878 -0.378016\n",
      "Rape      0.543432 -0.167319  0.089024  0.817778\n"
     ]
    }
   ],
   "source": [
    "import pandas as pd\n",
    "import numpy as np\n",
    "from sklearn.preprocessing import StandardScaler\n",
    "\n",
    "# Load your USArrests CSV file, ignoring the first column (state names)\n",
    "df = pd.read_csv('USArrests.csv', index_col=0)\n",
    "\n",
    "# Standardize the data\n",
    "scaler = StandardScaler()\n",
    "scaled_data = scaler.fit_transform(df)\n",
    "\n",
    "# Compute the covariance matrix\n",
    "cov_matrix = np.cov(scaled_data.T)\n",
    "\n",
    "# Perform eigenvalue decomposition\n",
    "eigenvalues, eigenvectors = np.linalg.eig(cov_matrix)\n",
    "\n",
    "# Get the first 4 principal components (eigenvectors)\n",
    "loadings = eigenvectors[:, :4]\n",
    "\n",
    "# Convert to DataFrame for easier viewing\n",
    "loadings_df = pd.DataFrame(loadings, columns=[f'PC{i+1}' for i in range(4)], index=df.columns)\n",
    "\n",
    "# Display the loadings\n",
    "print(loadings_df)\n"
   ]
  },
  {
   "cell_type": "markdown",
   "metadata": {},
   "source": [
    "(c) Use np.linalg.svd() function to find the first to fourth principle component loadings vectors."
   ]
  },
  {
   "cell_type": "code",
   "execution_count": 4,
   "metadata": {},
   "outputs": [
    {
     "name": "stdout",
     "output_type": "stream",
     "text": [
      "       Murder   Assault  UrbanPop      Rape\n",
      "PC1 -0.535899 -0.583184 -0.278191 -0.543432\n",
      "PC2 -0.418181 -0.187986  0.872806  0.167319\n",
      "PC3  0.341233  0.268148  0.378016 -0.817778\n",
      "PC4  0.649228 -0.743407  0.133878  0.089024\n"
     ]
    }
   ],
   "source": [
    "import pandas as pd\n",
    "import numpy as np\n",
    "from sklearn.preprocessing import StandardScaler\n",
    "\n",
    "# Load your USArrests CSV file, ignoring the first column (state names)\n",
    "df = pd.read_csv('USArrests.csv', index_col=0)\n",
    "\n",
    "# Standardize the data\n",
    "scaler = StandardScaler()\n",
    "scaled_data = scaler.fit_transform(df)\n",
    "\n",
    "# Perform SVD on the standardized data\n",
    "U, S, Vt = np.linalg.svd(scaled_data)\n",
    "\n",
    "# Vt (transpose of V) contains the principal component loadings\n",
    "# Take the first 4 components\n",
    "loadings = Vt[:4, :]\n",
    "\n",
    "# Convert to DataFrame for easier viewing\n",
    "loadings_df = pd.DataFrame(loadings, columns=df.columns, index=[f'PC{i+1}' for i in range(4)])\n",
    "\n",
    "# Display the loadings\n",
    "print(loadings_df)\n"
   ]
  },
  {
   "cell_type": "markdown",
   "metadata": {},
   "source": [
    "(d) Are those from (a),(b), and (c) exactly the same? Why or why not?"
   ]
  },
  {
   "cell_type": "markdown",
   "metadata": {},
   "source": [
    "No, the results from (a), (b), and (c) will not be exactly the same, though they represent the same fundamental components.\n",
    "\n",
    "The differences between (a), (b), and (c) are caused by:\n",
    "\n",
    "- Sign Flipping: Eigenvectors (loadings) can have opposite signs, but they still represent the same direction.\n",
    "- Numerical Precision: Different algorithms handle calculations slightly differently, leading to small variations.\n",
    "- Normalization: Some methods may handle scaling or normalization differently, affecting the loadings' magnitude.\n",
    "These methods fundamentally compute the same principal components, but the representation might vary."
   ]
  }
 ],
 "metadata": {
  "kernelspec": {
   "display_name": "base",
   "language": "python",
   "name": "python3"
  },
  "language_info": {
   "codemirror_mode": {
    "name": "ipython",
    "version": 3
   },
   "file_extension": ".py",
   "mimetype": "text/x-python",
   "name": "python",
   "nbconvert_exporter": "python",
   "pygments_lexer": "ipython3",
   "version": "3.11.4"
  }
 },
 "nbformat": 4,
 "nbformat_minor": 2
}
