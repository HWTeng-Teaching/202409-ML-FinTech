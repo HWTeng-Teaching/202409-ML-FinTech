{
 "cells": [
  {
   "cell_type": "markdown",
   "id": "c7752980",
   "metadata": {},
   "source": [
    "# HW0930Q2"
   ]
  },
  {
   "cell_type": "markdown",
   "id": "0b378668",
   "metadata": {},
   "source": [
    "### [PCA] Use the 'USArrests' data:"
   ]
  },
  {
   "cell_type": "markdown",
   "id": "19444a66",
   "metadata": {},
   "source": [
    "##### (a) Show the first to fourth principal component loadings vectors using PCA() function."
   ]
  },
  {
   "cell_type": "code",
   "execution_count": 1,
   "id": "a41e9cfe",
   "metadata": {},
   "outputs": [
    {
     "name": "stdout",
     "output_type": "stream",
     "text": [
      "[[ 0.53589947  0.58318363  0.27819087  0.54343209]\n",
      " [-0.41818087 -0.1879856   0.87280619  0.16731864]\n",
      " [-0.34123273 -0.26814843 -0.37801579  0.81777791]\n",
      " [-0.6492278   0.74340748 -0.13387773 -0.08902432]]\n"
     ]
    }
   ],
   "source": [
    "import pandas as pd\n",
    "from sklearn.decomposition import PCA\n",
    "from sklearn.preprocessing import StandardScaler\n",
    "import statsmodels.api as sm\n",
    "\n",
    "df = sm.datasets.get_rdataset('USArrests', 'datasets').data\n",
    "\n",
    "scaler = StandardScaler()\n",
    "df_scaled = scaler.fit_transform(df)\n",
    "\n",
    "pca = PCA(n_components=4)\n",
    "pca.fit(df_scaled)\n",
    "\n",
    "loadings = pca.components_\n",
    "print(loadings)"
   ]
  },
  {
   "cell_type": "markdown",
   "id": "3114c7c5",
   "metadata": {},
   "source": [
    "##### (b) Use np.linalg.eig() to find the first to fourth principal component loadings vectors."
   ]
  },
  {
   "cell_type": "code",
   "execution_count": 2,
   "id": "7bc82708",
   "metadata": {},
   "outputs": [
    {
     "name": "stdout",
     "output_type": "stream",
     "text": [
      "[[ 0.53589947  0.41818087  0.6492278  -0.34123273]\n",
      " [ 0.58318363  0.1879856  -0.74340748 -0.26814843]\n",
      " [ 0.27819087 -0.87280619  0.13387773 -0.37801579]\n",
      " [ 0.54343209 -0.16731864  0.08902432  0.81777791]]\n"
     ]
    }
   ],
   "source": [
    "import numpy as np\n",
    "\n",
    "cov_matrix = np.cov(df_scaled.T)\n",
    "\n",
    "eig_values, eig_vectors = np.linalg.eig(cov_matrix)\n",
    "\n",
    "print(eig_vectors[:,:])"
   ]
  },
  {
   "cell_type": "markdown",
   "id": "9f72b4cd",
   "metadata": {},
   "source": [
    "##### (c) Use np.linalg.svd() to find the first to fourth principal component loadings vectors."
   ]
  },
  {
   "cell_type": "code",
   "execution_count": 3,
   "id": "6296d1aa",
   "metadata": {},
   "outputs": [
    {
     "name": "stdout",
     "output_type": "stream",
     "text": [
      "[[-0.53589947 -0.58318363 -0.27819087 -0.54343209]\n",
      " [-0.41818087 -0.1879856   0.87280619  0.16731864]\n",
      " [ 0.34123273  0.26814843  0.37801579 -0.81777791]\n",
      " [ 0.6492278  -0.74340748  0.13387773  0.08902432]]\n"
     ]
    }
   ],
   "source": [
    "U, S, Vt = np.linalg.svd(df_scaled)\n",
    "\n",
    "print(Vt[:])"
   ]
  },
  {
   "cell_type": "markdown",
   "id": "d2560326",
   "metadata": {},
   "source": [
    "##### (d) Are those from (a), (b), and (c) exactly the same? Why or why not?"
   ]
  },
  {
   "cell_type": "markdown",
   "id": "fe2895d9",
   "metadata": {},
   "source": [
    "Yes, although the loading vectors may differ in arrangement and sign, they can still be regarded as equivalent variables."
   ]
  },
  {
   "cell_type": "code",
   "execution_count": null,
   "id": "e00c7a23",
   "metadata": {},
   "outputs": [],
   "source": []
  }
 ],
 "metadata": {
  "kernelspec": {
   "display_name": "Python 3 (ipykernel)",
   "language": "python",
   "name": "python3"
  },
  "language_info": {
   "codemirror_mode": {
    "name": "ipython",
    "version": 3
   },
   "file_extension": ".py",
   "mimetype": "text/x-python",
   "name": "python",
   "nbconvert_exporter": "python",
   "pygments_lexer": "ipython3",
   "version": "3.9.13"
  }
 },
 "nbformat": 4,
 "nbformat_minor": 5
}
