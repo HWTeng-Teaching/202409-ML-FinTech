{
 "cells": [
  {
   "cell_type": "markdown",
   "id": "e40b3637-f10f-49ad-960d-c93226059bfa",
   "metadata": {},
   "source": [
    "# HW1104Q3 CH05Q09"
   ]
  },
  {
   "cell_type": "markdown",
   "id": "b8cbee90-722c-4c51-a507-55be0d70668c",
   "metadata": {},
   "source": [
    "### 9. We will now consider the Boston housing data set, from the ISLP library."
   ]
  },
  {
   "cell_type": "markdown",
   "id": "e7f56e6d-2063-45dc-ac81-d5af4ccf8b02",
   "metadata": {},
   "source": [
    "##### (a) Based on this data set, provide an estimate for the population mean of medv. Call this estimate µˆ."
   ]
  },
  {
   "cell_type": "code",
   "execution_count": 1,
   "id": "92a18107-a76a-479d-8cd4-4081e9173f3a",
   "metadata": {},
   "outputs": [
    {
     "name": "stdout",
     "output_type": "stream",
     "text": [
      "Estimated mean (mu_hat): 22.532806324110677\n"
     ]
    }
   ],
   "source": [
    "from ISLP import load_data\n",
    "\n",
    "Boston = load_data('Boston')\n",
    "mu_hat = Boston['medv'].mean()\n",
    "print(\"Estimated mean (mu_hat):\", mu_hat)"
   ]
  },
  {
   "cell_type": "markdown",
   "id": "aa05c607-6b95-4174-82fb-22de82783f9f",
   "metadata": {},
   "source": [
    "##### (b) Provide an estimate of the standard error of µˆ. Interpret this result.  \n",
    "Hint: We can compute the standard error of the sample mean by dividing the sample standard deviation  \n",
    "by the square root of the number of observations.ns."
   ]
  },
  {
   "cell_type": "code",
   "execution_count": 2,
   "id": "9e870129-74c7-4ec6-bcb1-67bf878c3034",
   "metadata": {},
   "outputs": [
    {
     "name": "stdout",
     "output_type": "stream",
     "text": [
      "Standard error of mu_hat: 0.4088611474975351\n"
     ]
    }
   ],
   "source": [
    "import numpy as np\n",
    "\n",
    "std_error = Boston['medv'].std() / np.sqrt(len(Boston['medv']))\n",
    "print(\"Standard error of mu_hat:\", std_error)"
   ]
  },
  {
   "cell_type": "markdown",
   "id": "775a0a67-8f4e-480f-a6b3-b92b54e3505c",
   "metadata": {},
   "source": [
    "##### (c) Now estimate the standard error of µˆ using the bootstrap. How does this compare to your answer from (b)?"
   ]
  },
  {
   "cell_type": "code",
   "execution_count": 3,
   "id": "ee2d4288-cba6-4586-8d8a-9fcb964f732c",
   "metadata": {},
   "outputs": [
    {
     "name": "stdout",
     "output_type": "stream",
     "text": [
      "Bootstrap estimate of standard error: 0.4153379484767965\n",
      "Bootstrap estimate of standard error is a little bigger than normal calculate.\n"
     ]
    }
   ],
   "source": [
    "def bootstrap_se(data, num_bootstrap=1000):\n",
    "    bootstrap_means = []\n",
    "    n = len(data)\n",
    "    rng = np.random.default_rng(1)\n",
    "    \n",
    "    for _ in range(num_bootstrap):\n",
    "        sample = rng.choice(data, size=n, replace=True)\n",
    "        bootstrap_means.append(sample.mean())\n",
    "    \n",
    "    return np.std(bootstrap_means)\n",
    "\n",
    "bootstrap_se_mu = bootstrap_se(Boston['medv'])\n",
    "print(\"Bootstrap estimate of standard error:\", bootstrap_se_mu)\n",
    "print(\"Bootstrap estimate of standard error is a little bigger than normal calculate.\")"
   ]
  },
  {
   "cell_type": "markdown",
   "id": "25410272-8280-443d-80c1-0a5e3cdf815d",
   "metadata": {},
   "source": [
    "##### (d) Based on your bootstrap estimate from (c), provide a 95 % confidence interval for the mean of medv. Compare it to the results obtained by using Boston['medv'].std() and the two standard error rule (3.9).  \n",
    "Hint: You can approximate a 95 % confdence interval using the formula [ˆµ − 2SE(ˆµ), µˆ + 2SE(ˆµ)]."
   ]
  },
  {
   "cell_type": "code",
   "execution_count": 4,
   "id": "2aba8ff6-519e-4717-9e59-7200a44e42ce",
   "metadata": {},
   "outputs": [
    {
     "name": "stdout",
     "output_type": "stream",
     "text": [
      "95% confidence interval for the mean: [21.702130427157083, 23.36348222106427]\n"
     ]
    }
   ],
   "source": [
    "conf_interval = [mu_hat - 2 * bootstrap_se_mu, mu_hat + 2 * bootstrap_se_mu]\n",
    "print(\"95% confidence interval for the mean:\", conf_interval)"
   ]
  },
  {
   "cell_type": "markdown",
   "id": "86a858d2-204b-4b69-a4e6-0325f4cbf270",
   "metadata": {},
   "source": [
    "##### (e) Based on this data set, provide an estimate, µˆmed, for the median value of medv in the population."
   ]
  },
  {
   "cell_type": "code",
   "execution_count": 5,
   "id": "6dac3238-5fb6-4a1e-b1de-a623aa52bb4d",
   "metadata": {},
   "outputs": [
    {
     "name": "stdout",
     "output_type": "stream",
     "text": [
      "Estimated median (mu_med): 21.2\n"
     ]
    }
   ],
   "source": [
    "mu_med = Boston['medv'].median()\n",
    "print(\"Estimated median (mu_med):\", mu_med)"
   ]
  },
  {
   "cell_type": "markdown",
   "id": "32ad5343-35c3-4591-abfa-dbf68a5b9941",
   "metadata": {},
   "source": [
    "##### (f) We now would like to estimate the standard error of µˆmed. Unfortunately, there is no simple formula for computing the standard error of the median. Instead, estimate the standard error of the median using the bootstrap. Comment on your findings."
   ]
  },
  {
   "cell_type": "code",
   "execution_count": 6,
   "id": "c30fb247-3a71-43f3-97d9-3613cc88ad92",
   "metadata": {},
   "outputs": [
    {
     "name": "stdout",
     "output_type": "stream",
     "text": [
      "Bootstrap estimate of standard error for median: 0.38542053655714786\n"
     ]
    }
   ],
   "source": [
    "def bootstrap_se_median(data, num_bootstrap=1000):\n",
    "    bootstrap_medians = []\n",
    "    n = len(data)\n",
    "    rng = np.random.default_rng(1)\n",
    "    \n",
    "    for _ in range(num_bootstrap):\n",
    "        sample = rng.choice(data, size=n, replace=True)\n",
    "        bootstrap_medians.append(np.median(sample))\n",
    "    \n",
    "    return np.std(bootstrap_medians)\n",
    "\n",
    "bootstrap_se_med = bootstrap_se_median(Boston['medv'])\n",
    "print(\"Bootstrap estimate of standard error for median:\", bootstrap_se_med)"
   ]
  },
  {
   "cell_type": "markdown",
   "id": "b9f3b5fb-5e21-4d35-a2fe-02616a1937ab",
   "metadata": {},
   "source": [
    "##### (g) Based on this data set, provide an estimate for the tenth percentile of medv in Boston census tracts. Call this quantity µˆ0.1. (You can use the np.percentile() function.)"
   ]
  },
  {
   "cell_type": "code",
   "execution_count": 7,
   "id": "e52d70a4-b13f-4116-9900-cf360425e119",
   "metadata": {},
   "outputs": [
    {
     "name": "stdout",
     "output_type": "stream",
     "text": [
      "10th percentile of medv: 12.75\n"
     ]
    }
   ],
   "source": [
    "mu_0_1 = np.percentile(Boston['medv'], 10)\n",
    "print(\"10th percentile of medv:\", mu_0_1)"
   ]
  },
  {
   "cell_type": "markdown",
   "id": "89b5bbf7-3977-4efc-bb6e-f1e85ab2d0a2",
   "metadata": {},
   "source": [
    "##### (h) Use the bootstrap to estimate the standard error of µˆ0.1. Comment your finding? "
   ]
  },
  {
   "cell_type": "code",
   "execution_count": 8,
   "id": "8ac144ed-e174-4bd3-a9ec-ff7119294160",
   "metadata": {},
   "outputs": [
    {
     "name": "stdout",
     "output_type": "stream",
     "text": [
      "Bootstrap estimate of standard error for 10th percentile: 0.5226133465574717\n"
     ]
    }
   ],
   "source": [
    "def bootstrap_se_percentile(data, percentile=10, num_bootstrap=1000):\n",
    "    bootstrap_percentiles = []\n",
    "    n = len(data)\n",
    "    rng = np.random.default_rng(1)\n",
    "    \n",
    "    for _ in range(num_bootstrap):\n",
    "        sample = rng.choice(data, size=n, replace=True)\n",
    "        bootstrap_percentiles.append(np.percentile(sample, percentile))\n",
    "    \n",
    "    return np.std(bootstrap_percentiles)\n",
    "\n",
    "bootstrap_se_0_1 = bootstrap_se_percentile(Boston['medv'], 10)\n",
    "print(\"Bootstrap estimate of standard error for 10th percentile:\", bootstrap_se_0_1)"
   ]
  },
  {
   "cell_type": "code",
   "execution_count": null,
   "id": "025c5607-ec45-4bc4-a8ee-d4e86850ebe0",
   "metadata": {},
   "outputs": [],
   "source": []
  }
 ],
 "metadata": {
  "kernelspec": {
   "display_name": "Python 3 (ipykernel)",
   "language": "python",
   "name": "python3"
  },
  "language_info": {
   "codemirror_mode": {
    "name": "ipython",
    "version": 3
   },
   "file_extension": ".py",
   "mimetype": "text/x-python",
   "name": "python",
   "nbconvert_exporter": "python",
   "pygments_lexer": "ipython3",
   "version": "3.12.4"
  }
 },
 "nbformat": 4,
 "nbformat_minor": 5
}
