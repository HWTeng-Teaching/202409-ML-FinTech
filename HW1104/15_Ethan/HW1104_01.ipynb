{
 "cells": [
  {
   "cell_type": "markdown",
   "id": "e40b3637-f10f-49ad-960d-c93226059bfa",
   "metadata": {},
   "source": [
    "# HW1104Q1 CH05Q01"
   ]
  },
  {
   "cell_type": "markdown",
   "id": "b8cbee90-722c-4c51-a507-55be0d70668c",
   "metadata": {},
   "source": [
    "### 1. Using basic statistical properties of the variance, as well as single\u0002variable calculus, derive (5.6). In other words, prove that α given by (5.6) does indeed minimize Var(αX + (1 − α)Y )."
   ]
  },
  {
   "cell_type": "markdown",
   "id": "64799357-b6d4-46cc-a929-d1e9c40e1f46",
   "metadata": {},
   "source": [
    "$ Var(\\alpha X + (1 - \\alpha) Y) = \\alpha^2 Var(X) + (1 - \\alpha)^2 Var(Y) + 2 \\alpha (1 - \\alpha) Cov(X, Y) $"
   ]
  },
  {
   "cell_type": "markdown",
   "id": "3be32347-5d0f-4dad-9f81-afe59ade632e",
   "metadata": {},
   "source": [
    "$ Var(\\alpha X + (1 - \\alpha) Y) = \\alpha^2 \\sigma_X^2 + (1 - \\alpha)^2 \\sigma_Y^2 + 2 \\alpha (1 - \\alpha) \\sigma_{XY} $"
   ]
  },
  {
   "cell_type": "markdown",
   "id": "12fe59f1-dae5-4864-8f4a-940076ecdf2a",
   "metadata": {},
   "source": [
    "$ Var(\\alpha X + (1 - \\alpha) Y) = \\alpha^2 \\sigma_X^2 + (1 - 2\\alpha + \\alpha^2) \\sigma_Y^2 + 2 \\alpha (1 - \\alpha) \\sigma_{XY} $"
   ]
  },
  {
   "cell_type": "markdown",
   "id": "5483e31b-3b3a-4077-bce7-6fe105bae584",
   "metadata": {},
   "source": [
    "$ Var(\\alpha X + (1 - \\alpha) Y) = \\alpha^2 \\sigma_X^2 + \\sigma_Y^2 - 2 \\alpha \\sigma_Y^2 + \\alpha^2 \\sigma_Y^2 + 2 \\alpha \\sigma_{XY} - 2 \\alpha^2 \\sigma_{XY} $"
   ]
  },
  {
   "cell_type": "markdown",
   "id": "a900b9bc-4714-4ea7-9676-97fbc2dc977c",
   "metadata": {},
   "source": [
    "$ Var(\\alpha X + (1 - \\alpha) Y) = \\sigma_Y^2 + \\alpha^2 (\\sigma_X^2 + \\sigma_Y^2 - 2 \\sigma_{XY}) + 2 \\alpha (\\sigma_{XY} - \\sigma_Y^2) $"
   ]
  },
  {
   "cell_type": "markdown",
   "id": "78217d7d-8701-4034-a31c-a650fe5eb0c9",
   "metadata": {},
   "source": [
    "$ \\frac{d}{d\\alpha} Var(\\alpha X + (1 - \\alpha) Y) = 2 \\alpha (\\sigma_X^2 + \\sigma_Y^2 - 2 \\sigma_{XY}) + 2 (\\sigma_{XY} - \\sigma_Y^2) = 0 $"
   ]
  },
  {
   "cell_type": "markdown",
   "id": "82c72ad9-49cc-434a-af87-285d04987f7f",
   "metadata": {},
   "source": [
    "$ \\alpha = \\frac{\\sigma_Y^2 - \\sigma_{XY}}{\\sigma_X^2 + \\sigma_Y^2 - 2 \\sigma_{XY}} $"
   ]
  },
  {
   "cell_type": "code",
   "execution_count": null,
   "id": "44796697-7c52-42e8-bb86-01892be98cf7",
   "metadata": {},
   "outputs": [],
   "source": []
  }
 ],
 "metadata": {
  "kernelspec": {
   "display_name": "Python 3 (ipykernel)",
   "language": "python",
   "name": "python3"
  },
  "language_info": {
   "codemirror_mode": {
    "name": "ipython",
    "version": 3
   },
   "file_extension": ".py",
   "mimetype": "text/x-python",
   "name": "python",
   "nbconvert_exporter": "python",
   "pygments_lexer": "ipython3",
   "version": "3.12.4"
  }
 },
 "nbformat": 4,
 "nbformat_minor": 5
}
