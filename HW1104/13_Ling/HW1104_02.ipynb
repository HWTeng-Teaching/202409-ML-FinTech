{
  "nbformat": 4,
  "nbformat_minor": 0,
  "metadata": {
    "colab": {
      "provenance": []
    },
    "kernelspec": {
      "name": "python3",
      "display_name": "Python 3"
    },
    "language_info": {
      "name": "python"
    }
  },
  "cells": [
    {
      "cell_type": "markdown",
      "source": [
        "# Ch05_Q08\n",
        "## We will now perform cross-validation on a simulated data set."
      ],
      "metadata": {
        "id": "WpQLLETIeIIr"
      }
    },
    {
      "cell_type": "markdown",
      "source": [
        "## (a)  Generate a simulated data set as follows:\n",
        "rng = np.random.default_rng(1)  \n",
        "x = rng.normal(size=100)  \n",
        "y = x - 2 * x**2 + rng.normal(size=100)\n",
        "## In this data set, what is n and what is p? Write out the model used to generate the data in equation form."
      ],
      "metadata": {
        "id": "cshUoL42eN-z"
      }
    },
    {
      "cell_type": "code",
      "execution_count": 1,
      "metadata": {
        "id": "NeeauPildzji"
      },
      "outputs": [],
      "source": [
        "import numpy as np\n",
        "\n",
        "# Set random seed for reproducibility\n",
        "rng = np.random.default_rng(1)\n",
        "\n",
        "# Generate x and y based on the given instructions\n",
        "x = rng.normal(size=100)\n",
        "y = x - 2 * x**2 + rng.normal(size=100)"
      ]
    },
    {
      "cell_type": "markdown",
      "source": [
        "n=100 (represents the number of observations in the dataset)  \n",
        "p=1 (represents the number of predictors, x is the only predictor)"
      ],
      "metadata": {
        "id": "xXGTSqYLfgA4"
      }
    },
    {
      "cell_type": "markdown",
      "source": [
        "## (b) Create a scatterplot of X against Y . Comment on what you find."
      ],
      "metadata": {
        "id": "Bd1CVJWggb4b"
      }
    },
    {
      "cell_type": "code",
      "source": [
        "import matplotlib.pyplot as plt\n",
        "\n",
        "# Create scatter plot\n",
        "plt.scatter(x, y, color = 'blue')\n",
        "plt.xlabel(\"X\")\n",
        "plt.ylabel(\"Y\")\n",
        "plt.title(\"Scatterplot of X against Y\")\n",
        "plt.grid(True)\n",
        "plt.show()"
      ],
      "metadata": {
        "colab": {
          "base_uri": "https://localhost:8080/",
          "height": 472
        },
        "id": "LhKhoBO7gkYV",
        "outputId": "97fa16a4-f0e8-4ef5-fa8c-87c9f9596448"
      },
      "execution_count": 4,
      "outputs": [
        {
          "output_type": "display_data",
          "data": {
            "text/plain": [
              "<Figure size 640x480 with 1 Axes>"
            ],
            "image/png": "[encoded data removed]"
          },
          "metadata": {}
        }
      ]
    },
    {
      "cell_type": "markdown",
      "source": [
        "## (c)  Set a random seed, and then compute the LOOCV errors thatresult from ftting the following four models using least squares:\n",
        "i. Y = β0 + β1X + e  \n",
        "ii. Y = β0 + β1X + β2X2 + e  \n",
        "iii. Y = β0 + β1X + β2X2 + β3X3 + e  \n",
        "iv. Y = β0 + β1X + β2X2 + β3X3 + β4X4 + e  \n",
        "##Note you may find it helpful to use the data.frame() function to create a single data set containing both X and Y ."
      ],
      "metadata": {
        "id": "esc6BQsvhEQB"
      }
    },
    {
      "cell_type": "code",
      "source": [
        "import pandas as pd\n",
        "from sklearn.linear_model import LinearRegression\n",
        "from sklearn.model_selection import LeaveOneOut\n",
        "from sklearn.metrics import mean_squared_error\n",
        "\n",
        "# Create a DataFrame for the data\n",
        "data = pd.DataFrame({'X': x, 'Y': y})\n",
        "\n",
        "# Define function to compute LOOCV error for a given polynomial degree\n",
        "def compute_loocv_error(data, degree):\n",
        "    X = np.vander(data['X'], degree + 1, increasing=True)  # Generate polynomial features\n",
        "    y = data['Y'].values\n",
        "    loo = LeaveOneOut()\n",
        "    errors = []\n",
        "\n",
        "    for train_index, test_index in loo.split(X):\n",
        "        X_train, X_test = X[train_index], X[test_index]\n",
        "        y_train, y_test = y[train_index], y[test_index]\n",
        "\n",
        "        model = LinearRegression()\n",
        "        model.fit(X_train, y_train)\n",
        "        y_pred = model.predict(X_test)\n",
        "        errors.append((y_test - y_pred) ** 2)  # Squared error for the test point\n",
        "\n",
        "    loocv_error = np.mean(errors)  # Mean squared error across all LOOCV splits\n",
        "    return loocv_error\n",
        "\n",
        "# Compute LOOCV errors for each model\n",
        "loocv_errors = {}\n",
        "for degree in range(1, 5):  # Models with polynomial degrees from 1 to 4\n",
        "    loocv_errors[f\"Model with degree {degree}\"] = compute_loocv_error(data, degree)\n",
        "\n",
        "# Display the LOOCV errors\n",
        "for model, error in loocv_errors.items():\n",
        "    print(f\"{model}: LOOCV Error = {error}\")\n"
      ],
      "metadata": {
        "colab": {
          "base_uri": "https://localhost:8080/"
        },
        "id": "92H9xFU6ibXm",
        "outputId": "35531005-3ab0-4645-ed60-fdcb27387c44"
      },
      "execution_count": 8,
      "outputs": [
        {
          "output_type": "stream",
          "name": "stdout",
          "text": [
            "Model with degree 1: LOOCV Error = 6.633029839181984\n",
            "Model with degree 2: LOOCV Error = 1.122936856341969\n",
            "Model with degree 3: LOOCV Error = 1.3017965489358863\n",
            "Model with degree 4: LOOCV Error = 1.3323942694179336\n"
          ]
        }
      ]
    },
    {
      "cell_type": "markdown",
      "source": [
        "## (d) Repeat (c) using another random seed, and report your results. Are your results the same as what you got in (c)? Why?"
      ],
      "metadata": {
        "id": "c5-g38R6jG1f"
      }
    },
    {
      "cell_type": "code",
      "source": [
        "rng = np.random.default_rng(42)  # Use a different seed here\n",
        "x = rng.normal(size=100)\n",
        "y = x - 2 * x**2 + rng.normal(size=100)\n",
        "\n",
        "# Create a new DataFrame with the new data\n",
        "data_new = pd.DataFrame({'X': x, 'Y': y})\n",
        "\n",
        "# Compute LOOCV errors for each model using the new data\n",
        "loocv_errors_new = {}\n",
        "for degree in range(1, 5):  # Models with polynomial degrees from 1 to 4\n",
        "    loocv_errors_new[f\"Model with degree {degree}\"] = compute_loocv_error(data_new, degree)\n",
        "\n",
        "# Display the new LOOCV errors\n",
        "for model, error in loocv_errors_new.items():\n",
        "    print(f\"{model}: LOOCV Error = {error}\")\n"
      ],
      "metadata": {
        "colab": {
          "base_uri": "https://localhost:8080/"
        },
        "id": "DuDx92mqjQ2J",
        "outputId": "c794993d-18de-4adc-f845-4735da25a0dc"
      },
      "execution_count": 11,
      "outputs": [
        {
          "output_type": "stream",
          "name": "stdout",
          "text": [
            "Model with degree 1: LOOCV Error = 4.2518828656027745\n",
            "Model with degree 2: LOOCV Error = 0.9639984632709344\n",
            "Model with degree 3: LOOCV Error = 0.9912711879229305\n",
            "Model with degree 4: LOOCV Error = 1.018180104380912\n"
          ]
        }
      ]
    },
    {
      "cell_type": "markdown",
      "source": [
        "no, because it used a different random seed. This seed changes the specific values in X and the random noise ϵ in Y, resulting in a different data set."
      ],
      "metadata": {
        "id": "LwLyXe86oEQL"
      }
    },
    {
      "cell_type": "markdown",
      "source": [
        "## (e) Which of the models in (c) had the smallest LOOCV error? Is this what you expected? Explain your answer."
      ],
      "metadata": {
        "id": "NQ0HV91Ep4NI"
      }
    },
    {
      "cell_type": "markdown",
      "source": [
        "Model with degree 2 has the smallest LOOCV error. Since the data was generated by a quadratic equation, it is expected that the degree 2 model would provide the best fit with the lowest LOOCV error."
      ],
      "metadata": {
        "id": "vUISgWW_quF7"
      }
    },
    {
      "cell_type": "markdown",
      "source": [
        "## (f) Comment on the statistical significance of the coefcient estimates that results from ftting each of the models in (c) using least squares. Do these results agree with the conclusions drawn based on the cross-validation results?"
      ],
      "metadata": {
        "id": "1MltgdJ4rUSI"
      }
    },
    {
      "cell_type": "code",
      "source": [
        "import statsmodels.api as sm\n",
        "\n",
        "# Fit each model and print the summary\n",
        "data['X2'] = data['X'] ** 2\n",
        "data['X3'] = data['X'] ** 3\n",
        "data['X4'] = data['X'] ** 4\n",
        "\n",
        "# Model 1: Y = β0 + β1X + e\n",
        "model_1 = sm.OLS(data['Y'], sm.add_constant(data[['X']])).fit()\n",
        "print(\"Model 1 Summary:\\n\", model_1.summary())\n",
        "\n",
        "# Model 2: Y = β0 + β1X + β2X^2 + e\n",
        "model_2 = sm.OLS(data['Y'], sm.add_constant(data[['X', 'X2']])).fit()\n",
        "print(\"\\nModel 2 Summary:\\n\", model_2.summary())\n",
        "\n",
        "# Model 3: Y = β0 + β1X + β2X^2 + β3X^3 + e\n",
        "model_3 = sm.OLS(data['Y'], sm.add_constant(data[['X', 'X2', 'X3']])).fit()\n",
        "print(\"\\nModel 3 Summary:\\n\", model_3.summary())\n",
        "\n",
        "# Model 4: Y = β0 + β1X + β2X^2 + β3X^3 + β4X^4 + e\n",
        "model_4 = sm.OLS(data['Y'], sm.add_constant(data[['X', 'X2', 'X3', 'X4']])).fit()\n",
        "print(\"\\nModel 4 Summary:\\n\", model_4.summary())\n"
      ],
      "metadata": {
        "colab": {
          "base_uri": "https://localhost:8080/"
        },
        "id": "dLwh50cLrfz6",
        "outputId": "47649069-896a-45ad-d443-20f335858c78"
      },
      "execution_count": 12,
      "outputs": [
        {
          "output_type": "stream",
          "name": "stdout",
          "text": [
            "Model 1 Summary:\n",
            "                             OLS Regression Results                            \n",
            "==============================================================================\n",
            "Dep. Variable:                      Y   R-squared:                       0.318\n",
            "Model:                            OLS   Adj. R-squared:                  0.311\n",
            "Method:                 Least Squares   F-statistic:                     45.60\n",
            "Date:                Fri, 08 Nov 2024   Prob (F-statistic):           1.04e-09\n",
            "Time:                        07:30:29   Log-Likelihood:                -230.83\n",
            "No. Observations:                 100   AIC:                             465.7\n",
            "Df Residuals:                      98   BIC:                             470.9\n",
            "Df Model:                           1                                         \n",
            "Covariance Type:            nonrobust                                         \n",
            "==============================================================================\n",
            "                 coef    std err          t      P>|t|      [0.025      0.975]\n",
            "------------------------------------------------------------------------------\n",
            "const         -1.4650      0.247     -5.937      0.000      -1.955      -0.975\n",
            "X              1.9494      0.289      6.752      0.000       1.376       2.522\n",
            "==============================================================================\n",
            "Omnibus:                       52.788   Durbin-Watson:                   1.972\n",
            "Prob(Omnibus):                  0.000   Jarque-Bera (JB):              149.089\n",
            "Skew:                          -1.953   Prob(JB):                     4.22e-33\n",
            "Kurtosis:                       7.530   Cond. No.                         1.20\n",
            "==============================================================================\n",
            "\n",
            "Notes:\n",
            "[1] Standard Errors assume that the covariance matrix of the errors is correctly specified.\n",
            "\n",
            "Model 2 Summary:\n",
            "                             OLS Regression Results                            \n",
            "==============================================================================\n",
            "Dep. Variable:                      Y   R-squared:                       0.887\n",
            "Model:                            OLS   Adj. R-squared:                  0.884\n",
            "Method:                 Least Squares   F-statistic:                     379.5\n",
            "Date:                Fri, 08 Nov 2024   Prob (F-statistic):           1.36e-46\n",
            "Time:                        07:30:29   Log-Likelihood:                -141.06\n",
            "No. Observations:                 100   AIC:                             288.1\n",
            "Df Residuals:                      97   BIC:                             295.9\n",
            "Df Model:                           2                                         \n",
            "Covariance Type:            nonrobust                                         \n",
            "==============================================================================\n",
            "                 coef    std err          t      P>|t|      [0.025      0.975]\n",
            "------------------------------------------------------------------------------\n",
            "const         -0.0728      0.119     -0.611      0.543      -0.309       0.164\n",
            "X              0.9663      0.126      7.647      0.000       0.715       1.217\n",
            "X2            -2.0047      0.091    -22.072      0.000      -2.185      -1.824\n",
            "==============================================================================\n",
            "Omnibus:                        1.338   Durbin-Watson:                   2.197\n",
            "Prob(Omnibus):                  0.512   Jarque-Bera (JB):                0.814\n",
            "Skew:                           0.119   Prob(JB):                        0.666\n",
            "Kurtosis:                       3.372   Cond. No.                         2.23\n",
            "==============================================================================\n",
            "\n",
            "Notes:\n",
            "[1] Standard Errors assume that the covariance matrix of the errors is correctly specified.\n",
            "\n",
            "Model 3 Summary:\n",
            "                             OLS Regression Results                            \n",
            "==============================================================================\n",
            "Dep. Variable:                      Y   R-squared:                       0.888\n",
            "Model:                            OLS   Adj. R-squared:                  0.885\n",
            "Method:                 Least Squares   F-statistic:                     253.8\n",
            "Date:                Fri, 08 Nov 2024   Prob (F-statistic):           1.70e-45\n",
            "Time:                        07:30:29   Log-Likelihood:                -140.47\n",
            "No. Observations:                 100   AIC:                             288.9\n",
            "Df Residuals:                      96   BIC:                             299.4\n",
            "Df Model:                           3                                         \n",
            "Covariance Type:            nonrobust                                         \n",
            "==============================================================================\n",
            "                 coef    std err          t      P>|t|      [0.025      0.975]\n",
            "------------------------------------------------------------------------------\n",
            "const         -0.0572      0.120     -0.477      0.635      -0.295       0.181\n",
            "X              1.1146      0.187      5.945      0.000       0.742       1.487\n",
            "X2            -2.0471      0.099    -20.673      0.000      -2.244      -1.851\n",
            "X3            -0.0643      0.060     -1.070      0.287      -0.184       0.055\n",
            "==============================================================================\n",
            "Omnibus:                        0.845   Durbin-Watson:                   2.199\n",
            "Prob(Omnibus):                  0.655   Jarque-Bera (JB):                0.392\n",
            "Skew:                           0.052   Prob(JB):                        0.822\n",
            "Kurtosis:                       3.289   Cond. No.                         5.95\n",
            "==============================================================================\n",
            "\n",
            "Notes:\n",
            "[1] Standard Errors assume that the covariance matrix of the errors is correctly specified.\n",
            "\n",
            "Model 4 Summary:\n",
            "                             OLS Regression Results                            \n",
            "==============================================================================\n",
            "Dep. Variable:                      Y   R-squared:                       0.894\n",
            "Model:                            OLS   Adj. R-squared:                  0.890\n",
            "Method:                 Least Squares   F-statistic:                     200.2\n",
            "Date:                Fri, 08 Nov 2024   Prob (F-statistic):           2.22e-45\n",
            "Time:                        07:30:29   Log-Likelihood:                -137.74\n",
            "No. Observations:                 100   AIC:                             285.5\n",
            "Df Residuals:                      95   BIC:                             298.5\n",
            "Df Model:                           4                                         \n",
            "Covariance Type:            nonrobust                                         \n",
            "==============================================================================\n",
            "                 coef    std err          t      P>|t|      [0.025      0.975]\n",
            "------------------------------------------------------------------------------\n",
            "const          0.1008      0.136      0.743      0.460      -0.169       0.370\n",
            "X              0.9050      0.205      4.423      0.000       0.499       1.311\n",
            "X2            -2.5059      0.221    -11.336      0.000      -2.945      -2.067\n",
            "X3             0.0338      0.073      0.466      0.642      -0.110       0.178\n",
            "X4             0.1042      0.045      2.309      0.023       0.015       0.194\n",
            "==============================================================================\n",
            "Omnibus:                        2.476   Durbin-Watson:                   2.163\n",
            "Prob(Omnibus):                  0.290   Jarque-Bera (JB):                2.097\n",
            "Skew:                           0.118   Prob(JB):                        0.351\n",
            "Kurtosis:                       3.669   Cond. No.                         19.9\n",
            "==============================================================================\n",
            "\n",
            "Notes:\n",
            "[1] Standard Errors assume that the covariance matrix of the errors is correctly specified.\n"
          ]
        }
      ]
    },
    {
      "cell_type": "markdown",
      "source": [
        "Model with degree 1 and 2 are statistical significance."
      ],
      "metadata": {
        "id": "lPkzmPyrso1v"
      }
    }
  ]
}