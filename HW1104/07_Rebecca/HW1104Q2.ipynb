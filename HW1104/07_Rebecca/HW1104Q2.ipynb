{
  "nbformat": 4,
  "nbformat_minor": 0,
  "metadata": {
    "colab": {
      "provenance": []
    },
    "kernelspec": {
      "name": "python3",
      "display_name": "Python 3"
    },
    "language_info": {
      "name": "python"
    }
  },
  "cells": [
    {
      "cell_type": "code",
      "execution_count": 1,
      "metadata": {
        "colab": {
          "base_uri": "https://localhost:8080/",
          "height": 472
        },
        "id": "zPrjcDbnrbvc",
        "outputId": "4795a4eb-a97d-4335-ddc7-0ca8c213b0e3"
      },
      "outputs": [
        {
          "output_type": "display_data",
          "data": {
            "text/plain": [
              "<Figure size 640x480 with 1 Axes>"
            ],
            "image/png": "[encoded data removed]"
          },
          "metadata": {}
        }
      ],
      "source": [
        "import numpy as np\n",
        "\n",
        "# (a)設置隨機生成器\n",
        "rng = np.random.default_rng(1)\n",
        "x = rng.normal(size=100)\n",
        "y = x - 2 * x**2 + rng.normal(size=100)\n",
        "\n",
        "\n",
        "###(b)plot\n",
        "\n",
        "import matplotlib.pyplot as plt\n",
        "plt.scatter(x, y)\n",
        "plt.xlabel('x')\n",
        "plt.ylabel('Y')\n",
        "plt.title('Scatter plot of X vs Y')\n",
        "plt.show()\n",
        "\n",
        "##從圖可以看出沒什麼線性關係\n"
      ]
    },
    {
      "cell_type": "code",
      "source": [
        "from sklearn.linear_model import LinearRegression\n",
        "from sklearn.model_selection import cross_val_score\n",
        "from sklearn.preprocessing import PolynomialFeatures\n",
        "from sklearn.pipeline import make_pipeline\n",
        "import numpy as np\n",
        "\n",
        "###(c) 設置隨機種子\n",
        "np.random.seed(1)\n",
        "\n",
        "# 構建四個模型並計算 LOOCV 誤差\n",
        "loocv_errors = []\n",
        "for degree in range(1, 5):\n",
        "    model = make_pipeline(PolynomialFeatures(degree), LinearRegression())\n",
        "    scores = cross_val_score(model, x.reshape(-1, 1), y, cv=len(x), scoring='neg_mean_squared_error')\n",
        "    loocv_error = -scores.mean()  # 取負值因為cross_val_score返回的是負MSE\n",
        "    loocv_errors.append(loocv_error)\n",
        "    print(f\"Degree {degree} model LOOCV error: {loocv_error}\")\n"
      ],
      "metadata": {
        "colab": {
          "base_uri": "https://localhost:8080/"
        },
        "id": "-b5sj6xyv_Or",
        "outputId": "081e0966-508c-4b0e-c851-dd1c413074fd"
      },
      "execution_count": 2,
      "outputs": [
        {
          "output_type": "stream",
          "name": "stdout",
          "text": [
            "Degree 1 model LOOCV error: 6.633029839181984\n",
            "Degree 2 model LOOCV error: 1.122936856341969\n",
            "Degree 3 model LOOCV error: 1.3017965489358863\n",
            "Degree 4 model LOOCV error: 1.3323942694179336\n"
          ]
        }
      ]
    },
    {
      "cell_type": "code",
      "source": [
        "###(e)應該會比其他模型更適合這個數據集，因為這個模型的結構與數據的生成過程一致，因此能更好地解釋數據中的變異。相比之下，線性模型可能過於簡單，而三次和四次模型則可能會增加不必要的複雜度（過擬合），導致較高的 LOOCV 誤差。"
      ],
      "metadata": {
        "id": "6hkuKwjRzY_-"
      },
      "execution_count": null,
      "outputs": []
    },
    {
      "cell_type": "code",
      "source": [
        "###(f)\n",
        "import statsmodels.api as sm\n",
        "\n",
        "# 檢查每個模型的係數顯著性\n",
        "for degree in range(1, 5):\n",
        "    X_poly = PolynomialFeatures(degree).fit_transform(x.reshape(-1, 1))\n",
        "    model = sm.OLS(y, X_poly).fit()\n",
        "    print(f\"\\nDegree {degree} model summary:\")\n",
        "    print(model.summary())\n"
      ],
      "metadata": {
        "colab": {
          "base_uri": "https://localhost:8080/"
        },
        "id": "MdHEqMQ1zcHZ",
        "outputId": "bde828f7-8558-4aeb-edd3-ea593f7a77c8"
      },
      "execution_count": 3,
      "outputs": [
        {
          "output_type": "stream",
          "name": "stdout",
          "text": [
            "\n",
            "Degree 1 model summary:\n",
            "                            OLS Regression Results                            \n",
            "==============================================================================\n",
            "Dep. Variable:                      y   R-squared:                       0.318\n",
            "Model:                            OLS   Adj. R-squared:                  0.311\n",
            "Method:                 Least Squares   F-statistic:                     45.60\n",
            "Date:                Sat, 09 Nov 2024   Prob (F-statistic):           1.04e-09\n",
            "Time:                        07:23:30   Log-Likelihood:                -230.83\n",
            "No. Observations:                 100   AIC:                             465.7\n",
            "Df Residuals:                      98   BIC:                             470.9\n",
            "Df Model:                           1                                         \n",
            "Covariance Type:            nonrobust                                         \n",
            "==============================================================================\n",
            "                 coef    std err          t      P>|t|      [0.025      0.975]\n",
            "------------------------------------------------------------------------------\n",
            "const         -1.4650      0.247     -5.937      0.000      -1.955      -0.975\n",
            "x1             1.9494      0.289      6.752      0.000       1.376       2.522\n",
            "==============================================================================\n",
            "Omnibus:                       52.788   Durbin-Watson:                   1.972\n",
            "Prob(Omnibus):                  0.000   Jarque-Bera (JB):              149.089\n",
            "Skew:                          -1.953   Prob(JB):                     4.22e-33\n",
            "Kurtosis:                       7.530   Cond. No.                         1.20\n",
            "==============================================================================\n",
            "\n",
            "Notes:\n",
            "[1] Standard Errors assume that the covariance matrix of the errors is correctly specified.\n",
            "\n",
            "Degree 2 model summary:\n",
            "                            OLS Regression Results                            \n",
            "==============================================================================\n",
            "Dep. Variable:                      y   R-squared:                       0.887\n",
            "Model:                            OLS   Adj. R-squared:                  0.884\n",
            "Method:                 Least Squares   F-statistic:                     379.5\n",
            "Date:                Sat, 09 Nov 2024   Prob (F-statistic):           1.36e-46\n",
            "Time:                        07:23:30   Log-Likelihood:                -141.06\n",
            "No. Observations:                 100   AIC:                             288.1\n",
            "Df Residuals:                      97   BIC:                             295.9\n",
            "Df Model:                           2                                         \n",
            "Covariance Type:            nonrobust                                         \n",
            "==============================================================================\n",
            "                 coef    std err          t      P>|t|      [0.025      0.975]\n",
            "------------------------------------------------------------------------------\n",
            "const         -0.0728      0.119     -0.611      0.543      -0.309       0.164\n",
            "x1             0.9663      0.126      7.647      0.000       0.715       1.217\n",
            "x2            -2.0047      0.091    -22.072      0.000      -2.185      -1.824\n",
            "==============================================================================\n",
            "Omnibus:                        1.338   Durbin-Watson:                   2.197\n",
            "Prob(Omnibus):                  0.512   Jarque-Bera (JB):                0.814\n",
            "Skew:                           0.119   Prob(JB):                        0.666\n",
            "Kurtosis:                       3.372   Cond. No.                         2.23\n",
            "==============================================================================\n",
            "\n",
            "Notes:\n",
            "[1] Standard Errors assume that the covariance matrix of the errors is correctly specified.\n",
            "\n",
            "Degree 3 model summary:\n",
            "                            OLS Regression Results                            \n",
            "==============================================================================\n",
            "Dep. Variable:                      y   R-squared:                       0.888\n",
            "Model:                            OLS   Adj. R-squared:                  0.885\n",
            "Method:                 Least Squares   F-statistic:                     253.8\n",
            "Date:                Sat, 09 Nov 2024   Prob (F-statistic):           1.70e-45\n",
            "Time:                        07:23:30   Log-Likelihood:                -140.47\n",
            "No. Observations:                 100   AIC:                             288.9\n",
            "Df Residuals:                      96   BIC:                             299.4\n",
            "Df Model:                           3                                         \n",
            "Covariance Type:            nonrobust                                         \n",
            "==============================================================================\n",
            "                 coef    std err          t      P>|t|      [0.025      0.975]\n",
            "------------------------------------------------------------------------------\n",
            "const         -0.0572      0.120     -0.477      0.635      -0.295       0.181\n",
            "x1             1.1146      0.187      5.945      0.000       0.742       1.487\n",
            "x2            -2.0471      0.099    -20.673      0.000      -2.244      -1.851\n",
            "x3            -0.0643      0.060     -1.070      0.287      -0.184       0.055\n",
            "==============================================================================\n",
            "Omnibus:                        0.845   Durbin-Watson:                   2.199\n",
            "Prob(Omnibus):                  0.655   Jarque-Bera (JB):                0.392\n",
            "Skew:                           0.052   Prob(JB):                        0.822\n",
            "Kurtosis:                       3.289   Cond. No.                         5.95\n",
            "==============================================================================\n",
            "\n",
            "Notes:\n",
            "[1] Standard Errors assume that the covariance matrix of the errors is correctly specified.\n",
            "\n",
            "Degree 4 model summary:\n",
            "                            OLS Regression Results                            \n",
            "==============================================================================\n",
            "Dep. Variable:                      y   R-squared:                       0.894\n",
            "Model:                            OLS   Adj. R-squared:                  0.890\n",
            "Method:                 Least Squares   F-statistic:                     200.2\n",
            "Date:                Sat, 09 Nov 2024   Prob (F-statistic):           2.22e-45\n",
            "Time:                        07:23:30   Log-Likelihood:                -137.74\n",
            "No. Observations:                 100   AIC:                             285.5\n",
            "Df Residuals:                      95   BIC:                             298.5\n",
            "Df Model:                           4                                         \n",
            "Covariance Type:            nonrobust                                         \n",
            "==============================================================================\n",
            "                 coef    std err          t      P>|t|      [0.025      0.975]\n",
            "------------------------------------------------------------------------------\n",
            "const          0.1008      0.136      0.743      0.460      -0.169       0.370\n",
            "x1             0.9050      0.205      4.423      0.000       0.499       1.311\n",
            "x2            -2.5059      0.221    -11.336      0.000      -2.945      -2.067\n",
            "x3             0.0338      0.073      0.466      0.642      -0.110       0.178\n",
            "x4             0.1042      0.045      2.309      0.023       0.015       0.194\n",
            "==============================================================================\n",
            "Omnibus:                        2.476   Durbin-Watson:                   2.163\n",
            "Prob(Omnibus):                  0.290   Jarque-Bera (JB):                2.097\n",
            "Skew:                           0.118   Prob(JB):                        0.351\n",
            "Kurtosis:                       3.669   Cond. No.                         19.9\n",
            "==============================================================================\n",
            "\n",
            "Notes:\n",
            "[1] Standard Errors assume that the covariance matrix of the errors is correctly specified.\n"
          ]
        }
      ]
    }
  ]
}