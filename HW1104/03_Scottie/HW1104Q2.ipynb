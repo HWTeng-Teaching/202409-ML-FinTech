{
  "nbformat": 4,
  "nbformat_minor": 0,
  "metadata": {
    "colab": {
      "provenance": []
    },
    "kernelspec": {
      "name": "python3",
      "display_name": "Python 3"
    },
    "language_info": {
      "name": "python"
    }
  },
  "cells": [
    {
      "cell_type": "code",
      "execution_count": 1,
      "metadata": {
        "id": "OUa_Fr0tGdf0"
      },
      "outputs": [],
      "source": [
        "import numpy as np\n",
        "import matplotlib.pyplot as plt\n",
        "import pandas as pd\n",
        "\n",
        "from sklearn.model_selection import cross_val_score\n",
        "from sklearn.linear_model import LinearRegression\n",
        "from sklearn.preprocessing import PolynomialFeatures\n",
        "from sklearn.pipeline import make_pipeline"
      ]
    },
    {
      "cell_type": "markdown",
      "source": [
        " (a)"
      ],
      "metadata": {
        "id": "phsBPyoCHK_f"
      }
    },
    {
      "cell_type": "code",
      "source": [
        "rng = np.random.default_rng(1)\n",
        "x = rng.normal(size=100)\n",
        "y = x - 2 * x**2 + rng.normal(size=100)"
      ],
      "metadata": {
        "id": "Ur6y8hkXGzHJ"
      },
      "execution_count": 2,
      "outputs": []
    },
    {
      "cell_type": "markdown",
      "source": [
        "What is 𝑛 and what is 𝑝?\n",
        "\n",
        "n represents the number of observations, which is the number of data points in 𝑥 and 𝑦. For this case, n=100 since size=100 is specified. p represents the number of predictors (or independent variables) used to generate y. Here, there is only one predictor 𝑥, so p=1.\n",
        "\n",
        "Write out the model used to generate the data in equation form.\n",
        "\n",
        "The code specifies that:"
      ],
      "metadata": {
        "id": "lWzt4_p6HP93"
      }
    },
    {
      "cell_type": "markdown",
      "source": [
        "where 𝜖 ∼ Normal(0,1), representing random noise added to 𝑦 from a normal distribution (since rng.normal(size=100) generates 100 random values from a standard normal distribution with mean 0 and some variance).\n",
        "\n",
        "This equation describes how y is generated based on x with added Gaussian noise 𝜖."
      ],
      "metadata": {
        "id": "iEWz8qJYHx2f"
      }
    },
    {
      "cell_type": "markdown",
      "source": [
        "# (b) Create a scatterplot of X against Y . Comment on what you find."
      ],
      "metadata": {
        "id": "QxshZi3BH20Y"
      }
    },
    {
      "cell_type": "code",
      "source": [
        "plt.scatter(x, y)\n",
        "plt.xlabel('X')\n",
        "plt.ylabel('Y')\n",
        "plt.title('Scatter plot of X vs Y')\n",
        "plt.show()"
      ],
      "metadata": {
        "colab": {
          "base_uri": "https://localhost:8080/",
          "height": 472
        },
        "id": "Y_3gqmiPHReF",
        "outputId": "20644978-f90c-417b-b2cf-948dbcd58460"
      },
      "execution_count": 6,
      "outputs": [
        {
          "output_type": "display_data",
          "data": {
            "text/plain": [
              "<Figure size 640x480 with 1 Axes>"
            ],
            "image/png": "[encoded data removed]"
          },
          "metadata": {}
        }
      ]
    },
    {
      "cell_type": "markdown",
      "source": [
        "觀察上圖可以發現 X Y 不存在顯著的線性關係"
      ],
      "metadata": {
        "id": "8LUB9NrJH89G"
      }
    },
    {
      "cell_type": "markdown",
      "source": [
        "# (c) Set a random seed, and then compute the LOOCV errors that result from fitting the following four models using least squares"
      ],
      "metadata": {
        "id": "gtVgDXpEIApg"
      }
    },
    {
      "cell_type": "code",
      "source": [
        "import numpy as np\n",
        "import pandas as pd\n",
        "from sklearn.linear_model import LinearRegression\n",
        "from sklearn.preprocessing import PolynomialFeatures\n",
        "from sklearn.metrics import mean_squared_error\n",
        "from sklearn.model_selection import LeaveOneOut\n",
        "\n",
        "# 設定隨機種子\n",
        "np.random.seed(0)\n",
        "\n",
        "# 生成隨機資料\n",
        "x = np.random.normal(size=100)\n",
        "y = x - 2 * x**2 + np.random.normal(size=100)\n",
        "\n",
        "# 將 x 轉換成 DataFrame 以便於特徵管理\n",
        "X = x.reshape(-1, 1)\n",
        "data = pd.DataFrame({'X': x, 'Y': y})\n",
        "\n",
        "# 定義一個函數來計算特定多項式階數的 LOOCV 誤差\n",
        "def loocv_error(degree):\n",
        "    poly = PolynomialFeatures(degree)  # 創建多項式特徵\n",
        "    X_poly = poly.fit_transform(X)     # 將 X 轉換為指定階數的多項式特徵\n",
        "    loo = LeaveOneOut()                # 設定 LOOCV\n",
        "    model = LinearRegression()         # 建立線性回歸模型\n",
        "    errors = []                        # 用於儲存每次迭代的誤差\n",
        "\n",
        "    # 對每個樣本進行 LOOCV\n",
        "    for train_index, test_index in loo.split(X_poly):\n",
        "        X_train, X_test = X_poly[train_index], X_poly[test_index]\n",
        "        y_train, y_test = y[train_index], y[test_index]\n",
        "        model.fit(X_train, y_train)     # 使用訓練集訓練模型\n",
        "        y_pred = model.predict(X_test)  # 使用模型預測測試集\n",
        "        errors.append(mean_squared_error(y_test, y_pred))  # 計算並儲存誤差\n",
        "\n",
        "    # 回傳所有誤差的平均值\n",
        "    return np.mean(errors)\n",
        "\n",
        "# 計算階數 1 到 4 的模型的 LOOCV 誤差\n",
        "loocv_errors = {f\"Model degree {i}\": loocv_error(i) for i in range(1, 5)}\n",
        "loocv_errors\n"
      ],
      "metadata": {
        "colab": {
          "base_uri": "https://localhost:8080/"
        },
        "id": "HfAXXsY5Hyc_",
        "outputId": "4c3b2a84-9f07-401c-db7e-1114457128fc"
      },
      "execution_count": 11,
      "outputs": [
        {
          "output_type": "execute_result",
          "data": {
            "text/plain": [
              "{'Model degree 1': 8.888205832586202,\n",
              " 'Model degree 2': 1.1161531889772691,\n",
              " 'Model degree 3': 1.1622258803903232,\n",
              " 'Model degree 4': 1.14714794300914}"
            ]
          },
          "metadata": {},
          "execution_count": 11
        }
      ]
    },
    {
      "cell_type": "markdown",
      "source": [
        "# (d) Repeat (c) using another random seed, and report your results.Are your results the same as what you got in (c)? Why?"
      ],
      "metadata": {
        "id": "nLgMggb0J6y-"
      }
    },
    {
      "cell_type": "code",
      "source": [
        "# 設定隨機種子\n",
        "np.random.seed(1)\n",
        "\n",
        "# 生成隨機資料\n",
        "x = np.random.normal(size=100)\n",
        "y = x - 2 * x**2 + np.random.normal(size=100)\n",
        "\n",
        "# 將 x 轉換成 DataFrame 以便於特徵管理\n",
        "X = x.reshape(-1, 1)\n",
        "data = pd.DataFrame({'X': x, 'Y': y})\n",
        "\n",
        "# 定義一個函數來計算特定多項式階數的 LOOCV 誤差\n",
        "def loocv_error(degree):\n",
        "    poly = PolynomialFeatures(degree)  # 創建多項式特徵\n",
        "    X_poly = poly.fit_transform(X)     # 將 X 轉換為指定階數的多項式特徵\n",
        "    loo = LeaveOneOut()                # 設定 LOOCV\n",
        "    model = LinearRegression()         # 建立線性回歸模型\n",
        "    errors = []                        # 用於儲存每次迭代的誤差\n",
        "\n",
        "    # 對每個樣本進行 LOOCV\n",
        "    for train_index, test_index in loo.split(X_poly):\n",
        "        X_train, X_test = X_poly[train_index], X_poly[test_index]\n",
        "        y_train, y_test = y[train_index], y[test_index]\n",
        "        model.fit(X_train, y_train)     # 使用訓練集訓練模型\n",
        "        y_pred = model.predict(X_test)  # 使用模型預測測試集\n",
        "        errors.append(mean_squared_error(y_test, y_pred))  # 計算並儲存誤差\n",
        "\n",
        "    # 回傳所有誤差的平均值\n",
        "    return np.mean(errors)\n",
        "\n",
        "# 計算階數 1 到 4 的模型的 LOOCV 誤差\n",
        "loocv_errors = {f\"Model degree {i}\": loocv_error(i) for i in range(1, 5)}\n",
        "loocv_errors\n"
      ],
      "metadata": {
        "colab": {
          "base_uri": "https://localhost:8080/"
        },
        "id": "LVw0RpYUJ8mY",
        "outputId": "540c3d34-b3db-4327-ffd4-1900f13856e7"
      },
      "execution_count": 12,
      "outputs": [
        {
          "output_type": "execute_result",
          "data": {
            "text/plain": [
              "{'Model degree 1': 6.260764331604616,\n",
              " 'Model degree 2': 0.9142897072803663,\n",
              " 'Model degree 3': 0.9268768781648804,\n",
              " 'Model degree 4': 0.8669116865881082}"
            ]
          },
          "metadata": {},
          "execution_count": 12
        }
      ]
    },
    {
      "cell_type": "markdown",
      "source": [
        "random seed不同導致資料略有變化，因為資料生成的真實模型是二次方程，所以quadratic model能最佳地擬合主要趨勢，因此在 LOOCV 中仍持續表現最佳。"
      ],
      "metadata": {
        "id": "USSyQgOcK_jq"
      }
    },
    {
      "cell_type": "markdown",
      "source": [
        "# (e) Which of the models in (c) had the smallest LOOCV error? Is this what you expected? Explain your answer."
      ],
      "metadata": {
        "id": "FLSygCSMLe8X"
      }
    },
    {
      "cell_type": "markdown",
      "source": [
        "二次模型（degree 2）的 LOOCV 誤差最低，約為 1.116。由於生成 \\( y \\) 的真實關係式是 \\( x \\) 的二次函數，因此二次模型如預期般表現最佳。"
      ],
      "metadata": {
        "id": "ONj7skaxLz5Y"
      }
    },
    {
      "cell_type": "markdown",
      "source": [
        "# (f) Comment on the statistical significance of the coefficient estimates that results from fitting each of the models in (c) using least squares. Do these results agree with the conclusions drawn based on the cross-validation results?"
      ],
      "metadata": {
        "id": "KTOzJ1_uMI58"
      }
    },
    {
      "cell_type": "code",
      "source": [
        "import statsmodels.api as sm\n",
        "from sklearn.preprocessing import PolynomialFeatures\n",
        "\n",
        "# 定義函數以擬合模型並顯示係數的統計顯著性\n",
        "def fit_model_and_display_summary(degree, X, y):\n",
        "    # 創建至指定階數的多項式特徵\n",
        "    poly = PolynomialFeatures(degree, include_bias=False)\n",
        "    X_poly = poly.fit_transform(X)\n",
        "\n",
        "    # 使用 statsmodels 擬合模型以獲取詳細的統計輸出\n",
        "    X_poly = sm.add_constant(X_poly)  # 加入截距項\n",
        "    model = sm.OLS(y, X_poly).fit()\n",
        "    return model.summary()\n",
        "\n",
        "# 擬合 1 到 4 階的模型並顯示摘要\n",
        "model_summaries = {f\"Model degree {i}\": fit_model_and_display_summary(i, X, y) for i in range(1, 5)}\n",
        "\n",
        "model_summaries\n"
      ],
      "metadata": {
        "colab": {
          "base_uri": "https://localhost:8080/"
        },
        "id": "fksps0oJLa2C",
        "outputId": "730ca09d-dc94-4c5a-926b-eb3227bee304"
      },
      "execution_count": 13,
      "outputs": [
        {
          "output_type": "execute_result",
          "data": {
            "text/plain": [
              "{'Model degree 1': <class 'statsmodels.iolib.summary.Summary'>\n",
              " \"\"\"\n",
              "                             OLS Regression Results                            \n",
              " ==============================================================================\n",
              " Dep. Variable:                      y   R-squared:                       0.093\n",
              " Model:                            OLS   Adj. R-squared:                  0.083\n",
              " Method:                 Least Squares   F-statistic:                     9.997\n",
              " Date:                Sun, 10 Nov 2024   Prob (F-statistic):            0.00209\n",
              " Time:                        08:31:11   Log-Likelihood:                -228.87\n",
              " No. Observations:                 100   AIC:                             461.7\n",
              " Df Residuals:                      98   BIC:                             466.9\n",
              " Df Model:                           1                                         \n",
              " Covariance Type:            nonrobust                                         \n",
              " ==============================================================================\n",
              "                  coef    std err          t      P>|t|      [0.025      0.975]\n",
              " ------------------------------------------------------------------------------\n",
              " const         -1.4131      0.242     -5.849      0.000      -1.893      -0.934\n",
              " x1             0.8610      0.272      3.162      0.002       0.321       1.401\n",
              " ==============================================================================\n",
              " Omnibus:                       37.310   Durbin-Watson:                   1.661\n",
              " Prob(Omnibus):                  0.000   Jarque-Bera (JB):               69.521\n",
              " Skew:                          -1.554   Prob(JB):                     8.01e-16\n",
              " Kurtosis:                       5.651   Cond. No.                         1.15\n",
              " ==============================================================================\n",
              " \n",
              " Notes:\n",
              " [1] Standard Errors assume that the covariance matrix of the errors is correctly specified.\n",
              " \"\"\",\n",
              " 'Model degree 2': <class 'statsmodels.iolib.summary.Summary'>\n",
              " \"\"\"\n",
              "                             OLS Regression Results                            \n",
              " ==============================================================================\n",
              " Dep. Variable:                      y   R-squared:                       0.863\n",
              " Model:                            OLS   Adj. R-squared:                  0.860\n",
              " Method:                 Least Squares   F-statistic:                     304.9\n",
              " Date:                Sun, 10 Nov 2024   Prob (F-statistic):           1.47e-42\n",
              " Time:                        08:31:11   Log-Likelihood:                -134.42\n",
              " No. Observations:                 100   AIC:                             274.8\n",
              " Df Residuals:                      97   BIC:                             282.7\n",
              " Df Model:                           2                                         \n",
              " Covariance Type:            nonrobust                                         \n",
              " ==============================================================================\n",
              "                  coef    std err          t      P>|t|      [0.025      0.975]\n",
              " ------------------------------------------------------------------------------\n",
              " const          0.1350      0.115      1.169      0.245      -0.094       0.364\n",
              " x1             1.0936      0.107     10.229      0.000       0.881       1.306\n",
              " x2            -1.9846      0.085    -23.331      0.000      -2.153      -1.816\n",
              " ==============================================================================\n",
              " Omnibus:                        0.893   Durbin-Watson:                   2.152\n",
              " Prob(Omnibus):                  0.640   Jarque-Bera (JB):                0.552\n",
              " Skew:                          -0.170   Prob(JB):                        0.759\n",
              " Kurtosis:                       3.132   Cond. No.                         2.10\n",
              " ==============================================================================\n",
              " \n",
              " Notes:\n",
              " [1] Standard Errors assume that the covariance matrix of the errors is correctly specified.\n",
              " \"\"\",\n",
              " 'Model degree 3': <class 'statsmodels.iolib.summary.Summary'>\n",
              " \"\"\"\n",
              "                             OLS Regression Results                            \n",
              " ==============================================================================\n",
              " Dep. Variable:                      y   R-squared:                       0.865\n",
              " Model:                            OLS   Adj. R-squared:                  0.861\n",
              " Method:                 Least Squares   F-statistic:                     204.8\n",
              " Date:                Sun, 10 Nov 2024   Prob (F-statistic):           1.40e-41\n",
              " Time:                        08:31:11   Log-Likelihood:                -133.66\n",
              " No. Observations:                 100   AIC:                             275.3\n",
              " Df Residuals:                      96   BIC:                             285.7\n",
              " Df Model:                           3                                         \n",
              " Covariance Type:            nonrobust                                         \n",
              " ==============================================================================\n",
              "                  coef    std err          t      P>|t|      [0.025      0.975]\n",
              " ------------------------------------------------------------------------------\n",
              " const          0.1280      0.115      1.111      0.269      -0.101       0.357\n",
              " x1             0.9065      0.187      4.842      0.000       0.535       1.278\n",
              " x2            -1.9753      0.085    -23.187      0.000      -2.144      -1.806\n",
              " x3             0.0788      0.065      1.216      0.227      -0.050       0.208\n",
              " ==============================================================================\n",
              " Omnibus:                        1.539   Durbin-Watson:                   2.129\n",
              " Prob(Omnibus):                  0.463   Jarque-Bera (JB):                1.081\n",
              " Skew:                          -0.236   Prob(JB):                        0.583\n",
              " Kurtosis:                       3.193   Cond. No.                         5.53\n",
              " ==============================================================================\n",
              " \n",
              " Notes:\n",
              " [1] Standard Errors assume that the covariance matrix of the errors is correctly specified.\n",
              " \"\"\",\n",
              " 'Model degree 4': <class 'statsmodels.iolib.summary.Summary'>\n",
              " \"\"\"\n",
              "                             OLS Regression Results                            \n",
              " ==============================================================================\n",
              " Dep. Variable:                      y   R-squared:                       0.873\n",
              " Model:                            OLS   Adj. R-squared:                  0.867\n",
              " Method:                 Least Squares   F-statistic:                     163.0\n",
              " Date:                Sun, 10 Nov 2024   Prob (F-statistic):           1.24e-41\n",
              " Time:                        08:31:11   Log-Likelihood:                -130.63\n",
              " No. Observations:                 100   AIC:                             271.3\n",
              " Df Residuals:                      95   BIC:                             284.3\n",
              " Df Model:                           4                                         \n",
              " Covariance Type:            nonrobust                                         \n",
              " ==============================================================================\n",
              "                  coef    std err          t      P>|t|      [0.025      0.975]\n",
              " ------------------------------------------------------------------------------\n",
              " const          0.3140      0.136      2.311      0.023       0.044       0.584\n",
              " x1             0.9127      0.183      4.999      0.000       0.550       1.275\n",
              " x2            -2.5445      0.248    -10.264      0.000      -3.037      -2.052\n",
              " x3             0.0992      0.064      1.556      0.123      -0.027       0.226\n",
              " x4             0.1394      0.057      2.437      0.017       0.026       0.253\n",
              " ==============================================================================\n",
              " Omnibus:                        1.537   Durbin-Watson:                   2.100\n",
              " Prob(Omnibus):                  0.464   Jarque-Bera (JB):                1.088\n",
              " Skew:                          -0.238   Prob(JB):                        0.581\n",
              " Kurtosis:                       3.184   Cond. No.                         15.9\n",
              " ==============================================================================\n",
              " \n",
              " Notes:\n",
              " [1] Standard Errors assume that the covariance matrix of the errors is correctly specified.\n",
              " \"\"\"}"
            ]
          },
          "metadata": {},
          "execution_count": 13
        }
      ]
    },
    {
      "cell_type": "markdown",
      "source": [
        "每個模型中係數的統計顯著性應該與交叉驗證結果相符。二次模型（degree 2）擁有最低的 LOOCV 誤差，且預期線性和二次項的係數會顯著，這符合資料的真實模式。三次和四次模型中的高階項應該不顯著，這在統計顯著性上有所反映，並與 LOOCV 的結果一致。"
      ],
      "metadata": {
        "id": "B55f94zqM6ez"
      }
    },
    {
      "cell_type": "code",
      "source": [],
      "metadata": {
        "id": "VvpdF0ptNBSR"
      },
      "execution_count": null,
      "outputs": []
    }
  ]
}