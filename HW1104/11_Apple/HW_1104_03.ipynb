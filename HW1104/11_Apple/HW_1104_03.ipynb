{
 "cells": [
  {
   "cell_type": "markdown",
   "id": "e232de0e-5148-4ecb-b932-d4ac63c31b33",
   "metadata": {},
   "source": [
    "### Ch5_Q09\n",
    "We will now consider the Boston housing data set, from the ISLP \n",
    "library."
   ]
  },
  {
   "cell_type": "code",
   "execution_count": 1,
   "id": "81a09750-f1a7-42d9-a91e-eb4eab7c03d3",
   "metadata": {},
   "outputs": [
    {
     "name": "stdout",
     "output_type": "stream",
     "text": [
      "Requirement already satisfied: ISLP in c:\\users\\apple\\anaconda3\\lib\\site-packages (0.3.18)\n",
      "Requirement already satisfied: numpy>=1.7.1 in c:\\users\\apple\\anaconda3\\lib\\site-packages (from ISLP) (1.26.4)\n",
      "Requirement already satisfied: scipy>=0.9 in c:\\users\\apple\\anaconda3\\lib\\site-packages (from ISLP) (1.11.4)\n",
      "Requirement already satisfied: matplotlib>=3.3.3 in c:\\users\\apple\\anaconda3\\lib\\site-packages (from ISLP) (3.8.4)\n",
      "Requirement already satisfied: pandas>=0.20 in c:\\users\\apple\\anaconda3\\lib\\site-packages (from ISLP) (2.2.2)\n",
      "Requirement already satisfied: statsmodels>=0.13 in c:\\users\\apple\\anaconda3\\lib\\site-packages (from ISLP) (0.14.1)\n",
      "Requirement already satisfied: scikit-learn>=1.2 in c:\\users\\apple\\anaconda3\\lib\\site-packages (from ISLP) (1.3.2)\n",
      "Requirement already satisfied: jupyter>=0.0 in c:\\users\\apple\\anaconda3\\lib\\site-packages (from ISLP) (1.0.0)\n",
      "Requirement already satisfied: lxml>=0.0 in c:\\users\\apple\\anaconda3\\lib\\site-packages (from ISLP) (5.2.1)\n",
      "Requirement already satisfied: joblib>=0.0 in c:\\users\\apple\\anaconda3\\lib\\site-packages (from ISLP) (1.4.2)\n",
      "Requirement already satisfied: pygam>=0.0 in c:\\users\\apple\\anaconda3\\lib\\site-packages (from ISLP) (0.9.1)\n",
      "Requirement already satisfied: lifelines>=0.0 in c:\\users\\apple\\anaconda3\\lib\\site-packages (from ISLP) (0.27.8)\n",
      "Requirement already satisfied: notebook in c:\\users\\apple\\anaconda3\\lib\\site-packages (from jupyter>=0.0->ISLP) (7.0.8)\n",
      "Requirement already satisfied: qtconsole in c:\\users\\apple\\anaconda3\\lib\\site-packages (from jupyter>=0.0->ISLP) (5.5.1)\n",
      "Requirement already satisfied: jupyter-console in c:\\users\\apple\\anaconda3\\lib\\site-packages (from jupyter>=0.0->ISLP) (6.6.3)\n",
      "Requirement already satisfied: nbconvert in c:\\users\\apple\\anaconda3\\lib\\site-packages (from jupyter>=0.0->ISLP) (7.10.0)\n",
      "Requirement already satisfied: ipykernel in c:\\users\\apple\\anaconda3\\lib\\site-packages (from jupyter>=0.0->ISLP) (6.28.0)\n",
      "Requirement already satisfied: ipywidgets in c:\\users\\apple\\anaconda3\\lib\\site-packages (from jupyter>=0.0->ISLP) (7.8.1)\n",
      "Requirement already satisfied: autograd>=1.5 in c:\\users\\apple\\anaconda3\\lib\\site-packages (from lifelines>=0.0->ISLP) (1.7.0)\n",
      "Requirement already satisfied: autograd-gamma>=0.3 in c:\\users\\apple\\anaconda3\\lib\\site-packages (from lifelines>=0.0->ISLP) (0.5.0)\n",
      "Requirement already satisfied: formulaic>=0.2.2 in c:\\users\\apple\\anaconda3\\lib\\site-packages (from lifelines>=0.0->ISLP) (1.0.2)\n",
      "Requirement already satisfied: contourpy>=1.0.1 in c:\\users\\apple\\anaconda3\\lib\\site-packages (from matplotlib>=3.3.3->ISLP) (1.2.0)\n",
      "Requirement already satisfied: cycler>=0.10 in c:\\users\\apple\\anaconda3\\lib\\site-packages (from matplotlib>=3.3.3->ISLP) (0.11.0)\n",
      "Requirement already satisfied: fonttools>=4.22.0 in c:\\users\\apple\\anaconda3\\lib\\site-packages (from matplotlib>=3.3.3->ISLP) (4.51.0)\n",
      "Requirement already satisfied: kiwisolver>=1.3.1 in c:\\users\\apple\\anaconda3\\lib\\site-packages (from matplotlib>=3.3.3->ISLP) (1.4.4)\n",
      "Requirement already satisfied: packaging>=20.0 in c:\\users\\apple\\anaconda3\\lib\\site-packages (from matplotlib>=3.3.3->ISLP) (23.2)\n",
      "Requirement already satisfied: pillow>=8 in c:\\users\\apple\\anaconda3\\lib\\site-packages (from matplotlib>=3.3.3->ISLP) (10.3.0)\n",
      "Requirement already satisfied: pyparsing>=2.3.1 in c:\\users\\apple\\anaconda3\\lib\\site-packages (from matplotlib>=3.3.3->ISLP) (3.0.9)\n",
      "Requirement already satisfied: python-dateutil>=2.7 in c:\\users\\apple\\anaconda3\\lib\\site-packages (from matplotlib>=3.3.3->ISLP) (2.9.0.post0)\n",
      "Requirement already satisfied: importlib-resources>=3.2.0 in c:\\users\\apple\\anaconda3\\lib\\site-packages (from matplotlib>=3.3.3->ISLP) (6.1.1)\n",
      "Requirement already satisfied: pytz>=2020.1 in c:\\users\\apple\\anaconda3\\lib\\site-packages (from pandas>=0.20->ISLP) (2024.1)\n",
      "Requirement already satisfied: tzdata>=2022.7 in c:\\users\\apple\\anaconda3\\lib\\site-packages (from pandas>=0.20->ISLP) (2023.3)\n",
      "Requirement already satisfied: progressbar2<5.0.0,>=4.2.0 in c:\\users\\apple\\anaconda3\\lib\\site-packages (from pygam>=0.0->ISLP) (4.5.0)\n",
      "Requirement already satisfied: threadpoolctl>=2.0.0 in c:\\users\\apple\\anaconda3\\lib\\site-packages (from scikit-learn>=1.2->ISLP) (2.2.0)\n",
      "Requirement already satisfied: patsy>=0.5.4 in c:\\users\\apple\\anaconda3\\lib\\site-packages (from statsmodels>=0.13->ISLP) (0.5.6)\n",
      "Requirement already satisfied: interface-meta>=1.2.0 in c:\\users\\apple\\anaconda3\\lib\\site-packages (from formulaic>=0.2.2->lifelines>=0.0->ISLP) (1.3.0)\n",
      "Requirement already satisfied: typing-extensions>=4.2.0 in c:\\users\\apple\\anaconda3\\lib\\site-packages (from formulaic>=0.2.2->lifelines>=0.0->ISLP) (4.11.0)\n",
      "Requirement already satisfied: wrapt>=1.0 in c:\\users\\apple\\anaconda3\\lib\\site-packages (from formulaic>=0.2.2->lifelines>=0.0->ISLP) (1.14.1)\n",
      "Requirement already satisfied: zipp>=3.1.0 in c:\\users\\apple\\anaconda3\\lib\\site-packages (from importlib-resources>=3.2.0->matplotlib>=3.3.3->ISLP) (3.17.0)\n",
      "Requirement already satisfied: six in c:\\users\\apple\\anaconda3\\lib\\site-packages (from patsy>=0.5.4->statsmodels>=0.13->ISLP) (1.16.0)\n",
      "Requirement already satisfied: python-utils>=3.8.1 in c:\\users\\apple\\anaconda3\\lib\\site-packages (from progressbar2<5.0.0,>=4.2.0->pygam>=0.0->ISLP) (3.8.2)\n",
      "Requirement already satisfied: comm>=0.1.1 in c:\\users\\apple\\anaconda3\\lib\\site-packages (from ipykernel->jupyter>=0.0->ISLP) (0.2.1)\n",
      "Requirement already satisfied: debugpy>=1.6.5 in c:\\users\\apple\\anaconda3\\lib\\site-packages (from ipykernel->jupyter>=0.0->ISLP) (1.6.7)\n",
      "Requirement already satisfied: ipython>=7.23.1 in c:\\users\\apple\\anaconda3\\lib\\site-packages (from ipykernel->jupyter>=0.0->ISLP) (8.15.0)\n",
      "Requirement already satisfied: jupyter-client>=6.1.12 in c:\\users\\apple\\anaconda3\\lib\\site-packages (from ipykernel->jupyter>=0.0->ISLP) (8.6.0)\n",
      "Requirement already satisfied: jupyter-core!=5.0.*,>=4.12 in c:\\users\\apple\\anaconda3\\lib\\site-packages (from ipykernel->jupyter>=0.0->ISLP) (5.7.2)\n",
      "Requirement already satisfied: matplotlib-inline>=0.1 in c:\\users\\apple\\anaconda3\\lib\\site-packages (from ipykernel->jupyter>=0.0->ISLP) (0.1.6)\n",
      "Requirement already satisfied: nest-asyncio in c:\\users\\apple\\anaconda3\\lib\\site-packages (from ipykernel->jupyter>=0.0->ISLP) (1.6.0)\n",
      "Requirement already satisfied: psutil in c:\\users\\apple\\anaconda3\\lib\\site-packages (from ipykernel->jupyter>=0.0->ISLP) (5.9.0)\n",
      "Requirement already satisfied: pyzmq>=24 in c:\\users\\apple\\anaconda3\\lib\\site-packages (from ipykernel->jupyter>=0.0->ISLP) (25.1.2)\n",
      "Requirement already satisfied: tornado>=6.1 in c:\\users\\apple\\anaconda3\\lib\\site-packages (from ipykernel->jupyter>=0.0->ISLP) (6.4.1)\n",
      "Requirement already satisfied: traitlets>=5.4.0 in c:\\users\\apple\\anaconda3\\lib\\site-packages (from ipykernel->jupyter>=0.0->ISLP) (5.14.3)\n",
      "Requirement already satisfied: ipython-genutils~=0.2.0 in c:\\users\\apple\\anaconda3\\lib\\site-packages (from ipywidgets->jupyter>=0.0->ISLP) (0.2.0)\n",
      "Requirement already satisfied: widgetsnbextension~=3.6.6 in c:\\users\\apple\\anaconda3\\lib\\site-packages (from ipywidgets->jupyter>=0.0->ISLP) (3.6.6)\n",
      "Requirement already satisfied: jupyterlab-widgets<3,>=1.0.0 in c:\\users\\apple\\anaconda3\\lib\\site-packages (from ipywidgets->jupyter>=0.0->ISLP) (1.0.0)\n",
      "Requirement already satisfied: prompt-toolkit>=3.0.30 in c:\\users\\apple\\anaconda3\\lib\\site-packages (from jupyter-console->jupyter>=0.0->ISLP) (3.0.43)\n",
      "Requirement already satisfied: pygments in c:\\users\\apple\\anaconda3\\lib\\site-packages (from jupyter-console->jupyter>=0.0->ISLP) (2.15.1)\n",
      "Requirement already satisfied: beautifulsoup4 in c:\\users\\apple\\anaconda3\\lib\\site-packages (from nbconvert->jupyter>=0.0->ISLP) (4.12.3)\n",
      "Requirement already satisfied: bleach!=5.0.0 in c:\\users\\apple\\anaconda3\\lib\\site-packages (from nbconvert->jupyter>=0.0->ISLP) (4.1.0)\n",
      "Requirement already satisfied: defusedxml in c:\\users\\apple\\anaconda3\\lib\\site-packages (from nbconvert->jupyter>=0.0->ISLP) (0.7.1)\n",
      "Requirement already satisfied: importlib-metadata>=3.6 in c:\\users\\apple\\anaconda3\\lib\\site-packages (from nbconvert->jupyter>=0.0->ISLP) (7.0.1)\n",
      "Requirement already satisfied: jinja2>=3.0 in c:\\users\\apple\\anaconda3\\lib\\site-packages (from nbconvert->jupyter>=0.0->ISLP) (3.1.4)\n",
      "Requirement already satisfied: jupyterlab-pygments in c:\\users\\apple\\anaconda3\\lib\\site-packages (from nbconvert->jupyter>=0.0->ISLP) (0.1.2)\n",
      "Requirement already satisfied: markupsafe>=2.0 in c:\\users\\apple\\anaconda3\\lib\\site-packages (from nbconvert->jupyter>=0.0->ISLP) (2.1.3)\n",
      "Requirement already satisfied: mistune<4,>=2.0.3 in c:\\users\\apple\\anaconda3\\lib\\site-packages (from nbconvert->jupyter>=0.0->ISLP) (2.0.4)\n",
      "Requirement already satisfied: nbclient>=0.5.0 in c:\\users\\apple\\anaconda3\\lib\\site-packages (from nbconvert->jupyter>=0.0->ISLP) (0.8.0)\n",
      "Requirement already satisfied: nbformat>=5.7 in c:\\users\\apple\\anaconda3\\lib\\site-packages (from nbconvert->jupyter>=0.0->ISLP) (5.9.2)\n",
      "Requirement already satisfied: pandocfilters>=1.4.1 in c:\\users\\apple\\anaconda3\\lib\\site-packages (from nbconvert->jupyter>=0.0->ISLP) (1.5.0)\n",
      "Requirement already satisfied: tinycss2 in c:\\users\\apple\\anaconda3\\lib\\site-packages (from nbconvert->jupyter>=0.0->ISLP) (1.2.1)\n",
      "Requirement already satisfied: jupyter-server<3,>=2.4.0 in c:\\users\\apple\\anaconda3\\lib\\site-packages (from notebook->jupyter>=0.0->ISLP) (2.14.1)\n",
      "Requirement already satisfied: jupyterlab-server<3,>=2.22.1 in c:\\users\\apple\\anaconda3\\lib\\site-packages (from notebook->jupyter>=0.0->ISLP) (2.25.1)\n",
      "Requirement already satisfied: jupyterlab<4.1,>=4.0.2 in c:\\users\\apple\\anaconda3\\lib\\site-packages (from notebook->jupyter>=0.0->ISLP) (4.0.11)\n",
      "Requirement already satisfied: notebook-shim<0.3,>=0.2 in c:\\users\\apple\\anaconda3\\lib\\site-packages (from notebook->jupyter>=0.0->ISLP) (0.2.3)\n",
      "Requirement already satisfied: qtpy>=2.4.0 in c:\\users\\apple\\anaconda3\\lib\\site-packages (from qtconsole->jupyter>=0.0->ISLP) (2.4.1)\n",
      "Requirement already satisfied: webencodings in c:\\users\\apple\\anaconda3\\lib\\site-packages (from bleach!=5.0.0->nbconvert->jupyter>=0.0->ISLP) (0.5.1)\n",
      "Requirement already satisfied: backcall in c:\\users\\apple\\anaconda3\\lib\\site-packages (from ipython>=7.23.1->ipykernel->jupyter>=0.0->ISLP) (0.2.0)\n",
      "Requirement already satisfied: decorator in c:\\users\\apple\\anaconda3\\lib\\site-packages (from ipython>=7.23.1->ipykernel->jupyter>=0.0->ISLP) (5.1.1)\n",
      "Requirement already satisfied: jedi>=0.16 in c:\\users\\apple\\anaconda3\\lib\\site-packages (from ipython>=7.23.1->ipykernel->jupyter>=0.0->ISLP) (0.18.1)\n",
      "Requirement already satisfied: pickleshare in c:\\users\\apple\\anaconda3\\lib\\site-packages (from ipython>=7.23.1->ipykernel->jupyter>=0.0->ISLP) (0.7.5)\n",
      "Requirement already satisfied: stack-data in c:\\users\\apple\\anaconda3\\lib\\site-packages (from ipython>=7.23.1->ipykernel->jupyter>=0.0->ISLP) (0.2.0)\n",
      "Requirement already satisfied: exceptiongroup in c:\\users\\apple\\anaconda3\\lib\\site-packages (from ipython>=7.23.1->ipykernel->jupyter>=0.0->ISLP) (1.2.0)\n",
      "Requirement already satisfied: colorama in c:\\users\\apple\\anaconda3\\lib\\site-packages (from ipython>=7.23.1->ipykernel->jupyter>=0.0->ISLP) (0.4.6)\n",
      "Requirement already satisfied: platformdirs>=2.5 in c:\\users\\apple\\anaconda3\\lib\\site-packages (from jupyter-core!=5.0.*,>=4.12->ipykernel->jupyter>=0.0->ISLP) (3.10.0)\n",
      "Requirement already satisfied: pywin32>=300 in c:\\users\\apple\\anaconda3\\lib\\site-packages (from jupyter-core!=5.0.*,>=4.12->ipykernel->jupyter>=0.0->ISLP) (305.1)\n",
      "Requirement already satisfied: anyio>=3.1.0 in c:\\users\\apple\\anaconda3\\lib\\site-packages (from jupyter-server<3,>=2.4.0->notebook->jupyter>=0.0->ISLP) (4.2.0)\n",
      "Requirement already satisfied: argon2-cffi>=21.1 in c:\\users\\apple\\anaconda3\\lib\\site-packages (from jupyter-server<3,>=2.4.0->notebook->jupyter>=0.0->ISLP) (21.3.0)\n",
      "Requirement already satisfied: jupyter-events>=0.9.0 in c:\\users\\apple\\anaconda3\\lib\\site-packages (from jupyter-server<3,>=2.4.0->notebook->jupyter>=0.0->ISLP) (0.10.0)\n",
      "Requirement already satisfied: jupyter-server-terminals>=0.4.4 in c:\\users\\apple\\anaconda3\\lib\\site-packages (from jupyter-server<3,>=2.4.0->notebook->jupyter>=0.0->ISLP) (0.4.4)\n",
      "Requirement already satisfied: overrides>=5.0 in c:\\users\\apple\\anaconda3\\lib\\site-packages (from jupyter-server<3,>=2.4.0->notebook->jupyter>=0.0->ISLP) (7.4.0)\n",
      "Requirement already satisfied: prometheus-client>=0.9 in c:\\users\\apple\\anaconda3\\lib\\site-packages (from jupyter-server<3,>=2.4.0->notebook->jupyter>=0.0->ISLP) (0.14.1)\n",
      "Requirement already satisfied: pywinpty>=2.0.1 in c:\\users\\apple\\anaconda3\\lib\\site-packages (from jupyter-server<3,>=2.4.0->notebook->jupyter>=0.0->ISLP) (2.0.10)\n",
      "Requirement already satisfied: send2trash>=1.8.2 in c:\\users\\apple\\anaconda3\\lib\\site-packages (from jupyter-server<3,>=2.4.0->notebook->jupyter>=0.0->ISLP) (1.8.2)\n",
      "Requirement already satisfied: terminado>=0.8.3 in c:\\users\\apple\\anaconda3\\lib\\site-packages (from jupyter-server<3,>=2.4.0->notebook->jupyter>=0.0->ISLP) (0.17.1)\n",
      "Requirement already satisfied: websocket-client>=1.7 in c:\\users\\apple\\anaconda3\\lib\\site-packages (from jupyter-server<3,>=2.4.0->notebook->jupyter>=0.0->ISLP) (1.8.0)\n",
      "Requirement already satisfied: async-lru>=1.0.0 in c:\\users\\apple\\anaconda3\\lib\\site-packages (from jupyterlab<4.1,>=4.0.2->notebook->jupyter>=0.0->ISLP) (2.0.4)\n",
      "Requirement already satisfied: jupyter-lsp>=2.0.0 in c:\\users\\apple\\anaconda3\\lib\\site-packages (from jupyterlab<4.1,>=4.0.2->notebook->jupyter>=0.0->ISLP) (2.2.0)\n",
      "Requirement already satisfied: tomli in c:\\users\\apple\\anaconda3\\lib\\site-packages (from jupyterlab<4.1,>=4.0.2->notebook->jupyter>=0.0->ISLP) (2.0.1)\n",
      "Requirement already satisfied: babel>=2.10 in c:\\users\\apple\\anaconda3\\lib\\site-packages (from jupyterlab-server<3,>=2.22.1->notebook->jupyter>=0.0->ISLP) (2.11.0)\n",
      "Requirement already satisfied: json5>=0.9.0 in c:\\users\\apple\\anaconda3\\lib\\site-packages (from jupyterlab-server<3,>=2.22.1->notebook->jupyter>=0.0->ISLP) (0.9.6)\n",
      "Requirement already satisfied: jsonschema>=4.18.0 in c:\\users\\apple\\anaconda3\\lib\\site-packages (from jupyterlab-server<3,>=2.22.1->notebook->jupyter>=0.0->ISLP) (4.19.2)\n",
      "Requirement already satisfied: requests>=2.31 in c:\\users\\apple\\anaconda3\\lib\\site-packages (from jupyterlab-server<3,>=2.22.1->notebook->jupyter>=0.0->ISLP) (2.32.2)\n",
      "Requirement already satisfied: fastjsonschema in c:\\users\\apple\\anaconda3\\lib\\site-packages (from nbformat>=5.7->nbconvert->jupyter>=0.0->ISLP) (2.16.2)\n",
      "Requirement already satisfied: wcwidth in c:\\users\\apple\\anaconda3\\lib\\site-packages (from prompt-toolkit>=3.0.30->jupyter-console->jupyter>=0.0->ISLP) (0.2.5)\n",
      "Requirement already satisfied: soupsieve>1.2 in c:\\users\\apple\\anaconda3\\lib\\site-packages (from beautifulsoup4->nbconvert->jupyter>=0.0->ISLP) (2.5)\n",
      "Requirement already satisfied: idna>=2.8 in c:\\users\\apple\\anaconda3\\lib\\site-packages (from anyio>=3.1.0->jupyter-server<3,>=2.4.0->notebook->jupyter>=0.0->ISLP) (3.7)\n",
      "Requirement already satisfied: sniffio>=1.1 in c:\\users\\apple\\anaconda3\\lib\\site-packages (from anyio>=3.1.0->jupyter-server<3,>=2.4.0->notebook->jupyter>=0.0->ISLP) (1.3.0)\n",
      "Requirement already satisfied: argon2-cffi-bindings in c:\\users\\apple\\anaconda3\\lib\\site-packages (from argon2-cffi>=21.1->jupyter-server<3,>=2.4.0->notebook->jupyter>=0.0->ISLP) (21.2.0)\n",
      "Requirement already satisfied: parso<0.9.0,>=0.8.0 in c:\\users\\apple\\anaconda3\\lib\\site-packages (from jedi>=0.16->ipython>=7.23.1->ipykernel->jupyter>=0.0->ISLP) (0.8.3)\n",
      "Requirement already satisfied: attrs>=22.2.0 in c:\\users\\apple\\anaconda3\\lib\\site-packages (from jsonschema>=4.18.0->jupyterlab-server<3,>=2.22.1->notebook->jupyter>=0.0->ISLP) (23.1.0)\n",
      "Requirement already satisfied: jsonschema-specifications>=2023.03.6 in c:\\users\\apple\\anaconda3\\lib\\site-packages (from jsonschema>=4.18.0->jupyterlab-server<3,>=2.22.1->notebook->jupyter>=0.0->ISLP) (2023.7.1)\n",
      "Requirement already satisfied: referencing>=0.28.4 in c:\\users\\apple\\anaconda3\\lib\\site-packages (from jsonschema>=4.18.0->jupyterlab-server<3,>=2.22.1->notebook->jupyter>=0.0->ISLP) (0.30.2)\n",
      "Requirement already satisfied: rpds-py>=0.7.1 in c:\\users\\apple\\anaconda3\\lib\\site-packages (from jsonschema>=4.18.0->jupyterlab-server<3,>=2.22.1->notebook->jupyter>=0.0->ISLP) (0.10.6)\n",
      "Requirement already satisfied: python-json-logger>=2.0.4 in c:\\users\\apple\\anaconda3\\lib\\site-packages (from jupyter-events>=0.9.0->jupyter-server<3,>=2.4.0->notebook->jupyter>=0.0->ISLP) (2.0.7)\n",
      "Requirement already satisfied: pyyaml>=5.3 in c:\\users\\apple\\anaconda3\\lib\\site-packages (from jupyter-events>=0.9.0->jupyter-server<3,>=2.4.0->notebook->jupyter>=0.0->ISLP) (6.0.1)\n",
      "Requirement already satisfied: rfc3339-validator in c:\\users\\apple\\anaconda3\\lib\\site-packages (from jupyter-events>=0.9.0->jupyter-server<3,>=2.4.0->notebook->jupyter>=0.0->ISLP) (0.1.4)\n",
      "Requirement already satisfied: rfc3986-validator>=0.1.1 in c:\\users\\apple\\anaconda3\\lib\\site-packages (from jupyter-events>=0.9.0->jupyter-server<3,>=2.4.0->notebook->jupyter>=0.0->ISLP) (0.1.1)\n",
      "Requirement already satisfied: charset-normalizer<4,>=2 in c:\\users\\apple\\anaconda3\\lib\\site-packages (from requests>=2.31->jupyterlab-server<3,>=2.22.1->notebook->jupyter>=0.0->ISLP) (2.0.4)\n",
      "Requirement already satisfied: urllib3<3,>=1.21.1 in c:\\users\\apple\\anaconda3\\lib\\site-packages (from requests>=2.31->jupyterlab-server<3,>=2.22.1->notebook->jupyter>=0.0->ISLP) (1.26.19)\n",
      "Requirement already satisfied: certifi>=2017.4.17 in c:\\users\\apple\\anaconda3\\lib\\site-packages (from requests>=2.31->jupyterlab-server<3,>=2.22.1->notebook->jupyter>=0.0->ISLP) (2024.6.2)\n",
      "Requirement already satisfied: executing in c:\\users\\apple\\anaconda3\\lib\\site-packages (from stack-data->ipython>=7.23.1->ipykernel->jupyter>=0.0->ISLP) (0.8.3)\n",
      "Requirement already satisfied: asttokens in c:\\users\\apple\\anaconda3\\lib\\site-packages (from stack-data->ipython>=7.23.1->ipykernel->jupyter>=0.0->ISLP) (2.0.5)\n",
      "Requirement already satisfied: pure-eval in c:\\users\\apple\\anaconda3\\lib\\site-packages (from stack-data->ipython>=7.23.1->ipykernel->jupyter>=0.0->ISLP) (0.2.2)\n",
      "Requirement already satisfied: fqdn in c:\\users\\apple\\anaconda3\\lib\\site-packages (from jsonschema[format-nongpl]>=4.18.0->jupyter-events>=0.9.0->jupyter-server<3,>=2.4.0->notebook->jupyter>=0.0->ISLP) (1.5.1)\n",
      "Requirement already satisfied: isoduration in c:\\users\\apple\\anaconda3\\lib\\site-packages (from jsonschema[format-nongpl]>=4.18.0->jupyter-events>=0.9.0->jupyter-server<3,>=2.4.0->notebook->jupyter>=0.0->ISLP) (20.11.0)\n",
      "Requirement already satisfied: jsonpointer>1.13 in c:\\users\\apple\\anaconda3\\lib\\site-packages (from jsonschema[format-nongpl]>=4.18.0->jupyter-events>=0.9.0->jupyter-server<3,>=2.4.0->notebook->jupyter>=0.0->ISLP) (2.1)\n",
      "Requirement already satisfied: uri-template in c:\\users\\apple\\anaconda3\\lib\\site-packages (from jsonschema[format-nongpl]>=4.18.0->jupyter-events>=0.9.0->jupyter-server<3,>=2.4.0->notebook->jupyter>=0.0->ISLP) (1.3.0)\n",
      "Requirement already satisfied: webcolors>=1.11 in c:\\users\\apple\\anaconda3\\lib\\site-packages (from jsonschema[format-nongpl]>=4.18.0->jupyter-events>=0.9.0->jupyter-server<3,>=2.4.0->notebook->jupyter>=0.0->ISLP) (24.8.0)\n",
      "Requirement already satisfied: cffi>=1.0.1 in c:\\users\\apple\\anaconda3\\lib\\site-packages (from argon2-cffi-bindings->argon2-cffi>=21.1->jupyter-server<3,>=2.4.0->notebook->jupyter>=0.0->ISLP) (1.16.0)\n",
      "Requirement already satisfied: pycparser in c:\\users\\apple\\anaconda3\\lib\\site-packages (from cffi>=1.0.1->argon2-cffi-bindings->argon2-cffi>=21.1->jupyter-server<3,>=2.4.0->notebook->jupyter>=0.0->ISLP) (2.21)\n",
      "Requirement already satisfied: arrow>=0.15.0 in c:\\users\\apple\\anaconda3\\lib\\site-packages (from isoduration->jsonschema[format-nongpl]>=4.18.0->jupyter-events>=0.9.0->jupyter-server<3,>=2.4.0->notebook->jupyter>=0.0->ISLP) (1.2.3)\n"
     ]
    }
   ],
   "source": [
    "!pip install ISLP"
   ]
  },
  {
   "cell_type": "code",
   "execution_count": 46,
   "id": "6f421ca2-5fc6-4799-989a-b5495cdfac9c",
   "metadata": {},
   "outputs": [],
   "source": [
    "import numpy as np"
   ]
  },
  {
   "cell_type": "markdown",
   "id": "5402a680-a3da-4e00-acc2-98f81c5258c5",
   "metadata": {},
   "source": [
    "#### (a) Based on this data set, provide an estimate for the population mean of medv. Call this estimate $\\hat{µ}$."
   ]
  },
  {
   "cell_type": "code",
   "execution_count": 47,
   "id": "b2948340-5b0e-42a4-bf77-ea2ddd348c14",
   "metadata": {},
   "outputs": [
    {
     "name": "stdout",
     "output_type": "stream",
     "text": [
      "Estimated mean (mu_hat): 22.532806324110677\n"
     ]
    }
   ],
   "source": [
    "from ISLP import load_data\n",
    "\n",
    "df = load_data('Boston')\n",
    "mu_hat = df['medv'].mean()\n",
    "print(\"Estimated mean (mu_hat):\", mu_hat)"
   ]
  },
  {
   "cell_type": "markdown",
   "id": "31907cdb-a4ac-46db-8893-f585e11d3422",
   "metadata": {},
   "source": [
    "#### (b) Provide an estimate of the standard error of $\\hat{µ}$. Interpret this result. \n",
    "*Hint: We can compute the standard error of the sample mean by dividing the sample standard deviation by the square root of the number of observations.*"
   ]
  },
  {
   "cell_type": "code",
   "execution_count": 48,
   "id": "c1ee90cf-7fbf-4a74-8380-ff31c9bef475",
   "metadata": {},
   "outputs": [
    {
     "name": "stdout",
     "output_type": "stream",
     "text": [
      "Standard error of mu_hat: 0.4088611474975351\n"
     ]
    }
   ],
   "source": [
    "std_error = df['medv'].std() / np.sqrt(len(df['medv']))\n",
    "print(\"Standard error of mu_hat:\", std_error)"
   ]
  },
  {
   "cell_type": "markdown",
   "id": "47eb4c3d-635d-4e34-b825-d3503b97e3c0",
   "metadata": {},
   "source": [
    "The standard error provides a measure of the variability of the sample mean estimate. Smaller values indicate that the sample mean is more precise, while larger values suggest that the sample mean is more uncertain."
   ]
  },
  {
   "cell_type": "markdown",
   "id": "b0fad298-446e-4087-b7c3-16b71d96436c",
   "metadata": {},
   "source": [
    "#### (c) Now estimate the standard error of $\\hat{µ}$ using the bootstrap. How does this compare to your answer from (b)?"
   ]
  },
  {
   "cell_type": "code",
   "execution_count": 56,
   "id": "f82fa2e2-c7ed-4283-9875-168b664500df",
   "metadata": {},
   "outputs": [
    {
     "name": "stdout",
     "output_type": "stream",
     "text": [
      "Bootstrap standard error of the mean (SE(mu) bootstrap): 0.41133516590580477\n"
     ]
    }
   ],
   "source": [
    "# Set the number of bootstrap iterations\n",
    "n_bootstrap = 10000\n",
    "bootstrap_means = []\n",
    "\n",
    "# Perform bootstrap resampling\n",
    "for i in range(n_bootstrap):\n",
    "    bootstrap_sample = df['medv'].sample(n=len(df), replace=True)\n",
    "    bootstrap_means.append(bootstrap_sample.mean())\n",
    "\n",
    "# Estimate the standard error from the bootstrap sample means\n",
    "se_mu_bootstrap = np.std(bootstrap_means)\n",
    "print(f\"Bootstrap standard error of the mean (SE(mu) bootstrap): {se_mu_bootstrap}\")"
   ]
  },
  {
   "cell_type": "markdown",
   "id": "d4491ce9-227b-4873-b6ca-b435ae064492",
   "metadata": {},
   "source": [
    "Ideally, they should be fairly close, as the bootstrap estimate is an empirical approach to estimate the variability of the sample mean."
   ]
  },
  {
   "cell_type": "markdown",
   "id": "e8eac116-8838-40a5-a486-ef9c05e589c5",
   "metadata": {},
   "source": [
    "#### (d) Based on your bootstrap estimate from (c), provide a 95 % confidence interval for the mean of medv. Compare it to the results obtained by using Boston['medv'].std( ) and the two standard error rule (3.9).\n",
    "*Hint: You can approximate a 95 % confidence interval using the formula $[ \\hat{µ}−2SE(\\hat{µ}), \\hat{µ}+2SE(\\hat{µ})]$.*"
   ]
  },
  {
   "cell_type": "code",
   "execution_count": 50,
   "id": "29c3098f-80e3-4156-8c77-edf732cbbbb8",
   "metadata": {},
   "outputs": [
    {
     "name": "stdout",
     "output_type": "stream",
     "text": [
      "95% Confidence interval for the mean of medv: [21.71802068247179, 23.347591965749565]\n"
     ]
    }
   ],
   "source": [
    "# 95% Confidence interval using the bootstrap standard error\n",
    "ci_lower = mu_hat - 2 * se_mu_bootstrap\n",
    "ci_upper = mu_hat + 2 * se_mu_bootstrap\n",
    "print(f\"95% Confidence interval for the mean of medv: [{ci_lower}, {ci_upper}]\")"
   ]
  },
  {
   "cell_type": "markdown",
   "id": "89409a8f-379d-4cae-aeef-9e0ac5c95ac1",
   "metadata": {},
   "source": [
    "#### (e) Based on this data set, provide an estimate, *$\\hat{µ}_{med}$*, for the median value of medv in the population."
   ]
  },
  {
   "cell_type": "code",
   "execution_count": 51,
   "id": "b94fc353-3e81-42ed-a11d-567911f5f43a",
   "metadata": {},
   "outputs": [
    {
     "name": "stdout",
     "output_type": "stream",
     "text": [
      "Estimated median (mu-med): 21.2\n"
     ]
    }
   ],
   "source": [
    "mu_med_hat = df['medv'].median()\n",
    "print(f\"Estimated median (mu-med): {mu_med_hat}\")"
   ]
  },
  {
   "cell_type": "markdown",
   "id": "39d9f330-0114-4286-80ea-7b77c31c5523",
   "metadata": {},
   "source": [
    "#### (f) We now would like to estimate the standard error of *$\\hat{µ}_{med}$*. Unfortunately, there is no simple formula for computing the standard error of the median. Instead, estimate the standard error of the median using the bootstrap. Comment on your findings."
   ]
  },
  {
   "cell_type": "code",
   "execution_count": 57,
   "id": "d9b42acb-cf9e-480f-baa5-a72f9ed95766",
   "metadata": {},
   "outputs": [
    {
     "name": "stdout",
     "output_type": "stream",
     "text": [
      "Bootstrap standard error of the median (SE(mu_med) bootstrap): 0.38171164496252896\n"
     ]
    }
   ],
   "source": [
    "# Bootstrap for the median\n",
    "bootstrap_medians = []\n",
    "\n",
    "for i in range(n_bootstrap):\n",
    "    bootstrap_sample = df['medv'].sample(n=len(df), replace=True)\n",
    "    bootstrap_medians.append(bootstrap_sample.median())\n",
    "\n",
    "# Estimate the standard error of the median from the bootstrap\n",
    "se_med_bootstrap = np.std(bootstrap_medians)\n",
    "print(f\"Bootstrap standard error of the median (SE(mu_med) bootstrap): {se_med_bootstrap}\")"
   ]
  },
  {
   "cell_type": "markdown",
   "id": "20c4d9ab-a769-444a-96e2-71bc3e05319c",
   "metadata": {},
   "source": [
    "**The standard error of the median can be quite large** compared to the mean because the median is less sensitive to extreme values. This is why we use resampling (bootstrap) to estimate the variability of the median."
   ]
  },
  {
   "cell_type": "markdown",
   "id": "2a6185c3-912f-4109-8123-ee0dc7060826",
   "metadata": {},
   "source": [
    "#### (g) Based on this data set, provide an estimate for the tenth percentile of medv in Boston census tracts. Call this quantity $\\hat{µ}_{0.1}$. (You can use the np.percentile( ) function.)"
   ]
  },
  {
   "cell_type": "code",
   "execution_count": 53,
   "id": "8e623129-7392-4d84-bc2c-c1133b92131a",
   "metadata": {},
   "outputs": [
    {
     "name": "stdout",
     "output_type": "stream",
     "text": [
      "Estimated 10th percentile (mu_0.1): 12.75\n"
     ]
    }
   ],
   "source": [
    "# Estimate for the 10th percentile of medv\n",
    "mu_0_1_hat = np.percentile(df['medv'], 10)\n",
    "print(f\"Estimated 10th percentile (mu_0.1): {mu_0_1_hat}\")"
   ]
  },
  {
   "cell_type": "markdown",
   "id": "79dd2d8a-ff20-43c2-aad3-83c011c54a67",
   "metadata": {},
   "source": [
    "#### (h) Use the bootstrap to estimate the standard error of $\\hat{µ}_{0.1}$. Comment your finding?"
   ]
  },
  {
   "cell_type": "code",
   "execution_count": 54,
   "id": "9914736b-a5c7-4c46-87ef-1be8158d142c",
   "metadata": {},
   "outputs": [
    {
     "name": "stdout",
     "output_type": "stream",
     "text": [
      "Bootstrap standard error of the 10th percentile (SE(mu_0.1) bootstrap): 0.5066999822133409\n"
     ]
    }
   ],
   "source": [
    "# Bootstrap for the 10th percentile\n",
    "bootstrap_0_1_percentiles = []\n",
    "\n",
    "for i in range(n_bootstrap):\n",
    "    bootstrap_sample = df['medv'].sample(n=len(df), replace=True)\n",
    "    bootstrap_0_1_percentiles.append(np.percentile(bootstrap_sample, 10))\n",
    "\n",
    "# Estimate the standard error of the 10th percentile from the bootstrap\n",
    "se_0_1_bootstrap = np.std(bootstrap_0_1_percentiles)\n",
    "print(f\"Bootstrap standard error of the 10th percentile (SE(mu_0.1) bootstrap): {se_0_1_bootstrap}\")"
   ]
  },
  {
   "cell_type": "markdown",
   "id": "68164166-23f5-422b-a7ac-70282feb5ca8",
   "metadata": {},
   "source": [
    "Just like with the median, the standard error of percentiles can vary more widely depending on the shape of the distribution. The bootstrap method allows us to estimate this variability."
   ]
  }
 ],
 "metadata": {
  "kernelspec": {
   "display_name": "Python 3 (ipykernel)",
   "language": "python",
   "name": "python3"
  },
  "language_info": {
   "codemirror_mode": {
    "name": "ipython",
    "version": 3
   },
   "file_extension": ".py",
   "mimetype": "text/x-python",
   "name": "python",
   "nbconvert_exporter": "python",
   "pygments_lexer": "ipython3",
   "version": "3.9.19"
  }
 },
 "nbformat": 4,
 "nbformat_minor": 5
}
