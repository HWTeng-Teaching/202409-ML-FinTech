{
 "cells": [
  {
   "cell_type": "code",
   "execution_count": 5,
   "id": "23899a38-b6b6-43a8-aee3-5f74f76c26c7",
   "metadata": {},
   "outputs": [
    {
     "name": "stdout",
     "output_type": "stream",
     "text": [
      "   Unnamed: 0     crim    zn  indus  chas    nox     rm   age     dis  rad  \\\n",
      "0           1  0.00632  18.0   2.31     0  0.538  6.575  65.2  4.0900    1   \n",
      "1           2  0.02731   0.0   7.07     0  0.469  6.421  78.9  4.9671    2   \n",
      "2           3  0.02729   0.0   7.07     0  0.469  7.185  61.1  4.9671    2   \n",
      "3           4  0.03237   0.0   2.18     0  0.458  6.998  45.8  6.0622    3   \n",
      "4           5  0.06905   0.0   2.18     0  0.458  7.147  54.2  6.0622    3   \n",
      "\n",
      "   tax  ptratio   black  lstat  medv  \n",
      "0  296     15.3  396.90   4.98  24.0  \n",
      "1  242     17.8  396.90   9.14  21.6  \n",
      "2  242     17.8  392.83   4.03  34.7  \n",
      "3  222     18.7  394.63   2.94  33.4  \n",
      "4  222     18.7  396.90   5.33  36.2  \n"
     ]
    }
   ],
   "source": [
    "# Import necessary libraries\n",
    "import pandas as pd\n",
    "\n",
    "# Specify the file location (you can update this with your file path)\n",
    "file_location = 'D:/Master Degree at NYCU/1. Slides and Homeworks/Spring_2024/1. FinTech/JN/Boston.csv'  # Change this to the actual file location\n",
    "\n",
    "# Load the dataset from the specified file\n",
    "data = pd.read_csv(file_location)\n",
    "\n",
    "# View the first few rows of the dataset\n",
    "print(data.head())\n"
   ]
  },
  {
   "cell_type": "code",
   "execution_count": 6,
   "id": "361838e6-fd68-48fc-87da-7189579d86fc",
   "metadata": {},
   "outputs": [
    {
     "name": "stdout",
     "output_type": "stream",
     "text": [
      "Estimated population mean (µ̂) of 'medv': 22.532806324110677\n"
     ]
    }
   ],
   "source": [
    "# Assuming 'data' is the loaded DataFrame and 'medv' is a column in the dataset\n",
    "\n",
    "# Estimate the population mean of 'medv'\n",
    "mu_hat = data['medv'].mean()\n",
    "\n",
    "# Print the estimate for the population mean of 'medv'\n",
    "print(f\"Estimated population mean (µ̂) of 'medv': {mu_hat}\")\n"
   ]
  },
  {
   "cell_type": "code",
   "execution_count": 7,
   "id": "0264c33a-5aa4-408c-b0ce-207620d5b736",
   "metadata": {},
   "outputs": [
    {
     "name": "stdout",
     "output_type": "stream",
     "text": [
      "Estimated standard error of the sample mean (SE(µ̂)): 0.40886114749753505\n"
     ]
    }
   ],
   "source": [
    "# Calculate the sample standard deviation of 'medv'\n",
    "std_dev = data['medv'].std()\n",
    "\n",
    "# Calculate the number of observations in the dataset\n",
    "n = len(data)\n",
    "\n",
    "# Calculate the standard error of the sample mean\n",
    "se_mu_hat = std_dev / (n ** 0.5)\n",
    "\n",
    "# Print the result\n",
    "print(f\"Estimated standard error of the sample mean (SE(µ̂)): {se_mu_hat}\")\n"
   ]
  },
  {
   "cell_type": "code",
   "execution_count": 8,
   "id": "4886b6de-7704-4c91-a687-d121b7f55a0a",
   "metadata": {},
   "outputs": [
    {
     "name": "stdout",
     "output_type": "stream",
     "text": [
      "Bootstrap estimate of the standard error of µ̂: 0.40417169000899344\n"
     ]
    }
   ],
   "source": [
    "import numpy as np\n",
    "\n",
    "# Set the number of bootstrap iterations\n",
    "n_iterations = 1000\n",
    "\n",
    "# List to store the sample means of each bootstrap sample\n",
    "bootstrap_means = []\n",
    "\n",
    "# Perform bootstrap sampling\n",
    "for _ in range(n_iterations):\n",
    "    # Randomly sample with replacement from the data\n",
    "    bootstrap_sample = data['medv'].sample(frac=1, replace=True)\n",
    "    \n",
    "    # Calculate the mean of the bootstrap sample and append it to the list\n",
    "    bootstrap_means.append(bootstrap_sample.mean())\n",
    "\n",
    "# Convert the list of bootstrap sample means into a numpy array\n",
    "bootstrap_means = np.array(bootstrap_means)\n",
    "\n",
    "# Calculate the standard error of the bootstrap sample means\n",
    "bootstrap_se = bootstrap_means.std()\n",
    "\n",
    "# Print the bootstrap standard error\n",
    "print(f\"Bootstrap estimate of the standard error of µ̂: {bootstrap_se}\")\n"
   ]
  },
  {
   "cell_type": "code",
   "execution_count": 9,
   "id": "fd4219a9-540a-4fb2-9062-3e4882679116",
   "metadata": {},
   "outputs": [
    {
     "name": "stdout",
     "output_type": "stream",
     "text": [
      "95% Confidence Interval (Bootstrap): [21.72446294409269, 23.341149704128664]\n"
     ]
    }
   ],
   "source": [
    "# Calculate the 95% confidence interval using the bootstrap standard error\n",
    "confidence_interval_bootstrap = [mu_hat - 2 * bootstrap_se, mu_hat + 2 * bootstrap_se]\n",
    "\n",
    "# Print the 95% confidence interval based on bootstrap\n",
    "print(f\"95% Confidence Interval (Bootstrap): {confidence_interval_bootstrap}\")\n"
   ]
  },
  {
   "cell_type": "code",
   "execution_count": 10,
   "id": "066c0811-6655-4fe6-a762-f00f7444f234",
   "metadata": {},
   "outputs": [
    {
     "name": "stdout",
     "output_type": "stream",
     "text": [
      "Estimated population median (µ̂_med) of 'medv': 21.2\n"
     ]
    }
   ],
   "source": [
    "# Estimate the population median of 'medv'\n",
    "mu_med_hat = data['medv'].median()\n",
    "\n",
    "# Print the estimated population median\n",
    "print(f\"Estimated population median (µ̂_med) of 'medv': {mu_med_hat}\")\n"
   ]
  },
  {
   "cell_type": "code",
   "execution_count": 11,
   "id": "7882fd37-b796-4909-93f8-5413b91e1ceb",
   "metadata": {},
   "outputs": [
    {
     "name": "stdout",
     "output_type": "stream",
     "text": [
      "Bootstrap estimate of the standard error of µ̂_med: 0.38099829067858\n"
     ]
    }
   ],
   "source": [
    "import numpy as np\n",
    "\n",
    "# Define the number of bootstrap resamples\n",
    "n_bootstrap = 1000\n",
    "\n",
    "# Initialize an array to store bootstrap medians\n",
    "bootstrap_medians = np.zeros(n_bootstrap)\n",
    "\n",
    "# Perform bootstrap resampling\n",
    "for i in range(n_bootstrap):\n",
    "    # Create a bootstrap sample by resampling the data with replacement\n",
    "    bootstrap_sample = data['medv'].sample(n=len(data), replace=True)\n",
    "    \n",
    "    # Calculate the median for the bootstrap sample\n",
    "    bootstrap_medians[i] = bootstrap_sample.median()\n",
    "\n",
    "# Estimate the standard error of the median\n",
    "se_median_bootstrap = np.std(bootstrap_medians)\n",
    "\n",
    "# Print the estimated standard error of the median\n",
    "print(f\"Bootstrap estimate of the standard error of µ̂_med: {se_median_bootstrap}\")\n"
   ]
  },
  {
   "cell_type": "code",
   "execution_count": 12,
   "id": "b7c64431-7a8f-402c-a6a4-3f703946e3c8",
   "metadata": {},
   "outputs": [
    {
     "name": "stdout",
     "output_type": "stream",
     "text": [
      "Estimated 10th percentile (µ̂₀.₁) of 'medv': 12.75\n"
     ]
    }
   ],
   "source": [
    "import numpy as np\n",
    "\n",
    "# Estimate the 10th percentile of 'medv' using np.percentile\n",
    "mu_0_1_hat = np.percentile(data['medv'], 10)\n",
    "\n",
    "# Print the estimated 10th percentile\n",
    "print(f\"Estimated 10th percentile (µ̂₀.₁) of 'medv': {mu_0_1_hat}\")\n"
   ]
  },
  {
   "cell_type": "code",
   "execution_count": 13,
   "id": "c5d11ad3-e18a-4111-9402-f97c557e89c7",
   "metadata": {},
   "outputs": [
    {
     "name": "stdout",
     "output_type": "stream",
     "text": [
      "Bootstrap estimate of the standard error of µ̂₀.₁: 0.5019224641316624\n"
     ]
    }
   ],
   "source": [
    "import numpy as np\n",
    "\n",
    "# Number of bootstrap resamples\n",
    "n_bootstrap = 1000\n",
    "\n",
    "# Initialize an empty list to store bootstrap estimates of the 10th percentile\n",
    "bootstrap_percentiles = []\n",
    "\n",
    "# Perform bootstrap resampling\n",
    "for _ in range(n_bootstrap):\n",
    "    # Resample with replacement from the data\n",
    "    bootstrap_sample = np.random.choice(data['medv'], size=len(data), replace=True)\n",
    "    \n",
    "    # Compute the 10th percentile of the resampled data\n",
    "    bootstrap_percentile = np.percentile(bootstrap_sample, 10)\n",
    "    \n",
    "    # Store the result\n",
    "    bootstrap_percentiles.append(bootstrap_percentile)\n",
    "\n",
    "# Convert the list of bootstrap percentiles into a numpy array for easier analysis\n",
    "bootstrap_percentiles = np.array(bootstrap_percentiles)\n",
    "\n",
    "# Estimate the standard error of the 10th percentile\n",
    "se_mu_0_1 = np.std(bootstrap_percentiles)\n",
    "\n",
    "# Print the estimated standard error\n",
    "print(f\"Bootstrap estimate of the standard error of µ̂₀.₁: {se_mu_0_1}\")\n"
   ]
  },
  {
   "cell_type": "code",
   "execution_count": null,
   "id": "97f8652e-7e4d-43bd-962b-f8cb6e9052d2",
   "metadata": {},
   "outputs": [],
   "source": []
  }
 ],
 "metadata": {
  "kernelspec": {
   "display_name": "Python 3 (ipykernel)",
   "language": "python",
   "name": "python3"
  },
  "language_info": {
   "codemirror_mode": {
    "name": "ipython",
    "version": 3
   },
   "file_extension": ".py",
   "mimetype": "text/x-python",
   "name": "python",
   "nbconvert_exporter": "python",
   "pygments_lexer": "ipython3",
   "version": "3.12.6"
  }
 },
 "nbformat": 4,
 "nbformat_minor": 5
}
