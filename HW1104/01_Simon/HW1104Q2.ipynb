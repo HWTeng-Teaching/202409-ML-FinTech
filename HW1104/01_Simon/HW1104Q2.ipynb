{
  "nbformat": 4,
  "nbformat_minor": 0,
  "metadata": {
    "colab": {
      "provenance": []
    },
    "kernelspec": {
      "name": "python3",
      "display_name": "Python 3"
    },
    "language_info": {
      "name": "python"
    }
  },
  "cells": [
    {
      "cell_type": "markdown",
      "source": [
        "8. We will now perform cross-validation on a simulated data set."
      ],
      "metadata": {
        "id": "17PQuG_193GR"
      }
    },
    {
      "cell_type": "markdown",
      "source": [
        "(a) Generate a simulated data set as follows:"
      ],
      "metadata": {
        "id": "7U7glfQf96oF"
      }
    },
    {
      "cell_type": "code",
      "execution_count": 5,
      "metadata": {
        "id": "gHQgq0iW9x9P"
      },
      "outputs": [],
      "source": [
        "import numpy as np\n",
        "rng = np.random.default_rng(seed=1)\n",
        "x = rng.normal(size=100)\n",
        "y = x - 2 * x**2 + rng.normal(size=100)"
      ]
    },
    {
      "cell_type": "markdown",
      "source": [
        "In this data set, what is n and what is p? Write out the model\n",
        "used to generate the data in equation form."
      ],
      "metadata": {
        "id": "wxBmu9Ah-Hh7"
      }
    },
    {
      "cell_type": "markdown",
      "source": [
        "n = 100\n",
        "\n",
        "p = 1\n",
        "\n",
        "Y = X - 2X² + ε"
      ],
      "metadata": {
        "id": "JO0LrQzo-puk"
      }
    },
    {
      "cell_type": "markdown",
      "source": [
        "(b) Create a scatterplot of X against Y . Comment on what you find."
      ],
      "metadata": {
        "id": "4iYo4uZ9BmUi"
      }
    },
    {
      "cell_type": "code",
      "source": [
        "import matplotlib.pyplot as plt\n",
        "\n",
        "plt.scatter(x, y)\n",
        "plt.xlabel(\"X\")\n",
        "plt.ylabel(\"Y\")\n",
        "plt.title(\"Scatterplot of X against Y\")\n",
        "plt.show()"
      ],
      "metadata": {
        "colab": {
          "base_uri": "https://localhost:8080/",
          "height": 472
        },
        "id": "kgEH7WRaBpLW",
        "outputId": "d35820a9-74b6-4431-ad1e-11977b5a70e4"
      },
      "execution_count": 6,
      "outputs": [
        {
          "output_type": "display_data",
          "data": {
            "text/plain": [
              "<Figure size 640x480 with 1 Axes>"
            ],
            "image/png": "[encoded data removed]"
          },
          "metadata": {}
        }
      ]
    },
    {
      "cell_type": "markdown",
      "source": [
        "The data follows a parabolic or inverted \"U\" shape. This suggests a quadratic relationship between\n",
        "𝑋\n",
        " and\n",
        "𝑌\n",
        ", which aligns well with the fact that\n",
        "𝑌\n",
        " was generated using a quadratic function of\n",
        "𝑋."
      ],
      "metadata": {
        "id": "dDtKVx25BtnM"
      }
    },
    {
      "cell_type": "markdown",
      "source": [
        "(c) Set a random seed, and then compute the LOOCV errors that\n",
        "result from fitting the following four models using least squares:\n",
        "\n",
        "i. $Y = \\beta_0 + \\beta_1X + \\epsilon$\n",
        "\n",
        "ii. $Y = \\beta_0 + \\beta_1X + \\beta_2X_2 +\\epsilon$\n",
        "\n",
        "iii. $Y = \\beta_0 + \\beta_1X + \\beta_2X_2 + \\beta_3X_3 + \\epsilon$\n",
        "\n",
        "iv. $Y = \\beta_0 + \\beta_1X + \\beta_2X_2 + \\beta_3X_3 + \\beta_4X_4 + \\epsilon$\n",
        "\n",
        "Note you may find it helpful to use the data.frame() function\n",
        "to create a single data set containing both X and Y ."
      ],
      "metadata": {
        "id": "wYGDInIFBt50"
      }
    },
    {
      "cell_type": "code",
      "source": [
        "import numpy as np\n",
        "import pandas as pd\n",
        "from sklearn.model_selection import train_test_split, LeaveOneOut\n",
        "from sklearn.linear_model import LinearRegression\n",
        "from sklearn.preprocessing import PolynomialFeatures\n",
        "from sklearn.metrics import mean_squared_error\n",
        "\n",
        "# Create a DataFrame for easy manipulation\n",
        "data = pd.DataFrame({'X': x, 'Y': y})\n",
        "\n",
        "# Split the data into training and validation sets\n",
        "train_data, val_data = train_test_split(data, test_size=0.2, random_state=42)\n",
        "\n",
        "# Define the function to calculate LOOCV error\n",
        "def loocv_error(data, degree):\n",
        "    loo = LeaveOneOut()\n",
        "    errors = []\n",
        "\n",
        "    for train_index, test_index in loo.split(data):\n",
        "        train, test = data.iloc[train_index], data.iloc[test_index]\n",
        "        X_train, y_train = train[['X']], train['Y']\n",
        "        X_test, y_test = test[['X']], test['Y']\n",
        "\n",
        "        # Apply polynomial features\n",
        "        poly = PolynomialFeatures(degree)\n",
        "        X_train_poly = poly.fit_transform(X_train)\n",
        "        X_test_poly = poly.transform(X_test)\n",
        "\n",
        "        # Fit the model and make predictions\n",
        "        model = LinearRegression()\n",
        "        model.fit(X_train_poly, y_train)\n",
        "        y_pred = model.predict(X_test_poly)\n",
        "\n",
        "        # Calculate the squared error\n",
        "        errors.append((y_test - y_pred) ** 2)\n",
        "\n",
        "    # Return the average LOOCV error\n",
        "    return np.mean(errors)\n",
        "\n",
        "# Calculate the LOOCV errors for each model\n",
        "loocv_errors = {}\n",
        "for degree in range(1, 5):\n",
        "    loocv_errors[f'Model_{degree}'] = loocv_error(train_data, degree)\n",
        "\n",
        "# Display the LOOCV errors\n",
        "loocv_errors\n"
      ],
      "metadata": {
        "colab": {
          "base_uri": "https://localhost:8080/"
        },
        "id": "aCJwn_go0KtD",
        "outputId": "3d315ddf-9308-45aa-b82f-1b1f4bcc8a3f"
      },
      "execution_count": 7,
      "outputs": [
        {
          "output_type": "execute_result",
          "data": {
            "text/plain": [
              "{'Model_1': 4.103095571069062,\n",
              " 'Model_2': 1.20420144972864,\n",
              " 'Model_3': 1.33906820264938,\n",
              " 'Model_4': 1.156666680721897}"
            ]
          },
          "metadata": {},
          "execution_count": 7
        }
      ]
    },
    {
      "cell_type": "markdown",
      "source": [
        "(d) Repeat (c) using another random seed, and report your\n",
        "results.\n",
        "Are your results the same as what you got in (c)? Why?"
      ],
      "metadata": {
        "id": "nl7rlruEFp-9"
      }
    },
    {
      "cell_type": "code",
      "source": [
        "# Change the random seed for the train-test split\n",
        "train_data, val_data = train_test_split(data, test_size=0.2, random_state=123)\n",
        "\n",
        "# Calculate the LOOCV errors for each model with the new split\n",
        "loocv_errors_new_seed = {}\n",
        "for degree in range(1, 5):\n",
        "    loocv_errors_new_seed[f'Model_{degree}'] = loocv_error(train_data, degree)\n",
        "\n",
        "# Display the LOOCV errors with the new seed\n",
        "loocv_errors_new_seed\n"
      ],
      "metadata": {
        "colab": {
          "base_uri": "https://localhost:8080/"
        },
        "id": "I9C5dgKfMCiB",
        "outputId": "f018aa9c-daf8-4e54-baac-a6d78ebbd003"
      },
      "execution_count": 8,
      "outputs": [
        {
          "output_type": "execute_result",
          "data": {
            "text/plain": [
              "{'Model_1': 6.565081023748173,\n",
              " 'Model_2': 1.032447425372657,\n",
              " 'Model_3': 0.9844776862946365,\n",
              " 'Model_4': 1.0153060487922445}"
            ]
          },
          "metadata": {},
          "execution_count": 8
        }
      ]
    },
    {
      "cell_type": "markdown",
      "source": [
        "Model_3 now yields the smallest LOOCV error (0.9844776862946365). The results are different.The random seed affects the generated data (x and y). Different data leads to different fits for the models and different LOOCV errors."
      ],
      "metadata": {
        "id": "_ZiDgdSoMLoU"
      }
    },
    {
      "cell_type": "markdown",
      "source": [
        "(e) Which of the models in (c) had the smallest LOOCV error? Is\n",
        "this what you expected? Explain your answer."
      ],
      "metadata": {
        "id": "idZAucfWFwLT"
      }
    },
    {
      "cell_type": "markdown",
      "source": [
        "Model_4 has the smallest  LOOCV error (1.156666680721897)."
      ],
      "metadata": {
        "id": "0CDHsGQoMcK6"
      }
    },
    {
      "cell_type": "markdown",
      "source": [
        "(f) Comment on the statistical significance of the coefficient estimates\n",
        "that results from fitting each of the models in (c) using\n",
        "least squares. Do these results agree with the conclusions drawn\n",
        "based on the cross-validation results?"
      ],
      "metadata": {
        "id": "MNL49xzdM177"
      }
    },
    {
      "cell_type": "code",
      "source": [
        "import statsmodels.api as sm\n",
        "from sklearn.preprocessing import PolynomialFeatures\n",
        "\n",
        "def fit_model_and_display_significance(data, degree):\n",
        "    # Generate polynomial features\n",
        "    poly = PolynomialFeatures(degree)\n",
        "    X_poly = poly.fit_transform(data[['X']])\n",
        "\n",
        "    # Add a constant term for the intercept\n",
        "    X_poly = sm.add_constant(X_poly)\n",
        "\n",
        "    # Fit the model using OLS\n",
        "    model = sm.OLS(data['Y'], X_poly).fit()\n",
        "\n",
        "    # Print the summary, which includes coefficients and their p-values\n",
        "    print(f\"Model with degree {degree}\")\n",
        "    print(model.summary())\n",
        "    print(\"\\n\" + \"=\"*80 + \"\\n\")\n",
        "\n",
        "for degree in range(1, 5):\n",
        "    fit_model_and_display_significance(data, degree)"
      ],
      "metadata": {
        "colab": {
          "base_uri": "https://localhost:8080/"
        },
        "id": "SXIFkPrZ5uwi",
        "outputId": "83468139-f8e4-4b24-ff91-6200e5bb07e2"
      },
      "execution_count": 9,
      "outputs": [
        {
          "output_type": "stream",
          "name": "stdout",
          "text": [
            "Model with degree 1\n",
            "                            OLS Regression Results                            \n",
            "==============================================================================\n",
            "Dep. Variable:                      Y   R-squared:                       0.318\n",
            "Model:                            OLS   Adj. R-squared:                  0.311\n",
            "Method:                 Least Squares   F-statistic:                     45.60\n",
            "Date:                Wed, 06 Nov 2024   Prob (F-statistic):           1.04e-09\n",
            "Time:                        09:56:57   Log-Likelihood:                -230.83\n",
            "No. Observations:                 100   AIC:                             465.7\n",
            "Df Residuals:                      98   BIC:                             470.9\n",
            "Df Model:                           1                                         \n",
            "Covariance Type:            nonrobust                                         \n",
            "==============================================================================\n",
            "                 coef    std err          t      P>|t|      [0.025      0.975]\n",
            "------------------------------------------------------------------------------\n",
            "const         -1.4650      0.247     -5.937      0.000      -1.955      -0.975\n",
            "x1             1.9494      0.289      6.752      0.000       1.376       2.522\n",
            "==============================================================================\n",
            "Omnibus:                       52.788   Durbin-Watson:                   1.972\n",
            "Prob(Omnibus):                  0.000   Jarque-Bera (JB):              149.089\n",
            "Skew:                          -1.953   Prob(JB):                     4.22e-33\n",
            "Kurtosis:                       7.530   Cond. No.                         1.20\n",
            "==============================================================================\n",
            "\n",
            "Notes:\n",
            "[1] Standard Errors assume that the covariance matrix of the errors is correctly specified.\n",
            "\n",
            "================================================================================\n",
            "\n",
            "Model with degree 2\n",
            "                            OLS Regression Results                            \n",
            "==============================================================================\n",
            "Dep. Variable:                      Y   R-squared:                       0.887\n",
            "Model:                            OLS   Adj. R-squared:                  0.884\n",
            "Method:                 Least Squares   F-statistic:                     379.5\n",
            "Date:                Wed, 06 Nov 2024   Prob (F-statistic):           1.36e-46\n",
            "Time:                        09:56:57   Log-Likelihood:                -141.06\n",
            "No. Observations:                 100   AIC:                             288.1\n",
            "Df Residuals:                      97   BIC:                             295.9\n",
            "Df Model:                           2                                         \n",
            "Covariance Type:            nonrobust                                         \n",
            "==============================================================================\n",
            "                 coef    std err          t      P>|t|      [0.025      0.975]\n",
            "------------------------------------------------------------------------------\n",
            "const         -0.0728      0.119     -0.611      0.543      -0.309       0.164\n",
            "x1             0.9663      0.126      7.647      0.000       0.715       1.217\n",
            "x2            -2.0047      0.091    -22.072      0.000      -2.185      -1.824\n",
            "==============================================================================\n",
            "Omnibus:                        1.338   Durbin-Watson:                   2.197\n",
            "Prob(Omnibus):                  0.512   Jarque-Bera (JB):                0.814\n",
            "Skew:                           0.119   Prob(JB):                        0.666\n",
            "Kurtosis:                       3.372   Cond. No.                         2.23\n",
            "==============================================================================\n",
            "\n",
            "Notes:\n",
            "[1] Standard Errors assume that the covariance matrix of the errors is correctly specified.\n",
            "\n",
            "================================================================================\n",
            "\n",
            "Model with degree 3\n",
            "                            OLS Regression Results                            \n",
            "==============================================================================\n",
            "Dep. Variable:                      Y   R-squared:                       0.888\n",
            "Model:                            OLS   Adj. R-squared:                  0.885\n",
            "Method:                 Least Squares   F-statistic:                     253.8\n",
            "Date:                Wed, 06 Nov 2024   Prob (F-statistic):           1.70e-45\n",
            "Time:                        09:56:57   Log-Likelihood:                -140.47\n",
            "No. Observations:                 100   AIC:                             288.9\n",
            "Df Residuals:                      96   BIC:                             299.4\n",
            "Df Model:                           3                                         \n",
            "Covariance Type:            nonrobust                                         \n",
            "==============================================================================\n",
            "                 coef    std err          t      P>|t|      [0.025      0.975]\n",
            "------------------------------------------------------------------------------\n",
            "const         -0.0572      0.120     -0.477      0.635      -0.295       0.181\n",
            "x1             1.1146      0.187      5.945      0.000       0.742       1.487\n",
            "x2            -2.0471      0.099    -20.673      0.000      -2.244      -1.851\n",
            "x3            -0.0643      0.060     -1.070      0.287      -0.184       0.055\n",
            "==============================================================================\n",
            "Omnibus:                        0.845   Durbin-Watson:                   2.199\n",
            "Prob(Omnibus):                  0.655   Jarque-Bera (JB):                0.392\n",
            "Skew:                           0.052   Prob(JB):                        0.822\n",
            "Kurtosis:                       3.289   Cond. No.                         5.95\n",
            "==============================================================================\n",
            "\n",
            "Notes:\n",
            "[1] Standard Errors assume that the covariance matrix of the errors is correctly specified.\n",
            "\n",
            "================================================================================\n",
            "\n",
            "Model with degree 4\n",
            "                            OLS Regression Results                            \n",
            "==============================================================================\n",
            "Dep. Variable:                      Y   R-squared:                       0.894\n",
            "Model:                            OLS   Adj. R-squared:                  0.890\n",
            "Method:                 Least Squares   F-statistic:                     200.2\n",
            "Date:                Wed, 06 Nov 2024   Prob (F-statistic):           2.22e-45\n",
            "Time:                        09:56:57   Log-Likelihood:                -137.74\n",
            "No. Observations:                 100   AIC:                             285.5\n",
            "Df Residuals:                      95   BIC:                             298.5\n",
            "Df Model:                           4                                         \n",
            "Covariance Type:            nonrobust                                         \n",
            "==============================================================================\n",
            "                 coef    std err          t      P>|t|      [0.025      0.975]\n",
            "------------------------------------------------------------------------------\n",
            "const          0.1008      0.136      0.743      0.460      -0.169       0.370\n",
            "x1             0.9050      0.205      4.423      0.000       0.499       1.311\n",
            "x2            -2.5059      0.221    -11.336      0.000      -2.945      -2.067\n",
            "x3             0.0338      0.073      0.466      0.642      -0.110       0.178\n",
            "x4             0.1042      0.045      2.309      0.023       0.015       0.194\n",
            "==============================================================================\n",
            "Omnibus:                        2.476   Durbin-Watson:                   2.163\n",
            "Prob(Omnibus):                  0.290   Jarque-Bera (JB):                2.097\n",
            "Skew:                           0.118   Prob(JB):                        0.351\n",
            "Kurtosis:                       3.669   Cond. No.                         19.9\n",
            "==============================================================================\n",
            "\n",
            "Notes:\n",
            "[1] Standard Errors assume that the covariance matrix of the errors is correctly specified.\n",
            "\n",
            "================================================================================\n",
            "\n"
          ]
        }
      ]
    },
    {
      "cell_type": "markdown",
      "source": [
        "Model 1 (Linear): $ Y = \\beta_0 + \\beta_1 X + \\epsilon $\n",
        "- **Coefficients**:\n",
        "  - $\\beta_0$ (Intercept) = -1.465, significant with $p < 0.05$.\n",
        "  - $\\beta_1$ (Linear term) = 1.949, also significant with $p < 0.05$.\n",
        "- **Interpretation**: Both the intercept and linear term are significant, meaning they contribute meaningfully to the model. However, the model has an $R^2$ of only 0.318, which indicates that a linear model does not capture much of the variance in $Y$. This aligns with the high LOOCV error observed for Model 1, suggesting that it is too simple to model the true relationship effectively.\n",
        "\n",
        "Model 2 (Quadratic): $ Y = \\beta_0 + \\beta_1 X + \\beta_2 X^2 + \\epsilon $\n",
        "- **Coefficients**:\n",
        "  - $\\beta_0$ (Intercept) = -0.0728, not significant ($p = 0.543$).\n",
        "  - $\\beta_1$ (Linear term) = 0.9663, significant ($p < 0.05$).\n",
        "  - $\\beta_2$ (Quadratic term) = -2.0047, highly significant ($p < 0.05$).\n",
        "- **Interpretation**: The linear and quadratic terms are significant, especially the quadratic term, which aligns with the data’s generation process. The intercept is not significant, which isn’t concerning here. The high $R^2$ value (0.887) shows that this model captures most of the variance in $Y$. This result supports the LOOCV findings, which identified Model 2 as an appropriate fit for the data. Model 2 accurately reflects the true quadratic relationship without unnecessary complexity.\n",
        "\n",
        "Model 3 (Cubic): $ Y = \\beta_0 + \\beta_1 X + \\beta_2 X^2 + \\beta_3 X^3 + \\epsilon $\n",
        "- **Coefficients**:\n",
        "  - $\\beta_0$ (Intercept) = -0.0572, not significant ($p = 0.635$).\n",
        "  - $\\beta_1$ (Linear term) = 1.1146, significant ($p < 0.05$).\n",
        "  - $\\beta_2$ (Quadratic term) = -2.0471, highly significant ($p < 0.05$).\n",
        "  - $\\beta_3$ (Cubic term) = -0.0643, not significant ($p = 0.287$).\n",
        "- **Interpretation**: The quadratic term remains significant, and the linear term is also significant, while the cubic term ($\\beta_3$) is not. This indicates that the cubic term does not add value in modeling the data’s relationship, as expected given the data’s true quadratic nature. The $R^2$ remains almost identical to Model 2, suggesting no meaningful improvement. This finding aligns with the LOOCV results, where Model 3’s LOOCV error was only marginally lower than Model 2’s, suggesting that Model 3 might be slightly overfitting without adding real predictive power.\n",
        "\n",
        "Model 4 (Quartic): $ Y = \\beta_0 + \\beta_1 X + \\beta_2 X^2 + \\beta_3 X^3 + \\beta_4 X^4 + \\epsilon $\n",
        "- **Coefficients**:\n",
        "  - $\\beta_0$ (Intercept) = 0.1008, not significant ($p = 0.460$).\n",
        "  - $\\beta_1$ (Linear term) = 0.9050, significant ($p < 0.05$).\n",
        "  - $\\beta_2$ (Quadratic term) = -2.5059, highly significant ($p < 0.05$).\n",
        "  - $\\beta_3$ (Cubic term) = 0.0338, not significant ($p = 0.642$).\n",
        "  - $\\beta_4$ (Quartic term) = 0.1042, significant ($p = 0.023$).\n",
        "- **Interpretation**: The quadratic term is still highly significant, as expected, while the linear term is also significant. The quartic term ($\\beta_4$) is statistically significant, but its impact is likely minor because it captures very small fluctuations. The cubic term remains insignificant, which indicates it does not contribute meaningfully. Model 4 has the highest $R^2$ (0.894), slightly better than Model 2, but the added complexity (with significant $\\beta_4$ but insignificant $\\beta_3$) suggests possible overfitting. This agrees with the LOOCV results, where Model 4 had the lowest error but added unnecessary complexity without a significant gain in interpretability.\n",
        "\n",
        "Thus, the results from both statistical significance testing and cross-validation support **Model 2** as the best choice, balancing accuracy and model complexity.\n"
      ],
      "metadata": {
        "id": "R3o68Lqo7HH1"
      }
    }
  ]
}