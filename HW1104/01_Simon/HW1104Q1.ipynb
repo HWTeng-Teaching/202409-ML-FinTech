{
  "nbformat": 4,
  "nbformat_minor": 0,
  "metadata": {
    "colab": {
      "provenance": []
    },
    "kernelspec": {
      "name": "python3",
      "display_name": "Python 3"
    },
    "language_info": {
      "name": "python"
    }
  },
  "cells": [
    {
      "cell_type": "markdown",
      "source": [
        "To prove that the given $\\alpha$ minimizes $\\text{Var}(\\alpha X + (1 - \\alpha) Y)$, we can follow these steps:\n",
        "\n",
        "1. **Express the Variance**: Start by expressing $\\text{Var}(\\alpha X + (1 - \\alpha) Y)$ in terms of $\\alpha$, $\\sigma_X^2 = \\text{Var}(X)$, $\\sigma_Y^2 = \\text{Var}(Y)$, and $\\sigma_{XY} = \\text{Cov}(X, Y)$.\n",
        "\n",
        "   $$\n",
        "   \\text{Var}(\\alpha X + (1 - \\alpha) Y) = \\alpha^2 \\sigma_X^2 + (1 - \\alpha)^2 \\sigma_Y^2 + 2 \\alpha (1 - \\alpha) \\sigma_{XY}\n",
        "   $$\n",
        "\n",
        "2. **Expand and Simplify**: Expand the terms in the equation:\n",
        "\n",
        "   $$\n",
        "   \\text{Var}(\\alpha X + (1 - \\alpha) Y) = \\alpha^2 \\sigma_X^2 + (1 - 2\\alpha + \\alpha^2) \\sigma_Y^2 + 2 \\alpha (1 - \\alpha) \\sigma_{XY}\n",
        "   $$\n",
        "\n",
        "3. **Rewrite the Variance Expression**: Combine like terms to rewrite the variance as a function of $\\alpha$:\n",
        "\n",
        "   $$\n",
        "   = \\alpha^2 (\\sigma_X^2 + \\sigma_Y^2 - 2 \\sigma_{XY}) + \\alpha (2 \\sigma_{XY} - 2 \\sigma_Y^2) + \\sigma_Y^2\n",
        "   $$\n",
        "\n",
        "   This expression is a quadratic function in terms of $\\alpha$.\n",
        "\n",
        "4. **Differentiate with Respect to $\\alpha$**: To find the value of $\\alpha$ that minimizes the variance, take the derivative of the variance with respect to $\\alpha$ and set it equal to zero.\n",
        "\n",
        "   $$\n",
        "   \\frac{d}{d\\alpha} \\text{Var}(\\alpha X + (1 - \\alpha) Y) = 2\\alpha (\\sigma_X^2 + \\sigma_Y^2 - 2\\sigma_{XY}) + (2\\sigma_{XY} - 2\\sigma_Y^2) = 0\n",
        "   $$\n",
        "\n",
        "5. **Solve for $\\alpha$**: Isolate $\\alpha$ in the resulting equation to find:\n",
        "\n",
        "   $$\n",
        "   \\alpha = \\frac{\\sigma_Y^2 - \\sigma_{XY}}{\\sigma_X^2 + \\sigma_Y^2 - 2 \\sigma_{XY}}\n",
        "   $$\n",
        "\n",
        "This is the value of $\\alpha$ that minimizes $\\text{Var}(\\alpha X + (1 - \\alpha) Y)$, as required by equation (5.6). This completes the derivation.\n"
      ],
      "metadata": {
        "id": "jeJyf5Ya5JBI"
      }
    }
  ]
}