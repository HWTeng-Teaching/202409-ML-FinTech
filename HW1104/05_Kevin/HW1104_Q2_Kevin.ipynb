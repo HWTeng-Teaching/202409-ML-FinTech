{
 "cells": [
  {
   "cell_type": "markdown",
   "metadata": {},
   "source": [
    "# We will now perform cross-validation on a simulated data set.\n",
    " \n",
    "## (a) Generate a simulated data set as follows:\n",
    " rng = np.random.default_rng(1) , x = rng.normal(size=100) , y = x- 2 * x**2 + rng.normal(size=100)\n",
    "## In this data set, what is n and what is p? Write out the model used to generate the data in equation form"
   ]
  },
  {
   "cell_type": "code",
   "execution_count": 2,
   "metadata": {},
   "outputs": [
    {
     "name": "stdout",
     "output_type": "stream",
     "text": [
      "Number of observations (n): 100\n",
      "Number of predictors (p): 1\n"
     ]
    }
   ],
   "source": [
    "import numpy as np\n",
    "import pandas as pd\n",
    "import matplotlib.pyplot as plt\n",
    "from sklearn.model_selection import cross_val_score, LeaveOneOut\n",
    "from sklearn.linear_model import LinearRegression\n",
    "from sklearn.preprocessing import PolynomialFeatures\n",
    "from sklearn.pipeline import make_pipeline\n",
    "\n",
    "rng = np.random.default_rng(1)  \n",
    "x = rng.normal(size=100)\n",
    "y = x - 2 * x**2 + rng.normal(size=100)\n",
    "\n",
    "data = pd.DataFrame({'X': x, 'Y': y})\n",
    "\n",
    "\n",
    "n = data.shape[0]  #Number of observations\n",
    "p = 1  #Number of predictors (X)\n",
    "print(f\"Number of observations (n): {n}\")\n",
    "print(f\"Number of predictors (p): {p}\")"
   ]
  },
  {
   "cell_type": "markdown",
   "metadata": {},
   "source": [
    "p為1是由於只用一個變量x跑出來的"
   ]
  },
  {
   "cell_type": "markdown",
   "metadata": {},
   "source": [
    "## (b) Create a scatterplot of X against Y . Comment on what you find"
   ]
  },
  {
   "cell_type": "code",
   "execution_count": 3,
   "metadata": {},
   "outputs": [
    {
     "data": {
      "image/png": "[encoded data removed]",
      "text/plain": [
       "<Figure size 640x480 with 1 Axes>"
      ]
     },
     "metadata": {},
     "output_type": "display_data"
    }
   ],
   "source": [
    "plt.scatter(data['X'], data['Y'])\n",
    "plt.xlabel('X')\n",
    "plt.ylabel('Y')\n",
    "plt.title('Scatterplot of X vs Y')\n",
    "plt.show()"
   ]
  },
  {
   "cell_type": "markdown",
   "metadata": {},
   "source": [
    "## (c) Set a random seed, and then compute the LOOCV errors that result from fitting the following four models using least squares:\n",
    " i. Y = 0+ 1X+ , ii. Y = 0+ 1X+ 2X2+ , iii. Y = 0 + 1X+ 2X2+ 3X3+ , iv. Y = 0+ 1X+ 2X2+ 3X3+ 4X4+ .\n",
    "## Note you may find it helpful to use the data.frame() function to create a single data set containing both X and Y "
   ]
  },
  {
   "cell_type": "code",
   "execution_count": null,
   "metadata": {},
   "outputs": [
    {
     "name": "stdout",
     "output_type": "stream",
     "text": [
      "LOOCV error for degree 1: 6.633029839181983\n",
      "LOOCV error for degree 2: 1.122936856341969\n",
      "LOOCV error for degree 3: 1.301796548935887\n",
      "LOOCV error for degree 4: 1.3323942694179374\n"
     ]
    }
   ],
   "source": [
    "degrees = [1, 2, 3, 4]\n",
    "loocv = LeaveOneOut()\n",
    "loocv_errors = []\n",
    "\n",
    "for degree in degrees:\n",
    "    model = make_pipeline(PolynomialFeatures(degree), LinearRegression())\n",
    "    #Use negative mean squared error for scoring and negate to get positive MSE\n",
    "    mse = -cross_val_score(model, data[['X']], data['Y'], cv=loocv, scoring='neg_mean_squared_error').mean()\n",
    "    loocv_errors.append(mse)\n",
    "    print(f\"LOOCV error for degree {degree}: {mse}\")\n"
   ]
  },
  {
   "cell_type": "markdown",
   "metadata": {},
   "source": [
    "# (d) Repeat (c) using another random seed, and report your results.Are your results the same as what you got in (c)? Why?"
   ]
  },
  {
   "cell_type": "code",
   "execution_count": 5,
   "metadata": {},
   "outputs": [
    {
     "name": "stdout",
     "output_type": "stream",
     "text": [
      "LOOCV error with new seed for degree 1: 7.560603694358579\n",
      "LOOCV error with new seed for degree 2: 0.9840371744582584\n",
      "LOOCV error with new seed for degree 3: 0.9682355765918605\n",
      "LOOCV error with new seed for degree 4: 0.9659585554875687\n",
      "LOOCV errors with original seed: [6.633029839181983, 1.122936856341969, 1.301796548935887, 1.3323942694179374]\n",
      "LOOCV errors with new seed: [7.560603694358579, 0.9840371744582584, 0.9682355765918605, 0.9659585554875687]\n"
     ]
    }
   ],
   "source": [
    "rng = np.random.default_rng(2)  #Change random seed\n",
    "x_new = rng.normal(size=100)\n",
    "y_new = x_new - 2 * x_new**2 + rng.normal(size=100)\n",
    "data_new = pd.DataFrame({'X': x_new, 'Y': y_new})\n",
    "\n",
    "loocv_errors_new = []\n",
    "\n",
    "for degree in degrees:\n",
    "    model = make_pipeline(PolynomialFeatures(degree), LinearRegression())\n",
    "    mse = -cross_val_score(model, data_new[['X']], data_new['Y'], cv=loocv, scoring='neg_mean_squared_error').mean()\n",
    "    loocv_errors_new.append(mse)\n",
    "    print(f\"LOOCV error with new seed for degree {degree}: {mse}\")\n",
    "\n",
    "print(\"LOOCV errors with original seed:\", loocv_errors)\n",
    "print(\"LOOCV errors with new seed:\", loocv_errors_new)"
   ]
  },
  {
   "cell_type": "markdown",
   "metadata": {},
   "source": [
    "Due to the sufficiently large sample size & stability of LOOCV,the result is almost same as (c)"
   ]
  },
  {
   "cell_type": "markdown",
   "metadata": {},
   "source": [
    "# (e) Which of the models in (c) had the smallest LOOCV error? Is this what you expected? Explain your answer"
   ]
  },
  {
   "cell_type": "markdown",
   "metadata": {},
   "source": [
    "Model 2 has smallest LOOCV error since the structer of model is the closest to the data generating model of (a) of the four model.So no overfitting or no underfitting."
   ]
  },
  {
   "cell_type": "markdown",
   "metadata": {},
   "source": [
    "# (f) Comment on the statistical significance of the coefficient estimates that results from fitting each of the models in (c) using least squares. Do these results agree with the conclusions drawn based on the cross-validation results?"
   ]
  },
  {
   "cell_type": "code",
   "execution_count": null,
   "metadata": {},
   "outputs": [
    {
     "name": "stdout",
     "output_type": "stream",
     "text": [
      "Degree 1 model summary:\n",
      "                            OLS Regression Results                            \n",
      "==============================================================================\n",
      "Dep. Variable:                      Y   R-squared:                       0.318\n",
      "Model:                            OLS   Adj. R-squared:                  0.311\n",
      "Method:                 Least Squares   F-statistic:                     45.60\n",
      "Date:                Fri, 08 Nov 2024   Prob (F-statistic):           1.04e-09\n",
      "Time:                        23:21:35   Log-Likelihood:                -230.83\n",
      "No. Observations:                 100   AIC:                             465.7\n",
      "Df Residuals:                      98   BIC:                             470.9\n",
      "Df Model:                           1                                         \n",
      "Covariance Type:            nonrobust                                         \n",
      "==============================================================================\n",
      "                 coef    std err          t      P>|t|      [0.025      0.975]\n",
      "------------------------------------------------------------------------------\n",
      "const         -1.4650      0.247     -5.937      0.000      -1.955      -0.975\n",
      "x1             1.9494      0.289      6.752      0.000       1.376       2.522\n",
      "==============================================================================\n",
      "Omnibus:                       52.788   Durbin-Watson:                   1.972\n",
      "Prob(Omnibus):                  0.000   Jarque-Bera (JB):              149.089\n",
      "Skew:                          -1.953   Prob(JB):                     4.22e-33\n",
      "Kurtosis:                       7.530   Cond. No.                         1.20\n",
      "==============================================================================\n",
      "\n",
      "Notes:\n",
      "[1] Standard Errors assume that the covariance matrix of the errors is correctly specified.\n",
      "\n",
      "Degree 2 model summary:\n",
      "                            OLS Regression Results                            \n",
      "==============================================================================\n",
      "Dep. Variable:                      Y   R-squared:                       0.887\n",
      "Model:                            OLS   Adj. R-squared:                  0.884\n",
      "Method:                 Least Squares   F-statistic:                     379.5\n",
      "Date:                Fri, 08 Nov 2024   Prob (F-statistic):           1.36e-46\n",
      "Time:                        23:21:35   Log-Likelihood:                -141.06\n",
      "No. Observations:                 100   AIC:                             288.1\n",
      "Df Residuals:                      97   BIC:                             295.9\n",
      "Df Model:                           2                                         \n",
      "Covariance Type:            nonrobust                                         \n",
      "==============================================================================\n",
      "                 coef    std err          t      P>|t|      [0.025      0.975]\n",
      "------------------------------------------------------------------------------\n",
      "const         -0.0728      0.119     -0.611      0.543      -0.309       0.164\n",
      "x1             0.9663      0.126      7.647      0.000       0.715       1.217\n",
      "x2            -2.0047      0.091    -22.072      0.000      -2.185      -1.824\n",
      "==============================================================================\n",
      "Omnibus:                        1.338   Durbin-Watson:                   2.197\n",
      "Prob(Omnibus):                  0.512   Jarque-Bera (JB):                0.814\n",
      "Skew:                           0.119   Prob(JB):                        0.666\n",
      "Kurtosis:                       3.372   Cond. No.                         2.23\n",
      "==============================================================================\n",
      "\n",
      "Notes:\n",
      "[1] Standard Errors assume that the covariance matrix of the errors is correctly specified.\n",
      "\n",
      "Degree 3 model summary:\n",
      "                            OLS Regression Results                            \n",
      "==============================================================================\n",
      "Dep. Variable:                      Y   R-squared:                       0.888\n",
      "Model:                            OLS   Adj. R-squared:                  0.885\n",
      "Method:                 Least Squares   F-statistic:                     253.8\n",
      "Date:                Fri, 08 Nov 2024   Prob (F-statistic):           1.70e-45\n",
      "Time:                        23:21:35   Log-Likelihood:                -140.47\n",
      "No. Observations:                 100   AIC:                             288.9\n",
      "Df Residuals:                      96   BIC:                             299.4\n",
      "Df Model:                           3                                         \n",
      "Covariance Type:            nonrobust                                         \n",
      "==============================================================================\n",
      "                 coef    std err          t      P>|t|      [0.025      0.975]\n",
      "------------------------------------------------------------------------------\n",
      "const         -0.0572      0.120     -0.477      0.635      -0.295       0.181\n",
      "x1             1.1146      0.187      5.945      0.000       0.742       1.487\n",
      "x2            -2.0471      0.099    -20.673      0.000      -2.244      -1.851\n",
      "x3            -0.0643      0.060     -1.070      0.287      -0.184       0.055\n",
      "==============================================================================\n",
      "Omnibus:                        0.845   Durbin-Watson:                   2.199\n",
      "Prob(Omnibus):                  0.655   Jarque-Bera (JB):                0.392\n",
      "Skew:                           0.052   Prob(JB):                        0.822\n",
      "Kurtosis:                       3.289   Cond. No.                         5.95\n",
      "==============================================================================\n",
      "\n",
      "Notes:\n",
      "[1] Standard Errors assume that the covariance matrix of the errors is correctly specified.\n",
      "\n",
      "Degree 4 model summary:\n",
      "                            OLS Regression Results                            \n",
      "==============================================================================\n",
      "Dep. Variable:                      Y   R-squared:                       0.894\n",
      "Model:                            OLS   Adj. R-squared:                  0.890\n",
      "Method:                 Least Squares   F-statistic:                     200.2\n",
      "Date:                Fri, 08 Nov 2024   Prob (F-statistic):           2.22e-45\n",
      "Time:                        23:21:35   Log-Likelihood:                -137.74\n",
      "No. Observations:                 100   AIC:                             285.5\n",
      "Df Residuals:                      95   BIC:                             298.5\n",
      "Df Model:                           4                                         \n",
      "Covariance Type:            nonrobust                                         \n",
      "==============================================================================\n",
      "                 coef    std err          t      P>|t|      [0.025      0.975]\n",
      "------------------------------------------------------------------------------\n",
      "const          0.1008      0.136      0.743      0.460      -0.169       0.370\n",
      "x1             0.9050      0.205      4.423      0.000       0.499       1.311\n",
      "x2            -2.5059      0.221    -11.336      0.000      -2.945      -2.067\n",
      "x3             0.0338      0.073      0.466      0.642      -0.110       0.178\n",
      "x4             0.1042      0.045      2.309      0.023       0.015       0.194\n",
      "==============================================================================\n",
      "Omnibus:                        2.476   Durbin-Watson:                   2.163\n",
      "Prob(Omnibus):                  0.290   Jarque-Bera (JB):                2.097\n",
      "Skew:                           0.118   Prob(JB):                        0.351\n",
      "Kurtosis:                       3.669   Cond. No.                         19.9\n",
      "==============================================================================\n",
      "\n",
      "Notes:\n",
      "[1] Standard Errors assume that the covariance matrix of the errors is correctly specified.\n"
     ]
    }
   ],
   "source": [
    "import statsmodels.api as sm\n",
    "\n",
    "#Degree 1 model\n",
    "poly1 = PolynomialFeatures(1)\n",
    "X_poly1 = poly1.fit_transform(data[['X']])\n",
    "model1 = sm.OLS(data['Y'], X_poly1).fit()\n",
    "print(\"Degree 1 model summary:\")\n",
    "print(model1.summary())"
   ]
  },
  {
   "cell_type": "code",
   "execution_count": 22,
   "metadata": {},
   "outputs": [
    {
     "name": "stdout",
     "output_type": "stream",
     "text": [
      "\n",
      "Degree 2 model summary:\n",
      "                            OLS Regression Results                            \n",
      "==============================================================================\n",
      "Dep. Variable:                      Y   R-squared:                       0.887\n",
      "Model:                            OLS   Adj. R-squared:                  0.884\n",
      "Method:                 Least Squares   F-statistic:                     379.5\n",
      "Date:                Fri, 08 Nov 2024   Prob (F-statistic):           1.36e-46\n",
      "Time:                        23:22:28   Log-Likelihood:                -141.06\n",
      "No. Observations:                 100   AIC:                             288.1\n",
      "Df Residuals:                      97   BIC:                             295.9\n",
      "Df Model:                           2                                         \n",
      "Covariance Type:            nonrobust                                         \n",
      "==============================================================================\n",
      "                 coef    std err          t      P>|t|      [0.025      0.975]\n",
      "------------------------------------------------------------------------------\n",
      "const         -0.0728      0.119     -0.611      0.543      -0.309       0.164\n",
      "x1             0.9663      0.126      7.647      0.000       0.715       1.217\n",
      "x2            -2.0047      0.091    -22.072      0.000      -2.185      -1.824\n",
      "==============================================================================\n",
      "Omnibus:                        1.338   Durbin-Watson:                   2.197\n",
      "Prob(Omnibus):                  0.512   Jarque-Bera (JB):                0.814\n",
      "Skew:                           0.119   Prob(JB):                        0.666\n",
      "Kurtosis:                       3.372   Cond. No.                         2.23\n",
      "==============================================================================\n",
      "\n",
      "Notes:\n",
      "[1] Standard Errors assume that the covariance matrix of the errors is correctly specified.\n"
     ]
    }
   ],
   "source": [
    "#Degree 2 model\n",
    "poly2 = PolynomialFeatures(2)\n",
    "X_poly2 = poly2.fit_transform(data[['X']])\n",
    "model2 = sm.OLS(data['Y'], X_poly2).fit()\n",
    "print(\"\\nDegree 2 model summary:\")\n",
    "print(model2.summary())"
   ]
  },
  {
   "cell_type": "code",
   "execution_count": 23,
   "metadata": {},
   "outputs": [
    {
     "name": "stdout",
     "output_type": "stream",
     "text": [
      "\n",
      "Degree 3 model summary:\n",
      "                            OLS Regression Results                            \n",
      "==============================================================================\n",
      "Dep. Variable:                      Y   R-squared:                       0.888\n",
      "Model:                            OLS   Adj. R-squared:                  0.885\n",
      "Method:                 Least Squares   F-statistic:                     253.8\n",
      "Date:                Fri, 08 Nov 2024   Prob (F-statistic):           1.70e-45\n",
      "Time:                        23:22:33   Log-Likelihood:                -140.47\n",
      "No. Observations:                 100   AIC:                             288.9\n",
      "Df Residuals:                      96   BIC:                             299.4\n",
      "Df Model:                           3                                         \n",
      "Covariance Type:            nonrobust                                         \n",
      "==============================================================================\n",
      "                 coef    std err          t      P>|t|      [0.025      0.975]\n",
      "------------------------------------------------------------------------------\n",
      "const         -0.0572      0.120     -0.477      0.635      -0.295       0.181\n",
      "x1             1.1146      0.187      5.945      0.000       0.742       1.487\n",
      "x2            -2.0471      0.099    -20.673      0.000      -2.244      -1.851\n",
      "x3            -0.0643      0.060     -1.070      0.287      -0.184       0.055\n",
      "==============================================================================\n",
      "Omnibus:                        0.845   Durbin-Watson:                   2.199\n",
      "Prob(Omnibus):                  0.655   Jarque-Bera (JB):                0.392\n",
      "Skew:                           0.052   Prob(JB):                        0.822\n",
      "Kurtosis:                       3.289   Cond. No.                         5.95\n",
      "==============================================================================\n",
      "\n",
      "Notes:\n",
      "[1] Standard Errors assume that the covariance matrix of the errors is correctly specified.\n"
     ]
    }
   ],
   "source": [
    "#Degree 3 model \n",
    "poly3 = PolynomialFeatures(3)\n",
    "X_poly3 = poly3.fit_transform(data[['X']])\n",
    "model3 = sm.OLS(data['Y'], X_poly3).fit()\n",
    "print(\"\\nDegree 3 model summary:\")\n",
    "print(model3.summary())"
   ]
  },
  {
   "cell_type": "code",
   "execution_count": 24,
   "metadata": {},
   "outputs": [
    {
     "name": "stdout",
     "output_type": "stream",
     "text": [
      "\n",
      "Degree 4 model summary:\n",
      "                            OLS Regression Results                            \n",
      "==============================================================================\n",
      "Dep. Variable:                      Y   R-squared:                       0.894\n",
      "Model:                            OLS   Adj. R-squared:                  0.890\n",
      "Method:                 Least Squares   F-statistic:                     200.2\n",
      "Date:                Fri, 08 Nov 2024   Prob (F-statistic):           2.22e-45\n",
      "Time:                        23:22:35   Log-Likelihood:                -137.74\n",
      "No. Observations:                 100   AIC:                             285.5\n",
      "Df Residuals:                      95   BIC:                             298.5\n",
      "Df Model:                           4                                         \n",
      "Covariance Type:            nonrobust                                         \n",
      "==============================================================================\n",
      "                 coef    std err          t      P>|t|      [0.025      0.975]\n",
      "------------------------------------------------------------------------------\n",
      "const          0.1008      0.136      0.743      0.460      -0.169       0.370\n",
      "x1             0.9050      0.205      4.423      0.000       0.499       1.311\n",
      "x2            -2.5059      0.221    -11.336      0.000      -2.945      -2.067\n",
      "x3             0.0338      0.073      0.466      0.642      -0.110       0.178\n",
      "x4             0.1042      0.045      2.309      0.023       0.015       0.194\n",
      "==============================================================================\n",
      "Omnibus:                        2.476   Durbin-Watson:                   2.163\n",
      "Prob(Omnibus):                  0.290   Jarque-Bera (JB):                2.097\n",
      "Skew:                           0.118   Prob(JB):                        0.351\n",
      "Kurtosis:                       3.669   Cond. No.                         19.9\n",
      "==============================================================================\n",
      "\n",
      "Notes:\n",
      "[1] Standard Errors assume that the covariance matrix of the errors is correctly specified.\n"
     ]
    }
   ],
   "source": [
    "#Degree 4 model\n",
    "poly4 = PolynomialFeatures(4)\n",
    "X_poly4 = poly4.fit_transform(data[['X']])\n",
    "model4 = sm.OLS(data['Y'], X_poly4).fit()\n",
    "print(\"\\nDegree 4 model summary:\")\n",
    "print(model4.summary())"
   ]
  },
  {
   "cell_type": "markdown",
   "metadata": {},
   "source": [
    "From the R-square for each table.We can conclude that model 2,3,4 have statistical significance of the coefficient estimates."
   ]
  }
 ],
 "metadata": {
  "kernelspec": {
   "display_name": "Python 3",
   "language": "python",
   "name": "python3"
  },
  "language_info": {
   "codemirror_mode": {
    "name": "ipython",
    "version": 3
   },
   "file_extension": ".py",
   "mimetype": "text/x-python",
   "name": "python",
   "nbconvert_exporter": "python",
   "pygments_lexer": "ipython3",
   "version": "3.12.6"
  }
 },
 "nbformat": 4,
 "nbformat_minor": 2
}
