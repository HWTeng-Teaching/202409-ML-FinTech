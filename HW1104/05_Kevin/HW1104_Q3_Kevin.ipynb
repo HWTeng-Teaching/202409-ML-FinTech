{
 "cells": [
  {
   "cell_type": "markdown",
   "metadata": {},
   "source": [
    "##  We will now consider the Boston housing data set, from the ISLP library.\n",
    " \n",
    " \n",
    "# (a) Based on this data set, provide an estimate for the population mean of medv. Call this estimate ˆ µ"
   ]
  },
  {
   "cell_type": "code",
   "execution_count": 1,
   "metadata": {},
   "outputs": [
    {
     "name": "stdout",
     "output_type": "stream",
     "text": [
      "Estimate of the population mean (μ̂): 22.532806324110677\n"
     ]
    }
   ],
   "source": [
    "from ISLP import load_data\n",
    "import pandas as pd\n",
    "import numpy as np\n",
    "\n",
    "#Download the data\n",
    "boston_data = load_data('Boston')\n",
    "medv = boston_data['medv']\n",
    "\n",
    "mean_medv = np.mean(medv)\n",
    "print(\"Estimate of the population mean (μ̂):\", mean_medv)"
   ]
  },
  {
   "cell_type": "markdown",
   "metadata": {},
   "source": [
    "# (b) Provide an estimate of the standard error of ˆ µ. Interpret this result."
   ]
  },
  {
   "cell_type": "code",
   "execution_count": 2,
   "metadata": {},
   "outputs": [
    {
     "name": "stdout",
     "output_type": "stream",
     "text": [
      "Standard error of the mean (SE(μ̂)): 0.40886114749753505\n"
     ]
    }
   ],
   "source": [
    "std_error_mean = np.std(medv, ddof=1) / np.sqrt(len(medv))\n",
    "print(\"Standard error of the mean (SE(μ̂)):\", std_error_mean)"
   ]
  },
  {
   "cell_type": "markdown",
   "metadata": {},
   "source": [
    "# (c) Now estimate the standard error of ˆ µ using the bootstrap. How does this compare to your answer from (b)?"
   ]
  },
  {
   "cell_type": "code",
   "execution_count": 3,
   "metadata": {},
   "outputs": [
    {
     "name": "stdout",
     "output_type": "stream",
     "text": [
      "Bootstrap estimate of the standard error of the mean: 0.404131170683672\n"
     ]
    }
   ],
   "source": [
    "from sklearn.utils import resample\n",
    "\n",
    "bootstrap_means = [np.mean(resample(medv)) for _ in range(1000)]\n",
    "bootstrap_std_error_mean = np.std(bootstrap_means)\n",
    "print(\"Bootstrap estimate of the standard error of the mean:\", bootstrap_std_error_mean)"
   ]
  },
  {
   "cell_type": "markdown",
   "metadata": {},
   "source": [
    "The difference between two std error is very small and similar."
   ]
  },
  {
   "cell_type": "markdown",
   "metadata": {},
   "source": [
    "# (d) Based on your bootstrap estimate from (c), provide a 95% confidence interval for the mean of medv. Compare it to the results obtained by using Boston['medv'].std() and the two standard error rule (3.9)."
   ]
  },
  {
   "cell_type": "code",
   "execution_count": 5,
   "metadata": {},
   "outputs": [
    {
     "name": "stdout",
     "output_type": "stream",
     "text": [
      "95% confidence interval for the mean_1: (21.724543982743334, 23.34106866547802)\n",
      "95% confidence interval for the mean_2: (21.715084029115605, 23.35052861910575)\n"
     ]
    }
   ],
   "source": [
    "#C.I. of (c)\n",
    "ci_lower_1 = mean_medv - 2 * bootstrap_std_error_mean\n",
    "ci_upper_1 = mean_medv + 2 * bootstrap_std_error_mean\n",
    "print(\"95% confidence interval for the mean_1:\", (ci_lower_1, ci_upper_1))\n",
    "\n",
    "#C.I. of (b)\n",
    "ci_lower_2 = mean_medv - 2 * std_error_mean\n",
    "ci_upper_2 = mean_medv + 2 * std_error_mean\n",
    "print(\"95% confidence interval for the mean_2:\", (ci_lower_2, ci_upper_2))\n"
   ]
  },
  {
   "cell_type": "markdown",
   "metadata": {},
   "source": [
    "Both coincidence interval are exactly same.They are give us more reliable estimate of std error for mean."
   ]
  },
  {
   "cell_type": "markdown",
   "metadata": {},
   "source": [
    "# (e) Based on this data set, provide an estimate, ˆ µmed, for the median value of medv in the population."
   ]
  },
  {
   "cell_type": "code",
   "execution_count": 6,
   "metadata": {},
   "outputs": [
    {
     "name": "stdout",
     "output_type": "stream",
     "text": [
      "Estimate of the population median (μ̂_med): 21.2\n"
     ]
    }
   ],
   "source": [
    "median_medv = np.median(medv)\n",
    "print(\"Estimate of the population median (μ̂_med):\", median_medv)"
   ]
  },
  {
   "cell_type": "markdown",
   "metadata": {},
   "source": [
    "# (f) We now would like to estimate the standard error of ˆ µmed. Unfortunately, there is no simple formula for computing the standard error of the median. Instead, estimate the standard error of the median using the bootstrap. Comment on your findings."
   ]
  },
  {
   "cell_type": "code",
   "execution_count": 7,
   "metadata": {},
   "outputs": [
    {
     "name": "stdout",
     "output_type": "stream",
     "text": [
      "Bootstrap estimate of the standard error of the median: 0.3776990733374915\n"
     ]
    }
   ],
   "source": [
    "bootstrap_medians = [np.median(resample(medv)) for _ in range(1000)]\n",
    "bootstrap_std_error_median = np.std(bootstrap_medians)\n",
    "print(\"Bootstrap estimate of the standard error of the median:\", bootstrap_std_error_median)"
   ]
  },
  {
   "cell_type": "markdown",
   "metadata": {},
   "source": [
    "The standard error od median is very small.It means that median is a stable estimate of population median."
   ]
  },
  {
   "cell_type": "markdown",
   "metadata": {},
   "source": [
    "# (g) Based on this data set, provide an estimate for the tenth percentile of medv in Boston census tracts. Call this quantity ˆ µ0.1"
   ]
  },
  {
   "cell_type": "code",
   "execution_count": 8,
   "metadata": {},
   "outputs": [
    {
     "name": "stdout",
     "output_type": "stream",
     "text": [
      "Estimate of the 10th percentile (μ̂_0.1): 12.75\n"
     ]
    }
   ],
   "source": [
    "percentile_10 = np.percentile(medv, 10)\n",
    "print(\"Estimate of the 10th percentile (μ̂_0.1):\", percentile_10)"
   ]
  },
  {
   "cell_type": "markdown",
   "metadata": {},
   "source": [
    "# (h) Use the bootstrap to estimate the standard error of ˆ µ0.1. Comment on your findings"
   ]
  },
  {
   "cell_type": "code",
   "execution_count": 9,
   "metadata": {},
   "outputs": [
    {
     "name": "stdout",
     "output_type": "stream",
     "text": [
      "Bootstrap estimate of the standard error of the 10th percentile: 0.48855386345826796\n"
     ]
    }
   ],
   "source": [
    "bootstrap_percentiles_10 = [np.percentile(resample(medv), 10) for _ in range(1000)]\n",
    "bootstrap_std_error_percentile_10 = np.std(bootstrap_percentiles_10)\n",
    "print(\"Bootstrap estimate of the standard error of the 10th percentile:\", bootstrap_std_error_percentile_10)"
   ]
  },
  {
   "cell_type": "markdown",
   "metadata": {},
   "source": [
    "Althought the std error is relatively bigger than the throretical one(0.38),means that there has small alteration on 10th percentile data,but it still a stable estimate of 10th percentile data of population."
   ]
  }
 ],
 "metadata": {
  "kernelspec": {
   "display_name": "Python 3",
   "language": "python",
   "name": "python3"
  },
  "language_info": {
   "codemirror_mode": {
    "name": "ipython",
    "version": 3
   },
   "file_extension": ".py",
   "mimetype": "text/x-python",
   "name": "python",
   "nbconvert_exporter": "python",
   "pygments_lexer": "ipython3",
   "version": "3.12.6"
  }
 },
 "nbformat": 4,
 "nbformat_minor": 2
}
