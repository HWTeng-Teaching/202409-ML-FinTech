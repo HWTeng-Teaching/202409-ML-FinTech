{
 "cells": [
  {
   "cell_type": "markdown",
   "id": "e40b3637-f10f-49ad-960d-c93226059bfa",
   "metadata": {},
   "source": [
    "# HW1104Q2 CH05Q08"
   ]
  },
  {
   "cell_type": "markdown",
   "id": "b8cbee90-722c-4c51-a507-55be0d70668c",
   "metadata": {},
   "source": [
    "### 8. We will now perform cross-validation on a simulated data set."
   ]
  },
  {
   "cell_type": "markdown",
   "id": "e7f56e6d-2063-45dc-ac81-d5af4ccf8b02",
   "metadata": {},
   "source": [
    "##### (a) Generate a simulated data set as follows: \n",
    "rng = np.random.default_rng(1)  \n",
    "x = rng.normal(size=100)  \n",
    "y = x - 2 * x**2 + rng.normal(size=100)   \n",
    "##### In this data set, what is n and what is p? Write out the model used to generate the data in equation form."
   ]
  },
  {
   "cell_type": "code",
   "execution_count": 1,
   "id": "92a18107-a76a-479d-8cd4-4081e9173f3a",
   "metadata": {},
   "outputs": [
    {
     "name": "stdout",
     "output_type": "stream",
     "text": [
      "n=100, p=1\n"
     ]
    }
   ],
   "source": [
    "import numpy as np\n",
    "rng = np.random.default_rng(1)\n",
    "x = rng.normal(size=100)\n",
    "y = x - 2 * x**2 + rng.normal(size=100)\n",
    "\n",
    "print(\"n=100, p=1\")"
   ]
  },
  {
   "cell_type": "markdown",
   "id": "aa05c607-6b95-4174-82fb-22de82783f9f",
   "metadata": {},
   "source": [
    "##### (b) Create a scatterplot of X against Y . Comment on what you find."
   ]
  },
  {
   "cell_type": "code",
   "execution_count": 2,
   "id": "9e870129-74c7-4ec6-bcb1-67bf878c3034",
   "metadata": {},
   "outputs": [
    {
     "data": {
      "image/png": "[encoded data removed]",
      "text/plain": [
       "<Figure size 640x480 with 1 Axes>"
      ]
     },
     "metadata": {},
     "output_type": "display_data"
    }
   ],
   "source": [
    "import matplotlib.pyplot as plt\n",
    "\n",
    "plt.scatter(x, y)\n",
    "plt.xlabel(\"X\")\n",
    "plt.ylabel(\"Y\")\n",
    "plt.title(\"Scatterplot of X vs Y\")\n",
    "plt.show()"
   ]
  },
  {
   "cell_type": "markdown",
   "id": "775a0a67-8f4e-480f-a6b3-b92b54e3505c",
   "metadata": {},
   "source": [
    "##### (c) Set a random seed, and then compute the LOOCV errors that result from ftting the following four models using least squares: \n",
    "i. Y = β0 + β1X + e\"  \n",
    "ii. Y = β0 + β1X + β2X2 + e\"  \n",
    "iii. Y = β0 + β1X + β2X2 + β3X3 + e\"  \n",
    "iv. Y = β0 + β1X + β2X2 + β3X3 + β4X4 + e\".  \n",
    "##### Note you may find it helpful to use the data.frame() function to create a single data set containing both X and Y ."
   ]
  },
  {
   "cell_type": "code",
   "execution_count": 3,
   "id": "ee2d4288-cba6-4586-8d8a-9fcb964f732c",
   "metadata": {},
   "outputs": [
    {
     "name": "stdout",
     "output_type": "stream",
     "text": [
      "LOOCV error for degree 1: 6.633029839181983\n",
      "LOOCV error for degree 2: 1.122936856341969\n",
      "LOOCV error for degree 3: 1.3017965489358871\n",
      "LOOCV error for degree 4: 1.3323942694179374\n"
     ]
    }
   ],
   "source": [
    "from sklearn.preprocessing import PolynomialFeatures\n",
    "from sklearn.model_selection import LeaveOneOut\n",
    "from sklearn.linear_model import LinearRegression\n",
    "\n",
    "def loocv_error(x, y, degree):\n",
    "    poly = PolynomialFeatures(degree)\n",
    "    X_poly = poly.fit_transform(x.reshape(-1, 1))\n",
    "    loo = LeaveOneOut()\n",
    "    errors = []\n",
    "    \n",
    "    for train_index, test_index in loo.split(X_poly):\n",
    "        X_train, X_test = X_poly[train_index], X_poly[test_index]\n",
    "        y_train, y_test = y[train_index], y[test_index]\n",
    "        \n",
    "        model = LinearRegression().fit(X_train, y_train)\n",
    "        y_pred = model.predict(X_test)\n",
    "        errors.append((y_test - y_pred) ** 2)\n",
    "    \n",
    "    return np.mean(errors)\n",
    "\n",
    "\n",
    "degrees = [1, 2, 3, 4]\n",
    "errors = {}\n",
    "\n",
    "for degree in degrees:\n",
    "    error = loocv_error(x, y, degree)\n",
    "    errors[degree] = error\n",
    "    print(f\"LOOCV error for degree {degree}: {error}\")"
   ]
  },
  {
   "cell_type": "markdown",
   "id": "25410272-8280-443d-80c1-0a5e3cdf815d",
   "metadata": {},
   "source": [
    "##### (d) Repeat (c) using another random seed, and report your results. Are your results the same as what you got in (c)? Why?"
   ]
  },
  {
   "cell_type": "code",
   "execution_count": 4,
   "id": "2aba8ff6-519e-4717-9e59-7200a44e42ce",
   "metadata": {},
   "outputs": [
    {
     "name": "stdout",
     "output_type": "stream",
     "text": [
      "LOOCV error for degree 1 with new seed: 7.560603694358579\n",
      "LOOCV error for degree 2 with new seed: 0.9840371744582584\n",
      "LOOCV error for degree 3 with new seed: 0.9682355765918607\n",
      "LOOCV error for degree 4 with new seed: 0.9659585554875687\n",
      "No. Because we change the random seed. Same random seed can reappear same result, but different seeds will generate different results.\n"
     ]
    }
   ],
   "source": [
    "rng = np.random.default_rng(2)\n",
    "x_new = rng.normal(size=100)\n",
    "y_new = x_new - 2 * x_new**2 + rng.normal(size=100)\n",
    "\n",
    "\n",
    "errors_new = {}\n",
    "\n",
    "for degree in degrees:\n",
    "    error = loocv_error(x_new, y_new, degree)\n",
    "    errors_new[degree] = error\n",
    "    print(f\"LOOCV error for degree {degree} with new seed: {error}\")\n",
    "\n",
    "print(\"No. Because we change the random seed. Same random seed can reappear same result, but different seeds will generate different results.\")"
   ]
  },
  {
   "cell_type": "markdown",
   "id": "86a858d2-204b-4b69-a4e6-0325f4cbf270",
   "metadata": {},
   "source": [
    "##### (e) Which of the models in (c) had the smallest LOOCV error? Is this what you expected? Explain your answer."
   ]
  },
  {
   "cell_type": "code",
   "execution_count": 5,
   "id": "6dac3238-5fb6-4a1e-b1de-a623aa52bb4d",
   "metadata": {},
   "outputs": [
    {
     "name": "stdout",
     "output_type": "stream",
     "text": [
      "iv had the smallest LOOCV error. Yes. More complex models usually make more accurate predictions, so the error tends to be smaller.\n"
     ]
    }
   ],
   "source": [
    "print(\"iv had the smallest LOOCV error. Yes. More complex models usually make more accurate predictions, so the error tends to be smaller.\")"
   ]
  },
  {
   "cell_type": "markdown",
   "id": "32ad5343-35c3-4591-abfa-dbf68a5b9941",
   "metadata": {},
   "source": [
    "##### (f) Comment on the statistical signifcance of the coefficient estimates that results from fitting each of the models in (c) using least squares. Do these results agree with the conclusions drawn based on the cross-validation results?"
   ]
  },
  {
   "cell_type": "code",
   "execution_count": 6,
   "id": "c30fb247-3a71-43f3-97d9-3613cc88ad92",
   "metadata": {},
   "outputs": [
    {
     "name": "stdout",
     "output_type": "stream",
     "text": [
      "Model Degree: 1\n",
      "                            OLS Regression Results                            \n",
      "==============================================================================\n",
      "Dep. Variable:                      y   R-squared:                       0.318\n",
      "Model:                            OLS   Adj. R-squared:                  0.311\n",
      "Method:                 Least Squares   F-statistic:                     45.60\n",
      "Date:                Thu, 07 Nov 2024   Prob (F-statistic):           1.04e-09\n",
      "Time:                        02:40:54   Log-Likelihood:                -230.83\n",
      "No. Observations:                 100   AIC:                             465.7\n",
      "Df Residuals:                      98   BIC:                             470.9\n",
      "Df Model:                           1                                         \n",
      "Covariance Type:            nonrobust                                         \n",
      "==============================================================================\n",
      "                 coef    std err          t      P>|t|      [0.025      0.975]\n",
      "------------------------------------------------------------------------------\n",
      "const         -1.4650      0.247     -5.937      0.000      -1.955      -0.975\n",
      "x1             1.9494      0.289      6.752      0.000       1.376       2.522\n",
      "==============================================================================\n",
      "Omnibus:                       52.788   Durbin-Watson:                   1.972\n",
      "Prob(Omnibus):                  0.000   Jarque-Bera (JB):              149.089\n",
      "Skew:                          -1.953   Prob(JB):                     4.22e-33\n",
      "Kurtosis:                       7.530   Cond. No.                         1.20\n",
      "==============================================================================\n",
      "\n",
      "Notes:\n",
      "[1] Standard Errors assume that the covariance matrix of the errors is correctly specified.\n",
      "\n",
      "\n",
      "Model Degree: 2\n",
      "                            OLS Regression Results                            \n",
      "==============================================================================\n",
      "Dep. Variable:                      y   R-squared:                       0.887\n",
      "Model:                            OLS   Adj. R-squared:                  0.884\n",
      "Method:                 Least Squares   F-statistic:                     379.5\n",
      "Date:                Thu, 07 Nov 2024   Prob (F-statistic):           1.36e-46\n",
      "Time:                        02:40:54   Log-Likelihood:                -141.06\n",
      "No. Observations:                 100   AIC:                             288.1\n",
      "Df Residuals:                      97   BIC:                             295.9\n",
      "Df Model:                           2                                         \n",
      "Covariance Type:            nonrobust                                         \n",
      "==============================================================================\n",
      "                 coef    std err          t      P>|t|      [0.025      0.975]\n",
      "------------------------------------------------------------------------------\n",
      "const         -0.0728      0.119     -0.611      0.543      -0.309       0.164\n",
      "x1             0.9663      0.126      7.647      0.000       0.715       1.217\n",
      "x2            -2.0047      0.091    -22.072      0.000      -2.185      -1.824\n",
      "==============================================================================\n",
      "Omnibus:                        1.338   Durbin-Watson:                   2.197\n",
      "Prob(Omnibus):                  0.512   Jarque-Bera (JB):                0.814\n",
      "Skew:                           0.119   Prob(JB):                        0.666\n",
      "Kurtosis:                       3.372   Cond. No.                         2.23\n",
      "==============================================================================\n",
      "\n",
      "Notes:\n",
      "[1] Standard Errors assume that the covariance matrix of the errors is correctly specified.\n",
      "\n",
      "\n",
      "Model Degree: 3\n",
      "                            OLS Regression Results                            \n",
      "==============================================================================\n",
      "Dep. Variable:                      y   R-squared:                       0.888\n",
      "Model:                            OLS   Adj. R-squared:                  0.885\n",
      "Method:                 Least Squares   F-statistic:                     253.8\n",
      "Date:                Thu, 07 Nov 2024   Prob (F-statistic):           1.70e-45\n",
      "Time:                        02:40:54   Log-Likelihood:                -140.47\n",
      "No. Observations:                 100   AIC:                             288.9\n",
      "Df Residuals:                      96   BIC:                             299.4\n",
      "Df Model:                           3                                         \n",
      "Covariance Type:            nonrobust                                         \n",
      "==============================================================================\n",
      "                 coef    std err          t      P>|t|      [0.025      0.975]\n",
      "------------------------------------------------------------------------------\n",
      "const         -0.0572      0.120     -0.477      0.635      -0.295       0.181\n",
      "x1             1.1146      0.187      5.945      0.000       0.742       1.487\n",
      "x2            -2.0471      0.099    -20.673      0.000      -2.244      -1.851\n",
      "x3            -0.0643      0.060     -1.070      0.287      -0.184       0.055\n",
      "==============================================================================\n",
      "Omnibus:                        0.845   Durbin-Watson:                   2.199\n",
      "Prob(Omnibus):                  0.655   Jarque-Bera (JB):                0.392\n",
      "Skew:                           0.052   Prob(JB):                        0.822\n",
      "Kurtosis:                       3.289   Cond. No.                         5.95\n",
      "==============================================================================\n",
      "\n",
      "Notes:\n",
      "[1] Standard Errors assume that the covariance matrix of the errors is correctly specified.\n",
      "\n",
      "\n",
      "Model Degree: 4\n",
      "                            OLS Regression Results                            \n",
      "==============================================================================\n",
      "Dep. Variable:                      y   R-squared:                       0.894\n",
      "Model:                            OLS   Adj. R-squared:                  0.890\n",
      "Method:                 Least Squares   F-statistic:                     200.2\n",
      "Date:                Thu, 07 Nov 2024   Prob (F-statistic):           2.22e-45\n",
      "Time:                        02:40:54   Log-Likelihood:                -137.74\n",
      "No. Observations:                 100   AIC:                             285.5\n",
      "Df Residuals:                      95   BIC:                             298.5\n",
      "Df Model:                           4                                         \n",
      "Covariance Type:            nonrobust                                         \n",
      "==============================================================================\n",
      "                 coef    std err          t      P>|t|      [0.025      0.975]\n",
      "------------------------------------------------------------------------------\n",
      "const          0.1008      0.136      0.743      0.460      -0.169       0.370\n",
      "x1             0.9050      0.205      4.423      0.000       0.499       1.311\n",
      "x2            -2.5059      0.221    -11.336      0.000      -2.945      -2.067\n",
      "x3             0.0338      0.073      0.466      0.642      -0.110       0.178\n",
      "x4             0.1042      0.045      2.309      0.023       0.015       0.194\n",
      "==============================================================================\n",
      "Omnibus:                        2.476   Durbin-Watson:                   2.163\n",
      "Prob(Omnibus):                  0.290   Jarque-Bera (JB):                2.097\n",
      "Skew:                           0.118   Prob(JB):                        0.351\n",
      "Kurtosis:                       3.669   Cond. No.                         19.9\n",
      "==============================================================================\n",
      "\n",
      "Notes:\n",
      "[1] Standard Errors assume that the covariance matrix of the errors is correctly specified.\n",
      "\n",
      "\n"
     ]
    }
   ],
   "source": [
    "import statsmodels.api as sm\n",
    "\n",
    "def fit_and_summarize(x, y, degree):\n",
    "    poly = PolynomialFeatures(degree)\n",
    "    X_poly = poly.fit_transform(x.reshape(-1, 1))\n",
    "    \n",
    "    model = sm.OLS(y, X_poly).fit()\n",
    "    print(f\"Model Degree: {degree}\")\n",
    "    print(model.summary())\n",
    "    print(\"\\n\")\n",
    "\n",
    "\n",
    "for degree in degrees:\n",
    "    fit_and_summarize(x, y, degree)\n",
    "\n"
   ]
  },
  {
   "cell_type": "code",
   "execution_count": 7,
   "id": "826f88f5-be44-4f02-81a2-a273d377cb1f",
   "metadata": {},
   "outputs": [
    {
     "name": "stdout",
     "output_type": "stream",
     "text": [
      "The regression results for the first, second, and fourth-degree models are all significant, as expected. However, the coefficients for the third-degree model are not significant, which may indicate overfitting.\n"
     ]
    }
   ],
   "source": [
    "print(\"The regression results for the first, second, and fourth-degree models are all significant, as expected. However, the coefficients for the third-degree model are not significant, which may indicate overfitting.\")"
   ]
  }
 ],
 "metadata": {
  "kernelspec": {
   "display_name": "Python 3 (ipykernel)",
   "language": "python",
   "name": "python3"
  },
  "language_info": {
   "codemirror_mode": {
    "name": "ipython",
    "version": 3
   },
   "file_extension": ".py",
   "mimetype": "text/x-python",
   "name": "python",
   "nbconvert_exporter": "python",
   "pygments_lexer": "ipython3",
   "version": "3.12.4"
  }
 },
 "nbformat": 4,
 "nbformat_minor": 5
}
