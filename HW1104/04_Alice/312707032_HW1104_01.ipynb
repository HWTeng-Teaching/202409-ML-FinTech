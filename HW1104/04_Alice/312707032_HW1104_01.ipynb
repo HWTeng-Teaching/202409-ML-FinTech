{
 "cells": [
  {
   "cell_type": "markdown",
   "metadata": {},
   "source": [
    "##\tCh05_Q01 in p224  \n",
    "$$\n",
    "\\alpha = \\frac{\\sigma_Y^2 - \\sigma_{XY}}{\\sigma_X^2 + \\sigma_Y^2 - 2\\sigma_{XY}}, \\tag{5.6}\n",
    "$$\n",
    "\n",
    "where $\\sigma_X^2 = \\text{Var}(X)$，$\\sigma_Y^2 = \\text{Var}(Y)$，and $\\sigma_{XY} = \\text{Cov}(X,Y)$.  \n",
    "\n",
    "Using basic statistical properties of the variance, as well as single variable calculus, derive (5.6). In other words, prove that α given by (5.6) does indeed minimize Var(αX + (1 − α)Y ).  \n"
   ]
  },
  {
   "cell_type": "markdown",
   "metadata": {},
   "source": [
    "## Solution\n",
    "\n",
    "1) First, we need to express $\\text{Var}(\\alpha X + (1 − \\alpha)Y)$ and find $\\alpha$ that minimizes it.\n",
    "\n",
    "2) Using basic properties of variance:\n",
    "   * $\\text{Var}(aX) = a^2\\text{Var}(X)$\n",
    "   * $\\text{Var}(X + Y) = \\text{Var}(X) + \\text{Var}(Y) + 2\\text{Cov}(X,Y)$\n",
    "\n",
    "3) Expanding $\\text{Var}(\\alpha X + (1 − \\alpha)Y)$:\n",
    "   $$\n",
    "   \\text{Var}(\\alpha X + (1-\\alpha)Y) = \\text{Var}(\\alpha X) + \\text{Var}((1-\\alpha)Y) + 2\\text{Cov}(\\alpha X, (1-\\alpha)Y)\n",
    "   $$\n",
    "\n",
    "4) Further expansion:\n",
    "   $$\n",
    "   = \\alpha^2\\text{Var}(X) + (1-\\alpha)^2\\text{Var}(Y) + 2\\alpha(1-\\alpha)\\text{Cov}(X,Y)\n",
    "   $$\n",
    "   $$\n",
    "   = \\alpha^2\\sigma_X^2 + (1-\\alpha)^2\\sigma_Y^2 + 2\\alpha(1-\\alpha)\\sigma_{XY}\n",
    "   $$\n",
    "\n",
    "5) To find the minimum, take derivative with respect to $\\alpha$ and set to zero:\n",
    "   $$\n",
    "   \\frac{d}{d\\alpha}[\\alpha^2\\sigma_X^2 + (1-\\alpha)^2\\sigma_Y^2 + 2\\alpha(1-\\alpha)\\sigma_{XY}] = 0\n",
    "   $$\n",
    "\n",
    "6) Expanding $(1-\\alpha)^2$:\n",
    "   $$\n",
    "   = \\alpha^2\\sigma_X^2 + (1-2\\alpha+\\alpha^2)\\sigma_Y^2 + 2(\\alpha-\\alpha^2)\\sigma_{XY}\n",
    "   $$\n",
    "   $$\n",
    "   = \\alpha^2\\sigma_X^2 + \\sigma_Y^2 - 2\\alpha\\sigma_Y^2 + \\alpha^2\\sigma_Y^2 + 2\\alpha\\sigma_{XY} - 2\\alpha^2\\sigma_{XY}\n",
    "   $$\n",
    "\n",
    "7) Taking the derivative:\n",
    "   $$\n",
    "   2\\alpha\\sigma_X^2 - 2\\sigma_Y^2 + 2\\alpha\\sigma_Y^2 + 2\\sigma_{XY} - 4\\alpha\\sigma_{XY} = 0\n",
    "   $$\n",
    "\n",
    "8) Rearranging:\n",
    "   $$\n",
    "   2\\alpha(\\sigma_X^2 + \\sigma_Y^2 - 2\\sigma_{XY}) = 2(\\sigma_Y^2 - \\sigma_{XY})\n",
    "   $$\n",
    "\n",
    "9) Solving for $\\alpha$:\n",
    "   $$\n",
    "   \\alpha = \\frac{\\sigma_Y^2 - \\sigma_{XY}}{\\sigma_X^2 + \\sigma_Y^2 - 2\\sigma_{XY}}\n",
    "   $$\n",
    "\n",
    "10) To prove this is indeed a minimum and not a maximum, we take the second derivative:\n",
    "    $$\n",
    "    \\frac{d^2}{d\\alpha^2}[\\alpha^2\\sigma_X^2 + (1-\\alpha)^2\\sigma_Y^2 + 2\\alpha(1-\\alpha)\\sigma_{XY}] = 2(\\sigma_X^2 + \\sigma_Y^2 - 2\\sigma_{XY})\n",
    "    $$\n",
    "\n",
    "11) Since this is a quadratic function and the second derivative is positive (note that the denominator must be positive, otherwise we would get a maximum), this $\\alpha$ indeed gives us the minimum value.\n",
    "\n",
    "Therefore, we have proven that $\\alpha$ given by equation (5.6) indeed minimizes $\\text{Var}(\\alpha X + (1 − \\alpha)Y)$."
   ]
  }
 ],
 "metadata": {
  "kernelspec": {
   "display_name": "base",
   "language": "python",
   "name": "python3"
  },
  "language_info": {
   "name": "python",
   "version": "3.11.4"
  },
  "orig_nbformat": 4
 },
 "nbformat": 4,
 "nbformat_minor": 2
}
