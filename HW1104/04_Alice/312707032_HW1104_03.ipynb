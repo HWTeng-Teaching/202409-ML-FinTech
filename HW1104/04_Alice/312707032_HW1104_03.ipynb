{
 "cells": [
  {
   "cell_type": "markdown",
   "metadata": {},
   "source": [
    "## Ch05_Q09 in p227\n",
    "We will now consider the `Boston` housing data set, from the `ISLP` library."
   ]
  },
  {
   "cell_type": "markdown",
   "metadata": {},
   "source": [
    "## Part(a)\n",
    "Based on this data set, provide an estimate for the population mean of `medv`. Call this estimate $\\hat{\\mu}$."
   ]
  },
  {
   "cell_type": "code",
   "execution_count": 3,
   "metadata": {},
   "outputs": [
    {
     "data": {
      "text/latex": [
       "$\\displaystyle \\hat{\\mu} = 22.53$"
      ],
      "text/plain": [
       "<IPython.core.display.Math object>"
      ]
     },
     "metadata": {},
     "output_type": "display_data"
    }
   ],
   "source": [
    "from ISLP import load_data\n",
    "from IPython.display import display, Math\n",
    "\n",
    "boston = load_data('Boston')\n",
    "\n",
    "# Estimate the population mean of `medv`\n",
    "mu_hat = boston['medv'].mean()\n",
    "\n",
    "# Display mu_hat in LaTeX with two decimal places\n",
    "display(Math(f\"\\\\hat{{\\\\mu}} = {mu_hat:.2f}\"))"
   ]
  },
  {
   "cell_type": "markdown",
   "metadata": {},
   "source": [
    "## Part(b)\n",
    "Provide an estimate of the standard error of $\\hat{\\mu}$. Interpret this result.  \n",
    "*Hint: We can compute the standard error of the sample mean by dividing the sample standard deviation by the square root of the number of observations.*"
   ]
  },
  {
   "cell_type": "code",
   "execution_count": 6,
   "metadata": {},
   "outputs": [
    {
     "data": {
      "text/latex": [
       "$\\displaystyle \\text{SE}(\\hat{\\mu}) = 0.41$"
      ],
      "text/plain": [
       "<IPython.core.display.Math object>"
      ]
     },
     "metadata": {},
     "output_type": "display_data"
    }
   ],
   "source": [
    "# Calculate the sample standard deviation and number of observations\n",
    "std_dev = boston['medv'].std()\n",
    "n = len(boston['medv'])\n",
    "\n",
    "# Calculate the standard error of the mean\n",
    "se_mu_hat = std_dev / (n ** 0.5)\n",
    "display(Math(f\"\\\\text{{SE}}(\\\\hat{{\\\\mu}}) = {se_mu_hat:.2f}\"))"
   ]
  },
  {
   "cell_type": "markdown",
   "metadata": {},
   "source": [
    "## Part(c)\n",
    "Now estimate the standard error of $\\hat{\\mu}$ using the bootstrap. How does this compare to your answer from (b)?"
   ]
  },
  {
   "cell_type": "code",
   "execution_count": 12,
   "metadata": {},
   "outputs": [
    {
     "data": {
      "text/latex": [
       "$\\displaystyle \\text{SE}_{\\text{Bootstrap}}(\\hat{\\mu}) = 0.42$"
      ],
      "text/plain": [
       "<IPython.core.display.Math object>"
      ]
     },
     "metadata": {},
     "output_type": "display_data"
    }
   ],
   "source": [
    "import numpy as np\n",
    "\n",
    "# Number of bootstrap samples\n",
    "n_bootstrap = 1000\n",
    "\n",
    "# Generate bootstrap sample means\n",
    "bootstrap_means = [boston['medv'].sample(frac=1, replace=True).mean() for _ in range(n_bootstrap)]\n",
    "\n",
    "# Calculate the bootstrap standard error of the mean\n",
    "se_mu_hat_bootstrap = np.std(bootstrap_means)\n",
    "\n",
    "# Display the bootstrap standard error in LaTeX format\n",
    "display(Math(f\"\\\\text{{SE}}_{{\\\\text{{Bootstrap}}}}(\\\\hat{{\\\\mu}}) = {se_mu_hat_bootstrap:.2f}\"))"
   ]
  },
  {
   "cell_type": "markdown",
   "metadata": {},
   "source": [
    "### Answer:\n",
    "The results for the standard error of \\( $\\hat{\\mu}$ \\) are as follows:\n",
    "\n",
    "- **Standard Error from Part (b)**: \\( $\\text{SE}(\\hat{\\mu}) = 0.41$ \\)\n",
    "- **Bootstrap Standard Error from Part (c)**: \\( $\\text{SE}_{\\text{Bootstrap}}(\\hat{\\mu}) = 0.42$ \\)\n",
    "\n",
    "#### Comparison and Interpretation\n",
    "\n",
    "The two standard error estimates are very close, differing by only 0.01. This similarity suggests that both methods provide a consistent and reliable estimate of the standard error for the sample mean \\( $\\hat{\\mu}$ \\). Here’s what this implies:\n",
    "\n",
    "1. **Consistency**: The closeness of these values supports the accuracy of the standard error obtained through the traditional formula (Part b) as well as through the bootstrap approach (Part c).\n",
    "   \n",
    "2. **Bootstrap Reliability**: The bootstrap approach in Part (c) serves as a robust check on the standard error estimate from Part (b). Since they are nearly identical, we can be confident in the precision of both methods.\n",
    "\n",
    "3. **Conclusion**: Both methods indicate a similar level of variability in \\( $\\hat{\\mu}$ \\), confirming that the sample mean is a stable and reliable estimate of the population mean in this dataset."
   ]
  },
  {
   "cell_type": "markdown",
   "metadata": {},
   "source": [
    "## Part(d)\n",
    "\n",
    "$$\n",
    "\\hat{\\beta_1}\\pm3\\cdot SE\\left(\\hat{\\beta_1} \\right) \\tag{3.9}\n",
    "$$\n",
    "Based on your bootstrap estimate from (c), provide a 95 % confidence interval for the mean of `medv`. Compare it to the results obtained by using `Boston['medv'].std()` and the two standard error rule (3.9).\n",
    "\n",
    "*Hint: You can approximate a 95 % confidence interval using the formula $\\left[\\hat{\\mu}-2SE\\left(\\hat{\\mu}\\right),\\ \\hat{\\mu}+2SE\\left(\\hat{\\mu}\\right)\\right]$.*"
   ]
  },
  {
   "cell_type": "code",
   "execution_count": 8,
   "metadata": {},
   "outputs": [
    {
     "name": "stdout",
     "output_type": "stream",
     "text": [
      "Bootstrap 95% Confidence Interval for the Mean of medv: [21.73, 23.33]\n",
      "Standard 95% Confidence Interval for the Mean of medv: [21.72, 23.35]\n"
     ]
    }
   ],
   "source": [
    "# Calculate the 95% confidence interval using the bootstrap SE\n",
    "bootstrap_ci_lower = mu_hat - 2 * se_mu_hat_bootstrap\n",
    "bootstrap_ci_upper = mu_hat + 2 * se_mu_hat_bootstrap\n",
    "\n",
    "print(f\"Bootstrap 95% Confidence Interval for the Mean of medv: [{bootstrap_ci_lower:.2f}, {bootstrap_ci_upper:.2f}]\")\n",
    "\n",
    "# Calculate the 95% confidence interval using the standard error from Part (b)\n",
    "standard_ci_lower = mu_hat - 2 * se_mu_hat\n",
    "standard_ci_upper = mu_hat + 2 * se_mu_hat\n",
    "\n",
    "print(f\"Standard 95% Confidence Interval for the Mean of medv: [{standard_ci_lower:.2f}, {standard_ci_upper:.2f}]\")"
   ]
  },
  {
   "cell_type": "markdown",
   "metadata": {},
   "source": [
    "### Answer:\n",
    "The results show that both confidence intervals are very close:\n",
    "\n",
    "- **Bootstrap 95% Confidence Interval**: \\([21.73, 23.33]\\)\n",
    "- **Standard 95% Confidence Interval**: \\([21.72, 23.35]\\)\n",
    "\n",
    "#### Interpretation\n",
    "The similarity between the two intervals indicates that the bootstrap approach and the traditional two-standard-error rule both provide consistent and reliable estimates for the 95% confidence interval of the mean of `medv`. This agreement suggests that the sample standard error from Part (b) is a good estimate of the variability around the mean, corroborated by the bootstrap method. \n",
    "\n",
    "#### Conclusion\n",
    "These close results support the robustness of our confidence interval estimates, regardless of the method used."
   ]
  },
  {
   "cell_type": "markdown",
   "metadata": {},
   "source": [
    "## Part(e)\n",
    "Based on this data set, provide an estimate, $\\hat{\\mu}_{med}$, for the median value of `medv` in the population."
   ]
  },
  {
   "cell_type": "code",
   "execution_count": 14,
   "metadata": {},
   "outputs": [
    {
     "data": {
      "text/latex": [
       "$\\displaystyle \\hat{\\mu}_{\\text{med}} = 21.20$"
      ],
      "text/plain": [
       "<IPython.core.display.Math object>"
      ]
     },
     "metadata": {},
     "output_type": "display_data"
    }
   ],
   "source": [
    "# Calculate the median of medv\n",
    "mu_med_hat = boston['medv'].median()\n",
    "\n",
    "# Display the result\n",
    "display(Math(f\"\\\\hat{{\\\\mu}}_{{\\\\text{{med}}}} = {mu_med_hat:.2f}\"))"
   ]
  },
  {
   "cell_type": "markdown",
   "metadata": {},
   "source": [
    "## Part(f)\n",
    "We now would like to estimate the standard error of $\\hat{\\mu}_{med}$. Unfortunately, there is no simple formula for computing the standard error of the median. Instead, estimate the standard error of the median using the bootstrap. Comment on your findings."
   ]
  },
  {
   "cell_type": "code",
   "execution_count": 16,
   "metadata": {},
   "outputs": [
    {
     "data": {
      "text/latex": [
       "$\\displaystyle \\text{SE}_{\\text{Bootstrap}}(\\hat{\\mu}_{\\text{med}}) = 0.38$"
      ],
      "text/plain": [
       "<IPython.core.display.Math object>"
      ]
     },
     "metadata": {},
     "output_type": "display_data"
    }
   ],
   "source": [
    "# Number of bootstrap samples\n",
    "n_bootstrap = 1000\n",
    "\n",
    "# Generate bootstrap sample medians\n",
    "bootstrap_medians = [boston['medv'].sample(frac=1, replace=True).median() for _ in range(n_bootstrap)]\n",
    "\n",
    "# Calculate the standard error of the median using bootstrap\n",
    "se_mu_med_hat_bootstrap = np.std(bootstrap_medians)\n",
    "\n",
    "# Display the bootstrap standard error in LaTeX format\n",
    "from IPython.display import display, Math\n",
    "display(Math(f\"\\\\text{{SE}}_{{\\\\text{{Bootstrap}}}}(\\\\hat{{\\\\mu}}_{{\\\\text{{med}}}}) = {se_mu_med_hat_bootstrap:.2f}\"))"
   ]
  },
  {
   "cell_type": "markdown",
   "metadata": {},
   "source": [
    "### Answer: \n",
    "- **Bootstrap Standard Error**: \\( $\\text{SE}_{\\text{Bootstrap}}(\\hat{\\mu}_{\\text{med}}) = 0.38$ \\)\n",
    "  \n",
    "- **Interpretation**:\n",
    "  - This small standard error indicates that the median is a stable and reliable estimate of the population median.\n",
    "  - Limited variability suggests that the sample median is a consistent measure of central tendency for `medv`.\n",
    "  \n",
    "- **Usefulness of Bootstrap**:\n",
    "  - The bootstrap method provides a robust estimate of the median’s standard error, which lacks a simple analytical formula.\n",
    "  \n",
    "This format confirms that the median is a dependable estimate of central tendency for this dataset."
   ]
  },
  {
   "cell_type": "markdown",
   "metadata": {},
   "source": [
    "## Part(g)\n",
    "Based on this data set, provide an estimate for the tenth percentile of `medv` in Boston census tracts. Call this quantity $\\hat{\\mu}_{0.1}$.  \n",
    "(You can use the `np.percentile()` function.)"
   ]
  },
  {
   "cell_type": "code",
   "execution_count": 17,
   "metadata": {},
   "outputs": [
    {
     "data": {
      "text/latex": [
       "$\\displaystyle \\hat{\\mu}_{0.1} = 12.75$"
      ],
      "text/plain": [
       "<IPython.core.display.Math object>"
      ]
     },
     "metadata": {},
     "output_type": "display_data"
    }
   ],
   "source": [
    "# Calculate the 10th percentile of medv\n",
    "mu_0_1_hat = np.percentile(boston['medv'], 10)\n",
    "\n",
    "display(Math(f\"\\\\hat{{\\\\mu}}_{{0.1}} = {mu_0_1_hat:.2f}\"))"
   ]
  },
  {
   "cell_type": "markdown",
   "metadata": {},
   "source": [
    "## Part(h)\n",
    "Use the bootstrap to estimate the standard error of $\\hat{\\mu}_{0.1}$. Comment on your findings."
   ]
  },
  {
   "cell_type": "code",
   "execution_count": 19,
   "metadata": {},
   "outputs": [
    {
     "data": {
      "text/latex": [
       "$\\displaystyle \\text{SE}_{\\text{Bootstrap}}(\\hat{\\mu}_{0.1}) = 0.51$"
      ],
      "text/plain": [
       "<IPython.core.display.Math object>"
      ]
     },
     "metadata": {},
     "output_type": "display_data"
    }
   ],
   "source": [
    "# Number of bootstrap samples\n",
    "n_bootstrap = 1000\n",
    "\n",
    "# Generate bootstrap sample percentiles\n",
    "bootstrap_percentiles = [np.percentile(boston['medv'].sample(frac=1, replace=True), 10) for _ in range(n_bootstrap)]\n",
    "\n",
    "# Calculate the standard error of the 10th percentile using bootstrap\n",
    "se_mu_0_1_hat_bootstrap = np.std(bootstrap_percentiles)\n",
    "\n",
    "# Display the bootstrap standard error in LaTeX format\n",
    "from IPython.display import display, Math\n",
    "display(Math(f\"\\\\text{{SE}}_{{\\\\text{{Bootstrap}}}}(\\\\hat{{\\\\mu}}_{{0.1}}) = {se_mu_0_1_hat_bootstrap:.2f}\"))"
   ]
  },
  {
   "cell_type": "markdown",
   "metadata": {},
   "source": [
    "### Answer:\n",
    "- **Bootstrap Standard Error**: \\( $\\text{SE}_{\\text{Bootstrap}}(\\hat{\\mu}_{0.1}) = 0.51$ \\)\n",
    "\n",
    "- **Interpretation**:\n",
    "  - Moderate variability indicates that the 10th percentile estimate has some fluctuation across samples.\n",
    "  - Lower percentiles are more sensitive to sample changes, leading to higher variability than central measures.\n",
    "\n",
    "- **Reliability**:\n",
    "  - The bootstrap effectively captures this variability, providing a reliable standard error where traditional formulas aren’t available.\n",
    "\n",
    "In summary, the moderate standard error suggests the 10th percentile is a useful but somewhat variable estimate."
   ]
  }
 ],
 "metadata": {
  "kernelspec": {
   "display_name": "base",
   "language": "python",
   "name": "python3"
  },
  "language_info": {
   "codemirror_mode": {
    "name": "ipython",
    "version": 3
   },
   "file_extension": ".py",
   "mimetype": "text/x-python",
   "name": "python",
   "nbconvert_exporter": "python",
   "pygments_lexer": "ipython3",
   "version": "3.11.4"
  },
  "orig_nbformat": 4
 },
 "nbformat": 4,
 "nbformat_minor": 2
}
