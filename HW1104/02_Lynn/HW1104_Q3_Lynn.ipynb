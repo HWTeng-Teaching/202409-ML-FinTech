{
  "nbformat": 4,
  "nbformat_minor": 0,
  "metadata": {
    "colab": {
      "provenance": []
    },
    "kernelspec": {
      "name": "python3",
      "display_name": "Python 3"
    },
    "language_info": {
      "name": "python"
    }
  },
  "cells": [
    {
      "cell_type": "markdown",
      "source": [
        "## Chapter 5, Question 9"
      ],
      "metadata": {
        "id": "HsF34X_nmEyZ"
      }
    },
    {
      "cell_type": "markdown",
      "source": [
        "### We will now consider the Boston housing data set, from the ISLP library."
      ],
      "metadata": {
        "id": "-fX9pcIemHsR"
      }
    },
    {
      "cell_type": "code",
      "source": [
        "!pip install ISLP"
      ],
      "metadata": {
        "colab": {
          "base_uri": "https://localhost:8080/"
        },
        "id": "vWMrQirInmTz",
        "outputId": "a4602b09-4a1a-499b-fa15-6f789c5db732"
      },
      "execution_count": 1,
      "outputs": [
        {
          "output_type": "stream",
          "name": "stdout",
          "text": [
            "Collecting ISLP\n",
            "  Downloading ISLP-0.4.0-py3-none-any.whl.metadata (7.0 kB)\n",
            "Requirement already satisfied: numpy>=1.7.1 in /usr/local/lib/python3.10/dist-packages (from ISLP) (1.26.4)\n",
            "Requirement already satisfied: scipy>=0.9 in /usr/local/lib/python3.10/dist-packages (from ISLP) (1.13.1)\n",
            "Requirement already satisfied: pandas>=0.20 in /usr/local/lib/python3.10/dist-packages (from ISLP) (2.2.2)\n",
            "Requirement already satisfied: lxml in /usr/local/lib/python3.10/dist-packages (from ISLP) (5.3.0)\n",
            "Requirement already satisfied: scikit-learn>=1.2 in /usr/local/lib/python3.10/dist-packages (from ISLP) (1.5.2)\n",
            "Requirement already satisfied: joblib in /usr/local/lib/python3.10/dist-packages (from ISLP) (1.4.2)\n",
            "Requirement already satisfied: statsmodels>=0.13 in /usr/local/lib/python3.10/dist-packages (from ISLP) (0.14.4)\n",
            "Collecting lifelines (from ISLP)\n",
            "  Downloading lifelines-0.30.0-py3-none-any.whl.metadata (3.2 kB)\n",
            "Collecting pygam (from ISLP)\n",
            "  Downloading pygam-0.9.1-py3-none-any.whl.metadata (7.1 kB)\n",
            "Requirement already satisfied: torch in /usr/local/lib/python3.10/dist-packages (from ISLP) (2.5.0+cu121)\n",
            "Collecting pytorch-lightning (from ISLP)\n",
            "  Downloading pytorch_lightning-2.4.0-py3-none-any.whl.metadata (21 kB)\n",
            "Collecting torchmetrics (from ISLP)\n",
            "  Downloading torchmetrics-1.5.2-py3-none-any.whl.metadata (20 kB)\n",
            "Requirement already satisfied: python-dateutil>=2.8.2 in /usr/local/lib/python3.10/dist-packages (from pandas>=0.20->ISLP) (2.8.2)\n",
            "Requirement already satisfied: pytz>=2020.1 in /usr/local/lib/python3.10/dist-packages (from pandas>=0.20->ISLP) (2024.2)\n",
            "Requirement already satisfied: tzdata>=2022.7 in /usr/local/lib/python3.10/dist-packages (from pandas>=0.20->ISLP) (2024.2)\n",
            "Requirement already satisfied: threadpoolctl>=3.1.0 in /usr/local/lib/python3.10/dist-packages (from scikit-learn>=1.2->ISLP) (3.5.0)\n",
            "Requirement already satisfied: patsy>=0.5.6 in /usr/local/lib/python3.10/dist-packages (from statsmodels>=0.13->ISLP) (0.5.6)\n",
            "Requirement already satisfied: packaging>=21.3 in /usr/local/lib/python3.10/dist-packages (from statsmodels>=0.13->ISLP) (24.1)\n",
            "Requirement already satisfied: matplotlib>=3.0 in /usr/local/lib/python3.10/dist-packages (from lifelines->ISLP) (3.8.0)\n",
            "Requirement already satisfied: autograd>=1.5 in /usr/local/lib/python3.10/dist-packages (from lifelines->ISLP) (1.7.0)\n",
            "Collecting autograd-gamma>=0.3 (from lifelines->ISLP)\n",
            "  Downloading autograd-gamma-0.5.0.tar.gz (4.0 kB)\n",
            "  Preparing metadata (setup.py) ... \u001b[?25l\u001b[?25hdone\n",
            "Collecting formulaic>=0.2.2 (from lifelines->ISLP)\n",
            "  Downloading formulaic-1.0.2-py3-none-any.whl.metadata (6.8 kB)\n",
            "Requirement already satisfied: progressbar2<5.0.0,>=4.2.0 in /usr/local/lib/python3.10/dist-packages (from pygam->ISLP) (4.5.0)\n",
            "Collecting scipy>=0.9 (from ISLP)\n",
            "  Downloading scipy-1.11.4-cp310-cp310-manylinux_2_17_x86_64.manylinux2014_x86_64.whl.metadata (60 kB)\n",
            "\u001b[2K     \u001b[90m━━━━━━━━━━━━━━━━━━━━━━━━━━━━━━━━━━━━━━━━\u001b[0m \u001b[32m60.4/60.4 kB\u001b[0m \u001b[31m1.5 MB/s\u001b[0m eta \u001b[36m0:00:00\u001b[0m\n",
            "\u001b[?25hRequirement already satisfied: tqdm>=4.57.0 in /usr/local/lib/python3.10/dist-packages (from pytorch-lightning->ISLP) (4.66.6)\n",
            "Requirement already satisfied: PyYAML>=5.4 in /usr/local/lib/python3.10/dist-packages (from pytorch-lightning->ISLP) (6.0.2)\n",
            "Requirement already satisfied: fsspec>=2022.5.0 in /usr/local/lib/python3.10/dist-packages (from fsspec[http]>=2022.5.0->pytorch-lightning->ISLP) (2024.10.0)\n",
            "Requirement already satisfied: typing-extensions>=4.4.0 in /usr/local/lib/python3.10/dist-packages (from pytorch-lightning->ISLP) (4.12.2)\n",
            "Collecting lightning-utilities>=0.10.0 (from pytorch-lightning->ISLP)\n",
            "  Downloading lightning_utilities-0.11.8-py3-none-any.whl.metadata (5.2 kB)\n",
            "Requirement already satisfied: filelock in /usr/local/lib/python3.10/dist-packages (from torch->ISLP) (3.16.1)\n",
            "Requirement already satisfied: networkx in /usr/local/lib/python3.10/dist-packages (from torch->ISLP) (3.4.2)\n",
            "Requirement already satisfied: jinja2 in /usr/local/lib/python3.10/dist-packages (from torch->ISLP) (3.1.4)\n",
            "Requirement already satisfied: sympy==1.13.1 in /usr/local/lib/python3.10/dist-packages (from torch->ISLP) (1.13.1)\n",
            "Requirement already satisfied: mpmath<1.4,>=1.1.0 in /usr/local/lib/python3.10/dist-packages (from sympy==1.13.1->torch->ISLP) (1.3.0)\n",
            "Collecting interface-meta>=1.2.0 (from formulaic>=0.2.2->lifelines->ISLP)\n",
            "  Downloading interface_meta-1.3.0-py3-none-any.whl.metadata (6.7 kB)\n",
            "Requirement already satisfied: wrapt>=1.0 in /usr/local/lib/python3.10/dist-packages (from formulaic>=0.2.2->lifelines->ISLP) (1.16.0)\n",
            "Requirement already satisfied: aiohttp!=4.0.0a0,!=4.0.0a1 in /usr/local/lib/python3.10/dist-packages (from fsspec[http]>=2022.5.0->pytorch-lightning->ISLP) (3.10.10)\n",
            "Requirement already satisfied: setuptools in /usr/local/lib/python3.10/dist-packages (from lightning-utilities>=0.10.0->pytorch-lightning->ISLP) (75.1.0)\n",
            "Requirement already satisfied: contourpy>=1.0.1 in /usr/local/lib/python3.10/dist-packages (from matplotlib>=3.0->lifelines->ISLP) (1.3.0)\n",
            "Requirement already satisfied: cycler>=0.10 in /usr/local/lib/python3.10/dist-packages (from matplotlib>=3.0->lifelines->ISLP) (0.12.1)\n",
            "Requirement already satisfied: fonttools>=4.22.0 in /usr/local/lib/python3.10/dist-packages (from matplotlib>=3.0->lifelines->ISLP) (4.54.1)\n",
            "Requirement already satisfied: kiwisolver>=1.0.1 in /usr/local/lib/python3.10/dist-packages (from matplotlib>=3.0->lifelines->ISLP) (1.4.7)\n",
            "Requirement already satisfied: pillow>=6.2.0 in /usr/local/lib/python3.10/dist-packages (from matplotlib>=3.0->lifelines->ISLP) (10.4.0)\n",
            "Requirement already satisfied: pyparsing>=2.3.1 in /usr/local/lib/python3.10/dist-packages (from matplotlib>=3.0->lifelines->ISLP) (3.2.0)\n",
            "Requirement already satisfied: six in /usr/local/lib/python3.10/dist-packages (from patsy>=0.5.6->statsmodels>=0.13->ISLP) (1.16.0)\n",
            "Requirement already satisfied: python-utils>=3.8.1 in /usr/local/lib/python3.10/dist-packages (from progressbar2<5.0.0,>=4.2.0->pygam->ISLP) (3.9.0)\n",
            "Requirement already satisfied: MarkupSafe>=2.0 in /usr/local/lib/python3.10/dist-packages (from jinja2->torch->ISLP) (3.0.2)\n",
            "Requirement already satisfied: aiohappyeyeballs>=2.3.0 in /usr/local/lib/python3.10/dist-packages (from aiohttp!=4.0.0a0,!=4.0.0a1->fsspec[http]>=2022.5.0->pytorch-lightning->ISLP) (2.4.3)\n",
            "Requirement already satisfied: aiosignal>=1.1.2 in /usr/local/lib/python3.10/dist-packages (from aiohttp!=4.0.0a0,!=4.0.0a1->fsspec[http]>=2022.5.0->pytorch-lightning->ISLP) (1.3.1)\n",
            "Requirement already satisfied: attrs>=17.3.0 in /usr/local/lib/python3.10/dist-packages (from aiohttp!=4.0.0a0,!=4.0.0a1->fsspec[http]>=2022.5.0->pytorch-lightning->ISLP) (24.2.0)\n",
            "Requirement already satisfied: frozenlist>=1.1.1 in /usr/local/lib/python3.10/dist-packages (from aiohttp!=4.0.0a0,!=4.0.0a1->fsspec[http]>=2022.5.0->pytorch-lightning->ISLP) (1.5.0)\n",
            "Requirement already satisfied: multidict<7.0,>=4.5 in /usr/local/lib/python3.10/dist-packages (from aiohttp!=4.0.0a0,!=4.0.0a1->fsspec[http]>=2022.5.0->pytorch-lightning->ISLP) (6.1.0)\n",
            "Requirement already satisfied: yarl<2.0,>=1.12.0 in /usr/local/lib/python3.10/dist-packages (from aiohttp!=4.0.0a0,!=4.0.0a1->fsspec[http]>=2022.5.0->pytorch-lightning->ISLP) (1.17.0)\n",
            "Requirement already satisfied: async-timeout<5.0,>=4.0 in /usr/local/lib/python3.10/dist-packages (from aiohttp!=4.0.0a0,!=4.0.0a1->fsspec[http]>=2022.5.0->pytorch-lightning->ISLP) (4.0.3)\n",
            "Requirement already satisfied: idna>=2.0 in /usr/local/lib/python3.10/dist-packages (from yarl<2.0,>=1.12.0->aiohttp!=4.0.0a0,!=4.0.0a1->fsspec[http]>=2022.5.0->pytorch-lightning->ISLP) (3.10)\n",
            "Requirement already satisfied: propcache>=0.2.0 in /usr/local/lib/python3.10/dist-packages (from yarl<2.0,>=1.12.0->aiohttp!=4.0.0a0,!=4.0.0a1->fsspec[http]>=2022.5.0->pytorch-lightning->ISLP) (0.2.0)\n",
            "Downloading ISLP-0.4.0-py3-none-any.whl (3.6 MB)\n",
            "\u001b[2K   \u001b[90m━━━━━━━━━━━━━━━━━━━━━━━━━━━━━━━━━━━━━━━━\u001b[0m \u001b[32m3.6/3.6 MB\u001b[0m \u001b[31m39.6 MB/s\u001b[0m eta \u001b[36m0:00:00\u001b[0m\n",
            "\u001b[?25hDownloading lifelines-0.30.0-py3-none-any.whl (349 kB)\n",
            "\u001b[2K   \u001b[90m━━━━━━━━━━━━━━━━━━━━━━━━━━━━━━━━━━━━━━━━\u001b[0m \u001b[32m349.3/349.3 kB\u001b[0m \u001b[31m18.1 MB/s\u001b[0m eta \u001b[36m0:00:00\u001b[0m\n",
            "\u001b[?25hDownloading pygam-0.9.1-py3-none-any.whl (522 kB)\n",
            "\u001b[2K   \u001b[90m━━━━━━━━━━━━━━━━━━━━━━━━━━━━━━━━━━━━━━━━\u001b[0m \u001b[32m522.0/522.0 kB\u001b[0m \u001b[31m16.7 MB/s\u001b[0m eta \u001b[36m0:00:00\u001b[0m\n",
            "\u001b[?25hDownloading scipy-1.11.4-cp310-cp310-manylinux_2_17_x86_64.manylinux2014_x86_64.whl (36.4 MB)\n",
            "\u001b[2K   \u001b[90m━━━━━━━━━━━━━━━━━━━━━━━━━━━━━━━━━━━━━━━━\u001b[0m \u001b[32m36.4/36.4 MB\u001b[0m \u001b[31m10.6 MB/s\u001b[0m eta \u001b[36m0:00:00\u001b[0m\n",
            "\u001b[?25hDownloading pytorch_lightning-2.4.0-py3-none-any.whl (815 kB)\n",
            "\u001b[2K   \u001b[90m━━━━━━━━━━━━━━━━━━━━━━━━━━━━━━━━━━━━━━━━\u001b[0m \u001b[32m815.2/815.2 kB\u001b[0m \u001b[31m22.2 MB/s\u001b[0m eta \u001b[36m0:00:00\u001b[0m\n",
            "\u001b[?25hDownloading torchmetrics-1.5.2-py3-none-any.whl (891 kB)\n",
            "\u001b[2K   \u001b[90m━━━━━━━━━━━━━━━━━━━━━━━━━━━━━━━━━━━━━━━━\u001b[0m \u001b[32m891.4/891.4 kB\u001b[0m \u001b[31m32.1 MB/s\u001b[0m eta \u001b[36m0:00:00\u001b[0m\n",
            "\u001b[?25hDownloading formulaic-1.0.2-py3-none-any.whl (94 kB)\n",
            "\u001b[2K   \u001b[90m━━━━━━━━━━━━━━━━━━━━━━━━━━━━━━━━━━━━━━━━\u001b[0m \u001b[32m94.5/94.5 kB\u001b[0m \u001b[31m6.1 MB/s\u001b[0m eta \u001b[36m0:00:00\u001b[0m\n",
            "\u001b[?25hDownloading lightning_utilities-0.11.8-py3-none-any.whl (26 kB)\n",
            "Downloading interface_meta-1.3.0-py3-none-any.whl (14 kB)\n",
            "Building wheels for collected packages: autograd-gamma\n",
            "  Building wheel for autograd-gamma (setup.py) ... \u001b[?25l\u001b[?25hdone\n",
            "  Created wheel for autograd-gamma: filename=autograd_gamma-0.5.0-py3-none-any.whl size=4031 sha256=8fb3d754e0386adef9b72c3c8cf0675005dd344d894695fd25ab357971b43662\n",
            "  Stored in directory: /root/.cache/pip/wheels/25/cc/e0/ef2969164144c899fedb22b338f6703e2b9cf46eeebf254991\n",
            "Successfully built autograd-gamma\n",
            "Installing collected packages: scipy, lightning-utilities, interface-meta, autograd-gamma, torchmetrics, pygam, formulaic, lifelines, pytorch-lightning, ISLP\n",
            "  Attempting uninstall: scipy\n",
            "    Found existing installation: scipy 1.13.1\n",
            "    Uninstalling scipy-1.13.1:\n",
            "      Successfully uninstalled scipy-1.13.1\n",
            "Successfully installed ISLP-0.4.0 autograd-gamma-0.5.0 formulaic-1.0.2 interface-meta-1.3.0 lifelines-0.30.0 lightning-utilities-0.11.8 pygam-0.9.1 pytorch-lightning-2.4.0 scipy-1.11.4 torchmetrics-1.5.2\n"
          ]
        }
      ]
    },
    {
      "cell_type": "code",
      "source": [
        "import ISLP\n",
        "import pandas as pd\n",
        "import numpy as np\n",
        "import matplotlib.pyplot as plt"
      ],
      "metadata": {
        "id": "L1iastelnndX"
      },
      "execution_count": 2,
      "outputs": []
    },
    {
      "cell_type": "markdown",
      "source": [
        "### (a) Based on this data set, provide an estimate for the population mean of medv. Call this estimate μˆ."
      ],
      "metadata": {
        "id": "Umwn9KwOmJ61"
      }
    },
    {
      "cell_type": "code",
      "execution_count": 3,
      "metadata": {
        "colab": {
          "base_uri": "https://localhost:8080/"
        },
        "id": "Ysh33fzBj6bB",
        "outputId": "76e8982b-893b-4821-b4af-72a5dec82d06"
      },
      "outputs": [
        {
          "output_type": "stream",
          "name": "stdout",
          "text": [
            "Estimate for the population mean of medv (μ̂): 22.532806324110677\n"
          ]
        }
      ],
      "source": [
        "from ISLP import load_data\n",
        "boston = load_data(\"Boston\")\n",
        "mu_hat = np.mean(boston['medv'])\n",
        "print(f\"Estimate for the population mean of medv (μ̂): {mu_hat}\")"
      ]
    },
    {
      "cell_type": "markdown",
      "source": [
        "### (b) Provide an estimate of the standard error of μˆ. Interpret this result\n",
        "Hint: We can compute the standard error of the sample mean by dividing the sample standard deviation by the square root of the number of observations."
      ],
      "metadata": {
        "id": "_Gf6jS5DmO4A"
      }
    },
    {
      "cell_type": "code",
      "source": [
        "# Calculate the sample standard deviation of 'medv'\n",
        "sigma_hat = np.std(boston['medv'])\n",
        "\n",
        "# Calculate the number of observations\n",
        "n = len(boston['medv'])\n",
        "\n",
        "# Estimate the standard error of μ̂\n",
        "standard_error = sigma_hat / np.sqrt(n)\n",
        "\n",
        "print(f\"Estimate of the standard error of μ̂: {standard_error}\")"
      ],
      "metadata": {
        "colab": {
          "base_uri": "https://localhost:8080/"
        },
        "id": "YgnslmaSmWqu",
        "outputId": "6b1f1019-1d81-4410-c9a9-10361edbb24a"
      },
      "execution_count": 8,
      "outputs": [
        {
          "output_type": "stream",
          "name": "stdout",
          "text": [
            "Estimate of the standard error of μ̂: 0.4084569346972867\n"
          ]
        }
      ]
    },
    {
      "cell_type": "markdown",
      "source": [
        "Interpretation:\n",
        "* The standard error of the mean (μ̂) is an estimate of the standard deviation of the sampling distribution of the mean.  \n",
        "* It tells us how much our sample mean (μ̂) is likely to vary from the true population mean.  \n",
        "* A smaller standard error indicates a more precise estimate of the population mean. In this case, the standard error is [standard_error], suggesting a [interpretation based on the magnitude, e.g., relatively small/large] **degree of uncertainty** in our estimate of the population mean of 'medv'."
      ],
      "metadata": {
        "id": "QwR1JYTaoYOW"
      }
    },
    {
      "cell_type": "markdown",
      "source": [
        "### (c) Now estimate the standard error of μˆ using the bootstrap. How does this compare to your answer from (b)?"
      ],
      "metadata": {
        "id": "EsvxWlyfmXTN"
      }
    },
    {
      "cell_type": "code",
      "source": [
        "# Number of bootstrap samples\n",
        "B = 1000\n",
        "\n",
        "# Initialize an array to store the bootstrap estimates of the mean\n",
        "bootstrap_means = np.zeros(B)\n",
        "\n",
        "# Generate bootstrap samples and calculate the mean for each sample\n",
        "for b in range(B):\n",
        "    # Sample with replacement from the 'medv' column\n",
        "    bootstrap_sample = np.random.choice(boston['medv'], size=len(boston['medv']), replace=True)\n",
        "    bootstrap_means[b] = np.mean(bootstrap_sample)\n",
        "\n",
        "# Estimate the standard error of μ̂ using the bootstrap\n",
        "bootstrap_standard_error = np.std(bootstrap_means)\n",
        "\n",
        "print(f\"Bootstrap estimate of the standard error of μ̂: {bootstrap_standard_error}\")\n",
        "\n",
        "# Comparison:\n",
        "print(\"\\nComparison:\")\n",
        "print(f\"Standard error from formula (b): {standard_error}\")\n",
        "print(f\"Bootstrap standard error (c): {bootstrap_standard_error}\")"
      ],
      "metadata": {
        "colab": {
          "base_uri": "https://localhost:8080/"
        },
        "id": "qqp-tsAbma4q",
        "outputId": "66573493-61dd-4f23-f1e9-3757048ed5f3"
      },
      "execution_count": 11,
      "outputs": [
        {
          "output_type": "stream",
          "name": "stdout",
          "text": [
            "Bootstrap estimate of the standard error of μ̂: 0.41290713819730646\n",
            "\n",
            "Comparison:\n",
            "Standard error from formula (b): 0.4084569346972867\n",
            "Bootstrap standard error (c): 0.41290713819730646\n"
          ]
        }
      ]
    },
    {
      "cell_type": "markdown",
      "source": [
        "Bootstrap estimate for the standard error is slightly larger than (b).\n",
        "However, the bootstrap sample is chosen by randomness, it may cause different values and result each time."
      ],
      "metadata": {
        "id": "jRn9YeOwqDQD"
      }
    },
    {
      "cell_type": "markdown",
      "source": [
        "### (d) Based on your bootstrap estimate from (c), provide a 95 % confidence interval for the mean of medv. Compare it to the results obtained by using Boston['medv'].std() and the two standard error rule (3.9).\n",
        "Hint: You can approximate a 95 % confdence interval using the formula [ˆμ − 2SE(ˆμ), μˆ + 2SE(ˆμ)]."
      ],
      "metadata": {
        "id": "IzEGl2RTmbec"
      }
    },
    {
      "cell_type": "code",
      "source": [
        "# Calculate the 95% confidence interval using the bootstrap standard error\n",
        "lower_bound = mu_hat - 2 * bootstrap_standard_error\n",
        "upper_bound = mu_hat + 2 * bootstrap_standard_error\n",
        "print(f\"\\n95% Confidence Interval (using bootstrap standard error): [{lower_bound}, {upper_bound}]\")\n",
        "\n",
        "# Calculate the 95% confidence interval using the standard error from (b) and the two standard error rule\n",
        "lower_bound_b = mu_hat - 2 * standard_error\n",
        "upper_bound_b = mu_hat + 2 * standard_error\n",
        "print(f\"95% Confidence Interval (using standard error from (b)): [{lower_bound_b}, {upper_bound_b}]\")"
      ],
      "metadata": {
        "colab": {
          "base_uri": "https://localhost:8080/"
        },
        "id": "_67vPCfnmoH0",
        "outputId": "2ca9276c-63f0-4598-c629-ed446a11604a"
      },
      "execution_count": 12,
      "outputs": [
        {
          "output_type": "stream",
          "name": "stdout",
          "text": [
            "\n",
            "95% Confidence Interval (using bootstrap standard error): [21.706992047716064, 23.35862060050529]\n",
            "95% Confidence Interval (using standard error from (b)): [21.715892454716105, 23.34972019350525]\n"
          ]
        }
      ]
    },
    {
      "cell_type": "markdown",
      "source": [
        "### (e) Based on this data set, provide an estimate, μˆmed, for the median value of medv in the population."
      ],
      "metadata": {
        "id": "WwRZ1wMumop2"
      }
    },
    {
      "cell_type": "code",
      "source": [
        "# Calculate the sample median of 'medv'\n",
        "mu_hat_med = np.median(boston['medv'])\n",
        "\n",
        "print(f\"Estimate for the population median of medv (μ̂_med): {mu_hat_med}\")"
      ],
      "metadata": {
        "colab": {
          "base_uri": "https://localhost:8080/"
        },
        "id": "JfZkjKI9msoz",
        "outputId": "9bddf398-5de1-4cd8-da41-7c46e69715e7"
      },
      "execution_count": 13,
      "outputs": [
        {
          "output_type": "stream",
          "name": "stdout",
          "text": [
            "Estimate for the population median of medv (μ̂_med): 21.2\n"
          ]
        }
      ]
    },
    {
      "cell_type": "markdown",
      "source": [
        "### (f) We now would like to estimate the standard error of μˆmed. Unfortunately, there is no simple formula for computing the standard error of the median. Instead, estimate the standard error of the median using the bootstrap. Comment on your fndings."
      ],
      "metadata": {
        "id": "2D9-q9EumtUv"
      }
    },
    {
      "cell_type": "code",
      "source": [
        "# Number of bootstrap samples\n",
        "B = 1000\n",
        "\n",
        "# Initialize an array to store the bootstrap estimates of the median\n",
        "bootstrap_medians = np.zeros(B)\n",
        "\n",
        "# Generate bootstrap samples and calculate the median for each sample\n",
        "for b in range(B):\n",
        "    # Sample with replacement from the 'medv' column\n",
        "    bootstrap_sample = np.random.choice(boston['medv'], size=len(boston['medv']), replace=True)\n",
        "    bootstrap_medians[b] = np.median(bootstrap_sample)\n",
        "\n",
        "# Estimate the standard error of μ̂_med using the bootstrap\n",
        "bootstrap_standard_error_median = np.std(bootstrap_medians)\n",
        "\n",
        "print(f\"Bootstrap estimate of the standard error of μ̂_med: {bootstrap_standard_error_median}\")"
      ],
      "metadata": {
        "colab": {
          "base_uri": "https://localhost:8080/"
        },
        "id": "9gB2IGmgmyFr",
        "outputId": "0e34dd83-30cb-415d-ec16-03c60c4c749f"
      },
      "execution_count": 14,
      "outputs": [
        {
          "output_type": "stream",
          "name": "stdout",
          "text": [
            "Bootstrap estimate of the standard error of μ̂_med: 0.37172823070087063\n"
          ]
        }
      ]
    },
    {
      "cell_type": "markdown",
      "source": [
        "Comment:\n",
        "* The bootstrap standard error of the median provides an estimate of the variability of the median in the sampling distribution.    \n",
        "* The bootstrap estimate of the standard error of μ̂_med is smaller than both bootstrap estimate of the standard error of μ̂ and standard error of μ̂ , which shows that μ̂_med is more stable than μ̂ .\n",
        "* The median is usually less sensitive to outliers than the mean, so its standard error might be smaller in the presence of extreme values in the 'medv' data."
      ],
      "metadata": {
        "id": "JBdjdTtesROF"
      }
    },
    {
      "cell_type": "markdown",
      "source": [
        "### (g) Based on this data set, provide an estimate for the tenth percentile of medv in Boston census tracts. Call this quantity μˆ0.1. (You can use the np.percentile() function.)"
      ],
      "metadata": {
        "id": "lpYF5ft3mynR"
      }
    },
    {
      "cell_type": "code",
      "source": [
        "mu_hat_01 = np.percentile(boston['medv'], 10)\n",
        "print(f\"Estimate for the tenth percentile of medv (μ̂₀.₁): {mu_hat_01}\")"
      ],
      "metadata": {
        "colab": {
          "base_uri": "https://localhost:8080/"
        },
        "id": "bwi6w-dtm3EO",
        "outputId": "32cc4e26-d2c7-429c-90bb-98a85ebb00de"
      },
      "execution_count": 15,
      "outputs": [
        {
          "output_type": "stream",
          "name": "stdout",
          "text": [
            "Estimate for the tenth percentile of medv (μ̂₀.₁): 12.75\n"
          ]
        }
      ]
    },
    {
      "cell_type": "markdown",
      "source": [
        "### (h) Use the bootstrap to estimate the standard error of μˆ0.1. Comments on your feeling."
      ],
      "metadata": {
        "id": "53GRUVjJm3aA"
      }
    },
    {
      "cell_type": "code",
      "source": [
        "B = 1000\n",
        "\n",
        "# Initialize an array to store the bootstrap estimates of the 10th percentile\n",
        "bootstrap_percentiles = np.zeros(B)\n",
        "\n",
        "# Generate bootstrap samples and calculate the 10th percentile for each sample\n",
        "for b in range(B):\n",
        "    # Sample with replacement from the 'medv' column\n",
        "    bootstrap_sample = np.random.choice(boston['medv'], size=len(boston['medv']), replace=True)\n",
        "    bootstrap_percentiles[b] = np.percentile(bootstrap_sample, 10)\n",
        "\n",
        "# Estimate the standard error of μ̂₀.₁ using the bootstrap\n",
        "bootstrap_standard_error_percentile = np.std(bootstrap_percentiles)\n",
        "\n",
        "print(f\"Bootstrap estimate of the standard error of μ̂₀.₁: {bootstrap_standard_error_percentile}\")"
      ],
      "metadata": {
        "colab": {
          "base_uri": "https://localhost:8080/"
        },
        "id": "yTiwjWP0un47",
        "outputId": "94bc5e1a-c930-4b2c-9e08-e97d9cea9d6a"
      },
      "execution_count": 16,
      "outputs": [
        {
          "output_type": "stream",
          "name": "stdout",
          "text": [
            "Bootstrap estimate of the standard error of μ̂₀.₁: 0.5061703665763139\n"
          ]
        }
      ]
    },
    {
      "cell_type": "markdown",
      "source": [
        "Comments:\n",
        "* The bootstrap standard error of the 10th percentile provides an estimate of the variability of the 10th percentile in the sampling distribution.  \n",
        "* A smaller standard error suggests that the estimate of the 10th percentile is relatively stable, while a larger one implies more variability.  The magnitude of this standard error should be considered in relation to the value of μ̂₀.₁ itself to determine the practical significance of the variability."
      ],
      "metadata": {
        "id": "dtKFM43AuxLm"
      }
    }
  ]
}