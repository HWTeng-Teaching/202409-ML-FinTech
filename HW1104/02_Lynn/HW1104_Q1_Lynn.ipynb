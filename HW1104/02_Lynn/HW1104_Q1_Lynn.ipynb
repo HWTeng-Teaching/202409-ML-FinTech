{
  "nbformat": 4,
  "nbformat_minor": 0,
  "metadata": {
    "colab": {
      "provenance": []
    },
    "kernelspec": {
      "name": "python3",
      "display_name": "Python 3"
    },
    "language_info": {
      "name": "python"
    }
  },
  "cells": [
    {
      "cell_type": "markdown",
      "source": [
        "## Chapter 5, Question 1"
      ],
      "metadata": {
        "id": "W1KNtJafkBEr"
      }
    },
    {
      "cell_type": "markdown",
      "source": [
        "### Using basic statistical properties of the variance, as well as single variable calculus, derive (5.6). In other words, prove that α given by (5.6) does indeed minimize Var(αX + (1 − α)Y ).\n",
        "$$\n",
        "\\alpha = \\frac{\\sigma_Y^2 - \\sigma_{XY}}{\\sigma_X^2 + \\sigma_Y^2 - 2\\sigma_{XY}},\n",
        "$$\n",
        "\n",
        "where $ \\sigma_X^2 = \\text{Var}(X)$, $\\sigma_Y^2 = \\text{Var}(Y)$, and $\\sigma_{XY} = \\text{Cov}(X, Y)$.\n"
      ],
      "metadata": {
        "id": "f-hA3lbGkGO_"
      }
    },
    {
      "cell_type": "markdown",
      "source": [
        "### Step 1: Calculate the variance of 𝛼𝑋+(1−𝛼)𝑌\n",
        "$$\n",
        "Z = \\alpha X + (1 - \\alpha) Y \\\\\n",
        "$$\n",
        "\n",
        "$$\n",
        "\\text{Var}(Z) = \\alpha^2 \\text{Var}(X) + (1 - \\alpha)^2 \\text{Var}(Y) + 2\\alpha(1 - \\alpha) \\text{Cov}(X, Y)\\\\\n",
        "$$\n",
        "\n",
        "$$\n",
        "\\text{Var}(Z) = \\alpha^2 (\\sigma_X^2 + \\sigma_Y^2 - 2\\sigma_{XY}) + \\alpha(-2\\sigma_Y^2 + 2\\sigma_{XY}) + \\sigma_Y^2\n",
        "$$"
      ],
      "metadata": {
        "id": "vPWMer5xm32E"
      }
    },
    {
      "cell_type": "markdown",
      "source": [
        "### Step 2: Take the derivative of variance with respect to 𝛼\n",
        "\n",
        "$$\n",
        "\\frac{d}{d\\alpha} \\text{Var}(Z) = 2\\alpha(\\sigma_X^2 + \\sigma_Y^2 - 2\\sigma_{XY}) + (-2\\sigma_Y^2 + 2\\sigma_{XY})\n",
        "$$\n",
        "\n",
        "Set the derivative equal to 0:\n",
        "\n",
        "$$\n",
        "2\\alpha(\\sigma_X^2 + \\sigma_Y^2 - 2\\sigma_{XY}) - 2\\sigma_Y^2 + 2\\sigma_{XY} = 0\n",
        "$$"
      ],
      "metadata": {
        "id": "yY4ULS3im7IP"
      }
    },
    {
      "cell_type": "markdown",
      "source": [
        "### Step 3: Modify the formula for 𝛼\n",
        "$$\n",
        "\\alpha(\\sigma_X^2 + \\sigma_Y^2 - 2\\sigma_{XY}) = \\sigma_Y^2 - \\sigma_{XY}\\\\\n",
        "$$\n",
        "\n",
        "$$\n",
        "\\alpha = \\frac{\\sigma_Y^2 - \\sigma_{XY}}{\\sigma_X^2 + \\sigma_Y^2 - 2\\sigma_{XY}}\n",
        "$$"
      ],
      "metadata": {
        "id": "AP3OOToLm9lT"
      }
    },
    {
      "cell_type": "markdown",
      "source": [
        "Therefore, α given by (5.6) does indeed minimize Var(αX + (1 − α)Y )."
      ],
      "metadata": {
        "id": "xgPIraqHoDQB"
      }
    }
  ]
}