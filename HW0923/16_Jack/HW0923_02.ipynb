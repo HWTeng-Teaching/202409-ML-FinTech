{
 "cells": [
  {
   "cell_type": "markdown",
   "id": "cf751dd8",
   "metadata": {},
   "source": [
    "# HW0923_02 CH12Q03"
   ]
  },
  {
   "cell_type": "markdown",
   "id": "a82f6858",
   "metadata": {},
   "source": [
    "#### (a) Plot the observations."
   ]
  },
  {
   "cell_type": "code",
   "execution_count": 1,
   "id": "65271bd4",
   "metadata": {},
   "outputs": [
    {
     "data": {
      "image/png": "[encoded data removed]",
      "text/plain": [
       "<Figure size 800x600 with 1 Axes>"
      ]
     },
     "metadata": {},
     "output_type": "display_data"
    }
   ],
   "source": [
    "import matplotlib.pyplot as plt\n",
    "import numpy as np\n",
    "\n",
    "X1 = np.array([1, 1, 0, 5, 6, 4])\n",
    "X2 = np.array([4, 3, 4, 1, 2, 0])\n",
    "data = np.column_stack((X1, X2))\n",
    "\n",
    "\n",
    "plt.figure(figsize=(8, 6))\n",
    "plt.scatter(data[:, 0], data[:, 1], marker='o', color='b')\n",
    "\n",
    "plt.title('Observations Plot', fontsize=14)\n",
    "plt.xlabel('X1', fontsize=12)\n",
    "plt.ylabel('X2', fontsize=12)\n",
    "\n",
    "plt.show()"
   ]
  },
  {
   "cell_type": "markdown",
   "id": "68629163",
   "metadata": {},
   "source": [
    "#### (b) Randomly assign a cluster label to each observation. You can use the np.random.choice() function to do this. Report the cluster labels for each observation."
   ]
  },
  {
   "cell_type": "code",
   "execution_count": 2,
   "id": "2ca16199",
   "metadata": {},
   "outputs": [
    {
     "name": "stdout",
     "output_type": "stream",
     "text": [
      "觀察值 1: 群集標籤 0\n",
      "觀察值 2: 群集標籤 0\n",
      "觀察值 3: 群集標籤 0\n",
      "觀察值 4: 群集標籤 1\n",
      "觀察值 5: 群集標籤 1\n",
      "觀察值 6: 群集標籤 0\n"
     ]
    }
   ],
   "source": [
    "num_observations = 6\n",
    "num_clusters = 2\n",
    "np.random.seed(25)\n",
    "cluster_labels = np.random.choice(range(num_clusters), size=num_observations)\n",
    "\n",
    "for i in range(num_observations):\n",
    "    print(f'觀察值 {i + 1}: 群集標籤 {cluster_labels[i]}')"
   ]
  },
  {
   "cell_type": "markdown",
   "id": "cc68f63f",
   "metadata": {},
   "source": [
    "#### (c) Compute the centroid for each cluster."
   ]
  },
  {
   "cell_type": "code",
   "execution_count": 3,
   "id": "a9cc6d34",
   "metadata": {},
   "outputs": [
    {
     "name": "stdout",
     "output_type": "stream",
     "text": [
      "Cluster 0: Centroid [1.5  2.75]\n",
      "Cluster 1: Centroid [5.5 1.5]\n"
     ]
    }
   ],
   "source": [
    "centroids = {}\n",
    "for cluster in range(num_clusters):\n",
    "    points = data[cluster_labels == cluster]\n",
    "    if points.size > 0:\n",
    "        centroid = points.mean(axis=0)\n",
    "        centroids[cluster] = centroid\n",
    "\n",
    "for cluster, centroid in centroids.items():\n",
    "    print(f'Cluster {cluster}: Centroid {centroid}')"
   ]
  },
  {
   "cell_type": "markdown",
   "id": "91c63918",
   "metadata": {},
   "source": [
    "#### (d) Assign each observation to the centroid to which it is closest, in terms of Euclidean distance. Report the cluster labels for each observation."
   ]
  },
  {
   "cell_type": "code",
   "execution_count": 4,
   "id": "85f7c045",
   "metadata": {},
   "outputs": [
    {
     "name": "stdout",
     "output_type": "stream",
     "text": [
      "Observation 1: Cluster Label 0\n",
      "Observation 2: Cluster Label 0\n",
      "Observation 3: Cluster Label 0\n",
      "Observation 4: Cluster Label 1\n",
      "Observation 5: Cluster Label 1\n",
      "Observation 6: Cluster Label 1\n"
     ]
    }
   ],
   "source": [
    "new_cluster_labels = np.zeros(len(data), dtype=int)\n",
    "\n",
    "for i, point in enumerate(data):\n",
    "    distances = np.array([np.linalg.norm(point - centroid) for centroid in centroids.values()])\n",
    "    new_cluster_labels[i] = np.argmin(distances)\n",
    "\n",
    "for i in range(len(data)):\n",
    "    print(f'Observation {i + 1}: Cluster Label {new_cluster_labels[i]}')"
   ]
  },
  {
   "cell_type": "markdown",
   "id": "ffcf9775",
   "metadata": {},
   "source": [
    "#### (e) Repeat (c) and (d) until the answers obtained stop changing."
   ]
  },
  {
   "cell_type": "code",
   "execution_count": 5,
   "id": "c8630e88",
   "metadata": {},
   "outputs": [
    {
     "name": "stdout",
     "output_type": "stream",
     "text": [
      "Final Cluster Labels:\n",
      "Observation 1: Cluster Label 0\n",
      "Observation 2: Cluster Label 0\n",
      "Observation 3: Cluster Label 0\n",
      "Observation 4: Cluster Label 1\n",
      "Observation 5: Cluster Label 1\n",
      "Observation 6: Cluster Label 1\n",
      "\n",
      "Final Centroids:\n",
      "Cluster 0: Centroid [0.66666667 3.66666667]\n",
      "Cluster 1: Centroid [5. 1.]\n"
     ]
    }
   ],
   "source": [
    "prev_labels = np.zeros(len(data), dtype=int)\n",
    "\n",
    "while not np.array_equal(cluster_labels, prev_labels):\n",
    "    prev_labels = cluster_labels.copy()\n",
    "\n",
    "    centroids = {}\n",
    "    for cluster in range(num_clusters):\n",
    "        points = data[cluster_labels == cluster]\n",
    "        if points.size > 0:\n",
    "            centroid = points.mean(axis=0)\n",
    "            centroids[cluster] = centroid\n",
    "\n",
    "    for i, point in enumerate(data):\n",
    "        distances = np.array([np.linalg.norm(point - centroid) for centroid in centroids.values()])\n",
    "        cluster_labels[i] = np.argmin(distances)\n",
    "\n",
    "print(\"Final Cluster Labels:\")\n",
    "for i in range(len(data)):\n",
    "    print(f'Observation {i + 1}: Cluster Label {cluster_labels[i]}')\n",
    "\n",
    "print(\"\\nFinal Centroids:\")\n",
    "for cluster, centroid in centroids.items():\n",
    "    print(f'Cluster {cluster}: Centroid {centroid}')"
   ]
  },
  {
   "cell_type": "markdown",
   "id": "bbd0e4c3",
   "metadata": {},
   "source": [
    "##### (f) In your plot from (a), color the observations according to the cluster labels obtained."
   ]
  },
  {
   "cell_type": "code",
   "execution_count": 6,
   "id": "467da7b4",
   "metadata": {},
   "outputs": [
    {
     "data": {
      "image/png": "[encoded data removed]",
      "text/plain": [
       "<Figure size 800x600 with 1 Axes>"
      ]
     },
     "metadata": {},
     "output_type": "display_data"
    }
   ],
   "source": [
    "plt.figure(figsize=(8, 6))\n",
    "for cluster in range(num_clusters):\n",
    "    cluster_points = data[cluster_labels == cluster]\n",
    "    plt.scatter(cluster_points[:, 0], cluster_points[:, 1], label=f'Cluster {cluster}', marker='o')\n",
    "\n",
    "plt.title('Observations Colored by Cluster Labels')\n",
    "plt.xlabel('X1')\n",
    "plt.ylabel('X2')\n",
    "\n",
    "plt.legend()\n",
    "plt.show()"
   ]
  },
  {
   "cell_type": "code",
   "execution_count": null,
   "id": "a87df07a",
   "metadata": {},
   "outputs": [],
   "source": []
  }
 ],
 "metadata": {
  "kernelspec": {
   "display_name": "Python 3 (ipykernel)",
   "language": "python",
   "name": "python3"
  },
  "language_info": {
   "codemirror_mode": {
    "name": "ipython",
    "version": 3
   },
   "file_extension": ".py",
   "mimetype": "text/x-python",
   "name": "python",
   "nbconvert_exporter": "python",
   "pygments_lexer": "ipython3",
   "version": "3.9.13"
  }
 },
 "nbformat": 4,
 "nbformat_minor": 5
}
