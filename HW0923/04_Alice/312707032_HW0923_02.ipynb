{
 "cells": [
  {
   "cell_type": "markdown",
   "id": "2ff88b83",
   "metadata": {},
   "source": [
    "# CH12_Q3: K-means"
   ]
  },
  {
   "cell_type": "code",
   "execution_count": 1,
   "id": "d9a61477",
   "metadata": {},
   "outputs": [],
   "source": [
    "import numpy as np\n",
    "import pandas as pd\n",
    "import matplotlib.pyplot as plt"
   ]
  },
  {
   "cell_type": "markdown",
   "id": "b6c138e1",
   "metadata": {},
   "source": [
    "In this problem, you will perform K-means clustering manually, with K = 2, on a small example with n = 6 observations and p = 2 features. The observations are as follows."
   ]
  },
  {
   "cell_type": "code",
   "execution_count": 2,
   "id": "4f911c03",
   "metadata": {},
   "outputs": [],
   "source": [
    "# Data given in the problem\n",
    "data = pd.DataFrame({\n",
    "    'X1': [1, 1, 0, 5, 6, 4],\n",
    "    'X2': [4, 3, 4, 1, 2, 0]\n",
    "}, index=['Obs1', 'Obs2', 'Obs3', 'Obs4', 'Obs5', 'Obs6'])"
   ]
  },
  {
   "cell_type": "markdown",
   "id": "e67ff68a",
   "metadata": {},
   "source": [
    "### Part (a)"
   ]
  },
  {
   "cell_type": "markdown",
   "id": "fcb9a396",
   "metadata": {},
   "source": [
    "Plot the observations."
   ]
  },
  {
   "cell_type": "code",
   "execution_count": 3,
   "id": "ac4b047e",
   "metadata": {
    "scrolled": false
   },
   "outputs": [
    {
     "data": {
      "image/png": "[encoded data removed]",
      "text/plain": [
       "<Figure size 800x600 with 1 Axes>"
      ]
     },
     "metadata": {},
     "output_type": "display_data"
    }
   ],
   "source": [
    "plt.figure(figsize=(8, 6))\n",
    "plt.scatter(data['X1'], data['X2'], color='blue')\n",
    "\n",
    "# Label the points\n",
    "for i, txt in enumerate(data.index):\n",
    "    plt.annotate(txt, (data['X1'].iloc[i], data['X2'].iloc[i]), textcoords=\"offset points\", xytext=(0,5), ha='center')\n",
    "\n",
    "plt.xlabel('X1')\n",
    "plt.ylabel('X2')\n",
    "plt.title('Observations')\n",
    "plt.grid(True)\n",
    "plt.show()"
   ]
  },
  {
   "cell_type": "markdown",
   "id": "266f1be3",
   "metadata": {},
   "source": [
    "### Part (b)"
   ]
  },
  {
   "cell_type": "markdown",
   "id": "6f0508b0",
   "metadata": {},
   "source": [
    "Randomly assign a cluster label to each observation. You can use the np.random.choice() function to do this. Report the cluster labels for each observation."
   ]
  },
  {
   "cell_type": "code",
   "execution_count": 4,
   "id": "e256e529",
   "metadata": {},
   "outputs": [
    {
     "name": "stdout",
     "output_type": "stream",
     "text": [
      "\n",
      "Initial cluster labels:\n",
      " [0 1 0 0 0 1]\n"
     ]
    }
   ],
   "source": [
    "np.random.seed(42)  # For reproducibility\n",
    "cluster_labels = np.random.choice([0, 1], size=len(data))\n",
    "\n",
    "# Display the initial random cluster assignment\n",
    "print(\"\\nInitial cluster labels:\\n\", cluster_labels)"
   ]
  },
  {
   "cell_type": "markdown",
   "id": "24362315",
   "metadata": {},
   "source": [
    "### Part (c)"
   ]
  },
  {
   "cell_type": "markdown",
   "id": "d78e1b18",
   "metadata": {},
   "source": [
    "Compute the centroid for each cluster."
   ]
  },
  {
   "cell_type": "code",
   "execution_count": 5,
   "id": "29eea8b9",
   "metadata": {},
   "outputs": [
    {
     "name": "stdout",
     "output_type": "stream",
     "text": [
      "\n",
      "Initial Centroid Coordinates:\n",
      "Cluster 0: X1 = 3.00, X2 = 2.75\n",
      "Cluster 1: X1 = 2.50, X2 = 1.50\n"
     ]
    }
   ],
   "source": [
    "# Function to compute the centroid for each cluster using a dictionary approach\n",
    "def compute_centroids(data, labels, num_clusters):\n",
    "    centroids = {}\n",
    "    for cluster in range(num_clusters):\n",
    "        points = data[labels == cluster]\n",
    "        if len(points) > 0:  # Only compute centroid if there are points in the cluster\n",
    "            centroid = points.mean(axis=0)\n",
    "            centroids[cluster] = centroid\n",
    "    return centroids\n",
    "\n",
    "num_clusters = 2  # Number of clusters (K=2)\n",
    "centroids = compute_centroids(data, cluster_labels, num_clusters)\n",
    "\n",
    "# Display the initial centroids for each cluster\n",
    "print(\"\\nInitial Centroid Coordinates:\")\n",
    "for cluster, centroid in centroids.items():\n",
    "    print(f'Cluster {cluster}: X1 = {centroid[\"X1\"]:.2f}, X2 = {centroid[\"X2\"]:.2f}')"
   ]
  },
  {
   "cell_type": "markdown",
   "id": "ee78a66b",
   "metadata": {},
   "source": [
    "### Part (d)"
   ]
  },
  {
   "cell_type": "markdown",
   "id": "9b022da5",
   "metadata": {},
   "source": [
    "Assign each observation to the centroid to which it is closest, in terms of Euclidean distance. Report the cluster labels for each observation."
   ]
  },
  {
   "cell_type": "code",
   "execution_count": 6,
   "id": "07955d60",
   "metadata": {},
   "outputs": [
    {
     "name": "stdout",
     "output_type": "stream",
     "text": [
      "\n",
      "Cluster labels after reassignment:\n",
      " [0 0 0 1 0 1]\n"
     ]
    }
   ],
   "source": [
    "# Function to assign points to the nearest centroid\n",
    "def assign_clusters(data, centroids):\n",
    "    distances = np.zeros((len(data), len(centroids)))\n",
    "    for cluster, centroid in centroids.items():\n",
    "        distances[:, cluster] = np.sqrt((data['X1'] - centroid['X1'])**2 + (data['X2'] - centroid['X2'])**2)\n",
    "    return np.argmin(distances, axis=1)\n",
    "\n",
    "# Assign each point to the nearest centroid\n",
    "cluster_labels = assign_clusters(data, centroids)\n",
    "print(\"\\nCluster labels after reassignment:\\n\", cluster_labels)"
   ]
  },
  {
   "cell_type": "markdown",
   "id": "adf8107e",
   "metadata": {},
   "source": [
    "### Part (e)"
   ]
  },
  {
   "cell_type": "markdown",
   "id": "8490c100",
   "metadata": {},
   "source": [
    "Repeat (c) and (d) until the answers obtained stop changing."
   ]
  },
  {
   "cell_type": "code",
   "execution_count": 7,
   "id": "0e162af1",
   "metadata": {},
   "outputs": [
    {
     "name": "stdout",
     "output_type": "stream",
     "text": [
      "\n",
      "Final Centroid Coordinates:\n",
      "Cluster 0: X1 = 0.67, X2 = 3.67\n",
      "Cluster 1: X1 = 5.00, X2 = 1.00\n",
      "\n",
      "Final Cluster Assignments:\n",
      "[0 0 0 1 1 1]\n"
     ]
    }
   ],
   "source": [
    "# Repeat steps (c) and (d) until convergence\n",
    "while True:\n",
    "    old_labels = cluster_labels.copy()\n",
    "    centroids = compute_centroids(data, cluster_labels, num_clusters)\n",
    "    cluster_labels = assign_clusters(data, centroids)\n",
    "    if np.all(cluster_labels == old_labels):\n",
    "        break\n",
    "\n",
    "# Display the final centroids after convergence\n",
    "print(\"\\nFinal Centroid Coordinates:\")\n",
    "for cluster, centroid in centroids.items():\n",
    "    print(f'Cluster {cluster}: X1 = {centroid[\"X1\"]:.2f}, X2 = {centroid[\"X2\"]:.2f}')\n",
    "\n",
    "# Display the final cluster assignments\n",
    "print(\"\\nFinal Cluster Assignments:\")\n",
    "print(cluster_labels)"
   ]
  },
  {
   "cell_type": "markdown",
   "id": "ae182b55",
   "metadata": {},
   "source": [
    "### Part (f)"
   ]
  },
  {
   "cell_type": "markdown",
   "id": "a12102b7",
   "metadata": {},
   "source": [
    "In your plot from (a), color the observations according to the cluster labels obtained."
   ]
  },
  {
   "cell_type": "code",
   "execution_count": 8,
   "id": "ab30fa8e",
   "metadata": {},
   "outputs": [
    {
     "data": {
      "image/png": "[encoded data removed]",
      "text/plain": [
       "<Figure size 800x600 with 1 Axes>"
      ]
     },
     "metadata": {},
     "output_type": "display_data"
    }
   ],
   "source": [
    "plt.figure(figsize=(8, 6))  # Adjusted figure size\n",
    "scatter = plt.scatter(data['X1'], data['X2'], c=cluster_labels,cmap='coolwarm', label=cluster_labels)\n",
    "\n",
    "for i, txt in enumerate(data.index):\n",
    "    plt.annotate(txt, (data['X1'].iloc[i], data['X2'].iloc[i]), textcoords=\"offset points\", xytext=(0,5), ha='center')\n",
    "\n",
    "# Add labels, title, and legend\n",
    "plt.xlabel('X1')\n",
    "plt.ylabel('X2')\n",
    "plt.title('Final Clustered Observations')\n",
    "plt.grid(True)\n",
    "\n",
    "# Add color legend for clusters\n",
    "legend1 = plt.legend(*scatter.legend_elements(), title=\"Clusters\")\n",
    "plt.gca().add_artist(legend1)\n",
    "\n",
    "plt.show()"
   ]
  }
 ],
 "metadata": {
  "kernelspec": {
   "display_name": "Python 3 (ipykernel)",
   "language": "python",
   "name": "python3"
  },
  "language_info": {
   "codemirror_mode": {
    "name": "ipython",
    "version": 3
   },
   "file_extension": ".py",
   "mimetype": "text/x-python",
   "name": "python",
   "nbconvert_exporter": "python",
   "pygments_lexer": "ipython3",
   "version": "3.11.4"
  }
 },
 "nbformat": 4,
 "nbformat_minor": 5
}
