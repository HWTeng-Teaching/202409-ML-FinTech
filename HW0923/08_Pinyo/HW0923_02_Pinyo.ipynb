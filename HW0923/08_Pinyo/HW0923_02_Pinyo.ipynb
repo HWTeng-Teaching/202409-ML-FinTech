{
 "cells": [
  {
   "cell_type": "code",
   "execution_count": 1,
   "id": "25405813-ca55-4886-92be-d3ec8f9263a2",
   "metadata": {},
   "outputs": [
    {
     "data": {
      "image/png": "[encoded data removed]",
      "text/plain": [
       "<Figure size 600x600 with 1 Axes>"
      ]
     },
     "metadata": {},
     "output_type": "display_data"
    }
   ],
   "source": [
    "# Import necessary libraries\n",
    "import matplotlib.pyplot as plt\n",
    "\n",
    "# Data points (observations)\n",
    "X1 = [1, 1, 0, 5, 6, 4]  # Feature 1\n",
    "X2 = [4, 3, 4, 1, 2, 0]  # Feature 2\n",
    "\n",
    "# Plot the observations\n",
    "plt.figure(figsize=(6, 6))\n",
    "plt.scatter(X1, X2, color='blue')\n",
    "\n",
    "# Annotate each point with its observation number\n",
    "for i in range(len(X1)):\n",
    "    plt.text(X1[i] + 0.1, X2[i], f'{i+1}', fontsize=12)\n",
    "\n",
    "# Add title and labels\n",
    "plt.title('Plot of Observations (X1 vs X2)')\n",
    "plt.xlabel('X1')\n",
    "plt.ylabel('X2')\n",
    "\n",
    "# Display the plot\n",
    "plt.grid(True)\n",
    "plt.xlim(-1, 7)  # Adjust x-axis limits for better visibility\n",
    "plt.ylim(-1, 5)  # Adjust y-axis limits for better visibility\n",
    "plt.show()"
   ]
  },
  {
   "cell_type": "code",
   "execution_count": 5,
   "id": "2b658f24-7624-4278-a238-d2e93128e0a5",
   "metadata": {},
   "outputs": [
    {
     "name": "stdout",
     "output_type": "stream",
     "text": [
      "Observation 1: Cluster 1\n",
      "Observation 2: Cluster 2\n",
      "Observation 3: Cluster 2\n",
      "Observation 4: Cluster 1\n",
      "Observation 5: Cluster 2\n",
      "Observation 6: Cluster 1\n"
     ]
    }
   ],
   "source": [
    "import numpy as np\n",
    "\n",
    "# Number of observations\n",
    "n = 6\n",
    "\n",
    "# Number of clusters (K = 2)\n",
    "K = 2\n",
    "\n",
    "# Randomly assign a cluster label (1 or 2) to each observation\n",
    "cluster_labels = np.random.choice([1, 2], size=n)\n",
    "\n",
    "# Report the cluster labels for each observation\n",
    "for i, label in enumerate(cluster_labels, start=1):\n",
    "    print(f\"Observation {i}: Cluster {label}\")"
   ]
  },
  {
   "cell_type": "code",
   "execution_count": 18,
   "id": "73d91669-2e92-4434-b7e2-9acff6095218",
   "metadata": {},
   "outputs": [
    {
     "name": "stdout",
     "output_type": "stream",
     "text": [
      "Observation 1: Cluster 1\n",
      "Observation 2: Cluster 1\n",
      "Observation 3: Cluster 2\n",
      "Observation 4: Cluster 1\n",
      "Observation 5: Cluster 2\n",
      "Observation 6: Cluster 2\n",
      "Cluster 1 centroid: [2.33333333 2.66666667]\n",
      "Cluster 2 centroid: [3.33333333 2.        ]\n"
     ]
    }
   ],
   "source": [
    "# Data for the 6 observations (n=6, p=2)\n",
    "data = np.array([[1, 4],  # Observation 1\n",
    "                 [1, 3],  # Observation 2\n",
    "                 [0, 4],  # Observation 3\n",
    "                 [5, 1],  # Observation 4\n",
    "                 [6, 2],  # Observation 5\n",
    "                 [4, 0]]) # Observation 6\n",
    "\n",
    "# Assume these are the randomly assigned cluster labels (can be obtained from the previous step)\n",
    "# Replace this with actual labels if needed\n",
    "cluster_labels = np.random.choice([1, 2], size=6)\n",
    "\n",
    "# Separate data into two clusters\n",
    "cluster_1_data = data[cluster_labels == 1]\n",
    "cluster_2_data = data[cluster_labels == 2]\n",
    "\n",
    "# Report the cluster labels for each observation\n",
    "for i, label in enumerate(cluster_labels, start=1):\n",
    "    print(f\"Observation {i}: Cluster {label}\")\n",
    "\n",
    "# Compute the centroid of each cluster (mean of X1 and X2)\n",
    "centroid_1 = np.mean(cluster_1_data, axis=0) if len(cluster_1_data) > 0 else np.array([np.nan, np.nan])\n",
    "centroid_2 = np.mean(cluster_2_data, axis=0) if len(cluster_2_data) > 0 else np.array([np.nan, np.nan])\n",
    "\n",
    "# Report centroids\n",
    "print(f\"Cluster 1 centroid: {centroid_1}\")\n",
    "print(f\"Cluster 2 centroid: {centroid_2}\")"
   ]
  },
  {
   "cell_type": "code",
   "execution_count": 34,
   "id": "1d41418b-54e9-4c42-a1eb-4d7696419992",
   "metadata": {},
   "outputs": [
    {
     "name": "stdout",
     "output_type": "stream",
     "text": [
      "[[1.88561808 3.07318149]\n",
      " [1.37436854 2.53859104]\n",
      " [2.68741925 3.88730126]\n",
      " [3.14466038 1.94365063]\n",
      " [3.72677996 2.66666667]\n",
      " [3.14466038 2.10818511]]\n",
      "Observation 1: Assigned to Cluster 1\n",
      "Observation 2: Assigned to Cluster 1\n",
      "Observation 3: Assigned to Cluster 1\n",
      "Observation 4: Assigned to Cluster 2\n",
      "Observation 5: Assigned to Cluster 2\n",
      "Observation 6: Assigned to Cluster 2\n"
     ]
    }
   ],
   "source": [
    "import numpy as np\n",
    "from scipy.spatial.distance import cdist\n",
    "\n",
    "# Combine the centroids into a single array\n",
    "centroids = np.vstack([centroid_1, centroid_2])\n",
    "\n",
    "# Step 1: Compute the Euclidean distance between each observation and each centroid\n",
    "distances = cdist(data, centroids, metric='euclidean')\n",
    "\n",
    "# Step 2: Assign each observation to the nearest centroid (cluster)\n",
    "# The closest centroid has the smallest distance, so we take the argmin across axis 1\n",
    "cluster_labels = np.argmin(distances, axis=1) + 1  # Adding 1 to make cluster labels start at 1\n",
    "\n",
    "print(distances)\n",
    "\n",
    "# Step 3: Report the cluster labels for each observation\n",
    "for i, label in enumerate(cluster_labels, start=1):\n",
    "    print(f\"Observation {i}: Assigned to Cluster {label}\")\n"
   ]
  },
  {
   "cell_type": "code",
   "execution_count": 38,
   "id": "948ea682-aaff-48ef-bd96-076f8b535b51",
   "metadata": {},
   "outputs": [
    {
     "name": "stdout",
     "output_type": "stream",
     "text": [
      "Observation 1: Assigned to Cluster 2\n",
      "Observation 2: Assigned to Cluster 2\n",
      "Observation 3: Assigned to Cluster 2\n",
      "Observation 4: Assigned to Cluster 1\n",
      "Observation 5: Assigned to Cluster 1\n",
      "Observation 6: Assigned to Cluster 1\n",
      "\n",
      "Final Centroids:\n",
      "[[5.         1.        ]\n",
      " [0.66666667 3.66666667]]\n"
     ]
    }
   ],
   "source": [
    "import numpy as np\n",
    "from scipy.spatial.distance import cdist\n",
    "\n",
    "# Data for the 6 observations (n=6, p=2)\n",
    "data = np.array([[1, 4],  # Observation 1\n",
    "                 [1, 3],  # Observation 2\n",
    "                 [0, 4],  # Observation 3\n",
    "                 [5, 1],  # Observation 4\n",
    "                 [6, 2],  # Observation 5\n",
    "                 [4, 0]]) # Observation 6\n",
    "\n",
    "# Initialize random cluster labels\n",
    "np.random.seed(0)  # For reproducibility\n",
    "cluster_labels = np.random.choice([1, 2], size=6)\n",
    "\n",
    "# Function to compute centroids\n",
    "def compute_centroids(data, labels, K):\n",
    "    centroids = np.array([data[labels == k].mean(axis=0) for k in range(1, K + 1)])\n",
    "    return centroids\n",
    "\n",
    "# K-means clustering until convergence\n",
    "K = 2\n",
    "centroids = compute_centroids(data, cluster_labels, K)\n",
    "\n",
    "# Previous labels for comparison\n",
    "previous_labels = np.zeros(cluster_labels.shape)\n",
    "\n",
    "# Loop until cluster assignments stop changing\n",
    "while not np.array_equal(previous_labels, cluster_labels):\n",
    "    # Step 1: Assign each observation to the nearest centroid\n",
    "    distances = cdist(data, centroids, metric='euclidean')\n",
    "    previous_labels = cluster_labels.copy()  # Store the previous labels\n",
    "    cluster_labels = np.argmin(distances, axis=1) + 1  # Assign clusters starting from 1\n",
    "\n",
    "    # Step 2: Recompute centroids\n",
    "    centroids = compute_centroids(data, cluster_labels, K)\n",
    "\n",
    "# Report final cluster labels and centroids\n",
    "for i, label in enumerate(cluster_labels, start=1):\n",
    "    print(f\"Observation {i}: Assigned to Cluster {label}\")\n",
    "\n",
    "print(\"\\nFinal Centroids:\")\n",
    "print(centroids)"
   ]
  },
  {
   "cell_type": "code",
   "execution_count": 40,
   "id": "4567d7e5-6b62-4a93-81b1-5d8787843924",
   "metadata": {},
   "outputs": [
    {
     "data": {
      "image/png": "[encoded data removed]",
      "text/plain": [
       "<Figure size 800x600 with 1 Axes>"
      ]
     },
     "metadata": {},
     "output_type": "display_data"
    },
    {
     "name": "stdout",
     "output_type": "stream",
     "text": [
      "Observation 1: Assigned to Cluster 2\n",
      "Observation 2: Assigned to Cluster 2\n",
      "Observation 3: Assigned to Cluster 2\n",
      "Observation 4: Assigned to Cluster 1\n",
      "Observation 5: Assigned to Cluster 1\n",
      "Observation 6: Assigned to Cluster 1\n",
      "\n",
      "Final Centroids:\n",
      "[[5.         1.        ]\n",
      " [0.66666667 3.66666667]]\n"
     ]
    }
   ],
   "source": [
    "# Plotting\n",
    "plt.figure(figsize=(8, 6))\n",
    "colors = ['red' if label == 1 else 'blue' for label in cluster_labels]  # Color scheme\n",
    "\n",
    "# Scatter plot of the observations colored by cluster labels\n",
    "plt.scatter(data[:, 0], data[:, 1], c=colors, s=100, edgecolor='k')\n",
    "\n",
    "# Plot the centroids\n",
    "plt.scatter(centroids[:, 0], centroids[:, 1], c='green', marker='X', s=200, label='Centroids')\n",
    "\n",
    "# Adding labels and title\n",
    "plt.title('K-means Clustering Results')\n",
    "plt.xlabel('X1')\n",
    "plt.ylabel('X2')\n",
    "plt.grid()\n",
    "plt.legend()\n",
    "plt.show()\n",
    "\n",
    "# Reporting final cluster labels\n",
    "for i, label in enumerate(cluster_labels, start=1):\n",
    "    print(f\"Observation {i}: Assigned to Cluster {label}\")\n",
    "\n",
    "print(\"\\nFinal Centroids:\")\n",
    "print(centroids)"
   ]
  },
  {
   "cell_type": "code",
   "execution_count": null,
   "id": "25b0dfe5-0465-44c6-8cbc-f00167fbe051",
   "metadata": {},
   "outputs": [],
   "source": []
  }
 ],
 "metadata": {
  "kernelspec": {
   "display_name": "Python 3 (ipykernel)",
   "language": "python",
   "name": "python3"
  },
  "language_info": {
   "codemirror_mode": {
    "name": "ipython",
    "version": 3
   },
   "file_extension": ".py",
   "mimetype": "text/x-python",
   "name": "python",
   "nbconvert_exporter": "python",
   "pygments_lexer": "ipython3",
   "version": "3.12.4"
  }
 },
 "nbformat": 4,
 "nbformat_minor": 5
}
