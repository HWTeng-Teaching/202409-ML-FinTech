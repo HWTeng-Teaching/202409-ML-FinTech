{
  "nbformat": 4,
  "nbformat_minor": 0,
  "metadata": {
    "colab": {
      "provenance": []
    },
    "kernelspec": {
      "name": "python3",
      "display_name": "Python 3"
    },
    "language_info": {
      "name": "python"
    }
  },
  "cells": [
    {
      "cell_type": "markdown",
      "source": [
        "##In this problem, you will perform K-means clustering manually, with K = 2, on a small example with n = 6 observations and p = 2 features. The observations are as follows."
      ],
      "metadata": {
        "id": "MYgvqB7eZ6Gl"
      }
    },
    {
      "cell_type": "markdown",
      "source": [
        "| Obs | X1 | X2 |\n",
        "| --- | -- | -- |\n",
        "|  1  |  1 |  4 |\n",
        "|  2  |  1 |  3 |\n",
        "|  3  |  0 |  4 |\n",
        "|  4  |  5 |  1 |\n",
        "|  5  |  6 |  2 |\n",
        "|  6  |  4 |  0 |"
      ],
      "metadata": {
        "id": "dsMjvfhxZ_Li"
      }
    },
    {
      "cell_type": "markdown",
      "source": [
        "###(a) Plot the observations."
      ],
      "metadata": {
        "id": "Q4McxnriZ6ru"
      }
    },
    {
      "cell_type": "code",
      "source": [
        "import matplotlib.pyplot as plt\n",
        "\n",
        "# Data for the observations\n",
        "observations = {\n",
        "    'Obs': [1, 2, 3, 4, 5, 6],\n",
        "    'X1': [1, 1, 0, 5, 6, 4],\n",
        "    'X2': [4, 3, 4, 1, 2, 0]\n",
        "}\n",
        "\n",
        "# Plot the observations\n",
        "plt.figure(figsize=(8, 6))\n",
        "plt.scatter(observations['X1'], observations['X2'], color='blue', label='Observations')\n",
        "\n",
        "# Annotating points with their observation numbers\n",
        "for i, obs in enumerate(observations['Obs']):\n",
        "    plt.text(observations['X1'][i] + 0.1, observations['X2'][i], f'{obs}', fontsize=12)\n",
        "\n",
        "# Set plot labels and title\n",
        "plt.title('Plot of Observations', fontsize=14)\n",
        "plt.xlabel('X1', fontsize=12)\n",
        "plt.ylabel('X2', fontsize=12)\n",
        "plt.grid(True)\n",
        "\n",
        "# Show the plot\n",
        "plt.show()"
      ],
      "metadata": {
        "colab": {
          "base_uri": "https://localhost:8080/",
          "height": 569
        },
        "id": "h1oAA-JhaToM",
        "outputId": "67a14f12-bb36-4277-94ac-adc2495ea93b"
      },
      "execution_count": 8,
      "outputs": [
        {
          "output_type": "display_data",
          "data": {
            "text/plain": [
              "<Figure size 800x600 with 1 Axes>"
            ],
            "image/png": "[encoded data removed]"
          },
          "metadata": {}
        }
      ]
    },
    {
      "cell_type": "markdown",
      "source": [
        "###(b) Randomly assign a cluster label to each observation. You can use the np.random.choice() function to do this. Report the cluster labels for each observation."
      ],
      "metadata": {
        "id": "Ya1W2rkAacgq"
      }
    },
    {
      "cell_type": "code",
      "source": [
        "import numpy as np\n",
        "\n",
        "np.random.seed(42)\n",
        "\n",
        "cluster_labels = np.random.choice([0, 1], size=len(observations['Obs']))\n",
        "\n",
        "cluster_labels_output = list(zip(observations['Obs'], cluster_labels))\n",
        "cluster_labels_output"
      ],
      "metadata": {
        "colab": {
          "base_uri": "https://localhost:8080/"
        },
        "id": "27KlPmsKaWqD",
        "outputId": "0e206644-f620-4db4-9f4c-2503c4224935"
      },
      "execution_count": 17,
      "outputs": [
        {
          "output_type": "execute_result",
          "data": {
            "text/plain": [
              "[(1, 0), (2, 1), (3, 0), (4, 0), (5, 0), (6, 1)]"
            ]
          },
          "metadata": {},
          "execution_count": 17
        }
      ]
    },
    {
      "cell_type": "markdown",
      "source": [
        "* Observation 1: Cluster 0\n",
        "* Observation 2: Cluster 1\n",
        "* Observation 3: Cluster 0\n",
        "* Observation 4: Cluster 0\n",
        "* Observation 5: Cluster 0\n",
        "* Observation 6: Cluster 1"
      ],
      "metadata": {
        "id": "c90ufbsRapIW"
      }
    },
    {
      "cell_type": "markdown",
      "source": [
        "###(c) Compute the centroid for each cluster."
      ],
      "metadata": {
        "id": "LvljefZzazFX"
      }
    },
    {
      "cell_type": "code",
      "source": [
        "X1 = np.array(observations['X1'])\n",
        "X2 = np.array(observations['X2'])\n",
        "\n",
        "cluster_0_indices = np.where(cluster_labels == 0)\n",
        "cluster_1_indices = np.where(cluster_labels == 1)\n",
        "\n",
        "centroid_0 = [X1[cluster_0_indices].mean(), X2[cluster_0_indices].mean()]\n",
        "centroid_1 = [X1[cluster_1_indices].mean(), X2[cluster_1_indices].mean()]\n",
        "\n",
        "centroid_0, centroid_1"
      ],
      "metadata": {
        "colab": {
          "base_uri": "https://localhost:8080/"
        },
        "id": "XceCIPxtaiWD",
        "outputId": "b5643144-a382-4b71-ba68-5ea5f01364e6"
      },
      "execution_count": 18,
      "outputs": [
        {
          "output_type": "execute_result",
          "data": {
            "text/plain": [
              "([3.0, 2.75], [2.5, 1.5])"
            ]
          },
          "metadata": {},
          "execution_count": 18
        }
      ]
    },
    {
      "cell_type": "markdown",
      "source": [
        "* Cluster 0 centroid: (3.0,2.75)\n",
        "* Cluster 1 centroid: (2.5,1.5)"
      ],
      "metadata": {
        "id": "pB-G_8Hya5LH"
      }
    },
    {
      "cell_type": "markdown",
      "source": [
        "###(d) Assign each observation to the centroid to which it is closest, in terms of Euclidean distance. Report the cluster labels for each observation."
      ],
      "metadata": {
        "id": "sbZQB9RBbSJ5"
      }
    },
    {
      "cell_type": "code",
      "source": [
        "# Function to compute Euclidean distance\n",
        "def euclidean_distance(x1, y1, x2, y2):\n",
        "    return np.sqrt((x1 - x2) ** 2 + (y1 - y2) ** 2)\n",
        "\n",
        "# Reassign each observation to the closest centroid\n",
        "new_cluster_labels = []\n",
        "for i in range(len(observations['Obs'])):\n",
        "    # Compute distance to centroid 0\n",
        "    dist_to_centroid_0 = euclidean_distance(observations['X1'][i], observations['X2'][i], centroid_0[0], centroid_0[1])\n",
        "    # Compute distance to centroid 1\n",
        "    dist_to_centroid_1 = euclidean_distance(observations['X1'][i], observations['X2'][i], centroid_1[0], centroid_1[1])\n",
        "\n",
        "    # Assign to the closest centroid\n",
        "    if dist_to_centroid_0 < dist_to_centroid_1:\n",
        "        new_cluster_labels.append(0)\n",
        "    else:\n",
        "        new_cluster_labels.append(1)\n",
        "\n",
        "# Display the new cluster labels for each observation\n",
        "new_cluster_labels_output = list(zip(observations['Obs'], new_cluster_labels))\n",
        "new_cluster_labels_output\n"
      ],
      "metadata": {
        "colab": {
          "base_uri": "https://localhost:8080/"
        },
        "id": "Dlq22TkBa14k",
        "outputId": "6c815f86-7bd8-43eb-b913-29950acd9bd3"
      },
      "execution_count": 19,
      "outputs": [
        {
          "output_type": "execute_result",
          "data": {
            "text/plain": [
              "[(1, 0), (2, 0), (3, 0), (4, 1), (5, 0), (6, 1)]"
            ]
          },
          "metadata": {},
          "execution_count": 19
        }
      ]
    },
    {
      "cell_type": "markdown",
      "source": [
        "* Observation 1: Cluster 0\n",
        "* Observation 2: Cluster 0\n",
        "* Observation 3: Cluster 0\n",
        "* Observation 4: Cluster 1\n",
        "* Observation 5: Cluster 0\n",
        "* Observation 6: Cluster 1"
      ],
      "metadata": {
        "id": "jLViJykabXa8"
      }
    },
    {
      "cell_type": "markdown",
      "source": [
        "### (e) Repeat (c) and (d) until the answers obtained stop changing."
      ],
      "metadata": {
        "id": "UAFN_2fQbf13"
      }
    },
    {
      "cell_type": "code",
      "source": [
        "import numpy as np\n",
        "\n",
        "def euclidean_distance(x1, y1, x2, y2):\n",
        "    return np.sqrt((x1 - x2) ** 2 + (y1 - y2) ** 2)\n",
        "\n",
        "def update_centroids_and_reassign_v3(X1, X2, cluster_labels):\n",
        "    prev_labels = np.array([])\n",
        "    iteration = 0\n",
        "\n",
        "    while not np.array_equal(prev_labels, cluster_labels):\n",
        "        prev_labels = cluster_labels.copy()\n",
        "\n",
        "        cluster_0_indices = np.where(cluster_labels == 0)[0]\n",
        "        cluster_1_indices = np.where(cluster_labels == 1)[0]\n",
        "\n",
        "        if len(cluster_0_indices) == 0 or len(cluster_1_indices) == 0:\n",
        "            print(\"One of the clusters became empty. Stopping.\")\n",
        "            break\n",
        "\n",
        "        centroid_0 = [X1[cluster_0_indices].mean(), X2[cluster_0_indices].mean()]\n",
        "        centroid_1 = [X1[cluster_1_indices].mean(), X2[cluster_1_indices].mean()]\n",
        "\n",
        "        new_cluster_labels = []\n",
        "        for i in range(len(X1)):\n",
        "            dist_to_centroid_0 = euclidean_distance(X1[i], X2[i], centroid_0[0], centroid_0[1])\n",
        "            dist_to_centroid_1 = euclidean_distance(X1[i], X2[i], centroid_1[0], centroid_1[1])\n",
        "            if dist_to_centroid_0 < dist_to_centroid_1:\n",
        "                new_cluster_labels.append(0)\n",
        "            else:\n",
        "                new_cluster_labels.append(1)\n",
        "\n",
        "        cluster_labels = np.array(new_cluster_labels)\n",
        "        iteration += 1\n",
        "\n",
        "    return iteration, centroid_0, centroid_1, cluster_labels\n",
        "\n",
        "X1 = np.array([1, 1, 0, 5, 6, 4])\n",
        "X2 = np.array([4, 3, 4, 1, 2, 0])\n",
        "\n",
        "np.random.seed(42)\n",
        "initial_cluster_labels = np.random.choice([0, 1], size=6)\n",
        "\n",
        "iterations, final_centroid_0, final_centroid_1, final_cluster_labels = update_centroids_and_reassign_v3(X1, X2, initial_cluster_labels)\n",
        "\n",
        "print(\"Iterations:\", iterations)\n",
        "print(\"Final Centroid 0:\", final_centroid_0)\n",
        "print(\"Final Centroid 1:\", final_centroid_1)\n",
        "print(\"Final Cluster Labels:\", list(zip(range(1, 7), final_cluster_labels)))\n"
      ],
      "metadata": {
        "colab": {
          "base_uri": "https://localhost:8080/"
        },
        "id": "fCQ0NnbZbVNU",
        "outputId": "00c8cb02-eafe-45e3-fb89-39ba619c08e8"
      },
      "execution_count": 20,
      "outputs": [
        {
          "output_type": "stream",
          "name": "stdout",
          "text": [
            "Iterations: 3\n",
            "Final Centroid 0: [0.6666666666666666, 3.6666666666666665]\n",
            "Final Centroid 1: [5.0, 1.0]\n",
            "Final Cluster Labels: [(1, 0), (2, 0), (3, 0), (4, 1), (5, 1), (6, 1)]\n"
          ]
        }
      ]
    },
    {
      "cell_type": "code",
      "source": [
        "colors = ['red' if label == 0 else 'blue' for label in final_cluster_labels]\n",
        "\n",
        "plt.figure(figsize=(8, 6))\n",
        "plt.scatter(observations['X1'], observations['X2'], color=colors, label='Observations')\n",
        "\n",
        "for i, obs in enumerate(observations['Obs']):\n",
        "    plt.text(observations['X1'][i] + 0.1, observations['X2'][i], f'{obs}', fontsize=12)\n",
        "\n",
        "plt.title('Plot of Observations Colored by Final Cluster Labels', fontsize=14)\n",
        "plt.xlabel('X1', fontsize=12)\n",
        "plt.ylabel('X2', fontsize=12)\n",
        "plt.grid(True)\n",
        "\n",
        "plt.show()\n"
      ],
      "metadata": {
        "colab": {
          "base_uri": "https://localhost:8080/",
          "height": 569
        },
        "id": "fCjU_FcFbm_Z",
        "outputId": "57437ed8-fef3-4a50-8d92-c3bc12687147"
      },
      "execution_count": 21,
      "outputs": [
        {
          "output_type": "display_data",
          "data": {
            "text/plain": [
              "<Figure size 800x600 with 1 Axes>"
            ],
            "image/png": "[encoded data removed]"
          },
          "metadata": {}
        }
      ]
    }
  ]
}