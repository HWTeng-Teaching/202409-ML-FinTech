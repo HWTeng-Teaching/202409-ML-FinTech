{
 "cells": [
  {
   "cell_type": "markdown",
   "id": "0c20b339",
   "metadata": {},
   "source": [
    "# Ch12_Q3(p.553)\n",
    "## (a) Plot the observations."
   ]
  },
  {
   "cell_type": "code",
   "execution_count": 1,
   "id": "0271e1d2",
   "metadata": {},
   "outputs": [
    {
     "data": {
      "image/png": "[encoded data removed]",
      "text/plain": [
       "<Figure size 432x288 with 1 Axes>"
      ]
     },
     "metadata": {
      "needs_background": "light"
     },
     "output_type": "display_data"
    }
   ],
   "source": [
    "import matplotlib.pyplot as plt\n",
    "\n",
    "observations = {\n",
    "    \"Obs1\": [1, 4],\n",
    "    \"Obs2\": [1, 3],\n",
    "    \"Obs3\": [0, 4],\n",
    "    \"Obs4\": [5, 1],\n",
    "    \"Obs5\": [6, 2],\n",
    "    \"Obs6\": [4, 0]\n",
    "}\n",
    "\n",
    "x1 = [obs[0] for obs in observations.values()]\n",
    "x2 = [obs[1] for obs in observations.values()]\n",
    "\n",
    "plt.scatter(x1, x2)\n",
    "\n",
    "for i, obs in enumerate(observations.keys()):\n",
    "    plt.annotate(obs, (x1[i], x2[i]))\n",
    "\n",
    "plt.title('Scatter Plot of Observations')\n",
    "plt.xlabel('X1')\n",
    "plt.ylabel('X2')\n",
    "plt.grid(True)\n",
    "plt.show()\n"
   ]
  },
  {
   "cell_type": "markdown",
   "id": "13fe74d0",
   "metadata": {},
   "source": [
    "## (b)  Randomly assign a cluster label to each observation. You can use the np.random.choice() function to do this. Report the cluster labels for each observation."
   ]
  },
  {
   "cell_type": "code",
   "execution_count": 15,
   "id": "3f693f37",
   "metadata": {},
   "outputs": [
    {
     "name": "stdout",
     "output_type": "stream",
     "text": [
      "Observation 1: Cluster 0\n",
      "Observation 2: Cluster 0\n",
      "Observation 3: Cluster 1\n",
      "Observation 4: Cluster 0\n",
      "Observation 5: Cluster 1\n",
      "Observation 6: Cluster 0\n"
     ]
    }
   ],
   "source": [
    "import numpy as np\n",
    "\n",
    "n_observations = 6\n",
    "cluster_labels = np.random.choice([0, 1], size=n_observations) #randomly selects a cluster (0 or 1) for each observation.\n",
    "for i, label in enumerate(cluster_labels, 1):\n",
    "    print(f\"Observation {i}: Cluster {label}\")"
   ]
  },
  {
   "cell_type": "markdown",
   "id": "857b9eaa",
   "metadata": {},
   "source": [
    "## (c)  Compute the centroid for each cluster."
   ]
  },
  {
   "cell_type": "code",
   "execution_count": 22,
   "id": "8319a75e",
   "metadata": {},
   "outputs": [
    {
     "name": "stdout",
     "output_type": "stream",
     "text": [
      "Centroid of Cluster 0: [2.5 2. ]\n",
      "Centroid of Cluster 1: [3.5 3. ]\n"
     ]
    }
   ],
   "source": [
    "observations = np.array([\n",
    "    [1, 4],  # Obs 1\n",
    "    [1, 3],  # Obs 2\n",
    "    [0, 4],  # Obs 3\n",
    "    [5, 1],  # Obs 4\n",
    "    [6, 2],  # Obs 5\n",
    "    [4, 0]   # Obs 6\n",
    "])\n",
    "\n",
    "cluster_0 = observations[cluster_labels == 0]\n",
    "cluster_1 = observations[cluster_labels == 1]\n",
    "centroid_0 = np.mean(cluster_0, axis=0) if len(cluster_0) > 0 else None\n",
    "centroid_1 = np.mean(cluster_1, axis=0) if len(cluster_1) > 0 else None\n",
    "\n",
    "print(f\"Centroid of Cluster 0: {centroid_0}\")\n",
    "print(f\"Centroid of Cluster 1: {centroid_1}\")\n"
   ]
  },
  {
   "cell_type": "markdown",
   "id": "121b7a64",
   "metadata": {},
   "source": [
    "## (d) Assign each observation to the centroid to which it is closest, in terms of Euclidean distance. Report the cluster labels for each observation."
   ]
  },
  {
   "cell_type": "code",
   "execution_count": 29,
   "id": "a3953352",
   "metadata": {},
   "outputs": [
    {
     "name": "stdout",
     "output_type": "stream",
     "text": [
      "Observation 1: Cluster 0\n",
      "Observation 2: Cluster 0\n",
      "Observation 3: Cluster 0\n",
      "Observation 4: Cluster 1\n",
      "Observation 5: Cluster 1\n",
      "Observation 6: Cluster 0\n"
     ]
    }
   ],
   "source": [
    "new_cluster_labels = []\n",
    "for obs in observations:\n",
    "    distance_to_centroid_0 = np.linalg.norm(obs - centroid_0) if centroid_0 is not None else np.inf\n",
    "    distance_to_centroid_1 = np.linalg.norm(obs - centroid_1) if centroid_1 is not None else np.inf\n",
    "    \n",
    "    if distance_to_centroid_0 < distance_to_centroid_1:\n",
    "        new_cluster_labels.append(0)\n",
    "    else:\n",
    "        new_cluster_labels.append(1)\n",
    "\n",
    "for i, label in enumerate(new_cluster_labels, 1):\n",
    "    print(f\"Observation {i}: Cluster {label}\")"
   ]
  },
  {
   "cell_type": "markdown",
   "id": "9a40f63d",
   "metadata": {},
   "source": [
    "##  (e) Repeat (c) and (d) until the answers obtained stop changing"
   ]
  },
  {
   "cell_type": "code",
   "execution_count": 30,
   "id": "c9e550f2",
   "metadata": {},
   "outputs": [
    {
     "name": "stdout",
     "output_type": "stream",
     "text": [
      "Final Cluster labels for each observation:\n",
      "Observation 1: Cluster 1\n",
      "Observation 2: Cluster 1\n",
      "Observation 3: Cluster 1\n",
      "Observation 4: Cluster 1\n",
      "Observation 5: Cluster 1\n",
      "Observation 6: Cluster 1\n",
      "\n",
      "Final Centroid of Cluster 0:  [2.5 2. ]\n",
      "Final Centroid of Cluster 1:  [2.5 2. ]\n"
     ]
    }
   ],
   "source": [
    "def compute_centroids(observations, cluster_labels):\n",
    "    centroid_0 = np.mean(observations[cluster_labels == 0], axis=0) if np.any(cluster_labels == 0) else None\n",
    "    centroid_1 = np.mean(observations[cluster_labels == 1], axis=0) if np.any(cluster_labels == 1) else None\n",
    "    return centroid_0, centroid_1\n",
    "\n",
    "def assign_clusters(observations, centroids):\n",
    "    new_cluster_labels = []\n",
    "    for obs in observations:\n",
    "        distance_to_centroid_0 = np.linalg.norm(obs - centroids[0]) if centroids[0] is not None else np.inf\n",
    "        distance_to_centroid_1 = np.linalg.norm(obs - centroids[1]) if centroids[1] is not None else np.inf\n",
    "        new_cluster_labels.append(0 if distance_to_centroid_0 < distance_to_centroid_1 else 1)\n",
    "    return new_cluster_labels\n",
    "\n",
    "# K-means algorithm\n",
    "while True:\n",
    "    centroids = compute_centroids(observations, cluster_labels)\n",
    "\n",
    "    new_cluster_labels = assign_clusters(observations, centroids)\n",
    "\n",
    "    if np.array_equal(new_cluster_labels, cluster_labels):\n",
    "        break\n",
    "\n",
    "    cluster_labels = new_cluster_labels\n",
    "\n",
    "print(\"Final Cluster labels for each observation:\")\n",
    "for i, label in enumerate(cluster_labels, 1):\n",
    "    print(f\"Observation {i}: Cluster {label}\")\n",
    "\n",
    "print(f\"\\nFinal Centroid of Cluster 0:  {centroid_0}\")\n",
    "print(f\"Final Centroid of Cluster 1:  {centroid_0}\")"
   ]
  },
  {
   "cell_type": "markdown",
   "id": "37063470",
   "metadata": {},
   "source": [
    "## (f)  In your plot from (a), color the observations according to the cluster labels obtained"
   ]
  },
  {
   "cell_type": "code",
   "execution_count": 32,
   "id": "2b035b97",
   "metadata": {},
   "outputs": [
    {
     "data": {
      "image/png": "[encoded data removed]",
      "text/plain": [
       "<Figure size 432x288 with 1 Axes>"
      ]
     },
     "metadata": {
      "needs_background": "light"
     },
     "output_type": "display_data"
    }
   ],
   "source": [
    "plt.scatter(observations[:, 0], observations[:, 1], c=cluster_labels, cmap='viridis', label='Observations')\n",
    "\n",
    "if centroids[0] is not None:\n",
    "    plt.scatter(centroids[0][0], centroids[0][1], marker='X', color='red', s=100, label='Centroid of Cluster 0')\n",
    "if centroids[1] is not None:\n",
    "    plt.scatter(centroids[1][0], centroids[1][1], marker='X', color='blue', s=100, label='Centroid of Cluster 1')\n",
    "\n",
    "for i, obs in enumerate(range(1, 7)):\n",
    "    plt.annotate(f\"Obs {obs}\", (observations[i, 0], observations[i, 1]))\n",
    "\n",
    "plt.xlabel('X1')\n",
    "plt.ylabel('X2')\n",
    "plt.title('K-means Clustering')\n",
    "plt.legend()\n",
    "plt.grid(True)\n",
    "plt.show()"
   ]
  }
 ],
 "metadata": {
  "kernelspec": {
   "display_name": "Python 3",
   "language": "python",
   "name": "python3"
  },
  "language_info": {
   "codemirror_mode": {
    "name": "ipython",
    "version": 3
   },
   "file_extension": ".py",
   "mimetype": "text/x-python",
   "name": "python",
   "nbconvert_exporter": "python",
   "pygments_lexer": "ipython3",
   "version": "3.8.8"
  }
 },
 "nbformat": 4,
 "nbformat_minor": 5
}
