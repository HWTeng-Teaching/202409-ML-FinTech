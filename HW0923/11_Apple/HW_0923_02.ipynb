{
 "cells": [
  {
   "cell_type": "markdown",
   "id": "31a5195d",
   "metadata": {},
   "source": [
    "## Ch12_Q03"
   ]
  },
  {
   "cell_type": "code",
   "execution_count": 460,
   "id": "25f0c81e",
   "metadata": {},
   "outputs": [],
   "source": [
    "import numpy as np\n",
    "import matplotlib.pyplot as plt\n",
    "\n",
    "observations = np.array([[1, 4], [1, 3], [0, 4], [5, 1], [6, 2], [4, 0]])"
   ]
  },
  {
   "cell_type": "code",
   "execution_count": 461,
   "id": "f9ac113f",
   "metadata": {},
   "outputs": [
    {
     "data": {
      "image/png": "[encoded data removed]",
      "text/plain": [
       "<Figure size 432x288 with 1 Axes>"
      ]
     },
     "metadata": {
      "needs_background": "light"
     },
     "output_type": "display_data"
    }
   ],
   "source": [
    "# (a) Plot the observations\n",
    "\n",
    "plt.scatter(observations[:, 0], observations[:, 1])\n",
    "for i, obs in enumerate(observations):\n",
    "    plt.annotate(f'Obs.{i+1}', (obs[0], obs[1]), textcoords=\"offset points\", xytext=(0, 5))\n",
    "\n",
    "plt.title('Observations')\n",
    "plt.xlabel('X1')\n",
    "plt.ylabel('X2')\n",
    "plt.grid(True)\n",
    "plt.show()"
   ]
  },
  {
   "cell_type": "code",
   "execution_count": 462,
   "id": "0d0911c9",
   "metadata": {},
   "outputs": [
    {
     "name": "stdout",
     "output_type": "stream",
     "text": [
      "Obs.1: Cluster 1\n",
      "Obs.2: Cluster 0\n",
      "Obs.3: Cluster 0\n",
      "Obs.4: Cluster 0\n",
      "Obs.5: Cluster 0\n",
      "Obs.6: Cluster 0\n"
     ]
    }
   ],
   "source": [
    "# (b) Randomly assign a cluster label to each observation\n",
    "\n",
    "labels = np.random.choice([0, 1], size=6)\n",
    "for i, label in enumerate(labels, 1):\n",
    "    print(f'Obs.{i}: Cluster {label}')"
   ]
  },
  {
   "cell_type": "code",
   "execution_count": 463,
   "id": "9c180ba2",
   "metadata": {},
   "outputs": [
    {
     "name": "stdout",
     "output_type": "stream",
     "text": [
      "Centroid of Cluster 0: [3.20, 2.00]\n",
      "Centroid of Cluster 1: [1.00, 4.00]\n"
     ]
    }
   ],
   "source": [
    "# (c) Compute the centroid for each cluster\n",
    "\n",
    "centroids = []\n",
    "for i in range(2):\n",
    "    cluster_points = observations[labels == i]\n",
    "    if cluster_points.size > 0:\n",
    "        centroid = cluster_points.mean(axis=0)\n",
    "        formatted_centroid = f\"[{centroid[0]:.2f}, {centroid[1]:.2f}]\"\n",
    "        print(f\"Centroid of Cluster {i}: {formatted_centroid}\")\n",
    "        centroids.append(centroid)\n"
   ]
  },
  {
   "cell_type": "code",
   "execution_count": 464,
   "id": "35a9e971",
   "metadata": {},
   "outputs": [
    {
     "name": "stdout",
     "output_type": "stream",
     "text": [
      "Obs.1: Cluster 1\n",
      "Obs.2: Cluster 1\n",
      "Obs.3: Cluster 1\n",
      "Obs.4: Cluster 0\n",
      "Obs.5: Cluster 0\n",
      "Obs.6: Cluster 0\n"
     ]
    }
   ],
   "source": [
    "# (d) Assign each observation to the centroid to which it is closest, in terms of Euclidean distance\n",
    "\n",
    "centroids = np.array(centroids)\n",
    "\n",
    "# 為每個觀察值指派最近的質心\n",
    "cluster_labels = []\n",
    "for obs in observations:\n",
    "    distances = np.linalg.norm(obs - centroids, axis=1)  # 計算到每個質心的距離\n",
    "    closest_centroid = np.argmin(distances)  # 找到最近的質心\n",
    "    cluster_labels.append(closest_centroid)\n",
    "\n",
    "for i in range(6):\n",
    "    print(f'Obs.{i+1}: Cluster {(cluster_labels[i])}')"
   ]
  },
  {
   "cell_type": "code",
   "execution_count": 465,
   "id": "d6de5552",
   "metadata": {},
   "outputs": [
    {
     "name": "stdout",
     "output_type": "stream",
     "text": [
      "Final Cluster Labels:\n",
      "Obs.1: Cluster 1\n",
      "Obs.2: Cluster 1\n",
      "Obs.3: Cluster 1\n",
      "Obs.4: Cluster 0\n",
      "Obs.5: Cluster 0\n",
      "Obs.6: Cluster 0\n",
      "\n",
      "Final Centroids:\n",
      "Centroid of Cluster 0: [5.00, 1.00]\n",
      "Centroid of Cluster 1: [0.67, 3.67]\n"
     ]
    }
   ],
   "source": [
    "# (e)\n",
    "final_labels = []\n",
    "\n",
    "while final_labels != cluster_labels:\n",
    "    final_labels = cluster_labels\n",
    "    labels = np.random.choice([0, 1], size=6)\n",
    "    centroids = []\n",
    "    \n",
    "    for i in range(2):\n",
    "        cluster_points = observations[labels == i]\n",
    "        if cluster_points.size > 0:\n",
    "            centroid = cluster_points.mean(axis=0)\n",
    "            centroids.append(centroid)\n",
    "   \n",
    "    centroids = np.array(centroids)\n",
    "    cluster_labels = []      \n",
    "    for obs in observations:\n",
    "        distances = np.linalg.norm(obs - centroids, axis=1)  \n",
    "        closest_centroid = np.argmin(distances)  \n",
    "        cluster_labels.append(closest_centroid)\n",
    "\n",
    "print(\"Final Cluster Labels:\")\n",
    "for i in range(6):\n",
    "    print(f'Obs.{i+1}: Cluster {(final_labels[i])}')\n",
    "    \n",
    "\n",
    "print(\"\\nFinal Centroids:\")    \n",
    "for i in range(2):\n",
    "    final_labels = np.array(final_labels)\n",
    "    cluster_points = observations[final_labels == i]\n",
    "    if cluster_points.size > 0:\n",
    "        centroid = cluster_points.mean(axis=0)\n",
    "        formatted_centroid = f\"[{centroid[0]:.2f}, {centroid[1]:.2f}]\"\n",
    "        print(f\"Centroid of Cluster {i}: {formatted_centroid}\")"
   ]
  },
  {
   "cell_type": "code",
   "execution_count": 467,
   "id": "086715d6",
   "metadata": {},
   "outputs": [
    {
     "data": {
      "image/png": "[encoded data removed]",
      "text/plain": [
       "<Figure size 576x432 with 1 Axes>"
      ]
     },
     "metadata": {
      "needs_background": "light"
     },
     "output_type": "display_data"
    }
   ],
   "source": [
    "# (f) color the observations according to the cluster labels obtained.\n",
    "\n",
    "plt.figure(figsize=(8, 6))\n",
    "for i in range(2):\n",
    "    cluster_points = observations[final_labels == i]\n",
    "    plt.scatter(cluster_points[:, 0], cluster_points[:, 1], label=f'Cluster {i}', s=100)\n",
    "    \n",
    "\n",
    "for i, obs in enumerate(observations):\n",
    "    plt.annotate(f'Obs.{i+1}', (obs[0], obs[1]))\n",
    "\n",
    "\n",
    "plt.title('K-means Clustering Result')\n",
    "plt.xlabel('X1')\n",
    "plt.ylabel('X2')\n",
    "\n",
    "plt.legend()\n",
    "plt.grid(True)\n",
    "plt.show()"
   ]
  },
  {
   "cell_type": "code",
   "execution_count": null,
   "id": "01702de1",
   "metadata": {},
   "outputs": [],
   "source": []
  }
 ],
 "metadata": {
  "kernelspec": {
   "display_name": "Python 3",
   "language": "python",
   "name": "python3"
  },
  "language_info": {
   "codemirror_mode": {
    "name": "ipython",
    "version": 3
   },
   "file_extension": ".py",
   "mimetype": "text/x-python",
   "name": "python",
   "nbconvert_exporter": "python",
   "pygments_lexer": "ipython3",
   "version": "3.8.8"
  }
 },
 "nbformat": 4,
 "nbformat_minor": 5
}
