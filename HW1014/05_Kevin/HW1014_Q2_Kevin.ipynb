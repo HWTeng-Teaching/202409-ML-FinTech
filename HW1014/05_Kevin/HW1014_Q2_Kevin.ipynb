{
 "cells": [
  {
   "cell_type": "markdown",
   "metadata": {},
   "source": [
    "## (a)Perform the following commands"
   ]
  },
  {
   "cell_type": "code",
   "execution_count": 1,
   "metadata": {},
   "outputs": [],
   "source": [
    "import numpy as np\n",
    "import matplotlib.pyplot as plt\n",
    "import statsmodels.api as sm\n",
    "from scipy.stats import pearsonr\n",
    "\n",
    "\n",
    "rng = np.random.default_rng(10)\n",
    "x1 = rng.uniform(0, 1, size=100)\n",
    "x2 = 0.5 * x1 + rng.normal(size=100) / 10\n",
    "y = 2 + 2 * x1 + 0.3 * x2 + rng.normal(size=100)"
   ]
  },
  {
   "cell_type": "markdown",
   "metadata": {},
   "source": [
    "β0=2 , β1=0.3 , Intercept=2"
   ]
  },
  {
   "cell_type": "markdown",
   "metadata": {},
   "source": [
    "## (b)What is the correlation between x1 and x2?Creat a scatterplot displaying the relationship between the variables"
   ]
  },
  {
   "cell_type": "code",
   "execution_count": 4,
   "metadata": {},
   "outputs": [
    {
     "data": {
      "image/png": "[encoded data removed]",
      "text/plain": [
       "<Figure size 640x480 with 1 Axes>"
      ]
     },
     "metadata": {},
     "output_type": "display_data"
    },
    {
     "name": "stdout",
     "output_type": "stream",
     "text": [
      "Correlation between x1 and x2: 0.772324497691354\n"
     ]
    }
   ],
   "source": [
    "plt.scatter(x1, x2)\n",
    "plt.xlabel('x1')\n",
    "plt.ylabel('x2')\n",
    "plt.title('Scatterplot of x1 and x2')\n",
    "plt.show()\n",
    "\n",
    "corr, _ = pearsonr(x1, x2)\n",
    "print(\"Correlation between x1 and x2:\", corr)"
   ]
  },
  {
   "cell_type": "markdown",
   "metadata": {},
   "source": [
    "## (c)Use this data to fit a least squares regression to predict y using x1 and x2.What are (β^)0 , (β^)1 and (β^)2?How do these relate to the true β0,β1 and β2?Can you reject the null hypothesis H0:β1=0?How about H0:β2=0?"
   ]
  },
  {
   "cell_type": "code",
   "execution_count": 7,
   "metadata": {},
   "outputs": [
    {
     "name": "stdout",
     "output_type": "stream",
     "text": [
      "\n",
      "Regression summary using both x1 and x2:\n",
      "                             OLS Regression Results                            \n",
      "==============================================================================\n",
      "Dep. Variable:                      y   R-squared:                       0.291\n",
      "Model:                            OLS   Adj. R-squared:                  0.276\n",
      "Method:                 Least Squares   F-statistic:                     19.89\n",
      "Date:                Sat, 19 Oct 2024   Prob (F-statistic):           5.76e-08\n",
      "Time:                        00:35:39   Log-Likelihood:                -130.62\n",
      "No. Observations:                 100   AIC:                             267.2\n",
      "Df Residuals:                      97   BIC:                             275.1\n",
      "Df Model:                           2                                         \n",
      "Covariance Type:            nonrobust                                         \n",
      "==============================================================================\n",
      "                 coef    std err          t      P>|t|      [0.025      0.975]\n",
      "------------------------------------------------------------------------------\n",
      "const          1.9579      0.190     10.319      0.000       1.581       2.334\n",
      "x1             1.6154      0.527      3.065      0.003       0.569       2.661\n",
      "x2             0.9428      0.831      1.134      0.259      -0.707       2.592\n",
      "==============================================================================\n",
      "Omnibus:                        0.051   Durbin-Watson:                   1.964\n",
      "Prob(Omnibus):                  0.975   Jarque-Bera (JB):                0.041\n",
      "Skew:                          -0.036   Prob(JB):                        0.979\n",
      "Kurtosis:                       2.931   Cond. No.                         11.9\n",
      "==============================================================================\n",
      "\n",
      "Notes:\n",
      "[1] Standard Errors assume that the covariance matrix of the errors is correctly specified.\n"
     ]
    }
   ],
   "source": [
    "X = np.column_stack((x1, x2))\n",
    "X = sm.add_constant(X) \n",
    "\n",
    "model = sm.OLS(y, X).fit()\n",
    "print(\"\\nRegression summary using both x1 and x2:\\n\", model.summary())"
   ]
  },
  {
   "cell_type": "code",
   "execution_count": null,
   "metadata": {},
   "outputs": [],
   "source": [
    "#The discover:\n",
    "#1.((β^)0,(β^)1,(β^)2)=(1.95,1.61,0.94) , (β0,β1,β2)=(2,2,0.3)\n",
    "#2.The p-value of x1 is 0.003 which is smallar than 0.05.Then we can say we reject H0.Means that there is no evidence to show β1=0.\n",
    "#3.The p-value of x2 is 0.26 which is bigger than 0.05.Then we can say we failed to reject H0.Means that there is a sufficient evidence to show β2=0."
   ]
  },
  {
   "cell_type": "markdown",
   "metadata": {},
   "source": [
    "## (d)Now fit a least squares regression to predict y using x1 only.Can you reject the null hypothesis H0:β1=0?"
   ]
  },
  {
   "cell_type": "code",
   "execution_count": 8,
   "metadata": {},
   "outputs": [
    {
     "name": "stdout",
     "output_type": "stream",
     "text": [
      "\n",
      "Regression summary using only x1:\n",
      "                             OLS Regression Results                            \n",
      "==============================================================================\n",
      "Dep. Variable:                      y   R-squared:                       0.281\n",
      "Model:                            OLS   Adj. R-squared:                  0.274\n",
      "Method:                 Least Squares   F-statistic:                     38.39\n",
      "Date:                Sat, 19 Oct 2024   Prob (F-statistic):           1.37e-08\n",
      "Time:                        00:52:44   Log-Likelihood:                -131.28\n",
      "No. Observations:                 100   AIC:                             266.6\n",
      "Df Residuals:                      98   BIC:                             271.8\n",
      "Df Model:                           1                                         \n",
      "Covariance Type:            nonrobust                                         \n",
      "==============================================================================\n",
      "                 coef    std err          t      P>|t|      [0.025      0.975]\n",
      "------------------------------------------------------------------------------\n",
      "const          1.9371      0.189     10.242      0.000       1.562       2.312\n",
      "x1             2.0771      0.335      6.196      0.000       1.412       2.742\n",
      "==============================================================================\n",
      "Omnibus:                        0.204   Durbin-Watson:                   1.931\n",
      "Prob(Omnibus):                  0.903   Jarque-Bera (JB):                0.042\n",
      "Skew:                          -0.046   Prob(JB):                        0.979\n",
      "Kurtosis:                       3.038   Cond. No.                         4.65\n",
      "==============================================================================\n",
      "\n",
      "Notes:\n",
      "[1] Standard Errors assume that the covariance matrix of the errors is correctly specified.\n"
     ]
    }
   ],
   "source": [
    "X_x1 = sm.add_constant(x1)\n",
    "model_x1 = sm.OLS(y, X_x1).fit()\n",
    "print(\"\\nRegression summary using only x1:\\n\", model_x1.summary())"
   ]
  },
  {
   "cell_type": "markdown",
   "metadata": {},
   "source": [
    "The p-value of x1 is 0 which is smallar than 0.05.Then we can say we reject H0.Means that there is no evidence to show β1=0."
   ]
  },
  {
   "cell_type": "markdown",
   "metadata": {},
   "source": [
    "## (e)Now fit a least squares regression to predict y using x2 only.Can you reject the null hypothesis H0:β1=0?"
   ]
  },
  {
   "cell_type": "code",
   "execution_count": 9,
   "metadata": {},
   "outputs": [
    {
     "name": "stdout",
     "output_type": "stream",
     "text": [
      "\n",
      "(e) Regression summary using only x2:\n",
      "                             OLS Regression Results                            \n",
      "==============================================================================\n",
      "Dep. Variable:                      y   R-squared:                       0.222\n",
      "Model:                            OLS   Adj. R-squared:                  0.214\n",
      "Method:                 Least Squares   F-statistic:                     27.99\n",
      "Date:                Sat, 19 Oct 2024   Prob (F-statistic):           7.43e-07\n",
      "Time:                        00:54:54   Log-Likelihood:                -135.24\n",
      "No. Observations:                 100   AIC:                             274.5\n",
      "Df Residuals:                      98   BIC:                             279.7\n",
      "Df Model:                           1                                         \n",
      "Covariance Type:            nonrobust                                         \n",
      "==============================================================================\n",
      "                 coef    std err          t      P>|t|      [0.025      0.975]\n",
      "------------------------------------------------------------------------------\n",
      "const          2.3239      0.154     15.124      0.000       2.019       2.629\n",
      "x1             2.9103      0.550      5.291      0.000       1.819       4.002\n",
      "==============================================================================\n",
      "Omnibus:                        0.191   Durbin-Watson:                   1.943\n",
      "Prob(Omnibus):                  0.909   Jarque-Bera (JB):                0.373\n",
      "Skew:                          -0.034   Prob(JB):                        0.830\n",
      "Kurtosis:                       2.709   Cond. No.                         6.11\n",
      "==============================================================================\n",
      "\n",
      "Notes:\n",
      "[1] Standard Errors assume that the covariance matrix of the errors is correctly specified.\n"
     ]
    }
   ],
   "source": [
    "X_x2 = sm.add_constant(x2)\n",
    "model_x2 = sm.OLS(y, X_x2).fit()\n",
    "print(\"\\n(e) Regression summary using only x2:\\n\", model_x2.summary())"
   ]
  },
  {
   "cell_type": "markdown",
   "metadata": {},
   "source": [
    "The p-value of x2 is 0 which is smallar than 0.05.Then we can say we reject H0.Means that there is no evidence to show β1=0.Same result as (d)"
   ]
  },
  {
   "cell_type": "markdown",
   "metadata": {},
   "source": [
    "## (f)Do the result (c)~(e) contradict each other?"
   ]
  },
  {
   "cell_type": "markdown",
   "metadata": {},
   "source": [
    "I think no contradict. Obviously , x1 has strong effect in hypothesis test , so does x2 when use it oneself. But x2 has weak effect when using x1 and x2 simutaneously but x1 still strong."
   ]
  },
  {
   "cell_type": "markdown",
   "metadata": {},
   "source": [
    "## (g)Suppose we obtain one additional observation,which was unfortunately mismeasured.Re-fit the model from (c)~(e) using new data.In each model,what effect does this observation have on each of the model?"
   ]
  },
  {
   "cell_type": "code",
   "execution_count": 9,
   "metadata": {},
   "outputs": [
    {
     "name": "stdout",
     "output_type": "stream",
     "text": [
      "\n",
      "(g) Regression summary after adding new observation:\n",
      "\n",
      "Using x1 and x2:\n",
      "                             OLS Regression Results                            \n",
      "==============================================================================\n",
      "Dep. Variable:                      y   R-squared:                       0.292\n",
      "Model:                            OLS   Adj. R-squared:                  0.277\n",
      "Method:                 Least Squares   F-statistic:                     20.17\n",
      "Date:                Sat, 19 Oct 2024   Prob (F-statistic):           4.60e-08\n",
      "Time:                        20:43:49   Log-Likelihood:                -135.30\n",
      "No. Observations:                 101   AIC:                             276.6\n",
      "Df Residuals:                      98   BIC:                             284.5\n",
      "Df Model:                           2                                         \n",
      "Covariance Type:            nonrobust                                         \n",
      "==============================================================================\n",
      "                 coef    std err          t      P>|t|      [0.025      0.975]\n",
      "------------------------------------------------------------------------------\n",
      "const          2.0618      0.192     10.720      0.000       1.680       2.443\n",
      "x1             0.8575      0.466      1.838      0.069      -0.068       1.783\n",
      "x2             2.2663      0.705      3.216      0.002       0.868       3.665\n",
      "==============================================================================\n",
      "Omnibus:                        0.139   Durbin-Watson:                   1.894\n",
      "Prob(Omnibus):                  0.933   Jarque-Bera (JB):                0.320\n",
      "Skew:                           0.013   Prob(JB):                        0.852\n",
      "Kurtosis:                       2.725   Cond. No.                         9.68\n",
      "==============================================================================\n",
      "\n",
      "Notes:\n",
      "[1] Standard Errors assume that the covariance matrix of the errors is correctly specified.\n"
     ]
    }
   ],
   "source": [
    "x1_new = np.concatenate([x1, [0.1]])\n",
    "x2_new = np.concatenate([x2, [0.8]])\n",
    "y_new = np.concatenate([y, [6]])\n",
    "\n",
    "#Refit the models with the new data\n",
    "X_new = np.column_stack((x1_new, x2_new))\n",
    "X_new = sm.add_constant(X_new)\n",
    "model_new = sm.OLS(y_new, X_new).fit()\n",
    "\n",
    "X_x1_new = sm.add_constant(x1_new)\n",
    "model_x1_new = sm.OLS(y_new, X_x1_new).fit()\n",
    "\n",
    "X_x2_new = sm.add_constant(x2_new)\n",
    "model_x2_new = sm.OLS(y_new, X_x2_new).fit()\n",
    "\n",
    "print(\"\\nRegression summary after adding new observation:\")\n",
    "print(\"\\nUsing x1 and x2:\\n\", model_new.summary())"
   ]
  },
  {
   "cell_type": "code",
   "execution_count": 10,
   "metadata": {},
   "outputs": [
    {
     "name": "stdout",
     "output_type": "stream",
     "text": [
      "\n",
      "Using only x1:\n",
      "                             OLS Regression Results                            \n",
      "==============================================================================\n",
      "Dep. Variable:                      y   R-squared:                       0.217\n",
      "Model:                            OLS   Adj. R-squared:                  0.209\n",
      "Method:                 Least Squares   F-statistic:                     27.42\n",
      "Date:                Sat, 19 Oct 2024   Prob (F-statistic):           9.23e-07\n",
      "Time:                        20:43:52   Log-Likelihood:                -140.37\n",
      "No. Observations:                 101   AIC:                             284.7\n",
      "Df Residuals:                      99   BIC:                             290.0\n",
      "Df Model:                           1                                         \n",
      "Covariance Type:            nonrobust                                         \n",
      "==============================================================================\n",
      "                 coef    std err          t      P>|t|      [0.025      0.975]\n",
      "------------------------------------------------------------------------------\n",
      "const          2.0739      0.201     10.310      0.000       1.675       2.473\n",
      "x1             1.8760      0.358      5.236      0.000       1.165       2.587\n",
      "==============================================================================\n",
      "Omnibus:                        8.232   Durbin-Watson:                   1.636\n",
      "Prob(Omnibus):                  0.016   Jarque-Bera (JB):               10.781\n",
      "Skew:                           0.396   Prob(JB):                      0.00456\n",
      "Kurtosis:                       4.391   Cond. No.                         4.61\n",
      "==============================================================================\n",
      "\n",
      "Notes:\n",
      "[1] Standard Errors assume that the covariance matrix of the errors is correctly specified.\n"
     ]
    }
   ],
   "source": [
    "print(\"\\nUsing only x1:\\n\", model_x1_new.summary())"
   ]
  },
  {
   "cell_type": "code",
   "execution_count": 11,
   "metadata": {},
   "outputs": [
    {
     "name": "stdout",
     "output_type": "stream",
     "text": [
      "\n",
      "Using only x2:\n",
      "                             OLS Regression Results                            \n",
      "==============================================================================\n",
      "Dep. Variable:                      y   R-squared:                       0.267\n",
      "Model:                            OLS   Adj. R-squared:                  0.260\n",
      "Method:                 Least Squares   F-statistic:                     36.10\n",
      "Date:                Sat, 19 Oct 2024   Prob (F-statistic):           3.13e-08\n",
      "Time:                        20:44:05   Log-Likelihood:                -137.01\n",
      "No. Observations:                 101   AIC:                             278.0\n",
      "Df Residuals:                      99   BIC:                             283.3\n",
      "Df Model:                           1                                         \n",
      "Covariance Type:            nonrobust                                         \n",
      "==============================================================================\n",
      "                 coef    std err          t      P>|t|      [0.025      0.975]\n",
      "------------------------------------------------------------------------------\n",
      "const          2.2840      0.151     15.088      0.000       1.984       2.584\n",
      "x1             3.1458      0.524      6.008      0.000       2.107       4.185\n",
      "==============================================================================\n",
      "Omnibus:                        0.495   Durbin-Watson:                   1.939\n",
      "Prob(Omnibus):                  0.781   Jarque-Bera (JB):                0.631\n",
      "Skew:                          -0.041   Prob(JB):                        0.729\n",
      "Kurtosis:                       2.621   Cond. No.                         5.84\n",
      "==============================================================================\n",
      "\n",
      "Notes:\n",
      "[1] Standard Errors assume that the covariance matrix of the errors is correctly specified.\n"
     ]
    }
   ],
   "source": [
    "print(\"\\nUsing only x2:\\n\", model_x2_new.summary())"
   ]
  },
  {
   "cell_type": "code",
   "execution_count": 12,
   "metadata": {},
   "outputs": [
    {
     "name": "stdout",
     "output_type": "stream",
     "text": [
      "Standardized Residual for the new observation: 2.6925574489456636\n",
      "Leverage (Hat Value) for the new observation: 0.3476716196142664\n",
      "The new observation is not an outlier.\n",
      "The new observation is a high-leverage point.\n"
     ]
    }
   ],
   "source": [
    "#Get influence measures\n",
    "influence = model_new.get_influence()\n",
    "\n",
    "#Get standardized residuals and hat values (leverage)\n",
    "standardized_residuals = influence.resid_studentized_internal\n",
    "hat_values = influence.hat_matrix_diag\n",
    "\n",
    "\n",
    "new_obs_index = len(y_new) - 1\n",
    "print(f\"Standardized Residual for the new observation: {standardized_residuals[new_obs_index]}\")\n",
    "print(f\"Leverage (Hat Value) for the new observation: {hat_values[new_obs_index]}\")\n",
    "\n",
    "\n",
    "if abs(standardized_residuals[new_obs_index]) > 3:\n",
    "    print(\"The new observation is an outlier.\")\n",
    "else:\n",
    "    print(\"The new observation is not an outlier.\")\n",
    "\n",
    "\n",
    "leverage_threshold = 2 * (X_new.shape[1]) / len(X_new)  #leverage > 2 * (k+1)/n is considered high\n",
    "if hat_values[new_obs_index] > leverage_threshold:\n",
    "    print(\"The new observation is a high-leverage point.\")\n",
    "else:\n",
    "    print(\"The new observation is not a high-leverage point.\")\n"
   ]
  }
 ],
 "metadata": {
  "kernelspec": {
   "display_name": "Python 3",
   "language": "python",
   "name": "python3"
  },
  "language_info": {
   "codemirror_mode": {
    "name": "ipython",
    "version": 3
   },
   "file_extension": ".py",
   "mimetype": "text/x-python",
   "name": "python",
   "nbconvert_exporter": "python",
   "pygments_lexer": "ipython3",
   "version": "3.12.6"
  }
 },
 "nbformat": 4,
 "nbformat_minor": 2
}
