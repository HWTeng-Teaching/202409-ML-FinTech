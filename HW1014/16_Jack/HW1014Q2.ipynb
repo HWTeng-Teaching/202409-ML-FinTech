{
 "cells": [
  {
   "cell_type": "markdown",
   "id": "e40b3637-f10f-49ad-960d-c93226059bfa",
   "metadata": {},
   "source": [
    "# HW1014Q2 CH03Q14"
   ]
  },
  {
   "cell_type": "markdown",
   "id": "b8cbee90-722c-4c51-a507-55be0d70668c",
   "metadata": {},
   "source": [
    "### 14. This problem focuses on the collinearity problem."
   ]
  },
  {
   "cell_type": "markdown",
   "id": "2ebe9572-b568-4bf5-8b04-730422510065",
   "metadata": {},
   "source": [
    "##### (a) Perform the following commands in Python:  \r",
    "rng = np.random.default_rng(10)  \n",
    "x1 = rng.uniform(0, 1, size=100)  \n",
    "x2 = 0.5 * x1 + rng.normal(size=100) / 10  \n",
    "y = 2 + 2 * x1 + 0.3 * x2 + rng.normal(size=100)    \n",
    "The last line corresponds to creating a linear model in which y is a function of x1 and x2. Write out the form of the linear model. What are the regression coeffcients?\r\n"
   ]
  },
  {
   "cell_type": "code",
   "execution_count": 1,
   "id": "3faa7a30-b049-46ad-8ea1-c09723509923",
   "metadata": {},
   "outputs": [
    {
     "name": "stdout",
     "output_type": "stream",
     "text": [
      "True regression coefficients: β0=2, β1=2, β2=0.3\n"
     ]
    }
   ],
   "source": [
    "import numpy as np\n",
    "\n",
    "rng = np.random.default_rng(10)\n",
    "x1 = rng.uniform(0, 1, size=100)\n",
    "x2 = 0.5 * x1 + rng.normal(size=100) / 10\n",
    "y = 2 + 2 * x1 + 0.3 * x2 + rng.normal(size=100)\n",
    "\n",
    "print(\"True regression coefficients: β0=2, β1=2, β2=0.3\")"
   ]
  },
  {
   "cell_type": "markdown",
   "id": "2fe08429-ce41-4aef-8951-5deb3f42f61b",
   "metadata": {},
   "source": [
    "##### (b) What is the correlation between x1 and x2? Create a scatterplot displaying the relationship between the variables."
   ]
  },
  {
   "cell_type": "code",
   "execution_count": 2,
   "id": "2ad0a646-2b5c-4784-8310-758dd2ecd43e",
   "metadata": {},
   "outputs": [
    {
     "name": "stdout",
     "output_type": "stream",
     "text": [
      "Correlation between x1 and x2: 0.772324497691354\n"
     ]
    },
    {
     "data": {
      "image/png": "[encoded data removed]",
      "text/plain": [
       "<Figure size 640x480 with 1 Axes>"
      ]
     },
     "metadata": {},
     "output_type": "display_data"
    }
   ],
   "source": [
    "import matplotlib.pyplot as plt\n",
    "\n",
    "correlation = np.corrcoef(x1, x2)[0, 1]\n",
    "print(f\"Correlation between x1 and x2: {correlation}\")\n",
    "\n",
    "plt.scatter(x1, x2)\n",
    "plt.xlabel('x1')\n",
    "plt.ylabel('x2')\n",
    "plt.title('Scatterplot of x1 vs x2')\n",
    "plt.show()"
   ]
  },
  {
   "cell_type": "markdown",
   "id": "0542be48-b24a-4068-9e4e-d6c728e01255",
   "metadata": {},
   "source": [
    "##### (c) Using this data, fit a least squares regression to predict y using x1 and x2. Describe the results obtained. What are βˆ0, βˆ1, and βˆ2? How do these relate to the true β0, β1, and β2? Can you reject the null hypothesis H0 : β1 = 0? How about the null hypothesis H0 : β2 = 0?"
   ]
  },
  {
   "cell_type": "code",
   "execution_count": 3,
   "id": "e20a684a-29cf-409c-a480-392b4e64519a",
   "metadata": {},
   "outputs": [
    {
     "name": "stdout",
     "output_type": "stream",
     "text": [
      "                            OLS Regression Results                            \n",
      "==============================================================================\n",
      "Dep. Variable:                      y   R-squared:                       0.291\n",
      "Model:                            OLS   Adj. R-squared:                  0.276\n",
      "Method:                 Least Squares   F-statistic:                     19.89\n",
      "Date:                Thu, 17 Oct 2024   Prob (F-statistic):           5.76e-08\n",
      "Time:                        00:30:40   Log-Likelihood:                -130.62\n",
      "No. Observations:                 100   AIC:                             267.2\n",
      "Df Residuals:                      97   BIC:                             275.1\n",
      "Df Model:                           2                                         \n",
      "Covariance Type:            nonrobust                                         \n",
      "==============================================================================\n",
      "                 coef    std err          t      P>|t|      [0.025      0.975]\n",
      "------------------------------------------------------------------------------\n",
      "const          1.9579      0.190     10.319      0.000       1.581       2.334\n",
      "x1             1.6154      0.527      3.065      0.003       0.569       2.661\n",
      "x2             0.9428      0.831      1.134      0.259      -0.707       2.592\n",
      "==============================================================================\n",
      "Omnibus:                        0.051   Durbin-Watson:                   1.964\n",
      "Prob(Omnibus):                  0.975   Jarque-Bera (JB):                0.041\n",
      "Skew:                          -0.036   Prob(JB):                        0.979\n",
      "Kurtosis:                       2.931   Cond. No.                         11.9\n",
      "==============================================================================\n",
      "\n",
      "Notes:\n",
      "[1] Standard Errors assume that the covariance matrix of the errors is correctly specified.\n",
      "\n",
      "βˆ0, βˆ1, βˆ2= [1.95790929 1.6153677  0.9427767 ]\n",
      "These estimates should be close to the true β0, β1, and β2\n",
      "We can reject the null hypothesis H0 : β1 = 0\n",
      "We cannot reject the null hypothesis H0 : β2 = 0\n"
     ]
    }
   ],
   "source": [
    "import statsmodels.api as sm\n",
    "\n",
    "X = np.column_stack((x1, x2))\n",
    "X = sm.add_constant(X)  \n",
    "model = sm.OLS(y, X).fit()\n",
    "print(model.summary())\n",
    "print(\"\\nβˆ0, βˆ1, βˆ2=\", model.params)\n",
    "print(\"These estimates should be close to the true β0, β1, and β2\")\n",
    "print(\"We can reject the null hypothesis H0 : β1 = 0\")\n",
    "print(\"We cannot reject the null hypothesis H0 : β2 = 0\")"
   ]
  },
  {
   "cell_type": "markdown",
   "id": "6f1ee4ad-2b90-4f61-812b-8c78cf6cd04d",
   "metadata": {},
   "source": [
    "##### (d) Now fit a least squares regression to predict y using only x1. Comment on your results. Can you reject the null hypothesis H0 : β1 = 0?"
   ]
  },
  {
   "cell_type": "code",
   "execution_count": 4,
   "id": "6e934c10-6d28-4998-b96f-82dddc450797",
   "metadata": {},
   "outputs": [
    {
     "name": "stdout",
     "output_type": "stream",
     "text": [
      "                            OLS Regression Results                            \n",
      "==============================================================================\n",
      "Dep. Variable:                      y   R-squared:                       0.281\n",
      "Model:                            OLS   Adj. R-squared:                  0.274\n",
      "Method:                 Least Squares   F-statistic:                     38.39\n",
      "Date:                Thu, 17 Oct 2024   Prob (F-statistic):           1.37e-08\n",
      "Time:                        00:30:40   Log-Likelihood:                -131.28\n",
      "No. Observations:                 100   AIC:                             266.6\n",
      "Df Residuals:                      98   BIC:                             271.8\n",
      "Df Model:                           1                                         \n",
      "Covariance Type:            nonrobust                                         \n",
      "==============================================================================\n",
      "                 coef    std err          t      P>|t|      [0.025      0.975]\n",
      "------------------------------------------------------------------------------\n",
      "const          1.9371      0.189     10.242      0.000       1.562       2.312\n",
      "x1             2.0771      0.335      6.196      0.000       1.412       2.742\n",
      "==============================================================================\n",
      "Omnibus:                        0.204   Durbin-Watson:                   1.931\n",
      "Prob(Omnibus):                  0.903   Jarque-Bera (JB):                0.042\n",
      "Skew:                          -0.046   Prob(JB):                        0.979\n",
      "Kurtosis:                       3.038   Cond. No.                         4.65\n",
      "==============================================================================\n",
      "\n",
      "Notes:\n",
      "[1] Standard Errors assume that the covariance matrix of the errors is correctly specified.\n",
      "\n",
      "We can reject the null hypothesis H0 : β1 = 0\n"
     ]
    }
   ],
   "source": [
    "X_x1 = sm.add_constant(x1)\n",
    "model_x1 = sm.OLS(y, X_x1).fit()\n",
    "print(model_x1.summary())\n",
    "print(\"\\nWe can reject the null hypothesis H0 : β1 = 0\")"
   ]
  },
  {
   "cell_type": "markdown",
   "id": "ca2e2362-aafd-4eb9-b0a7-2a2f319e8828",
   "metadata": {},
   "source": [
    "##### (e) Now fit a least squares regression to predict y using only x2. Comment on your results. Can you reject the null hypothesis H0 : β1 = 0?"
   ]
  },
  {
   "cell_type": "code",
   "execution_count": 5,
   "id": "94d3c83d-b55d-40b0-8d2e-2896dea87420",
   "metadata": {},
   "outputs": [
    {
     "name": "stdout",
     "output_type": "stream",
     "text": [
      "                            OLS Regression Results                            \n",
      "==============================================================================\n",
      "Dep. Variable:                      y   R-squared:                       0.222\n",
      "Model:                            OLS   Adj. R-squared:                  0.214\n",
      "Method:                 Least Squares   F-statistic:                     27.99\n",
      "Date:                Thu, 17 Oct 2024   Prob (F-statistic):           7.43e-07\n",
      "Time:                        00:30:40   Log-Likelihood:                -135.24\n",
      "No. Observations:                 100   AIC:                             274.5\n",
      "Df Residuals:                      98   BIC:                             279.7\n",
      "Df Model:                           1                                         \n",
      "Covariance Type:            nonrobust                                         \n",
      "==============================================================================\n",
      "                 coef    std err          t      P>|t|      [0.025      0.975]\n",
      "------------------------------------------------------------------------------\n",
      "const          2.3239      0.154     15.124      0.000       2.019       2.629\n",
      "x1             2.9103      0.550      5.291      0.000       1.819       4.002\n",
      "==============================================================================\n",
      "Omnibus:                        0.191   Durbin-Watson:                   1.943\n",
      "Prob(Omnibus):                  0.909   Jarque-Bera (JB):                0.373\n",
      "Skew:                          -0.034   Prob(JB):                        0.830\n",
      "Kurtosis:                       2.709   Cond. No.                         6.11\n",
      "==============================================================================\n",
      "\n",
      "Notes:\n",
      "[1] Standard Errors assume that the covariance matrix of the errors is correctly specified.\n",
      "\n",
      "We cannot reject the null hypothesis H0 : β1 = 0\n"
     ]
    }
   ],
   "source": [
    "X_x2 = sm.add_constant(x2)\n",
    "model_x2 = sm.OLS(y, X_x2).fit()\n",
    "print(model_x2.summary())\n",
    "print(\"\\nWe cannot reject the null hypothesis H0 : β1 = 0\")"
   ]
  },
  {
   "cell_type": "markdown",
   "id": "c9a68390-4922-4894-9292-b6c6d6aad6e5",
   "metadata": {},
   "source": [
    "##### (f) Do the results obtained in (c)–(e) contradict each other? Explain your answer."
   ]
  },
  {
   "cell_type": "code",
   "execution_count": 6,
   "id": "e0a32849-1972-44e7-b51b-e06ede81c5e5",
   "metadata": {},
   "outputs": [
    {
     "name": "stdout",
     "output_type": "stream",
     "text": [
      "Yes. Because β1 and β2 exist collinearity, so results obtained in (c)–(e) contradict each other.\n"
     ]
    }
   ],
   "source": [
    "print(\"Yes. Because β1 and β2 exist collinearity, so results obtained in (c)–(e) contradict each other.\")"
   ]
  },
  {
   "cell_type": "markdown",
   "id": "05c807f2-9818-44ed-a470-ddff4b9f8287",
   "metadata": {},
   "source": [
    "##### (g) Now fit a polynomial regression model that predicts y using x and x^2. Is there evidence that the quadratic term improves the model fit? Explain your answer."
   ]
  },
  {
   "cell_type": "code",
   "execution_count": 7,
   "id": "8d8f0afe-0518-4be3-996a-717c863bc71f",
   "metadata": {},
   "outputs": [
    {
     "name": "stdout",
     "output_type": "stream",
     "text": [
      "Model with x1 and x2 (with outlier):\n",
      "                            OLS Regression Results                            \n",
      "==============================================================================\n",
      "Dep. Variable:                      y   R-squared:                       0.292\n",
      "Model:                            OLS   Adj. R-squared:                  0.277\n",
      "Method:                 Least Squares   F-statistic:                     20.17\n",
      "Date:                Thu, 17 Oct 2024   Prob (F-statistic):           4.60e-08\n",
      "Time:                        00:30:40   Log-Likelihood:                -135.30\n",
      "No. Observations:                 101   AIC:                             276.6\n",
      "Df Residuals:                      98   BIC:                             284.5\n",
      "Df Model:                           2                                         \n",
      "Covariance Type:            nonrobust                                         \n",
      "==============================================================================\n",
      "                 coef    std err          t      P>|t|      [0.025      0.975]\n",
      "------------------------------------------------------------------------------\n",
      "const          2.0618      0.192     10.720      0.000       1.680       2.443\n",
      "x1             0.8575      0.466      1.838      0.069      -0.068       1.783\n",
      "x2             2.2663      0.705      3.216      0.002       0.868       3.665\n",
      "==============================================================================\n",
      "Omnibus:                        0.139   Durbin-Watson:                   1.894\n",
      "Prob(Omnibus):                  0.933   Jarque-Bera (JB):                0.320\n",
      "Skew:                           0.013   Prob(JB):                        0.852\n",
      "Kurtosis:                       2.725   Cond. No.                         9.68\n",
      "==============================================================================\n",
      "\n",
      "Notes:\n",
      "[1] Standard Errors assume that the covariance matrix of the errors is correctly specified.\n",
      "Model with x1 only (with outlier):\n",
      "                            OLS Regression Results                            \n",
      "==============================================================================\n",
      "Dep. Variable:                      y   R-squared:                       0.217\n",
      "Model:                            OLS   Adj. R-squared:                  0.209\n",
      "Method:                 Least Squares   F-statistic:                     27.42\n",
      "Date:                Thu, 17 Oct 2024   Prob (F-statistic):           9.23e-07\n",
      "Time:                        00:30:40   Log-Likelihood:                -140.37\n",
      "No. Observations:                 101   AIC:                             284.7\n",
      "Df Residuals:                      99   BIC:                             290.0\n",
      "Df Model:                           1                                         \n",
      "Covariance Type:            nonrobust                                         \n",
      "==============================================================================\n",
      "                 coef    std err          t      P>|t|      [0.025      0.975]\n",
      "------------------------------------------------------------------------------\n",
      "const          2.0739      0.201     10.310      0.000       1.675       2.473\n",
      "x1             1.8760      0.358      5.236      0.000       1.165       2.587\n",
      "==============================================================================\n",
      "Omnibus:                        8.232   Durbin-Watson:                   1.636\n",
      "Prob(Omnibus):                  0.016   Jarque-Bera (JB):               10.781\n",
      "Skew:                           0.396   Prob(JB):                      0.00456\n",
      "Kurtosis:                       4.391   Cond. No.                         4.61\n",
      "==============================================================================\n",
      "\n",
      "Notes:\n",
      "[1] Standard Errors assume that the covariance matrix of the errors is correctly specified.\n",
      "Model with x2 only (with outlier):\n",
      "                            OLS Regression Results                            \n",
      "==============================================================================\n",
      "Dep. Variable:                      y   R-squared:                       0.267\n",
      "Model:                            OLS   Adj. R-squared:                  0.260\n",
      "Method:                 Least Squares   F-statistic:                     36.10\n",
      "Date:                Thu, 17 Oct 2024   Prob (F-statistic):           3.13e-08\n",
      "Time:                        00:30:40   Log-Likelihood:                -137.01\n",
      "No. Observations:                 101   AIC:                             278.0\n",
      "Df Residuals:                      99   BIC:                             283.3\n",
      "Df Model:                           1                                         \n",
      "Covariance Type:            nonrobust                                         \n",
      "==============================================================================\n",
      "                 coef    std err          t      P>|t|      [0.025      0.975]\n",
      "------------------------------------------------------------------------------\n",
      "const          2.2840      0.151     15.088      0.000       1.984       2.584\n",
      "x1             3.1458      0.524      6.008      0.000       2.107       4.185\n",
      "==============================================================================\n",
      "Omnibus:                        0.495   Durbin-Watson:                   1.939\n",
      "Prob(Omnibus):                  0.781   Jarque-Bera (JB):                0.631\n",
      "Skew:                          -0.041   Prob(JB):                        0.729\n",
      "Kurtosis:                       2.621   Cond. No.                         5.84\n",
      "==============================================================================\n",
      "\n",
      "Notes:\n",
      "[1] Standard Errors assume that the covariance matrix of the errors is correctly specified.\n",
      "\n",
      "I think is not. Parameters in every model looks so different from others.\n"
     ]
    }
   ],
   "source": [
    "x1 = np.concatenate([x1, [0.1]])\n",
    "x2 = np.concatenate([x2, [0.8]])\n",
    "y = np.concatenate([y, [6]])\n",
    "\n",
    "X_new = np.column_stack((x1, x2))\n",
    "X_new = sm.add_constant(X_new)\n",
    "model_new = sm.OLS(y, X_new).fit()\n",
    "print(\"Model with x1 and x2 (with outlier):\")\n",
    "print(model_new.summary())\n",
    "\n",
    "X_x1_new = sm.add_constant(x1)\n",
    "model_x1_new = sm.OLS(y, X_x1_new).fit()\n",
    "print(\"Model with x1 only (with outlier):\")\n",
    "print(model_x1_new.summary())\n",
    "\n",
    "X_x2_new = sm.add_constant(x2)\n",
    "model_x2_new = sm.OLS(y, X_x2_new).fit()\n",
    "print(\"Model with x2 only (with outlier):\")\n",
    "print(model_x2_new.summary())\n",
    "\n",
    "print(\"\\nI think is not. Parameters in every model looks so different from others.\")"
   ]
  },
  {
   "cell_type": "code",
   "execution_count": null,
   "id": "f404519f-9384-4395-9201-23b1d83c638c",
   "metadata": {},
   "outputs": [],
   "source": []
  }
 ],
 "metadata": {
  "kernelspec": {
   "display_name": "Python 3 (ipykernel)",
   "language": "python",
   "name": "python3"
  },
  "language_info": {
   "codemirror_mode": {
    "name": "ipython",
    "version": 3
   },
   "file_extension": ".py",
   "mimetype": "text/x-python",
   "name": "python",
   "nbconvert_exporter": "python",
   "pygments_lexer": "ipython3",
   "version": "3.12.4"
  }
 },
 "nbformat": 4,
 "nbformat_minor": 5
}
