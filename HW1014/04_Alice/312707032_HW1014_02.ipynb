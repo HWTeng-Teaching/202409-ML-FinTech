{
 "cells": [
  {
   "cell_type": "markdown",
   "metadata": {},
   "source": [
    "## Ch03_Q14 in page 132 :Regression\n",
    "This problem focuses on the *collinearity* problem."
   ]
  },
  {
   "cell_type": "markdown",
   "metadata": {},
   "source": [
    "## Part (a)\n",
    "Perform the following commands in `Python`:   \n",
    "  \n",
    "`rng = np.random.default_rng(10)`  \n",
    "`x1 = rng.uniform(0, 1, size=100)`   \n",
    "`x2 = 0.5 * x1 + rng.normal(size=100) / 10`    \n",
    "`y = 2 + 2 * x1 + 0.3 * x2 + rng.normal(size=100)`  \n",
    "  \n",
    "The last line corresponds to creating a linear model in which `y` is a function of `x_1` and `x_2`. Write out the form of the linear model. What are the regression coefficients?"
   ]
  },
  {
   "cell_type": "code",
   "execution_count": 21,
   "metadata": {},
   "outputs": [
    {
     "name": "stdout",
     "output_type": "stream",
     "text": [
      "1) Ｔhe form of the Ｌinear Model: y = 2 + 2 * x1 + 0.3 * x2 + noise\n",
      "\n",
      "2) The Regression Coefficients:\n"
     ]
    },
    {
     "data": {
      "text/html": [
       "<div>\n",
       "<style scoped>\n",
       "    .dataframe tbody tr th:only-of-type {\n",
       "        vertical-align: middle;\n",
       "    }\n",
       "\n",
       "    .dataframe tbody tr th {\n",
       "        vertical-align: top;\n",
       "    }\n",
       "\n",
       "    .dataframe thead th {\n",
       "        text-align: right;\n",
       "    }\n",
       "</style>\n",
       "<table border=\"1\" class=\"dataframe\">\n",
       "  <thead>\n",
       "    <tr style=\"text-align: right;\">\n",
       "      <th></th>\n",
       "      <th>Coefficient</th>\n",
       "      <th>True Value</th>\n",
       "    </tr>\n",
       "  </thead>\n",
       "  <tbody>\n",
       "    <tr>\n",
       "      <th>0</th>\n",
       "      <td>Intercept</td>\n",
       "      <td>2.0</td>\n",
       "    </tr>\n",
       "    <tr>\n",
       "      <th>1</th>\n",
       "      <td>x1</td>\n",
       "      <td>2.0</td>\n",
       "    </tr>\n",
       "    <tr>\n",
       "      <th>2</th>\n",
       "      <td>x2</td>\n",
       "      <td>0.3</td>\n",
       "    </tr>\n",
       "  </tbody>\n",
       "</table>\n",
       "</div>"
      ],
      "text/plain": [
       "  Coefficient  True Value\n",
       "0   Intercept         2.0\n",
       "1          x1         2.0\n",
       "2          x2         0.3"
      ]
     },
     "execution_count": 21,
     "metadata": {},
     "output_type": "execute_result"
    }
   ],
   "source": [
    "import numpy as np\n",
    "import statsmodels.api as sm\n",
    "import pandas as pd\n",
    "\n",
    "# Generating data as per part (a)\n",
    "rng = np.random.default_rng(10)\n",
    "x1 = rng.uniform(0, 1, size=100)\n",
    "x2 = 0.5 * x1 + rng.normal(size=100) / 10\n",
    "y = 2 + 2 * x1 + 0.3 * x2 + rng.normal(size=100)\n",
    "\n",
    "# Display the linear model form and coefficients\n",
    "print(f\"1) Ｔhe form of the Ｌinear Model: y = 2 + 2 * x1 + 0.3 * x2 + noise\\n\")\n",
    "\n",
    "coefficients_df = {\n",
    "    'Coefficient': ['Intercept', 'x1', 'x2'],\n",
    "    'True Value': [2, 2, 0.3]\n",
    "}\n",
    "\n",
    "print('2) The Regression Coefficients:')\n",
    "coefficients_table = pd.DataFrame(coefficients_df)\n",
    "coefficients_table\n"
   ]
  },
  {
   "cell_type": "markdown",
   "metadata": {},
   "source": [
    "## Part (b)\n",
    "What is the correlation between `x_1` and `x_2`? Create a scatterplot displaying the relationship between the variables."
   ]
  },
  {
   "cell_type": "code",
   "execution_count": 18,
   "metadata": {},
   "outputs": [
    {
     "name": "stdout",
     "output_type": "stream",
     "text": [
      "Correlation between x1 and x2: 0.772324497691354\n"
     ]
    },
    {
     "data": {
      "image/png": "[encoded data removed]",
      "text/plain": [
       "<Figure size 640x480 with 1 Axes>"
      ]
     },
     "metadata": {},
     "output_type": "display_data"
    }
   ],
   "source": [
    "import matplotlib.pyplot as plt\n",
    "\n",
    "# Calculate correlation\n",
    "correlation = np.corrcoef(x1, x2)[0, 1]\n",
    "print(f\"Correlation between x1 and x2: {correlation}\")\n",
    "\n",
    "# Scatter plot\n",
    "plt.scatter(x1, x2)\n",
    "plt.title('Scatterplot of x1 vs. x2')\n",
    "plt.xlabel('x1')\n",
    "plt.ylabel('x2')\n",
    "plt.show()"
   ]
  },
  {
   "cell_type": "markdown",
   "metadata": {},
   "source": [
    "## Part (c)\n",
    "Using this data, fit a least squares regression to predict `y` using `x_1` and `x_2`. Describe the results obtained. What are \\hat{β_0}, \\hat{β_1}, and \\hat{β_2}? How do these relate to the true β_0, β_1, and β_2? Can you reject the null hypothesis H0 : β_1 = 0? How about the null hypothesis H0 : β_2 = 0?"
   ]
  },
  {
   "cell_type": "code",
   "execution_count": 19,
   "metadata": {},
   "outputs": [
    {
     "name": "stdout",
     "output_type": "stream",
     "text": [
      "                            OLS Regression Results                            \n",
      "==============================================================================\n",
      "Dep. Variable:                      y   R-squared:                       0.291\n",
      "Model:                            OLS   Adj. R-squared:                  0.276\n",
      "Method:                 Least Squares   F-statistic:                     19.89\n",
      "Date:                Tue, 15 Oct 2024   Prob (F-statistic):           5.76e-08\n",
      "Time:                        13:54:24   Log-Likelihood:                -130.62\n",
      "No. Observations:                 100   AIC:                             267.2\n",
      "Df Residuals:                      97   BIC:                             275.1\n",
      "Df Model:                           2                                         \n",
      "Covariance Type:            nonrobust                                         \n",
      "==============================================================================\n",
      "                 coef    std err          t      P>|t|      [0.025      0.975]\n",
      "------------------------------------------------------------------------------\n",
      "const          1.9579      0.190     10.319      0.000       1.581       2.334\n",
      "x1             1.6154      0.527      3.065      0.003       0.569       2.661\n",
      "x2             0.9428      0.831      1.134      0.259      -0.707       2.592\n",
      "==============================================================================\n",
      "Omnibus:                        0.051   Durbin-Watson:                   1.964\n",
      "Prob(Omnibus):                  0.975   Jarque-Bera (JB):                0.041\n",
      "Skew:                          -0.036   Prob(JB):                        0.979\n",
      "Kurtosis:                       2.931   Cond. No.                         11.9\n",
      "==============================================================================\n",
      "\n",
      "Notes:\n",
      "[1] Standard Errors assume that the covariance matrix of the errors is correctly specified.\n"
     ]
    }
   ],
   "source": [
    "import statsmodels.api as sm\n",
    "\n",
    "# Add a constant term for the intercept\n",
    "X = sm.add_constant(np.column_stack((x1, x2)))\n",
    "model = sm.OLS(y, X).fit()\n",
    "\n",
    "# Display results\n",
    "print(model.summary())"
   ]
  },
  {
   "cell_type": "markdown",
   "metadata": {},
   "source": [
    "### Summary of Results:\n",
    "\n",
    "- **\\(\\hat{\\beta_0} = 1.96\\)** (Intercept), **\\(\\hat{\\beta_1} = 1.62\\)**, **\\(\\hat{\\beta_2} = 0.94\\)**.\n",
    "- Compared to the true values \\(\\beta_0 = 2\\), \\(\\beta_1 = 2\\), \\(\\beta_2 = 0.3\\), the estimates are close but have some deviation.\n",
    "- **For \\( \\beta_1 \\):** p-value = 0.003, so we reject \\( H_0: \\beta_1 = 0 \\), indicating that \\(x_1\\) has a significant effect on the model.\n",
    "- **For \\( \\beta_2 \\):** p-value = 0.259, so we fail to reject \\( H_0: \\beta_2 = 0 \\), indicating that \\(x_2\\) does not significantly affect the model."
   ]
  },
  {
   "cell_type": "markdown",
   "metadata": {},
   "source": [
    "## Part (d)\n",
    "Now fit a least squares regression to predict `y` using only `x_1`. Comment on your results. Can you reject the null hypothesis H0 :β_1 =0?"
   ]
  },
  {
   "cell_type": "code",
   "execution_count": 22,
   "metadata": {},
   "outputs": [
    {
     "name": "stdout",
     "output_type": "stream",
     "text": [
      "                            OLS Regression Results                            \n",
      "==============================================================================\n",
      "Dep. Variable:                      y   R-squared:                       0.281\n",
      "Model:                            OLS   Adj. R-squared:                  0.274\n",
      "Method:                 Least Squares   F-statistic:                     38.39\n",
      "Date:                Tue, 15 Oct 2024   Prob (F-statistic):           1.37e-08\n",
      "Time:                        14:04:35   Log-Likelihood:                -131.28\n",
      "No. Observations:                 100   AIC:                             266.6\n",
      "Df Residuals:                      98   BIC:                             271.8\n",
      "Df Model:                           1                                         \n",
      "Covariance Type:            nonrobust                                         \n",
      "==============================================================================\n",
      "                 coef    std err          t      P>|t|      [0.025      0.975]\n",
      "------------------------------------------------------------------------------\n",
      "const          1.9371      0.189     10.242      0.000       1.562       2.312\n",
      "x1             2.0771      0.335      6.196      0.000       1.412       2.742\n",
      "==============================================================================\n",
      "Omnibus:                        0.204   Durbin-Watson:                   1.931\n",
      "Prob(Omnibus):                  0.903   Jarque-Bera (JB):                0.042\n",
      "Skew:                          -0.046   Prob(JB):                        0.979\n",
      "Kurtosis:                       3.038   Cond. No.                         4.65\n",
      "==============================================================================\n",
      "\n",
      "Notes:\n",
      "[1] Standard Errors assume that the covariance matrix of the errors is correctly specified.\n"
     ]
    }
   ],
   "source": [
    "# Add a constant term for the intercept\n",
    "X = sm.add_constant(x1)\n",
    "model_x1 = sm.OLS(y, X).fit()\n",
    "\n",
    "# Display results\n",
    "print(model_x1.summary())"
   ]
  },
  {
   "cell_type": "markdown",
   "metadata": {},
   "source": [
    "### Comment on Results:\n",
    "\n",
    "- **\\(\\hat{\\beta_0} = 1.94\\)** (Intercept), **\\(\\hat{\\beta_1} = 2.08\\)**.\n",
    "- The R-squared value is 0.281, meaning that about 28.1% of the variance in \\(y\\) is explained by \\(x_1\\).\n",
    "  \n",
    "### Can we reject \\( H_0: \\beta_1 = 0 \\)?\n",
    "\n",
    "- The t-statistic for \\(\\hat{\\beta_1}\\) is 6.196 with a **p-value of 0.000**. Since the p-value is much smaller than 0.05, we **reject the null hypothesis** \\( H_0: \\beta_1 = 0 \\).\n",
    "  \n",
    "This indicates that \\(x_1\\) significantly contributes to predicting \\(y\\), and there is strong evidence that \\(\\beta_1 \\neq 0\\)."
   ]
  },
  {
   "cell_type": "markdown",
   "metadata": {},
   "source": [
    "## Part (e)\n",
    "Now fit a least squares regression to predict `y` using only `x_2`. Comment on your results. Can you reject the null hypothesis H0 :β_1 =0?"
   ]
  },
  {
   "cell_type": "code",
   "execution_count": 23,
   "metadata": {},
   "outputs": [
    {
     "name": "stdout",
     "output_type": "stream",
     "text": [
      "                            OLS Regression Results                            \n",
      "==============================================================================\n",
      "Dep. Variable:                      y   R-squared:                       0.222\n",
      "Model:                            OLS   Adj. R-squared:                  0.214\n",
      "Method:                 Least Squares   F-statistic:                     27.99\n",
      "Date:                Tue, 15 Oct 2024   Prob (F-statistic):           7.43e-07\n",
      "Time:                        14:07:19   Log-Likelihood:                -135.24\n",
      "No. Observations:                 100   AIC:                             274.5\n",
      "Df Residuals:                      98   BIC:                             279.7\n",
      "Df Model:                           1                                         \n",
      "Covariance Type:            nonrobust                                         \n",
      "==============================================================================\n",
      "                 coef    std err          t      P>|t|      [0.025      0.975]\n",
      "------------------------------------------------------------------------------\n",
      "const          2.3239      0.154     15.124      0.000       2.019       2.629\n",
      "x1             2.9103      0.550      5.291      0.000       1.819       4.002\n",
      "==============================================================================\n",
      "Omnibus:                        0.191   Durbin-Watson:                   1.943\n",
      "Prob(Omnibus):                  0.909   Jarque-Bera (JB):                0.373\n",
      "Skew:                          -0.034   Prob(JB):                        0.830\n",
      "Kurtosis:                       2.709   Cond. No.                         6.11\n",
      "==============================================================================\n",
      "\n",
      "Notes:\n",
      "[1] Standard Errors assume that the covariance matrix of the errors is correctly specified.\n"
     ]
    }
   ],
   "source": [
    "# Add a constant term for the intercept\n",
    "X = sm.add_constant(x2)\n",
    "model_x2 = sm.OLS(y, X).fit()\n",
    "\n",
    "# Display results\n",
    "print(model_x2.summary())"
   ]
  },
  {
   "cell_type": "markdown",
   "metadata": {},
   "source": [
    "### Comment on Results:\n",
    "\n",
    "- **\\(\\hat{\\beta_0} = 2.32\\)** (Intercept) and **\\(\\hat{\\beta_1} = 2.91\\)**.\n",
    "- The R-squared value is 0.222, indicating that about 22.2% of the variation in \\(y\\) is explained by \\(x_1\\).\n",
    "\n",
    "### Can we reject \\( H_0: \\beta_1 = 0 \\)?\n",
    "\n",
    "- The t-statistic for \\(\\hat{\\beta_1}\\) is 5.291, with a **p-value of 0.000**. Since the p-value is far below the 0.05 significance level, we **reject the null hypothesis** \\(H_0: \\beta_1 = 0\\).\n",
    "\n",
    "This suggests that \\(x_1\\) significantly influences \\(y\\), and there is strong evidence that \\(\\beta_1\\) is not zero."
   ]
  },
  {
   "cell_type": "markdown",
   "metadata": {},
   "source": [
    "## Part (f)\n",
    "Do the results obtained in (c)–(e) contradict each other? Explain your answer."
   ]
  },
  {
   "cell_type": "markdown",
   "metadata": {},
   "source": [
    "### Explanation:\n",
    "The results do not contradict each other but indicate **multicollinearity**:\n",
    "\n",
    "- **(c)**: \\(x_1\\) is significant, \\(x_2\\) is not, meaning \\(x_1\\) has a stronger effect when both are included.\n",
    "- **(d)**: When using only \\(x_1\\), its effect is stronger, showing it captures more variance.\n",
    "- **(e)**: When using only \\(x_2\\), it becomes significant, but in (c) it is overshadowed by \\(x_1\\), likely due to multicollinearity."
   ]
  },
  {
   "cell_type": "markdown",
   "metadata": {},
   "source": [
    "## Part (g)\n",
    "Suppose we obtain one additional observation, which was unfortunately mismeasured. We use the function `np.concatenate()` to add this additional observation to each of `x_1`, `x_2` and `y`.  \n",
    "  \n",
    "`x1 = np.concatenate([x1, [0.1]])`  \n",
    "`x2 = np.concatenate([x2, [0.8]])`   \n",
    "`y = np.concatenate([y, [6]])`  \n",
    "  \n",
    "Re-fit the linear models from (c) to (e) using this new data. What effect does this new observation have on the each of the models? In each model, is this observation an outlier? A high-leverage point? Both? Explain your answers."
   ]
  },
  {
   "cell_type": "code",
   "execution_count": 28,
   "metadata": {},
   "outputs": [
    {
     "name": "stdout",
     "output_type": "stream",
     "text": [
      "Model with x1 and x2:\n",
      "                             OLS Regression Results                            \n",
      "==============================================================================\n",
      "Dep. Variable:                      y   R-squared:                       0.376\n",
      "Model:                            OLS   Adj. R-squared:                  0.364\n",
      "Method:                 Least Squares   F-statistic:                     30.47\n",
      "Date:                Tue, 15 Oct 2024   Prob (F-statistic):           4.43e-11\n",
      "Time:                        14:13:16   Log-Likelihood:                -141.36\n",
      "No. Observations:                 104   AIC:                             288.7\n",
      "Df Residuals:                     101   BIC:                             296.7\n",
      "Df Model:                           2                                         \n",
      "Covariance Type:            nonrobust                                         \n",
      "==============================================================================\n",
      "                 coef    std err          t      P>|t|      [0.025      0.975]\n",
      "------------------------------------------------------------------------------\n",
      "const          2.1613      0.192     11.243      0.000       1.780       2.543\n",
      "x1             0.1316      0.384      0.343      0.732      -0.630       0.893\n",
      "x2             3.5341      0.525      6.733      0.000       2.493       4.575\n",
      "==============================================================================\n",
      "Omnibus:                        1.685   Durbin-Watson:                   1.933\n",
      "Prob(Omnibus):                  0.431   Jarque-Bera (JB):                1.370\n",
      "Skew:                          -0.093   Prob(JB):                        0.504\n",
      "Kurtosis:                       2.469   Cond. No.                         6.97\n",
      "==============================================================================\n",
      "\n",
      "Notes:\n",
      "[1] Standard Errors assume that the covariance matrix of the errors is correctly specified.\n"
     ]
    }
   ],
   "source": [
    "# Add the mismeasured observation\n",
    "x1 = np.concatenate([x1, [0.1]])\n",
    "x2 = np.concatenate([x2, [0.8]])\n",
    "y = np.concatenate([y, [6]])\n",
    "\n",
    "# Re-fit models from parts (c) to (e)\n",
    "\n",
    "# Model (c) with both x1 and x2\n",
    "X = sm.add_constant(np.column_stack((x1, x2)))\n",
    "model = sm.OLS(y, X).fit()\n",
    "print(\"Model with x1 and x2:\\n\", model.summary())"
   ]
  },
  {
   "cell_type": "code",
   "execution_count": 29,
   "metadata": {},
   "outputs": [
    {
     "name": "stdout",
     "output_type": "stream",
     "text": [
      "\n",
      "Model with x1:\n",
      "                             OLS Regression Results                            \n",
      "==============================================================================\n",
      "Dep. Variable:                      y   R-squared:                       0.096\n",
      "Model:                            OLS   Adj. R-squared:                  0.088\n",
      "Method:                 Least Squares   F-statistic:                     10.88\n",
      "Date:                Tue, 15 Oct 2024   Prob (F-statistic):            0.00134\n",
      "Time:                        14:13:26   Log-Likelihood:                -160.64\n",
      "No. Observations:                 104   AIC:                             325.3\n",
      "Df Residuals:                     102   BIC:                             330.6\n",
      "Df Model:                           1                                         \n",
      "Covariance Type:            nonrobust                                         \n",
      "==============================================================================\n",
      "                 coef    std err          t      P>|t|      [0.025      0.975]\n",
      "------------------------------------------------------------------------------\n",
      "const          2.4389      0.225     10.845      0.000       1.993       2.885\n",
      "x1             1.3400      0.406      3.298      0.001       0.534       2.146\n",
      "==============================================================================\n",
      "Omnibus:                       15.069   Durbin-Watson:                   1.172\n",
      "Prob(Omnibus):                  0.001   Jarque-Bera (JB):               19.734\n",
      "Skew:                           0.737   Prob(JB):                     5.19e-05\n",
      "Kurtosis:                       4.543   Cond. No.                         4.51\n",
      "==============================================================================\n",
      "\n",
      "Notes:\n",
      "[1] Standard Errors assume that the covariance matrix of the errors is correctly specified.\n"
     ]
    }
   ],
   "source": [
    "# Model (d) with only x1\n",
    "X = sm.add_constant(x1)\n",
    "model_x1 = sm.OLS(y, X).fit()\n",
    "print(\"\\nModel with x1:\\n\", model_x1.summary())"
   ]
  },
  {
   "cell_type": "code",
   "execution_count": 30,
   "metadata": {},
   "outputs": [
    {
     "name": "stdout",
     "output_type": "stream",
     "text": [
      "\n",
      "Model with x2:\n",
      "                             OLS Regression Results                            \n",
      "==============================================================================\n",
      "Dep. Variable:                      y   R-squared:                       0.376\n",
      "Model:                            OLS   Adj. R-squared:                  0.369\n",
      "Method:                 Least Squares   F-statistic:                     61.35\n",
      "Date:                Tue, 15 Oct 2024   Prob (F-statistic):           4.70e-12\n",
      "Time:                        14:13:34   Log-Likelihood:                -141.42\n",
      "No. Observations:                 104   AIC:                             286.8\n",
      "Df Residuals:                     102   BIC:                             292.1\n",
      "Df Model:                           1                                         \n",
      "Covariance Type:            nonrobust                                         \n",
      "==============================================================================\n",
      "                 coef    std err          t      P>|t|      [0.025      0.975]\n",
      "------------------------------------------------------------------------------\n",
      "const          2.2040      0.146     15.115      0.000       1.915       2.493\n",
      "x1             3.6183      0.462      7.833      0.000       2.702       4.535\n",
      "==============================================================================\n",
      "Omnibus:                        1.425   Durbin-Watson:                   1.943\n",
      "Prob(Omnibus):                  0.490   Jarque-Bera (JB):                1.237\n",
      "Skew:                          -0.091   Prob(JB):                        0.539\n",
      "Kurtosis:                       2.498   Cond. No.                         5.25\n",
      "==============================================================================\n",
      "\n",
      "Notes:\n",
      "[1] Standard Errors assume that the covariance matrix of the errors is correctly specified.\n"
     ]
    }
   ],
   "source": [
    "# Model (e) with only x2\n",
    "X = sm.add_constant(x2)\n",
    "model_x2 = sm.OLS(y, X).fit()\n",
    "print(\"\\nModel with x2:\\n\", model_x2.summary())"
   ]
  },
  {
   "cell_type": "markdown",
   "metadata": {},
   "source": [
    "### Impact of New Observation on Models (c), (d), and (e):\n",
    "\n",
    "The new observation significantly affects all the models, acting as a **high-leverage point** and potentially an **outlier**. Here's how it impacts each model:\n",
    "\n",
    "1. **Model with \\(x_1\\) and \\(x_2\\) (combined model)**:\n",
    "   - **Before**: \\(x_1\\) was significant, and \\(x_2\\) was not.\n",
    "   - **After**: \\(x_1\\) becomes **insignificant** (p = 0.732), while \\(x_2\\) becomes **highly significant** (p < 0.0001).\n",
    "   - **Conclusion**: The new observation strongly influences the model by making \\(x_2\\) more dominant and diminishing the effect of \\(x_1\\), suggesting the new data point is a **high-leverage point** that shifts the balance between \\(x_1\\) and \\(x_2\\).\n",
    "\n",
    "2. **Model with \\(x_1\\) only**:\n",
    "   - **Before**: \\(x_1\\) was significant with a strong effect (p < 0.0001).\n",
    "   - **After**: The effect of \\(x_1\\) is reduced, and although it remains significant (p = 0.001), the coefficient has decreased.\n",
    "   - **Conclusion**: The new observation weakens the relationship between \\(x_1\\) and \\(y\\), indicating that it acts as an **outlier**, disrupting the original relationship.\n",
    "\n",
    "3. **Model with \\(x_2\\) only**:\n",
    "   - **Before**: \\(x_2\\) was significant, but with a smaller coefficient.\n",
    "   - **After**: The coefficient for \\(x_2\\) increases, and \\(x_2\\) becomes more significant (p < 0.0001), with the coefficient rising from \\(2.91\\) to \\(3.62\\).\n",
    "   - **Conclusion**: The new observation acts as a **high-leverage point**, strongly influencing \\(x_2\\) and increasing its predictive power in this model.\n",
    "\n",
    "### Final Summary:\n",
    "- The new observation is both an **outlier** and a **high-leverage point**.\n",
    "- It distorts the relationship between \\(x_1\\) and \\(y\\), making \\(x_1\\) less significant, while boosting \\(x_2\\)'s influence in both the combined and standalone models.\n",
    "- This shows the new data point has a disproportionate impact on all models, changing the model dynamics and affecting the balance between \\(x_1\\) and \\(x_2\\)."
   ]
  }
 ],
 "metadata": {
  "kernelspec": {
   "display_name": "base",
   "language": "python",
   "name": "python3"
  },
  "language_info": {
   "codemirror_mode": {
    "name": "ipython",
    "version": 3
   },
   "file_extension": ".py",
   "mimetype": "text/x-python",
   "name": "python",
   "nbconvert_exporter": "python",
   "pygments_lexer": "ipython3",
   "version": "3.11.4"
  },
  "orig_nbformat": 4
 },
 "nbformat": 4,
 "nbformat_minor": 2
}
