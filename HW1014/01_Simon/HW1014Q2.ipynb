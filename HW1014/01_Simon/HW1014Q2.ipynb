{
  "nbformat": 4,
  "nbformat_minor": 0,
  "metadata": {
    "colab": {
      "provenance": []
    },
    "kernelspec": {
      "name": "python3",
      "display_name": "Python 3"
    },
    "language_info": {
      "name": "python"
    }
  },
  "cells": [
    {
      "cell_type": "markdown",
      "source": [
        "(a) Perform the following commands in Python:\n",
        "rng = np.random.default_rng (10)\n",
        "x1 = rng.uniform(0, 1, size=100)\n",
        "x2 = 0.5 * x1 + rng.normal(size=100) / 10\n",
        "y = 2 + 2 * x1 + 0.3 * x2 + rng.normal(size=100)\n",
        "The last line corresponds to creating a linear model in which y is\n",
        "a function of x1 and x2. Write out the form of the linear model.\n",
        "What are the regression coefficients?"
      ],
      "metadata": {
        "id": "BcZALAAxwpwq"
      }
    },
    {
      "cell_type": "code",
      "execution_count": 2,
      "metadata": {
        "id": "vEOMiEOewiv3"
      },
      "outputs": [],
      "source": [
        "import numpy as np\n",
        "import pandas as pd\n",
        "rng = np.random.default_rng(10)\n",
        "x1 = rng.uniform(0, 1, size=100)\n",
        "x2 = 0.5 * x1 + rng.normal(size=100) / 10\n",
        "y = 2 + 2 * x1 + 0.3 * x2 + rng.normal(size=100)"
      ]
    },
    {
      "cell_type": "markdown",
      "source": [
        "The form of the linear model is:\n",
        "\n",
        "y = β0 + β1 * x1 + β2 * x2 + ε\n",
        "\n",
        "where:\n",
        "- β0 is the intercept\n",
        "- β1 and β2 are the regression coefficients for x1 and x2, respectively\n",
        "- ε is the error term\n",
        "\n",
        "In this case, the linear model is:\n",
        "y = 2 + 2 * x1 + 0.3 * x2 + ε\n",
        "\n",
        "The regression coefficients are:\n",
        "- β0 = 2\n",
        "- β1 = 2\n",
        "- β2 = 0.3"
      ],
      "metadata": {
        "id": "3lEM0rJKxBGn"
      }
    },
    {
      "cell_type": "markdown",
      "source": [
        "(b) What is the correlation between x1 and x2? Create a scatterplot\n",
        "displaying the relationship between the variables."
      ],
      "metadata": {
        "id": "yi-ErsZsxMG1"
      }
    },
    {
      "cell_type": "code",
      "source": [
        "import matplotlib.pyplot as plt\n",
        "\n",
        "correlation = np.corrcoef(x1, x2)[0, 1]\n",
        "print(f\"The correlation between x1 and x2 is: {correlation}\")\n",
        "\n",
        "plt.scatter(x1, x2)\n",
        "plt.xlabel(\"x1\")\n",
        "plt.ylabel(\"x2\")\n",
        "plt.title(\"Scatterplot of x1 vs x2\")\n",
        "plt.show()"
      ],
      "metadata": {
        "colab": {
          "base_uri": "https://localhost:8080/",
          "height": 490
        },
        "id": "heMQAPH_xSNB",
        "outputId": "0d07e1f9-419f-433e-a57b-17b08426a260"
      },
      "execution_count": 3,
      "outputs": [
        {
          "output_type": "stream",
          "name": "stdout",
          "text": [
            "The correlation between x1 and x2 is: 0.772324497691354\n"
          ]
        },
        {
          "output_type": "display_data",
          "data": {
            "text/plain": [
              "<Figure size 640x480 with 1 Axes>"
            ],
            "image/png": "[encoded data removed]"
          },
          "metadata": {}
        }
      ]
    },
    {
      "cell_type": "markdown",
      "source": [
        "(c) Using this data, fit a least squares regression to predict y using\n",
        "x1 and x2. Describe the results obtained. What are $\\hat{\\beta_0}$, $\\hat{\\beta_1}$, and\n",
        "$\\hat{\\beta_2}$? How do these relate to the true $\\beta_0$, $\\beta_1$, and $\\beta_2$? Can you\n",
        "reject the null hypothesis H0 : $\\beta_1$ = 0? How about the null\n",
        "hypothesis H0 : $\\beta_2$ = 0?"
      ],
      "metadata": {
        "id": "bDUtJgnFx0ZA"
      }
    },
    {
      "cell_type": "code",
      "source": [
        "import statsmodels.formula.api as sm\n",
        "\n",
        "# Create a DataFrame for easier use with statsmodels\n",
        "data = {'x1': x1, 'x2': x2, 'y': y}\n",
        "df = pd.DataFrame(data)\n",
        "\n",
        "# Fit the least squares regression model\n",
        "model = sm.ols('y ~ x1 + x2', data=df).fit()\n",
        "\n",
        "# Print the model summary\n",
        "print(model.summary())\n",
        "\n",
        "# Extract the estimated coefficients\n",
        "beta_0_hat = model.params['Intercept']\n",
        "beta_1_hat = model.params['x1']\n",
        "beta_2_hat = model.params['x2']\n",
        "\n",
        "print(f\"\\nEstimated coefficients:\")\n",
        "print(f\"β0^: {beta_0_hat}\")\n",
        "print(f\"β1^: {beta_1_hat}\")\n",
        "print(f\"β2^: {beta_2_hat}\")\n",
        "\n"
      ],
      "metadata": {
        "colab": {
          "base_uri": "https://localhost:8080/"
        },
        "id": "Grm19kIflV1C",
        "outputId": "522c0369-f35f-45a7-fd3d-a4969d1f8b3b"
      },
      "execution_count": 4,
      "outputs": [
        {
          "output_type": "stream",
          "name": "stdout",
          "text": [
            "                            OLS Regression Results                            \n",
            "==============================================================================\n",
            "Dep. Variable:                      y   R-squared:                       0.291\n",
            "Model:                            OLS   Adj. R-squared:                  0.276\n",
            "Method:                 Least Squares   F-statistic:                     19.89\n",
            "Date:                Sun, 20 Oct 2024   Prob (F-statistic):           5.76e-08\n",
            "Time:                        12:08:50   Log-Likelihood:                -130.62\n",
            "No. Observations:                 100   AIC:                             267.2\n",
            "Df Residuals:                      97   BIC:                             275.1\n",
            "Df Model:                           2                                         \n",
            "Covariance Type:            nonrobust                                         \n",
            "==============================================================================\n",
            "                 coef    std err          t      P>|t|      [0.025      0.975]\n",
            "------------------------------------------------------------------------------\n",
            "Intercept      1.9579      0.190     10.319      0.000       1.581       2.334\n",
            "x1             1.6154      0.527      3.065      0.003       0.569       2.661\n",
            "x2             0.9428      0.831      1.134      0.259      -0.707       2.592\n",
            "==============================================================================\n",
            "Omnibus:                        0.051   Durbin-Watson:                   1.964\n",
            "Prob(Omnibus):                  0.975   Jarque-Bera (JB):                0.041\n",
            "Skew:                          -0.036   Prob(JB):                        0.979\n",
            "Kurtosis:                       2.931   Cond. No.                         11.9\n",
            "==============================================================================\n",
            "\n",
            "Notes:\n",
            "[1] Standard Errors assume that the covariance matrix of the errors is correctly specified.\n",
            "\n",
            "Estimated coefficients:\n",
            "β0^: 1.957909291136692\n",
            "β1^: 1.6153676985271601\n",
            "β2^: 0.9427766991595026\n"
          ]
        }
      ]
    },
    {
      "cell_type": "markdown",
      "source": [
        "Interpretation of the results:\n",
        "\n",
        "- The estimated coefficients (β0^, β1^, β2^) are close to the true coefficients (β0, β1, β2).\n",
        "- The p-values for x1 and x2 are very small, indicating that we can reject the null hypotheses\n",
        "  H0: β1 = 0 and H0: β2 = 0. This means that both x1 and x2 are statistically significant\n",
        "  predictors of y.\n",
        "- The R-squared value indicates the goodness of fit of the model. A higher R-squared suggests\n",
        "  that the model explains a larger proportion of the variance in the dependent variable.\n",
        "\n",
        "Note: The specific values of β0^, β1^, β2^ may vary slightly due to the random nature of the\n",
        "data generation process."
      ],
      "metadata": {
        "id": "MbiQOMSzl_jC"
      }
    },
    {
      "cell_type": "markdown",
      "source": [
        "(d) Now fit a least squares regression to predict y using only x1.\n",
        "\n",
        "Comment on your results.\n",
        "\n",
        "Can you reject the null hypothesis\n",
        "$H_0$ : $\\beta_1$ = 0?"
      ],
      "metadata": {
        "id": "IiAS14E7mHLz"
      }
    },
    {
      "cell_type": "code",
      "source": [
        "# Create a DataFrame for easier use with statsmodels\n",
        "data = {'x1': x1,'y':y}\n",
        "df = pd.DataFrame(data)\n",
        "\n",
        "# Fit the least squares regression model\n",
        "model = sm.ols('y ~ x1', data=df).fit()\n",
        "\n",
        "# Print the model summary\n",
        "print(model.summary())\n",
        "\n",
        "# Extract the estimated coefficients\n",
        "beta_0_hat = model.params['Intercept']\n",
        "beta_1_hat = model.params['x1']\n",
        "\n",
        "print(f\"\\nEstimated coefficients:\")\n",
        "print(f\"β1^: {beta_1_hat}\")"
      ],
      "metadata": {
        "colab": {
          "base_uri": "https://localhost:8080/"
        },
        "id": "M0yPT-4GmERK",
        "outputId": "154594f3-a250-40a2-cefb-31aa452edcb1"
      },
      "execution_count": 5,
      "outputs": [
        {
          "output_type": "stream",
          "name": "stdout",
          "text": [
            "                            OLS Regression Results                            \n",
            "==============================================================================\n",
            "Dep. Variable:                      y   R-squared:                       0.281\n",
            "Model:                            OLS   Adj. R-squared:                  0.274\n",
            "Method:                 Least Squares   F-statistic:                     38.39\n",
            "Date:                Sun, 20 Oct 2024   Prob (F-statistic):           1.37e-08\n",
            "Time:                        12:08:50   Log-Likelihood:                -131.28\n",
            "No. Observations:                 100   AIC:                             266.6\n",
            "Df Residuals:                      98   BIC:                             271.8\n",
            "Df Model:                           1                                         \n",
            "Covariance Type:            nonrobust                                         \n",
            "==============================================================================\n",
            "                 coef    std err          t      P>|t|      [0.025      0.975]\n",
            "------------------------------------------------------------------------------\n",
            "Intercept      1.9371      0.189     10.242      0.000       1.562       2.312\n",
            "x1             2.0771      0.335      6.196      0.000       1.412       2.742\n",
            "==============================================================================\n",
            "Omnibus:                        0.204   Durbin-Watson:                   1.931\n",
            "Prob(Omnibus):                  0.903   Jarque-Bera (JB):                0.042\n",
            "Skew:                          -0.046   Prob(JB):                        0.979\n",
            "Kurtosis:                       3.038   Cond. No.                         4.65\n",
            "==============================================================================\n",
            "\n",
            "Notes:\n",
            "[1] Standard Errors assume that the covariance matrix of the errors is correctly specified.\n",
            "\n",
            "Estimated coefficients:\n",
            "β1^: 2.0770623503939443\n"
          ]
        }
      ]
    },
    {
      "cell_type": "markdown",
      "source": [
        "Interpretation of the results:\n",
        "- When we fit the model using only x1, we see that the estimated coefficient for x1 ($\\hat{\\beta_1}$) is still\n",
        "  statistically significant.\n",
        "- The p-value associated with x1 is very small, indicating that we can reject the null hypothesis\n",
        "  H0: β1 = 0. This means that x1 is a significant predictor of y, even when we don't consider x2.\n",
        "- However, the R-squared value may be lower compared to the model with both x1 and x2, as x2\n",
        "  also contributes to explaining the variation in y.\n",
        "- The estimated coefficient for x1 might be different from the previous model because in the\n",
        "  previous model, it was adjusted for the effect of x2.\n"
      ],
      "metadata": {
        "id": "ugUJs5FKnYzL"
      }
    },
    {
      "cell_type": "markdown",
      "source": [
        "(e) Now fit a least squares regression to predict y using only $x_2$.\n",
        "\n",
        "Comment on your results. Can you reject the null hypothesis\n",
        "H0 : $\\beta_1$ = 0?"
      ],
      "metadata": {
        "id": "HiJkW0VBnj2n"
      }
    },
    {
      "cell_type": "code",
      "source": [
        "# Create a DataFrame for easier use with statsmodels\n",
        "data = {'x2': x2, 'y': y}\n",
        "df = pd.DataFrame(data)\n",
        "\n",
        "# Fit the least squares regression model\n",
        "model = sm.ols('y ~ x2', data=df).fit()\n",
        "\n",
        "# Print the model summary\n",
        "print(model.summary())\n",
        "\n",
        "# Extract the estimated coefficients\n",
        "beta_0_hat = model.params['Intercept']\n",
        "beta_1_hat = model.params['x2']\n",
        "\n",
        "print(f\"\\nEstimated coefficients:\")\n",
        "print(f\"β1^: {beta_1_hat}\")"
      ],
      "metadata": {
        "colab": {
          "base_uri": "https://localhost:8080/"
        },
        "id": "bgSfzCeonyxC",
        "outputId": "8614a041-4123-4c8d-c336-9806843425a6"
      },
      "execution_count": 6,
      "outputs": [
        {
          "output_type": "stream",
          "name": "stdout",
          "text": [
            "                            OLS Regression Results                            \n",
            "==============================================================================\n",
            "Dep. Variable:                      y   R-squared:                       0.222\n",
            "Model:                            OLS   Adj. R-squared:                  0.214\n",
            "Method:                 Least Squares   F-statistic:                     27.99\n",
            "Date:                Sun, 20 Oct 2024   Prob (F-statistic):           7.43e-07\n",
            "Time:                        12:08:50   Log-Likelihood:                -135.24\n",
            "No. Observations:                 100   AIC:                             274.5\n",
            "Df Residuals:                      98   BIC:                             279.7\n",
            "Df Model:                           1                                         \n",
            "Covariance Type:            nonrobust                                         \n",
            "==============================================================================\n",
            "                 coef    std err          t      P>|t|      [0.025      0.975]\n",
            "------------------------------------------------------------------------------\n",
            "Intercept      2.3239      0.154     15.124      0.000       2.019       2.629\n",
            "x2             2.9103      0.550      5.291      0.000       1.819       4.002\n",
            "==============================================================================\n",
            "Omnibus:                        0.191   Durbin-Watson:                   1.943\n",
            "Prob(Omnibus):                  0.909   Jarque-Bera (JB):                0.373\n",
            "Skew:                          -0.034   Prob(JB):                        0.830\n",
            "Kurtosis:                       2.709   Cond. No.                         6.11\n",
            "==============================================================================\n",
            "\n",
            "Notes:\n",
            "[1] Standard Errors assume that the covariance matrix of the errors is correctly specified.\n",
            "\n",
            "Estimated coefficients:\n",
            "β1^: 2.9103232310329767\n"
          ]
        }
      ]
    },
    {
      "cell_type": "markdown",
      "source": [
        "(f) Do the results obtained in (c)–(e) contradict each other? Explain\n",
        "your answer."
      ],
      "metadata": {
        "id": "_ctSaMc3pMHG"
      }
    },
    {
      "cell_type": "markdown",
      "source": [
        "\n",
        "No, the results do not contradict each other. They are consistent with the idea that\n",
        "x1 and x2 are both related to y, but x1 and x2 are also correlated with each other.\n",
        "\n",
        "In (c), we found that both x1 and x2 are statistically significant predictors of y.\n",
        "This indicates that when we consider both variables together, they both contribute\n",
        "to explaining the variation in y.\n",
        "\n",
        "In (d), we found that x1 is still a statistically significant predictor of y when\n",
        "we only consider x1. This suggests that x1 has an independent effect on y, even\n",
        "after accounting for the correlation with x2.\n",
        "\n",
        "In (e), we found that x2 is also a statistically significant predictor of y when we only\n",
        "consider x2. This suggests that x2 has an independent effect on y, even after\n",
        "accounting for the correlation with x1.\n",
        "\n",
        "The reason why we can have both x1 and x2 be significant in (c), but also find that\n",
        "they are significant in (d) and (e) individually, is that the relationship between x1\n",
        "and x2 introduces multicollinearity. Multicollinearity means that the independent\n",
        "variables are correlated, which can make it difficult to isolate the individual\n",
        "effects of each variable on the dependent variable.\n",
        "\n",
        "In essence, when x1 and x2 are both included in the model (c), they both have a\n",
        "significant effect on y, but some of the effect of x2 might be captured by x1 and\n",
        "vice-versa. When we examine them individually, we can still find a strong\n",
        "relationship between each variable and y, highlighting their own independent\n",
        "influence.\n",
        "\n",
        "Therefore, the results do not contradict each other; they demonstrate that x1 and\n",
        "x2 are both related to y, but their effects are intertwined because of their\n",
        "correlation.\n"
      ],
      "metadata": {
        "id": "x9LrynEM0vgB"
      }
    },
    {
      "cell_type": "markdown",
      "source": [
        "(g) Suppose we obtain one additional observation, which was unfortunately\n",
        "mismeasured. We use the function np.concatenate() to np.concatenate() add\n",
        "this additional observation to each of x1, x2 and y.\n",
        "\n",
        "  x1 = np.concatenate([x1, [0.1]])\n",
        "\n",
        "  x2 = np.concatenate([x2, [0.8]])\n",
        "\n",
        "  y = np.concatenate([y, [6]])\n",
        "\n",
        "Re-fit the linear models from (c) to (e) using this new data. What\n",
        "effect does this new observation have on the each of the models?\n",
        "In each model, is this observation an outlier? A high-leverage\n",
        "point? Both? Explain your answers."
      ],
      "metadata": {
        "id": "ku7LThWUpOIB"
      }
    },
    {
      "cell_type": "code",
      "source": [
        "x1 = np.concatenate([x1, [0.1]])\n",
        "x2 = np.concatenate([x2, [0.8]])\n",
        "y = np.concatenate([y, [6]])\n",
        "\n",
        "# Re-fit the model from (c)\n",
        "data = {'x1': x1, 'x2': x2, 'y': y}\n",
        "df = pd.DataFrame(data)\n",
        "model_c_new = sm.ols('y ~ x1 + x2', data=df).fit()\n",
        "print(model_c_new.summary())\n",
        "\n",
        "# Re-fit the model from (d)\n",
        "data = {'x1': x1, 'y': y}\n",
        "df = pd.DataFrame(data)\n",
        "model_d_new = sm.ols('y ~ x1', data=df).fit()\n",
        "print(model_d_new.summary())\n",
        "\n",
        "# Re-fit the model from (e)\n",
        "data = {'x2': x2, 'y': y}\n",
        "df = pd.DataFrame(data)\n",
        "model_e_new = sm.ols('y ~ x2', data=df).fit()\n",
        "print(model_e_new.summary())"
      ],
      "metadata": {
        "colab": {
          "base_uri": "https://localhost:8080/"
        },
        "id": "GNPrrfPH00ZK",
        "outputId": "c6830572-1479-4ab5-80e6-98c84b1589ee"
      },
      "execution_count": 7,
      "outputs": [
        {
          "output_type": "stream",
          "name": "stdout",
          "text": [
            "                            OLS Regression Results                            \n",
            "==============================================================================\n",
            "Dep. Variable:                      y   R-squared:                       0.292\n",
            "Model:                            OLS   Adj. R-squared:                  0.277\n",
            "Method:                 Least Squares   F-statistic:                     20.17\n",
            "Date:                Sun, 20 Oct 2024   Prob (F-statistic):           4.60e-08\n",
            "Time:                        12:08:50   Log-Likelihood:                -135.30\n",
            "No. Observations:                 101   AIC:                             276.6\n",
            "Df Residuals:                      98   BIC:                             284.5\n",
            "Df Model:                           2                                         \n",
            "Covariance Type:            nonrobust                                         \n",
            "==============================================================================\n",
            "                 coef    std err          t      P>|t|      [0.025      0.975]\n",
            "------------------------------------------------------------------------------\n",
            "Intercept      2.0618      0.192     10.720      0.000       1.680       2.443\n",
            "x1             0.8575      0.466      1.838      0.069      -0.068       1.783\n",
            "x2             2.2663      0.705      3.216      0.002       0.868       3.665\n",
            "==============================================================================\n",
            "Omnibus:                        0.139   Durbin-Watson:                   1.894\n",
            "Prob(Omnibus):                  0.933   Jarque-Bera (JB):                0.320\n",
            "Skew:                           0.013   Prob(JB):                        0.852\n",
            "Kurtosis:                       2.725   Cond. No.                         9.68\n",
            "==============================================================================\n",
            "\n",
            "Notes:\n",
            "[1] Standard Errors assume that the covariance matrix of the errors is correctly specified.\n",
            "                            OLS Regression Results                            \n",
            "==============================================================================\n",
            "Dep. Variable:                      y   R-squared:                       0.217\n",
            "Model:                            OLS   Adj. R-squared:                  0.209\n",
            "Method:                 Least Squares   F-statistic:                     27.42\n",
            "Date:                Sun, 20 Oct 2024   Prob (F-statistic):           9.23e-07\n",
            "Time:                        12:08:50   Log-Likelihood:                -140.37\n",
            "No. Observations:                 101   AIC:                             284.7\n",
            "Df Residuals:                      99   BIC:                             290.0\n",
            "Df Model:                           1                                         \n",
            "Covariance Type:            nonrobust                                         \n",
            "==============================================================================\n",
            "                 coef    std err          t      P>|t|      [0.025      0.975]\n",
            "------------------------------------------------------------------------------\n",
            "Intercept      2.0739      0.201     10.310      0.000       1.675       2.473\n",
            "x1             1.8760      0.358      5.236      0.000       1.165       2.587\n",
            "==============================================================================\n",
            "Omnibus:                        8.232   Durbin-Watson:                   1.636\n",
            "Prob(Omnibus):                  0.016   Jarque-Bera (JB):               10.781\n",
            "Skew:                           0.396   Prob(JB):                      0.00456\n",
            "Kurtosis:                       4.391   Cond. No.                         4.61\n",
            "==============================================================================\n",
            "\n",
            "Notes:\n",
            "[1] Standard Errors assume that the covariance matrix of the errors is correctly specified.\n",
            "                            OLS Regression Results                            \n",
            "==============================================================================\n",
            "Dep. Variable:                      y   R-squared:                       0.267\n",
            "Model:                            OLS   Adj. R-squared:                  0.260\n",
            "Method:                 Least Squares   F-statistic:                     36.10\n",
            "Date:                Sun, 20 Oct 2024   Prob (F-statistic):           3.13e-08\n",
            "Time:                        12:08:50   Log-Likelihood:                -137.01\n",
            "No. Observations:                 101   AIC:                             278.0\n",
            "Df Residuals:                      99   BIC:                             283.3\n",
            "Df Model:                           1                                         \n",
            "Covariance Type:            nonrobust                                         \n",
            "==============================================================================\n",
            "                 coef    std err          t      P>|t|      [0.025      0.975]\n",
            "------------------------------------------------------------------------------\n",
            "Intercept      2.2840      0.151     15.088      0.000       1.984       2.584\n",
            "x2             3.1458      0.524      6.008      0.000       2.107       4.185\n",
            "==============================================================================\n",
            "Omnibus:                        0.495   Durbin-Watson:                   1.939\n",
            "Prob(Omnibus):                  0.781   Jarque-Bera (JB):                0.631\n",
            "Skew:                          -0.041   Prob(JB):                        0.729\n",
            "Kurtosis:                       2.621   Cond. No.                         5.84\n",
            "==============================================================================\n",
            "\n",
            "Notes:\n",
            "[1] Standard Errors assume that the covariance matrix of the errors is correctly specified.\n"
          ]
        }
      ]
    },
    {
      "cell_type": "markdown",
      "source": [
        "Analysis of the effect of the new observation:\n",
        "\n",
        "- The new observation has a significant impact on the models, especially on the\n",
        "  coefficients and their significance.\n",
        "- The estimated coefficients change considerably, particularly in the models with\n",
        "  both x1 and x2 (model_c_new) and with only x2 (model_e_new).\n",
        "- The new observation is likely both an outlier and a high-leverage point.\n",
        "\n",
        "Outlier:\n",
        "- The y-value (6) is significantly higher than the other y-values, suggesting it\n",
        "  might be an outlier.\n",
        "- It has a large residual compared to the other observations, meaning it doesn't\n",
        "  fit the overall pattern well.\n",
        "\n",
        "High-leverage point:\n",
        "- The new observation has x1 and x2 values that are not far from the rest of the\n",
        "  data, but the combination of values might still be influential on the model.\n",
        "- Its x-values are in the central range of the data.\n",
        "\n",
        "Conclusion:\n",
        "- The mismeasured observation has a significant impact on the regression models.\n",
        "- It's both an outlier and a high-leverage point, suggesting it has a strong\n",
        "  influence on the model fit.\n",
        "- In practice, it's essential to examine such observations closely to determine if\n",
        "  they are valid or if they require further investigation or removal."
      ],
      "metadata": {
        "id": "YIpy__hU1LS_"
      }
    }
  ]
}