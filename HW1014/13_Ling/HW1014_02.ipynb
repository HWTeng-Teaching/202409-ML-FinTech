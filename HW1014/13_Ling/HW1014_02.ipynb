{
  "nbformat": 4,
  "nbformat_minor": 0,
  "metadata": {
    "colab": {
      "provenance": []
    },
    "kernelspec": {
      "name": "python3",
      "display_name": "Python 3"
    },
    "language_info": {
      "name": "python"
    }
  },
  "cells": [
    {
      "cell_type": "markdown",
      "source": [
        "# Ch03_Q14\n",
        "## This problem focuses on the collinearity problem."
      ],
      "metadata": {
        "id": "9ZVY3uDKRBoj"
      }
    },
    {
      "cell_type": "markdown",
      "source": [
        "## (a) Perform the following commands in Python:\n",
        "###     rng = np.random.default_rng(10)\n",
        "###     x1 = rng.uniform(0, 1, size=100)\n",
        "###     x2 = 0.5 * x1 + rng.normal(size=100) / 10\n",
        "###     y = 2 + 2 * x1 + 0.3 * x2 + rng.normal(size=100)\n",
        "##    The last line corresponds to creating a linear model in which y is a function of x1 and x2. Write out the form of the linear model. What are the regression coefcients?"
      ],
      "metadata": {
        "id": "6PP8XsqSRT69"
      }
    },
    {
      "cell_type": "code",
      "execution_count": 5,
      "metadata": {
        "colab": {
          "base_uri": "https://localhost:8080/"
        },
        "id": "HpHRR3rwQ8eV",
        "outputId": "c55e3689-37da-4f67-f420-ffb79f0278bc"
      },
      "outputs": [
        {
          "output_type": "stream",
          "name": "stdout",
          "text": [
            "regression coefcients: β0 = 2, β1 = 2, β2 = 0.3\n"
          ]
        }
      ],
      "source": [
        "import numpy as np\n",
        "\n",
        "# Initialize the random number generator with a fixed seed\n",
        "rng = np.random.default_rng(10)\n",
        "\n",
        "# Generate random data for x1 and x2\n",
        "x1 = rng.uniform(0, 1, size=100)\n",
        "x2 = 0.5 * x1 + rng.normal(size=100) / 10\n",
        "\n",
        "# Generate the dependent variable y based on the linear model\n",
        "y = 2 + 2 * x1 + 0.3 * x2 + rng.normal(size=100)\n",
        "\n",
        "# The linear model is: y = 2 + 2 * x1 + 0.3 * x2 + ε\n",
        "# β0 = 2, β1 = 2, β2 = 0.3, and ε is the random noise term\n",
        "print(\"regression coefcients: β0 = 2, β1 = 2, β2 = 0.3\")"
      ]
    },
    {
      "cell_type": "markdown",
      "source": [
        "## (b) What is the correlation between x1 and x2? Create a scatterplot displaying the relationship between the variables."
      ],
      "metadata": {
        "id": "vM8vRK2bSnZj"
      }
    },
    {
      "cell_type": "code",
      "source": [
        "import matplotlib.pyplot as plt\n",
        "\n",
        "# 計算 x1 和 x2 之間的相關係數\n",
        "correlation = np.corrcoef(x1, x2)[0, 1]\n",
        "\n",
        "# 繪製 x1 與 x2 的散佈圖\n",
        "plt.scatter(x1, x2, color='blue')\n",
        "plt.title(f'Scatter plot of x1 vs x2 (Correlation: {correlation:.2f})')\n",
        "plt.xlabel('x1')\n",
        "plt.ylabel('x2')\n",
        "plt.grid(True)\n",
        "plt.show()\n",
        "\n",
        "# 顯示相關係數\n",
        "print(f'Correlation between x1 and x2: {correlation:.2f}')\n"
      ],
      "metadata": {
        "colab": {
          "base_uri": "https://localhost:8080/",
          "height": 489
        },
        "id": "vFjdZw1_SwrD",
        "outputId": "883d73c4-b679-40a2-ec61-7c3529e8ef02"
      },
      "execution_count": 6,
      "outputs": [
        {
          "output_type": "display_data",
          "data": {
            "text/plain": [
              "<Figure size 640x480 with 1 Axes>"
            ],
            "image/png": "[encoded data removed]"
          },
          "metadata": {}
        },
        {
          "output_type": "stream",
          "name": "stdout",
          "text": [
            "Correlation between x1 and x2: 0.77\n"
          ]
        }
      ]
    },
    {
      "cell_type": "markdown",
      "source": [
        "## (c) Using this data, fit a least squares regression to predict y using x1 and x2. Describe the results obtained. What are βˆ0, βˆ1, and βˆ2? How do these relate to the true β0, β1, and β2? Can you reject the null hypothesis H0 : β1 = 0? How about the null hypothesis H0 : β2 = 0?"
      ],
      "metadata": {
        "id": "04NqRcNXTv6z"
      }
    },
    {
      "cell_type": "code",
      "source": [
        "import statsmodels.api as sm\n",
        "\n",
        "# 設定 X 矩陣（包含截距項）\n",
        "X = np.column_stack((x1, x2))\n",
        "X = sm.add_constant(X)  # Adds the intercept term\n",
        "\n",
        "# 建立線性回歸模型\n",
        "model = sm.OLS(y, X).fit()\n",
        "\n",
        "# 印出回歸結果\n",
        "print(model.summary())\n",
        "\n",
        "# 提取迴歸係數\n",
        "beta_0_hat, beta_1_hat, beta_2_hat = model.params\n",
        "print(f\"Estimated coefficients: βˆ0 = {beta_0_hat:.2f}, βˆ1 = {beta_1_hat:.2f}, βˆ2 = {beta_2_hat:.2f}\")\n",
        "print(\"\\nThe estimated values are close to the true values, but there is some discrepancy.\")\n",
        "print(\"\\nThe null hypothesis H0: β1 = 0 can be rejected.\")\n",
        "print(\"\\nThe null hypothesis H0: β2 = 0 cannot be rejected.\")\n"
      ],
      "metadata": {
        "colab": {
          "base_uri": "https://localhost:8080/"
        },
        "id": "RzW_rQiZT7dp",
        "outputId": "3698dfb0-f14d-420a-b1a4-45e628e47f3a"
      },
      "execution_count": 7,
      "outputs": [
        {
          "output_type": "stream",
          "name": "stdout",
          "text": [
            "                            OLS Regression Results                            \n",
            "==============================================================================\n",
            "Dep. Variable:                      y   R-squared:                       0.291\n",
            "Model:                            OLS   Adj. R-squared:                  0.276\n",
            "Method:                 Least Squares   F-statistic:                     19.89\n",
            "Date:                Sat, 19 Oct 2024   Prob (F-statistic):           5.76e-08\n",
            "Time:                        14:04:16   Log-Likelihood:                -130.62\n",
            "No. Observations:                 100   AIC:                             267.2\n",
            "Df Residuals:                      97   BIC:                             275.1\n",
            "Df Model:                           2                                         \n",
            "Covariance Type:            nonrobust                                         \n",
            "==============================================================================\n",
            "                 coef    std err          t      P>|t|      [0.025      0.975]\n",
            "------------------------------------------------------------------------------\n",
            "const          1.9579      0.190     10.319      0.000       1.581       2.334\n",
            "x1             1.6154      0.527      3.065      0.003       0.569       2.661\n",
            "x2             0.9428      0.831      1.134      0.259      -0.707       2.592\n",
            "==============================================================================\n",
            "Omnibus:                        0.051   Durbin-Watson:                   1.964\n",
            "Prob(Omnibus):                  0.975   Jarque-Bera (JB):                0.041\n",
            "Skew:                          -0.036   Prob(JB):                        0.979\n",
            "Kurtosis:                       2.931   Cond. No.                         11.9\n",
            "==============================================================================\n",
            "\n",
            "Notes:\n",
            "[1] Standard Errors assume that the covariance matrix of the errors is correctly specified.\n",
            "Estimated coefficients: βˆ0 = 1.96, βˆ1 = 1.62, βˆ2 = 0.94\n",
            "\n",
            "The estimated values are close to the true values, but there is some discrepancy.\n",
            "\n",
            "The null hypothesis H0: β1 = 0 can be rejected.\n",
            "\n",
            "The null hypothesis H0: β2 = 0 cannot be rejected.\n"
          ]
        }
      ]
    },
    {
      "cell_type": "markdown",
      "source": [
        "## (d)  Now fit a least squares regression to predict y using only x1. Comment on your results. Can you reject the null hypothesis H0 : β1 = 0?"
      ],
      "metadata": {
        "id": "zPoQX58mV7DI"
      }
    },
    {
      "cell_type": "code",
      "source": [
        "# Using only x1 to predict y\n",
        "X_single = sm.add_constant(x1)  # Adding intercept to the model\n",
        "model_single = sm.OLS(y, X_single).fit()  # Fit the model\n",
        "\n",
        "# Print regression results\n",
        "print(model_single.summary())\n",
        "\n",
        "# Extract estimated coefficients for β0 and β1\n",
        "beta_0_hat_single, beta_1_hat_single = model_single.params\n",
        "print(f\"Estimated coefficients using only x1: βˆ0 = {beta_0_hat_single:.2f}, βˆ1 = {beta_1_hat_single:.2f}\")\n",
        "print(\"\\nThe null hypothesis H0 : β1 = 0 can be rejected, because p-value is small.\")\n"
      ],
      "metadata": {
        "colab": {
          "base_uri": "https://localhost:8080/"
        },
        "id": "OhQVrw8XWHF1",
        "outputId": "daab50e6-528f-4dab-e336-eb9cf471bc25"
      },
      "execution_count": 8,
      "outputs": [
        {
          "output_type": "stream",
          "name": "stdout",
          "text": [
            "                            OLS Regression Results                            \n",
            "==============================================================================\n",
            "Dep. Variable:                      y   R-squared:                       0.281\n",
            "Model:                            OLS   Adj. R-squared:                  0.274\n",
            "Method:                 Least Squares   F-statistic:                     38.39\n",
            "Date:                Sat, 19 Oct 2024   Prob (F-statistic):           1.37e-08\n",
            "Time:                        14:04:21   Log-Likelihood:                -131.28\n",
            "No. Observations:                 100   AIC:                             266.6\n",
            "Df Residuals:                      98   BIC:                             271.8\n",
            "Df Model:                           1                                         \n",
            "Covariance Type:            nonrobust                                         \n",
            "==============================================================================\n",
            "                 coef    std err          t      P>|t|      [0.025      0.975]\n",
            "------------------------------------------------------------------------------\n",
            "const          1.9371      0.189     10.242      0.000       1.562       2.312\n",
            "x1             2.0771      0.335      6.196      0.000       1.412       2.742\n",
            "==============================================================================\n",
            "Omnibus:                        0.204   Durbin-Watson:                   1.931\n",
            "Prob(Omnibus):                  0.903   Jarque-Bera (JB):                0.042\n",
            "Skew:                          -0.046   Prob(JB):                        0.979\n",
            "Kurtosis:                       3.038   Cond. No.                         4.65\n",
            "==============================================================================\n",
            "\n",
            "Notes:\n",
            "[1] Standard Errors assume that the covariance matrix of the errors is correctly specified.\n",
            "Estimated coefficients using only x1: βˆ0 = 1.94, βˆ1 = 2.08\n",
            "\n",
            "The null hypothesis H0 : β1 = 0 can be rejected, because p-value is small.\n"
          ]
        }
      ]
    },
    {
      "cell_type": "markdown",
      "source": [
        "## (e) Now fit a least squares regression to predict y using only x2. Comment on your results. Can you reject the null hypothesis H0 : β1 = 0?"
      ],
      "metadata": {
        "id": "c2AEp_P0XGIN"
      }
    },
    {
      "cell_type": "code",
      "source": [
        "# Using only x2 to predict y\n",
        "X_x2_only = sm.add_constant(x2)  # Adding intercept to the model\n",
        "model_x2_only = sm.OLS(y, X_x2_only).fit()  # Fit the model\n",
        "\n",
        "# Print regression results\n",
        "print(model_x2_only.summary())\n",
        "\n",
        "# Extract estimated coefficients for β0 and β2\n",
        "beta_0_hat_x2, beta_2_hat_x2 = model_x2_only.params\n",
        "print(f\"Estimated coefficients using only x2: βˆ0 = {beta_0_hat_x2:.2f}, βˆ2 = {beta_2_hat_x2:.2f}\")\n",
        "print(\"\\nThe null hypothesis H0 : β1 = 0 can be rejected, because p-value is small.\")\n"
      ],
      "metadata": {
        "colab": {
          "base_uri": "https://localhost:8080/"
        },
        "id": "Y-oVJuuEXSUf",
        "outputId": "34c4e458-903d-4355-a590-bd17c42bd30d"
      },
      "execution_count": 9,
      "outputs": [
        {
          "output_type": "stream",
          "name": "stdout",
          "text": [
            "                            OLS Regression Results                            \n",
            "==============================================================================\n",
            "Dep. Variable:                      y   R-squared:                       0.222\n",
            "Model:                            OLS   Adj. R-squared:                  0.214\n",
            "Method:                 Least Squares   F-statistic:                     27.99\n",
            "Date:                Sat, 19 Oct 2024   Prob (F-statistic):           7.43e-07\n",
            "Time:                        14:04:25   Log-Likelihood:                -135.24\n",
            "No. Observations:                 100   AIC:                             274.5\n",
            "Df Residuals:                      98   BIC:                             279.7\n",
            "Df Model:                           1                                         \n",
            "Covariance Type:            nonrobust                                         \n",
            "==============================================================================\n",
            "                 coef    std err          t      P>|t|      [0.025      0.975]\n",
            "------------------------------------------------------------------------------\n",
            "const          2.3239      0.154     15.124      0.000       2.019       2.629\n",
            "x1             2.9103      0.550      5.291      0.000       1.819       4.002\n",
            "==============================================================================\n",
            "Omnibus:                        0.191   Durbin-Watson:                   1.943\n",
            "Prob(Omnibus):                  0.909   Jarque-Bera (JB):                0.373\n",
            "Skew:                          -0.034   Prob(JB):                        0.830\n",
            "Kurtosis:                       2.709   Cond. No.                         6.11\n",
            "==============================================================================\n",
            "\n",
            "Notes:\n",
            "[1] Standard Errors assume that the covariance matrix of the errors is correctly specified.\n",
            "Estimated coefficients using only x2: βˆ0 = 2.32, βˆ2 = 2.91\n",
            "\n",
            "The null hypothesis H0 : β1 = 0 can be rejected, because p-value is small.\n"
          ]
        }
      ]
    },
    {
      "cell_type": "markdown",
      "source": [
        "## (f) Do the results obtained in (c)–(e) contradict each other? Explain your answer."
      ],
      "metadata": {
        "id": "EDlSTPxHBnZO"
      }
    },
    {
      "cell_type": "code",
      "source": [
        "print(\"These results are not contradictory; they show the different roles that x1 and x2 play in explaining y.\")\n",
        "print(\"When both variables are used together, x1 is more predictive, while x2 contributes little. However, when they are used individually, both have an effect on y.\")"
      ],
      "metadata": {
        "colab": {
          "base_uri": "https://localhost:8080/"
        },
        "id": "4OwE4oVKBuso",
        "outputId": "3407c81a-b9eb-4bdc-acbf-00046f6a34e4"
      },
      "execution_count": 10,
      "outputs": [
        {
          "output_type": "stream",
          "name": "stdout",
          "text": [
            "These results are not contradictory; they show the different roles that x1 and x2 play in explaining y.\n",
            "When both variables are used together, x1 is more predictive, while x2 contributes little. However, when they are used individually, both have an effect on y.\n"
          ]
        }
      ]
    },
    {
      "cell_type": "markdown",
      "source": [
        "## (g)  Suppose we obtain one additional observation, which was unfortunately mismeasured. We use the function np.concatenate() to add this additional observation to each of x1, x2 and y.\n",
        "### x1 = np.concatenate([x1, [0.1]])\n",
        "### x2 = np.concatenate([x2, [0.8]])\n",
        "### y = np.concatenate([y, [6]])\n",
        "## Re-ft the linear models from (c) to (e) using this new data. What effect does this new observation have on the each of the models? In each model, is this observation an outlier? A high-leverage point? Both? Explain your answers."
      ],
      "metadata": {
        "id": "3K-yCjyxE-qo"
      }
    },
    {
      "cell_type": "code",
      "source": [
        "# Concatenate the new observation to the existing data\n",
        "x1_new = np.concatenate([x1, [0.1]])\n",
        "x2_new = np.concatenate([x2, [0.8]])\n",
        "y_new = np.concatenate([y, [6]])\n",
        "\n",
        "# Adding a constant for the intercept term\n",
        "X_both = sm.add_constant(np.column_stack((x1_new, x2_new)))\n",
        "\n",
        "# Re-fit model with both x1 and x2\n",
        "model_both_new = sm.OLS(y_new, X_both).fit()\n",
        "\n",
        "# Re-fit model with only x1\n",
        "X_x1_new = sm.add_constant(x1_new)\n",
        "model_x1_new = sm.OLS(y_new, X_x1_new).fit()\n",
        "\n",
        "# Re-fit model with only x2\n",
        "X_x2_new = sm.add_constant(x2_new)\n",
        "model_x2_new = sm.OLS(y_new, X_x2_new).fit()\n",
        "\n",
        "# Display the summary of the results\n",
        "print(\"model with x1 and x2:\")\n",
        "print(model_both_new.summary())\n",
        "print(\"\\nmodel with only x1:\")\n",
        "print(model_x1_new.summary())\n",
        "print(\"\\nmodel with only x2:\")\n",
        "print(model_x2_new.summary())"
      ],
      "metadata": {
        "colab": {
          "base_uri": "https://localhost:8080/"
        },
        "id": "QlKQjQSWFj8d",
        "outputId": "60df55f0-d016-4aa8-9f01-2b4bc264c982"
      },
      "execution_count": 12,
      "outputs": [
        {
          "output_type": "stream",
          "name": "stdout",
          "text": [
            "model with x1 and x2:\n",
            "                            OLS Regression Results                            \n",
            "==============================================================================\n",
            "Dep. Variable:                      y   R-squared:                       0.292\n",
            "Model:                            OLS   Adj. R-squared:                  0.277\n",
            "Method:                 Least Squares   F-statistic:                     20.17\n",
            "Date:                Sat, 19 Oct 2024   Prob (F-statistic):           4.60e-08\n",
            "Time:                        14:06:46   Log-Likelihood:                -135.30\n",
            "No. Observations:                 101   AIC:                             276.6\n",
            "Df Residuals:                      98   BIC:                             284.5\n",
            "Df Model:                           2                                         \n",
            "Covariance Type:            nonrobust                                         \n",
            "==============================================================================\n",
            "                 coef    std err          t      P>|t|      [0.025      0.975]\n",
            "------------------------------------------------------------------------------\n",
            "const          2.0618      0.192     10.720      0.000       1.680       2.443\n",
            "x1             0.8575      0.466      1.838      0.069      -0.068       1.783\n",
            "x2             2.2663      0.705      3.216      0.002       0.868       3.665\n",
            "==============================================================================\n",
            "Omnibus:                        0.139   Durbin-Watson:                   1.894\n",
            "Prob(Omnibus):                  0.933   Jarque-Bera (JB):                0.320\n",
            "Skew:                           0.013   Prob(JB):                        0.852\n",
            "Kurtosis:                       2.725   Cond. No.                         9.68\n",
            "==============================================================================\n",
            "\n",
            "Notes:\n",
            "[1] Standard Errors assume that the covariance matrix of the errors is correctly specified.\n",
            "\n",
            "model with only x1:\n",
            "                            OLS Regression Results                            \n",
            "==============================================================================\n",
            "Dep. Variable:                      y   R-squared:                       0.217\n",
            "Model:                            OLS   Adj. R-squared:                  0.209\n",
            "Method:                 Least Squares   F-statistic:                     27.42\n",
            "Date:                Sat, 19 Oct 2024   Prob (F-statistic):           9.23e-07\n",
            "Time:                        14:06:46   Log-Likelihood:                -140.37\n",
            "No. Observations:                 101   AIC:                             284.7\n",
            "Df Residuals:                      99   BIC:                             290.0\n",
            "Df Model:                           1                                         \n",
            "Covariance Type:            nonrobust                                         \n",
            "==============================================================================\n",
            "                 coef    std err          t      P>|t|      [0.025      0.975]\n",
            "------------------------------------------------------------------------------\n",
            "const          2.0739      0.201     10.310      0.000       1.675       2.473\n",
            "x1             1.8760      0.358      5.236      0.000       1.165       2.587\n",
            "==============================================================================\n",
            "Omnibus:                        8.232   Durbin-Watson:                   1.636\n",
            "Prob(Omnibus):                  0.016   Jarque-Bera (JB):               10.781\n",
            "Skew:                           0.396   Prob(JB):                      0.00456\n",
            "Kurtosis:                       4.391   Cond. No.                         4.61\n",
            "==============================================================================\n",
            "\n",
            "Notes:\n",
            "[1] Standard Errors assume that the covariance matrix of the errors is correctly specified.\n",
            "\n",
            "model with only x2:\n",
            "                            OLS Regression Results                            \n",
            "==============================================================================\n",
            "Dep. Variable:                      y   R-squared:                       0.267\n",
            "Model:                            OLS   Adj. R-squared:                  0.260\n",
            "Method:                 Least Squares   F-statistic:                     36.10\n",
            "Date:                Sat, 19 Oct 2024   Prob (F-statistic):           3.13e-08\n",
            "Time:                        14:06:46   Log-Likelihood:                -137.01\n",
            "No. Observations:                 101   AIC:                             278.0\n",
            "Df Residuals:                      99   BIC:                             283.3\n",
            "Df Model:                           1                                         \n",
            "Covariance Type:            nonrobust                                         \n",
            "==============================================================================\n",
            "                 coef    std err          t      P>|t|      [0.025      0.975]\n",
            "------------------------------------------------------------------------------\n",
            "const          2.2840      0.151     15.088      0.000       1.984       2.584\n",
            "x1             3.1458      0.524      6.008      0.000       2.107       4.185\n",
            "==============================================================================\n",
            "Omnibus:                        0.495   Durbin-Watson:                   1.939\n",
            "Prob(Omnibus):                  0.781   Jarque-Bera (JB):                0.631\n",
            "Skew:                          -0.041   Prob(JB):                        0.729\n",
            "Kurtosis:                       2.621   Cond. No.                         5.84\n",
            "==============================================================================\n",
            "\n",
            "Notes:\n",
            "[1] Standard Errors assume that the covariance matrix of the errors is correctly specified.\n"
          ]
        }
      ]
    }
  ]
}